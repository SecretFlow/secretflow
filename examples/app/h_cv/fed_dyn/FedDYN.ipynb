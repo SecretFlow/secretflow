{
    "cells": [
        {
            "cell_type": "code",
            "execution_count": 1,
            "id": "initial_id",
            "metadata": {
                "collapsed": true,
                "ExecuteTime": {
                    "end_time": "2023-12-28T03:05:41.140695300Z",
                    "start_time": "2023-12-28T03:05:41.113000700Z",
                },
            },
            "outputs": [],
            "source": ["%load_ext autoreload\n", "%autoreload 2"],
        },
        {
            "cell_type": "code",
            "execution_count": 2,
            "outputs": [
                {
                    "name": "stdout",
                    "output_type": "stream",
                    "text": ["The version of SecretFlow: 1.3.0.dev20231206\n"],
                },
                {
                    "name": "stderr",
                    "output_type": "stream",
                    "text": [
                        "2023-12-28 03:05:47,354\tINFO worker.py:1538 -- Started a local Ray instance.\n"
                    ],
                },
            ],
            "source": [
                "import secretflow as sf\n",
                "\n",
                "# Check the version of your SecretFlow\n",
                "print('The version of SecretFlow: {}'.format(sf.__version__))\n",
                "\n",
                "# In case you have a running secretflow runtime already.\n",
                "sf.shutdown()\n",
                "\n",
                "sf.init(['alice', 'bob', 'charlie'], address='local')\n",
                "alice, bob, charlie = sf.PYU('alice'), sf.PYU('bob'), sf.PYU('charlie')",
            ],
            "metadata": {
                "collapsed": false,
                "ExecuteTime": {
                    "end_time": "2023-12-28T03:05:49.497786800Z",
                    "start_time": "2023-12-28T03:05:41.113995800Z",
                },
            },
            "id": "a8d7112513230b37",
        },
        {
            "cell_type": "code",
            "execution_count": 3,
            "outputs": [
                {
                    "name": "stderr",
                    "output_type": "stream",
                    "text": [
                        "2023-12-28 03:05:50.903188: W tensorflow/compiler/xla/stream_executor/platform/default/dso_loader.cc:64] Could not load dynamic library 'libcudart.so.11.0'; dlerror: libcudart.so.11.0: cannot open shared object file: No such file or directory\n",
                        "2023-12-28 03:05:52.069976: W tensorflow/compiler/xla/stream_executor/platform/default/dso_loader.cc:64] Could not load dynamic library 'libnvinfer.so.7'; dlerror: libnvinfer.so.7: cannot open shared object file: No such file or directory\n",
                        "2023-12-28 03:05:52.070075: W tensorflow/compiler/xla/stream_executor/platform/default/dso_loader.cc:64] Could not load dynamic library 'libnvinfer_plugin.so.7'; dlerror: libnvinfer_plugin.so.7: cannot open shared object file: No such file or directory\n",
                        "2023-12-28 03:05:52.070083: W tensorflow/compiler/tf2tensorrt/utils/py_utils.cc:38] TF-TRT Warning: Cannot dlopen some TensorRT libraries. If you would like to use Nvidia GPU with TensorRT, please make sure the missing libraries mentioned above are installed properly.\n",
                    ],
                }
            ],
            "source": [
                "from secretflow.ml.nn.utils import BaseModule, TorchModel\n",
                "from secretflow.ml.nn.fl.utils import metric_wrapper, optim_wrapper\n",
                "from secretflow.ml.nn import FLModel\n",
                "from torchmetrics import Accuracy, Precision\n",
                "from secretflow.security.aggregation import SecureAggregator\n",
                "from torch import nn, optim",
            ],
            "metadata": {
                "collapsed": false,
                "ExecuteTime": {
                    "end_time": "2023-12-28T03:05:54.696784700Z",
                    "start_time": "2023-12-28T03:05:49.499039500Z",
                },
            },
            "id": "3648cba75ddcff80",
        },
        {
            "cell_type": "markdown",
            "source": [
                "使用的数据集： MNIST, EMNIST子集： EMNIST-L\n",
                "使用的模型： 对 MNIST 和 EMNIST-L 使用具有 2 个隐藏层的全连接神经网络架构。 各层神经元数量分别为200和100；MNIST和EMNIST-L模型的测试准确率分别达到98.4%和95.0%。\n",
                "下面使用的模型与原文模型略有不同，结果有略有不同。",
            ],
            "metadata": {"collapsed": false},
            "id": "24dcff056a5011ed",
        },
        {
            "cell_type": "code",
            "execution_count": 4,
            "outputs": [],
            "source": [
                "class MNIST_Model(BaseModule):\n",
                "    def __init__(self):\n",
                "        super(MNIST_Model, self).__init__()\n",
                "        self.encoder = nn.Sequential(\n",
                "            nn.Flatten(1),\n",
                "            nn.Linear(784, 200),\n",
                "            nn.ReLU(),\n",
                "            nn.Linear(200, 100),\n",
                "            nn.ReLU()\n",
                "        )\n",
                "        self.head = nn.Linear(100, 10)\n",
                "\n",
                "    def forward(self, x):\n",
                "        x = self.encoder(x)\n",
                "        x = self.head(x)\n",
                "        return x\n",
                "    \n",
                "class EMNISTL_Model(BaseModule):\n",
                "    def __init__(self):\n",
                "        super(EMNISTL_Model, self).__init__()\n",
                "        self.encoder = nn.Sequential(\n",
                "            nn.Flatten(1),\n",
                "            nn.Linear(784, 200),\n",
                "            nn.ReLU(),\n",
                "            nn.Linear(200, 100),\n",
                "            nn.ReLU()\n",
                "        )\n",
                "        self.head = nn.Linear(100, 26)\n",
                "\n",
                "    def forward(self, x):\n",
                "        x = self.encoder(x)\n",
                "        x = self.head(x)\n",
                "        return x",
            ],
            "metadata": {
                "collapsed": false,
                "ExecuteTime": {
                    "end_time": "2023-12-28T03:05:54.783976700Z",
                    "start_time": "2023-12-28T03:05:54.706277700Z",
                },
            },
            "id": "42fc5961e4a71f8e",
        },
        {
            "cell_type": "code",
            "execution_count": 5,
            "outputs": [],
            "source": [
                "from typing import Dict, List, Tuple, Union\n",
                "import numpy as np\n",
                "\n",
                "from secretflow.data.ndarray import FedNdarray, PartitionWay\n",
                "from secretflow.device.device.pyu import PYU\n",
                "\n",
                "def _convert_to_fedndarray(dataloader, parts, is_torch, num_classes_per_client, class_num):\n",
                "    data_list = []\n",
                "    label_list = []\n",
                "    for data, label in dataloader:\n",
                "        if is_torch:\n",
                "            data = data.numpy()\n",
                "            label = label.numpy()\n",
                "        data_list.append(data)\n",
                "        label_list.append(label)\n",
                "    data_list, label_list = np.concatenate(data_list), np.concatenate(label_list)\n",
                "    return create_ndarray(data_list, label_list, parts=parts, is_torch=is_torch, \n",
                "                          num_classes_per_client=num_classes_per_client, class_num=class_num)\n",
                "\n",
                "def create_ndarray(data, labels, parts, is_torch=False, num_classes_per_client=4, class_num=10): # class_num 为数据集的分类类别数\n",
                '    assert len(data) == len(labels), "Data and labels must have the same length"\n',
                "    class_indices = {i: np.where(labels == i + min(labels))[0] for i in range(class_num)}\n",
                "    # 分配给每个 PYU 的类别\n",
                "    pyu_classes = {}\n",
                "    total_samples = len(data)\n",
                "    for idx, pyu in enumerate(parts.keys()):\n",
                "        np.random.seed(idx)\n",
                "        pyu_classes[pyu] = np.random.choice(class_num, num_classes_per_client, replace=False)\n",
                "\n",
                "    # 分配数据和标签给每个 PYU\n",
                "    pyu_data = {}\n",
                "    pyu_labels = {}\n",
                "    for pyu, proportion in parts.items():\n",
                "        pyu_sample_size = int(total_samples * proportion)  # 计算每个 PYU 的样本量\n",
                "        # 为每个 PYU 从选定的类别中采样数据\n",
                "        indices = np.concatenate(\n",
                "            [np.random.choice(class_indices[cls], size=pyu_sample_size // num_classes_per_client, replace=True) for cls\n",
                "             in pyu_classes[pyu]])\n",
                "        np.random.shuffle(indices)  # 打乱索引\n",
                "        pyu_data[pyu] = data[indices]\n",
                "        pyu_labels[pyu] = labels[indices]\n",
                "        print(len(pyu_data[pyu]), pyu_classes[pyu],pyu_labels[pyu][0])  # 打印每个PYU的数据量和随机类别\n",
                "\n",
                "    # 将数据和标签转换为 FedNdarray\n",
                "    data_fedndarray = FedNdarray(\n",
                "        partitions={\n",
                "            pyu: pyu(lambda arr: arr)(pyu_data[pyu]) for pyu in parts.keys()\n",
                "        },\n",
                "        partition_way=PartitionWay.HORIZONTAL,\n",
                "    )\n",
                "    labels_fedndarray = FedNdarray(\n",
                "        partitions={\n",
                "            pyu: pyu(lambda arr: arr)(pyu_labels[pyu]) for pyu in parts.keys()\n",
                "        },\n",
                "        partition_way=PartitionWay.HORIZONTAL,\n",
                "    )\n",
                "\n",
                "    return data_fedndarray, labels_fedndarray",
            ],
            "metadata": {
                "collapsed": false,
                "ExecuteTime": {
                    "end_time": "2023-12-28T03:05:54.888655Z",
                    "start_time": "2023-12-28T03:05:54.783976700Z",
                },
            },
            "id": "567ca2eef485ecd4",
        },
        {
            "cell_type": "code",
            "execution_count": 6,
            "outputs": [],
            "source": [
                "from torchvision.datasets import MNIST, EMNIST, CIFAR10, CIFAR100\n",
                "from torchvision import transforms\n",
                "from torch.utils.data import DataLoader\n",
                "\n",
                "def load_mnist( # 共有 70000 张， 10 类，60000个训练样本和10000个测试样本\n",
                "        parts: Union[List[PYU], Dict[PYU, Union[float, Tuple]]],\n",
                "        batch_size: int = 1,\n",
                "        is_torch: bool = True,\n",
                "        num_classes_per_client=4,\n",
                "        class_num=10,\n",
                ") -> Tuple[Tuple[FedNdarray, FedNdarray], Tuple[FedNdarray, FedNdarray]]:\n",
                '    """Load MNIST dataset to federated ndarrays.\n',
                "\n",
                "    Args:\n",
                "        parts: the data partitions.\n",
                "        batch_size: Batch size for the DataLoader.\n",
                "        is_torch: optional, return torch tensors if True. Default to True.\n",
                "        num_classes_per_client: the random classes number of per client.\n",
                "        class_num: the number of dataset categories\n",
                "        \n",
                "    Returns:\n",
                "        A tuple consists of two tuples, (x_train, y_train) and (x_test, y_test).\n",
                '    """\n',
                "    transform = transforms.Compose([\n",
                "        transforms.ToTensor(),\n",
                "        transforms.Normalize((0.5,), (0.5,))\n",
                "    ])\n",
                "\n",
                "    # 加载 EMNIST 训练集和测试集\n",
                "    trainset = MNIST(root='./data', train=True, download=True, transform=transform)\n",
                "    testset = MNIST(root='./data', train=False, download=True, transform=transform)\n",
                "    # EMNIST 数据集主要分为6类：By_Class, By_Merge, Balanced, Digits, Letters, MNIST，其中 MNIST 部分数据较少，共70000张10个子类数据\n",
                "    # 这里使用的是 EMNIST 数据集中的MNIST部分，原论文未对数据集细节进行描述，大概率是使用的整个EMNIST数据集，因此准确率会较低\n",
                "\n",
                "    # 使用 DataLoader 进行批处理\n",
                "    trainloader = DataLoader(trainset, batch_size=batch_size, shuffle=True)\n",
                "    testloader = DataLoader(testset, batch_size=batch_size, shuffle=False)\n",
                "\n",
                "    # 将 DataLoader 转换为 SecretFlow 可处理的格式\n",
                "    # 注意: 这里需要根据 SecretFlow 的要求进行适当的转换\n",
                "    train_data, train_labels = _convert_to_fedndarray(trainloader, parts, is_torch, num_classes_per_client, class_num)\n",
                "    test_data, test_labels = _convert_to_fedndarray(testloader, parts, is_torch, num_classes_per_client, class_num)\n",
                "\n",
                "    return ((train_data, train_labels), (test_data, test_labels))\n",
                "\n",
                "def load_emnist_L( # 共 103600 张，37 类，每一类包含相同数据，每一类训练集 2400 张，测试集 400 张\n",
                "        parts: Union[List[PYU], Dict[PYU, Union[float, Tuple]]],\n",
                "        batch_size: int = 1,\n",
                "        is_torch: bool = True,\n",
                "        num_classes_per_client=4,\n",
                "        class_num=26,\n",
                ") -> Tuple[Tuple[FedNdarray, FedNdarray], Tuple[FedNdarray, FedNdarray]]:\n",
                '    """Load EMNIST dataset to federated ndarrays.\n',
                "\n",
                "    Args:\n",
                "        parts: the data partitions.\n",
                "        batch_size: Batch size for the DataLoader.\n",
                "        is_torch: optional, return torch tensors if True. Default to True.\n",
                "        num_classes_per_client: the random classes number of per client.\n",
                "        class_num: the number of dataset categories\n",
                "\n",
                "    Returns:\n",
                "        A tuple consists of two tuples, (x_train, y_train) and (x_test, y_test).\n",
                '    """\n',
                "    transform = transforms.Compose([\n",
                "        transforms.ToTensor(),\n",
                "        transforms.Normalize((0.5,), (0.5,))\n",
                "    ])\n",
                "\n",
                "    # 加载 EMNIST 训练集和测试集\n",
                "    trainset = EMNIST(root='./data', train=True, split='letters', download=True, transform=transform)\n",
                "    testset = EMNIST(root='./data', train=False, split='letters', download=True, transform=transform)\n",
                "    # EMNIST 数据集主要分为6类：By_Class, By_Merge, Balanced, Digits, Letters, MNIST\n",
                "\n",
                "    # 使用 DataLoader 进行批处理\n",
                "    trainloader = DataLoader(trainset, batch_size=batch_size, shuffle=True)\n",
                "    testloader = DataLoader(testset, batch_size=batch_size, shuffle=False)\n",
                "\n",
                "    # 将 DataLoader 转换为 SecretFlow 可处理的格式\n",
                "    # 注意: 这里需要根据 SecretFlow 的要求进行适当的转换\n",
                "    train_data, train_labels = _convert_to_fedndarray(trainloader, parts, is_torch, num_classes_per_client, class_num)\n",
                "    test_data, test_labels = _convert_to_fedndarray(testloader, parts, is_torch, num_classes_per_client, class_num)\n",
                "\n",
                "    return ((train_data, train_labels), (test_data, test_labels))",
            ],
            "metadata": {
                "collapsed": false,
                "ExecuteTime": {
                    "end_time": "2023-12-28T03:05:54.954182200Z",
                    "start_time": "2023-12-28T03:05:54.888655Z",
                },
            },
            "id": "ba8836e026afa59f",
        },
        {
            "cell_type": "markdown",
            "source": ["## 在这里修改要使用的数据集"],
            "metadata": {"collapsed": false},
            "id": "ee5597c525f42f64",
        },
        {
            "cell_type": "code",
            "execution_count": 7,
            "outputs": [
                {
                    "name": "stdout",
                    "output_type": "stream",
                    "text": [
                        "Downloading http://yann.lecun.com/exdb/mnist/train-images-idx3-ubyte.gz\n",
                        "Downloading http://yann.lecun.com/exdb/mnist/train-images-idx3-ubyte.gz to ./data/MNIST/raw/train-images-idx3-ubyte.gz\n",
                    ],
                },
                {
                    "name": "stderr",
                    "output_type": "stream",
                    "text": [
                        "100%|██████████| 9912422/9912422 [00:00<00:00, 12548642.70it/s]\n"
                    ],
                },
                {
                    "name": "stdout",
                    "output_type": "stream",
                    "text": [
                        "Extracting ./data/MNIST/raw/train-images-idx3-ubyte.gz to ./data/MNIST/raw\n",
                        "\n",
                        "Downloading http://yann.lecun.com/exdb/mnist/train-labels-idx1-ubyte.gz\n",
                        "Downloading http://yann.lecun.com/exdb/mnist/train-labels-idx1-ubyte.gz to ./data/MNIST/raw/train-labels-idx1-ubyte.gz\n",
                    ],
                },
                {
                    "name": "stderr",
                    "output_type": "stream",
                    "text": [
                        "100%|██████████| 28881/28881 [00:00<00:00, 15980962.25it/s]\n"
                    ],
                },
                {
                    "name": "stdout",
                    "output_type": "stream",
                    "text": [
                        "Extracting ./data/MNIST/raw/train-labels-idx1-ubyte.gz to ./data/MNIST/raw\n",
                        "\n",
                        "Downloading http://yann.lecun.com/exdb/mnist/t10k-images-idx3-ubyte.gz\n",
                        "Downloading http://yann.lecun.com/exdb/mnist/t10k-images-idx3-ubyte.gz to ./data/MNIST/raw/t10k-images-idx3-ubyte.gz\n",
                    ],
                },
                {
                    "name": "stderr",
                    "output_type": "stream",
                    "text": [
                        "100%|██████████| 1648877/1648877 [00:00<00:00, 3552816.56it/s]\n"
                    ],
                },
                {
                    "name": "stdout",
                    "output_type": "stream",
                    "text": [
                        "Extracting ./data/MNIST/raw/t10k-images-idx3-ubyte.gz to ./data/MNIST/raw\n",
                        "\n",
                        "Downloading http://yann.lecun.com/exdb/mnist/t10k-labels-idx1-ubyte.gz\n",
                        "Downloading http://yann.lecun.com/exdb/mnist/t10k-labels-idx1-ubyte.gz to ./data/MNIST/raw/t10k-labels-idx1-ubyte.gz\n",
                    ],
                },
                {
                    "name": "stderr",
                    "output_type": "stream",
                    "text": [
                        "100%|██████████| 4542/4542 [00:00<00:00, 33073834.67it/s]"
                    ],
                },
                {
                    "name": "stdout",
                    "output_type": "stream",
                    "text": [
                        "Extracting ./data/MNIST/raw/t10k-labels-idx1-ubyte.gz to ./data/MNIST/raw\n"
                    ],
                },
                {"name": "stderr", "output_type": "stream", "text": ["\n"]},
                {
                    "name": "stdout",
                    "output_type": "stream",
                    "text": [
                        "6000 [2 8 4 9] 4\n",
                        "6000 [2 9 6 4] 6\n",
                        "1000 [2 8 4 9] 2\n",
                        "1000 [2 9 6 4] 6\n",
                    ],
                },
            ],
            "source": [
                "load_data = {0:load_mnist, 1:load_emnist_L}\n",
                "model = {0:MNIST_Model, 1:EMNISTL_Model}\n",
                "num_classes = {0:10, 1:26}\n",
                "i = 0 # 使用 MNIST\n",
                "# i = 1 # 使用 EMNIST-L\n",
                "(train_data, train_label), (test_data, test_label) = load_data[i](\n",
                "    parts={alice: 0.1, bob: 0.1},\n",
                "    is_torch=True,\n",
                ")",
            ],
            "metadata": {
                "collapsed": false,
                "ExecuteTime": {
                    "end_time": "2023-12-28T03:06:27.070525600Z",
                    "start_time": "2023-12-28T03:05:54.955194700Z",
                },
            },
            "id": "c46f47fb8f4bec30",
        },
        {
            "cell_type": "code",
            "execution_count": 8,
            "outputs": [
                {
                    "name": "stderr",
                    "output_type": "stream",
                    "text": [
                        "INFO:root:Create proxy actor <class 'secretflow.security.aggregation.secure_aggregator._Masker'> with party alice.\n",
                        "INFO:root:Create proxy actor <class 'secretflow.security.aggregation.secure_aggregator._Masker'> with party bob.\n",
                    ],
                }
            ],
            "source": [
                "loss_fn = nn.CrossEntropyLoss\n",
                "optim_fn = optim_wrapper(optim.SGD, lr=0.01)\n",
                "model_def = TorchModel(\n",
                "    model_fn=model[i],\n",
                "    loss_fn=loss_fn,\n",
                "    optim_fn=optim_fn,\n",
                "    metrics=[\n",
                "        metric_wrapper(Accuracy, task=\"multiclass\", num_classes=num_classes[i], average='micro'),\n",
                "        metric_wrapper(Precision, task=\"multiclass\", num_classes=num_classes[i], average='micro'),\n",
                "    ],\n",
                ")\n",
                "device_list = [alice, bob]\n",
                "server = charlie\n",
                "aggregator = SecureAggregator(server, [alice, bob])",
            ],
            "metadata": {
                "collapsed": false,
                "ExecuteTime": {
                    "end_time": "2023-12-28T03:07:07.722471700Z",
                    "start_time": "2023-12-28T03:06:27.066526200Z",
                },
            },
            "id": "3822c10a43b49ea",
        },
        {
            "cell_type": "code",
            "execution_count": 9,
            "outputs": [
                {
                    "name": "stderr",
                    "output_type": "stream",
                    "text": [
                        "INFO:root:Create proxy actor <class 'secretflow.ml.nn.fl.backend.torch.strategy.fed_dyn.PYUFedDYN'> with party alice.\n",
                        "INFO:root:Create proxy actor <class 'secretflow.ml.nn.fl.backend.torch.strategy.fed_dyn.PYUFedDYN'> with party bob.\n",
                        "INFO:root:FL Train Params: {'x': FedNdarray(partitions={PYURuntime(alice): <secretflow.device.device.pyu.PYUObject object at 0x7f3db97a51c0>, PYURuntime(bob): <secretflow.device.device.pyu.PYUObject object at 0x7f3db97a02e0>}, partition_way=<PartitionWay.HORIZONTAL: 'horizontal'>), 'y': FedNdarray(partitions={PYURuntime(alice): <secretflow.device.device.pyu.PYUObject object at 0x7f3db97a0640>, PYURuntime(bob): <secretflow.device.device.pyu.PYUObject object at 0x7f3db97b99d0>}, partition_way=<PartitionWay.HORIZONTAL: 'horizontal'>), 'batch_size': 128, 'batch_sampling_rate': None, 'epochs': 20, 'verbose': 1, 'callbacks': None, 'validation_data': (FedNdarray(partitions={PYURuntime(alice): <secretflow.device.device.pyu.PYUObject object at 0x7f3db97a0730>, PYURuntime(bob): <secretflow.device.device.pyu.PYUObject object at 0x7f3db97a0700>}, partition_way=<PartitionWay.HORIZONTAL: 'horizontal'>), FedNdarray(partitions={PYURuntime(alice): <secretflow.device.device.pyu.PYUObject object at 0x7f3db97a08e0>, PYURuntime(bob): <secretflow.device.device.pyu.PYUObject object at 0x7f3db97a0250>}, partition_way=<PartitionWay.HORIZONTAL: 'horizontal'>)), 'shuffle': False, 'class_weight': None, 'sample_weight': None, 'validation_freq': 1, 'aggregate_freq': 10, 'label_decoder': None, 'max_batch_size': 20000, 'prefetch_buffer_size': None, 'sampler_method': 'batch', 'random_seed': 38226, 'dp_spent_step_freq': None, 'audit_log_dir': None, 'dataset_builder': None, 'wait_steps': 100, 'self': <secretflow.ml.nn.fl.fl_model.FLModel object at 0x7f3db41718e0>}\n",
                        "\u001B[2m\u001B[36m(pid=2749575)\u001B[0m 2023-12-28 03:07:45.939732: W tensorflow/compiler/xla/stream_executor/platform/default/dso_loader.cc:64] Could not load dynamic library 'libcudart.so.11.0'; dlerror: libcudart.so.11.0: cannot open shared object file: No such file or directory\n",
                        "\u001B[2m\u001B[36m(pid=2749575)\u001B[0m 2023-12-28 03:07:46.900804: W tensorflow/compiler/xla/stream_executor/platform/default/dso_loader.cc:64] Could not load dynamic library 'libnvinfer.so.7'; dlerror: libnvinfer.so.7: cannot open shared object file: No such file or directory\n",
                        "\u001B[2m\u001B[36m(pid=2749575)\u001B[0m 2023-12-28 03:07:46.900891: W tensorflow/compiler/xla/stream_executor/platform/default/dso_loader.cc:64] Could not load dynamic library 'libnvinfer_plugin.so.7'; dlerror: libnvinfer_plugin.so.7: cannot open shared object file: No such file or directory\n",
                        "\u001B[2m\u001B[36m(pid=2749575)\u001B[0m 2023-12-28 03:07:46.900902: W tensorflow/compiler/tf2tensorrt/utils/py_utils.cc:38] TF-TRT Warning: Cannot dlopen some TensorRT libraries. If you would like to use Nvidia GPU with TensorRT, please make sure the missing libraries mentioned above are installed properly.\n",
                        "\u001B[2m\u001B[36m(pid=2749643)\u001B[0m 2023-12-28 03:07:48.828969: W tensorflow/compiler/xla/stream_executor/platform/default/dso_loader.cc:64] Could not load dynamic library 'libcudart.so.11.0'; dlerror: libcudart.so.11.0: cannot open shared object file: No such file or directory\n",
                        "\u001B[2m\u001B[36m(pid=2749643)\u001B[0m 2023-12-28 03:08:07.411287: W tensorflow/compiler/xla/stream_executor/platform/default/dso_loader.cc:64] Could not load dynamic library 'libnvinfer.so.7'; dlerror: libnvinfer.so.7: cannot open shared object file: No such file or directory\n",
                        "\u001B[2m\u001B[36m(pid=2749643)\u001B[0m 2023-12-28 03:08:07.411382: W tensorflow/compiler/xla/stream_executor/platform/default/dso_loader.cc:64] Could not load dynamic library 'libnvinfer_plugin.so.7'; dlerror: libnvinfer_plugin.so.7: cannot open shared object file: No such file or directory\n",
                        "\u001B[2m\u001B[36m(pid=2749643)\u001B[0m 2023-12-28 03:08:07.411391: W tensorflow/compiler/tf2tensorrt/utils/py_utils.cc:38] TF-TRT Warning: Cannot dlopen some TensorRT libraries. If you would like to use Nvidia GPU with TensorRT, please make sure the missing libraries mentioned above are installed properly.\n",
                        "Train Processing: :   0%|          | 0/47 [00:00<?, ?it/s]",
                    ],
                },
                {"name": "stdout", "output_type": "stream", "text": ["Epoch 1/20\n"]},
                {
                    "name": "stderr",
                    "output_type": "stream",
                    "text": [
                        "Train Processing: :  85%|████████▌ | 40/47 [00:15<00:02,  3.27it/s]/home/cyf/anaconda3/envs/secretflow/lib/python3.8/site-packages/secretflow/ml/nn/metrics.py:59: UserWarning: Please pay attention to local metrics, global only do naive aggregation.\n",
                        "  warnings.warn(\n",
                        "2023-12-28 03:09:00.132961: W tensorflow/compiler/xla/stream_executor/platform/default/dso_loader.cc:64] Could not load dynamic library 'libcusolver.so.11'; dlerror: libcusolver.so.11: cannot open shared object file: No such file or directory\n",
                        "2023-12-28 03:09:00.133050: W tensorflow/core/common_runtime/gpu/gpu_device.cc:1934] Cannot dlopen some GPU libraries. Please make sure the missing libraries mentioned above are installed properly if you would like to use GPU. Follow the guide at https://www.tensorflow.org/install/gpu for how to download and setup the required libraries for your platform.\n",
                        "Skipping registering GPU devices...\n",
                        "Train Processing: :  85%|████████▌ | 40/47 [00:15<00:02,  2.50it/s, {'multiclassaccuracy': 0.21658334, 'multiclassprecision': 0.21658334, 'val_multiclassaccuracy': 0.255, 'val_multiclassprecision': 0.255}]\n",
                        "Train Processing: :   0%|          | 0/47 [00:00<?, ?it/s]",
                    ],
                },
                {
                    "name": "stdout",
                    "output_type": "stream",
                    "text": [
                        "Epoch 2/20\n",
                        "\u001B[2m\u001B[36m(PYUFedDYN pid=2749575)\u001B[0m {'train-loss': 2.131474494934082, 'train_multiclassaccuracy': tensor(0.2198), 'train_multiclassprecision': tensor(0.2198), 'val_eval_multiclassaccuracy': tensor(0.2560), 'val_eval_multiclassprecision': tensor(0.2560)}\n",
                        "\u001B[2m\u001B[36m(PYUFedDYN pid=2749643)\u001B[0m {'train-loss': 1.9722352027893066, 'train_multiclassaccuracy': tensor(0.2133), 'train_multiclassprecision': tensor(0.2133), 'val_eval_multiclassaccuracy': tensor(0.2540), 'val_eval_multiclassprecision': tensor(0.2540)}\n",
                    ],
                },
                {
                    "name": "stderr",
                    "output_type": "stream",
                    "text": [
                        "Train Processing: :  85%|████████▌ | 40/47 [00:15<00:02,  2.52it/s, {'multiclassaccuracy': 0.26083332, 'multiclassprecision': 0.26083332, 'val_multiclassaccuracy': 0.3685, 'val_multiclassprecision': 0.3685}]\n",
                        "Train Processing: :   0%|          | 0/47 [00:00<?, ?it/s]",
                    ],
                },
                {
                    "name": "stdout",
                    "output_type": "stream",
                    "text": [
                        "Epoch 3/20\n",
                        "\u001B[2m\u001B[36m(PYUFedDYN pid=2749575)\u001B[0m {'train-loss': 1.6620585918426514, 'train_multiclassaccuracy': tensor(0.2607), 'train_multiclassprecision': tensor(0.2607), 'val_eval_multiclassaccuracy': tensor(0.3710), 'val_eval_multiclassprecision': tensor(0.3710)}\n",
                        "\u001B[2m\u001B[36m(PYUFedDYN pid=2749643)\u001B[0m {'train-loss': 1.54220449924469, 'train_multiclassaccuracy': tensor(0.2610), 'train_multiclassprecision': tensor(0.2610), 'val_eval_multiclassaccuracy': tensor(0.3660), 'val_eval_multiclassprecision': tensor(0.3660)}\n",
                    ],
                },
                {
                    "name": "stderr",
                    "output_type": "stream",
                    "text": [
                        "Train Processing: :  85%|████████▌ | 40/47 [00:15<00:02,  2.56it/s, {'multiclassaccuracy': 0.37433332, 'multiclassprecision': 0.37433332, 'val_multiclassaccuracy': 0.439, 'val_multiclassprecision': 0.439}]\n",
                        "Train Processing: :  21%|██▏       | 10/47 [00:00<00:00, 54.74it/s]",
                    ],
                },
                {
                    "name": "stdout",
                    "output_type": "stream",
                    "text": [
                        "Epoch 4/20\n",
                        "\u001B[2m\u001B[36m(PYUFedDYN pid=2749575)\u001B[0m {'train-loss': 1.4557883739471436, 'train_multiclassaccuracy': tensor(0.3747), 'train_multiclassprecision': tensor(0.3747), 'val_eval_multiclassaccuracy': tensor(0.4490), 'val_eval_multiclassprecision': tensor(0.4490)}\n",
                        "\u001B[2m\u001B[36m(PYUFedDYN pid=2749643)\u001B[0m {'train-loss': 1.5256916284561157, 'train_multiclassaccuracy': tensor(0.3740), 'train_multiclassprecision': tensor(0.3740), 'val_eval_multiclassaccuracy': tensor(0.4290), 'val_eval_multiclassprecision': tensor(0.4290)}\n",
                    ],
                },
                {
                    "name": "stderr",
                    "output_type": "stream",
                    "text": [
                        "Train Processing: :  85%|████████▌ | 40/47 [00:00<00:00, 63.40it/s, {'multiclassaccuracy': 0.47091666, 'multiclassprecision': 0.47091666, 'val_multiclassaccuracy': 0.464, 'val_multiclassprecision': 0.464}]\n"
                    ],
                },
                {
                    "name": "stdout",
                    "output_type": "stream",
                    "text": [
                        "\u001B[2m\u001B[36m(PYUFedDYN pid=2749575)\u001B[0m {'train-loss': 1.4152783155441284, 'train_multiclassaccuracy': tensor(0.4565), 'train_multiclassprecision': tensor(0.4565), 'val_eval_multiclassaccuracy': tensor(0.4720), 'val_eval_multiclassprecision': tensor(0.4720)}\n",
                        "\u001B[2m\u001B[36m(PYUFedDYN pid=2749643)\u001B[0m {'train-loss': 1.5226932764053345, 'train_multiclassaccuracy': tensor(0.4853), 'train_multiclassprecision': tensor(0.4853), 'val_eval_multiclassaccuracy': tensor(0.4560), 'val_eval_multiclassprecision': tensor(0.4560)}\n",
                    ],
                },
                {
                    "name": "stderr",
                    "output_type": "stream",
                    "text": [
                        "Train Processing: :   0%|          | 0/47 [00:00<?, ?it/s]"
                    ],
                },
                {"name": "stdout", "output_type": "stream", "text": ["Epoch 5/20\n"]},
                {
                    "name": "stderr",
                    "output_type": "stream",
                    "text": [
                        "Train Processing: :  85%|████████▌ | 40/47 [00:04<00:00,  8.65it/s, {'multiclassaccuracy': 0.527, 'multiclassprecision': 0.527, 'val_multiclassaccuracy': 0.475, 'val_multiclassprecision': 0.475}]\n",
                        "Train Processing: :  21%|██▏       | 10/47 [00:00<00:00, 72.85it/s]",
                    ],
                },
                {
                    "name": "stdout",
                    "output_type": "stream",
                    "text": [
                        "Epoch 6/20\n",
                        "\u001B[2m\u001B[36m(PYUFedDYN pid=2749575)\u001B[0m {'train-loss': 1.334328293800354, 'train_multiclassaccuracy': tensor(0.5070), 'train_multiclassprecision': tensor(0.5070), 'val_eval_multiclassaccuracy': tensor(0.4820), 'val_eval_multiclassprecision': tensor(0.4820)}\n",
                        "\u001B[2m\u001B[36m(PYUFedDYN pid=2749643)\u001B[0m {'train-loss': 1.4751899242401123, 'train_multiclassaccuracy': tensor(0.5470), 'train_multiclassprecision': tensor(0.5470), 'val_eval_multiclassaccuracy': tensor(0.4680), 'val_eval_multiclassprecision': tensor(0.4680)}\n",
                    ],
                },
                {
                    "name": "stderr",
                    "output_type": "stream",
                    "text": [
                        "Train Processing: :  85%|████████▌ | 40/47 [00:00<00:00, 62.18it/s, {'multiclassaccuracy': 0.5829167, 'multiclassprecision': 0.5829167, 'val_multiclassaccuracy': 0.48250002, 'val_multiclassprecision': 0.48250002}] \n",
                        "Train Processing: :  21%|██▏       | 10/47 [00:00<00:00, 64.08it/s]",
                    ],
                },
                {
                    "name": "stdout",
                    "output_type": "stream",
                    "text": [
                        "Epoch 7/20\n",
                        "\u001B[2m\u001B[36m(PYUFedDYN pid=2749575)\u001B[0m {'train-loss': 1.2168669700622559, 'train_multiclassaccuracy': tensor(0.5592), 'train_multiclassprecision': tensor(0.5592), 'val_eval_multiclassaccuracy': tensor(0.4860), 'val_eval_multiclassprecision': tensor(0.4860)}\n",
                        "\u001B[2m\u001B[36m(PYUFedDYN pid=2749643)\u001B[0m {'train-loss': 1.3991825580596924, 'train_multiclassaccuracy': tensor(0.6067), 'train_multiclassprecision': tensor(0.6067), 'val_eval_multiclassaccuracy': tensor(0.4790), 'val_eval_multiclassprecision': tensor(0.4790)}\n",
                    ],
                },
                {
                    "name": "stderr",
                    "output_type": "stream",
                    "text": [
                        "Train Processing: :  85%|████████▌ | 40/47 [00:00<00:00, 59.15it/s, {'multiclassaccuracy': 0.6305, 'multiclassprecision': 0.6305, 'val_multiclassaccuracy': 0.4905, 'val_multiclassprecision': 0.4905}]\n",
                        "Train Processing: :  21%|██▏       | 10/47 [00:00<00:00, 71.34it/s]",
                    ],
                },
                {
                    "name": "stdout",
                    "output_type": "stream",
                    "text": [
                        "Epoch 8/20\n",
                        "\u001B[2m\u001B[36m(PYUFedDYN pid=2749575)\u001B[0m {'train-loss': 1.0539021492004395, 'train_multiclassaccuracy': tensor(0.5975), 'train_multiclassprecision': tensor(0.5975), 'val_eval_multiclassaccuracy': tensor(0.4970), 'val_eval_multiclassprecision': tensor(0.4970)}\n",
                        "\u001B[2m\u001B[36m(PYUFedDYN pid=2749643)\u001B[0m {'train-loss': 1.2842355966567993, 'train_multiclassaccuracy': tensor(0.6635), 'train_multiclassprecision': tensor(0.6635), 'val_eval_multiclassaccuracy': tensor(0.4840), 'val_eval_multiclassprecision': tensor(0.4840)}\n",
                    ],
                },
                {
                    "name": "stderr",
                    "output_type": "stream",
                    "text": [
                        "Train Processing: :  85%|████████▌ | 40/47 [00:00<00:00, 58.11it/s, {'multiclassaccuracy': 0.6766667, 'multiclassprecision': 0.6766667, 'val_multiclassaccuracy': 0.519, 'val_multiclassprecision': 0.519}] \n",
                        "Train Processing: :  21%|██▏       | 10/47 [00:00<00:00, 70.23it/s]",
                    ],
                },
                {
                    "name": "stdout",
                    "output_type": "stream",
                    "text": [
                        "Epoch 9/20\n",
                        "\u001B[2m\u001B[36m(PYUFedDYN pid=2749575)\u001B[0m {'train-loss': 0.8696364760398865, 'train_multiclassaccuracy': tensor(0.6382), 'train_multiclassprecision': tensor(0.6382), 'val_eval_multiclassaccuracy': tensor(0.5230), 'val_eval_multiclassprecision': tensor(0.5230)}\n",
                        "\u001B[2m\u001B[36m(PYUFedDYN pid=2749643)\u001B[0m {'train-loss': 1.1381676197052002, 'train_multiclassaccuracy': tensor(0.7152), 'train_multiclassprecision': tensor(0.7152), 'val_eval_multiclassaccuracy': tensor(0.5150), 'val_eval_multiclassprecision': tensor(0.5150)}\n",
                    ],
                },
                {
                    "name": "stderr",
                    "output_type": "stream",
                    "text": [
                        "Train Processing: :  85%|████████▌ | 40/47 [00:00<00:00, 52.38it/s, {'multiclassaccuracy': 0.72616667, 'multiclassprecision': 0.72616667, 'val_multiclassaccuracy': 0.5865, 'val_multiclassprecision': 0.5865}]\n",
                        "Train Processing: :   0%|          | 0/47 [00:00<?, ?it/s]",
                    ],
                },
                {
                    "name": "stdout",
                    "output_type": "stream",
                    "text": [
                        "Epoch 10/20\n",
                        "\u001B[2m\u001B[36m(PYUFedDYN pid=2749575)\u001B[0m {'train-loss': 0.6975761651992798, 'train_multiclassaccuracy': tensor(0.6897), 'train_multiclassprecision': tensor(0.6897), 'val_eval_multiclassaccuracy': tensor(0.5920), 'val_eval_multiclassprecision': tensor(0.5920)}\n",
                        "\u001B[2m\u001B[36m(PYUFedDYN pid=2749643)\u001B[0m {'train-loss': 1.003589153289795, 'train_multiclassaccuracy': tensor(0.7627), 'train_multiclassprecision': tensor(0.7627), 'val_eval_multiclassaccuracy': tensor(0.5810), 'val_eval_multiclassprecision': tensor(0.5810)}\n",
                    ],
                },
                {
                    "name": "stderr",
                    "output_type": "stream",
                    "text": [
                        "Train Processing: :  85%|████████▌ | 40/47 [00:17<00:03,  2.27it/s, {'multiclassaccuracy': 0.76666665, 'multiclassprecision': 0.76666665, 'val_multiclassaccuracy': 0.675, 'val_multiclassprecision': 0.675}]\n",
                        "Train Processing: :   0%|          | 0/47 [00:00<?, ?it/s]",
                    ],
                },
                {
                    "name": "stdout",
                    "output_type": "stream",
                    "text": [
                        "Epoch 11/20\n",
                        "\u001B[2m\u001B[36m(PYUFedDYN pid=2749575)\u001B[0m {'train-loss': 0.554728090763092, 'train_multiclassaccuracy': tensor(0.7350), 'train_multiclassprecision': tensor(0.7350), 'val_eval_multiclassaccuracy': tensor(0.6900), 'val_eval_multiclassprecision': tensor(0.6900)}\n",
                        "\u001B[2m\u001B[36m(PYUFedDYN pid=2749643)\u001B[0m {'train-loss': 0.895916759967804, 'train_multiclassaccuracy': tensor(0.7983), 'train_multiclassprecision': tensor(0.7983), 'val_eval_multiclassaccuracy': tensor(0.6600), 'val_eval_multiclassprecision': tensor(0.6600)}\n",
                    ],
                },
                {
                    "name": "stderr",
                    "output_type": "stream",
                    "text": [
                        "Train Processing: :  85%|████████▌ | 40/47 [00:15<00:02,  2.59it/s, {'multiclassaccuracy': 0.79908335, 'multiclassprecision': 0.79908335, 'val_multiclassaccuracy': 0.735, 'val_multiclassprecision': 0.735}]\n",
                        "Train Processing: :   0%|          | 0/47 [00:00<?, ?it/s]",
                    ],
                },
                {
                    "name": "stdout",
                    "output_type": "stream",
                    "text": [
                        "Epoch 12/20\n",
                        "\u001B[2m\u001B[36m(PYUFedDYN pid=2749575)\u001B[0m {'train-loss': 0.43921560049057007, 'train_multiclassaccuracy': tensor(0.7730), 'train_multiclassprecision': tensor(0.7730), 'val_eval_multiclassaccuracy': tensor(0.7410), 'val_eval_multiclassprecision': tensor(0.7410)}\n",
                        "\u001B[2m\u001B[36m(PYUFedDYN pid=2749643)\u001B[0m {'train-loss': 0.8085539937019348, 'train_multiclassaccuracy': tensor(0.8252), 'train_multiclassprecision': tensor(0.8252), 'val_eval_multiclassaccuracy': tensor(0.7290), 'val_eval_multiclassprecision': tensor(0.7290)}\n",
                    ],
                },
                {
                    "name": "stderr",
                    "output_type": "stream",
                    "text": [
                        "Train Processing: :  85%|████████▌ | 40/47 [00:16<00:02,  2.41it/s, {'multiclassaccuracy': 0.8219167, 'multiclassprecision': 0.8219167, 'val_multiclassaccuracy': 0.776, 'val_multiclassprecision': 0.776}]\n",
                        "Train Processing: :   0%|          | 0/47 [00:00<?, ?it/s]",
                    ],
                },
                {
                    "name": "stdout",
                    "output_type": "stream",
                    "text": [
                        "Epoch 13/20\n",
                        "\u001B[2m\u001B[36m(PYUFedDYN pid=2749575)\u001B[0m {'train-loss': 0.3421662151813507, 'train_multiclassaccuracy': tensor(0.8010), 'train_multiclassprecision': tensor(0.8010), 'val_eval_multiclassaccuracy': tensor(0.7680), 'val_eval_multiclassprecision': tensor(0.7680)}\n",
                        "\u001B[2m\u001B[36m(PYUFedDYN pid=2749643)\u001B[0m {'train-loss': 0.7217304110527039, 'train_multiclassaccuracy': tensor(0.8428), 'train_multiclassprecision': tensor(0.8428), 'val_eval_multiclassaccuracy': tensor(0.7840), 'val_eval_multiclassprecision': tensor(0.7840)}\n",
                    ],
                },
                {
                    "name": "stderr",
                    "output_type": "stream",
                    "text": [
                        "Train Processing: :  85%|████████▌ | 40/47 [00:15<00:02,  2.65it/s, {'multiclassaccuracy': 0.83875, 'multiclassprecision': 0.83875, 'val_multiclassaccuracy': 0.807, 'val_multiclassprecision': 0.807}]\n",
                        "Train Processing: :   0%|          | 0/47 [00:00<?, ?it/s]",
                    ],
                },
                {
                    "name": "stdout",
                    "output_type": "stream",
                    "text": [
                        "Epoch 14/20\n",
                        "\u001B[2m\u001B[36m(PYUFedDYN pid=2749575)\u001B[0m {'train-loss': 0.26064959168434143, 'train_multiclassaccuracy': tensor(0.8202), 'train_multiclassprecision': tensor(0.8202), 'val_eval_multiclassaccuracy': tensor(0.7980), 'val_eval_multiclassprecision': tensor(0.7980)}\n",
                        "\u001B[2m\u001B[36m(PYUFedDYN pid=2749643)\u001B[0m {'train-loss': 0.6326904296875, 'train_multiclassaccuracy': tensor(0.8573), 'train_multiclassprecision': tensor(0.8573), 'val_eval_multiclassaccuracy': tensor(0.8160), 'val_eval_multiclassprecision': tensor(0.8160)}\n",
                    ],
                },
                {
                    "name": "stderr",
                    "output_type": "stream",
                    "text": [
                        "Train Processing: :  85%|████████▌ | 40/47 [00:14<00:02,  2.70it/s, {'multiclassaccuracy': 0.8508333, 'multiclassprecision': 0.8508333, 'val_multiclassaccuracy': 0.83500004, 'val_multiclassprecision': 0.83500004}]\n",
                        "Train Processing: :   0%|          | 0/47 [00:00<?, ?it/s]",
                    ],
                },
                {
                    "name": "stdout",
                    "output_type": "stream",
                    "text": [
                        "Epoch 15/20\n",
                        "\u001B[2m\u001B[36m(PYUFedDYN pid=2749575)\u001B[0m {'train-loss': 0.1959325075149536, 'train_multiclassaccuracy': tensor(0.8347), 'train_multiclassprecision': tensor(0.8347), 'val_eval_multiclassaccuracy': tensor(0.8220), 'val_eval_multiclassprecision': tensor(0.8220)}\n",
                        "\u001B[2m\u001B[36m(PYUFedDYN pid=2749643)\u001B[0m {'train-loss': 0.5416354537010193, 'train_multiclassaccuracy': tensor(0.8670), 'train_multiclassprecision': tensor(0.8670), 'val_eval_multiclassaccuracy': tensor(0.8480), 'val_eval_multiclassprecision': tensor(0.8480)}\n",
                    ],
                },
                {
                    "name": "stderr",
                    "output_type": "stream",
                    "text": [
                        "Train Processing: :  85%|████████▌ | 40/47 [00:16<00:02,  2.45it/s, {'multiclassaccuracy': 0.86116666, 'multiclassprecision': 0.86116666, 'val_multiclassaccuracy': 0.84650004, 'val_multiclassprecision': 0.84650004}]\n",
                        "Train Processing: :   0%|          | 0/47 [00:00<?, ?it/s]",
                    ],
                },
                {
                    "name": "stdout",
                    "output_type": "stream",
                    "text": [
                        "Epoch 16/20\n",
                        "\u001B[2m\u001B[36m(PYUFedDYN pid=2749575)\u001B[0m {'train-loss': 0.14242461323738098, 'train_multiclassaccuracy': tensor(0.8473), 'train_multiclassprecision': tensor(0.8473), 'val_eval_multiclassaccuracy': tensor(0.8380), 'val_eval_multiclassprecision': tensor(0.8380)}\n",
                        "\u001B[2m\u001B[36m(PYUFedDYN pid=2749643)\u001B[0m {'train-loss': 0.4495238959789276, 'train_multiclassaccuracy': tensor(0.8750), 'train_multiclassprecision': tensor(0.8750), 'val_eval_multiclassaccuracy': tensor(0.8550), 'val_eval_multiclassprecision': tensor(0.8550)}\n",
                    ],
                },
                {
                    "name": "stderr",
                    "output_type": "stream",
                    "text": [
                        "Train Processing: :  85%|████████▌ | 40/47 [00:16<00:02,  2.49it/s, {'multiclassaccuracy': 0.87175, 'multiclassprecision': 0.87175, 'val_multiclassaccuracy': 0.855, 'val_multiclassprecision': 0.855}]\n",
                        "Train Processing: :   0%|          | 0/47 [00:00<?, ?it/s]",
                    ],
                },
                {
                    "name": "stdout",
                    "output_type": "stream",
                    "text": [
                        "Epoch 17/20\n",
                        "\u001B[2m\u001B[36m(PYUFedDYN pid=2749575)\u001B[0m {'train-loss': 0.09836138784885406, 'train_multiclassaccuracy': tensor(0.8600), 'train_multiclassprecision': tensor(0.8600), 'val_eval_multiclassaccuracy': tensor(0.8480), 'val_eval_multiclassprecision': tensor(0.8480)}\n",
                        "\u001B[2m\u001B[36m(PYUFedDYN pid=2749643)\u001B[0m {'train-loss': 0.36072543263435364, 'train_multiclassaccuracy': tensor(0.8835), 'train_multiclassprecision': tensor(0.8835), 'val_eval_multiclassaccuracy': tensor(0.8620), 'val_eval_multiclassprecision': tensor(0.8620)}\n",
                    ],
                },
                {
                    "name": "stderr",
                    "output_type": "stream",
                    "text": [
                        "Train Processing: :  85%|████████▌ | 40/47 [00:16<00:02,  2.43it/s, {'multiclassaccuracy': 0.8794167, 'multiclassprecision': 0.8794167, 'val_multiclassaccuracy': 0.8625, 'val_multiclassprecision': 0.8625}]\n",
                        "Train Processing: :   0%|          | 0/47 [00:00<?, ?it/s]",
                    ],
                },
                {
                    "name": "stdout",
                    "output_type": "stream",
                    "text": [
                        "Epoch 18/20\n",
                        "\u001B[2m\u001B[36m(PYUFedDYN pid=2749575)\u001B[0m {'train-loss': 0.06357783824205399, 'train_multiclassaccuracy': tensor(0.8677), 'train_multiclassprecision': tensor(0.8677), 'val_eval_multiclassaccuracy': tensor(0.8600), 'val_eval_multiclassprecision': tensor(0.8600)}\n",
                        "\u001B[2m\u001B[36m(PYUFedDYN pid=2749643)\u001B[0m {'train-loss': 0.27835652232170105, 'train_multiclassaccuracy': tensor(0.8912), 'train_multiclassprecision': tensor(0.8912), 'val_eval_multiclassaccuracy': tensor(0.8650), 'val_eval_multiclassprecision': tensor(0.8650)}\n",
                    ],
                },
                {
                    "name": "stderr",
                    "output_type": "stream",
                    "text": [
                        "Train Processing: :  85%|████████▌ | 40/47 [00:16<00:02,  2.35it/s, {'multiclassaccuracy': 0.8865, 'multiclassprecision': 0.8865, 'val_multiclassaccuracy': 0.8665, 'val_multiclassprecision': 0.8665}]\n",
                        "Train Processing: :   0%|          | 0/47 [00:00<?, ?it/s]",
                    ],
                },
                {
                    "name": "stdout",
                    "output_type": "stream",
                    "text": [
                        "Epoch 19/20\n",
                        "\u001B[2m\u001B[36m(PYUFedDYN pid=2749575)\u001B[0m {'train-loss': 0.033428918570280075, 'train_multiclassaccuracy': tensor(0.8748), 'train_multiclassprecision': tensor(0.8748), 'val_eval_multiclassaccuracy': tensor(0.8660), 'val_eval_multiclassprecision': tensor(0.8660)}\n",
                        "\u001B[2m\u001B[36m(PYUFedDYN pid=2749643)\u001B[0m {'train-loss': 0.20633001625537872, 'train_multiclassaccuracy': tensor(0.8982), 'train_multiclassprecision': tensor(0.8982), 'val_eval_multiclassaccuracy': tensor(0.8670), 'val_eval_multiclassprecision': tensor(0.8670)}\n",
                    ],
                },
                {
                    "name": "stderr",
                    "output_type": "stream",
                    "text": [
                        "Train Processing: :  85%|████████▌ | 40/47 [00:16<00:02,  2.42it/s, {'multiclassaccuracy': 0.89191663, 'multiclassprecision': 0.89191663, 'val_multiclassaccuracy': 0.873, 'val_multiclassprecision': 0.873}]\n",
                        "Train Processing: :   0%|          | 0/47 [00:00<?, ?it/s]",
                    ],
                },
                {
                    "name": "stdout",
                    "output_type": "stream",
                    "text": [
                        "Epoch 20/20\n",
                        "\u001B[2m\u001B[36m(PYUFedDYN pid=2749575)\u001B[0m {'train-loss': 0.005675084888935089, 'train_multiclassaccuracy': tensor(0.8810), 'train_multiclassprecision': tensor(0.8810), 'val_eval_multiclassaccuracy': tensor(0.8710), 'val_eval_multiclassprecision': tensor(0.8710)}\n",
                        "\u001B[2m\u001B[36m(PYUFedDYN pid=2749643)\u001B[0m {'train-loss': 0.14556238055229187, 'train_multiclassaccuracy': tensor(0.9028), 'train_multiclassprecision': tensor(0.9028), 'val_eval_multiclassaccuracy': tensor(0.8750), 'val_eval_multiclassprecision': tensor(0.8750)}\n",
                    ],
                },
                {
                    "name": "stderr",
                    "output_type": "stream",
                    "text": [
                        "Train Processing: :  85%|████████▌ | 40/47 [00:14<00:02,  2.82it/s, {'multiclassaccuracy': 0.8965833, 'multiclassprecision': 0.8965833, 'val_multiclassaccuracy': 0.87600005, 'val_multiclassprecision': 0.87600005}]\n"
                    ],
                },
            ],
            "source": [
                "# spcify params\n",
                "fl_model = FLModel(\n",
                "    server=server,\n",
                "    device_list=device_list,\n",
                "    model=model_def,\n",
                "    aggregator=aggregator,\n",
                "    strategy='fed_dyn',\n",
                '    backend="torch",\n',
                ")\n",
                "history = fl_model.fit(\n",
                "    train_data,\n",
                "    train_label,\n",
                "    validation_data=(test_data, test_label),\n",
                "    epochs=20,\n",
                "    batch_size=128,\n",
                "    aggregate_freq=10,\n",
                ")",
            ],
            "metadata": {
                "collapsed": false,
                "ExecuteTime": {
                    "end_time": "2023-12-28T03:12:49.707343200Z",
                    "start_time": "2023-12-28T03:07:07.721146500Z",
                },
            },
            "id": "f420ce80c650070e",
        },
        {
            "cell_type": "code",
            "execution_count": 10,
            "outputs": [
                {
                    "name": "stdout",
                    "output_type": "stream",
                    "text": [
                        "\u001B[2m\u001B[36m(PYUFedDYN pid=2749575)\u001B[0m {'train-loss': -0.021659351885318756, 'train_multiclassaccuracy': tensor(0.8860), 'train_multiclassprecision': tensor(0.8860), 'val_eval_multiclassaccuracy': tensor(0.8730), 'val_eval_multiclassprecision': tensor(0.8730)}\n",
                        "\u001B[2m\u001B[36m(PYUFedDYN pid=2749643)\u001B[0m {'train-loss': 0.096251480281353, 'train_multiclassaccuracy': tensor(0.9072), 'train_multiclassprecision': tensor(0.9072), 'val_eval_multiclassaccuracy': tensor(0.8790), 'val_eval_multiclassprecision': tensor(0.8790)}\n",
                        "{'alice_train-loss': [2.131474494934082, 1.6620585918426514, 1.4557883739471436, 1.4152783155441284, 1.334328293800354, 1.2168669700622559, 1.0539021492004395, 0.8696364760398865, 0.6975761651992798, 0.554728090763092, 0.43921560049057007, 0.3421662151813507, 0.26064959168434143, 0.1959325075149536, 0.14242461323738098, 0.09836138784885406, 0.06357783824205399, 0.033428918570280075, 0.005675084888935089, -0.021659351885318756], 'alice_train_multiclassaccuracy': [tensor(0.2198), tensor(0.2607), tensor(0.3747), tensor(0.4565), tensor(0.5070), tensor(0.5592), tensor(0.5975), tensor(0.6382), tensor(0.6897), tensor(0.7350), tensor(0.7730), tensor(0.8010), tensor(0.8202), tensor(0.8347), tensor(0.8473), tensor(0.8600), tensor(0.8677), tensor(0.8748), tensor(0.8810), tensor(0.8860)], 'alice_train_multiclassprecision': [tensor(0.2198), tensor(0.2607), tensor(0.3747), tensor(0.4565), tensor(0.5070), tensor(0.5592), tensor(0.5975), tensor(0.6382), tensor(0.6897), tensor(0.7350), tensor(0.7730), tensor(0.8010), tensor(0.8202), tensor(0.8347), tensor(0.8473), tensor(0.8600), tensor(0.8677), tensor(0.8748), tensor(0.8810), tensor(0.8860)], 'alice_val_eval_multiclassaccuracy': [tensor(0.2560), tensor(0.3710), tensor(0.4490), tensor(0.4720), tensor(0.4820), tensor(0.4860), tensor(0.4970), tensor(0.5230), tensor(0.5920), tensor(0.6900), tensor(0.7410), tensor(0.7680), tensor(0.7980), tensor(0.8220), tensor(0.8380), tensor(0.8480), tensor(0.8600), tensor(0.8660), tensor(0.8710), tensor(0.8730)], 'alice_val_eval_multiclassprecision': [tensor(0.2560), tensor(0.3710), tensor(0.4490), tensor(0.4720), tensor(0.4820), tensor(0.4860), tensor(0.4970), tensor(0.5230), tensor(0.5920), tensor(0.6900), tensor(0.7410), tensor(0.7680), tensor(0.7980), tensor(0.8220), tensor(0.8380), tensor(0.8480), tensor(0.8600), tensor(0.8660), tensor(0.8710), tensor(0.8730)], 'bob_train-loss': [1.9722352027893066, 1.54220449924469, 1.5256916284561157, 1.5226932764053345, 1.4751899242401123, 1.3991825580596924, 1.2842355966567993, 1.1381676197052002, 1.003589153289795, 0.895916759967804, 0.8085539937019348, 0.7217304110527039, 0.6326904296875, 0.5416354537010193, 0.4495238959789276, 0.36072543263435364, 0.27835652232170105, 0.20633001625537872, 0.14556238055229187, 0.096251480281353], 'bob_train_multiclassaccuracy': [tensor(0.2133), tensor(0.2610), tensor(0.3740), tensor(0.4853), tensor(0.5470), tensor(0.6067), tensor(0.6635), tensor(0.7152), tensor(0.7627), tensor(0.7983), tensor(0.8252), tensor(0.8428), tensor(0.8573), tensor(0.8670), tensor(0.8750), tensor(0.8835), tensor(0.8912), tensor(0.8982), tensor(0.9028), tensor(0.9072)], 'bob_train_multiclassprecision': [tensor(0.2133), tensor(0.2610), tensor(0.3740), tensor(0.4853), tensor(0.5470), tensor(0.6067), tensor(0.6635), tensor(0.7152), tensor(0.7627), tensor(0.7983), tensor(0.8252), tensor(0.8428), tensor(0.8573), tensor(0.8670), tensor(0.8750), tensor(0.8835), tensor(0.8912), tensor(0.8982), tensor(0.9028), tensor(0.9072)], 'bob_val_eval_multiclassaccuracy': [tensor(0.2540), tensor(0.3660), tensor(0.4290), tensor(0.4560), tensor(0.4680), tensor(0.4790), tensor(0.4840), tensor(0.5150), tensor(0.5810), tensor(0.6600), tensor(0.7290), tensor(0.7840), tensor(0.8160), tensor(0.8480), tensor(0.8550), tensor(0.8620), tensor(0.8650), tensor(0.8670), tensor(0.8750), tensor(0.8790)], 'bob_val_eval_multiclassprecision': [tensor(0.2540), tensor(0.3660), tensor(0.4290), tensor(0.4560), tensor(0.4680), tensor(0.4790), tensor(0.4840), tensor(0.5150), tensor(0.5810), tensor(0.6600), tensor(0.7290), tensor(0.7840), tensor(0.8160), tensor(0.8480), tensor(0.8550), tensor(0.8620), tensor(0.8650), tensor(0.8670), tensor(0.8750), tensor(0.8790)]}\n",
                    ],
                }
            ],
            "source": ["print(history['local_history'])"],
            "metadata": {
                "collapsed": false,
                "ExecuteTime": {
                    "end_time": "2023-12-28T03:12:49.847854400Z",
                    "start_time": "2023-12-28T03:12:49.711385500Z",
                },
            },
            "id": "9057b745bc588200",
        },
        {
            "cell_type": "code",
            "execution_count": 11,
            "outputs": [
                {
                    "data": {
                        "text/plain": "<Figure size 640x480 with 1 Axes>",
                        "image/png": "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",
                    },
                    "metadata": {},
                    "output_type": "display_data",
                }
            ],
            "source": [
                "from matplotlib import pyplot as plt\n",
                "\n",
                "# Draw accuracy values for training & validation\n",
                "plt.plot(history['global_history']['multiclassaccuracy'])\n",
                "plt.plot(history['global_history']['val_multiclassaccuracy'])\n",
                "plt.plot(history['local_history']['alice_train_multiclassaccuracy'])\n",
                "plt.plot(history['local_history']['bob_train_multiclassaccuracy'])\n",
                "plt.plot(history['local_history']['alice_val_eval_multiclassaccuracy'])\n",
                "plt.plot(history['local_history']['bob_val_eval_multiclassaccuracy'])\n",
                "plt.title('FLModel accuracy in FedDYN')\n",
                "plt.ylabel('Accuracy')\n",
                "plt.xlabel('Epoch')\n",
                "plt.legend(['Train', 'Valid','alice_T','bob_T','alice_V','bob_V'], loc='upper left')\n",
                "plt.show()",
            ],
            "metadata": {
                "collapsed": false,
                "ExecuteTime": {
                    "end_time": "2023-12-28T03:12:50.712190200Z",
                    "start_time": "2023-12-28T03:12:49.848857200Z",
                },
            },
            "id": "95675bdf838fa4d9",
        },
        {
            "cell_type": "code",
            "execution_count": 12,
            "outputs": [
                {
                    "name": "stderr",
                    "output_type": "stream",
                    "text": [
                        "INFO:root:Create proxy actor <class 'secretflow.ml.nn.fl.backend.torch.strategy.fed_avg_w.PYUFedAvgW'> with party alice.\n",
                        "INFO:root:Create proxy actor <class 'secretflow.ml.nn.fl.backend.torch.strategy.fed_avg_w.PYUFedAvgW'> with party bob.\n",
                        "INFO:root:FL Train Params: {'x': FedNdarray(partitions={PYURuntime(alice): <secretflow.device.device.pyu.PYUObject object at 0x7f3db97a51c0>, PYURuntime(bob): <secretflow.device.device.pyu.PYUObject object at 0x7f3db97a02e0>}, partition_way=<PartitionWay.HORIZONTAL: 'horizontal'>), 'y': FedNdarray(partitions={PYURuntime(alice): <secretflow.device.device.pyu.PYUObject object at 0x7f3db97a0640>, PYURuntime(bob): <secretflow.device.device.pyu.PYUObject object at 0x7f3db97b99d0>}, partition_way=<PartitionWay.HORIZONTAL: 'horizontal'>), 'batch_size': 128, 'batch_sampling_rate': None, 'epochs': 20, 'verbose': 1, 'callbacks': None, 'validation_data': (FedNdarray(partitions={PYURuntime(alice): <secretflow.device.device.pyu.PYUObject object at 0x7f3db97a0730>, PYURuntime(bob): <secretflow.device.device.pyu.PYUObject object at 0x7f3db97a0700>}, partition_way=<PartitionWay.HORIZONTAL: 'horizontal'>), FedNdarray(partitions={PYURuntime(alice): <secretflow.device.device.pyu.PYUObject object at 0x7f3db97a08e0>, PYURuntime(bob): <secretflow.device.device.pyu.PYUObject object at 0x7f3db97a0250>}, partition_way=<PartitionWay.HORIZONTAL: 'horizontal'>)), 'shuffle': False, 'class_weight': None, 'sample_weight': None, 'validation_freq': 1, 'aggregate_freq': 10, 'label_decoder': None, 'max_batch_size': 20000, 'prefetch_buffer_size': None, 'sampler_method': 'batch', 'random_seed': 65569, 'dp_spent_step_freq': None, 'audit_log_dir': None, 'dataset_builder': None, 'wait_steps': 100, 'self': <secretflow.ml.nn.fl.fl_model.FLModel object at 0x7f3db41718e0>}\n",
                        "Train Processing: :  21%|██▏       | 10/47 [00:00<00:00, 70.45it/s]",
                    ],
                },
                {"name": "stdout", "output_type": "stream", "text": ["Epoch 1/20\n"]},
                {
                    "name": "stderr",
                    "output_type": "stream",
                    "text": [
                        "Train Processing: :  64%|██████▍   | 30/47 [00:00<00:00, 102.01it/s]/home/cyf/anaconda3/envs/secretflow/lib/python3.8/site-packages/secretflow/ml/nn/metrics.py:59: UserWarning: Please pay attention to local metrics, global only do naive aggregation.\n",
                        "  warnings.warn(\n",
                        "\u001B[2m\u001B[36m(pid=2754330)\u001B[0m 2023-12-28 03:12:54.129671: W tensorflow/compiler/xla/stream_executor/platform/default/dso_loader.cc:64] Could not load dynamic library 'libcudart.so.11.0'; dlerror: libcudart.so.11.0: cannot open shared object file: No such file or directory\n",
                        "\u001B[2m\u001B[36m(pid=2754263)\u001B[0m 2023-12-28 03:12:54.443784: W tensorflow/compiler/xla/stream_executor/platform/default/dso_loader.cc:64] Could not load dynamic library 'libcudart.so.11.0'; dlerror: libcudart.so.11.0: cannot open shared object file: No such file or directory\n",
                        "Train Processing: :  85%|████████▌ | 40/47 [00:01<00:00, 35.05it/s, {'multiclassaccuracy': 0.90016663, 'multiclassprecision': 0.90016663, 'val_multiclassaccuracy': 0.8815, 'val_multiclassprecision': 0.8815}] \n",
                        "\u001B[2m\u001B[36m(pid=2754330)\u001B[0m 2023-12-28 03:12:54.746839: W tensorflow/compiler/xla/stream_executor/platform/default/dso_loader.cc:64] Could not load dynamic library 'libnvinfer.so.7'; dlerror: libnvinfer.so.7: cannot open shared object file: No such file or directory\n",
                        "\u001B[2m\u001B[36m(pid=2754330)\u001B[0m 2023-12-28 03:12:54.746928: W tensorflow/compiler/xla/stream_executor/platform/default/dso_loader.cc:64] Could not load dynamic library 'libnvinfer_plugin.so.7'; dlerror: libnvinfer_plugin.so.7: cannot open shared object file: No such file or directory\n",
                        "\u001B[2m\u001B[36m(pid=2754330)\u001B[0m 2023-12-28 03:12:54.746937: W tensorflow/compiler/tf2tensorrt/utils/py_utils.cc:38] TF-TRT Warning: Cannot dlopen some TensorRT libraries. If you would like to use Nvidia GPU with TensorRT, please make sure the missing libraries mentioned above are installed properly.\n",
                        "\u001B[2m\u001B[36m(pid=2754263)\u001B[0m 2023-12-28 03:12:55.209849: W tensorflow/compiler/xla/stream_executor/platform/default/dso_loader.cc:64] Could not load dynamic library 'libnvinfer.so.7'; dlerror: libnvinfer.so.7: cannot open shared object file: No such file or directory\n",
                        "\u001B[2m\u001B[36m(pid=2754263)\u001B[0m 2023-12-28 03:12:55.209930: W tensorflow/compiler/xla/stream_executor/platform/default/dso_loader.cc:64] Could not load dynamic library 'libnvinfer_plugin.so.7'; dlerror: libnvinfer_plugin.so.7: cannot open shared object file: No such file or directory\n",
                        "\u001B[2m\u001B[36m(pid=2754263)\u001B[0m 2023-12-28 03:12:55.209939: W tensorflow/compiler/tf2tensorrt/utils/py_utils.cc:38] TF-TRT Warning: Cannot dlopen some TensorRT libraries. If you would like to use Nvidia GPU with TensorRT, please make sure the missing libraries mentioned above are installed properly.\n",
                        "Train Processing: :  21%|██▏       | 10/47 [00:00<00:00, 58.96it/s]",
                    ],
                },
                {
                    "name": "stdout",
                    "output_type": "stream",
                    "text": [
                        "Epoch 2/20\n",
                        "\u001B[2m\u001B[36m(PYUFedDYN pid=2749575)\u001B[0m {'train-loss': -0.05158092454075813, 'train_multiclassaccuracy': tensor(0.8902), 'train_multiclassprecision': tensor(0.8902), 'val_eval_multiclassaccuracy': tensor(0.8780), 'val_eval_multiclassprecision': tensor(0.8780)}\n",
                        "\u001B[2m\u001B[36m(PYUFedDYN pid=2749643)\u001B[0m {'train-loss': 0.05152881145477295, 'train_multiclassaccuracy': tensor(0.9102), 'train_multiclassprecision': tensor(0.9102), 'val_eval_multiclassaccuracy': tensor(0.8850), 'val_eval_multiclassprecision': tensor(0.8850)}\n",
                    ],
                },
                {
                    "name": "stderr",
                    "output_type": "stream",
                    "text": [
                        "Train Processing: :  85%|████████▌ | 40/47 [00:01<00:00, 27.42it/s, {'multiclassaccuracy': 0.9044167, 'multiclassprecision': 0.9044167, 'val_multiclassaccuracy': 0.88100004, 'val_multiclassprecision': 0.88100004}]\n",
                        "Train Processing: :   0%|          | 0/47 [00:00<?, ?it/s]",
                    ],
                },
                {
                    "name": "stdout",
                    "output_type": "stream",
                    "text": [
                        "Epoch 3/20\n",
                        "\u001B[2m\u001B[36m(PYUFedDYN pid=2749575)\u001B[0m {'train-loss': -0.08262219280004501, 'train_multiclassaccuracy': tensor(0.8948), 'train_multiclassprecision': tensor(0.8948), 'val_eval_multiclassaccuracy': tensor(0.8790), 'val_eval_multiclassprecision': tensor(0.8790)}\n",
                        "\u001B[2m\u001B[36m(PYUFedDYN pid=2749643)\u001B[0m {'train-loss': 0.014820769429206848, 'train_multiclassaccuracy': tensor(0.9140), 'train_multiclassprecision': tensor(0.9140), 'val_eval_multiclassaccuracy': tensor(0.8830), 'val_eval_multiclassprecision': tensor(0.8830)}\n",
                    ],
                },
                {
                    "name": "stderr",
                    "output_type": "stream",
                    "text": [
                        "Train Processing: :  85%|████████▌ | 40/47 [00:02<00:00, 18.61it/s, {'multiclassaccuracy': 0.9076667, 'multiclassprecision': 0.9076667, 'val_multiclassaccuracy': 0.88100004, 'val_multiclassprecision': 0.88100004}]\n",
                        "Train Processing: :   0%|          | 0/47 [00:00<?, ?it/s]",
                    ],
                },
                {
                    "name": "stdout",
                    "output_type": "stream",
                    "text": [
                        "Epoch 4/20\n",
                        "\u001B[2m\u001B[36m(PYUFedDYN pid=2749575)\u001B[0m {'train-loss': -0.11517498642206192, 'train_multiclassaccuracy': tensor(0.8978), 'train_multiclassprecision': tensor(0.8978), 'val_eval_multiclassaccuracy': tensor(0.8790), 'val_eval_multiclassprecision': tensor(0.8790)}\n",
                        "\u001B[2m\u001B[36m(PYUFedDYN pid=2749643)\u001B[0m {'train-loss': -0.017116829752922058, 'train_multiclassaccuracy': tensor(0.9175), 'train_multiclassprecision': tensor(0.9175), 'val_eval_multiclassaccuracy': tensor(0.8830), 'val_eval_multiclassprecision': tensor(0.8830)}\n",
                    ],
                },
                {
                    "name": "stderr",
                    "output_type": "stream",
                    "text": [
                        "Train Processing: :  85%|████████▌ | 40/47 [00:03<00:00, 11.34it/s, {'multiclassaccuracy': 0.9105, 'multiclassprecision': 0.9105, 'val_multiclassaccuracy': 0.8815, 'val_multiclassprecision': 0.8815}]\n",
                        "Train Processing: :  21%|██▏       | 10/47 [00:00<00:00, 85.07it/s]",
                    ],
                },
                {
                    "name": "stdout",
                    "output_type": "stream",
                    "text": [
                        "Epoch 5/20\n",
                        "\u001B[2m\u001B[36m(PYUFedDYN pid=2749575)\u001B[0m {'train-loss': -0.14614583551883698, 'train_multiclassaccuracy': tensor(0.9008), 'train_multiclassprecision': tensor(0.9008), 'val_eval_multiclassaccuracy': tensor(0.8780), 'val_eval_multiclassprecision': tensor(0.8780)}\n",
                        "\u001B[2m\u001B[36m(PYUFedDYN pid=2749643)\u001B[0m {'train-loss': -0.046651989221572876, 'train_multiclassaccuracy': tensor(0.9202), 'train_multiclassprecision': tensor(0.9202), 'val_eval_multiclassaccuracy': tensor(0.8850), 'val_eval_multiclassprecision': tensor(0.8850)}\n",
                    ],
                },
                {
                    "name": "stderr",
                    "output_type": "stream",
                    "text": [
                        "Train Processing: :  85%|████████▌ | 40/47 [00:01<00:00, 30.86it/s, {'multiclassaccuracy': 0.91225004, 'multiclassprecision': 0.91225004, 'val_multiclassaccuracy': 0.8825, 'val_multiclassprecision': 0.8825}] \n",
                        "Train Processing: :   0%|          | 0/47 [00:00<?, ?it/s]",
                    ],
                },
                {
                    "name": "stdout",
                    "output_type": "stream",
                    "text": [
                        "\u001B[2m\u001B[36m(PYUFedDYN pid=2749575)\u001B[0m {'train-loss': -0.1781206727027893, 'train_multiclassaccuracy': tensor(0.9022), 'train_multiclassprecision': tensor(0.9022), 'val_eval_multiclassaccuracy': tensor(0.8800), 'val_eval_multiclassprecision': tensor(0.8800)}\n",
                        "\u001B[2m\u001B[36m(PYUFedDYN pid=2749643)\u001B[0m {'train-loss': -0.0735345333814621, 'train_multiclassaccuracy': tensor(0.9223), 'train_multiclassprecision': tensor(0.9223), 'val_eval_multiclassaccuracy': tensor(0.8850), 'val_eval_multiclassprecision': tensor(0.8850)}\n",
                        "Epoch 6/20\n",
                    ],
                },
                {
                    "name": "stderr",
                    "output_type": "stream",
                    "text": [
                        "Train Processing: :  85%|████████▌ | 40/47 [00:13<00:02,  2.98it/s, {'multiclassaccuracy': 0.91358334, 'multiclassprecision': 0.91358334, 'val_multiclassaccuracy': 0.8835, 'val_multiclassprecision': 0.8835}]\n",
                        "Train Processing: :   0%|          | 0/47 [00:00<?, ?it/s]",
                    ],
                },
                {
                    "name": "stdout",
                    "output_type": "stream",
                    "text": [
                        "Epoch 7/20\n",
                        "\u001B[2m\u001B[36m(PYUFedDYN pid=2749575)\u001B[0m {'train-loss': -0.21074306964874268, 'train_multiclassaccuracy': tensor(0.9038), 'train_multiclassprecision': tensor(0.9038), 'val_eval_multiclassaccuracy': tensor(0.8810), 'val_eval_multiclassprecision': tensor(0.8810)}\n",
                        "\u001B[2m\u001B[36m(PYUFedDYN pid=2749643)\u001B[0m {'train-loss': -0.09841985255479813, 'train_multiclassaccuracy': tensor(0.9233), 'train_multiclassprecision': tensor(0.9233), 'val_eval_multiclassaccuracy': tensor(0.8860), 'val_eval_multiclassprecision': tensor(0.8860)}\n",
                    ],
                },
                {
                    "name": "stderr",
                    "output_type": "stream",
                    "text": [
                        "Train Processing: :  85%|████████▌ | 40/47 [00:12<00:02,  3.15it/s, {'multiclassaccuracy': 0.91466665, 'multiclassprecision': 0.91466665, 'val_multiclassaccuracy': 0.884, 'val_multiclassprecision': 0.884}]\n",
                        "Train Processing: :   0%|          | 0/47 [00:00<?, ?it/s]",
                    ],
                },
                {
                    "name": "stdout",
                    "output_type": "stream",
                    "text": [
                        "Epoch 8/20\n",
                        "\u001B[2m\u001B[36m(PYUFedDYN pid=2749575)\u001B[0m {'train-loss': -0.24457961320877075, 'train_multiclassaccuracy': tensor(0.9060), 'train_multiclassprecision': tensor(0.9060), 'val_eval_multiclassaccuracy': tensor(0.8820), 'val_eval_multiclassprecision': tensor(0.8820)}\n",
                        "\u001B[2m\u001B[36m(PYUFedDYN pid=2749643)\u001B[0m {'train-loss': -0.12287960201501846, 'train_multiclassaccuracy': tensor(0.9233), 'train_multiclassprecision': tensor(0.9233), 'val_eval_multiclassaccuracy': tensor(0.8860), 'val_eval_multiclassprecision': tensor(0.8860)}\n",
                    ],
                },
                {
                    "name": "stderr",
                    "output_type": "stream",
                    "text": [
                        "Train Processing: :  85%|████████▌ | 40/47 [00:16<00:02,  2.37it/s, {'multiclassaccuracy': 0.9156667, 'multiclassprecision': 0.9156667, 'val_multiclassaccuracy': 0.8845, 'val_multiclassprecision': 0.8845}]\n",
                        "Train Processing: :   0%|          | 0/47 [00:00<?, ?it/s]",
                    ],
                },
                {
                    "name": "stdout",
                    "output_type": "stream",
                    "text": [
                        "Epoch 9/20\n",
                        "\u001B[2m\u001B[36m(PYUFedDYN pid=2749575)\u001B[0m {'train-loss': -0.27658554911613464, 'train_multiclassaccuracy': tensor(0.9073), 'train_multiclassprecision': tensor(0.9073), 'val_eval_multiclassaccuracy': tensor(0.8830), 'val_eval_multiclassprecision': tensor(0.8830)}\n",
                        "\u001B[2m\u001B[36m(PYUFedDYN pid=2749643)\u001B[0m {'train-loss': -0.14682340621948242, 'train_multiclassaccuracy': tensor(0.9240), 'train_multiclassprecision': tensor(0.9240), 'val_eval_multiclassaccuracy': tensor(0.8860), 'val_eval_multiclassprecision': tensor(0.8860)}\n",
                    ],
                },
                {
                    "name": "stderr",
                    "output_type": "stream",
                    "text": [
                        "Train Processing: :  85%|████████▌ | 40/47 [00:16<00:02,  2.44it/s, {'multiclassaccuracy': 0.91616666, 'multiclassprecision': 0.91616666, 'val_multiclassaccuracy': 0.8865, 'val_multiclassprecision': 0.8865}]\n"
                    ],
                },
                {
                    "name": "stdout",
                    "output_type": "stream",
                    "text": [
                        "\u001B[2m\u001B[36m(PYUFedDYN pid=2749575)\u001B[0m {'train-loss': -0.3087112605571747, 'train_multiclassaccuracy': tensor(0.9085), 'train_multiclassprecision': tensor(0.9085), 'val_eval_multiclassaccuracy': tensor(0.8880), 'val_eval_multiclassprecision': tensor(0.8880)}\n"
                    ],
                },
                {
                    "name": "stderr",
                    "output_type": "stream",
                    "text": [
                        "Train Processing: :   0%|          | 0/47 [00:00<?, ?it/s]"
                    ],
                },
                {
                    "name": "stdout",
                    "output_type": "stream",
                    "text": [
                        "Epoch 10/20\n",
                        "\u001B[2m\u001B[36m(PYUFedDYN pid=2749643)\u001B[0m {'train-loss': -0.17086289823055267, 'train_multiclassaccuracy': tensor(0.9238), 'train_multiclassprecision': tensor(0.9238), 'val_eval_multiclassaccuracy': tensor(0.8850), 'val_eval_multiclassprecision': tensor(0.8850)}\n",
                    ],
                },
                {
                    "name": "stderr",
                    "output_type": "stream",
                    "text": [
                        "Train Processing: :  85%|████████▌ | 40/47 [00:17<00:02,  2.35it/s, {'multiclassaccuracy': 0.9168333, 'multiclassprecision': 0.9168333, 'val_multiclassaccuracy': 0.889, 'val_multiclassprecision': 0.889}]\n",
                        "Train Processing: :   0%|          | 0/47 [00:00<?, ?it/s]",
                    ],
                },
                {
                    "name": "stdout",
                    "output_type": "stream",
                    "text": [
                        "Epoch 11/20\n",
                        "\u001B[2m\u001B[36m(PYUFedDYN pid=2749575)\u001B[0m {'train-loss': -0.339448481798172, 'train_multiclassaccuracy': tensor(0.9098), 'train_multiclassprecision': tensor(0.9098), 'val_eval_multiclassaccuracy': tensor(0.8900), 'val_eval_multiclassprecision': tensor(0.8900)}\n",
                        "\u001B[2m\u001B[36m(PYUFedDYN pid=2749643)\u001B[0m {'train-loss': -0.19484147429466248, 'train_multiclassaccuracy': tensor(0.9238), 'train_multiclassprecision': tensor(0.9238), 'val_eval_multiclassaccuracy': tensor(0.8880), 'val_eval_multiclassprecision': tensor(0.8880)}\n",
                    ],
                },
                {
                    "name": "stderr",
                    "output_type": "stream",
                    "text": [
                        "Train Processing: :  85%|████████▌ | 40/47 [00:15<00:02,  2.57it/s, {'multiclassaccuracy': 0.9176667, 'multiclassprecision': 0.9176667, 'val_multiclassaccuracy': 0.89, 'val_multiclassprecision': 0.89}]\n"
                    ],
                },
                {
                    "name": "stdout",
                    "output_type": "stream",
                    "text": [
                        "\u001B[2m\u001B[36m(PYUFedDYN pid=2749575)\u001B[0m {'train-loss': -0.3719157576560974, 'train_multiclassaccuracy': tensor(0.9103), 'train_multiclassprecision': tensor(0.9103), 'val_eval_multiclassaccuracy': tensor(0.8930), 'val_eval_multiclassprecision': tensor(0.8930)}\n"
                    ],
                },
                {
                    "name": "stderr",
                    "output_type": "stream",
                    "text": [
                        "Train Processing: :   0%|          | 0/47 [00:00<?, ?it/s]"
                    ],
                },
                {
                    "name": "stdout",
                    "output_type": "stream",
                    "text": [
                        "\u001B[2m\u001B[36m(PYUFedDYN pid=2749643)\u001B[0m {'train-loss': -0.21751923859119415, 'train_multiclassaccuracy': tensor(0.9250), 'train_multiclassprecision': tensor(0.9250), 'val_eval_multiclassaccuracy': tensor(0.8870), 'val_eval_multiclassprecision': tensor(0.8870)}Epoch 12/20\n"
                    ],
                },
                {
                    "name": "stderr",
                    "output_type": "stream",
                    "text": [
                        "Train Processing: :  85%|████████▌ | 40/47 [00:14<00:02,  2.77it/s, {'multiclassaccuracy': 0.91816664, 'multiclassprecision': 0.91816664, 'val_multiclassaccuracy': 0.8915, 'val_multiclassprecision': 0.8915}]\n"
                    ],
                },
                {
                    "name": "stdout",
                    "output_type": "stream",
                    "text": [
                        "\u001B[2m\u001B[36m(PYUFedDYN pid=2749575)\u001B[0m {'train-loss': -0.4011957347393036, 'train_multiclassaccuracy': tensor(0.9110), 'train_multiclassprecision': tensor(0.9110), 'val_eval_multiclassaccuracy': tensor(0.8950), 'val_eval_multiclassprecision': tensor(0.8950)}\n"
                    ],
                },
                {
                    "name": "stderr",
                    "output_type": "stream",
                    "text": [
                        "Train Processing: :   0%|          | 0/47 [00:00<?, ?it/s]"
                    ],
                },
                {
                    "name": "stdout",
                    "output_type": "stream",
                    "text": [
                        "Epoch 13/20\n",
                        "\u001B[2m\u001B[36m(PYUFedDYN pid=2749643)\u001B[0m {'train-loss': -0.24006101489067078, 'train_multiclassaccuracy': tensor(0.9253), 'train_multiclassprecision': tensor(0.9253), 'val_eval_multiclassaccuracy': tensor(0.8880), 'val_eval_multiclassprecision': tensor(0.8880)}\n",
                    ],
                },
                {
                    "name": "stderr",
                    "output_type": "stream",
                    "text": [
                        "Train Processing: :  85%|████████▌ | 40/47 [00:15<00:02,  2.62it/s, {'multiclassaccuracy': 0.9191667, 'multiclassprecision': 0.9191667, 'val_multiclassaccuracy': 0.89100003, 'val_multiclassprecision': 0.89100003}]\n",
                        "Train Processing: :   0%|          | 0/47 [00:00<?, ?it/s]",
                    ],
                },
                {
                    "name": "stdout",
                    "output_type": "stream",
                    "text": [
                        "Epoch 14/20\n",
                        "\u001B[2m\u001B[36m(PYUFedDYN pid=2749575)\u001B[0m {'train-loss': -0.431945264339447, 'train_multiclassaccuracy': tensor(0.9130), 'train_multiclassprecision': tensor(0.9130), 'val_eval_multiclassaccuracy': tensor(0.8950), 'val_eval_multiclassprecision': tensor(0.8950)}\n",
                        "\u001B[2m\u001B[36m(PYUFedDYN pid=2749643)\u001B[0m {'train-loss': -0.2664995491504669, 'train_multiclassaccuracy': tensor(0.9253), 'train_multiclassprecision': tensor(0.9253), 'val_eval_multiclassaccuracy': tensor(0.8870), 'val_eval_multiclassprecision': tensor(0.8870)}\n",
                    ],
                },
                {
                    "name": "stderr",
                    "output_type": "stream",
                    "text": [
                        "Train Processing: :  85%|████████▌ | 40/47 [00:34<00:06,  1.15it/s, {'multiclassaccuracy': 0.9205, 'multiclassprecision': 0.9205, 'val_multiclassaccuracy': 0.8935, 'val_multiclassprecision': 0.8935}]\n"
                    ],
                },
                {
                    "name": "stdout",
                    "output_type": "stream",
                    "text": [
                        "\u001B[2m\u001B[36m(PYUFedDYN pid=2749575)\u001B[0m {'train-loss': -0.4625246226787567, 'train_multiclassaccuracy': tensor(0.9148), 'train_multiclassprecision': tensor(0.9148), 'val_eval_multiclassaccuracy': tensor(0.8970), 'val_eval_multiclassprecision': tensor(0.8970)}\n"
                    ],
                },
                {
                    "name": "stderr",
                    "output_type": "stream",
                    "text": [
                        "Train Processing: :   0%|          | 0/47 [00:00<?, ?it/s]"
                    ],
                },
                {
                    "name": "stdout",
                    "output_type": "stream",
                    "text": [
                        "Epoch 15/20\n",
                        "\u001B[2m\u001B[36m(PYUFedDYN pid=2749643)\u001B[0m {'train-loss': -0.28864163160324097, 'train_multiclassaccuracy': tensor(0.9262), 'train_multiclassprecision': tensor(0.9262), 'val_eval_multiclassaccuracy': tensor(0.8900), 'val_eval_multiclassprecision': tensor(0.8900)}\n",
                    ],
                },
                {
                    "name": "stderr",
                    "output_type": "stream",
                    "text": [
                        "Train Processing: :  85%|████████▌ | 40/47 [00:24<00:04,  1.60it/s, {'multiclassaccuracy': 0.9206667, 'multiclassprecision': 0.9206667, 'val_multiclassaccuracy': 0.8945, 'val_multiclassprecision': 0.8945}]\n",
                        "Train Processing: :   0%|          | 0/47 [00:00<?, ?it/s]",
                    ],
                },
                {
                    "name": "stdout",
                    "output_type": "stream",
                    "text": [
                        "Epoch 16/20\n",
                        "\u001B[2m\u001B[36m(PYUFedDYN pid=2749575)\u001B[0m {'train-loss': -0.49320921301841736, 'train_multiclassaccuracy': tensor(0.9150), 'train_multiclassprecision': tensor(0.9150), 'val_eval_multiclassaccuracy': tensor(0.8970), 'val_eval_multiclassprecision': tensor(0.8970)}\n",
                        "\u001B[2m\u001B[36m(PYUFedDYN pid=2749643)\u001B[0m {'train-loss': -0.3136320412158966, 'train_multiclassaccuracy': tensor(0.9263), 'train_multiclassprecision': tensor(0.9263), 'val_eval_multiclassaccuracy': tensor(0.8920), 'val_eval_multiclassprecision': tensor(0.8920)}\n",
                    ],
                },
                {
                    "name": "stderr",
                    "output_type": "stream",
                    "text": [
                        "Train Processing: :  85%|████████▌ | 40/47 [00:13<00:02,  3.00it/s, {'multiclassaccuracy': 0.92141664, 'multiclassprecision': 0.92141664, 'val_multiclassaccuracy': 0.895, 'val_multiclassprecision': 0.895}]\n",
                        "Train Processing: :   0%|          | 0/47 [00:00<?, ?it/s]",
                    ],
                },
                {
                    "name": "stdout",
                    "output_type": "stream",
                    "text": [
                        "Epoch 17/20\n",
                        "\u001B[2m\u001B[36m(PYUFedDYN pid=2749575)\u001B[0m {'train-loss': -0.5195147395133972, 'train_multiclassaccuracy': tensor(0.9165), 'train_multiclassprecision': tensor(0.9165), 'val_eval_multiclassaccuracy': tensor(0.8970), 'val_eval_multiclassprecision': tensor(0.8970)}\n",
                        "\u001B[2m\u001B[36m(PYUFedDYN pid=2749643)\u001B[0m {'train-loss': -0.3431382179260254, 'train_multiclassaccuracy': tensor(0.9263), 'train_multiclassprecision': tensor(0.9263), 'val_eval_multiclassaccuracy': tensor(0.8930), 'val_eval_multiclassprecision': tensor(0.8930)}\n",
                    ],
                },
                {
                    "name": "stderr",
                    "output_type": "stream",
                    "text": [
                        "Train Processing: :  85%|████████▌ | 40/47 [00:23<00:04,  1.68it/s, {'multiclassaccuracy': 0.92125, 'multiclassprecision': 0.92125, 'val_multiclassaccuracy': 0.895, 'val_multiclassprecision': 0.895}]\n",
                        "Train Processing: :   0%|          | 0/47 [00:00<?, ?it/s]",
                    ],
                },
                {
                    "name": "stdout",
                    "output_type": "stream",
                    "text": [
                        "Epoch 18/20\n",
                        "\u001B[2m\u001B[36m(PYUFedDYN pid=2749575)\u001B[0m {'train-loss': -0.5509650707244873, 'train_multiclassaccuracy': tensor(0.9163), 'train_multiclassprecision': tensor(0.9163), 'val_eval_multiclassaccuracy': tensor(0.8980), 'val_eval_multiclassprecision': tensor(0.8980)}\n",
                        "\u001B[2m\u001B[36m(PYUFedDYN pid=2749643)\u001B[0m {'train-loss': -0.3711944818496704, 'train_multiclassaccuracy': tensor(0.9262), 'train_multiclassprecision': tensor(0.9262), 'val_eval_multiclassaccuracy': tensor(0.8920), 'val_eval_multiclassprecision': tensor(0.8920)}\n",
                    ],
                },
                {
                    "name": "stderr",
                    "output_type": "stream",
                    "text": [
                        "Train Processing: :  85%|████████▌ | 40/47 [00:26<00:04,  1.49it/s, {'multiclassaccuracy': 0.92149997, 'multiclassprecision': 0.92149997, 'val_multiclassaccuracy': 0.895, 'val_multiclassprecision': 0.895}]\n",
                        "Train Processing: :   0%|          | 0/47 [00:00<?, ?it/s]",
                    ],
                },
                {
                    "name": "stdout",
                    "output_type": "stream",
                    "text": [
                        "Epoch 19/20\n",
                        "\u001B[2m\u001B[36m(PYUFedDYN pid=2749575)\u001B[0m {'train-loss': -0.5824533700942993, 'train_multiclassaccuracy': tensor(0.9165), 'train_multiclassprecision': tensor(0.9165), 'val_eval_multiclassaccuracy': tensor(0.8980), 'val_eval_multiclassprecision': tensor(0.8980)}\n",
                        "\u001B[2m\u001B[36m(PYUFedDYN pid=2749643)\u001B[0m {'train-loss': -0.39897432923316956, 'train_multiclassaccuracy': tensor(0.9265), 'train_multiclassprecision': tensor(0.9265), 'val_eval_multiclassaccuracy': tensor(0.8920), 'val_eval_multiclassprecision': tensor(0.8920)}\n",
                    ],
                },
                {
                    "name": "stderr",
                    "output_type": "stream",
                    "text": [
                        "Train Processing: :  85%|████████▌ | 40/47 [00:22<00:03,  1.76it/s, {'multiclassaccuracy': 0.92183334, 'multiclassprecision': 0.92183334, 'val_multiclassaccuracy': 0.8965, 'val_multiclassprecision': 0.8965}]\n"
                    ],
                },
                {
                    "name": "stdout",
                    "output_type": "stream",
                    "text": [
                        "\u001B[2m\u001B[36m(PYUFedDYN pid=2749575)\u001B[0m {'train-loss': -0.6123411059379578, 'train_multiclassaccuracy': tensor(0.9172), 'train_multiclassprecision': tensor(0.9172), 'val_eval_multiclassaccuracy': tensor(0.9020), 'val_eval_multiclassprecision': tensor(0.9020)}\n"
                    ],
                },
                {
                    "name": "stderr",
                    "output_type": "stream",
                    "text": [
                        "Train Processing: :   0%|          | 0/47 [00:00<?, ?it/s]"
                    ],
                },
                {
                    "name": "stdout",
                    "output_type": "stream",
                    "text": [
                        "Epoch 20/20\n",
                        "\u001B[2m\u001B[36m(PYUFedDYN pid=2749643)\u001B[0m {'train-loss': -0.430637925863266, 'train_multiclassaccuracy': tensor(0.9265), 'train_multiclassprecision': tensor(0.9265), 'val_eval_multiclassaccuracy': tensor(0.8910), 'val_eval_multiclassprecision': tensor(0.8910)}\n",
                    ],
                },
                {
                    "name": "stderr",
                    "output_type": "stream",
                    "text": [
                        "Train Processing: :  85%|████████▌ | 40/47 [00:26<00:04,  1.52it/s, {'multiclassaccuracy': 0.92225003, 'multiclassprecision': 0.92225003, 'val_multiclassaccuracy': 0.89549994, 'val_multiclassprecision': 0.89549994}]\n"
                    ],
                },
            ],
            "source": [
                "fl_model_2 = FLModel(\n",
                "    server=server,\n",
                "    device_list=device_list,\n",
                "    model=model_def,\n",
                "    aggregator=aggregator,\n",
                "    strategy='fed_avg_w',  # fl strategy\n",
                "    backend=\"torch\",  # backend support ['tensorflow', 'torch']\n",
                ")\n",
                "history_2 = fl_model.fit(\n",
                "    train_data,\n",
                "    train_label,\n",
                "    validation_data=(test_data, test_label),\n",
                "    epochs=20,\n",
                "    batch_size=128,\n",
                "    aggregate_freq=10,\n",
                ")",
            ],
            "metadata": {
                "collapsed": false,
                "ExecuteTime": {
                    "end_time": "2023-12-28T03:18:52.189390200Z",
                    "start_time": "2023-12-28T03:12:50.712190200Z",
                },
            },
            "id": "6f351e3e0dc81875",
        },
        {
            "cell_type": "code",
            "execution_count": 13,
            "outputs": [
                {
                    "name": "stdout",
                    "output_type": "stream",
                    "text": [
                        "\u001B[2m\u001B[36m(PYUFedDYN pid=2749575)\u001B[0m {'train-loss': -0.6391441226005554, 'train_multiclassaccuracy': tensor(0.9175), 'train_multiclassprecision': tensor(0.9175), 'val_eval_multiclassaccuracy': tensor(0.9000), 'val_eval_multiclassprecision': tensor(0.9000)}\n",
                        "\u001B[2m\u001B[36m(PYUFedDYN pid=2749643)\u001B[0m {'train-loss': -0.45919203758239746, 'train_multiclassaccuracy': tensor(0.9270), 'train_multiclassprecision': tensor(0.9270), 'val_eval_multiclassaccuracy': tensor(0.8910), 'val_eval_multiclassprecision': tensor(0.8910)}\n",
                        "{'alice_train-loss': [-0.05158092454075813, -0.08262219280004501, -0.11517498642206192, -0.14614583551883698, -0.1781206727027893, -0.21074306964874268, -0.24457961320877075, -0.27658554911613464, -0.3087112605571747, -0.339448481798172, -0.3719157576560974, -0.4011957347393036, -0.431945264339447, -0.4625246226787567, -0.49320921301841736, -0.5195147395133972, -0.5509650707244873, -0.5824533700942993, -0.6123411059379578, -0.6391441226005554], 'alice_train_multiclassaccuracy': [tensor(0.8902), tensor(0.8948), tensor(0.8978), tensor(0.9008), tensor(0.9022), tensor(0.9038), tensor(0.9060), tensor(0.9073), tensor(0.9085), tensor(0.9098), tensor(0.9103), tensor(0.9110), tensor(0.9130), tensor(0.9148), tensor(0.9150), tensor(0.9165), tensor(0.9163), tensor(0.9165), tensor(0.9172), tensor(0.9175)], 'alice_train_multiclassprecision': [tensor(0.8902), tensor(0.8948), tensor(0.8978), tensor(0.9008), tensor(0.9022), tensor(0.9038), tensor(0.9060), tensor(0.9073), tensor(0.9085), tensor(0.9098), tensor(0.9103), tensor(0.9110), tensor(0.9130), tensor(0.9148), tensor(0.9150), tensor(0.9165), tensor(0.9163), tensor(0.9165), tensor(0.9172), tensor(0.9175)], 'alice_val_eval_multiclassaccuracy': [tensor(0.8780), tensor(0.8790), tensor(0.8790), tensor(0.8780), tensor(0.8800), tensor(0.8810), tensor(0.8820), tensor(0.8830), tensor(0.8880), tensor(0.8900), tensor(0.8930), tensor(0.8950), tensor(0.8950), tensor(0.8970), tensor(0.8970), tensor(0.8970), tensor(0.8980), tensor(0.8980), tensor(0.9020), tensor(0.9000)], 'alice_val_eval_multiclassprecision': [tensor(0.8780), tensor(0.8790), tensor(0.8790), tensor(0.8780), tensor(0.8800), tensor(0.8810), tensor(0.8820), tensor(0.8830), tensor(0.8880), tensor(0.8900), tensor(0.8930), tensor(0.8950), tensor(0.8950), tensor(0.8970), tensor(0.8970), tensor(0.8970), tensor(0.8980), tensor(0.8980), tensor(0.9020), tensor(0.9000)], 'bob_train-loss': [0.05152881145477295, 0.014820769429206848, -0.017116829752922058, -0.046651989221572876, -0.0735345333814621, -0.09841985255479813, -0.12287960201501846, -0.14682340621948242, -0.17086289823055267, -0.19484147429466248, -0.21751923859119415, -0.24006101489067078, -0.2664995491504669, -0.28864163160324097, -0.3136320412158966, -0.3431382179260254, -0.3711944818496704, -0.39897432923316956, -0.430637925863266, -0.45919203758239746], 'bob_train_multiclassaccuracy': [tensor(0.9102), tensor(0.9140), tensor(0.9175), tensor(0.9202), tensor(0.9223), tensor(0.9233), tensor(0.9233), tensor(0.9240), tensor(0.9238), tensor(0.9238), tensor(0.9250), tensor(0.9253), tensor(0.9253), tensor(0.9262), tensor(0.9263), tensor(0.9263), tensor(0.9262), tensor(0.9265), tensor(0.9265), tensor(0.9270)], 'bob_train_multiclassprecision': [tensor(0.9102), tensor(0.9140), tensor(0.9175), tensor(0.9202), tensor(0.9223), tensor(0.9233), tensor(0.9233), tensor(0.9240), tensor(0.9238), tensor(0.9238), tensor(0.9250), tensor(0.9253), tensor(0.9253), tensor(0.9262), tensor(0.9263), tensor(0.9263), tensor(0.9262), tensor(0.9265), tensor(0.9265), tensor(0.9270)], 'bob_val_eval_multiclassaccuracy': [tensor(0.8850), tensor(0.8830), tensor(0.8830), tensor(0.8850), tensor(0.8850), tensor(0.8860), tensor(0.8860), tensor(0.8860), tensor(0.8850), tensor(0.8880), tensor(0.8870), tensor(0.8880), tensor(0.8870), tensor(0.8900), tensor(0.8920), tensor(0.8930), tensor(0.8920), tensor(0.8920), tensor(0.8910), tensor(0.8910)], 'bob_val_eval_multiclassprecision': [tensor(0.8850), tensor(0.8830), tensor(0.8830), tensor(0.8850), tensor(0.8850), tensor(0.8860), tensor(0.8860), tensor(0.8860), tensor(0.8850), tensor(0.8880), tensor(0.8870), tensor(0.8880), tensor(0.8870), tensor(0.8900), tensor(0.8920), tensor(0.8930), tensor(0.8920), tensor(0.8920), tensor(0.8910), tensor(0.8910)]}\n",
                    ],
                }
            ],
            "source": ["print(history_2['local_history'])"],
            "metadata": {
                "collapsed": false,
                "ExecuteTime": {
                    "end_time": "2023-12-28T03:18:52.379408900Z",
                    "start_time": "2023-12-28T03:18:52.194798500Z",
                },
            },
            "id": "9595c744fedfbee6",
        },
        {
            "cell_type": "code",
            "execution_count": 14,
            "outputs": [
                {
                    "data": {
                        "text/plain": "<Figure size 640x480 with 1 Axes>",
                        "image/png": "iVBORw0KGgoAAAANSUhEUgAAAkAAAAHHCAYAAABXx+fLAAAABHNCSVQICAgIfAhkiAAAAAlwSFlzAAAPYQAAD2EBqD+naQAAADh0RVh0U29mdHdhcmUAbWF0cGxvdGxpYiB2ZXJzaW9uMy4yLjEsIGh0dHA6Ly9tYXRwbG90bGliLm9yZy+j8jraAAAgAElEQVR4nOzdeVzUdf4H8Nd3TmYGhnO4kUtEwBQF8SgFU/MoN80rzTxXt9LSWiuzctU23bJa7fRoPTYtNbVWa03TMFPLW3+rHF4gyH0PMMz5/fz+GBgdZ0BQcEDez8eDx8x8z88XBubF5/s5OMYYAyGEEEJIOyJwdAEIIYQQQu43CkCEEEIIaXcoABFCCCGk3aEARAghhJB2hwIQIYQQQtodCkCEEEIIaXcoABFCCCGk3aEARAghhJB2hwIQIYQQQtodCkCEtBOHDh0Cx3E4dOhQk/fduHEjOI5DZmZms5eL3NQWv8/38r4ixJEoABHSCHUfTPa+FixYYNkuJCQETzzxRIPHmjp1KjiOg1KpRE1Njc36y5cvW479wQcfNPu1kPalvvetr6/vfTn/uHHjwHEcXn/99ftyPkIaS+ToAhDSlixduhShoaFWy7p06dLk44hEImg0GuzZswfjxo2zWrdlyxY4OTlBq9XeU1lJ2/Pss8/i6aefhlQqbdbjDh48GJMnT7ZaJpPJmvUc9qjVauzZswchISH45ptv8I9//AMcx7X4eQlpDApAhDTBsGHDEB8ff8/HkUqlePjhh/HNN9/YBKCvv/4ajz/+OHbu3HnP5yEN02g0kMvlji6GhVAohFAobPbjdurUCZMmTWr2497Jzp07YTKZsH79ejz66KM4fPgwEhMT73s5CLGHboER4iATJ07E3r17UV5ebll28uRJXL58GRMnTrS7z7Vr1zB27Fh4eHhALpejd+/e+PHHH222u3HjBkaOHAmFQgFvb2+8/PLL0Ol0do95/PhxDB06FK6urpDL5UhMTMTRo0fv6pr+7//+D1OnTkVYWBicnJzg6+uL6dOno6SkxGbbnJwczJgxA/7+/pBKpQgNDcXzzz8PvV5v2aa8vBwvv/wyQkJCIJVKERgYiMmTJ6O4uBhA/W1m7LVLSUpKQpcuXXD69Gn0798fcrkcCxcuBAD85z//weOPP24pS3h4ON555x2YTCa736/hw4fD3d0dCoUCXbt2xapVqwAAGzZsAMdxOHv2rM1+y5Ytg1AoRE5OTr3fP3vXU3db9ciRI0hISICTkxPCwsLw73//u97jNFVOTg6mT58OHx8fSKVSxMTEYP369TbbNeV9BZhrMwcPHowBAwYgKioKW7Zssaw7deoUOI7Dpk2bbPbbt28fOI7DDz/8YFl26NAhxMfHw8nJCeHh4VizZg0WL15MNUrkrlENECFNUFFRYfnwrePl5XVXx3rqqafw3HPPYdeuXZg+fToAc+1P586d0aNHD5vtCwoK0LdvX2g0Grz00kvw9PTEpk2b8Kc//Qk7duzAqFGjAAA1NTUYOHAgsrKy8NJLL8Hf3x9fffUVfvnlF5tj/vLLLxg2bBji4uLwt7/9DQKBABs2bMCjjz6K3377DQkJCU26pp9//hnXrl3DtGnT4Ovri4sXL2Lt2rW4ePEi/vjjD8uHVW5uLhISElBeXo5Zs2ahc+fOyMnJwY4dO6DRaCCRSFBVVYV+/fohNTUV06dPR48ePVBcXIzdu3fjxo0bd/V9LykpwbBhw/D0009j0qRJ8PHxAWAOHs7OznjllVfg7OyMX375BYsWLYJarcaKFSusru+JJ56An58f5s6dC19fX6SmpuKHH37A3LlzMWbMGMyePRtbtmxB9+7drc69ZcsWJCUlISAgoMnlvnLlCsaMGYMZM2ZgypQpWL9+PaZOnYq4uDjExMTccX+tVmvzvnVxcYFUKkVBQQF69+4NjuMwZ84cqFQq7N27FzNmzIBarca8efMANO19BZh/xsnJyZaAM2HCBPzzn//Ep59+ColEgvj4eISFhWH79u2YMmWK1b7btm2Du7s7hgwZAgA4e/Yshg4dCj8/PyxZsgQmkwlLly6FSqVq8veSEAtGCLmjDRs2MAB2v24VHBzMHn/88QaPNWXKFKZQKBhjjI0ZM4YNHDiQMcaYyWRivr6+bMmSJSwjI4MBYCtWrLDsN2/ePAaA/fbbb5ZllZWVLDQ0lIWEhDCTycQYY2zlypUMANu+fbtlu+rqataxY0cGgCUnJzPGGON5nkVERLAhQ4Ywnuct22o0GhYaGsoGDx5sc/0ZGRkNXptGo7FZ9s033zAA7PDhw5ZlkydPZgKBgJ08edJm+7qyLFq0iAFgu3btqneb+sqVnJxsda2MMZaYmMgAsNWrVzeq3H/5y1+YXC5nWq2WMcaY0WhkoaGhLDg4mJWVldktD2OMTZgwgfn7+1t+HowxdubMGQaAbdiwweY8t7J3PcHBwTbfv8LCQiaVStlf//rXBo/HGKv3fVtXlhkzZjA/Pz9WXFxstd/TTz/NXF1dLd+bxr6v6nzwwQdMJpMxtVrNGGPs0qVLDAD77rvvLNu88cYbTCwWs9LSUssynU7H3Nzc2PTp0y3LRowYweRyOcvJybEsu3z5MhOJRDa/g4Q0Ft0CI6QJPvvsM/z8889WX/di4sSJOHToEPLz8/HLL78gPz+/3ttf//3vf5GQkIBHHnnEsszZ2RmzZs1CZmYmUlJSLNv5+flhzJgxlu3kcjlmzZpldbxz585ZbreVlJSguLgYxcXFqK6uxsCBA3H48GHwPN+k67m1YW1drUPv3r0BAGfOnAEA8DyP77//HiNGjLDbnqqulmjnzp3o1q2bpWbL3jZNJZVKMW3atAbLXVlZieLiYvTr1w8ajQZpaWkAzLUQGRkZmDdvHtzc3Ootz+TJky21H3W2bNkCmUyG0aNH31W5o6Oj0a9fP8trlUqFyMhIXLt2rVH7P/nkkzbv2yFDhoAxhp07d2LEiBFgjFneA8XFxRgyZAgqKiosP7fGvq9uvebHH38cLi4uAICIiAjExcVZ3QYbP348DAYDdu3aZVm2f/9+lJeXY/z48QAAk8mEAwcOYOTIkfD397ds17FjRwwbNqxR10+IPXQLjJAmSEhIaJZG0HWGDx8OFxcXbNu2DefOnUPPnj3RsWNHu+PAXL9+Hb169bJZHhUVZVnfpUsXXL9+HR07drQJCZGRkVavL1++DAA2tx9uVVFRAXd390ZfT2lpKZYsWYKtW7eisLDQ5lgAUFRUBLVafcfec1evXr3rwFCfgIAASCQSm+UXL17EW2+9hV9++QVqtdpqXV25r169CuDOvf4GDx4MPz8/bNmyBQMHDgTP8/jmm2/w5JNPWsJAU3Xo0MFmmbu7O8rKyhq1f2BgIAYNGmSzvLCwEOXl5Vi7di3Wrl1rd9+6n2Nj31cAkJqairNnz2Ly5Mm4cuWKZXlSUhI+++wzqNVqKJVKdOvWDZ07d8a2bdswY8YMAObbX15eXnj00Uct56+pqUHHjh1tzmNvGSGNRQGIEAeSSqV46qmnsGnTJly7dg2LFy++b+euq91ZsWIFYmNj7W7j7OzcpGOOGzcOx44dw6uvvorY2Fg4OzuD53kMHTq0ybVJjVFfTZC9xsuA/a7f5eXlSExMhFKpxNKlSxEeHg4nJyecOXMGr7/+epPLLRQKMXHiRKxbtw6ff/45jh49itzc3HvqhVVfzzDG2F0fE7j5Hpg0aVK9Qbhr165NPu7mzZsBAC+//DJefvllm/U7d+601MSNHz8e7777LoqLi+Hi4oLdu3djwoQJEIno44m0LHqHEeJgEydOxPr16yEQCPD000/Xu11wcDDS09NtltfdogkODrY8XrhwAYwxq4Bw+77h4eEAAKVSabd2oKnKyspw8OBBLFmyBIsWLbIsr6tpqqNSqaBUKnHhwoUGjxceHn7Hbepqp27tSQeYaysa69ChQygpKcGuXbvQv39/y/KMjAyb8gDAhQsX7vj9mjx5Mj788EPs2bMHe/fuhUqlsjTobU1UKhVcXFxgMpnueE2NfV8xxvD1119jwIABeOGFF2yO884772DLli1WAWjJkiXYuXMnfHx8oFarrX4PvL294eTkZFWTVMfeMkIai9oAEeJgAwYMwDvvvINPP/20wdF5hw8fjhMnTuD333+3LKuursbatWsREhKC6Ohoy3a5ubnYsWOHZTuNRmNziyMuLg7h4eH44IMPUFVVZXO+oqKiJl1HXS3F7bUSK1eutHotEAgwcuRI7NmzB6dOnbI5Tt3+o0ePxvnz5/Hdd9/Vu01dKDl8+LBlnclkqvd2TmPLrdfr8fnnn1tt16NHD4SGhmLlypU2gev2a+7atSu6du2KL7/8Ejt37sTTTz/dKms0hEIhRo8ejZ07d9oNm7e+Bxr7vjp69CgyMzMxbdo0jBkzxuZr/PjxSE5ORm5uLgDzLdyHHnoI27Ztw7Zt2+Dn52cVRIVCIQYNGoTvv//esg9gDj979+5ttu8FaX9a328kIW3clStX8Pe//91meffu3fH444/bLBcIBHjrrbfueNwFCxbgm2++wbBhw/DSSy/Bw8MDmzZtQkZGBnbu3AmBwPz/zMyZM/Hpp59i8uTJOH36NPz8/PDVV1/ZDPgnEAjw5ZdfYtiwYYiJicG0adMQEBCAnJwcJCcnQ6lUYs+ePY2+bqVSif79++P999+HwWBAQEAA9u/fb1OTApjHxNm/fz8SExMxa9YsREVFIS8vD99++y2OHDkCNzc3vPrqq9ixYwfGjh2L6dOnIy4uDqWlpdi9ezdWr16Nbt26ISYmBr1798Ybb7yB0tJSeHh4YOvWrTAajY0ud9++feHu7o4pU6bgpZdeAsdx+Oqrr2xCjUAgwBdffIERI0YgNjYW06ZNg5+fH9LS0nDx4kXs27fPavvJkydj/vz5AOCQQQgb6x//+AeSk5PRq1cvzJw5E9HR0SgtLcWZM2dw4MABlJaWAmj8+2rLli0QCoV23+sA8Kc//Qlvvvkmtm7dildeeQWAuRZo0aJFcHJywowZMyzv5TqLFy/G/v378fDDD+P555+HyWTCp59+ii5duuDcuXMt8F0h7YJjOp8R0rbUdU+21237VnVdlu19zZgxgzFm3Q2+Pva6wTPG2NWrV9mYMWOYm5sbc3JyYgkJCeyHH36w2f/69evsT3/6E5PL5czLy4vNnTuX/fTTT3a7K589e5Y99dRTzNPTk0mlUhYcHMzGjRvHDh48aHP9d+oGf+PGDTZq1Cjm5ubGXF1d2dixY1lubi4DwP72t7/ZlHHy5MlMpVIxqVTKwsLC2OzZs5lOp7NsU1JSwubMmcMCAgKYRCJhgYGBbMqUKVZdtq9evcoGDRrEpFIp8/HxYQsXLmQ///yz3W7wMTExdst99OhR1rt3byaTyZi/vz977bXX2L59++x+v44cOcIGDx7MXFxcmEKhYF27dmWffPKJzTHz8vKYUChknTp1avB7dqv6usHbG1ohMTGRJSYm3vGYANjs2bMb3KagoIDNnj2bBQUFMbFYzHx9fdnAgQPZ2rVrrba70/tKr9czT09P1q9fvwbPFxoayrp37255ffnyZcvvyZEjR+zuc/DgQda9e3cmkUhYeHg4+/LLL9lf//pX5uTkdMfvASH2cIzdYys6QgghNoqLi+Hn54dFixbh7bffdnRxHkgjR47ExYsXbdqZEdIY1AaIEEJawMaNG2EymfDss886uigPhJqaGqvXly9fxn//+18kJSU5pkCkzaMaIEIIaUa//PILUlJS8Pbbb2PAgAFWg/yRu+fn52eZZ+769ev44osvoNPpcPbsWURERDi6eKQNogBECCHNKCkpCceOHcPDDz+MzZs339XcX8TWtGnTkJycjPz8fEilUvTp0wfLli2zO28eIY1BAYgQQggh7Q61ASKEEEJIu0MBiBBCCCHtDg2EaAfP88jNzYWLi8tdzzpNCCGEkPuLMYbKykr4+/vbDKh5OwpAduTm5iIoKMjRxSCEEELIXcjOzkZgYGCD21AAssPFxQWA+RuoVCodXBpCCCGENIZarUZQUJDlc7whFIDsqLvtpVQqKQARQgghbUxjmq9QI2hCCCGEtDsUgAghhBDS7lAAIoQQQki7Q22A7oHJZILBYHB0MdolsVgMoVDo6GIQQghpoygA3QXGGPLz81FeXu7oorRrbm5u8PX1pbGaCCGENBkFoLtQF368vb0hl8vpA/g+Y4xBo9GgsLAQgHmWaEIIIaQpKAA1kclksoQfT09PRxen3ZLJZACAwsJCeHt70+0wQgghTUKNoJuors2PXC53cElI3c+A2mERQghpKgpAd4luezke/QwIIYTcLQpAhBBCCGl3KACRexISEoKVK1c6uhiEEEJIk1AAaic4jmvwa/HixXd13JMnT2LWrFnNW1hCCCGkhVEvsHYiLy/P8nzbtm1YtGgR0tPTLcucnZ0tzxljMJlMEInu/PZQqVTNW1BCCCEPNMbzMObnAxwHsQOHMaEaoHbC19fX8uXq6gqO4yyv09LS4OLigr179yIuLg5SqRRHjhzB1atX8eSTT8LHxwfOzs7o2bMnDhw4YHXc22+BcRyHL7/8EqNGjYJcLkdERAR27959vy+XEEKIAzHGYMjPR/Ufx1G2bTsK3l+B7NlzcG3ECKR374Erjw5E8RerHVpGqgFqBowx1BhM9/28MrGwWXtCLViwAB988AHCwsLg7u6O7OxsDB8+HO+++y6kUin+/e9/Y8SIEUhPT0eHDh3qPc6SJUvw/vvvY8WKFfjkk0/wzDPP4Pr16/Dw8Gi2shJCCHEsxhiMRUUwXL8Ofd1XZu1jVhaYVlv/ziIRmK6B9fcBBaBmUGMwIXrRvvt+3pSlQyCXNN+PcOnSpRg8eLDltYeHB7p162Z5/c477+C7777D7t27MWfOnHqPM3XqVEyYMAEAsGzZMnz88cc4ceIEhg4d2mxlJYQQ0vIYYzCVllqHm9ovw/Xr4DWa+ncWCiEOCIAkOPjmV4j5UezvD64RzSxaEgUgYhEfH2/1uqqqCosXL8aPP/6IvLw8GI1G1NTUICsrq8HjdO3a1fJcoVBAqVRapq0ghBDSOIwx8FVVMBYVwVhYBGNxsfl5URGMxUXgq6pb8uQwFhZCf/06+Kqq+rcTCCD2968NOB3M4aYu7AQGghOLW66M94gCUDOQiYVIWTrEIedtTgqFwur1/Pnz8fPPP+ODDz5Ax44dIZPJMGbMGOj1+gaPI77tDc9xHHieb9ayEkLaJsbzYDU1MFVXg2k04Ou+qqttn1drwIzGFi0P5ySFQC6HQKEwP1o9V5ifK8zLOYmkWZodMJMJptLSm2GmqDbcFN7yvPaxwdtI9wvHQeTne0tNToilNkccGAiBROLoEt4VCkDNgOO4Zr0V1VocPXoUU6dOxahRowCYa4QyMzMdWyhCSKvAazSoOXcOumsZtcGlGnx17eNtIebmMg1YQ7dMWjuRyE5Iqv85JxbDWFpiHXKKimAqKQWa8E+hwMUFIpUKIi+vm4/eKghcXIAWHBFf5O5urtEJCoLAyanFzuMoD96nNmk2ERER2LVrF0aMGAGO4/D2229TTQ4h7ZSpvByaM2ehOXUKmtOnoL2YAtxL7YxA0HCAUNwMES2FMQam1dVfA1X73FILYzSCV6vBq9X3fnKBAEJPD3OguTXcqFQQedU+eqsg8vSEoHbyZ9K8KACRen300UeYPn06+vbtCy8vL7z++utQN8cvPiGk1TMUFKLm9CloTp2G5tQp6C5dstlG5O8HWUwMBC7KhmtEFHZqR5yc2sx8fsxkAl9TYw5G1beGJNvQxDSam7f39HqIPDwhUnnZBB2hhwc4YfM2YyBNwzHGmKML0dqo1Wq4urqioqICSqXSap1Wq0VGRgZCQ0Ph9ABWCbYl9LMgpHkwxmDIzraEHc2pUzDY6ewgCQuDPC4O8p7xkMfFQRwQ4IDSElK/hj6/b0c1QIQQ0s4wnofuyhVoTp1CTW3oMd7eU1MggLRzJOTx8ZDHxUMeHweRp6djCkxIC6AARAghDzhmMECbmmqp4ak5fRqmigrrjcRiyB56yFLDI+veHUIXF8cUmJD7gAIQIYS0MGY0wljb7dl061guRcXmrs4t2NWbr65Gzf/+Z9P7ipPJIO8eC1ltDY+sW9cHsqcPIfWhAEQIIXeJr6mpfwyXW7s9lzat23NLELi6Qt6jh/mWVs94OEVFtepB6ghpaRSACCGkHkyvR/Uff0B36dLNGptbwk2DI+Terr5uz14qcNKWG0iOE4nhFB0NaURHcAKa/5qQOhSACCHkFsxgQPUff0C99ydUHjhwxzFfOCcn+2O53Nb1mbo9E9K6UAAihLR7zGhE9fHjqPzpJ1Tu/9mqgbBQ5QVFr94Q+XjbHahOoFC0mfFsCCE3UQAihLRLzGSC5uRJc03P/v0wlZVZ1gk9PaEc8hhchg6FPC6Oam4IeQBRACKEtBvMZILm9GlU/vQT1Pv2w1RSYlkndHeHy2OPQTlsGOQ94yn0EPKAowBEGi0pKQmxsbFYuXIlACAkJATz5s3DvHnz6t2H4zh89913GDly5P0qJiFWGM+j5uxZc03Pvn0wFhVZ1gldXeHy2GBz6ElIACeiP4mEtBf0295OjBgxAgaDAT/99JPNut9++w39+/fH+fPn0bVr10Yf8+TJk1AoFM1ZTEKaBeN51Jw/D/Xevaj8aZ/VKMcCpRIugwZBOWwoFL17U1dwQtopCkDtxIwZMzB69GjcuHEDgYGBVus2bNiA+Pj4JoUfAFCpVM1ZRHKfMcZgyMmFNjUFurR0MKOxTU9kyRiD9v/+D+q9P0G9bx+MeXmWdQJnZ7gMHAiXYUPh3LcvOEnLdTsnhLQNFIDaiSeeeAIqlQobN27EW2+9ZVleVVWFb7/9FgsWLMCECRNw+PBhlJWVITw8HAsXLsSECRPqPebtt8AuX76MGTNm4MSJEwgLC8OqVata/LpI4zCTCfrMTGhTUqBNSYU21fzF3z4dQmMJBPZn/q4nNHEyWYu2qdFnZ6Ny708w5ObeLKJcDueBA801PY88AgGFHkLILSgANQfGAIPmzts1N7EcaOR/4SKRCJMnT8bGjRvx5ptvWv57//bbb2EymTBp0iR8++23eP3116FUKvHjjz/i2WefRXh4OBISEu54fJ7n8dRTT8HHxwfHjx9HRUVFg22DSMvh9XroLl021+ykpkJ7MQXaS5fAampsNxaLIe3YEU5RURAoFOA11eCrNbc8Wj+3TKfA8+Crqpo2EOB9wMnlcElKMtf09OtHUzsQQupFAag5GDTAMv/7f96FuYCk8W1wpk+fjhUrVuDXX39FUlISAPPtr9GjRyM4OBjz58+3bPviiy9i37592L59e6MC0IEDB5CWloZ9+/bB39/8vVi2bBmGDRvWtGsiTWKqqoYuPc1cq5OSAm1qKnRXrgB25pbiZDI4de4Mp6goOEVHwSk6GpKOHZtUM8J4HrymBrymGkyjgana/MhrNOCrq60f657XhieANeOVWxPIFXAeMADOif0hkMla7DyEkAcHBaB2pHPnzujbty/Wr1+PpKQkXLlyBb/99huWLl0Kk8mEZcuWYfv27cjJyYFer4dOp4NcLm/UsVNTUxEUFGQJPwDQp0+flrqUdslYVlZ7C6u2ZiclFfrr1801kLcRurpCWhtynKKi4RQdBUlw8D3fhuIEAgidFRA6U+N3QkjbRgGoOYjl5toYR5y3iWbMmIEXX3wRn332GTZs2IDw8HAkJibivffew6pVq7By5Uo89NBDUCgUmDdvHvR6fQsU/MHAeB7a1FRUHz6Mql8PQ5uSAmYnjDTPyZjdWh0AEPn41AadmzU7Ij+/VtdImRBCWhMKQM2B45p0K8qRxo0bh7lz5+Lrr7/Gv//9bzz//PPgOA5Hjx7Fk08+iUmTJgEwt+m5dOkSoqOjG3XcqKgoZGdnIy8vD35+fgCAP/74o8Wuw1FMajWqjx1D1a+HUfXbbzAVF9/X80uCg21qdkQeHve1DIQQ8iCgANTOODs7Y/z48XjjjTegVqsxdepUAEBERAR27NiBY8eOwd3dHR999BEKCgoaHYAGDRqETp06YcqUKVixYgXUajXefPPNFryS+4MxBt2ly6g6/Cuqfz0MzdmzgMlkWc/J5VD07QPn/v2hSEgA14LtTwQKZ7r1RAghzYQCUDs0Y8YM/Otf/8Lw4cMtbXbeeustXLt2DUOGDIFcLsesWbMwcuRIVDSym7RAIMB3332HGTNmICEhASEhIfj4448xdOjQlryUFsFXV6P6jz/MtTyHD8OYn2+1XhIWBuf+/eGc2B+yuDjqXk0IIW0Qx1qs0ULbpVar4erqioqKCiiVSqt1Wq0WGRkZCA0NhRN1sXWo5vpZMMagz8g01/IcPgzNyVNgBoNlPSeVQt67lzn09O8PSVBQcxSfEEJIM2vo8/t2VANE2iVeq4XmxAlLLY8hO9tqvTgoyFLLI09IoPFkCCHkAUMBiLQb+hs5qPr1EKoOH4bmj+NgOp1lHScWQ96zJ5wT+0PRrz8koSHUi4oQQh5gFIDIA89UXo7CDz9E+bc7rJaLfH3NtTxJiVD06gUBTexKCCEtoqLGgJyyGuSU1yCnTIOc8hrE+LtiZPcAh5WJAhB5YDHGoP7hBxQs/wdMpaUAAFl8HJwTE+HcPxHSThFUy0MIIfeI5xmKqnS4UVaD3PK6kHPzMbe8BpU623HMnujqRwGIkOamz8pC/uIlqD52DAAg6RgOvyVLII+Lc3DJCCGkbdEbeeRVmMPMjVvCTV3YySvXQm/i73gcT4UE/m4yBLjJEOAuQ/cObveh9PWjAEQeKEyvR8n6DSj+4gswnQ6cRAKvF56H5/Tp4Ki7OiGEWPA8Q6lGj6JKHQordbWPWhSqzc9za0NPUZXO3ow7VoQCDr5KJ0u48XdzQoCbHAHutYHHTQaZ5N6m4mluFIDIA0Nz+jTy/vY36K9cBQDI+/SG3+LFkAQHO7hkhBBy/2gNJhRXmUNNoVqHoioditRaFFWZX9eFneIqHYx840bCcRILLLU3ge43a3H8Xc2PvkoniISCFr6y5kUBiLR5pspK5C1bjvLt2wEAQqvXlXkAACAASURBVHd3+LyxAMoRI6iNDyGkzTPxDOoaA8o0epTXGFCu0aNcY0BJlb421GhvqcHRoaLGcOeD3sJTIYHKRQqVixTeLk61j1L4uTpZanA8FJIH7u8pBSDSZjHGwNfUIGvWX4DUVACA65jR8P7rXyFyd3dw6QghrY2JZ7hSWIVz2WU4m1WOi7lqAIBcIoSzVAS5VASFRAhF7aNcKrr5XCKq3UYIhUQERe2jXCqEVNS4Wzs8z1CpM1oCTJlGj4oaA8qq64KNOdyUaQxWQUetNdzxFtTtJELBLaHmZrjxVkqhcpbCW2l+7eksgbiN1dw0FwpABACQmZmJ0NBQnD17FrGxsTh06BAGDBiAsrIyuLk5tqGaPbxeD0NuLkxlZUB5OZzCwuC3ZDHkPXs6umiEkFaiqFKHc9nlOJtVhnPZ5fi/GxWostMb6V6JhRzkkpvhqS5ISUQCqOuCTW2gaeQdJ7ucpSK4ycVwk4vhLpfATS6Bd23AqQs0dYHHVSZ+4GpsmhsFIGJX3759kZeXB1dX1xY9z+LFi7FkyZIGt7l1thbG8zCWlMBYWAi+dlJS92cnwXfSJJqTi5B2TGsw4WKu2irw3CirsdlOLhGiW6AbYju4oVugK6QiIar1Rmh0JlTpjNDojajWm1CtM6JaZ4JGb6xdXrusdttqvRFag7nnk8HEUFFjaPStJ7lECDeZGK5yCdxrA42bXAI3mTnYuFoCjhjucjFcZebn7bWmpqVQACJ2SSQS+Pr6tvh55s+fj+eee87yumfPnpg1axZmzpxps62pWgNjbg742hGcBXI5RN7e8Hj4YQo/hLQjjDFcL9FYhZ2UPDUMJuvqFY4DIryd0T3IHbEd3NC9gxsivF0gFDRPzYjRxENjMFmHJ93NoKQz8lA6iWtDjjnsKGViOIlbV2+o9ooCUDvy008/4e9//zsuXLgAoVCIPn36YNWqVQgPD7fZ1t4tsKNHj+LNN9/EiRMnIJVKkZCQgK1bt8Ld3R08z+O9997D2rVrkZ+fj06dOuHtt9/GmDFjGiyTs7MznJ2dLa+FQiFcXFyswhczmWAoKLAMZsgJhRD5+gJOTuAyM5vhO0MIac0qagw4n11uFXjKNLa1LV7OEsQGuaF7B3fEBrmha6ArXJzELVYukVAApVAAZQueg7QcCkDNgDGGGqNtVWtLk4lkTbrHW11djVdeeQVdu3ZFVVUVFi1ahFGjRuHcuXN33PfcuXMYOHAgpk+fjlWrVkEkEiE5ORmm2ttQy5cvx+bNm7F69WpERETg8OHDmDRpElQqFRITE+/q+hhj4NVqGPLywIzm+/ZCN3eIfX3AiUQwarV3dVxCyP3F8ww1hrqakbrbS7W3lfTG2243maxqUi4XVuJqUbXNMSVCAWIClDdrd4LcEOjetL+JpH2jANQMaow16PV1r/t+3uMTj0Muljd6+9GjR1u9Xr9+PVQqFVJSUqxqYex5//33ER8fj88//9yyLCYmBgCg0+mwbNkyHDhwAH369AEAhIWF4ciRI1izZs1dBaC6Rs58VRUAgJNIIPYPgNCZ5usipDXQGkzYdzEf57LLLQGmvrY0Gr3pns8X7Ck31+4EuSG2gzui/Fwa3fuKEHtaRQD67LPPsGLFCuTn56Nbt2745JNPkJCQYHdbg8GA5cuXY9OmTcjJyUFkZCTee+89DB061LLN8uXLsWvXLqSlpUEmk6Fv37547733EBkZeb8uqVW6fPkyFi1ahOPHj6O4uBg8b27Al5WVhejo6Ab3PXfuHMaOHWt33ZUrV6DRaDB48GCr5Xq9Ht27d29yOU1VVdBdvgIwHuA4iFQqiLy8wAmoASAhjnYhpwLbT2Xj+7M5UGub1qOK42DThdz8WnSzK7pEBGep0NKTKsBdhm6BbvB0lrbQFZH2yuEBaNu2bXjllVewevVq9OrVCytXrsSQIUOQnp4Ob29vm+3feustbN68GevWrUPnzp2xb98+jBo1CseOHbN82P7666+YPXs2evbsCaPRiIULF+Kxxx5DSkoKFC0w47dMJMPxiceb/biNOW9TjBgxAsHBwVi3bh38/f3B8zy6dOkCvV5/53PJ6j9XVW0tzY8//oiAAOuJ7aTSxv/R4jUaMKMRfGUlwHgI5AqIA/whaMIxCCHNr1yjx3/O5WLbyWyk5KktywPcZBgS4wtPZ4ll3Bzn2jBjHj/HHHbqxtBxEgvoFhVpNRwegD766CPMnDkT06ZNAwCsXr0aP/74I9avX48FCxbYbP/VV1/hzTffxPDhwwEAzz//PA4cOIAPP/wQmzdvBmBu7HurjRs3wtvbG6dPn0b//v2b/Ro4jmvSrShHKCkpQXp6OtatW4d+/foBAI4cOdLo/bt27YqDBw/a7bIeHR0NqVSKrKysu7rdxRiDsbgYxoICgDFAIIA4IABCNzf6Y0mIg/A8w9Grxdh+6gb2XcyH3miuMZYIBXgsxgfjewahb7hXs/WoIuR+c2gA0uv1OH36NN544w3LMoFAgEGDBuH333+3u49Op4OTk5PVMplM1uCHeUVFBQDAw8Oj3mPqartWA4Barba7XVvm7u4OT09PrF27Fn5+fsjKyrIbMOvzxhtv4KGHHsILL7yA5557DhKJBMnJyRg7diy8vLwwf/58vPzyy+B5Ho888ggqKipw9OhRKJVKTJkypd7jMqMRhpwcmCorAQCcQACRlxeN5EyIg9wo02DH6Rv49tQN5JTf7NwR5afE+PhAPBkbAHcFDTtB2j6HBqDi4mKYTCb4+PhYLffx8UFaWprdfYYMGYKPPvoI/fv3R3h4OA4ePIhdu3ZZeiPdjud5zJs3Dw8//DC6dOlid5vly5ffcTC+tk4gEGDr1q146aWX0KVLF0RGRuLjjz9GUlJSo/bv1KkT9u/fj4ULFyIhIQEymQy9evXChAkTAADvvPMOVCoVli9fjmvXrsHNzQ09evTAwoUL6z0mX1MDfVY2mEEPcBzEfn6AUAhOSA0bCbmftAYTfk4pwPZT2Thypdgy7YKLkwgjYwMwvmcQYvyVVCNLHigcY02dYaT55ObmIiAgAMeOHbP0HgKA1157Db/++iuOH7dtV1NUVISZM2diz5494DgO4eHhGDRoENavX4+aGtuu6M8//zz27t2LI0eOIDAw0G457NUABQUFoaKiAkql0mpbrVaLjIwMhIaG2tREkcYzlpbCkJcHMAZOLIakQwcIGmhnZA/9LAi5Nym5amw/lY3vzuZYjWLcN9wT43sGYUiMLw3aR9oUtVoNV1dXu5/ft3NoDZCXlxeEQiEKCgqslhcUFNQ7CrFKpcL3338PrVaLkpIS+Pv7Y8GCBQgLC7PZds6cOfjhhx9w+PDhesMPYG6o25TGuuTuMZ6HIS/PPIcXAKGLC8QBAeBEDm+ORki7UKExYPf5HGw7lY0LOTdv9/u5OmFsXCDGxgchyKN1t2kkpDk49FNHIpEgLi4OBw8exMiRIwGYb1kdPHgQc+bMaXBfJycnBAQEwGAwYOfOnRg3bpxlHWMML774Ir777jscOnQIoaGhLXodpGHPPfecpYE6GIOlfp3j8MykSVizZo3jCkdIO8DzDL9fK8H2U9n46UI+dLUNmsVCDo9F+2JczyA80pEaNJP2xeH/dr/yyiuYMmUK4uPjkZCQgJUrV6K6utrSK2zy5MkICAjA8uXLAQDHjx9HTk4OYmNjkZOTg8WLF4Pnebz22muWY86ePRtff/01/vOf/8DFxQX5+fkAAFdX1wa7c5OWsXTpUrz8l7/AmF8AxnhwAiFEfr4QKhR3rKIkhNwdxhiuFFZh74V8fHs6G9mlN5sIdPZ1wbj4IIzsHgAPatBM2imHB6Dx48ejqKgIixYtQn5+PmJjY/HTTz9ZGkZnZWVBcMsAeFqtFm+99RauXbsGZ2dnDB8+HF999ZVlvioA+OKLLwDApoHvhg0bMHXq1Ba/JnITYwzuPA8XsRgICoRAJoe4QxAEYpo7h5DmptEbcexKCQ5dKkRyWpFVLy4XqQh/ivXH+J5BeCjAlRo0k3bPoY2gW6uGGlFRw9vGYwYD9DdugK82z+Mj8vSEyMen2UZ0pp8FIUBGcTWS0wqRnF6I4xmllvF6AEAiEqBPmCdGdvfH0Bg/yCTUoJk82NpMI2jy4DJVV8OQnQ1mNIKrG9jQ1dXRxSKkzdMaTDieUYrktEIcSi9EZonGan2guwwDIr0xoLMKfcK8KPQQUg8KQKRZMcZgKimBIb8AAAMnlZq7uFMvO0Lu2o0yDZLTi3AorRDHrpagxnBz3DOxkEPPEA9L6AlXOdPtLUIagQIQaTbMZDKP6lw7krbQ1RVif38a2JCQJtIbeZy6XopD6UVITivE5cIqq/U+SikGRHojKdIbD3f0hIsTtakjpKkoAJFmwWu10GdlgelrR3X29YXQw4P+EyWkkQrUWhxKNzdePnKlGFW6mzOtCzggLtgdSZHeGBDpjSg/F/rdIuQeUQBqR5KSkhAbG4uVK1fe1f4bN27EvHnzUF5ebrXcWFYGQ24ewHjzqM5BQRDIaSA1QuxhjKGoSofMYg0yi6txpagKRy4XW82yDgBezhIkdjLf1urXUQVXOdXyENKcKACRu3b7qM4CZ2dIAgPtjuqclJSEX3/9td5jJSYm4tChQy1VVELuK8YYSqv1yCypRkZt0MkoqUZmcTWul2isanfqcBzQLdDN0pani78rBDQwISEthgIQuSu8Xg9DVhZ4rRYAIPL2hkilqrdafteuXdDr9QCA7OxsJCQk4MCBA4iJiQFgHhWckLamXKNHRnG1VdAxP69GpdY25NQRcIC/mwyhXgqEeCrQvYMbEjup4OlMnQUIuV8oALUzRqMRc+bMwVdffQWxWIznn38eS5cuBcdxKCsrw9y5c7Fnzx7odDokJibi448/RkREhNUxdn3zDV5bsAA38vPRr2dPrFu3DiHe3g2e18PDw/JcWxuaPD09653zjZDWQqM34kphlTnoFGssASezpBrlGkOD+/q7OiHES4EQLwVCPWsfveQI8pBDKqLOAYQ4EgWgZsAYA7MzE31L42SyJjeE3LRpE2bMmIETJ07g1KlTmDVrFjp06ICZM2di6tSpuHz5Mnbv3g2lUonXX38dw4cPR0pKCsRiMRhj0Gg0ePfdd/Hlu+9C6uKCee++i2f+/GccPXq0ha6SkPurXKPHycwynMgowYnMMlzIqYCJr3+8WF+lE0K85JbaHHPIUaCDh5xmUiekHowxGHgDJELH1f5TAGoGrKYG6T3i7vt5I8+cBtfExsZBQUH45z//CY7jEBkZif/973/45z//iaSkJOzevRtHjx5F3759AQBbtmxBUFAQvv/+e4wZPRrGkhIYDAZ8tHAh+iYlQeTri02RkYiKisKJEyeQkJDQEpdJSIsqUGtxPKMUJzNKcSKjFOkFlTbbeDlLEealQIiX3Ko2J9hTDrmE/owSUsfAG1BaU4rimmIU1RTdfNQUo7im2Gr5kx2fxN/6/M1hZaXf3Hamd+/eVrVGffr0wYcffoiUlBSIRCL06tXLss7T0xORkZFISUmBvmdPMK0WIpEIfYYOhbj2llbnzp3h5uaG1NRUCkCk1WOMIatUg+O1YedkZimu3zaSMgCEqxRICPVEr1AP9Az1QIAbTaJM2rdqQ7U5vGiKUKwtRrHmZpCpCzUlNSUo05aBoXEzbBVrilu41A2jANQMOJkMkWdOO+S89wNfUQG+qsrcTQWA6JaJZwlpzXie4VJhJU7UBp4TGaUorNRZbSPggGh/JXqGeKBXqAfiQzzgRY2RSTtUoatAemk6UktTkVaahtyqXEu4qTE2vpmHiBPBQ+YBlUwFL5kXvGReUMlV8HLygpfcCyqZCiqZCp4yzxa8mkaU06Fnf0BwHNfkW1GOcvz4cavXf/zxByIiIhAdHQ2j0Yjjx49bboEVFxUhPS0Nkc8+C3AcRJ6eMBqNOHXqlKW2Jz09HeXl5YiKirrv10LI7QwmHhdz1eb2OxmlOJlZhooa64bKYiGHboFuSKit3YkLdoeSRlIm7UyRpgippalILTGHndTSVORU5TS4j1wktw40dc9vCzpuUjcIuOaZ9LolUQBqZ7KysvDKK6/gL3/5C86cOYNPPvkEH374ISIiIvDkk09i5syZWLNmDZwVCrz+8svw9/bGE48+CklwMAQnT0IsFuPFF1/Exx9/DJFIhDlz5qB37950+4s4RHGVDhdz1TifXY4TGaU4fb3Map4sAJBLhOjRwR0JoR5ICPVAbJAbNU4m7QZjDDcqb5jDTu1XWkkaSrQldrcPcA5AlEcUOnt0RrBrsCXcqGQqyMVt4x/9xqIA1M5MnjwZNTU1SEhIgFAoxNy5czFr1iwAwIYNGzB37lw88cQT0Ot0eDguDt998QUU4R0hdHYGAMjlcrz++uuYOHEicnJy0K9fP/zrX/9y5CWRdoAxhpzyGlzMVeNiToX5MVeNfLXWZltXmRg9QzyQEOqOhFBPxPgrIRa2/v9GCblXRt6IjIoMq5qdtNI0VBmqbLYVcAKEKkMR5WkOO1EeUYj0iISr1NUBJXcMjjHWuNZK7YharYarqysqKiqgVCqt1mm1WmRkZCA0NBROTk4OKmHLYYzBkH0DJnUFwHGQdOgAoYuLo4tl14P+s2ivTDxDRnGVJeRczDUHnvrG3AnzUiAmwBUJIe7oGeqBTt4uNIIyaZQKXQVMzAS5SA6pUNom5ldjjKHGWAONUYO8qjxLe53UklRcLr8MnUlns49YIEYn906WoBPlGYUI9wjIRA9e4/6GPr9vRzVAxIIxBsONthF+yINBZzThckEVLuZW4EKOOeyk5lXa3MYCAJGAQ4SPC2L8lejir0RMgCui/JRwltKfMdJ4jDH8nvs7Nqduxm85v1mWCzkh5CI5ZGIZFGIF5CI55GI5FCIFZGLZzdd162pfy8Xm51b71D4XCUTQ83poDBpUG6qhMWqgMdR+Gc1f1Ybqm69vebTa/rbHhnpZKcQKRLpHIsozynIrK8wtDGIBtXO7Hf3lIABuCT8VteEnKKjJ4ScmJgbXr1+3u27NmjV45plnmqOopI2q1hmRmqfGhVtuYV0urITBZPvHXCYWIsrPBTH+rubAE+CKCB9nGj2Z3DWNQYMfrv2ALalbcK3ims16EzOh0lCJSoPtOFB3iwPX6C7hd3Nsdyd3S61OZ0/zY5BLUJtogNwaUAAiteEnxzr83KHq0J7//ve/MBjs36bw8fG512KSNoDnGfLUWvPkn8XVlrmxrhWZJwO1d8PdVSa2hJwYfyVi/JUI9XKGkG5jkWaQW5WLb9K+wc7LO1GpN4cbhViBkR1HYmLniQh0CTTfUjLUXyNz67JqQ7Vle0stzW01O3W3oW4NPzKRDDKRde1SXe2RpQZJfEvN0u01TrfVRslETZ8JgFijANTOMcZgyMmBqaIcAAdJYOBdhR8ACA4Obt7CkVaJMYZ8tdZmbqzrJeaZznVGvt59fZVOlpAT7e+KLgFKBLjRH3LSvBhjOF1wGl+nfY2DWQfBM/N7MsglCBM7T8TIjiPhLHG2bK8QK6AQK5rt/AbegBpjDXRGnSX4CAVUe9naUABqxyzhp7w2/AQFQujafnoAkPoxxlBUqbM703lmSTW0hvpDjljIIchDbpkuom7qiM5+LjTAIGlROpMOezP24uvUr5FammpZ3suvFyZFTUK/gH73JYiIBWKIJWLAcdNckUagANROMcZgyM2l8ENQWq3HkSvFSM9XI7NYY6nNqdbbNkSuIxRwCHKXmQOOp3nyz7qg4+/mBBF1Oyf3UZGmCNvSt+HbS9+iVFsKAJAKpXgi7Ak8E/UMItwjHFxC0hpRAGqHLOGnrAwAIA4MoPDTjvA8w8VcNZLTC5GcXohz2eV22+YIOCDAXXYz4NwSdALdZTS2DnG4C8UXsDl1M/Zl7oORNwIAfOQ+mNB5AkZHjIabE03bQ+pHAaidYYzBkJd3S/gJpLm92oGKGgOOXC5GcnohDqUXobjKeqyQKD8lenRwswSdEC8Fgjxk1OuKtDoG3oCD1w9ic+pmnC86b1keq4rFpOhJGNhhIEQC+mgjd0bvknaEMQZjXh5MpeYqYgo/Dy7GGNLyK82BJ60Ip7PKYOJvVvM4S0V4pKMXBnRWIbGTN3xdaSBJ0rqVa8ux4/IObE3bigJNAQBAJBBhWMgwPBP1DGK8YhxcQtLWUABqJxhjMObnw1gXfgICrMJPZmYmQkNDcfbsWcTGxuLQoUMYMGAAysrK4EYhqU2o0hlx9EoxDqUXIjmtyGaaiI7ezhgQqcKAzt6ID/aARES3sEjrd6nsEr5O/Ro/XPvB0r3cw8kD4yPHY1zkOHjJvBxcQtJWUQBqByzhp8Q8+Z04IAAid/cG9+nbty/y8vLg2sJtg06fPo34+Hj8/vvv6N27t836gQMHwtXVFbt27WrRcrRFjDFcLao2B570QpzIKLUaVNBJLEDfcC8MiFQhKdIbQR4P1kSGpHXjGQ+tUWt3HB2NUYMaQ43VaMeW5beMsaPWq60GLYzyiMKk6EkYGjIUEiF1sSL3hgLQA84cfgpuhh9//zuGHwCQSCTw9fVt6eIhLi4O3bp1w/r1620CUGZmJpKTk7Fnz54WL0dbUaM34Y9rJZYGzNmlNVbrgz3lGBDpjQGdvdEr1INmPSctRmvUYlv6NhzPO24ZHPDWQFNjrGmWUZAFnAADOwzEpKhJ6O7dncaMIs2GAtADjDEGY0EBjCXFAIBfUlOx/LnncOHCBQiFQvTp0werVq1CeHi4zb72boEdPXoUb775Jk6cOAGpVIqEhARs3boV7u7u4Hke7733HtauXYv8/Hx06tQJb7/9NsaMGXPHcs6YMQNvvfUWVq5cCbn8Zi3Fxo0b4efnh6FDhzbTd6RtyquowYGUAhxMK8TvV0usBhqUCAXoFeZhCT2hXs03mBsh9hh5I76/8j2+OP8FCjWFd9yeA2c1X5ZMJLMZ4bje0Y9FcoS7hcNHQSPJk+ZHAagZMMZg1Nc/MFxLEUkE9f43ZA4/hTAWm8OP2M8P2vR0vPLKK+jatSuqqqqwaNEijBo1CufOnbvjuc6dO4eBAwdi+vTpWLVqFUQiEZKTk2EymceKWb58OTZv3ozVq1cjIiIChw8fxqRJk6BSqZCYmNjgsZ955hm8+uqr2LFjByZPnmwp/6ZNmzB16lQIhe2rFoMxhiuFVdifUoD9F/Nx/kaF1Xp/VycM6OyNAZHe6BPuCQVNBkruA57x2H99Pz47+xky1ZkAAD+FH56NfhY+ch+bSUFpygbS2tFfzmZg1PNYO/fX+37eWasSIZbahgPGGIyFhTAWFwEwhx+RpydGjx5ttd369euhUqmQkpICZ2dnm+Pc6v3330d8fDw+//xzy7KYGHOvC51Oh2XLluHAgQPo06cPACAsLAxHjhzBmjVr7hiAPDw8MGrUKKxfv94SgJKTk5GZmYlp06bd4bvwYOB5hrPZZdh/sQD7UwqQUVxtWcdxQI8O7hgU5YOBUd6I8HamDxRy3zDGcCz3GFadWWUZXdld6o5ZXWdhXOQ4aotD2iwKQA8gY2ERjEW14cfXFyJPTwDA5cuXsWjRIhw/fhzFxcXgeXOtVVZWFqKjoxs85rlz5zB27Fi7665cuQKNRoPBgwdbLdfr9ejevXujyjx9+nQMGTIEV69eRXh4ONavX4/ExER07NixUfu3RTqjCceulmD/xQL8nFJgNTaPRCjAwx098ViMLwZGecPbhbqpk/vvfNF5rDqzCifzTwIwz5k1JWYKJkdPbta5swhxBApAzUAkEWDWqoZrOVrqvLczFBbCWGS+Ly/29YXI62YX0REjRiA4OBjr1q2Dv78/eJ5Hly5doNfr73gumUxW77qqqioAwI8//oiAgACrdVJp4+Z+GjhwIDp06ICNGzfi1Vdfxa5du7BmzZpG7duWqLUGJKcVYn9KAQ6lFVpNN+EiFeHRKG88Fu2LxEgVnOnWFnGQK2VX8PHZj5GcnQzAPLfV052fxp8f+jM8nDwcXDpCmgf9hW0GHMfZvRV1vxmLimAsrA0/Ptbhp6SkBOnp6Vi3bh369esHADhy5Eijj921a1ccPHgQS5YssVkXHR0NqVSKrKysO97uqo9AIMC0adPwr3/9CwEBAZBIJI1qQN0WFKi1+DmlAPsu5uOPayVWXdV9lFIMjvbBY9G+6B3mSWPzEIfKqcrB5+c+x56re8DAIOAEeDL8STzf7Xn4Ofs5uniENCsKQA8IY1kZDAW1o6P6+ECksh4czN3dHZ6enli7di38/PyQlZWFBQsWNPr4b7zxBh566CG88MILeO655yCRSJCcnIyxY8fCy8sL8+fPx8svvwye5/HII4+goqICR48ehVKpxJQpUxp1jmnTpmHp0qVYuHAhJkyY0GCtU2tnbsScj/0XC3Auu9xqXbhKgSExvngsxhddA1whEFB7HuJYJTUlWPe/ddiWvs0yp9bg4MGYEzsHYW5hDi4dIS2DAtADwFRZCUNOLgBA5OUFsUpls41AIMDWrVvx0ksvoUuXLoiMjMTHH3+MpKSkRp2jU6dO2L9/PxYuXIiEhATIZDL06tULEyZMAAC88847UKlUWL58Oa5duwY3Nzf06NEDCxcubPR1dOjQAYMGDcL+/fsxffr0Ru/XGvA8w/kb5dh3sQD7U/Jxrajaan33Dm54LNoXg6N90NG74QbnhNwvlfpKbLq4Cf9O+TdqjOYxpXr79cbcHnPRxauLg0tHSMviGLM3D3T7plar4erqioqKCiiVSqt1Wq0WGRkZCA0NhZOT4xum8hoNdBmZAOMhdHODOCCg3fQQag0/i7yKGuw8fQPbT91AVqnGslws5NA33AuPxfhgcJQPvJWOf68QUkdn0mFr2lZ8+b8vUa4z11DGeMZgbo+56OPfx8GlI+TuNfT5fTuqAWrDeJ0O+uvXAcZD4OwMsb9/uwk/+4rOzgAAIABJREFUjqQ38jiQWoDtp7Jx+FIR6uYYVUiEGNDZG4/F+CIpUgWlk9ixBSXkNkbeiN1Xd+Pzc59bJhQNdQ3FS91fwsAOA+nvB2lXKAC1UbzBAH1mJpjJBIFMBklQEDhB62xA+9xzz2Hz5s12102aNAmrV6++zyW6O+n5ldh+Khvfnc1BafXNnnMJoR4YHx+EYQ/5Qi6hXynS+jDG8PP1n/HJ2U8sgxj6KnzxQrcXMCJ8BEQCet+S9ofe9W0QM5lgyMwEMxjASSSQBAeDa8WjJS9duhTz58+3u+5OVZSOVqk1YM/5PGw7lY3ztzRm9naRYkxcIMbGB9H0E6TVYozh97zfserMKqSUpAAwD2L454f+jPGdx0MqbNwwFYQ8iCgAtTGM56G/fh28TgdOJIIkJAScqHX/GL29veHt7e3oYjQaYwwnMkqx7VQ2/vu/PGgN5gEjRQIOA6O8Mb5nEPpHqCASts4aN0IA4Fr5Nbx/6n0czTkKAJCL5JZBDJ0l1BCfkNb9yUmsMMZguHEDvEYDTiCAJCQEAgkNQ99cCtRa7Dh9A9+eykZmyc0GzeEqBcb3DMKo7oFQudB/zKR1q9BVYPX51diathVGZoRIIMLTkU9jZteZNIghIbegANRGMMZgyM2DSa0GOA7iDsEQtIJeaG2d3sjjl7RCbD+VjUPphVYNmkd088fY+CD06OBGjUNJq2fiTdh5eSc+PfspynRlAIABQQMwP34+Oig7OLh0hLQ+FIDaCGNREUxlpQAASWAghM7U7uReXCmsxLaT2dh1JgcltzRo7hnijrHxQXj8IT+aZZ20GSfzT+IfJ/6BS2WXAADhruF4LeE19PXv6+CSEdJ60V/4NsBYWnpzigs/PwhdXR1corapSmfED+dzse1UNs5m3WzQrHKRYnSPQIyND0S4itpGkLbjRuUNfHT6I/x8/WcAgFKixOzY2RgXOY56dhFyB/Qb0sqZ1GoYcmtHeVapLDO7k8YrrdZjzeGr+Or369DUTj4qFHB4tLM3xsUHISlSBTE1aCZtiMagwZf/+xKbLm6CntdDwAkwrtM4zI6dDTcnN0cXj5A2gQJQK2aqroY+OxsAIHR3h+gee1IlJSUhNjYWK1euvKv9N27ciHnz5qG8vPzOG7cCZdV6rPvtGjYey7QEnzCVAuPig/BUjwB4/z979x0eRbk9cPy7JZuekA4JqSQQegkQuqhURSFgF0FQuBZE5f6ugvXqtVdUrAiCIIqFpoAIAUUQAqGGEkiBJIQU0nu2ze+P1cUIKCFlU87nefKEndmdOQmwc/ad877HVWqoRPNiVsysT13P/H3zya20jApHt43msf6P0dGjo42jE6J5kQSoiTJXVWFITwdFQePq2uxXeX7zzTd54YUXyMrKuqBtRUVFBW3btuWFF15g9uzZdT5XcYWBT3ek8tnO05RVWxo7dgtw49ERHbkm0rdZ/x5F65VwLoFX9r7C4XOHAQhwCeA//f7DNYHXyL9pIa6AJEBNkFmvP7/Ks5MTdoGBzf4N7q677mLevHmsWrWKO+64o8a+b7/9Fr1ez+TJk+t0juJKA4t3nGLxjlOU/p74dGnnxiMjIhjZxa/Z/w5F63Su4hzz989nXco6ABy1jszsMZO7utwlCxkKUQdS+NDEKEYj+tNpKEYjKnt7dEFB9driwmg0MmvWLNzd3fH29ubpp5/mj364hYWFTJkyBQ8PD5ycnBg7dixJSUkXHGPNmjVERETg4ODA6NGjyfj9Nt3f8fX15YYbbmDx4sUX7Fu8eDETJkzA0/PK1igpqzbwzpYkhr66lXdikyitNhLZ1pWPJkfxw0NDGNW1rSQ/otmpNlXzacKnjFs9zpr83NjhRn6I+YF7u98ryY8QdSQjQPVAURSM1dV1P47JhD49DXNlFSo7LTo/P4xGIxiNF32+1t6+1hf2pUuXcs8997Bnzx7i4+OZOXMmQUFBzJgxg7vvvpukpCTWrVuHm5sbjz/+ONdddx3Hjh3Dzs7S2LOiooIXX3yRzz//HJ1OxwMPPMBtt93Gzp07//Hc99xzD+PGjSMtLY3g4GAAUlNT2b59O5s2barVzwFgMiuUVhl4ZGEcJ/Isv/+Ofi48MqIjY7q2Ra2WpEc0P4qisDVjK2/sfYMzZWcA6OHdg7n959Ldp7uNoxOi5ZAEqB4Yq6t5d+pNjX7e2Uu/xa6WiyEGBgby9ttvo1Kp6NSpEwkJCbz99tsMHz6cdevWsXPnTgYNsqwd8sUXXxAYGMiaNWu4+eabATAYDCxYsIDo6GjAklB17tyZPXv20L9//7899+jRo/H39+ezzz7jv//9L2AprA4MDOTaa6+97J/BZFbIL68mt7CM4kojZdVGwn1dePjaCK7v3k4SH9FsJRUm8ereV4nLigPA19GXR6Ie4fqw61GrZMBeiPok/6NamQEDBtQYNRo4cCBJSUkcO3YMrVZrTWwAvLy86NSpE8ePH7du02q19OvXz/o4MjKSNm3a1HjOpWg0GqZOncqSJUtQFAWz2czSpUuZNm0a6su4zWcyK5wrreJEdinZxVWYzAp2GhVPXNeZTY8M44ae/pL8iGapqKqIF3e/yE3f30RcVhw6tY4Z3Wfwfcz33NDhBkl+hGgAMgJUD7T29sxe+u0Vv96Qk4sxPw9QoQsMQON6eR3StfbNrwZg+vTpvPzyy2zduhWz2UxGRgbTpk3729eYzQr55XrOlVZjNFsak9pr1bRxcsCuwp6wMD80kviIZsZgNpBalMrurN18cvgTSvQlAIwMHsmcqDm0d21v4wiFaNkkAaoHKpWq1rei/mDMz0dVWoKdToedvz/aKywEvlxxcXE1Hu/evZuIiAi6dOmC0WgkLi7OegssPz+fEydO0KVLl/PxGo3Ex8dbb3edOHGCoqIiOnfufFnn79ChA1dddRWLFy9GURRGjBhhrQf6K7NZoaBcT25ZNUaTJfHRadX4ujrg4WRHdXU1BVLcLJqBCkMFJwtPkliQyPGC4xzPP05yUTIGs8H6nI4eHXm83+P0b/f3t5KFEPVDEiAbMhUXY8jKAkDr69vgyQ9Aeno6c+bM4V//+hf79+/nvffe48033yQiIoLx48czY8YMPv74Y1xdXZk7dy4BAQGMHz/e+no7Ozseeugh3n33XbRaLbNmzWLAgAH/WP/zZ/fccw8zZswALDVAf2U2KxRUWEZ8DH8kPho1vm4OtHGyQy1Jj2jCiquLOV5wnMR8S7KTWJDI6ZLTmBXzBc91tXMl0iuSMSFjmBgxUdpXCNGI5H+bjZjKytCfsczw0Hp6ovXxaZTzTpkyhcrKSvr3749Go+Hhhx9m5syZAHz22Wc8/PDDjBs3Dr1ez7Bhw9iwYYN1BhiAk5MTjz/+OHfccQeZmZkMHTqURYsW1SqGSZMmMWvWLDQaDRMmTLBuNysKheV6cv+S+Pi42ePhpJPERzQpiqKQW5FbY1QnsSCRs+VnL/p8b0dvOnt2JtIzks5elu/tXdrLEg1C2IhK+WMRGBt5//33ef3118nOzqZnz5689957lxxNMBgMvPzyyyxdupTMzEw6derEq6++ypgxY6zP2b59O6+//jr79u0jKyuL1atX17jIXo6SkhLc3d0pLi7Gza1mPU5VVRWnTp0iNDT0ghWNL5e5shL9qVMoZjMaN7cWsdBhXVXqjaQVVKA3WhIfO40aX1d7PJwvnfjUx9+FEJfDrJg5U3qGYwXHSMxPtCY9BVUFF31+e5f2dPbqXCPh8Xb0buSohWh9/u76/Vc2HQFauXIlc+bM4aOPPiI6Opr58+czevRoTpw4ge9F+l499dRTLF++nIULFxIZGcmmTZuIiYnht99+o3fv3gCUl5fTs2dPpk+fzsSJExv7R/pHZr0efVoaitmM2tkZu/byCbCoQs+ZwkrMioKdRo2Pqz2ef5P4CNFQyg3lpJWkkV6SbvleavmeXJRMuaH8guerVWrC3MNqJDqdPDvhpru8iQxCCNux6QhQdHQ0/fr1Y8GCBQCYzWYCAwN56KGHmDt37gXP9/f358knn+TBBx+0bps0aRKOjo4sX778guerVKomNQKkGI1Up6ai6PWoHRzQhYai0mhqdYymrGvXrqSlpV1038cff8ydd95ZY5uiKOSUVJNbWgWAq4MdgZ6OaC9z5WsZARJXosJQQUZpRo0E54+EJ78q/5Kv06l1dPToSKRXJJ09LaM7ER4ROGjl354QTUWzGAHS6/Xs27ePefPmWbep1WpGjBjBrl27Lvqa6urqCy50jo6O7Nixo06xVFdXU/2nlZxLSkrqdLxLMebno+j1qOzssAsOblHJD8CGDRswGAwX3efn51fjscmskFFQQUmV5fk+Lva0dXdo9aNhon5UGavIKM2wJDalfxrRKUm3dlG/FE8HT4JcgwhyCyLYLZggtyDC3MMIdQ/FTm33t68VQjQfNkuA8vLyMJlMF1wY/fz8SExMvOhrRo8ezVtvvcWwYcPo0KEDsbGxrFq1CpPJVKdYXn75ZZ577rk6HeNyaH19QQGNRxvUdi3vjfRS09n/Sm80cTq/giqDCZVKRfs2jng46xo4OtFSnSg4we6s3edHckrTyC7P/tvXuNu7E+xqSW6C3IIIdg22JjuuOtdGilwIYUvNahbYO++8w4wZM4iMjESlUtGhQwemTZt20QabtTFv3jzmzJljfVxSUkJgYGBdw72ASqXCrq3fPz+xBSurMpBeUIHRrKDVqAn2dMLZvln9MxRNQIm+hI2pG1mVvIpj+ccu+hxXO9fzCY5bMEGulu/BbsG427s3csRCiKbGZlceb29vNBoNOTk5Nbbn5OTQtm3bi77Gx8eHNWvWUFVVRX5+Pv7+/sydO5ewsLA6xWJvb499LVdVNpsvXNND/L38smrOFlWhoOCo0xDi6Yyd9sqX+Je/g9bFrJiJz45nVfIqtqRtodpkuW2tVWsZ7D+Yjh4drQlOkFsQHvYecktVCHFJNkuAdDodUVFRxMbGWouUzWYzsbGxzJo1629f6+DgQEBAAAaDge+++45bbrmlMUIGLHGr1WrOnj2Lj48POp1O3mT/gVlRyC2porjSUu/j6mBHWxctJqMe08Ub3f8tRVHQ6/WcO3cOtVqNTie3z1qy7PJs1iavZU3yGmt3dIDwNuHEhMcwrsM4PB0afhFRIUTLYtN7D3PmzGHq1Kn07duX/v37M3/+fMrLy629oaZMmUJAQAAvv/wyYGnjkJmZSa9evcjMzOS///0vZrOZxx57zHrMsrIykpOTrY9PnTrFwYMH8fT0JCgoqM4xq9VqQkNDycrK4uzZiy94Js4z/d7OotpoRgW4OWrROdiRVlj3Yzs5OREUFHRZjVRF82IwGdiWsY3Vyav57exv1lWUne2cGRs6lonhE+nm3U0+fAghrphNE6Bbb72Vc+fO8cwzz5CdnU2vXr348ccfrYXR6enpNS5uVVVVPPXUU6SmpuLi4sJ1113HsmXLaNOmjfU58fHxXH311dbHf9T2/NGFvD7odDqCgoIwGo11LsBuyZJzy3h6zRFyS6tw1ml58vrO9AjzqpdjazQatFqtXABbmKTCJFYlrWJ96noKq89nyX39+hITEcPI4JE4ah1tGKEQoqWw+UrQTVFt1hEQF7cxIYs5Xx+i0mAixMuJT6f2JdxXZteIC5XqS9l4aiNrkteQkJdg3e7j6MP48PHEhMcQ5Fb30VshRMvXLNYBEi2T2azwTmwS78QmATA0wpsFt/fB3anlTfsXV05RFOJz4lmTvIafTv9ElcmyGKZWpWV44HBiImIY5D9ImoMKIRqMvLuIelNebeTfXx/ix6OWNVjuHRLK3LGRaDVSoyMscspzWJeyjjXJa0gvTbdu7+DegZiIGMaFjcPLsX5ukwohxN+RBEjUi4yCCmZ8Hk9idik6jZoXY7pxc9/6X0tJND96k55fz/zKquRV7MjcYS1odtI6MTZ0LDERMfTw7iH1XEKIRiUJkKiz3an5PPDFfgrK9fi42vPR5Ciigj1sHZawIYPJwK6sXWw6vYmt6VspM5RZ9/Xx7UNMRAyjgkfhZOdkwyiFEK2ZJECiTpbvTuO/645iNCt0D3DnkylRtHOXWTqtkcFsIC4rjk2nNxGbHkupvtS6z9fJl3Fh44gJjyHEPcR2QQohxO8kARJXxGAy89z3R1m+21LHcWNPf167qQcOdi2rwav4e0azkT3Ze/jp9E9sSd9CcXWxdZ+Pow+jQkYxOmQ0PX16olZJLZgQoumQBEjUWn5ZNQ98sZ+4UwWoVPDY6EjuuypMajhaCZPZRHxOPJtOb2JL2pYa6/V4OXgxMngko0NG09u3Nxq1JMRCiKZJEiBRK8ezSpjxeTxnCitxsdfyzm29uLZz627w2hqYzCb25+5n0+lNbE7bTEFVgXWfp4MnI4JGMDpkNFF+UZL0CCGaBUmAxGX76Wg2j6w8SIXesrjhwil9ifCTxQ1bKrNi5mDuQX48/SOb0zaTV5ln3edu725Nevq17Sfr9Qghmh151xKX5eu9GcxddRizAkPCvVlwR2/aOEkT0pbGrJg5fO4wm05v4qfTP5FbmWvd56Zz49qgaxkdMpr+7fpjp5bFLYUQzZckQOIfLdpxiv/9cAyA2/oF8sKEbrK4YQuiKApH84+y8dRGfkr7iezybOs+VztXrg66mtEhoxnYbiB2Gkl6hBAtgyRA4pIURWH+lvNtLWYOC2Pe2Egpdm4hCqoK+D7le9YkryG5KNm63dnOmasDr2ZMyBgG+g9Ep5GRPiFEyyMJkLgos1nhhfXHWbzzFAD/Gd2JB4Z3kOSnmTOZTew8u5PVSav5OeNnjIoRAAeNA1cHWZKewQGDsdfY2zhSIYRoWJIAiQuYzApzvzvMN/vOAPDcjV2ZOijEtkGJOskoyWB18mrWpqwlt+J8XU937+5MCJ/A2NCxuOqkoF0I0XpIAiRqqDaaeHTlQTYkZKNRq3htUg8mRbW3dVjiClQaK9mStoVVSauIz4m3bm9j38ayKnNEDB09OtowQiGEsB1JgIRVhd7Ifcv3s/3kOXQaNe/e3psx3draOixRC38UNK9KWsXGUxutPbhUqBgUMIiJ4RMZHjhc6nqEEK1erROgkJAQpk+fzt13301QUFBDxCRsoKTKwPTP9hKfVoijnYaFU/oyJMLb1mGJy1RYVcgPqT+wOnk1SYVJ1u0BLgHEhMcwPnw8bZ0lmRVCiD/UOgF65JFHWLJkCc8//zxXX30199xzDzExMdjbS9Fkc5VXVs3UxXs4erYENwctn03rL93cmwGT2cSurF2sSlrFtoxtGM2WgmZ7jT0jgkcwMXwifdv2lR5cQghxESpFUZQreeH+/ftZsmQJX375JSaTiTvuuIPp06fTp0+f+o6x0ZWUlODu7k5xcTFubm62DqdBnS2qZPKiOFLPlePtouPz6dF08W/ZP3Nzl1GawZrkNaxNXktORY51exevLkwMn8jYsLG46eTvUAjR+tTm+n3FCdAfDAYDH3zwAY8//jgGg4Hu3bsze/Zspk2b1mynTLeWBOhUXjmTP40js6gSf3cHlt8bTZiPi63DEhdRZaxiS/oWVietZk/2Hut2N50b48LGMTFiIp08O9kwQiGEsL3aXL+vuAjaYDCwevVqPvvsMzZv3syAAQO45557OHPmDE888QRbtmxhxYoVV3p40cCOZ5Vw16I95JVVE+btzLJ7owlo42jrsMRFxKbH8lLcS9bp6ypUDPQfSEx4DFcHXS1r9gghxBWodQK0f/9+PvvsM7788kvUajVTpkzh7bffJjIy0vqcmJgY+vXrV6+BivqzP72QuxfvoaTKSOd2bnw+vT8+rnIRbWqyy7N5Ke4ltmVsA8DPyY9JEZMYHz4efxd/G0cnhBDNW60ToH79+jFy5Eg+/PBDJkyYgJ3dhb2BQkNDue222+olQFG/dibnMePzeCr0JqKCPVh8dz/cHaW/U1NiMpv4MvFL3jvwHhXGCrQqLdO6TWNmj5k4aB1sHZ4QQrQItU6AUlNTCQ4O/tvnODs789lnn11xUKJh/HQ0m1krDqA3mRka4c3Hd0XhpJOloJqSo/lHeX7X8xzLtzSf7eXTi2cHPku4R7iNIxNCiJal1le/3NxcsrOziY6OrrE9Li4OjUZD37596y04UX9WHzjD/31zGJNZYXRXP969vTf2Wo2twxK/qzBU8N6B91iRuAKzYsZV58qjUY8yKWKSTGMXQogGUOt31gcffJCMjIwLtmdmZvLggw/WS1Cifi3bdZpHVx7CZFaY1Kc979/RR5KfJmRb+jbGrx3P8uPLMStmxoaOZd2Eddzc8WZJfoQQooHUegTo2LFjF13rp3fv3hw7dqxeghL1Q1EUPvg5hdc3nQDg7kEhPDOuC2p181yeoKXJLs/mlT2vEJseC1hWbX56wNMMDhhs48iEEKLlq3UCZG9vT05ODmFhYTW2Z2VlodVKPUlToSgKr/yYyMe/pAIw+5pwHh3ZsdmuzdSSmMwmvjrxFe/uf9da5Dy161T+1fNfOGplKQIhhGgMtc5YRo0axbx581i7di3u7u4AFBUV8cQTTzBy5Mh6D1DUnsms8PTaI6yISwfgyes6M2NY2D+8SjSG4/nHeW7XcxzNPwpAT5+ePDPwGenKLoQQjazWCdAbb7zBsGHDCA4Opnfv3gAcPHgQPz8/li1bVu8BitoxmMz8++tDrDt0FpUKXo7pzm39pWmtrVUYKvjg4AcsP74ck2LC1c6VR6Ie4aaON0mdjxBC2ECtE6CAgAAOHz7MF198waFDh3B0dGTatGncfvvtF10TSDSeKoOJB77Yz9bEXLRqFW/f2osbesqCebb2S8YvvBj3IlnlWQCMDhnN4/0ex8fJx8aRCSFE63VFRTvOzs7MnDmzvmMRdWA2K8z+8gBbE3Ox16r5aHIUV0f62jqsVi23IpdX9rzC5rTNAPg7+/PkgCcZ1n6YjSMTQghxxVXLx44dIz09Hb1eX2P7jTfeWOegRO3Nj03ip2M56DRqlkzrz8AOXrYOqdUymU18ffJr3tn/DuWGcjQqDVO6TuG+HvfhZOdk6/CEEEJwhStBx8TEkJCQgEql4o9m8n/MLjKZTPUbofhHGxOyeDc2CYAXY7pJ8mNDJwpO8Nyu50jISwCgh3cPnhn4jHRqF0KIJqbW1ZcPP/wwoaGh5Obm4uTkxNGjR9m+fTt9+/bl559/boAQxd85nlXCnK8PATB9cCg39w20cUStU4Whgrfi3+LWH24lIS8BFzsXnox+ks/Hfi7JjxBCNEG1HgHatWsXW7duxdvbG7VajVqtZsiQIbz88svMnj2bAwcONESc4iIKyvXM+DyeSoOJIeHePHFdpK1DanVK9CV8efxLlh9fTlF1EQCjgkfxeP/H8XWSGiwhhGiqap0AmUwmXF1dAfD29ubs2bN06tSJ4OBgTpw4Ue8BioszmMw88MU+zhRWEuTpxII7eqPVyHTqxlJQVcCyY8v4KvErygxlAAS5BvFYv8e4KvAqG0cnhBDin9Q6AerWrRuHDh0iNDSU6OhoXnvtNXQ6HZ988skFq0OLhvPCD8fYnVqAs07Dp1P70sZJZ+uQWoWc8hyWHF3Ctye/pcpUBUB4m3BmdJ/BqJBRaNWyGroQQjQHtX63fuqppygvLwfg+eefZ9y4cQwdOhQvLy9WrlxZ7wGKC321J52lu9IAePvWXnT0c7VxRC3fmdIzLD6ymDXJazCYDQB09erKzB4zGR44XBYzFEKIZkal/DGNqw4KCgrw8PBoMX2mSkpKcHd3p7i4GDc3N1uHU0P86QJuX7gbg0lhzsiOzL42wtYhtWipRal8mvApG05twKRYZjhG+UUxs/tMBvoPbDH/5oUQoiWozfW7ViNABoMBR0dHDh48SLdu3azbPT09ryxSUStniyq5b/k+DCaF67q35aFrwm0dUot1PP84CxMWsiVtCwqWzwiD/Qczo8cMovyibBydEEKIuqpVAmRnZ0dQUJCs9WMDlXoTM5fFk1emJ7KtK6/f1FNGHxrAwdyDfHL4E37N/NW67dqga5nRfQZdvbvaMDIhhBD1qdY1QE8++SRPPPEEy5Ytk5GfRqIoCnNXHeZIZgkeTnYsnNIXZ3sptq0viqIQlx3HwsML2ZO9BwC1Ss2YkDHc2/1eIjzkNqMQQrQ0tb6KLliwgOTkZPz9/QkODsbZ2bnG/v3799dbcMLi4+2prD14Fq1axQd3RhHoKe0U6oOiKPxy5hcWHl7I4bzDAGjVWsZ3GM/0btMJcguycYRCCCEaSq0ToAkTJjREHOIStiXm8uqPiQA8e0MXaXNRD0xmE5vTNrMwYSEnC08CYK+xZ1LEJKZ1m0Zb57Y2jlAIIURDq3UC9OyzzzZEHOIiUs6VMfurAygK3N4/kMkDgm0dUrNmMBtYn7qeRQmLOF1yGgAnrRO3Rt7KlC5T8Hb0tm2AQgghGo0UkjRRxZUGZiyNp7TKSN9gD567sZsUPV+hnPIc1qas5buT33G2/CwAbjo3JneezB2d78Dd3t3GEQohhGhstU6A1Gr1316IZYZY3ZnMCo98dYDUvHL83R34cHIUOq0stFcbBpOBn8/8zKqkVfx29jfMihkATwdP7u56N7d0ugVnO+d/OIoQQrQ+JoOZPT+kYu9kR/er22On09g6pAZR6wRo9erVNR4bDAYOHDjA0qVLee655+otsNbs9U0n2HbiHPZaNZ9M6YuPq72tQ2o2kguTWZW8ih9SfqCwutC6PcovipjwGEaHjMZB62DDCIUQoulSFIVtyxM5EZcNQMIvZxg0MZzwKN8WdxeiXlaCBlixYgUrV65k7dq19XE4m7LlStBrD2by8FcHAXjntl6M7xXQqOdvjsr0ZWw8vZHVSatJyEuwbvdx9OHGDjcSExFDsJvUTwkhxD/Z830qe9efRqVW4eSmo7yoGoB24e4MvaUjPkFNu/VSba5dfeilAAAgAElEQVTf9ZYApaam0qNHD8rKyurjcDZlqwQo4UwxN330G9VGM/cP78DjYyIb7dzNjaIo7MvZx+rk1WxO20ylsRIArUrLsPbDmBgxkcEBg6U5qRBCXKbEXVnELj0OwNWTI4no78fBzens/zENo8EMKugy2J/oG8NwcmuaDbgbrBXGpVRWVvLuu+8SECCjFVfqXGk1M5fFU200c02kL/83qpOtQ2qScityWZeyjjXJa0grSbNuD3UPZWL4RMZ1GCezuYQQopbOJBawbZllyZU+Y4LpMsQfgH7XhxI5sB27VqeQtDeHYzvOkhyfQ79xoXQf3h5NM65PrXUC9Nemp4qiUFpaipOTE8uXL6/X4FqLaqOJ+5fvI6u4ijAfZ+bf1guNumXda60Lg9nA9oztrE5eza+Zv1oLmp20TowJHUNMeAw9faQ1iBBCXImCs+Vs/PgIZrNCeF9fBtwYVmO/q6cDo+7pSrerAtjxdRLn0kvZ+W0yR389y+Cbwgnp3jw/dNb6FtiSJUtqXGjUajU+Pj5ER0fj4eFR7wHaQmPeAlMUhXmrEvhqbwauDlrWPjiYMB+XBj1nc5FalMrq5NWsS1lHQVWBdXtv397WgmYnO1kVWwghrlR5cTXfvbqP0oIq2nVw58ZHeqG1u/SsL8WscHxXFrvXpFBZagAgqKsnQ26OwKOt7WfW2qQGqCVpzARo2a7TPL32KGoVLL67H8M7+Tbo+Zq6ckM5m05vYlXSKg6dO2Td7uXgxY3hNxITHkOoe6gNIxRCiJbBoDex5s395KaV4u7jyKTHo3B0ubzaHn2lkfgNpzm0NQOzSUGtVtF9eHv6jQvB3smugSO/tAatAfrss89wcXHh5ptvrrH9m2++oaKigqlTp9b2kK3WrpR8nvv+GACPj4ls1clPpbGSN+PfZF3KOmtBs0alYWj7oUwMn8iQ9kOwU9vuP5UQQrQkZrPC5kVHyU0rxcHZjnGzel528gOgc9QyaFI4XYb4s/O7ZE4fzuPQ1gxO7Mkm+sYwugzxR93ESzlqPQLUsWNHPv74Y66++uoa23/55RdmzpzJiRMn6jVAW2iMEaCMggpuXLCDwgoDE3r58/atvVptDUteZR4PxT7EkfwjAIS4hRATEcMNYTfg4+Rj4+iEEKLl2fF1Eoe2ZqDRqhn/SC/ahbep0/HSj+Wz4+skCrMrAPBq78LQmyMI6NS4pTENOgKUnp5OaOiFtyCCg4NJT0+v7eFapfJqIzM+j6ewwkCP9u68MqlHq01+UotSeSD2ATLLMnG3d+eVoa8w2H9wq/19CCFEQzu8LYNDWzMAuPbuznVOfgCCunhx69MeHN2eyZ7vT5F/pow1bx+gQx8fBk0Mx83bsc7nqG+1nr/m6+vL4cOHL9h+6NAhvLyurFP5+++/T0hICA4ODkRHR7Nnz55LPtdgMPD888/ToUMHHBwc6NmzJz/++GOdjtmYFEXh/745RGJ2Kd4u9nx8VxQOf1Nw1pLtzd7L5I2TySzLJNA1kC+u+4IhAUMk+RFCiAZy6nAeO75OAmDAhDAi+vrV27E1GjU9rg7kzucH0O2qAFQqSNl/jhX/jSNuXSqG6qbVKqvWCdDtt9/O7Nmz2bZtGyaTCZPJxNatW3n44Ye57bbbah3AypUrmTNnDs8++yz79++nZ8+ejB49mtzc3Is+/6mnnuLjjz/mvffe49ixY9x3333ExMRw4MCBKz5mY3pvazIbj2Sj06j5+K4+tHNvellxY/g+5Xtmbp5Jqb6Unj49WX7dclmtWQghGlBuWgk/fXoERYEuQ/zpM7ph3nMdXXRcdXsnbn2qPwGd2mAymonfcJovnt3NibhsFHPTmHtV6xogvV7PXXfdxTfffINWa7mDZjabmTJlCh999BE6Xe1Wh4yOjqZfv34sWLDAeqzAwEAeeugh5s6de8Hz/f39efLJJ3nwwQet2yZNmoSjo6N1HaLaHvOvGqoG6Kej2cxctg+A1yb14JZ+gfV27OZCURQ+OvwRHxz8AIBRwaN4cciL0p9LCCEaUEl+Jd+9uo+KEj2BXTy5/sEeaDQNv4ihoiicOpjHzu+SKMmrAsAv1I2ht3TEL7T+a2wbtAZIp9OxcuVKXnjhBQ4ePIijoyPdu3cnOLj2maRer2ffvn3MmzfPuk2tVjNixAh27dp10ddUV1fj4FDzYuno6MiOHTvqdMzq6mrr45KSklr/LJdDq1HhYq/lpqj2rTL5MZgMPLfrOdamWPrFTes2jUf6PIJa1XxXEhVCiKauutLI+vcPU1GixyvAmTEzujVK8gOgUqkI6+1DUDdPDsVmEL8xjZxTJXz7ajxdBrdj+ORIm5U9XHErjIiICCIiIup08ry8PEwmE35+Ne9B+vn5kZiYeNHXjB49mrfeeothw4bRoUMHYmNjWbVqFSaT6YqP+fLLLzdKJ/trIv1YP3sI/m1a322vEn0Jc7bNIS47DrVKzZPRT3JLp1tsHZYQQrRoJpOZHz9OoOBsOc7uOq5/sCc6x8bvkai10xA1JoTIAe3YtSaFE7uzsbPX2rTms9Yp4KRJk3j11Vcv2P7aa69dsDZQQ3jnnXeIiIggMjISnU7HrFmzmDZtGmr1lWez8+bNo7i42PqVkZFRjxHXFOzljF0jZd5Nxdmys0zZMIW47DictE4suGaBJD9CCNHAFEXhly9OcCaxEK29husf7Imrp23LDZzb2DPi7i5MejyKvteH2DSWWl+Jt2/fznXXXXfB9rFjx7J9+/ZaHcvb2xuNRkNOTk6N7Tk5ObRt2/air/Hx8WHNmjWUl5eTlpZGYmIiLi4uhIWFXfEx7e3tcXNzq/El6sfRvKPcueFOUopT8HX0ZenYpQxtP9TWYQkhRIu378c0jv+WhUoFo+/tik+Qq61Dsmob6o6Ds20Xt611AlRWVnbRQmc7O7ta187odDqioqKIjY21bjObzcTGxjJw4MC/fa2DgwMBAQEYjUa+++47xo8fX+djivr1c8bPTNs0jbzKPDp6dOSL678g0jPS1mEJIUSLd3JvNnFrUwEYemvHZtuwtCHVOgHq3r07K1euvGD7V199RZcuXWodwJw5c1i4cCFLly7l+PHj3H///ZSXlzNt2jQApkyZUqOgOS4ujlWrVpGamsqvv/7KmDFjMJvNPPbYY5d9TNHwVhxfwcPbHqbSWMkg/0EsHbOUts4XH4ETQghRf84mFRG79DgAvUYE0n14extH1DTVuhLq6aefZuLEiaSkpHDNNdcAEBsby4oVK/j2229rHcCtt97KuXPneOaZZ8jOzqZXr178+OOP1iLm9PT0GvU9VVVVPPXUU6SmpuLi4sJ1113HsmXLaNOmzWUfUzQck9nEm/veZNmxZQBMipjEkwOelD5eQgjRCIpyKtjw0WHMRoWw3pZVmMXFXVE3+PXr1/PSSy9Zp8H37NmTZ599Fk9PT7p169YQcTaqxuwG35JUGiuZ9+s8YtMttx8f7vMw93S7R1Z2FkKIRlBZqufb1/ZRcq4Sv1A3xj/aGztd6+o0UJvr9xUlQH892ZdffsmiRYvYt2+fdTp6cyYJUO3lV+bz0NaHSMhLwE5tx4tDXmRs6FhbhyWEEK2CUW9i7fwDZKeW4ObtwKTH+uLkVruFiVuC2ly/r3g+9vbt25k6dSr+/v68+eabXHPNNezevftKDyeasdTiVO7ccCcJeQm427uzcNRCSX6EEKKRKGaFLUuOk51agr2TlnGzerbK5Ke2alUDlJ2dzZIlS1i0aBElJSXccsstVFdXs2bNmisqgBbN397svTy87WFK9aUEugbywbUfEOIeYuuwhBCi1di1JoWU/bmoNSrG3tcdj7bOtg6pWbjsEaAbbriBTp06cfjwYebPn8/Zs2d57733GjI20cT9kPrDBQ1NJfkRQojGc2R7Jgd+SgfgmimdCejoYeOImo/LHgHauHEjs2fP5v77769zCwzRvCmKwieHP2HBQUuz2ZHBI3lpyEvS0FQIIRpR2tF8tn91EoD+N4TSKVqWGqmNy06AduzYwaJFi4iKiqJz587cdddd3HbbbQ0Zm2iCDGYDz+96njXJawCY1nUaj0RJQ1MhhPiz6goDeRllmOs2z+jSxy83svXz4yhmhcgBbel7XUiDnKclq/UssPLyclauXMnixYvZs2cPJpOJt956i+nTp+Pq2nSW2a4LmQV2caX6Uub8PIfdWbtRq9Q80f8Jbo281dZhCSGEzSmKQn5mOWlH8kg7kk92agmKuWGSnz8L6OTBDQ/1RKOVD6HQiNPgT5w4waJFi1i2bBlFRUWMHDmSdevWXenhmgxJgC6UVZbFA7EPkFyUjKPWkTeueoNh7YfZOiwhhLAZfZWRM4mFpB3JJ+1IPuVF1TX2u3k7YGffcOvweLZz5qo7OmHvJAvN/qFR1wECMJlMfP/99yxevFgSoBboaP5RZsXOIq8yDx9HH96/9n06e3W2dVhCCNGoFEWhKKfCmvCcTSrCbDp/CdXaqQmI9CC4qxfB3bxw83a0YbStU6MnQC2NJEDn/ZLxC//Z/h8qjZVEeETwwbUfSE8vIUSrYdCbyDxRSPqRfNKO5lOSV1Vjv5uPIyHdLAmPf0QbtK1s5eWmpjbX71r3AhOtx5eJX/LKnlcwK2YG+Q/izavexEXnYuuwhBCiQRWfq7SO8mSeLMRkMFv3qbUqAjqeH+Vp4+dkw0hFXUgCJC5gVsy8Gf8mnx/7HJCGpkKIls1kMHM2ucia9BTlVNTY7+JhT3B3b4K7eRHQsQ06B7l0tgTytyhqqDRW8sSvT7AlfQsgDU2FEJdWmF1O5skiW4dxxYx6E2eTishILMRYfb6PpVqtol24O0G/39rybOcs74EtkCRAwiq/Mp/ZW2dzOO8wdmo7Xhj8AteFXWfrsIQQTUxVmYE936dyZHsmLaWK1MlNR/DvCU/7zp7YO8rlsaWTv2EBWBqaPrDlATLLMnG3d+edq98hyi/K1mEJIZoQs8nMke1n2fN9KtUVRgD8I9rg4NxMb4+rwCfQleBuXni3d0GlllGe1kQSIMHe7L08su0RSvQltHdpzwcjPiDUPdTWYQkhmpCM4wXs+CaJgrPlAHgFODPk5gjaR3raODIhrowkQK3cD6k/8PTOpzGajfTw6cF717yHp4O8oQkhLIpyK/jtu2ROHcoDwMHZjugbQ+kyxB+1RlYfbnHK82DfEjj4BajtIGKk5StoEGh1to6uXkkC1EpJQ1MhxN/RVxnZt/E0B2MzMBsVVGoV3YcH0O/60OZ7y0tcWvYRiPsQDn8Dpj+taJ13AnYtAJ0LhA23JEPhI8E9wFaR1htJgFohaWgqhLgUxayQuDub3WtSqCjRAxDYxZMhN0Xg6e9s4+hEvTKb4MRGiPsITv96frt/b4i+D7QOkLQZkjdDWQ4k/mD5AvDr9vvo0Cho3x80zS+dkJWgL6IlrwT914am8/rP47bI22wdlhCiCchKKWbH1yfJTSsFwN3HkSE3RxDc3UumgbcklUVwYDns+QSK0izbVBrociNE3w+B/eHPf99mM2QftiRCSZvhzF5Qzi8OiYM7dLjGkgyFjwAX38b9ef5EWmHUUUtNgKShqRDiYsoKq/htVQpJe3MAsHPQ0O+6UHpc0166jLckeUkQ9zEcXAEGSzE7jh4QdTf0uxfc21/ecSoKIGUrJP1kSYgqC2ru9+9tSYYiRln+rG689iCSANVRS0yApKGpEOKvjHoTBzans39TGka9GVTQeVA7BozvgJNbyyp4bbUUBVJiYfdHlhGcP/h0hgH3QfdbQFeHdh5mE5w98Hsy9JPlz3/m5GUZFQofCeHXglPDTrKRBKiOWloC9OeGpuFtwvlwxIfS0FSIVkxRFFL2n2Pnd0mUFVgKXtuFuzP0lo74BLnaODpRL/TlcOhLy4hP3snfN6qg4xhL4hN6Vc3bXPWlLBeSt1iSoeStUF18fp9KDQF9fx8dGglte4C6fkcYJQGqo5aUAP25oenAdgN5c/ibuOrkDU6I1upceim/fn2SrGTLhcnFw55Bk8IJj/KVOp+WoDDNUttzYBlU/Z586Fyh92ToPwO8OjReLCYjnNlz/lZZzpGa+8OGw5S19XpK6QYvLmhoOjFiIk8NeEoamgrRSlWU6Ilbl8qxnWdBAa2dmt6jg+k9Kgg7XePVaIgGoCiQthN2fwgnNpwvUPYItczm6nUHONjgw7xGC8GDLF8j/gvFmecLqVO2gX+fxo/pTyQBaoH+2tB0du/Z3Nv9Xvl0J0QrZDKaSfj5DHt/OIW+ytLwM6KvLwMnhuPqKet+NWuGKjjyrWUae3bC+e1hwy2zuSJG1fstpjpxD7AUXEfdDcZqMFTaNBxJgFoYaWgqRPNRmF3Ogc3pVJYaGu4cWeUUn7NcaLwDXRh6S0f8I9o02PmaLEWB0mwoSIH8FMv3wtNgarjffYNSFMt09ArLCt1oHaHnrZYRH99mMMFFa2/5smUINj27qFfpJenM3DyTzLJM3HRuvHvNu9LQVIgmqLrCwN71p0nYdgazueHLMB1d7RgwoQORA9uhbskNPxUFys+dT3Cs31OhIPX81O+WxC3AUtvTZ2qDz7BqaSQBaiEqDBXM3jqbzLJMaWgqRBNlNisc33mW3WtTqSqzjDyEdPcipId3g51Tq9MQ0sMbe8cW8navKJZ1aGokOH9KdPSll36tSg1tgsCzg6UY2CO0blPAbc2lrWWKeTNchbkpkN9aC/HKnldIKU7Bx9GHZdctw9ux4d5QhRC1l3mykF+/TiL/TBkAHm2dGHxzBMFdvWwcWROlKJB73DJz6K+JTlXx37xQBe6B4BV2PtH543ub4BbX0FNcOUmAWoDvU75ndfJq1Co1rw57VZIfIZqQkrxKfluVQsr+XADsnbT0GxdKt6sC0Eg39ZqqSyH1l/PTpkvPXvq5bgHgGVYzwfHsAB4hYCfF3eKfSQLUzJ0uPs3/dv8PgPt63Ee/tv1sHJEQAsBQbWL/pjQObE7HZDCjUkHXoQH0vzEURxcZhQAsozx5SedXEU77Dcx/KkrWOlpaKXj9ZSSnud+6Ek2CJEDNWLWpmv/75f+oNFbSr20/ZvaYaeuQhGj1FEXh5J4cdq1OobzIsspyQMc2DLmlI97tXWwcXROgr4DTO84nPX804/yDRwhEjLZM4Q4ZDHaONglTtHySADVjb+x9gxOFJ/B08OSVoa+gacSGc0KIC+WcLmHH1yfJTi0BwNXLgcE3hRPWy6d1r8NVcMpySyvpJzj9Kxirzu/T6CB48PnmmV4dGqZFgxB/IQlQM7U5bTNfnfgKgBeHvIivk6+NIxKi9Sovrmb3mhQSd2UDoLXXEDUmmF4jAtHatcIPJsZqy+2sP5Ke/KSa+93aQ8ffE56QoWAvI2Oi8UkC1AydKT3DszufBWB6t+kMCRhi44iEaJ1MBjOHtmYQv+E0hmrLKsudotsyYEIHXDxsu8hboys+83vCsxlSf6655o5aC0EDLQ0wI0aBT6SM8gibkwSomTGYDDy2/TFKDaX09OnJrN6zbB2SEK2OoiicOpTHzu+SKfl9lWXfEDeG3hJB2zB3G0fXiPKS4MByS9KTe7TmPhe/8wlP2HBwaEW/F9EsSALUzLyz/x0S8hJw07nx2rDXpLmpEI0sP7OMHd8kcSaxEAAndx0DYzrQqX9bVC15leU/UxTY+yn89NT5eh6VGtr3O5/0+HVvWn2ohPgLSYCakV8yfmHpsaUA/G/w//B38bdxREK0HlXlBvZ8f4oj2zNRzAoarZpeIwLpMyYYnUMreistz4d1D8GJ9ZbHoVdBnynQ4RppxSCalVb0v7Z5yy7P5smdTwIwufNkrgm6xsYRCdE6mE1mjv56lrjvU6kuNwIQ1tuHQRPDcfdpZVO0T22HVTOhNMsye2vEc5bmmzLSI5ohSYCaAaPZyOPbH6e4upguXl14NOpRW4ckRKtQVljFhg8TOJdu6S/lFeDMkJsjaB/ZykY6TAbY9hLseBtQwCsCbloM7XrYOrJaK83P49TBeE4diCcz8Rjufm0J7dWXsN598QsLRyXJXKshCVAz8OGhD9mfux9nO2feGPYGOo2sIitEQzuXUcr6BYcoL9Zj76xlwI1hdBnij7q1ta8oSIXv7oXMfZbHfabAmFdA52zbuC6T2WTi7MnjnDpgSXrOpZ+usb+ytITs5JPs+nYFjm7uhPaKIrR3X0J69MHBRabnt2SSADVxu87uYuHhhQD8d+B/CXQLtHFEQrR8aUfy2bTwCIZqEx7tnBk3qwduXq3sdhfA4a/hhzmWDusO7nDDu9B1gq2j+kflRYWcPrSf1APxpB3eT3X5n6bkq1S0C+9IaO++BHXtSUHWGU4diCft8AEqS4o5tn0rx7ZvRaVS498pktBefQnt3Ref4NDWvZhlC6RSFEWxdRBNTUlJCe7u7hQXF+Pm5mazOPIq87hp3U3kV+VzU8ebeHbgszaLRYjW4sj2TLZ/dRLFrBDQyYOx/+qGvVMrm21ZVQIb/gOHLYutEjQIJn4CbZrmBzCz2UROSjKpv4/y5KTWXHjRwdWNkB69Cevdl+CefXByu3BKvslo4OyJ49Zj5J9Jr7HfxcOT0N6WZCioWy/snaQXWVNUm+u3JEAX0RQSIJPZxL+2/Iu4rDjC24Tz5fVf4qCVDsdCNBTFrLBrTQoHfrJc+CIHtGX45Eg02lZ2y+vMPvhuOhSetkxtv2ouDP03aJrWDYPK0hJOHz7AqQPxnD64j8rSkhr7/cLCLQlLr760DY9AXctWQSXncjl1MJ7UA/GkHzmEsbrauk+t0dK+cxdCfq8d8gwIlNGhJkISoDpqCgnQJ4c/4b0D7+GodeSr678irE2YTeIQojUwGkxs+ew4KftzAeh/Qyh9rwtpXRc1sxl2zodtL4LZCO6BMOlTCBpg68gAy+KTuadTrbU8WUknUBSzdb/O0YmQnn1+T3qicG7jUW/nNur1nDl+xHLug/EUZp2tsd/Nx9d6qyyoaw/sHOTDqq1IAlRHtk6A9uXsY/qm6ZgVMy8MfoHx4eMbPQYhWovKMj0bPkggO7UYtUbFNXdF0mlAO1uH1bhKsmD1TMs0d4CuMTBuPji2sWlY1RUVpCUc+D3x2Ed5YUGN/d5BIYT27ktYr7606xiJRts4o1SFWZmcOriPUwfiyTiWgMlgsO7T2NkR2KX777fKeqJzaLjaMXtnZ+ydmkcxemORBKiObJkAFVYVctP3N5FbkcuNHW7kxSEvNur5hWhNinIq+GHBIYrPVWLvpGXsv7oT0Kn+Rg6ahcQNsPZBqCwAOycY+xr0nmzTXl0mo4EDG79n13dfoa+ssG63s3cgqHsvwnr3JaRXFG7ePjaL8Q+GqirSjx62jg6VnMtttHOrVGraRnQk7PfRJ9+QsFY/jV8SoDqyVQKkKAqzts5i+5nthLiFsHLcSpzspNBOiIaQlVzEhg8TqCo34OrlwLhZPfFs14o+TRsq4aenYa9llilte1jW9vGOsFlIiqJw6kA8P3++0HqbqY1fOzr07U9or34EdO6K1q7pFqQrikJBZoa1kDo7+SSK2fzPL7xCRoO+xmPnNh6E9IqyFHv36N0qR4ckAaojWyVAS48u5Y34N9Cpday4fgWdPDs12rmFaE2S4nOIXXIck9GMb7Ar1z/YEye3VrS+Vs4x+O4eyD1meTxwFlz7DGht18E+/0wGPy/7lNMHLesNObm3YejtU+l61bWtflTjUkryznH64D5LoXbCQQzVVdZ9ao0G/06drYs8egUGt4qaNkmA6sgWCVDCuQSmbJyCUTHy9ICnuaXTLY1yXiFaE0VROPBTOrtWpwAQ2tObkfd0xU5XuxlC9RQMpO2EQ1+BWgOeHcCrg+W7Z2jDJCN/bWLq7AMTPoKIEfV/rstUVVbGru++5OCmHzCbTKg1WqKuH090zK0y1bwWjAYDmcePcurgXlIP7KPw7Jka+129fAjtHUVo734EdevRoLVJtiQJUB01dgJUoi/hlu9vIbMsk1HBo3jjqjdaRaYuRGMym8z88tVJjv1qubXS85pABt0UjrqxO7gbqiDhG4j7GHISLvEklWUWlldYzcTIqwO0CQbtFYxWVRTA2lnnm5iGj4AJH4KL7xX/KHVhNptIiP2JnSuXWaewd+gbzVWTp+PRLsAmMbUkRdlZ1pYfGUcTatwu02i1tO/S3TpzzaOdf4u55kgCVEeNmQApisK/f/k3m9M2E+ASwDc3fIOrzrVBzylEa6OvNLJp4RHSjxWgUsGQWyLocXUjL+pXkmUZfdn3GVTkW7ZpHaHHLZYkJD8FClIgP9Wy8vKlqDSWBQn/mhh5hlmSo4ut1/PnJqZqOxj5HETfb7MmphlHD7NtySfWthRe7YMYPuVeQnr2sUk8LZ2huoqMYwmcOhBP6v54Ss7l1Njfxq+ddZHH9l26Yaez3a3QupIEqI4aMwH6KvErXox7Ea1ay7Kxy+jm3a1BzydEa1NWWMUPCw6Tn1mGVqdm1D1dCe3ZiLOHzsTD7g/h2BrL+joAbu2h/wxLXy2nvzRWVRQoP/enhOhPiVFBKhjKLzzHH9RaSxL058SoKA1+W8D5JqaLoF3PBvtx/05xbja/LF9MUtxvgGUa96CbJ9Nz5NhGm8Le2imKQsHZM9b1lM4cP4rZZLTu1+rsCerWg9BefS0jcQ04MOTs3gbvoJB6PaYkQHXUWAlQYkEid66/E71Zz2P9HuOuLnc12LmEaI3+3NDU0U3HuAd74BvcCHV9JgMcW2tJfDLjz28PGgjR90HkuCtbWVlRoDT7L4lRiiUxKki11PVcig2bmBqqqohb8w3xP6zCZDCgUqnpMXIsg26+46JtKUTj0VdWkHbkkHWtpbL8vEY7d+Tgq7h+9n/q9Zi1uX5Lym0j5YZy/vPLf9Cb9QwPHM7kzpNtHZIQLUra0Xw2ffKnhqYP9sDNu4ELP8vzLLe49i6y3G4C0Oig2z/dIyAAACAASURBVCSI/hf4967b8VUqcGtn+QoZUnOf2Ww5519HjapLoN89lsUNG5miKCTu+JntK5ZQVmC57RfUrQfDp87Ep54/+Ysro3N0IqLfQCL6DURRFPIy0iztRQ7tv6C9SH1z9fJu0OP/ExkBuoiGHgFSFIV5O+axPnU9bZ3b8u0N3+JuL5+ChKgvR3/N5JcvG7GhafYRiPsQDn8Dpt97Rjn7WhKPvtNtVmhsS9nJJ9m69BOyTiYC4O7rx1VT7iW874AWU3Armp7aXL9tvrjC+++/T0hICA4ODkRHR7Nnz56/ff78+fPp1KkTjo6OBAYG8uijj1JVdX7Yt7S0lEceeYTg4GAcHR0ZNGgQe/fubegfo1bWJK9hfep6NCoNrw17TZIfIeqJYlbYtTqZn784gWJWiBzQlhse6tkwyY/ZBMd/gCXj4KPBcGC5Jflp1wtiPoZHj8Dwua0u+SkrLODHD+bzxZNzyDqZiJ29A0Nun8rdb35IRL+BkvyIJsOmt8BWrlzJnDlz+Oijj4iOjmb+/PmMHj2aEydO4Ot74ZvGihUrmDt3LosXL2bQoEGcPHmSu+++G5VKxVtvvQXAvffey5EjR1i2bBn+/v4sX76cESNGcOzYMQICbD+1MqUohZfiXgJgVu9Z9Pat45C4EAKwNDSNXXKc5H0N3NC0qhj2L4M9n1gKjMEyM6vzDTDgfgiMtmkbCVsx6vXs27CWuNVfY6iqBKDrVdcy5LYpuHh62Tg6IS5k01tg0dHR9OvXjwULFgBgNpsJDAzkoYceYu7cuRc8f9asWRw/fpzY2Fjrtn//+9/ExcWxY8cOKisrcXV1Ze3atVx//fXW50RFRTF27FheeOGFy4qroW6BVRoruWP9HSQXJTPIfxAfjvgQtcrmg3BCNHuVZXo2fphAVkoDNjTNS4a4j+DgivMzsRzaQNTdlhld7u3r93zNhKIoJMfv5pdliyjOyQagXXgnrp42k3bhspq9aFzNoghar9ezb98+5s2bZ92mVqsZMWIEu3btuuhrBg0axPLly9mzZw/9+/cnNTWVDRs2cNddltlTRqMRk8mEg4NDjdc5OjqyY8eOhvthLtPCwwtJLkrG29GbF4e8KMmPEPWgMLuc9e8fbpiGpvpySP0Z4j+D5M3nt/t0thQ197gVdK13teL8zAy2Lv6I9COHAHDx8GTondPoPPgqaV8hmjybJUB5eXmYTCb8/PxqbPfz8yMxMfGir7njjjvIy8tjyJAhKIqC0Wjkvvvu44knngDA1dWVgQMH8r///Y/OnTvj5+fHl19+ya5duwgPD79kLNXV1VRXV1sfl5Q0TOX7Pd3vIas8iwnhE/B2tG31uxDNnb7SSPzG0xyKzcBsUuqvoWl+CiT9ZPk6vfN8UTMq6DjGkviEDW+Vt7n+7NTBfXz/9isYqirR2NnRd9xE+k+4qcW2WBAtT7OaBv/zzz/z0ksv8cEHHxAdHU1ycjIPP/ww//vf/3j66acBWLZsGdOnTycgIACNRkOfPn24/fbb2bdv3yWP+/LLL/Pcc881ePzOds68PPTlBj+PEC2ZYlY4viuL3WtTqSyxLO8f1NWTa6d2ubKGpoYqSNsBSZstSU9Bas39bYIg8gbLjC6vDvXwEzR/h7f8yJZFH6CYzbTv0o0x9z+Cu29bW4clRK3YrAZIr9fj5OTEt99+y4QJE6zbp06dSlFREWvXrr3gNUOHDmXAgAG8/vrr1m3Lly9n5syZlJWVof7TkGt5eTklJSW0a9eOW2+9lbKyMtavX3/RWC42AhQYGNjo3eCFEH8vK7mIX79O4ly6pVWEu68jQ26OILibV+2KnQvTLLe0kjZD6i9grDy/T20HwYMg4v/bu/P4qKr7/+Ovmez7SjYSsrGH1QApiFUQWVQWxQKWr4JLUStUi7ZgZfNrKS79Un61lmoraOuKVpC6QCECAkLYEiAsIZCQEEL2kH2dOb8/BgYGkkBIZiaT+Twfj3nIzD1z5xxvhrw599z7GWt4BPaw+9mey5Rez65P/8m+r74AoO9PRzP2qXk4OJrxFgNCtIJNrAFydnYmPj6exMREYwDS6/UkJiYyd+7cJt9TXV1tEnIAHBwMVZyvzXEeHh54eHhQWlrK5s2beeONN5rti4uLCy4utlv7RIjOrqKklj3rz5C+31DDyNnVgSH3RTNgVDgOjjex1qSxHs7tvXRqawsUXnOa3SsMetxjCDwxd4KL1OO7VmN9PZv++ifS9uwEYPhDP2f4Qw/LZe3CZln1FNj8+fOZNWsWQ4YMYdiwYaxatYqqqioee+wxAB599FG6du3KihWG00YTJ05k5cqVDB482HgKbPHixUycONEYhDZv3oxSil69enH69Gl+85vf0Lt3b+M+hRC2o6FeR8qWbA5tyqKxQQ8a6Ht7GAmTYm58uqs898pprYztUF95ZZvGwXC5+uXQExwnszwtqC4v46s/Lic37ThaB0fGPjWPuDvvtna3hGgTqwag6dOnU1hYyJIlS8jLy2PQoEFs2rTJuDA6OzvbZMZn0aJFaDQaFi1axPnz5+nSpQsTJ05k+fLlxjZlZWW89NJL5OTk4O/vz9SpU1m+fDlOTjJFK4StUEpx+mABP355msoSw+np0O4+3DGtJ126NTM7o2uEnP1XZnnyj5pu9+gC3e8xhJ7YUeDWTleKdXKlebmsf20ZpRdycXH3YNILv6NbP+sUUxWiPUkpjCZYshq8EMJUYXYFO9ed4sLpMgA8/VwYMbU73eODmj7dkp1kuD/PmUTDTQqNNNA1/tJannsMd2iWS7Nb5XzaCTa8+Sq1FeV4dwniwYXLCAjvZu1uCdEsm1gDJIQQV6surydpYwbHd+eCAkcnLbeNj2TQPd1wcna4/g26RtjxOuz8Iyi94TVXX+g+xhB6ut8NHnK7iVuVtmcn3729El1DA8ExPXhgwRI8fGXWTHQeEoCEEFala9RzdHsO+7/OpL5WB0CPocEMfyAWL3/Xpt9UmgVf/gLOJRme958GQ580zPg4yF9rbaGUYv/Gf7Pz4/cBiB2SwH3zfoOTazPHQggbJX9TCCGs5uzRInZ/cZqL+dUAdOnmxchpPQjr7tv8m1L/Df/5NdSVgYs33P8n6P+QhXrcuel1Or5f+zcOb/kOgMETJnLXo0+i1TYxAyeEjZMAJISwuNK8KnZ9nk72sRIA3Lyc+MmUWPoMD0WjbeZqrLpK+G4BpHxoeB4+FKb+A/yiLNPpTq6+ppqvV71OZspB0GgY9eiT3HbvZGt3SwizkQAkhLCYuuoG9n99lqPbc9DrFVoHDQNHRzDk3iic3Vr46yg3Bf79BBSfBjRwxwtw10JwkKs720NFSRHrX3uFwqxMHJ1duPdXL9Jj6HBrd0sIs5IAJIQwO71ecXxXLkkbM6itbAAgakAgt0/tjm9wC8VE9XrY+zZsfQX0DeDdFR58F6JGWqjnnV9hViZfvraMypJi3H18eeC3Swjp3tPa3RLC7CQACSHMqqywmu/eSaU4x3AjQr8Qd0ZO60G3vgEtv7EiHzY8DWe+NzzvfT9Megvc/U2anUrazZkDSYT37Uf0oCF4+vk3sbOOp+piKZkpB8k5noqnfwDRg4cQ2qOnRdfbnE05yH9WvUZ9TQ3+XSN4cOFSqekl7IYEICGE2ega9Wz++zGKcypxcXdk2MRo4n7aFQeHG9yPJ30LbHgGqgrB0Q3G/wHiHzO5W7NSiqQvP2P3OsOaoOM/GIJSUFQs0YOHWCVQtESv15F3Op3MlANkJh8gP+O0yfak9Z/h6ulF1MDbiB48hKiBt+Hu7WO2/hxJ3MTWfxgKmkb07c+kF17G1dPTbJ8nREcjN0JsgtwIUYj2kbQxgwPfnsXFw5EZi4bh6XeDS6kb62DrMtj7V8PzoDh4aA0E9TZppmtsZOs/3iZ12xYAev5kJBVFhVw4cwqu+ivNkoGiKTUV5Zw9fIjM5ANkHj5EbUW5yfbgmB5EDhhEeWEBZ1MOUlt1dbkODaGxPQ1hblA8wTHd0bTDjRyVXs+uz/7Fvg2fA9D3jlGMffpXUtBUdAqt+f0tAagJEoCEaLu8jDK+fPMgSsG4X/Sje3xQy28oTIMvnrhSwiLhaRjzCjiZhqa66io2rlxB9tEUNBotox97ikHj7gMMNasuB44WA8XgIQRHx7ZLoLia0uspOJtBZvIBMlIOkJd+CnX5Jo2Ai7sHkQNvI+ZSILv6xoJ6nY4Lp08ZwlLyAQrOnjHZt7uP75UwN+C2W5qtub6g6cMMf+jnUtBUdBoSgNpIApAQbdNQp+Oz3++jrLCGnsOCuefxuOYbKwWHPoDvFkJjDbgHwOS/Qq/x1zUtLyrgyxXLKM7JxsnFlfufX0DMbUOb3O3NBIroQfFEDYq/5UABhkCWdSSZjEuhq+piqcn2Lt2ijKErrGcftA43d0qusqSYzMMHyUw+QNaRZOpraozbNFotYT17Ez3IsN8ukdE3DDE1FeVsePP3lwqaOjD2qV9JQVPR6UgAaiMJQEK0zY6P00j94Tyefi7MWDwMF/dmTq/UlMJ/noPjXxmex9wFD7wDXtcvxM3POM3611+h6mIpHn7+PPDbJQTHdL/pPrVXoFBKUXwui4zkA2SmHCA37QR6nc643cnVjcj+Ay+duhqCV0Dby3HoGhvJTTtu+MzkAxTnZJts9/QPIHpQPNGDhxDZfxDObqZX1l1b0HTi/JeI7D+ozf0SoqORANRGEoCEuHVZqcV8/ZfDAEx6fhARvZu5KivrR/j3L6A8B7SOcPcSGD6vyYKlZw7u45v/9wYNdbUERkTywMJleAd2ueU+6hobyE07cdOBAo2G7NQjZCbvJzP5IBXFhSbt/btGGNt37R2Ho5N519OUFxaQmXKAjOQDZKceprGuzrhN6+BIeJ++l8LcUGqrKvnqzVepqSjHK7ALDy5cRmBEpFn7J4S1SABqIwlAQtya2soGPvnfJKrL6xkwKpw7pjdxPxldI/zwBvzwpqGIqX8MTH0Put7W5D5TNn/D92vfQSk9kQMGM/HXC3Fx92jXft8oUGg0hlmYyxydXejWb8ClkBFv1UvHG+vryTl5zHiqr/TC+SbbBcd054EFS6WgqejUJAC1kQQgIVpPKcXmvx/jzKEC/ELcmfa7oTheW8X9YrZh1ufcXsPzgT+He98AF6/r96fXs+OjtRz8ej0A/UaNZcyTv8TB0bx372isryfnRKohUKQcoPRCLgA+wSHEDB5K9OAhhPfth5Ozi1n7catK83LJTD5IZsoBzh07gq6hgZj4Ydz/q99KQVPR6UkAaiMJQEK0XlpSHlvXHker1TB1QTxBkdd8d1K/hP88f1NFTBvq6/juL/9HetKPAIyc8SjDpvzMKlcrXczPQyk9vsGhNne1VENdLSW55wmKjG73K96E6Iha8/tbboQohGizipJafvj0FABD7osyDT+15bD5JUi+uSKm1WUX2fDmq1xIT8PB0ZFxzzxPn5F3mXcALfANtt07Izu5uBIcHWvtbgjRIUkAEkK0idIrEj84QX1NI8HR3sSPv7TAVq+HlI8g8X+hqoCbKWJakpvDlyuWUlaQj6uHJ5NfXER4336WG4wQwm5IABJCtMmRbTmcTyvF0UnLmNl90TpoIXsvfLcALqQYGgV0h/tXQfQdze4n53gqX/3x99RWVeITHMKDC5fhHxZuoVEIIeyNBCAhxC0ruVDFng2GGwze/lB3fF1L4It5kPqFoYGLN9y5AIbNAUfnZvdzYtd2Nq9eha6xkdDuvZjy28W4+/haYghCCDslAUiIW3R12YPMlIPkZ55G6W33mgL/sK4mdyy+0dVWOp2erWuPo2vQ062PD3H6j+CtPxnu5owGbnsURi8Gz+bv16OUImn9OnZ/9i8AegwbwYR5L3TYK6yEEJ2HBCAhWuFGZQ9sWdG5LIrOZbF/479xdnMnasBgQ92pQfF4+l1/M8MD35ylMLsCFxc9o+vnodlxzLCh2wiY8BqEDmzx864taBp//wPcOfMxuVpJCGEREoCEaMENyx64uBI5YBDRg4cQ0bc/ji62OXOhdHpyT50wzmbVVJRzKmk3p5J2AxAUHUvMpdmhkO49KThbycHvzgJwp+v/4VF1DLzDYeyrEPcA3OBy8brqKv7zp9fIOpJ8XUFTIYSwBLkPUBPkPkD2rb62puWyB2HhxlNFlih7YGlKrycvI90YhvLOpBsKll7i6uEB+lB0mh5098rl3qD3YOSvYcQ8cHZvYc8G5UUFrH/tFYrOZeHo4sL9zy0gNn6YOYckhLATciPENpIAZF+UUpReOG/8hZ9z/Khp2QMnZyL6DTAWt7Tl+8Lciuqyi5w9fIiMQ/s4e2gvdXWNJttDY6KJHjKCmMFDCYqKafEUVn7Gada/8b9UlZbcUkFTIYRoiQSgNpIA1Pk11NeRc+yo8dRWWX6eyXaf4BCiBw0hZvAQwuP6y6LcU/+FzS+Red6br4seR9eQiZfnWS4WFZg0c/fxNVZUjxwwCFcPT+O2jEP7+XrV61cVNF2Kd2CQpUcihOjEJAC1kTkDUGbKQSIHDEKrdbhxYzvTUFtLTUW5+fZfV0v2sSNkJh/gXOoRGhvqjdscHB0J79vfWNzSL7SrzZU9MIvCU4a7OJ/eSq3ei0+K36Ja58OAu7pyx4xeVJQUcTblEJnJB8g6mkx9TY3xrRqtlrCefYgePASNRsOuT/6JUnq69R/EpPkvtXtBUyGEkADURuYKQFlHUvhi+SK6RMUwetYcucPtJY319Rz8ZgNJ69fRUFdrsc/1CuhC9OB4ogcPpVu/ATi7ulnsszu8mouw43XY9y7oG1EaJzZr/8KZ80HNFjrVNTZw/uQJMlMMVcmLc7Kv222/Ufcw5slnzV7QVAhhnyQAtZG5AtCJ3TtI/MdfqauuAqDn8Du4c+ZjeHexz9MASinS9/3Ijn+tobwwHzDMxGg0ZroMWqshJLaH8dRWQESkzPJcS6+DQx/A97+H6mLDaz0nkBb8Els/L26+0GkTygryyUw5SGbyfvLOpHPbhElWK2gqhLAPEoDayJynwKrLy/hx3Ycc2boZpfQ4OjkzZNJUhk2aipOra7t+VkdWmJXJtvff5dzxowB4+gfw05mP0fv2O+UXpLVk7oRNL0G+4ZgQ2AvGr6DC/3Y+fXUf9TWNDJsYzdD7oq3bTyGEaIYEoDayxCLogrMZbP/g71cCQEAgP/357E4fAJoOgA8ybNJDdhUArUopw+xO8RkoOWP4b24ynEk0bHf1gVEvw5DHURpHNv45hZyTpQRFeTP1N7cZan0JIUQHJAGojSx1FVhTp4DCevZh1Ow5hMT2MNvnWoOusZHD//2GH7/4mLoqOQVoEdUlUJJhGnRKzkBxBtSVXd9eo4Uhj8NdvwOPAAAOJ55j1+fpODppmb5oGL7BN77PjxBCWIsEoDay9GXwDfV1HPx6A0kb1tFYVwdA3F1juOPhWXj4+pn9883tbMpBtn3wd0pycwBkEXh7qi27FGyaCDo1NyjT4R0OATHgHwsBsdD9HgjqbdxccqGKdX/Yj65Bz09n9KT/XVKZXQjRsUkAaiNr3QeooqSIXR9/wPGd2wBwcnXjJw9O57Z7J9vk3YZLcs+z41//IOPQfgDcvLwZ+fCj9Bt1j9wGoDXqKq+fwbn8vLqo5fd6hV4KOFcFHf9Y8I8Gp+avetPp9Pz79YMUZlfQra8/988b2KlPzQohOgcJQG1k7Rsh5p46ybYP3iXv9CkAfINDufORJ4gdkmATv4TqqqvY++VnHPp2I3pdI1oHBwaPn8hPps4wuTGeuEp9tWEWp6mgU5nf8ns9gq4EG5OgEwPOt3avnaSNGRz49iwu7o48vCQBD187vxGkEMImSABqI2sHIDDUYzq+cxs7P37fWHG8W/9BjJr1CwIjIq3SpxvR63Uc257Irk//SXXZRQCiBw/hrkefxD9MTp/QUAulmdecqrp06qoit+X3ugdeH3L8YwwP1/b9Gc3LKOPLNw+iFIx9Mo4eQ4Lbdf9CCGEuEoDaqCMEoMvqa6pJ2vA5B79ej66xEY1Wy8B77mXEtJm4eXpZtW9Xyzl5jG3vv0tB5hkA/MLCuevRJ4gZPNTKPbOwxjooPXsl5BjX5mRAWQ7QwtfNzc/0NFXAVSHHzdci3W+o0/HZ7/dRVlhDj6HBjH0iziKfK4QQ7UECUBt1pAB02cX8PHb86z1O798DgKunFyOmzWTgmAloHay3nqa8qIAfPlxL2p6dALi4ezD8oYcZNO4+HBxtb91Sq9WUwpnvIX0LZP0IZedA6Ztv7+JtCDQmIefSf939LdfvZuz4OI3UH87j4evCjMXDcPWwg2MohOg0JAC1UUcMQJdlHU1h+wd/p+hcFgAB4d0YNXsOkf0HWbQfDXW17N/4b/Zv/JLG+jrQaBgwehy3T/8f3H0sM1thFUpB3lFI/68h9OTsuz7wOHlcv+j48n89AqGDruPKOlbM128dBmDSc4OI6GP9QCaEEK0hAaiNOnIAAtDrdBzZuond6z6ktrICgO5Df8Kd//MEviGhZv1spRRpP/7ADx+9T0VxIQDhffoxavYcgqJizPrZVlNbDhnbDaHn9FaouGC6vUsf6HEPxI6GoD7gGdxhQ05zaisb+OTVJKrL6uk/KpyfTu9p7S4JIUSrSQBqo44egC6rqaxgz+cfk/Lfb1B6PQ6Ojgwadx9+oV3N8nlKrzixewe5accB8O4SxJ3/8zg9Em63iavTbppSUJh2KfBsgaw9oG+4st3JHaLvNISeHveAbzfr9bUd1FTUs/2jNDJSCvENdmfay0NxcpbbFAghbI8EoDaylQB0WXFONts++DtZR5It8nmOLi4kTP4Z8RMfwMm5k1weXV9lqIV1+dRW2TWVzP1jocdYQ+CJvB2cbLdsh9IrCs9VkJVaTFZqMflny0HRqkKnQgjREUkAaiNbC0BgODWVcWgfJ3ZuR9fYaLbP8QoIZOikqXgFBJrtMyym+Iwh7KT/F87uAl3dlW0OLhA18kroCYi1Xj/bQV11A9nHS8hOLSbrWDE1FQ0m2wPCPYkfHymXvAshbFprfn87WqhPwsw0Gg2x8QnExidYuysdV0MtZO2+EnpKzphu9+kGPccaSkJE33HLNxHsCJRSFJ+vIiu1iKzUYvIyylH6K//WcXJxIKKPP5H9AugWF4CnXyeZyRNCiJskAUh0bhezLwWeLZC5Axqqr2zTOkLkiEuzPGMhsKfNLV6+Wn1tIzknS42ntqou1pls9wtxJ7JfAJH9Agjt7ouDo1R1F0LYLwlAonPRNUD23itreQpPmG73Cr20eHmsYSFzO99F2ZKUUlzMrzYGntz0i+h1V2Z5HJ20dO3tR2ScIfR4BzZf+0sIIeyNBCBh+8ovGC5PT/+v4XL1uvIr2zRaiEgwhJ7u90BIf5ue5Wmo13E+rdS4lqe8qNZku3egK5H9A4nsF0DXHr44ytVcQgjRJAlAwvbodZBz4NIsz38h74jpdvfAK5eox442lJiwYWWFNcZZnvOnStE1XLnxotZRQ9cevkT2M4QenyC3znVLAiGEMBMJQMI2VBXB6URD4DmTaChBYaSBrrdduWIrdDBobXd9i65BT+7pi8bQczG/2mS7p5+LYZYnzp+uvfxwdpWvsRBCtJb8zSk6Jr0eLiRD+qVTW+cPYlJI1NUXut9tCD2xd4NnF6t1tT1UlNSSlVpM9rFizp0spbFOZ9ym1WoI7e5Dt0trefzDPGSWRwgh2kgCkCXVVUDZefCPBke57NiEUlBdbLhSK32LYU1PVaFpm5ABV67Y6hoPDrb746vT6cnPKCMrtZizR4spya0y2e7u7Wy8Yiu8jz8ubrY7ViGE6Ijkb1VLOrsbPpkOaMAnoumCmb6R4Ohs7Z6aT00pFGcY7sFTfMb0v7Vlpm2dvSB2lCHwdB8D3uatc2ZuVWV1ZB8rISu1mHMnSqivuXLDSo0GgqN9jKEnMNwTjVZmeYQQwlwkAFlSbZnhl3p9haHUQlm24aqlq2kcwDeiiUriMYZwZAuzHrXlVwWbDNOgU1PS8nu79L4yyxORYNNhUK9XFJwtN67lKcyuMNnu6ulEt7hLNyPsE4Crp5OVeiqEEPZHSmE0waylMJQynNq5dvbj8qxIQ3Xz79U6GkLQtcEoINYwo6S14CXPdZWGcNNU0Ln21NW1PENM+355LH7R4Oxumf6bSW1lA9nHiy+t5ymhtsq05ERQpBfdLs3yBEV6o5VZHiGEaDdSCqMj02jAM8jwiBxuuk0pqMhr4vRQhuHRWGt47doSDgAOzuAXdWmWyIwzCbVlhj5V5rXczqPL9SHN/9KfXTzN1z8LU3pFUU7llZITmeUma7Wd3Rzp1vdKyQl3b9ud0RJCiM5EAlBHotEY1rl4hxoKcV5Nr4eK3OuDUfEZKM0EXT0UnTI8LMXNv+nZKP8YcPWxXD8srK66gXMnSg2h51gJNeX1JtsDwj2Na3lCor3ROtjuJflCCNFZSQCyFVot+IQbHjF3mm7T66AsxxCMys6D0je9j/bg5H4p6MTY/A0Gb5ZSipLcKuNangtnyposLHp5PY+nn6sVeyuEEOJmSADqDLQO4BdpeIh2YSwseqyY7NRiKkulsKgQQnQmVv9b++233yYqKgpXV1cSEhLYt29fi+1XrVpFr169cHNzIyIigl//+tfU1l6ph6TT6Vi8eDHR0dG4ubkRGxvLq6++iqz1Fi1RSlGaV0XK1my+WpXMey/u5Lu/HeX4zlwqS+twdNIS2T+An87oySO/H87Pl/2E2x/qQXhvfwk/Qghhg6w6A/TZZ58xf/58/va3v5GQkMCqVasYN24caWlpBAUFXdf+448/ZuHChaxZs4YRI0Zw6tQpZs+ejUajYeXKlQC8/vrrrF69mg8++IC4uDgOHDjAY489ho+PD7/61a8sPUTRgRkLix4rISu1SAqLCiGEHbHqZfAJCQkMHTqUDravIAAAE+NJREFUv/zlLwDo9XoiIiKYN28eCxcuvK793LlzOXHiBImJicbXXnjhBZKSkti1axcA999/P8HBwbz33nvGNlOnTsXNzY0PP/zwpvpl1svghVVJYVEhhOi8bOIy+Pr6eg4ePMhLL71kfE2r1TJmzBj27NnT5HtGjBjBhx9+yL59+xg2bBgZGRl8++23PPLIIyZt3n33XU6dOkXPnj05fPgwu3btMs4QNaWuro66uitrPMrLy9thhKKjUEqRfiCfA9+cpTRPCosKIYSwYgAqKipCp9MRHBxs8npwcDAnT55s8j0///nPKSoqYuTIkSilaGxs5Omnn+Z3v/udsc3ChQspLy+nd+/eODg4oNPpWL58OTNnzmy2LytWrOCVV15pn4GJDqUgq5ydn6WTl2Eos2EsLHppAbN/qBQWFUIIe2RT/9zdvn07f/jDH/jrX/9KQkICp0+f5rnnnuPVV19l8eLFAKxbt46PPvqIjz/+mLi4OFJSUnj++ecJCwtj1qxZTe73pZdeYv78+cbn5eXlREREWGRMwjyqyurY+1UGJ/dcAAWOzlrix0fRf1S4FBYVQghhvQAUGBiIg4MD+fn5Jq/n5+cTEhLS5HsWL17MI488wpNPPglA//79qaqqYs6cObz88stotVp+85vfsHDhQmbMmGFsk5WVxYoVK5oNQC4uLri4SHX2zkDXoOfw9+c48N1ZGmp1APRMCGb4lO54+skxFkIIYWC1AOTs7Ex8fDyJiYlMmTIFMCyCTkxMZO7cuU2+p7q6Gq3W9JJjBwfDlTmX13I310avN+PNAYXVKaU4e6SIXV+cprywBjDU3bpjek9CYjrvXamFEELcGqueC5g/fz6zZs1iyJAhDBs2jFWrVlFVVcVjjz0GwKOPPkrXrl1ZsWIFABMnTmTlypUMHjzYeAps8eLFTJw40RiEJk6cyPLly+nWrRtxcXEkJyezcuVKHn/8cauNU5hXcW4luz9P59yJUgDcvZ0Z/kAsvRJC0EixUSGEEE2wagCaPn06hYWFLFmyhLy8PAYNGsSmTZuMC6Ozs7NNZnMWLVqERqNh0aJFnD9/ni5duhgDz2VvvfUWixcv5pe//CUFBQWEhYXx1FNPsWTJEouPT5hXbVUD+77OJHXHeZReoXXUMOjubsRPiJSruYQQQrTIqvcB6qhs6T5A19apyj9bblKnqr25uDsScbm6eZ8AXD3NWHm+GXqdnmM7c0n6TwZ1VY0ARA8M5PaHuuPTxd3i/RFCCNEx2MR9gMStu1GdKnOqqWjgVFI+p5Ly0WggONrHWBMrMMLT7JeU55wsYee6dEpyqwDwD/Ng5M96ENHH36yfK4QQonORAGQDlFJczK82zvLknr6IvvHKLI+jk5auvf2IjAsgvLcfTi7mO6xlhdVkHzP0o/h8FXkZZeRllJG0MQN3H2ci4wxhKLyPf7tebl5WWMOP/z5NRkohAC4ejiRMjCHujjC0DlKLSwghROvIKbAmdIRTYI31Os6fungp9HTMOlUVJbXGMHTuZCmNdTrjtva64WB9bSMHN2WRsjUbfaNCo9XQ786uDLs/GlcPy59+E0II0XG15ve3BKAmWCsAlRddqVOVk2Zbdap0DXpyT1809v9i/jUlJ/xdjH0P7+WHk0vLgU3pFWn78tiz/gzVZfUAhPf2Y+S0HgSEeZptHEIIIWyXBKA2slQA0jXoyT1jCA3ZqcVN16m6NINia3WqygqryUotab7oaE8/4+ky32DThct5GWXsXJdOwVlDTTbvLm6MfKg7UQMCO1ToE0II0bFIAGojcwagytLaK7M8J0tpuOq0kUarITT2yqJi/7DOUaeqoV7H+bRSslOLOZtaTEXxNafzurgR2S+AiN5+nDlUSFpSHgBOLg4MuTeKgaMjcHCSdT5CCCFaJgGojcwVgA5/f45d69JNXnP3djask4kLIKJv+y4c7oiuW9CdfhG97vofwd4jQvnJ5Bg8fKR8hRBCiJsjl8F3UMFR3tdfOh7uaVd3K9ZoNPiFeOAX4sGgMd2uXNJ/ad2Td4ArP5kSS3BUx77/khBCCNsmM0BNMNcMkF6vqK9utMrNA4UQQojOrjW/v2VhhQVptRoJP0IIIUQHIAFICCGEEHZHApAQQggh7I4EICGEEELYHQlAQgghhLA7EoCEEEIIYXckAAkhhBDC7kgAEkIIIYTdkQAkhBBCCLsjAUgIIYQQdkcCkBBCCCHsjgQgIYQQQtgdCUBCCCGEsDsSgIQQQghhdxyt3YGOSCkFQHl5uZV7IoQQQoibdfn39uXf4y2RANSEiooKACIiIqzcEyGEEEK0VkVFBT4+Pi220aibiUl2Rq/Xk5ubi5eXFxqNpl33XV5eTkREBOfOncPb27td993RyFg7L3sar4y187Kn8drLWJVSVFRUEBYWhlbb8iofmQFqglarJTw83Kyf4e3t3al/CK8mY+287Gm8MtbOy57Gaw9jvdHMz2WyCFoIIYQQdkcCkBBCCCHsjsOyZcuWWbsT9sbBwYG77roLR8fOfwZSxtp52dN4Zaydlz2N157GejNkEbQQQggh7I6cAhNCCCGE3ZEAJIQQQgi7IwFICCGEEHZHApAQQggh7I4EIDN4++23iYqKwtXVlYSEBPbt29di+88//5zevXvj6upK//79+fbbby3U01u3YsUKhg4dipeXF0FBQUyZMoW0tLQW3/P++++j0WhMHq6urhbq8a1btmzZdf3u3bt3i++xxWN6WVRU1HXj1Wg0PPvss022t6Xj+sMPPzBx4kTCwsLQaDRs2LDBZLtSiiVLlhAaGoqbmxtjxowhPT39hvtt7XfeUloab0NDAwsWLKB///54eHgQFhbGo48+Sm5ubov7vJXvgyXc6NjOnj37un6PHz/+hvvtiMf2RmNt6vur0Wh48803m91nRz2u5iQBqJ199tlnzJ8/n6VLl3Lo0CEGDhzIuHHjKCgoaLL9jz/+yMMPP8wTTzxBcnIyU6ZMYcqUKaSmplq4562zY8cOnn32Wfbu3cuWLVtoaGhg7NixVFVVtfg+b29vLly4YHxkZWVZqMdtExcXZ9LvXbt2NdvWVo/pZfv37zcZ65YtWwD42c9+1ux7bOW4VlVVMXDgQN5+++0mt7/xxhv8+c9/5m9/+xtJSUl4eHgwbtw4amtrm91na7/zltTSeKurqzl06BCLFy/m0KFDfPnll6SlpTFp0qQb7rc13wdLudGxBRg/frxJvz/55JMW99lRj+2Nxnr1GC9cuMCaNWvQaDRMnTq1xf12xONqVkq0q2HDhqlnn33W+Fyn06mwsDC1YsWKJttPmzZN3XfffSavJSQkqKeeesqs/WxvBQUFClA7duxots3atWuVj4+PBXvVPpYuXaoGDhx40+07yzG97LnnnlOxsbFKr9c3ud1Wjyug1q9fb3yu1+tVSEiIevPNN42vXbx4Ubm4uKhPPvmk2f209jtvLdeOtyn79u1TgMrKymq2TWu/D9bQ1FhnzZqlJk+e3Kr92MKxvZnjOnnyZDV69OgW29jCcW1vMgPUjurr6zl48CBjxowxvqbVahkzZgx79uxp8j179uwxaQ8wbty4Ztt3VGVlZQD4+/u32K6yspLIyEgiIiKYPHkyx44ds0T32iw9PZ2wsDBiYmKYOXMm2dnZzbbtLMcUDD/TH374IY8//niLhYFt9bheLTMzk7y8PJNj5+PjQ0JCQrPH7la+8x1ZWVkZGo0GX1/fFtu15vvQkWzfvp2goCB69erFM888Q3FxcbNtO8uxzc/P55tvvuGJJ564YVtbPa63SgJQOyoqKkKn0xEcHGzyenBwMHl5eU2+Jy8vr1XtOyK9Xs/zzz/P7bffTr9+/Zpt16tXL9asWcNXX33Fhx9+iF6vZ8SIEeTk5Fiwt62XkJDA+++/z6ZNm1i9ejWZmZnccccdVFRUNNm+MxzTyzZs2MDFixeZPXt2s21s9bhe6/Lxac2xu5XvfEdVW1vLggULePjhh1ssltna70NHMX78eP75z3+SmJjI66+/zo4dO5gwYQI6na7J9p3l2H7wwQd4eXnx4IMPttjOVo9rW8j9sEWbPfvss6Smpt7wfPHw4cMZPny48fmIESPo06cP77zzDq+++qq5u3nLJkyYYPzzgAEDSEhIIDIyknXr1t3Uv6ps2XvvvceECRMICwtrto2tHldxRUNDA9OmTUMpxerVq1tsa6vfhxkzZhj/3L9/fwYMGEBsbCzbt2/n7rvvtmLPzGvNmjXMnDnzhhcm2OpxbQuZAWpHgYGBODg4kJ+fb/J6fn4+ISEhTb4nJCSkVe07mrlz5/L111+zbds2wsPDW/VeJycnBg8ezOnTp83UO/Pw9fWlZ8+ezfbb1o/pZVlZWWzdupUnn3yyVe+z1eN6+fi05tjdyne+o7kcfrKystiyZUuLsz9NudH3oaOKiYkhMDCw2X53hmO7c+dO0tLSWv0dBts9rq0hAagdOTs7Ex8fT2JiovE1vV5PYmKiyb+QrzZ8+HCT9gBbtmxptn1HoZRi7ty5rF+/nu+//57o6OhW70On03H06FFCQ0PN0EPzqays5MyZM83221aP6bXWrl1LUFAQ9913X6veZ6vHNTo6mpCQEJNjV15eTlJSUrPH7la+8x3J5fCTnp7O1q1bCQgIaPU+bvR96KhycnIoLi5utt+2fmzBMIMbHx/PwIEDW/1eWz2urWLtVdidzaeffqpcXFzU+++/r44fP67mzJmjfH19VV5enlJKqUceeUQtXLjQ2H737t3K0dFR/fGPf1QnTpxQS5cuVU5OTuro0aPWGsJNeeaZZ5SPj4/avn27unDhgvFRXV1tbHPtWF955RW1efNmdebMGXXw4EE1Y8YM5erqqo4dO2aNIdy0F154QW3fvl1lZmaq3bt3qzFjxqjAwEBVUFCglOo8x/RqOp1OdevWTS1YsOC6bbZ8XCsqKlRycrJKTk5WgFq5cqVKTk42XvX02muvKV9fX/XVV1+pI0eOqMmTJ6vo6GhVU1Nj3Mfo0aPVW2+9ZXx+o++8NbU03vr6ejVp0iQVHh6uUlJSTL7HdXV1xn1cO94bfR+spaWxVlRUqBdffFHt2bNHZWZmqq1bt6rbbrtN9ejRQ9XW1hr3YSvH9kY/x0opVVZWptzd3dXq1aub3IetHFdzkgBkBm+99Zbq1q2bcnZ2VsOGDVN79+41brvzzjvVrFmzTNqvW7dO9ezZUzk7O6u4uDj1zTffWLjHrQc0+Vi7dq2xzbVjff75543/X4KDg9W9996rDh06ZPnOt9L06dNVaGiocnZ2Vl27dlXTp09Xp0+fNm7vLMf0aps3b1aASktLu26bLR/Xbdu2Nflze3k8er1eLV68WAUHBysXFxd19913X/f/IDIyUi1dutTktZa+89bU0ngzMzOb/R5v27bNuI9rx3uj74O1tDTW6upqNXbsWNWlSxfl5OSkIiMj1S9+8YvrgoytHNsb/RwrpdQ777yj3Nzc1MWLF5vch60cV3PSKKWUWaeYhBBCCCE6GFkDJIQQQgi7IwFICCGEEHZHApAQQggh7I4EICGEEELYHQlAQgghhLA7EoCEEEIIYXckAAkhhBDC7kgAEkKIm6DRaNiwYYO1uyGEaCcSgIQQHd7s2bPRaDTXPcaPH2/trgkhbJSjtTsghBA3Y/z48axdu9bkNRcXFyv1Rghh62QGSAhhE1xcXAgJCTF5+Pn5AYbTU6tXr2bChAm4ubkRExPDF198YfL+o0ePMnr0aNzc3AgICGDOnDlUVlaatFmzZg1xcXG4uLgQGhrK3LlzTbYXFRXxwAMP4O7uTo8ePdi4caN5By2EMBsJQEKITmHx4sVMnTqVw4cPM3PmTGbMmMGJEycAqKqqYty4cfj5+bF//34+//xztm7dahJwVq9ezbPPPsucOXM4evQoGzdupHv37iaf8corrzBt2jSOHDnCvffey8yZMykpKbHoOIUQ7cTa1ViFEOJGZs2apRwcHJSHh4fJY/ny5UoppQD19NNPm7wnISFBPfPMM0oppd59913l5+enKisrjdu/+eYbpdVqjRXBw8LC1Msvv9xsHwC1aNEi4/PKykoFqO+++67dximEsBxZAySEsAmjRo1i9erVJq/5+/sb/zx8+HCTbcOHDyclJQWAEydOMHDgQDw8PIzbb7/9dvR6PWlpaWg0GnJzc7n77rtb7MOAAQOMf/bw8MDb25uCgoJbHpMQwnokAAkhbIKHh8d1p6Tai5ub2021c3JyMnmu0WjQ6/Xm6JIQwsxkDZAQolPYu3fvdc/79OkDQJ8+fTh8+DBVVVXG7bt370ar1dKrVy+8vLyIiooiMTHRon0WQliPzAAJIWxCXV0deXl5Jq85OjoSGBgIwOeff86QIUMYOXIkH330Efv27eO9994DYObMmSxdupRZs2axbNkyCgsLmTdvHo888gjBwcEALFu2jKeffpqgoCAmTJhARUUFu3fvZt68eZYdqBDCIiQACSFswqZNmwgNDTV5rVevXpw8eRIwXKH16aef8stf/pLQ0FA++eQT+vbtC4C7uzubN2/mueeeY+jQobi7uzN16lRWrlxp3NesWbOora3lT3/6Ey+++CKBgYE89NBDlhugEMKiNEopZe1OCCFEW2g0GtavX8+UKVOs3RUhhI2QNUBCCCGEsDsSgIQQQghhd2QNkBDC5smZfCFEa8kMkBBCCCHsjgQgIYQQQtgdCUBCCCGEsDsSgIQQQghhdyQACSGEEMLuSAASQgghhN2RACSEEEIIuyMBSAghhBB2RwKQEEIIIezO/wf61NTbXgIITAAAAABJRU5ErkJggg==",
                    },
                    "metadata": {},
                    "output_type": "display_data",
                }
            ],
            "source": [
                "from matplotlib import pyplot as plt\n",
                "\n",
                "# Draw accuracy values for training & validation\n",
                "plt.plot(history_2['global_history']['multiclassaccuracy'])\n",
                "plt.plot(history_2['global_history']['val_multiclassaccuracy'])\n",
                "plt.plot(history_2['local_history']['alice_train_multiclassaccuracy'])\n",
                "plt.plot(history_2['local_history']['bob_train_multiclassaccuracy'])\n",
                "plt.plot(history_2['local_history']['alice_val_eval_multiclassaccuracy'])\n",
                "plt.plot(history_2['local_history']['bob_val_eval_multiclassaccuracy'])\n",
                "plt.title('FLModel accuracy in FedAvg')\n",
                "plt.ylabel('Accuracy')\n",
                "plt.xlabel('Epoch')\n",
                "plt.legend(['Train', 'Valid','alice_T','bob_T','alice_V','bob_V'], loc='upper left')\n",
                "plt.show()",
            ],
            "metadata": {
                "collapsed": false,
                "ExecuteTime": {
                    "end_time": "2023-12-28T03:18:52.857806Z",
                    "start_time": "2023-12-28T03:18:52.378405600Z",
                },
            },
            "id": "52bb34aa9b54b501",
        },
    ],
    "metadata": {
        "kernelspec": {
            "display_name": "Python 3",
            "language": "python",
            "name": "python3",
        },
        "language_info": {
            "codemirror_mode": {"name": "ipython", "version": 2},
            "file_extension": ".py",
            "mimetype": "text/x-python",
            "name": "python",
            "nbconvert_exporter": "python",
            "pygments_lexer": "ipython2",
            "version": "2.7.6",
        },
    },
    "nbformat": 4,
    "nbformat_minor": 5,
}
