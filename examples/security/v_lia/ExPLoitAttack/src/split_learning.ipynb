{
 "cells": [
  {
   "cell_type": "markdown",
   "metadata": {
    "id": "BuyM4I2f-FrW"
   },
   "source": [
    "# Split Learning and Label Leakage"
   ]
  },
  {
   "cell_type": "code",
   "execution_count": 1,
   "metadata": {},
   "outputs": [
    {
     "name": "stderr",
     "output_type": "stream",
     "text": [
      "/home/kyzhang/anaconda3/envs/exploit/lib/python3.8/site-packages/scipy/__init__.py:146: UserWarning: A NumPy version >=1.16.5 and <1.23.0 is required for this version of SciPy (detected version 1.23.5\n",
      "  warnings.warn(f\"A NumPy version >={np_minversion} and <{np_maxversion}\"\n",
      "2023-09-05 18:38:07,954\tINFO worker.py:1538 -- Started a local Ray instance.\n"
     ]
    }
   ],
   "source": [
    "import secretflow as sf\n",
    "import matplotlib.pyplot as plt\n",
    "import os\n",
    "os.environ[\"CUDA_VISIBLE_DEVICES\"] = \"-1\"\n",
    "sf.init(['client', 'server'], address='local')\n",
    "client, server = sf.PYU('client'), sf.PYU('server')"
   ]
  },
  {
   "cell_type": "code",
   "execution_count": 2,
   "metadata": {},
   "outputs": [],
   "source": [
    "import sys\n",
    "# PROJ_DIR = '/home/kyzhang/myfile/sf/github/ExPloit-main'\n",
    "# sys.path.append(os.path.join(PROJ_DIR))"
   ]
  },
  {
   "cell_type": "code",
   "execution_count": 3,
   "metadata": {},
   "outputs": [],
   "source": [
    "from tensorflow import keras\n",
    "from tensorflow.keras import layers\n",
    "import tensorflow as tf"
   ]
  },
  {
   "cell_type": "code",
   "execution_count": 4,
   "metadata": {
    "id": "c6HcMly6_Yq9"
   },
   "outputs": [],
   "source": [
    "def create_first_net(input_dim, hidden_dim, name='first_net'):\n",
    "    # Create model\n",
    "    def create_model():\n",
    "        from tensorflow import keras\n",
    "        from tensorflow.keras import layers\n",
    "        import tensorflow as tf\n",
    "        model = keras.Sequential(\n",
    "            [\n",
    "                keras.Input(shape=input_dim),\n",
    "                layers.Dense(hidden_dim // 2, activation=\"relu\"),\n",
    "                layers.Dense(hidden_dim, activation=\"relu\"),\n",
    "            ]\n",
    "        )\n",
    "        # Compile model\n",
    "        model.summary()\n",
    "        # learning_rate = 1e-3  # 设置学习率\n",
    "        # optimizer = tf.keras.optimizers.Adam(learning_rate=learning_rate)\n",
    "        optimizer = tf.keras.optimizers.Adam()\n",
    "        model.compile(loss='binary_crossentropy',\n",
    "                      optimizer=optimizer,\n",
    "                      metrics=[\"accuracy\", tf.keras.metrics.AUC()])\n",
    "        return model\n",
    "    return create_model\n",
    "\n",
    "def create_zero_net(input_dim, hidden_dim, name='zero_net'):\n",
    "    # Create model\n",
    "    def create_model():\n",
    "        from tensorflow import keras\n",
    "        from tensorflow.keras import layers\n",
    "        import tensorflow as tf\n",
    "        model = keras.Sequential(\n",
    "            [\n",
    "                keras.Input(shape=input_dim),\n",
    "                layers.Dense(hidden_dim, activation=\"relu\"),\n",
    "            ]\n",
    "        )\n",
    "        # Compile model\n",
    "        model.summary()\n",
    "        # learning_rate = 1e-3  # 设置学习率\n",
    "        # optimizer = tf.keras.optimizers.Adam(learning_rate=learning_rate)\n",
    "        optimizer = tf.keras.optimizers.Adam()\n",
    "        model.compile(loss='binary_crossentropy',\n",
    "                      optimizer=optimizer,\n",
    "                      metrics=[\"accuracy\", tf.keras.metrics.AUC()])\n",
    "        return model\n",
    "    return create_model"
   ]
  },
  {
   "cell_type": "code",
   "execution_count": 5,
   "metadata": {},
   "outputs": [],
   "source": [
    "def create_fuse_model(input_dim_1, input_dim_2, output_dim, party_nums, name='fuse_model'):\n",
    "    def create_model():\n",
    "        from tensorflow import keras\n",
    "        from tensorflow.keras import layers\n",
    "        import tensorflow as tf\n",
    "        # input\n",
    "        input_layers = []\n",
    "        # for i in range(party_nums):\n",
    "        input_layers.append(keras.Input(input_dim_1,))\n",
    "        input_layers.append(keras.Input(input_dim_2,))\n",
    "\n",
    "        merged_layer = layers.concatenate(input_layers)\n",
    "        output = layers.Dense(output_dim, activation='sigmoid')(merged_layer)\n",
    "        # output = layers.Dense(output_dim, activation='relu')(fuse_layer)\n",
    "\n",
    "        model = keras.Model(inputs=input_layers, outputs=output)\n",
    "        model.summary()\n",
    "        \n",
    "        # learning_rate = 1e-3  # 设置学习率\n",
    "        # optimizer = tf.keras.optimizers.Adam(learning_rate=learning_rate)\n",
    "        optimizer = tf.keras.optimizers.Adam()\n",
    "\n",
    "        model.compile(loss='binary_crossentropy',\n",
    "                      optimizer=optimizer,\n",
    "                      metrics=[\"accuracy\",tf.keras.metrics.AUC()])\n",
    "        return model\n",
    "    return create_model"
   ]
  },
  {
   "cell_type": "code",
   "execution_count": 6,
   "metadata": {},
   "outputs": [],
   "source": [
    "def create_surrogate_model(input_dim_1, input_dim_2, output_dim, party_nums, name='surrogate_model'):\n",
    "    def create_model():\n",
    "        from tensorflow import keras\n",
    "        from tensorflow.keras import layers\n",
    "        import tensorflow as tf\n",
    "        model = keras.Sequential(\n",
    "            [\n",
    "                keras.Input(shape=input_dim_1 + input_dim_2),\n",
    "                layers.Dense(64, activation=\"relu\"),\n",
    "                layers.Dense(output_dim, activation=\"sigmoid\"),\n",
    "            ]\n",
    "        )\n",
    "        model.summary()\n",
    "        \n",
    "        # learning_rate = 1e-3  # 设置学习率\n",
    "        # optimizer = tf.keras.optimizers.Adam(learning_rate=learning_rate)\n",
    "        optimizer = tf.keras.optimizers.Adam()\n",
    "\n",
    "        model.compile(loss='binary_crossentropy',\n",
    "                      optimizer=optimizer,\n",
    "                      metrics=[\"accuracy\",tf.keras.metrics.AUC()])\n",
    "        return model\n",
    "    return create_model"
   ]
  },
  {
   "cell_type": "markdown",
   "metadata": {
    "id": "l3jrDrel_zsO"
   },
   "source": [
    "## Parameters and Pre-processing"
   ]
  },
  {
   "cell_type": "code",
   "execution_count": 7,
   "metadata": {},
   "outputs": [
    {
     "name": "stdout",
     "output_type": "stream",
     "text": [
      "Examples:\n",
      "    Total: 284807\n",
      "    Positive: 492 (0.17% of total)\n",
      "\n"
     ]
    },
    {
     "name": "stderr",
     "output_type": "stream",
     "text": [
      "2023-09-05 18:38:17.153500: E tensorflow/compiler/xla/stream_executor/cuda/cuda_driver.cc:267] failed call to cuInit: CUDA_ERROR_NO_DEVICE: no CUDA-capable device is detected\n"
     ]
    }
   ],
   "source": [
    "import pandas as pd\n",
    "import numpy as np\n",
    "from secretflow.utils.simulation.datasets import dataset\n",
    "\n",
    "raw_df = pd.read_csv(\n",
    "    \"https://storage.googleapis.com/download.tensorflow.org/data/creditcard.csv\"\n",
    ")\n",
    "raw_df_neg = raw_df[raw_df[\"Class\"] == 0]\n",
    "raw_df_pos = raw_df[raw_df[\"Class\"] == 1]\n",
    "\n",
    "down_df_neg = raw_df_neg  # .sample(40000)\n",
    "down_df = pd.concat([down_df_neg, raw_df_pos])\n",
    "\n",
    "neg, pos = np.bincount(down_df[\"Class\"])\n",
    "total = neg + pos\n",
    "print(\n",
    "    \"Examples:\\n    Total: {}\\n    Positive: {} ({:.2f}% of total)\\n\".format(\n",
    "        total, pos, 100 * pos / total\n",
    "    )\n",
    ")\n",
    "\n",
    "p_pos = pos / total\n",
    "p_values = tf.constant([1 - p_pos, p_pos], dtype=tf.float32)\n",
    "H_y = - p_pos * tf.math.log(p_pos) - (1 - p_pos) * tf.math.log(1 - p_pos)\n",
    "y_pri = tf.expand_dims(p_values, axis=0)\n",
    "\n",
    "args_dict = {\n",
    "    'H_y': H_y,\n",
    "    'y_pri': y_pri,\n",
    "}"
   ]
  },
  {
   "cell_type": "code",
   "execution_count": 8,
   "metadata": {},
   "outputs": [],
   "source": [
    "cleaned_df = down_df.copy()\n",
    "# You don't want the `Time` column.\n",
    "cleaned_df.pop(\"Time\")\n",
    "# The `Amount` column covers a huge range. Convert to log-space.\n",
    "eps = 0.001  # 0 => 0.1¢\n",
    "cleaned_df[\"Log Ammount\"] = np.log(cleaned_df.pop(\"Amount\") + eps)"
   ]
  },
  {
   "cell_type": "code",
   "execution_count": 9,
   "metadata": {},
   "outputs": [
    {
     "data": {
      "text/html": [
       "<div>\n",
       "<style scoped>\n",
       "    .dataframe tbody tr th:only-of-type {\n",
       "        vertical-align: middle;\n",
       "    }\n",
       "\n",
       "    .dataframe tbody tr th {\n",
       "        vertical-align: top;\n",
       "    }\n",
       "\n",
       "    .dataframe thead th {\n",
       "        text-align: right;\n",
       "    }\n",
       "</style>\n",
       "<table border=\"1\" class=\"dataframe\">\n",
       "  <thead>\n",
       "    <tr style=\"text-align: right;\">\n",
       "      <th></th>\n",
       "      <th>V5</th>\n",
       "      <th>V6</th>\n",
       "      <th>V7</th>\n",
       "      <th>V8</th>\n",
       "      <th>V9</th>\n",
       "      <th>V10</th>\n",
       "      <th>V11</th>\n",
       "      <th>V12</th>\n",
       "      <th>V13</th>\n",
       "      <th>V14</th>\n",
       "      <th>...</th>\n",
       "      <th>V20</th>\n",
       "      <th>V21</th>\n",
       "      <th>V22</th>\n",
       "      <th>V23</th>\n",
       "      <th>V24</th>\n",
       "      <th>V25</th>\n",
       "      <th>V26</th>\n",
       "      <th>V27</th>\n",
       "      <th>V28</th>\n",
       "      <th>Log Ammount</th>\n",
       "    </tr>\n",
       "  </thead>\n",
       "  <tbody>\n",
       "    <tr>\n",
       "      <th>0</th>\n",
       "      <td>-0.338321</td>\n",
       "      <td>0.462388</td>\n",
       "      <td>0.239599</td>\n",
       "      <td>0.098698</td>\n",
       "      <td>0.363787</td>\n",
       "      <td>0.090794</td>\n",
       "      <td>-0.551600</td>\n",
       "      <td>-0.617801</td>\n",
       "      <td>-0.991390</td>\n",
       "      <td>-0.311169</td>\n",
       "      <td>...</td>\n",
       "      <td>0.251412</td>\n",
       "      <td>-0.018307</td>\n",
       "      <td>0.277838</td>\n",
       "      <td>-0.110474</td>\n",
       "      <td>0.066928</td>\n",
       "      <td>0.128539</td>\n",
       "      <td>-0.189115</td>\n",
       "      <td>0.133558</td>\n",
       "      <td>-0.021053</td>\n",
       "      <td>5.008105</td>\n",
       "    </tr>\n",
       "    <tr>\n",
       "      <th>1</th>\n",
       "      <td>0.060018</td>\n",
       "      <td>-0.082361</td>\n",
       "      <td>-0.078803</td>\n",
       "      <td>0.085102</td>\n",
       "      <td>-0.255425</td>\n",
       "      <td>-0.166974</td>\n",
       "      <td>1.612727</td>\n",
       "      <td>1.065235</td>\n",
       "      <td>0.489095</td>\n",
       "      <td>-0.143772</td>\n",
       "      <td>...</td>\n",
       "      <td>-0.069083</td>\n",
       "      <td>-0.225775</td>\n",
       "      <td>-0.638672</td>\n",
       "      <td>0.101288</td>\n",
       "      <td>-0.339846</td>\n",
       "      <td>0.167170</td>\n",
       "      <td>0.125895</td>\n",
       "      <td>-0.008983</td>\n",
       "      <td>0.014724</td>\n",
       "      <td>0.989913</td>\n",
       "    </tr>\n",
       "    <tr>\n",
       "      <th>2</th>\n",
       "      <td>-0.503198</td>\n",
       "      <td>1.800499</td>\n",
       "      <td>0.791461</td>\n",
       "      <td>0.247676</td>\n",
       "      <td>-1.514654</td>\n",
       "      <td>0.207643</td>\n",
       "      <td>0.624501</td>\n",
       "      <td>0.066084</td>\n",
       "      <td>0.717293</td>\n",
       "      <td>-0.165946</td>\n",
       "      <td>...</td>\n",
       "      <td>0.524980</td>\n",
       "      <td>0.247998</td>\n",
       "      <td>0.771679</td>\n",
       "      <td>0.909412</td>\n",
       "      <td>-0.689281</td>\n",
       "      <td>-0.327642</td>\n",
       "      <td>-0.139097</td>\n",
       "      <td>-0.055353</td>\n",
       "      <td>-0.059752</td>\n",
       "      <td>5.936641</td>\n",
       "    </tr>\n",
       "    <tr>\n",
       "      <th>3</th>\n",
       "      <td>-0.010309</td>\n",
       "      <td>1.247203</td>\n",
       "      <td>0.237609</td>\n",
       "      <td>0.377436</td>\n",
       "      <td>-1.387024</td>\n",
       "      <td>-0.054952</td>\n",
       "      <td>-0.226487</td>\n",
       "      <td>0.178228</td>\n",
       "      <td>0.507757</td>\n",
       "      <td>-0.287924</td>\n",
       "      <td>...</td>\n",
       "      <td>-0.208038</td>\n",
       "      <td>-0.108300</td>\n",
       "      <td>0.005274</td>\n",
       "      <td>-0.190321</td>\n",
       "      <td>-1.175575</td>\n",
       "      <td>0.647376</td>\n",
       "      <td>-0.221929</td>\n",
       "      <td>0.062723</td>\n",
       "      <td>0.061458</td>\n",
       "      <td>4.816249</td>\n",
       "    </tr>\n",
       "    <tr>\n",
       "      <th>4</th>\n",
       "      <td>-0.407193</td>\n",
       "      <td>0.095921</td>\n",
       "      <td>0.592941</td>\n",
       "      <td>-0.270533</td>\n",
       "      <td>0.817739</td>\n",
       "      <td>0.753074</td>\n",
       "      <td>-0.822843</td>\n",
       "      <td>0.538196</td>\n",
       "      <td>1.345852</td>\n",
       "      <td>-1.119670</td>\n",
       "      <td>...</td>\n",
       "      <td>0.408542</td>\n",
       "      <td>-0.009431</td>\n",
       "      <td>0.798278</td>\n",
       "      <td>-0.137458</td>\n",
       "      <td>0.141267</td>\n",
       "      <td>-0.206010</td>\n",
       "      <td>0.502292</td>\n",
       "      <td>0.219422</td>\n",
       "      <td>0.215153</td>\n",
       "      <td>4.248367</td>\n",
       "    </tr>\n",
       "    <tr>\n",
       "      <th>...</th>\n",
       "      <td>...</td>\n",
       "      <td>...</td>\n",
       "      <td>...</td>\n",
       "      <td>...</td>\n",
       "      <td>...</td>\n",
       "      <td>...</td>\n",
       "      <td>...</td>\n",
       "      <td>...</td>\n",
       "      <td>...</td>\n",
       "      <td>...</td>\n",
       "      <td>...</td>\n",
       "      <td>...</td>\n",
       "      <td>...</td>\n",
       "      <td>...</td>\n",
       "      <td>...</td>\n",
       "      <td>...</td>\n",
       "      <td>...</td>\n",
       "      <td>...</td>\n",
       "      <td>...</td>\n",
       "      <td>...</td>\n",
       "      <td>...</td>\n",
       "    </tr>\n",
       "    <tr>\n",
       "      <th>279863</th>\n",
       "      <td>-1.566487</td>\n",
       "      <td>-2.010494</td>\n",
       "      <td>-0.882850</td>\n",
       "      <td>0.697211</td>\n",
       "      <td>-2.064945</td>\n",
       "      <td>-5.587794</td>\n",
       "      <td>2.115795</td>\n",
       "      <td>-5.417424</td>\n",
       "      <td>-1.235123</td>\n",
       "      <td>-6.665177</td>\n",
       "      <td>...</td>\n",
       "      <td>1.252967</td>\n",
       "      <td>0.778584</td>\n",
       "      <td>-0.319189</td>\n",
       "      <td>0.639419</td>\n",
       "      <td>-0.294885</td>\n",
       "      <td>0.537503</td>\n",
       "      <td>0.788395</td>\n",
       "      <td>0.292680</td>\n",
       "      <td>0.147968</td>\n",
       "      <td>5.966149</td>\n",
       "    </tr>\n",
       "    <tr>\n",
       "      <th>280143</th>\n",
       "      <td>0.442581</td>\n",
       "      <td>-1.326536</td>\n",
       "      <td>-1.413170</td>\n",
       "      <td>0.248525</td>\n",
       "      <td>-1.127396</td>\n",
       "      <td>-3.232153</td>\n",
       "      <td>2.858466</td>\n",
       "      <td>-3.096915</td>\n",
       "      <td>-0.792532</td>\n",
       "      <td>-5.210141</td>\n",
       "      <td>...</td>\n",
       "      <td>0.226138</td>\n",
       "      <td>0.370612</td>\n",
       "      <td>0.028234</td>\n",
       "      <td>-0.145640</td>\n",
       "      <td>-0.081049</td>\n",
       "      <td>0.521875</td>\n",
       "      <td>0.739467</td>\n",
       "      <td>0.389152</td>\n",
       "      <td>0.186637</td>\n",
       "      <td>-0.273122</td>\n",
       "    </tr>\n",
       "    <tr>\n",
       "      <th>280149</th>\n",
       "      <td>-1.120541</td>\n",
       "      <td>-0.003346</td>\n",
       "      <td>-2.234739</td>\n",
       "      <td>1.210158</td>\n",
       "      <td>-0.652250</td>\n",
       "      <td>-3.463891</td>\n",
       "      <td>1.794969</td>\n",
       "      <td>-2.775022</td>\n",
       "      <td>-0.418950</td>\n",
       "      <td>-4.057162</td>\n",
       "      <td>...</td>\n",
       "      <td>0.247968</td>\n",
       "      <td>0.751826</td>\n",
       "      <td>0.834108</td>\n",
       "      <td>0.190944</td>\n",
       "      <td>0.032070</td>\n",
       "      <td>-0.739695</td>\n",
       "      <td>0.471111</td>\n",
       "      <td>0.385107</td>\n",
       "      <td>0.194361</td>\n",
       "      <td>4.355310</td>\n",
       "    </tr>\n",
       "    <tr>\n",
       "      <th>281144</th>\n",
       "      <td>-0.840618</td>\n",
       "      <td>-2.943548</td>\n",
       "      <td>-2.208002</td>\n",
       "      <td>1.058733</td>\n",
       "      <td>-1.632333</td>\n",
       "      <td>-5.245984</td>\n",
       "      <td>1.933520</td>\n",
       "      <td>-5.030465</td>\n",
       "      <td>-1.127455</td>\n",
       "      <td>-6.416628</td>\n",
       "      <td>...</td>\n",
       "      <td>0.306271</td>\n",
       "      <td>0.583276</td>\n",
       "      <td>-0.269209</td>\n",
       "      <td>-0.456108</td>\n",
       "      <td>-0.183659</td>\n",
       "      <td>-0.328168</td>\n",
       "      <td>0.606116</td>\n",
       "      <td>0.884876</td>\n",
       "      <td>-0.253700</td>\n",
       "      <td>5.501262</td>\n",
       "    </tr>\n",
       "    <tr>\n",
       "      <th>281674</th>\n",
       "      <td>1.151147</td>\n",
       "      <td>-0.096695</td>\n",
       "      <td>0.223050</td>\n",
       "      <td>-0.068384</td>\n",
       "      <td>0.577829</td>\n",
       "      <td>-0.888722</td>\n",
       "      <td>0.491140</td>\n",
       "      <td>0.728903</td>\n",
       "      <td>0.380428</td>\n",
       "      <td>-1.948883</td>\n",
       "      <td>...</td>\n",
       "      <td>-0.017652</td>\n",
       "      <td>-0.164350</td>\n",
       "      <td>-0.295135</td>\n",
       "      <td>-0.072173</td>\n",
       "      <td>-0.450261</td>\n",
       "      <td>0.313267</td>\n",
       "      <td>-0.289617</td>\n",
       "      <td>0.002988</td>\n",
       "      <td>-0.015309</td>\n",
       "      <td>3.750233</td>\n",
       "    </tr>\n",
       "  </tbody>\n",
       "</table>\n",
       "<p>284807 rows × 25 columns</p>\n",
       "</div>"
      ],
      "text/plain": [
       "              V5        V6        V7        V8        V9       V10       V11  \\\n",
       "0      -0.338321  0.462388  0.239599  0.098698  0.363787  0.090794 -0.551600   \n",
       "1       0.060018 -0.082361 -0.078803  0.085102 -0.255425 -0.166974  1.612727   \n",
       "2      -0.503198  1.800499  0.791461  0.247676 -1.514654  0.207643  0.624501   \n",
       "3      -0.010309  1.247203  0.237609  0.377436 -1.387024 -0.054952 -0.226487   \n",
       "4      -0.407193  0.095921  0.592941 -0.270533  0.817739  0.753074 -0.822843   \n",
       "...          ...       ...       ...       ...       ...       ...       ...   \n",
       "279863 -1.566487 -2.010494 -0.882850  0.697211 -2.064945 -5.587794  2.115795   \n",
       "280143  0.442581 -1.326536 -1.413170  0.248525 -1.127396 -3.232153  2.858466   \n",
       "280149 -1.120541 -0.003346 -2.234739  1.210158 -0.652250 -3.463891  1.794969   \n",
       "281144 -0.840618 -2.943548 -2.208002  1.058733 -1.632333 -5.245984  1.933520   \n",
       "281674  1.151147 -0.096695  0.223050 -0.068384  0.577829 -0.888722  0.491140   \n",
       "\n",
       "             V12       V13       V14  ...       V20       V21       V22  \\\n",
       "0      -0.617801 -0.991390 -0.311169  ...  0.251412 -0.018307  0.277838   \n",
       "1       1.065235  0.489095 -0.143772  ... -0.069083 -0.225775 -0.638672   \n",
       "2       0.066084  0.717293 -0.165946  ...  0.524980  0.247998  0.771679   \n",
       "3       0.178228  0.507757 -0.287924  ... -0.208038 -0.108300  0.005274   \n",
       "4       0.538196  1.345852 -1.119670  ...  0.408542 -0.009431  0.798278   \n",
       "...          ...       ...       ...  ...       ...       ...       ...   \n",
       "279863 -5.417424 -1.235123 -6.665177  ...  1.252967  0.778584 -0.319189   \n",
       "280143 -3.096915 -0.792532 -5.210141  ...  0.226138  0.370612  0.028234   \n",
       "280149 -2.775022 -0.418950 -4.057162  ...  0.247968  0.751826  0.834108   \n",
       "281144 -5.030465 -1.127455 -6.416628  ...  0.306271  0.583276 -0.269209   \n",
       "281674  0.728903  0.380428 -1.948883  ... -0.017652 -0.164350 -0.295135   \n",
       "\n",
       "             V23       V24       V25       V26       V27       V28  \\\n",
       "0      -0.110474  0.066928  0.128539 -0.189115  0.133558 -0.021053   \n",
       "1       0.101288 -0.339846  0.167170  0.125895 -0.008983  0.014724   \n",
       "2       0.909412 -0.689281 -0.327642 -0.139097 -0.055353 -0.059752   \n",
       "3      -0.190321 -1.175575  0.647376 -0.221929  0.062723  0.061458   \n",
       "4      -0.137458  0.141267 -0.206010  0.502292  0.219422  0.215153   \n",
       "...          ...       ...       ...       ...       ...       ...   \n",
       "279863  0.639419 -0.294885  0.537503  0.788395  0.292680  0.147968   \n",
       "280143 -0.145640 -0.081049  0.521875  0.739467  0.389152  0.186637   \n",
       "280149  0.190944  0.032070 -0.739695  0.471111  0.385107  0.194361   \n",
       "281144 -0.456108 -0.183659 -0.328168  0.606116  0.884876 -0.253700   \n",
       "281674 -0.072173 -0.450261  0.313267 -0.289617  0.002988 -0.015309   \n",
       "\n",
       "        Log Ammount  \n",
       "0          5.008105  \n",
       "1          0.989913  \n",
       "2          5.936641  \n",
       "3          4.816249  \n",
       "4          4.248367  \n",
       "...             ...  \n",
       "279863     5.966149  \n",
       "280143    -0.273122  \n",
       "280149     4.355310  \n",
       "281144     5.501262  \n",
       "281674     3.750233  \n",
       "\n",
       "[284807 rows x 25 columns]"
      ]
     },
     "execution_count": 9,
     "metadata": {},
     "output_type": "execute_result"
    }
   ],
   "source": [
    "client_data_index = [col for col in cleaned_df.columns if col != \"Class\" and col != \"V1\" and col != \"V2\" and col != \"V3\" and col != \"V4\"]\n",
    "client_data = cleaned_df[client_data_index]\n",
    "client_data"
   ]
  },
  {
   "cell_type": "code",
   "execution_count": 10,
   "metadata": {},
   "outputs": [
    {
     "data": {
      "text/html": [
       "<div>\n",
       "<style scoped>\n",
       "    .dataframe tbody tr th:only-of-type {\n",
       "        vertical-align: middle;\n",
       "    }\n",
       "\n",
       "    .dataframe tbody tr th {\n",
       "        vertical-align: top;\n",
       "    }\n",
       "\n",
       "    .dataframe thead th {\n",
       "        text-align: right;\n",
       "    }\n",
       "</style>\n",
       "<table border=\"1\" class=\"dataframe\">\n",
       "  <thead>\n",
       "    <tr style=\"text-align: right;\">\n",
       "      <th></th>\n",
       "      <th>V1</th>\n",
       "      <th>V2</th>\n",
       "      <th>V3</th>\n",
       "      <th>V4</th>\n",
       "      <th>Class</th>\n",
       "    </tr>\n",
       "  </thead>\n",
       "  <tbody>\n",
       "    <tr>\n",
       "      <th>0</th>\n",
       "      <td>-1.359807</td>\n",
       "      <td>-0.072781</td>\n",
       "      <td>2.536347</td>\n",
       "      <td>1.378155</td>\n",
       "      <td>0</td>\n",
       "    </tr>\n",
       "    <tr>\n",
       "      <th>1</th>\n",
       "      <td>1.191857</td>\n",
       "      <td>0.266151</td>\n",
       "      <td>0.166480</td>\n",
       "      <td>0.448154</td>\n",
       "      <td>0</td>\n",
       "    </tr>\n",
       "    <tr>\n",
       "      <th>2</th>\n",
       "      <td>-1.358354</td>\n",
       "      <td>-1.340163</td>\n",
       "      <td>1.773209</td>\n",
       "      <td>0.379780</td>\n",
       "      <td>0</td>\n",
       "    </tr>\n",
       "    <tr>\n",
       "      <th>3</th>\n",
       "      <td>-0.966272</td>\n",
       "      <td>-0.185226</td>\n",
       "      <td>1.792993</td>\n",
       "      <td>-0.863291</td>\n",
       "      <td>0</td>\n",
       "    </tr>\n",
       "    <tr>\n",
       "      <th>4</th>\n",
       "      <td>-1.158233</td>\n",
       "      <td>0.877737</td>\n",
       "      <td>1.548718</td>\n",
       "      <td>0.403034</td>\n",
       "      <td>0</td>\n",
       "    </tr>\n",
       "    <tr>\n",
       "      <th>...</th>\n",
       "      <td>...</td>\n",
       "      <td>...</td>\n",
       "      <td>...</td>\n",
       "      <td>...</td>\n",
       "      <td>...</td>\n",
       "    </tr>\n",
       "    <tr>\n",
       "      <th>279863</th>\n",
       "      <td>-1.927883</td>\n",
       "      <td>1.125653</td>\n",
       "      <td>-4.518331</td>\n",
       "      <td>1.749293</td>\n",
       "      <td>1</td>\n",
       "    </tr>\n",
       "    <tr>\n",
       "      <th>280143</th>\n",
       "      <td>1.378559</td>\n",
       "      <td>1.289381</td>\n",
       "      <td>-5.004247</td>\n",
       "      <td>1.411850</td>\n",
       "      <td>1</td>\n",
       "    </tr>\n",
       "    <tr>\n",
       "      <th>280149</th>\n",
       "      <td>-0.676143</td>\n",
       "      <td>1.126366</td>\n",
       "      <td>-2.213700</td>\n",
       "      <td>0.468308</td>\n",
       "      <td>1</td>\n",
       "    </tr>\n",
       "    <tr>\n",
       "      <th>281144</th>\n",
       "      <td>-3.113832</td>\n",
       "      <td>0.585864</td>\n",
       "      <td>-5.399730</td>\n",
       "      <td>1.817092</td>\n",
       "      <td>1</td>\n",
       "    </tr>\n",
       "    <tr>\n",
       "      <th>281674</th>\n",
       "      <td>1.991976</td>\n",
       "      <td>0.158476</td>\n",
       "      <td>-2.583441</td>\n",
       "      <td>0.408670</td>\n",
       "      <td>1</td>\n",
       "    </tr>\n",
       "  </tbody>\n",
       "</table>\n",
       "<p>284807 rows × 5 columns</p>\n",
       "</div>"
      ],
      "text/plain": [
       "              V1        V2        V3        V4  Class\n",
       "0      -1.359807 -0.072781  2.536347  1.378155      0\n",
       "1       1.191857  0.266151  0.166480  0.448154      0\n",
       "2      -1.358354 -1.340163  1.773209  0.379780      0\n",
       "3      -0.966272 -0.185226  1.792993 -0.863291      0\n",
       "4      -1.158233  0.877737  1.548718  0.403034      0\n",
       "...          ...       ...       ...       ...    ...\n",
       "279863 -1.927883  1.125653 -4.518331  1.749293      1\n",
       "280143  1.378559  1.289381 -5.004247  1.411850      1\n",
       "280149 -0.676143  1.126366 -2.213700  0.468308      1\n",
       "281144 -3.113832  0.585864 -5.399730  1.817092      1\n",
       "281674  1.991976  0.158476 -2.583441  0.408670      1\n",
       "\n",
       "[284807 rows x 5 columns]"
      ]
     },
     "execution_count": 10,
     "metadata": {},
     "output_type": "execute_result"
    }
   ],
   "source": [
    "server_data = cleaned_df[[\"V1\", \"V2\", \"V3\", \"V4\", \"Class\"]]\n",
    "server_data"
   ]
  },
  {
   "cell_type": "code",
   "execution_count": 11,
   "metadata": {},
   "outputs": [
    {
     "data": {
      "text/html": [
       "<div>\n",
       "<style scoped>\n",
       "    .dataframe tbody tr th:only-of-type {\n",
       "        vertical-align: middle;\n",
       "    }\n",
       "\n",
       "    .dataframe tbody tr th {\n",
       "        vertical-align: top;\n",
       "    }\n",
       "\n",
       "    .dataframe thead th {\n",
       "        text-align: right;\n",
       "    }\n",
       "</style>\n",
       "<table border=\"1\" class=\"dataframe\">\n",
       "  <thead>\n",
       "    <tr style=\"text-align: right;\">\n",
       "      <th></th>\n",
       "      <th>V5</th>\n",
       "      <th>V6</th>\n",
       "      <th>V7</th>\n",
       "      <th>V8</th>\n",
       "      <th>V9</th>\n",
       "      <th>V10</th>\n",
       "      <th>V11</th>\n",
       "      <th>V12</th>\n",
       "      <th>V13</th>\n",
       "      <th>V14</th>\n",
       "      <th>...</th>\n",
       "      <th>V25</th>\n",
       "      <th>V26</th>\n",
       "      <th>V27</th>\n",
       "      <th>V28</th>\n",
       "      <th>Log Ammount</th>\n",
       "      <th>V1</th>\n",
       "      <th>V2</th>\n",
       "      <th>V3</th>\n",
       "      <th>V4</th>\n",
       "      <th>Class</th>\n",
       "    </tr>\n",
       "  </thead>\n",
       "  <tbody>\n",
       "    <tr>\n",
       "      <th>649</th>\n",
       "      <td>-0.252045</td>\n",
       "      <td>-0.392240</td>\n",
       "      <td>-0.047177</td>\n",
       "      <td>0.041339</td>\n",
       "      <td>-0.069318</td>\n",
       "      <td>0.169913</td>\n",
       "      <td>0.947708</td>\n",
       "      <td>0.417596</td>\n",
       "      <td>-0.798841</td>\n",
       "      <td>0.679509</td>\n",
       "      <td>...</td>\n",
       "      <td>0.352684</td>\n",
       "      <td>-0.625998</td>\n",
       "      <td>0.013681</td>\n",
       "      <td>0.015683</td>\n",
       "      <td>2.301685</td>\n",
       "      <td>1.196288</td>\n",
       "      <td>0.217099</td>\n",
       "      <td>0.402596</td>\n",
       "      <td>0.921664</td>\n",
       "      <td>0</td>\n",
       "    </tr>\n",
       "    <tr>\n",
       "      <th>650</th>\n",
       "      <td>-0.441560</td>\n",
       "      <td>0.310187</td>\n",
       "      <td>-0.559948</td>\n",
       "      <td>0.349136</td>\n",
       "      <td>0.332922</td>\n",
       "      <td>0.220886</td>\n",
       "      <td>0.826773</td>\n",
       "      <td>-0.257591</td>\n",
       "      <td>-1.961189</td>\n",
       "      <td>0.728867</td>\n",
       "      <td>...</td>\n",
       "      <td>0.420079</td>\n",
       "      <td>-0.213097</td>\n",
       "      <td>0.040658</td>\n",
       "      <td>0.010599</td>\n",
       "      <td>2.302685</td>\n",
       "      <td>1.130024</td>\n",
       "      <td>-0.060944</td>\n",
       "      <td>0.662074</td>\n",
       "      <td>1.033990</td>\n",
       "      <td>0</td>\n",
       "    </tr>\n",
       "    <tr>\n",
       "      <th>651</th>\n",
       "      <td>-2.807266</td>\n",
       "      <td>0.726236</td>\n",
       "      <td>2.737602</td>\n",
       "      <td>-0.933999</td>\n",
       "      <td>-2.413730</td>\n",
       "      <td>0.796625</td>\n",
       "      <td>-0.878071</td>\n",
       "      <td>-1.045044</td>\n",
       "      <td>1.249929</td>\n",
       "      <td>-0.960840</td>\n",
       "      <td>...</td>\n",
       "      <td>0.479636</td>\n",
       "      <td>-0.098230</td>\n",
       "      <td>0.053527</td>\n",
       "      <td>-0.408050</td>\n",
       "      <td>6.449524</td>\n",
       "      <td>-0.789890</td>\n",
       "      <td>-1.379371</td>\n",
       "      <td>0.171334</td>\n",
       "      <td>-1.636756</td>\n",
       "      <td>0</td>\n",
       "    </tr>\n",
       "    <tr>\n",
       "      <th>652</th>\n",
       "      <td>-0.258357</td>\n",
       "      <td>-0.519342</td>\n",
       "      <td>-0.035458</td>\n",
       "      <td>-0.117824</td>\n",
       "      <td>1.267125</td>\n",
       "      <td>-1.068542</td>\n",
       "      <td>-0.638446</td>\n",
       "      <td>0.352485</td>\n",
       "      <td>0.060428</td>\n",
       "      <td>0.332823</td>\n",
       "      <td>...</td>\n",
       "      <td>0.525568</td>\n",
       "      <td>0.084212</td>\n",
       "      <td>-0.001621</td>\n",
       "      <td>0.011866</td>\n",
       "      <td>4.218640</td>\n",
       "      <td>1.219725</td>\n",
       "      <td>-0.481149</td>\n",
       "      <td>-0.324351</td>\n",
       "      <td>-1.552562</td>\n",
       "      <td>0</td>\n",
       "    </tr>\n",
       "    <tr>\n",
       "      <th>653</th>\n",
       "      <td>-0.400077</td>\n",
       "      <td>-0.677461</td>\n",
       "      <td>0.778466</td>\n",
       "      <td>-0.303557</td>\n",
       "      <td>-0.630844</td>\n",
       "      <td>0.230737</td>\n",
       "      <td>0.015912</td>\n",
       "      <td>0.549293</td>\n",
       "      <td>1.123662</td>\n",
       "      <td>0.146946</td>\n",
       "      <td>...</td>\n",
       "      <td>-1.276798</td>\n",
       "      <td>-0.461654</td>\n",
       "      <td>0.205261</td>\n",
       "      <td>0.250664</td>\n",
       "      <td>4.007170</td>\n",
       "      <td>0.058501</td>\n",
       "      <td>1.058661</td>\n",
       "      <td>1.076857</td>\n",
       "      <td>1.589043</td>\n",
       "      <td>0</td>\n",
       "    </tr>\n",
       "    <tr>\n",
       "      <th>...</th>\n",
       "      <td>...</td>\n",
       "      <td>...</td>\n",
       "      <td>...</td>\n",
       "      <td>...</td>\n",
       "      <td>...</td>\n",
       "      <td>...</td>\n",
       "      <td>...</td>\n",
       "      <td>...</td>\n",
       "      <td>...</td>\n",
       "      <td>...</td>\n",
       "      <td>...</td>\n",
       "      <td>...</td>\n",
       "      <td>...</td>\n",
       "      <td>...</td>\n",
       "      <td>...</td>\n",
       "      <td>...</td>\n",
       "      <td>...</td>\n",
       "      <td>...</td>\n",
       "      <td>...</td>\n",
       "      <td>...</td>\n",
       "      <td>...</td>\n",
       "    </tr>\n",
       "    <tr>\n",
       "      <th>279863</th>\n",
       "      <td>-1.566487</td>\n",
       "      <td>-2.010494</td>\n",
       "      <td>-0.882850</td>\n",
       "      <td>0.697211</td>\n",
       "      <td>-2.064945</td>\n",
       "      <td>-5.587794</td>\n",
       "      <td>2.115795</td>\n",
       "      <td>-5.417424</td>\n",
       "      <td>-1.235123</td>\n",
       "      <td>-6.665177</td>\n",
       "      <td>...</td>\n",
       "      <td>0.537503</td>\n",
       "      <td>0.788395</td>\n",
       "      <td>0.292680</td>\n",
       "      <td>0.147968</td>\n",
       "      <td>5.966149</td>\n",
       "      <td>-1.927883</td>\n",
       "      <td>1.125653</td>\n",
       "      <td>-4.518331</td>\n",
       "      <td>1.749293</td>\n",
       "      <td>1</td>\n",
       "    </tr>\n",
       "    <tr>\n",
       "      <th>280143</th>\n",
       "      <td>0.442581</td>\n",
       "      <td>-1.326536</td>\n",
       "      <td>-1.413170</td>\n",
       "      <td>0.248525</td>\n",
       "      <td>-1.127396</td>\n",
       "      <td>-3.232153</td>\n",
       "      <td>2.858466</td>\n",
       "      <td>-3.096915</td>\n",
       "      <td>-0.792532</td>\n",
       "      <td>-5.210141</td>\n",
       "      <td>...</td>\n",
       "      <td>0.521875</td>\n",
       "      <td>0.739467</td>\n",
       "      <td>0.389152</td>\n",
       "      <td>0.186637</td>\n",
       "      <td>-0.273122</td>\n",
       "      <td>1.378559</td>\n",
       "      <td>1.289381</td>\n",
       "      <td>-5.004247</td>\n",
       "      <td>1.411850</td>\n",
       "      <td>1</td>\n",
       "    </tr>\n",
       "    <tr>\n",
       "      <th>280149</th>\n",
       "      <td>-1.120541</td>\n",
       "      <td>-0.003346</td>\n",
       "      <td>-2.234739</td>\n",
       "      <td>1.210158</td>\n",
       "      <td>-0.652250</td>\n",
       "      <td>-3.463891</td>\n",
       "      <td>1.794969</td>\n",
       "      <td>-2.775022</td>\n",
       "      <td>-0.418950</td>\n",
       "      <td>-4.057162</td>\n",
       "      <td>...</td>\n",
       "      <td>-0.739695</td>\n",
       "      <td>0.471111</td>\n",
       "      <td>0.385107</td>\n",
       "      <td>0.194361</td>\n",
       "      <td>4.355310</td>\n",
       "      <td>-0.676143</td>\n",
       "      <td>1.126366</td>\n",
       "      <td>-2.213700</td>\n",
       "      <td>0.468308</td>\n",
       "      <td>1</td>\n",
       "    </tr>\n",
       "    <tr>\n",
       "      <th>281144</th>\n",
       "      <td>-0.840618</td>\n",
       "      <td>-2.943548</td>\n",
       "      <td>-2.208002</td>\n",
       "      <td>1.058733</td>\n",
       "      <td>-1.632333</td>\n",
       "      <td>-5.245984</td>\n",
       "      <td>1.933520</td>\n",
       "      <td>-5.030465</td>\n",
       "      <td>-1.127455</td>\n",
       "      <td>-6.416628</td>\n",
       "      <td>...</td>\n",
       "      <td>-0.328168</td>\n",
       "      <td>0.606116</td>\n",
       "      <td>0.884876</td>\n",
       "      <td>-0.253700</td>\n",
       "      <td>5.501262</td>\n",
       "      <td>-3.113832</td>\n",
       "      <td>0.585864</td>\n",
       "      <td>-5.399730</td>\n",
       "      <td>1.817092</td>\n",
       "      <td>1</td>\n",
       "    </tr>\n",
       "    <tr>\n",
       "      <th>281674</th>\n",
       "      <td>1.151147</td>\n",
       "      <td>-0.096695</td>\n",
       "      <td>0.223050</td>\n",
       "      <td>-0.068384</td>\n",
       "      <td>0.577829</td>\n",
       "      <td>-0.888722</td>\n",
       "      <td>0.491140</td>\n",
       "      <td>0.728903</td>\n",
       "      <td>0.380428</td>\n",
       "      <td>-1.948883</td>\n",
       "      <td>...</td>\n",
       "      <td>0.313267</td>\n",
       "      <td>-0.289617</td>\n",
       "      <td>0.002988</td>\n",
       "      <td>-0.015309</td>\n",
       "      <td>3.750233</td>\n",
       "      <td>1.991976</td>\n",
       "      <td>0.158476</td>\n",
       "      <td>-2.583441</td>\n",
       "      <td>0.408670</td>\n",
       "      <td>1</td>\n",
       "    </tr>\n",
       "  </tbody>\n",
       "</table>\n",
       "<p>284160 rows × 30 columns</p>\n",
       "</div>"
      ],
      "text/plain": [
       "              V5        V6        V7        V8        V9       V10       V11  \\\n",
       "649    -0.252045 -0.392240 -0.047177  0.041339 -0.069318  0.169913  0.947708   \n",
       "650    -0.441560  0.310187 -0.559948  0.349136  0.332922  0.220886  0.826773   \n",
       "651    -2.807266  0.726236  2.737602 -0.933999 -2.413730  0.796625 -0.878071   \n",
       "652    -0.258357 -0.519342 -0.035458 -0.117824  1.267125 -1.068542 -0.638446   \n",
       "653    -0.400077 -0.677461  0.778466 -0.303557 -0.630844  0.230737  0.015912   \n",
       "...          ...       ...       ...       ...       ...       ...       ...   \n",
       "279863 -1.566487 -2.010494 -0.882850  0.697211 -2.064945 -5.587794  2.115795   \n",
       "280143  0.442581 -1.326536 -1.413170  0.248525 -1.127396 -3.232153  2.858466   \n",
       "280149 -1.120541 -0.003346 -2.234739  1.210158 -0.652250 -3.463891  1.794969   \n",
       "281144 -0.840618 -2.943548 -2.208002  1.058733 -1.632333 -5.245984  1.933520   \n",
       "281674  1.151147 -0.096695  0.223050 -0.068384  0.577829 -0.888722  0.491140   \n",
       "\n",
       "             V12       V13       V14  ...       V25       V26       V27  \\\n",
       "649     0.417596 -0.798841  0.679509  ...  0.352684 -0.625998  0.013681   \n",
       "650    -0.257591 -1.961189  0.728867  ...  0.420079 -0.213097  0.040658   \n",
       "651    -1.045044  1.249929 -0.960840  ...  0.479636 -0.098230  0.053527   \n",
       "652     0.352485  0.060428  0.332823  ...  0.525568  0.084212 -0.001621   \n",
       "653     0.549293  1.123662  0.146946  ... -1.276798 -0.461654  0.205261   \n",
       "...          ...       ...       ...  ...       ...       ...       ...   \n",
       "279863 -5.417424 -1.235123 -6.665177  ...  0.537503  0.788395  0.292680   \n",
       "280143 -3.096915 -0.792532 -5.210141  ...  0.521875  0.739467  0.389152   \n",
       "280149 -2.775022 -0.418950 -4.057162  ... -0.739695  0.471111  0.385107   \n",
       "281144 -5.030465 -1.127455 -6.416628  ... -0.328168  0.606116  0.884876   \n",
       "281674  0.728903  0.380428 -1.948883  ...  0.313267 -0.289617  0.002988   \n",
       "\n",
       "             V28  Log Ammount        V1        V2        V3        V4  Class  \n",
       "649     0.015683     2.301685  1.196288  0.217099  0.402596  0.921664      0  \n",
       "650     0.010599     2.302685  1.130024 -0.060944  0.662074  1.033990      0  \n",
       "651    -0.408050     6.449524 -0.789890 -1.379371  0.171334 -1.636756      0  \n",
       "652     0.011866     4.218640  1.219725 -0.481149 -0.324351 -1.552562      0  \n",
       "653     0.250664     4.007170  0.058501  1.058661  1.076857  1.589043      0  \n",
       "...          ...          ...       ...       ...       ...       ...    ...  \n",
       "279863  0.147968     5.966149 -1.927883  1.125653 -4.518331  1.749293      1  \n",
       "280143  0.186637    -0.273122  1.378559  1.289381 -5.004247  1.411850      1  \n",
       "280149  0.194361     4.355310 -0.676143  1.126366 -2.213700  0.468308      1  \n",
       "281144 -0.253700     5.501262 -3.113832  0.585864 -5.399730  1.817092      1  \n",
       "281674 -0.015309     3.750233  1.991976  0.158476 -2.583441  0.408670      1  \n",
       "\n",
       "[284160 rows x 30 columns]"
      ]
     },
     "execution_count": 11,
     "metadata": {},
     "output_type": "execute_result"
    }
   ],
   "source": [
    "df = pd.concat([client_data, server_data], axis=1)\n",
    "df = df[-284160:]\n",
    "df"
   ]
  },
  {
   "cell_type": "code",
   "execution_count": 12,
   "metadata": {},
   "outputs": [],
   "source": [
    "from secretflow.data.split import train_test_split\n",
    "from secretflow.ml.nn import SLModel\n",
    "spu = sf.SPU(sf.utils.testing.cluster_def(['client', 'server']))"
   ]
  },
  {
   "cell_type": "code",
   "execution_count": 13,
   "metadata": {},
   "outputs": [],
   "source": [
    "from secretflow.utils.simulation.data.dataframe import create_df\n",
    "data = create_df(\n",
    "        source=df,\n",
    "        parts={client: (0, 25), server: (25, 29)},  \n",
    "        axis=1,\n",
    "        shuffle=False,\n",
    "    )\n",
    "label = create_df(\n",
    "        source=df,\n",
    "        parts={server: (29, 30)},\n",
    "        axis=1,\n",
    "        shuffle=False,\n",
    "    )"
   ]
  },
  {
   "cell_type": "code",
   "execution_count": 14,
   "metadata": {},
   "outputs": [
    {
     "name": "stdout",
     "output_type": "stream",
     "text": [
      "label= <class 'secretflow.data.vertical.dataframe.VDataFrame'>,\n",
      "data = <class 'secretflow.data.vertical.dataframe.VDataFrame'>\n"
     ]
    }
   ],
   "source": [
    "print(f\"label= {type(label)},\\ndata = {type(data)}\")"
   ]
  },
  {
   "cell_type": "code",
   "execution_count": 15,
   "metadata": {},
   "outputs": [],
   "source": [
    "# 确认VDataFrame存储无误\n",
    "# print(data.to_csv({server: \"server\"}))\n",
    "# print(data.to_csv({client: \"client\"}))"
   ]
  },
  {
   "cell_type": "code",
   "execution_count": 16,
   "metadata": {},
   "outputs": [
    {
     "name": "stderr",
     "output_type": "stream",
     "text": [
      "\u001b[2m\u001b[36m(pid=3787279)\u001b[0m /home/kyzhang/anaconda3/envs/exploit/lib/python3.8/site-packages/scipy/__init__.py:146: UserWarning: A NumPy version >=1.16.5 and <1.23.0 is required for this version of SciPy (detected version 1.23.5\n",
      "\u001b[2m\u001b[36m(pid=3787279)\u001b[0m   warnings.warn(f\"A NumPy version >={np_minversion} and <{np_maxversion}\"\n",
      "\u001b[2m\u001b[36m(pid=3789843)\u001b[0m /home/kyzhang/anaconda3/envs/exploit/lib/python3.8/site-packages/scipy/__init__.py:146: UserWarning: A NumPy version >=1.16.5 and <1.23.0 is required for this version of SciPy (detected version 1.23.5\n",
      "\u001b[2m\u001b[36m(pid=3789843)\u001b[0m   warnings.warn(f\"A NumPy version >={np_minversion} and <{np_maxversion}\"\n",
      "\u001b[2m\u001b[36m(pid=3791241)\u001b[0m /home/kyzhang/anaconda3/envs/exploit/lib/python3.8/site-packages/scipy/__init__.py:146: UserWarning: A NumPy version >=1.16.5 and <1.23.0 is required for this version of SciPy (detected version 1.23.5\n",
      "\u001b[2m\u001b[36m(pid=3791241)\u001b[0m   warnings.warn(f\"A NumPy version >={np_minversion} and <{np_maxversion}\"\n",
      "\u001b[2m\u001b[36m(pid=3804937)\u001b[0m /home/kyzhang/anaconda3/envs/exploit/lib/python3.8/site-packages/scipy/__init__.py:146: UserWarning: A NumPy version >=1.16.5 and <1.23.0 is required for this version of SciPy (detected version 1.23.5\n",
      "\u001b[2m\u001b[36m(pid=3804937)\u001b[0m   warnings.warn(f\"A NumPy version >={np_minversion} and <{np_maxversion}\"\n",
      "\u001b[2m\u001b[36m(pid=3804938)\u001b[0m /home/kyzhang/anaconda3/envs/exploit/lib/python3.8/site-packages/scipy/__init__.py:146: UserWarning: A NumPy version >=1.16.5 and <1.23.0 is required for this version of SciPy (detected version 1.23.5\n",
      "\u001b[2m\u001b[36m(pid=3804938)\u001b[0m   warnings.warn(f\"A NumPy version >={np_minversion} and <{np_maxversion}\"\n",
      "\u001b[2m\u001b[36m(_run pid=3789843)\u001b[0m /home/kyzhang/anaconda3/envs/exploit/lib/python3.8/site-packages/sklearn/base.py:402: UserWarning: X has feature names, but StandardScaler was fitted without feature names\n",
      "\u001b[2m\u001b[36m(_run pid=3789843)\u001b[0m   warnings.warn(\n",
      "\u001b[2m\u001b[36m(_run pid=3791241)\u001b[0m /home/kyzhang/anaconda3/envs/exploit/lib/python3.8/site-packages/sklearn/base.py:402: UserWarning: X has feature names, but StandardScaler was fitted without feature names\n",
      "\u001b[2m\u001b[36m(_run pid=3791241)\u001b[0m   warnings.warn(\n"
     ]
    }
   ],
   "source": [
    "from secretflow.preprocessing.scaler import MinMaxScaler, StandardScaler\n",
    "scaler = StandardScaler()\n",
    "data = scaler.fit_transform(data)\n",
    "# data = data.clip(-5,5)  # 由于sf中没有实现clip函数，因此先注释掉"
   ]
  },
  {
   "cell_type": "code",
   "execution_count": 17,
   "metadata": {},
   "outputs": [],
   "source": [
    "random_state = 1234\n",
    "train_data,test_data = train_test_split(data, train_size=0.8, random_state=random_state)\n",
    "train_label,test_label = train_test_split(label, train_size=0.8, random_state=random_state)"
   ]
  },
  {
   "cell_type": "code",
   "execution_count": 18,
   "metadata": {},
   "outputs": [],
   "source": [
    "if not os.path.exists(f\"./model/\"):\n",
    "    os.makedirs(f\"./model/\")"
   ]
  },
  {
   "cell_type": "code",
   "execution_count": 19,
   "metadata": {},
   "outputs": [
    {
     "data": {
      "text/plain": [
       "[<secretflow.device.device.pyu.PYUObject at 0x7fa8205f7fd0>]"
      ]
     },
     "execution_count": 19,
     "metadata": {},
     "output_type": "execute_result"
    }
   ],
   "source": [
    "train_label.to_csv({server: \"./model/ys.csv\"})\n",
    "test_label.to_csv({server: \"./model/ys_test.csv\"})"
   ]
  },
  {
   "cell_type": "markdown",
   "metadata": {
    "id": "bopA4CdS_4-T"
   },
   "source": [
    "## Split Learning"
   ]
  },
  {
   "cell_type": "markdown",
   "metadata": {},
   "source": [
    "### 实例化模型"
   ]
  },
  {
   "cell_type": "code",
   "execution_count": 20,
   "metadata": {},
   "outputs": [],
   "source": [
    "hidden_dim_1 = 16\n",
    "hidden_dim_2 = 4\n",
    "# Create FirstNet model\n",
    "client_builder = create_first_net(input_dim=25, hidden_dim=hidden_dim_1)\n",
    "\n",
    "# Create ZeroNet model\n",
    "server_zero_builder = create_zero_net(input_dim=4, hidden_dim=hidden_dim_2)"
   ]
  },
  {
   "cell_type": "code",
   "execution_count": 21,
   "metadata": {},
   "outputs": [],
   "source": [
    "fuse_builder = create_fuse_model(input_dim_1=hidden_dim_1, input_dim_2=hidden_dim_2, party_nums=2, output_dim=1)"
   ]
  },
  {
   "cell_type": "code",
   "execution_count": 22,
   "metadata": {},
   "outputs": [],
   "source": [
    "surrogate_builder = create_surrogate_model(input_dim_1=hidden_dim_1, input_dim_2=hidden_dim_2, party_nums=2, output_dim=1)"
   ]
  },
  {
   "cell_type": "code",
   "execution_count": 23,
   "metadata": {},
   "outputs": [],
   "source": [
    "base_model_dict = {\n",
    "    client:   client_builder,\n",
    "    server:   server_zero_builder\n",
    "}"
   ]
  },
  {
   "cell_type": "code",
   "execution_count": 24,
   "metadata": {},
   "outputs": [
    {
     "name": "stderr",
     "output_type": "stream",
     "text": [
      "INFO:root:Create proxy actor <class 'secretflow.ml.nn.sl.backend.tensorflow.sl_base.PYUSLTFModel'> with party client.\n",
      "INFO:root:Create proxy actor <class 'secretflow.ml.nn.sl.backend.tensorflow.sl_base.PYUSLTFModel'> with party server.\n"
     ]
    }
   ],
   "source": [
    "sl_model = SLModel(\n",
    "    base_model_dict=base_model_dict,\n",
    "    device_y=server,\n",
    "    model_fuse=fuse_builder)"
   ]
  },
  {
   "cell_type": "markdown",
   "metadata": {},
   "source": [
    "### 训练SplitNN"
   ]
  },
  {
   "cell_type": "code",
   "execution_count": 25,
   "metadata": {},
   "outputs": [
    {
     "name": "stderr",
     "output_type": "stream",
     "text": [
      "INFO:root:Create proxy actor <class 'secretflow.ml.nn.sl.backend.tensorflow.sl_base.PYUSLTFModel'> with party client.\n",
      "INFO:root:Create proxy actor <class 'secretflow.ml.nn.sl.backend.tensorflow.sl_base.PYUSLTFModel'> with party server.\n"
     ]
    }
   ],
   "source": [
    "from ExP_attack.labelleakage import ExPloitAttackSplitNNManager_sf\n",
    "\n",
    "manager = ExPloitAttackSplitNNManager_sf(device=\"cpu\")\n",
    "ExPloitAttackSplitNNAPI = manager.attach(SLModel)\n",
    "ExPloitattacksplitnn = ExPloitAttackSplitNNAPI(\n",
    "    base_model_dict=base_model_dict,\n",
    "    device_y=server,\n",
    "    model_fuse=fuse_builder)"
   ]
  },
  {
   "cell_type": "code",
   "execution_count": 26,
   "metadata": {},
   "outputs": [],
   "source": [
    "train_batch_size = 1024\n",
    "epochs_train=10\n",
    "args_dict['batch_size'] = train_batch_size"
   ]
  },
  {
   "cell_type": "code",
   "execution_count": 27,
   "metadata": {},
   "outputs": [
    {
     "name": "stderr",
     "output_type": "stream",
     "text": [
      "INFO:root:SL Train Params: {'self': <ExP_attack.labelleakage.ExPloitattack.attach_ExPloitattack_to_splitnn_sf.<locals>.ExPloitAttackSplitNNWrapper_sf object at 0x7f8958494490>, 'x': VDataFrame(partitions={PYURuntime(client): Partition(data=<secretflow.device.device.pyu.PYUObject object at 0x7f8958494e20>), PYURuntime(server): Partition(data=<secretflow.device.device.pyu.PYUObject object at 0x7fa820214cd0>)}, aligned=True), 'y': VDataFrame(partitions={PYURuntime(server): Partition(data=<secretflow.device.device.pyu.PYUObject object at 0x7f8958485970>)}, aligned=True), 'batch_size': 1024, 'epochs': 10, 'verbose': 1, 'callbacks': None, 'validation_data': (VDataFrame(partitions={PYURuntime(client): Partition(data=<secretflow.device.device.pyu.PYUObject object at 0x7f8958494df0>), PYURuntime(server): Partition(data=<secretflow.device.device.pyu.PYUObject object at 0x7fa82061a370>)}, aligned=True), VDataFrame(partitions={PYURuntime(server): Partition(data=<secretflow.device.device.pyu.PYUObject object at 0x7f8958485250>)}, aligned=True)), 'shuffle': False, 'sample_weight': None, 'validation_freq': 1, 'dp_spent_step_freq': None, 'dataset_builder': None, 'audit_log_params': {}, 'random_seed': 3850, 'save_path': '/home/kyzhang/myfile/sf/ExPLoit-main/ref/src/model/', 'audit_log_dir': None}\n",
      "\u001b[2m\u001b[36m(pid=3806037)\u001b[0m /home/kyzhang/anaconda3/envs/exploit/lib/python3.8/site-packages/scipy/__init__.py:146: UserWarning: A NumPy version >=1.16.5 and <1.23.0 is required for this version of SciPy (detected version 1.23.5\n",
      "\u001b[2m\u001b[36m(pid=3806037)\u001b[0m   warnings.warn(f\"A NumPy version >={np_minversion} and <{np_maxversion}\"\n",
      "\u001b[2m\u001b[36m(pid=3806064)\u001b[0m /home/kyzhang/anaconda3/envs/exploit/lib/python3.8/site-packages/scipy/__init__.py:146: UserWarning: A NumPy version >=1.16.5 and <1.23.0 is required for this version of SciPy (detected version 1.23.5\n",
      "\u001b[2m\u001b[36m(pid=3806064)\u001b[0m   warnings.warn(f\"A NumPy version >={np_minversion} and <{np_maxversion}\"\n",
      "\u001b[2m\u001b[36m(pid=3806170)\u001b[0m /home/kyzhang/anaconda3/envs/exploit/lib/python3.8/site-packages/scipy/__init__.py:146: UserWarning: A NumPy version >=1.16.5 and <1.23.0 is required for this version of SciPy (detected version 1.23.5\n",
      "\u001b[2m\u001b[36m(pid=3806170)\u001b[0m   warnings.warn(f\"A NumPy version >={np_minversion} and <{np_maxversion}\"\n",
      "\u001b[2m\u001b[36m(pid=3806235)\u001b[0m /home/kyzhang/anaconda3/envs/exploit/lib/python3.8/site-packages/scipy/__init__.py:146: UserWarning: A NumPy version >=1.16.5 and <1.23.0 is required for this version of SciPy (detected version 1.23.5\n",
      "\u001b[2m\u001b[36m(pid=3806235)\u001b[0m   warnings.warn(f\"A NumPy version >={np_minversion} and <{np_maxversion}\"\n",
      "\u001b[2m\u001b[36m(PYUSLTFModel pid=3806037)\u001b[0m 2023-09-05 18:38:25.647013: E tensorflow/compiler/xla/stream_executor/cuda/cuda_driver.cc:267] failed call to cuInit: CUDA_ERROR_NO_DEVICE: no CUDA-capable device is detected\n",
      "\u001b[2m\u001b[36m(PYUSLTFModel pid=3806064)\u001b[0m 2023-09-05 18:38:25.681188: E tensorflow/compiler/xla/stream_executor/cuda/cuda_driver.cc:267] failed call to cuInit: CUDA_ERROR_NO_DEVICE: no CUDA-capable device is detected\n"
     ]
    },
    {
     "name": "stdout",
     "output_type": "stream",
     "text": [
      "\u001b[2m\u001b[36m(PYUSLTFModel pid=3806037)\u001b[0m Model: \"sequential\"\n",
      "\u001b[2m\u001b[36m(PYUSLTFModel pid=3806037)\u001b[0m _________________________________________________________________\n",
      "\u001b[2m\u001b[36m(PYUSLTFModel pid=3806037)\u001b[0m  Layer (type)                Output Shape              Param #   \n",
      "\u001b[2m\u001b[36m(PYUSLTFModel pid=3806037)\u001b[0m =================================================================\n",
      "\u001b[2m\u001b[36m(PYUSLTFModel pid=3806037)\u001b[0m  dense (Dense)               (None, 8)                 208       \n",
      "\u001b[2m\u001b[36m(PYUSLTFModel pid=3806037)\u001b[0m                                                                  \n",
      "\u001b[2m\u001b[36m(PYUSLTFModel pid=3806037)\u001b[0m  dense_1 (Dense)             (None, 16)                144       \n",
      "\u001b[2m\u001b[36m(PYUSLTFModel pid=3806037)\u001b[0m                                                                  \n",
      "\u001b[2m\u001b[36m(PYUSLTFModel pid=3806037)\u001b[0m =================================================================\n",
      "\u001b[2m\u001b[36m(PYUSLTFModel pid=3806037)\u001b[0m Total params: 352\n",
      "\u001b[2m\u001b[36m(PYUSLTFModel pid=3806037)\u001b[0m Trainable params: 352\n",
      "\u001b[2m\u001b[36m(PYUSLTFModel pid=3806037)\u001b[0m Non-trainable params: 0\n",
      "\u001b[2m\u001b[36m(PYUSLTFModel pid=3806037)\u001b[0m _________________________________________________________________\n",
      "\u001b[2m\u001b[36m(PYUSLTFModel pid=3806064)\u001b[0m Model: \"sequential\"\n",
      "\u001b[2m\u001b[36m(PYUSLTFModel pid=3806064)\u001b[0m _________________________________________________________________\n",
      "\u001b[2m\u001b[36m(PYUSLTFModel pid=3806064)\u001b[0m  Layer (type)                Output Shape              Param #   \n",
      "\u001b[2m\u001b[36m(PYUSLTFModel pid=3806064)\u001b[0m =================================================================\n",
      "\u001b[2m\u001b[36m(PYUSLTFModel pid=3806064)\u001b[0m  dense (Dense)               (None, 4)                 20        \n",
      "\u001b[2m\u001b[36m(PYUSLTFModel pid=3806064)\u001b[0m                                                                  \n",
      "\u001b[2m\u001b[36m(PYUSLTFModel pid=3806064)\u001b[0m =================================================================\n",
      "\u001b[2m\u001b[36m(PYUSLTFModel pid=3806064)\u001b[0m Total params: 20\n",
      "\u001b[2m\u001b[36m(PYUSLTFModel pid=3806064)\u001b[0m Trainable params: 20\n",
      "\u001b[2m\u001b[36m(PYUSLTFModel pid=3806064)\u001b[0m Non-trainable params: 0\n",
      "\u001b[2m\u001b[36m(PYUSLTFModel pid=3806064)\u001b[0m _________________________________________________________________\n",
      "\u001b[2m\u001b[36m(PYUSLTFModel pid=3806064)\u001b[0m Model: \"model\"\n",
      "\u001b[2m\u001b[36m(PYUSLTFModel pid=3806064)\u001b[0m __________________________________________________________________________________________________\n",
      "\u001b[2m\u001b[36m(PYUSLTFModel pid=3806064)\u001b[0m  Layer (type)                   Output Shape         Param #     Connected to                     \n",
      "\u001b[2m\u001b[36m(PYUSLTFModel pid=3806064)\u001b[0m ==================================================================================================\n",
      "\u001b[2m\u001b[36m(PYUSLTFModel pid=3806064)\u001b[0m  input_2 (InputLayer)           [(None, 16)]         0           []                               \n",
      "\u001b[2m\u001b[36m(PYUSLTFModel pid=3806064)\u001b[0m                                                                                                   \n",
      "\u001b[2m\u001b[36m(PYUSLTFModel pid=3806064)\u001b[0m  input_3 (InputLayer)           [(None, 4)]          0           []                               \n",
      "\u001b[2m\u001b[36m(PYUSLTFModel pid=3806064)\u001b[0m                                                                                                   \n",
      "\u001b[2m\u001b[36m(PYUSLTFModel pid=3806064)\u001b[0m  concatenate (Concatenate)      (None, 20)           0           ['input_2[0][0]',                \n",
      "\u001b[2m\u001b[36m(PYUSLTFModel pid=3806064)\u001b[0m                                                                   'input_3[0][0]']                \n",
      "\u001b[2m\u001b[36m(PYUSLTFModel pid=3806064)\u001b[0m                                                                                                   \n",
      "\u001b[2m\u001b[36m(PYUSLTFModel pid=3806064)\u001b[0m  dense_1 (Dense)                (None, 1)            21          ['concatenate[0][0]']            \n",
      "\u001b[2m\u001b[36m(PYUSLTFModel pid=3806064)\u001b[0m                                                                                                   \n",
      "\u001b[2m\u001b[36m(PYUSLTFModel pid=3806064)\u001b[0m ==================================================================================================\n",
      "\u001b[2m\u001b[36m(PYUSLTFModel pid=3806064)\u001b[0m Total params: 21\n",
      "\u001b[2m\u001b[36m(PYUSLTFModel pid=3806064)\u001b[0m Trainable params: 21\n",
      "\u001b[2m\u001b[36m(PYUSLTFModel pid=3806064)\u001b[0m Non-trainable params: 0\n",
      "\u001b[2m\u001b[36m(PYUSLTFModel pid=3806064)\u001b[0m __________________________________________________________________________________________________\n"
     ]
    },
    {
     "name": "stderr",
     "output_type": "stream",
     "text": [
      "\u001b[2m\u001b[36m(PYUSLTFModel pid=3806235)\u001b[0m 2023-09-05 18:38:25.871066: E tensorflow/compiler/xla/stream_executor/cuda/cuda_driver.cc:267] failed call to cuInit: CUDA_ERROR_NO_DEVICE: no CUDA-capable device is detected\n",
      "\u001b[2m\u001b[36m(PYUSLTFModel pid=3806170)\u001b[0m 2023-09-05 18:38:25.999237: E tensorflow/compiler/xla/stream_executor/cuda/cuda_driver.cc:267] failed call to cuInit: CUDA_ERROR_NO_DEVICE: no CUDA-capable device is detected\n"
     ]
    },
    {
     "name": "stdout",
     "output_type": "stream",
     "text": [
      "\u001b[2m\u001b[36m(PYUSLTFModel pid=3806235)\u001b[0m Model: \"sequential\"\n",
      "\u001b[2m\u001b[36m(PYUSLTFModel pid=3806235)\u001b[0m _________________________________________________________________\n",
      "\u001b[2m\u001b[36m(PYUSLTFModel pid=3806235)\u001b[0m  Layer (type)                Output Shape              Param #   \n",
      "\u001b[2m\u001b[36m(PYUSLTFModel pid=3806235)\u001b[0m =================================================================\n",
      "\u001b[2m\u001b[36m(PYUSLTFModel pid=3806235)\u001b[0m  dense (Dense)               (None, 4)                 20        \n",
      "\u001b[2m\u001b[36m(PYUSLTFModel pid=3806235)\u001b[0m                                                                  \n",
      "\u001b[2m\u001b[36m(PYUSLTFModel pid=3806235)\u001b[0m =================================================================\n",
      "\u001b[2m\u001b[36m(PYUSLTFModel pid=3806235)\u001b[0m Total params: 20\n",
      "\u001b[2m\u001b[36m(PYUSLTFModel pid=3806235)\u001b[0m Trainable params: 20\n",
      "\u001b[2m\u001b[36m(PYUSLTFModel pid=3806235)\u001b[0m Non-trainable params: 0\n",
      "\u001b[2m\u001b[36m(PYUSLTFModel pid=3806235)\u001b[0m _________________________________________________________________\n",
      "\u001b[2m\u001b[36m(PYUSLTFModel pid=3806235)\u001b[0m Model: \"model\"\n",
      "\u001b[2m\u001b[36m(PYUSLTFModel pid=3806235)\u001b[0m __________________________________________________________________________________________________\n",
      "\u001b[2m\u001b[36m(PYUSLTFModel pid=3806235)\u001b[0m  Layer (type)                   Output Shape         Param #     Connected to                     \n",
      "\u001b[2m\u001b[36m(PYUSLTFModel pid=3806235)\u001b[0m ==================================================================================================\n",
      "\u001b[2m\u001b[36m(PYUSLTFModel pid=3806235)\u001b[0m  input_2 (InputLayer)           [(None, 16)]         0           []                               \n",
      "\u001b[2m\u001b[36m(PYUSLTFModel pid=3806235)\u001b[0m                                                                                                   \n",
      "\u001b[2m\u001b[36m(PYUSLTFModel pid=3806235)\u001b[0m  input_3 (InputLayer)           [(None, 4)]          0           []                               \n",
      "\u001b[2m\u001b[36m(PYUSLTFModel pid=3806235)\u001b[0m                                                                                                   \n",
      "\u001b[2m\u001b[36m(PYUSLTFModel pid=3806235)\u001b[0m  concatenate (Concatenate)      (None, 20)           0           ['input_2[0][0]',                \n",
      "\u001b[2m\u001b[36m(PYUSLTFModel pid=3806235)\u001b[0m                                                                   'input_3[0][0]']                \n",
      "\u001b[2m\u001b[36m(PYUSLTFModel pid=3806235)\u001b[0m                                                                                                   \n",
      "\u001b[2m\u001b[36m(PYUSLTFModel pid=3806235)\u001b[0m  dense_1 (Dense)                (None, 1)            21          ['concatenate[0][0]']            \n",
      "\u001b[2m\u001b[36m(PYUSLTFModel pid=3806235)\u001b[0m                                                                                                   \n",
      "\u001b[2m\u001b[36m(PYUSLTFModel pid=3806235)\u001b[0m ==================================================================================================\n",
      "\u001b[2m\u001b[36m(PYUSLTFModel pid=3806235)\u001b[0m Total params: 21\n",
      "\u001b[2m\u001b[36m(PYUSLTFModel pid=3806235)\u001b[0m Trainable params: 21\n",
      "\u001b[2m\u001b[36m(PYUSLTFModel pid=3806235)\u001b[0m Non-trainable params: 0\n",
      "\u001b[2m\u001b[36m(PYUSLTFModel pid=3806235)\u001b[0m __________________________________________________________________________________________________\n",
      "\u001b[2m\u001b[36m(PYUSLTFModel pid=3806170)\u001b[0m Model: \"sequential\"\n",
      "\u001b[2m\u001b[36m(PYUSLTFModel pid=3806170)\u001b[0m _________________________________________________________________\n",
      "\u001b[2m\u001b[36m(PYUSLTFModel pid=3806170)\u001b[0m  Layer (type)                Output Shape              Param #   \n",
      "\u001b[2m\u001b[36m(PYUSLTFModel pid=3806170)\u001b[0m =================================================================\n",
      "\u001b[2m\u001b[36m(PYUSLTFModel pid=3806170)\u001b[0m  dense (Dense)               (None, 8)                 208       \n",
      "\u001b[2m\u001b[36m(PYUSLTFModel pid=3806170)\u001b[0m                                                                  \n",
      "\u001b[2m\u001b[36m(PYUSLTFModel pid=3806170)\u001b[0m  dense_1 (Dense)             (None, 16)                144       \n",
      "\u001b[2m\u001b[36m(PYUSLTFModel pid=3806170)\u001b[0m                                                                  \n",
      "\u001b[2m\u001b[36m(PYUSLTFModel pid=3806170)\u001b[0m =================================================================\n",
      "\u001b[2m\u001b[36m(PYUSLTFModel pid=3806170)\u001b[0m Total params: 352\n",
      "\u001b[2m\u001b[36m(PYUSLTFModel pid=3806170)\u001b[0m Trainable params: 352\n",
      "\u001b[2m\u001b[36m(PYUSLTFModel pid=3806170)\u001b[0m Non-trainable params: 0\n",
      "\u001b[2m\u001b[36m(PYUSLTFModel pid=3806170)\u001b[0m _________________________________________________________________\n"
     ]
    },
    {
     "name": "stderr",
     "output_type": "stream",
     "text": [
      "  1%|          | 2/222 [00:00<01:23,  2.64it/s]\u001b[2m\u001b[36m(_run pid=3789843)\u001b[0m 2023-09-05 18:38:30.123834: E tensorflow/compiler/xla/stream_executor/cuda/cuda_driver.cc:267] failed call to cuInit: CUDA_ERROR_NO_DEVICE: no CUDA-capable device is detected\n",
      " 45%|████▍     | 99/222 [00:06<00:03, 34.59it/s]\u001b[2m\u001b[36m(_run pid=3787279)\u001b[0m 2023-09-05 18:38:36.442009: E tensorflow/compiler/xla/stream_executor/cuda/cuda_driver.cc:267] failed call to cuInit: CUDA_ERROR_NO_DEVICE: no CUDA-capable device is detected\n",
      " 90%|████████▉ | 199/222 [00:13<00:00, 34.86it/s]\u001b[2m\u001b[36m(_run pid=3791241)\u001b[0m 2023-09-05 18:38:42.624545: E tensorflow/compiler/xla/stream_executor/cuda/cuda_driver.cc:267] failed call to cuInit: CUDA_ERROR_NO_DEVICE: no CUDA-capable device is detected\n",
      "100%|██████████| 222/222 [00:17<00:00, 12.44it/s, epoch: 1/10 -  train_loss:0.26361316442489624  train_accuracy:0.9228119850158691  train_auc_1:0.4041939079761505  val_loss:0.04271187633275986  val_accuracy:0.9984691739082336  val_auc_1:0.5286554098129272 ]\n",
      " 45%|████▍     | 99/222 [00:02<00:03, 34.59it/s]\u001b[2m\u001b[36m(pid=3792300)\u001b[0m /home/kyzhang/anaconda3/envs/exploit/lib/python3.8/site-packages/scipy/__init__.py:146: UserWarning: A NumPy version >=1.16.5 and <1.23.0 is required for this version of SciPy (detected version 1.23.5\n",
      "\u001b[2m\u001b[36m(pid=3792300)\u001b[0m   warnings.warn(f\"A NumPy version >={np_minversion} and <{np_maxversion}\"\n",
      "\u001b[2m\u001b[36m(_run pid=3792300)\u001b[0m 2023-09-05 18:38:51.173635: E tensorflow/compiler/xla/stream_executor/cuda/cuda_driver.cc:267] failed call to cuInit: CUDA_ERROR_NO_DEVICE: no CUDA-capable device is detected\n",
      " 90%|████████▉ | 199/222 [00:10<00:00, 33.80it/s]\u001b[2m\u001b[36m(pid=3792275)\u001b[0m /home/kyzhang/anaconda3/envs/exploit/lib/python3.8/site-packages/scipy/__init__.py:146: UserWarning: A NumPy version >=1.16.5 and <1.23.0 is required for this version of SciPy (detected version 1.23.5\n",
      "\u001b[2m\u001b[36m(pid=3792275)\u001b[0m   warnings.warn(f\"A NumPy version >={np_minversion} and <{np_maxversion}\"\n",
      "\u001b[2m\u001b[36m(_run pid=3792275)\u001b[0m 2023-09-05 18:38:58.539701: E tensorflow/compiler/xla/stream_executor/cuda/cuda_driver.cc:267] failed call to cuInit: CUDA_ERROR_NO_DEVICE: no CUDA-capable device is detected\n",
      "100%|██████████| 222/222 [00:15<00:00, 14.25it/s, epoch: 2/10 -  train_loss:0.022060249000787735  train_accuracy:0.9983416199684143  train_auc_1:0.753617525100708  val_loss:0.011497918516397476  val_accuracy:0.9987155199050903  val_auc_1:0.8269000053405762 ]\n",
      "100%|██████████| 222/222 [00:07<00:00, 30.96it/s, epoch: 3/10 -  train_loss:0.009331360459327698  train_accuracy:0.998482346534729  train_auc_1:0.8701972365379333  val_loss:0.007444706745445728  val_accuracy:0.9987506866455078  val_auc_1:0.8741559982299805 ]\n",
      "100%|██████████| 222/222 [00:07<00:00, 30.46it/s, epoch: 4/10 -  train_loss:0.006667260080575943  train_accuracy:0.998649537563324  train_auc_1:0.8996511101722717  val_loss:0.006113514304161072  val_accuracy:0.9988210797309875  val_auc_1:0.8980483412742615 ]\n",
      "100%|██████████| 222/222 [00:07<00:00, 31.26it/s, epoch: 5/10 -  train_loss:0.005592648405581713  train_accuracy:0.9988079071044922  train_auc_1:0.9109702110290527  val_loss:0.005524023901671171  val_accuracy:0.9989442825317383  val_auc_1:0.9131482243537903 ]\n",
      "100%|██████████| 222/222 [00:07<00:00, 31.11it/s, epoch: 6/10 -  train_loss:0.005025466904044151  train_accuracy:0.9989134669303894  train_auc_1:0.9180915951728821  val_loss:0.005223792511969805  val_accuracy:0.9989970326423645  val_auc_1:0.9154138565063477 ]\n",
      "100%|██████████| 222/222 [00:07<00:00, 31.32it/s, epoch: 7/10 -  train_loss:0.00469288369640708  train_accuracy:0.9989750385284424  train_auc_1:0.9204786419868469  val_loss:0.005034556612372398  val_accuracy:0.9990498423576355  val_auc_1:0.9164435267448425 ]\n",
      "100%|██████████| 222/222 [00:07<00:00, 30.67it/s, epoch: 8/10 -  train_loss:0.004467878025025129  train_accuracy:0.9990146160125732  train_auc_1:0.9247339963912964  val_loss:0.0049079409800469875  val_accuracy:0.9991554021835327  val_auc_1:0.9170246720314026 ]\n",
      "100%|██████████| 222/222 [00:07<00:00, 30.63it/s, epoch: 9/10 -  train_loss:0.00429615518078208  train_accuracy:0.9990542531013489  train_auc_1:0.9275585412979126  val_loss:0.004807968623936176  val_accuracy:0.9991729855537415  val_auc_1:0.9173377156257629 ]\n",
      "  0%|          | 0/222 [00:00<?, ?it/s]\u001b[2m\u001b[36m(_run pid=3789843)\u001b[0m INFO:jax._src.xla_bridge:Unable to initialize backend 'cuda': module 'jaxlib.xla_extension' has no attribute 'GpuAllocatorConfig'\n",
      "\u001b[2m\u001b[36m(_run pid=3789843)\u001b[0m INFO:jax._src.xla_bridge:Unable to initialize backend 'rocm': module 'jaxlib.xla_extension' has no attribute 'GpuAllocatorConfig'\n",
      "\u001b[2m\u001b[36m(_run pid=3789843)\u001b[0m INFO:jax._src.xla_bridge:Unable to initialize backend 'tpu': INVALID_ARGUMENT: TpuPlatform is not available.\n",
      "\u001b[2m\u001b[36m(_run pid=3789843)\u001b[0m INFO:jax._src.xla_bridge:Unable to initialize backend 'plugin': xla_extension has no attributes named get_plugin_device_client. Compile TensorFlow with //tensorflow/compiler/xla/python:enable_plugin_device set to true (defaults to false) to enable this.\n",
      "\u001b[2m\u001b[36m(_run pid=3789843)\u001b[0m WARNING:jax._src.xla_bridge:No GPU/TPU found, falling back to CPU. (Set TF_CPP_MIN_LOG_LEVEL=0 and rerun for more info.)\n",
      "\u001b[2m\u001b[36m(_run pid=3792300)\u001b[0m INFO:jax._src.xla_bridge:Unable to initialize backend 'cuda': module 'jaxlib.xla_extension' has no attribute 'GpuAllocatorConfig'\n",
      "\u001b[2m\u001b[36m(_run pid=3792300)\u001b[0m INFO:jax._src.xla_bridge:Unable to initialize backend 'rocm': module 'jaxlib.xla_extension' has no attribute 'GpuAllocatorConfig'\n",
      "\u001b[2m\u001b[36m(_run pid=3792300)\u001b[0m INFO:jax._src.xla_bridge:Unable to initialize backend 'tpu': INVALID_ARGUMENT: TpuPlatform is not available.\n",
      "\u001b[2m\u001b[36m(_run pid=3792300)\u001b[0m INFO:jax._src.xla_bridge:Unable to initialize backend 'plugin': xla_extension has no attributes named get_plugin_device_client. Compile TensorFlow with //tensorflow/compiler/xla/python:enable_plugin_device set to true (defaults to false) to enable this.\n",
      "\u001b[2m\u001b[36m(_run pid=3792300)\u001b[0m WARNING:jax._src.xla_bridge:No GPU/TPU found, falling back to CPU. (Set TF_CPP_MIN_LOG_LEVEL=0 and rerun for more info.)\n",
      "INFO:jax._src.xla_bridge:Unable to initialize backend 'cuda': module 'jaxlib.xla_extension' has no attribute 'GpuAllocatorConfig'\n",
      "INFO:jax._src.xla_bridge:Unable to initialize backend 'rocm': module 'jaxlib.xla_extension' has no attribute 'GpuAllocatorConfig'\n",
      "INFO:jax._src.xla_bridge:Unable to initialize backend 'tpu': INVALID_ARGUMENT: TpuPlatform is not available.\n",
      "INFO:jax._src.xla_bridge:Unable to initialize backend 'plugin': xla_extension has no attributes named get_plugin_device_client. Compile TensorFlow with //tensorflow/compiler/xla/python:enable_plugin_device set to true (defaults to false) to enable this.\n",
      "WARNING:jax._src.xla_bridge:No GPU/TPU found, falling back to CPU. (Set TF_CPP_MIN_LOG_LEVEL=0 and rerun for more info.)\n",
      " 77%|███████▋  | 172/222 [00:16<00:04, 10.70it/s]\u001b[2m\u001b[36m(_run pid=3787279)\u001b[0m INFO:jax._src.xla_bridge:Unable to initialize backend 'cuda': module 'jaxlib.xla_extension' has no attribute 'GpuAllocatorConfig'\n",
      "\u001b[2m\u001b[36m(_run pid=3787279)\u001b[0m INFO:jax._src.xla_bridge:Unable to initialize backend 'rocm': module 'jaxlib.xla_extension' has no attribute 'GpuAllocatorConfig'\n",
      "\u001b[2m\u001b[36m(_run pid=3787279)\u001b[0m INFO:jax._src.xla_bridge:Unable to initialize backend 'tpu': INVALID_ARGUMENT: TpuPlatform is not available.\n",
      "\u001b[2m\u001b[36m(_run pid=3787279)\u001b[0m INFO:jax._src.xla_bridge:Unable to initialize backend 'plugin': xla_extension has no attributes named get_plugin_device_client. Compile TensorFlow with //tensorflow/compiler/xla/python:enable_plugin_device set to true (defaults to false) to enable this.\n",
      "\u001b[2m\u001b[36m(_run pid=3787279)\u001b[0m WARNING:jax._src.xla_bridge:No GPU/TPU found, falling back to CPU. (Set TF_CPP_MIN_LOG_LEVEL=0 and rerun for more info.)\n",
      "100%|██████████| 222/222 [00:23<00:00,  9.51it/s, epoch: 10/10 -  train_loss:0.004156740847975016  train_accuracy:0.9990805983543396  train_auc_1:0.9302922487258911  val_loss:0.0047240545973181725  val_accuracy:0.9992082118988037  val_auc_1:0.9176778197288513 ]\n"
     ]
    }
   ],
   "source": [
    "save_path = \"/home/kyzhang/myfile/sf/ExPLoit-main/ref/src/model/\"\n",
    "history = ExPloitattacksplitnn.fit_save(train_data,\n",
    "             train_label,\n",
    "             validation_data=(test_data,test_label),\n",
    "             epochs=epochs_train,\n",
    "             batch_size=train_batch_size,\n",
    "             shuffle=False,\n",
    "             verbose=1,\n",
    "             validation_freq=1,\n",
    "             save_path=save_path)"
   ]
  },
  {
   "cell_type": "markdown",
   "metadata": {},
   "source": [
    "### 评估SplitNN"
   ]
  },
  {
   "cell_type": "code",
   "execution_count": 28,
   "metadata": {},
   "outputs": [
    {
     "data": {
      "image/png": "[encoded data removed]",
      "text/plain": [
       "<Figure size 640x480 with 1 Axes>"
      ]
     },
     "metadata": {},
     "output_type": "display_data"
    }
   ],
   "source": [
    "# Plot the change of loss during training\n",
    "plt.plot(history['train_loss'])\n",
    "plt.plot(history['val_loss'])\n",
    "plt.title('Model loss')\n",
    "plt.ylabel('Loss')\n",
    "plt.xlabel('Epoch')\n",
    "plt.legend(['Train','Val'], loc='upper right')\n",
    "plt.show()"
   ]
  },
  {
   "cell_type": "code",
   "execution_count": 29,
   "metadata": {},
   "outputs": [
    {
     "data": {
      "image/png": "[encoded data removed]",
      "text/plain": [
       "<Figure size 640x480 with 1 Axes>"
      ]
     },
     "metadata": {},
     "output_type": "display_data"
    }
   ],
   "source": [
    "# Plot the change of accuracy during training\n",
    "plt.plot(history['train_accuracy'])\n",
    "plt.plot(history['val_accuracy'])\n",
    "plt.title('Model accuracy')\n",
    "plt.ylabel('Accuracy')\n",
    "plt.xlabel('Epoch')\n",
    "plt.legend(['Train', 'Val'], loc='upper left')\n",
    "plt.show()"
   ]
  },
  {
   "cell_type": "code",
   "execution_count": 30,
   "metadata": {},
   "outputs": [
    {
     "data": {
      "image/png": "[encoded data removed]",
      "text/plain": [
       "<Figure size 640x480 with 1 Axes>"
      ]
     },
     "metadata": {},
     "output_type": "display_data"
    }
   ],
   "source": [
    "# Plot the Area Under Curve(AUC) of loss during training\n",
    "plt.plot(history['train_auc_1'])\n",
    "plt.plot(history['val_auc_1'])\n",
    "plt.title('Model Area Under Curve')\n",
    "plt.ylabel('Area Under Curve')\n",
    "plt.xlabel('Epoch')\n",
    "plt.legend(['Train', 'Val'], loc='upper left')\n",
    "plt.show()"
   ]
  },
  {
   "cell_type": "markdown",
   "metadata": {},
   "source": [
    "## ExPloit Attack实现&测试"
   ]
  },
  {
   "cell_type": "code",
   "execution_count": 31,
   "metadata": {},
   "outputs": [],
   "source": [
    "epochs_attack = 10"
   ]
  },
  {
   "cell_type": "code",
   "execution_count": 32,
   "metadata": {},
   "outputs": [
    {
     "name": "stderr",
     "output_type": "stream",
     "text": [
      "INFO:root:SL Train Params: {'self': <ExP_attack.labelleakage.ExPloitattack.attach_ExPloitattack_to_splitnn_sf.<locals>.ExPloitAttackSplitNNWrapper_sf object at 0x7f8958494490>, 'x': VDataFrame(partitions={PYURuntime(client): Partition(data=<secretflow.device.device.pyu.PYUObject object at 0x7f8958494e20>), PYURuntime(server): Partition(data=<secretflow.device.device.pyu.PYUObject object at 0x7fa820214cd0>)}, aligned=True), 'y': VDataFrame(partitions={PYURuntime(server): Partition(data=<secretflow.device.device.pyu.PYUObject object at 0x7f8958485970>)}, aligned=True), 'batch_size': 1024, 'epochs': 10, 'verbose': 1, 'callbacks': None, 'test_data': (VDataFrame(partitions={PYURuntime(client): Partition(data=<secretflow.device.device.pyu.PYUObject object at 0x7f8958494df0>), PYURuntime(server): Partition(data=<secretflow.device.device.pyu.PYUObject object at 0x7fa82061a370>)}, aligned=True), VDataFrame(partitions={PYURuntime(server): Partition(data=<secretflow.device.device.pyu.PYUObject object at 0x7f8958485250>)}, aligned=True)), 'shuffle': False, 'sample_weight': None, 'dp_spent_step_freq': None, 'dataset_builder': None, 'audit_log_dir': None, 'audit_log_params': {}, 'random_seed': 60049, 'surrogate_builder': <function create_surrogate_model.<locals>.create_model at 0x7f8958499940>, 'args_dict': {'H_y': <tf.Tensor: shape=(), dtype=float64, numpy=0.012714681335936208>, 'y_pri': <tf.Tensor: shape=(1, 2), dtype=float32, numpy=array([[0.99827254, 0.00172749]], dtype=float32)>, 'batch_size': 1024}}\n",
      " 98%|█████████▊| 218/222 [00:01<00:00, 165.39it/s]"
     ]
    },
    {
     "name": "stdout",
     "output_type": "stream",
     "text": [
      "Model: \"sequential\"\n",
      "_________________________________________________________________\n",
      " Layer (type)                Output Shape              Param #   \n",
      "=================================================================\n",
      " dense (Dense)               (None, 64)                1344      \n",
      "                                                                 \n",
      " dense_1 (Dense)             (None, 1)                 65        \n",
      "                                                                 \n",
      "=================================================================\n",
      "Total params: 1,409\n",
      "Trainable params: 1,409\n",
      "Non-trainable params: 0\n",
      "_________________________________________________________________\n",
      "===================================================================================================\n",
      "Epoch 1/10, Loss: 0.0013, Accuracy: 0.9928, AUC: 0.9140\n",
      "===================================================================================================\n"
     ]
    },
    {
     "name": "stderr",
     "output_type": "stream",
     "text": [
      "WARNING:absl:Found untraced functions such as _update_step_xla while saving (showing 1 of 1). These functions will not be directly callable after loading.\n",
      "INFO:tensorflow:Assets written to: ./model/model.pth/assets\n",
      "100%|██████████| 222/222 [00:12<00:00, 165.39it/s]WARNING:absl:Found untraced functions such as _update_step_xla while saving (showing 1 of 1). These functions will not be directly callable after loading.\n"
     ]
    },
    {
     "name": "stdout",
     "output_type": "stream",
     "text": [
      "===================================================================================================\n",
      "Epoch 2/10, Loss: 0.0003, Accuracy: 0.9993, AUC: 0.9358\n",
      "===================================================================================================\n"
     ]
    },
    {
     "name": "stderr",
     "output_type": "stream",
     "text": [
      "INFO:tensorflow:Assets written to: ./model/model.pth/assets\n"
     ]
    },
    {
     "name": "stdout",
     "output_type": "stream",
     "text": [
      "===================================================================================================\n",
      "Epoch 3/10, Loss: 0.0003, Accuracy: 0.9993, AUC: 0.9371\n",
      "===================================================================================================\n"
     ]
    },
    {
     "name": "stderr",
     "output_type": "stream",
     "text": [
      "WARNING:absl:Found untraced functions such as _update_step_xla while saving (showing 1 of 1). These functions will not be directly callable after loading.\n",
      "INFO:tensorflow:Assets written to: ./model/model.pth/assets\n",
      "WARNING:absl:Found untraced functions such as _update_step_xla while saving (showing 1 of 1). These functions will not be directly callable after loading.\n"
     ]
    },
    {
     "name": "stdout",
     "output_type": "stream",
     "text": [
      "===================================================================================================\n",
      "Epoch 4/10, Loss: 0.0003, Accuracy: 0.9993, AUC: 0.9359\n",
      "===================================================================================================\n"
     ]
    },
    {
     "name": "stderr",
     "output_type": "stream",
     "text": [
      "INFO:tensorflow:Assets written to: ./model/model.pth/assets\n",
      "WARNING:absl:Found untraced functions such as _update_step_xla while saving (showing 1 of 1). These functions will not be directly callable after loading.\n"
     ]
    },
    {
     "name": "stdout",
     "output_type": "stream",
     "text": [
      "===================================================================================================\n",
      "Epoch 5/10, Loss: 0.0003, Accuracy: 0.9993, AUC: 0.9372\n",
      "===================================================================================================\n"
     ]
    },
    {
     "name": "stderr",
     "output_type": "stream",
     "text": [
      "INFO:tensorflow:Assets written to: ./model/model.pth/assets\n",
      "WARNING:absl:Found untraced functions such as _update_step_xla while saving (showing 1 of 1). These functions will not be directly callable after loading.\n"
     ]
    },
    {
     "name": "stdout",
     "output_type": "stream",
     "text": [
      "===================================================================================================\n",
      "Epoch 6/10, Loss: 0.0003, Accuracy: 0.9993, AUC: 0.9360\n",
      "===================================================================================================\n"
     ]
    },
    {
     "name": "stderr",
     "output_type": "stream",
     "text": [
      "INFO:tensorflow:Assets written to: ./model/model.pth/assets\n",
      "WARNING:absl:Found untraced functions such as _update_step_xla while saving (showing 1 of 1). These functions will not be directly callable after loading.\n"
     ]
    },
    {
     "name": "stdout",
     "output_type": "stream",
     "text": [
      "===================================================================================================\n",
      "Epoch 7/10, Loss: 0.0003, Accuracy: 0.9993, AUC: 0.9360\n",
      "===================================================================================================\n"
     ]
    },
    {
     "name": "stderr",
     "output_type": "stream",
     "text": [
      "INFO:tensorflow:Assets written to: ./model/model.pth/assets\n",
      "WARNING:absl:Found untraced functions such as _update_step_xla while saving (showing 1 of 1). These functions will not be directly callable after loading.\n"
     ]
    },
    {
     "name": "stdout",
     "output_type": "stream",
     "text": [
      "===================================================================================================\n",
      "Epoch 8/10, Loss: 0.0003, Accuracy: 0.9993, AUC: 0.9361\n",
      "===================================================================================================\n"
     ]
    },
    {
     "name": "stderr",
     "output_type": "stream",
     "text": [
      "INFO:tensorflow:Assets written to: ./model/model.pth/assets\n",
      "WARNING:absl:Found untraced functions such as _update_step_xla while saving (showing 1 of 1). These functions will not be directly callable after loading.\n"
     ]
    },
    {
     "name": "stdout",
     "output_type": "stream",
     "text": [
      "===================================================================================================\n",
      "Epoch 9/10, Loss: 0.0003, Accuracy: 0.9993, AUC: 0.9361\n",
      "===================================================================================================\n"
     ]
    },
    {
     "name": "stderr",
     "output_type": "stream",
     "text": [
      "INFO:tensorflow:Assets written to: ./model/model.pth/assets\n",
      "WARNING:absl:Found untraced functions such as _update_step_xla while saving (showing 1 of 1). These functions will not be directly callable after loading.\n"
     ]
    },
    {
     "name": "stdout",
     "output_type": "stream",
     "text": [
      "===================================================================================================\n",
      "Epoch 10/10, Loss: 0.0003, Accuracy: 0.9993, AUC: 0.9373\n",
      "===================================================================================================\n"
     ]
    },
    {
     "name": "stderr",
     "output_type": "stream",
     "text": [
      "INFO:tensorflow:Assets written to: ./model/model.pth/assets\n",
      "100%|██████████| 222/222 [01:00<00:00,  3.65it/s] "
     ]
    },
    {
     "name": "stdout",
     "output_type": "stream",
     "text": [
      "====================================================\n",
      "Test Accuracy: 0.9994, AUC: 0.9246\n"
     ]
    },
    {
     "name": "stderr",
     "output_type": "stream",
     "text": [
      "\n"
     ]
    }
   ],
   "source": [
    "ExPloitattacksplitnn.exploit_attack(train_data,\n",
    "    train_label,\n",
    "    test_data=(test_data,test_label),\n",
    "    epochs=epochs_attack,\n",
    "    batch_size=train_batch_size,\n",
    "    shuffle=False,\n",
    "    verbose=1,\n",
    "    surrogate_builder = surrogate_builder,\n",
    "    args_dict=args_dict)\n",
    "    # dp_spent_step_freq=dp_spent_step_freq,)"
   ]
  }
 ],
 "metadata": {
  "colab": {
   "provenance": []
  },
  "kernelspec": {
   "display_name": "sf",
   "language": "python",
   "name": "python3"
  },
  "language_info": {
   "codemirror_mode": {
    "name": "ipython",
    "version": 3
   },
   "file_extension": ".py",
   "mimetype": "text/x-python",
   "name": "python",
   "nbconvert_exporter": "python",
   "pygments_lexer": "ipython3",
   "version": "3.8.12"
  }
 },
 "nbformat": 4,
 "nbformat_minor": 1
}
