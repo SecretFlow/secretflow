{
 "cells": [
  {
   "cell_type": "code",
   "execution_count": 2,
   "metadata": {},
   "outputs": [],
   "source": [
    "import pandas as pd\n",
    "\n",
    "origin_data_path = (\n",
    "    \"/root/develop/Open_Source/ant-sf/secretflow/oscp/DCN/data/criteo_train_small.csv\"\n",
    ")\n",
    "origin_df = pd.read_csv(origin_data_path)"
   ]
  },
  {
   "cell_type": "code",
   "execution_count": 4,
   "metadata": {},
   "outputs": [],
   "source": [
    "columns = origin_df.columns\n",
    "train_alice = origin_df.sample(frac=0.1, axis='columns')\n",
    "train_bob = origin_df.drop(columns=train_alice.columns)\n",
    "if 'label' not in train_alice.columns:\n",
    "    train_alice['label'] = origin_df['label']\n",
    "    train_bob = train_bob.drop(columns=['label'])"
   ]
  },
  {
   "cell_type": "code",
   "execution_count": 5,
   "metadata": {},
   "outputs": [],
   "source": [
    "train_alice.to_csv(\n",
    "    \"/root/develop/Open_Source/ant-sf/secretflow/oscp/DCN/dcn_split/train_alice.csv\",\n",
    "    index=False,\n",
    "    sep=\"|\",\n",
    "    encoding='utf-8',\n",
    ")\n",
    "train_bob.to_csv(\n",
    "    \"/root/develop/Open_Source/ant-sf/secretflow/oscp/DCN/dcn_split/train_bob.csv\",\n",
    "    index=False,\n",
    "    sep=\"|\",\n",
    "    encoding='utf-8',\n",
    ")"
   ]
  },
  {
   "cell_type": "code",
   "execution_count": 6,
   "metadata": {},
   "outputs": [
    {
     "data": {
      "text/plain": [
       "Index(['C21', 'C35', 'I13', 'I1', 'C33', 'C30', 'C38', 'I5', 'C37', 'I12',\n",
       "       'C19', 'I11', 'I9', 'I8', 'I10', 'C24', 'C27', 'C34', 'label', 'C16'],\n",
       "      dtype='object')"
      ]
     },
     "execution_count": 6,
     "metadata": {},
     "output_type": "execute_result"
    }
   ],
   "source": [
    "train_alice.columns"
   ]
  },
  {
   "cell_type": "code",
   "execution_count": 7,
   "metadata": {},
   "outputs": [
    {
     "data": {
      "text/plain": [
       "Index(['I2', 'I3', 'I4', 'I6', 'I7', 'C14', 'C15', 'C17', 'C18', 'C20', 'C22',\n",
       "       'C23', 'C25', 'C26', 'C28', 'C29', 'C31', 'C32', 'C36', 'C39'],\n",
       "      dtype='object')"
      ]
     },
     "execution_count": 7,
     "metadata": {},
     "output_type": "execute_result"
    }
   ],
   "source": [
    "train_bob.columns"
   ]
  },
  {
   "cell_type": "code",
   "execution_count": 20,
   "metadata": {},
   "outputs": [],
   "source": [
    "origin_val_data_path = \"/root/develop/secretflowdev/OSCP/DCN/data/criteo_val_small.csv\"\n",
    "origin_val_df = pd.read_csv(origin_val_data_path)"
   ]
  },
  {
   "cell_type": "code",
   "execution_count": 21,
   "metadata": {},
   "outputs": [],
   "source": [
    "val_alice = origin_val_df[origin_val_df.columns.intersection(train_alice.columns)]\n",
    "val_bob = origin_val_df[origin_val_df.columns.intersection(train_bob.columns)]\n",
    "val_alice.to_csv(\"/root/develop/secretflowdev/OSCP/DCN/dcn_split/val_alice.csv\", index=False, sep=\"|\", encoding='utf-8')\n",
    "val_bob.to_csv(\"/root/develop/secretflowdev/OSCP/DCN/dcn_split/val_bob.csv\", index=False, sep=\"|\", encoding='utf-8')\n"
   ]
  },
  {
   "cell_type": "code",
   "execution_count": 22,
   "metadata": {},
   "outputs": [
    {
     "data": {
      "text/plain": [
       "Index(['I2', 'I5', 'I7', 'I8', 'I9', 'I10', 'I11', 'I12', 'C17', 'C19', 'C24',\n",
       "       'C25', 'C28', 'C31', 'C32', 'C33', 'C35', 'C36', 'C37', 'C39'],\n",
       "      dtype='object')"
      ]
     },
     "execution_count": 22,
     "metadata": {},
     "output_type": "execute_result"
    }
   ],
   "source": [
    "val_alice.columns"
   ]
  },
  {
   "cell_type": "markdown",
   "metadata": {},
   "source": [
    "构造dataloader"
   ]
  },
  {
   "cell_type": "code",
   "execution_count": 12,
   "metadata": {},
   "outputs": [],
   "source": [
    "import torch\n",
    "from torch.utils.data import DataLoader, Dataset\n",
    "from dataset import CriteoDataset\n",
    "\n",
    "class AliceDataset(Dataset):\n",
    "    def __init__(self, df, label_df, vocab_dir):\n",
    "        self.df = df\n",
    "        self.label_df = label_df\n",
    "\n",
    "        cat_features = [x for x in self.df.columns if x.startswith('C')]\n",
    "        num_features = [x for x in self.df.columns if x.startswith('I')]\n",
    "\n",
    "        self.x_cat = torch.tensor(self.df[cat_features].values, dtype=torch.long) if cat_features else None\n",
    "        self.x_num = torch.tensor(self.df[num_features].values, dtype=torch.float32) if num_features else None\n",
    "\n",
    "        self.y = torch.tensor(self.label_df.values, dtype=torch.int)\n",
    "        \n",
    "    def __getitem__(self, index):\n",
    "        # x_cat = torch.tensor([int(self.df['C'])])\n",
    "        return ((self.x_cat[index], self.x_num[index]), self.y[index])\n",
    "    \n",
    "    def __len__(self):\n",
    "        return len(self.y)\n",
    "\n",
    "class BobDataset(Dataset):\n",
    "    def __init__(self, df, vocab_dir):\n",
    "        self.df = df\n",
    "\n",
    "        cat_features = [x for x in self.df.columns if x.startswith('C')]\n",
    "        num_features = [x for x in self.df.columns if x.startswith('I')]\n",
    "\n",
    "        self.x_cat = torch.tensor(self.df[cat_features].values, dtype=torch.long) if cat_features else None\n",
    "        self.x_num = torch.tensor(self.df[num_features].values, dtype=torch.float32) if num_features else None\n",
    "\n",
    "        \n",
    "    def __getitem__(self, index):\n",
    "        # x_cat = torch.tensor([int(self.df['C'])])\n",
    "        return (self.x_cat[index], self.x_num[index])\n",
    "    \n",
    "    def __len__(self):\n",
    "        return len(self.df)\n",
    "\n",
    "\n"
   ]
  },
  {
   "cell_type": "code",
   "execution_count": 13,
   "metadata": {},
   "outputs": [],
   "source": [
    "gen_data_path = r'/root/develop/secretflowdev/OSCP/DCN/dcn_split'\n",
    "\n",
    "\n",
    "def create_dataset_builder_alice(batch_size=32):\n",
    "    def dataset_builder(x):\n",
    "        data_set = AliceDataset(x[0], x[1], gen_data_path)\n",
    "        dataloader = DataLoader(\n",
    "            dataset=data_set,\n",
    "            batch_size=batch_size,\n",
    "        )\n",
    "        return dataloader\n",
    "\n",
    "    return dataset_builder"
   ]
  },
  {
   "cell_type": "code",
   "execution_count": 14,
   "metadata": {},
   "outputs": [],
   "source": [
    "def create_dataset_builder_bob(batch_size=32):\n",
    "    def dataset_builder(x):\n",
    "        data_set = BobDataset(x[0], gen_data_path)\n",
    "        dataloader = DataLoader(\n",
    "            dataset=data_set,\n",
    "            batch_size=batch_size,\n",
    "        )\n",
    "        return dataloader\n",
    "\n",
    "    return dataset_builder"
   ]
  },
  {
   "cell_type": "code",
   "execution_count": 15,
   "metadata": {},
   "outputs": [
    {
     "name": "stdout",
     "output_type": "stream",
     "text": [
      "The version of SecretFlow: 1.3.0.dev20231120\n"
     ]
    },
    {
     "name": "stderr",
     "output_type": "stream",
     "text": [
      "2024-01-05 09:56:02,940\tINFO worker.py:1538 -- Started a local Ray instance.\n"
     ]
    }
   ],
   "source": [
    "import secretflow as sf\n",
    "\n",
    "# Check the version of your SecretFlow\n",
    "print('The version of SecretFlow: {}'.format(sf.__version__))\n",
    "\n",
    "# In case you have a running secretflow runtime already.\n",
    "sf.shutdown()\n",
    "sf.init(['alice', 'bob'], address=\"local\", log_to_driver=False)\n",
    "alice, bob = sf.PYU('alice'), sf.PYU('bob')\n",
    "\n",
    "\n",
    "batch_size = 8\n",
    "dataset_buidler_dict = {\n",
    "    alice: create_dataset_builder_alice(batch_size=batch_size),\n",
    "    bob: create_dataset_builder_bob(\n",
    "        batch_size=batch_size,\n",
    "    ),\n",
    "}"
   ]
  },
  {
   "cell_type": "markdown",
   "metadata": {},
   "source": [
    "构建模型"
   ]
  },
  {
   "cell_type": "code",
   "execution_count": 16,
   "metadata": {},
   "outputs": [],
   "source": [
    "from sl_dcn_torch import DCNBase, DCNFuse\n",
    "\n",
    "train_alice = pd.read_csv(\"/root/develop/secretflowdev/OSCP/DCN/dcn_split/train_alice.csv\", sep=\"|\")\n",
    "train_bob = pd.read_csv(\"/root/develop/secretflowdev/OSCP/DCN/dcn_split/train_bob.csv\", sep=\"|\")\n",
    "cat_features_alice = [x for x in train_alice.columns if x.startswith('C')]\n",
    "num_features_alice = [x for x in train_alice.columns if x.startswith('I')]\n",
    "cat_features_bob = [x for x in train_bob.columns if x.startswith('C')]\n",
    "num_features_bob = [x for x in train_bob.columns if x.startswith('I')]\n",
    "\n"
   ]
  },
  {
   "cell_type": "code",
   "execution_count": 17,
   "metadata": {},
   "outputs": [],
   "source": [
    "d_numerical_alice = train_alice[num_features_alice].values.shape[1]\n",
    "categorical_alice = [train_alice[col].max()+1 for col in cat_features_alice]\n",
    "\n",
    "d_numerical_bob = train_bob[num_features_bob].values.shape[1]\n",
    "categorical_bob = [train_bob[col].max()+1 for col in cat_features_bob]"
   ]
  },
  {
   "cell_type": "code",
   "execution_count": 19,
   "metadata": {},
   "outputs": [
    {
     "data": {
      "text/plain": [
       "(8,\n",
       " [30956, 16, 1855, 41283, 268488, 4, 16, 15, 4731, 3881, 120965, 8934],\n",
       " 5,\n",
       " [1261,\n",
       "  531,\n",
       "  321439,\n",
       "  267,\n",
       "  10863,\n",
       "  563,\n",
       "  3,\n",
       "  30792,\n",
       "  3068,\n",
       "  26,\n",
       "  205924,\n",
       "  10,\n",
       "  240748,\n",
       "  70])"
      ]
     },
     "execution_count": 19,
     "metadata": {},
     "output_type": "execute_result"
    }
   ],
   "source": [
    "d_numerical_alice, categorical_alice, d_numerical_bob, categorical_bob"
   ]
  },
  {
   "cell_type": "code",
   "execution_count": 20,
   "metadata": {},
   "outputs": [],
   "source": [
    "def create_base_model_alice():\n",
    "    model = DCNBase(\n",
    "        d_numerical=d_numerical_alice,\n",
    "        categories=categorical_alice,\n",
    "        d_embed_max=8,\n",
    "        n_cross=2,\n",
    "        mlp_layers=[128, 64, 32],\n",
    "        mlp_dropout=0.25\n",
    "    )\n",
    "    \n",
    "    return model\n",
    "    "
   ]
  },
  {
   "cell_type": "code",
   "execution_count": 21,
   "metadata": {},
   "outputs": [],
   "source": [
    "def create_base_model_bob():\n",
    "    model = DCNBase(\n",
    "        d_numerical=d_numerical_bob,\n",
    "        categories=categorical_bob,\n",
    "        d_embed_max=8,\n",
    "        n_cross=2,\n",
    "        mlp_layers=[128, 64, 32],\n",
    "        mlp_dropout=0.25\n",
    "    )\n",
    "    \n",
    "    return model"
   ]
  },
  {
   "cell_type": "code",
   "execution_count": 22,
   "metadata": {},
   "outputs": [],
   "source": [
    "def create_fuse_model():\n",
    "    model = DCNFuse(\n",
    "        n_classes= 1,\n",
    "        deep_dim_out=9, \n",
    "        cross_dim_out= 32\n",
    "    )\n",
    "    \n",
    "    return model"
   ]
  },
  {
   "cell_type": "code",
   "execution_count": 23,
   "metadata": {},
   "outputs": [],
   "source": [
    "from torch import nn, optim\n",
    "from torchmetrics import AUROC, Accuracy, Precision\n",
    "from secretflow.ml.nn.fl.utils import metric_wrapper, optim_wrapper\n",
    "from secretflow.ml.nn.utils import TorchModel\n",
    "from secretflow.ml.nn import SLModel"
   ]
  },
  {
   "cell_type": "code",
   "execution_count": 24,
   "metadata": {},
   "outputs": [],
   "source": [
    "loss_fn = nn.BCEWithLogitsLoss\n",
    "optim_fn = optim_wrapper(optim.Adam, lr=0.002, weight_decay=0.001)"
   ]
  },
  {
   "cell_type": "code",
   "execution_count": 26,
   "metadata": {},
   "outputs": [],
   "source": [
    "base_model_alice = TorchModel(\n",
    "    model_fn=create_base_model_alice(),\n",
    "    loss_fn=loss_fn,\n",
    "    optim_fn=optim_fn,\n",
    "    metrics=[\n",
    "        metric_wrapper(Accuracy, task=\"binary\", num_classes=2, average='micro'),\n",
    "        metric_wrapper(AUROC, task=\"binary\"),\n",
    "        metric_wrapper(Precision, task=\"binary\", num_classes=2, average='micro'),\n",
    "    ]\n",
    ")\n",
    "\n",
    "base_model_bob = TorchModel(\n",
    "    model_fn=create_base_model_bob(),\n",
    "    loss_fn=loss_fn,\n",
    "    optim_fn=optim_fn,\n",
    "    metrics=[\n",
    "        metric_wrapper(Accuracy, task=\"binary\", num_classes=2, average='micro'),\n",
    "        metric_wrapper(AUROC, task=\"binary\"),\n",
    "        metric_wrapper(Precision, task=\"binary\", num_classes=2, average='micro'),\n",
    "    ]\n",
    ")"
   ]
  },
  {
   "cell_type": "code",
   "execution_count": 28,
   "metadata": {},
   "outputs": [
    {
     "ename": "AttributeError",
     "evalue": "cannot assign module before Module.__init__() call",
     "output_type": "error",
     "traceback": [
      "\u001b[0;31m---------------------------------------------------------------------------\u001b[0m",
      "\u001b[0;31mAttributeError\u001b[0m                            Traceback (most recent call last)",
      "\u001b[1;32m/root/develop/secretflowdev/OSCP/DCN/dcn_torch.ipynb 单元格 25\u001b[0m line \u001b[0;36m2\n\u001b[1;32m      <a href='vscode-notebook-cell://wsl%2Bubuntu/root/develop/secretflowdev/OSCP/DCN/dcn_torch.ipynb#X33sdnNjb2RlLXJlbW90ZQ%3D%3D?line=0'>1</a>\u001b[0m fuse_model \u001b[39m=\u001b[39m TorchModel(\n\u001b[0;32m----> <a href='vscode-notebook-cell://wsl%2Bubuntu/root/develop/secretflowdev/OSCP/DCN/dcn_torch.ipynb#X33sdnNjb2RlLXJlbW90ZQ%3D%3D?line=1'>2</a>\u001b[0m     model_fn\u001b[39m=\u001b[39mcreate_fuse_model(),\n\u001b[1;32m      <a href='vscode-notebook-cell://wsl%2Bubuntu/root/develop/secretflowdev/OSCP/DCN/dcn_torch.ipynb#X33sdnNjb2RlLXJlbW90ZQ%3D%3D?line=2'>3</a>\u001b[0m     loss_fn\u001b[39m=\u001b[39mloss_fn,\n\u001b[1;32m      <a href='vscode-notebook-cell://wsl%2Bubuntu/root/develop/secretflowdev/OSCP/DCN/dcn_torch.ipynb#X33sdnNjb2RlLXJlbW90ZQ%3D%3D?line=3'>4</a>\u001b[0m     optim_fn\u001b[39m=\u001b[39moptim_fn,\n\u001b[1;32m      <a href='vscode-notebook-cell://wsl%2Bubuntu/root/develop/secretflowdev/OSCP/DCN/dcn_torch.ipynb#X33sdnNjb2RlLXJlbW90ZQ%3D%3D?line=4'>5</a>\u001b[0m     metrics\u001b[39m=\u001b[39m[\n\u001b[1;32m      <a href='vscode-notebook-cell://wsl%2Bubuntu/root/develop/secretflowdev/OSCP/DCN/dcn_torch.ipynb#X33sdnNjb2RlLXJlbW90ZQ%3D%3D?line=5'>6</a>\u001b[0m         metric_wrapper(Accuracy, task\u001b[39m=\u001b[39m\u001b[39m\"\u001b[39m\u001b[39mbinary\u001b[39m\u001b[39m\"\u001b[39m, num_classes\u001b[39m=\u001b[39m\u001b[39m1\u001b[39m, average\u001b[39m=\u001b[39m\u001b[39m'\u001b[39m\u001b[39mmicro\u001b[39m\u001b[39m'\u001b[39m),\n\u001b[1;32m      <a href='vscode-notebook-cell://wsl%2Bubuntu/root/develop/secretflowdev/OSCP/DCN/dcn_torch.ipynb#X33sdnNjb2RlLXJlbW90ZQ%3D%3D?line=6'>7</a>\u001b[0m         metric_wrapper(Precision, task\u001b[39m=\u001b[39m\u001b[39m\"\u001b[39m\u001b[39mbinary\u001b[39m\u001b[39m\"\u001b[39m, num_classes\u001b[39m=\u001b[39m\u001b[39m1\u001b[39m, average\u001b[39m=\u001b[39m\u001b[39m'\u001b[39m\u001b[39mmicro\u001b[39m\u001b[39m'\u001b[39m),\n\u001b[1;32m      <a href='vscode-notebook-cell://wsl%2Bubuntu/root/develop/secretflowdev/OSCP/DCN/dcn_torch.ipynb#X33sdnNjb2RlLXJlbW90ZQ%3D%3D?line=7'>8</a>\u001b[0m         metric_wrapper(AUROC, task\u001b[39m=\u001b[39m\u001b[39m\"\u001b[39m\u001b[39mbinary\u001b[39m\u001b[39m\"\u001b[39m, num_classes\u001b[39m=\u001b[39m\u001b[39m1\u001b[39m),\n\u001b[1;32m      <a href='vscode-notebook-cell://wsl%2Bubuntu/root/develop/secretflowdev/OSCP/DCN/dcn_torch.ipynb#X33sdnNjb2RlLXJlbW90ZQ%3D%3D?line=8'>9</a>\u001b[0m     ],\n\u001b[1;32m     <a href='vscode-notebook-cell://wsl%2Bubuntu/root/develop/secretflowdev/OSCP/DCN/dcn_torch.ipynb#X33sdnNjb2RlLXJlbW90ZQ%3D%3D?line=9'>10</a>\u001b[0m )\n",
      "\u001b[1;32m/root/develop/secretflowdev/OSCP/DCN/dcn_torch.ipynb 单元格 25\u001b[0m line \u001b[0;36m2\n\u001b[1;32m      <a href='vscode-notebook-cell://wsl%2Bubuntu/root/develop/secretflowdev/OSCP/DCN/dcn_torch.ipynb#X33sdnNjb2RlLXJlbW90ZQ%3D%3D?line=0'>1</a>\u001b[0m \u001b[39mdef\u001b[39;00m \u001b[39mcreate_fuse_model\u001b[39m():\n\u001b[0;32m----> <a href='vscode-notebook-cell://wsl%2Bubuntu/root/develop/secretflowdev/OSCP/DCN/dcn_torch.ipynb#X33sdnNjb2RlLXJlbW90ZQ%3D%3D?line=1'>2</a>\u001b[0m     model \u001b[39m=\u001b[39m DCNFuse(\n\u001b[1;32m      <a href='vscode-notebook-cell://wsl%2Bubuntu/root/develop/secretflowdev/OSCP/DCN/dcn_torch.ipynb#X33sdnNjb2RlLXJlbW90ZQ%3D%3D?line=2'>3</a>\u001b[0m         n_classes\u001b[39m=\u001b[39;49m \u001b[39m1\u001b[39;49m,\n\u001b[1;32m      <a href='vscode-notebook-cell://wsl%2Bubuntu/root/develop/secretflowdev/OSCP/DCN/dcn_torch.ipynb#X33sdnNjb2RlLXJlbW90ZQ%3D%3D?line=3'>4</a>\u001b[0m         deep_dim_out\u001b[39m=\u001b[39;49m\u001b[39m9\u001b[39;49m, \n\u001b[1;32m      <a href='vscode-notebook-cell://wsl%2Bubuntu/root/develop/secretflowdev/OSCP/DCN/dcn_torch.ipynb#X33sdnNjb2RlLXJlbW90ZQ%3D%3D?line=4'>5</a>\u001b[0m         cross_dim_out\u001b[39m=\u001b[39;49m \u001b[39m32\u001b[39;49m\n\u001b[1;32m      <a href='vscode-notebook-cell://wsl%2Bubuntu/root/develop/secretflowdev/OSCP/DCN/dcn_torch.ipynb#X33sdnNjb2RlLXJlbW90ZQ%3D%3D?line=5'>6</a>\u001b[0m     )\n\u001b[1;32m      <a href='vscode-notebook-cell://wsl%2Bubuntu/root/develop/secretflowdev/OSCP/DCN/dcn_torch.ipynb#X33sdnNjb2RlLXJlbW90ZQ%3D%3D?line=7'>8</a>\u001b[0m     \u001b[39mreturn\u001b[39;00m model\n",
      "File \u001b[0;32m~/develop/secretflowdev/OSCP/DCN/sl_dcn_torch.py:146\u001b[0m, in \u001b[0;36mDCNFuse.__init__\u001b[0;34m(self, n_classes, deep_dim_out, cross_dim_out)\u001b[0m\n\u001b[1;32m    139\u001b[0m \u001b[39mdef\u001b[39;00m \u001b[39m__init__\u001b[39m(\n\u001b[1;32m    140\u001b[0m     \u001b[39mself\u001b[39m,\n\u001b[1;32m    141\u001b[0m     n_classes \u001b[39m=\u001b[39m \u001b[39m1\u001b[39m,\n\u001b[1;32m    142\u001b[0m     deep_dim_out \u001b[39m=\u001b[39m \u001b[39m9\u001b[39m,\n\u001b[1;32m    143\u001b[0m     cross_dim_out \u001b[39m=\u001b[39m \u001b[39m32\u001b[39m):\n\u001b[1;32m    144\u001b[0m     \u001b[39msuper\u001b[39m(DCNFuse)\u001b[39m.\u001b[39m\u001b[39m__init__\u001b[39m()\n\u001b[0;32m--> 146\u001b[0m     \u001b[39mself\u001b[39;49m\u001b[39m.\u001b[39;49mstack \u001b[39m=\u001b[39m nn\u001b[39m.\u001b[39mLinear(\u001b[39m2\u001b[39m\u001b[39m*\u001b[39m(deep_dim_out\u001b[39m+\u001b[39m cross_dim_out), n_classes)\n",
      "File \u001b[0;32m~/miniconda3/envs/sf/lib/python3.8/site-packages/torch/nn/modules/module.py:1643\u001b[0m, in \u001b[0;36mModule.__setattr__\u001b[0;34m(self, name, value)\u001b[0m\n\u001b[1;32m   1641\u001b[0m \u001b[39mif\u001b[39;00m \u001b[39misinstance\u001b[39m(value, Module):\n\u001b[1;32m   1642\u001b[0m     \u001b[39mif\u001b[39;00m modules \u001b[39mis\u001b[39;00m \u001b[39mNone\u001b[39;00m:\n\u001b[0;32m-> 1643\u001b[0m         \u001b[39mraise\u001b[39;00m \u001b[39mAttributeError\u001b[39;00m(\n\u001b[1;32m   1644\u001b[0m             \u001b[39m\"\u001b[39m\u001b[39mcannot assign module before Module.__init__() call\u001b[39m\u001b[39m\"\u001b[39m)\n\u001b[1;32m   1645\u001b[0m     remove_from(\u001b[39mself\u001b[39m\u001b[39m.\u001b[39m\u001b[39m__dict__\u001b[39m, \u001b[39mself\u001b[39m\u001b[39m.\u001b[39m_parameters, \u001b[39mself\u001b[39m\u001b[39m.\u001b[39m_buffers, \u001b[39mself\u001b[39m\u001b[39m.\u001b[39m_non_persistent_buffers_set)\n\u001b[1;32m   1646\u001b[0m     \u001b[39mfor\u001b[39;00m hook \u001b[39min\u001b[39;00m _global_module_registration_hooks\u001b[39m.\u001b[39mvalues():\n",
      "\u001b[0;31mAttributeError\u001b[0m: cannot assign module before Module.__init__() call"
     ]
    }
   ],
   "source": [
    "fuse_model = TorchModel(\n",
    "    model_fn=create_fuse_model(),\n",
    "    loss_fn=loss_fn,\n",
    "    optim_fn=optim_fn,\n",
    "    metrics=[\n",
    "        metric_wrapper(Accuracy, task=\"binary\", num_classes=1, average='micro'),\n",
    "        metric_wrapper(Precision, task=\"binary\", num_classes=1, average='micro'),\n",
    "        metric_wrapper(AUROC, task=\"binary\", num_classes=1),\n",
    "    ],\n",
    ")"
   ]
  },
  {
   "cell_type": "code",
   "execution_count": null,
   "metadata": {},
   "outputs": [],
   "source": []
  },
  {
   "cell_type": "code",
   "execution_count": null,
   "metadata": {},
   "outputs": [],
   "source": []
  }
 ],
 "metadata": {
  "kernelspec": {
   "display_name": "sf",
   "language": "python",
   "name": "python3"
  },
  "language_info": {
   "codemirror_mode": {
    "name": "ipython",
    "version": 3
   },
   "file_extension": ".py",
   "mimetype": "text/x-python",
   "name": "python",
   "nbconvert_exporter": "python",
   "pygments_lexer": "ipython3",
   "version": "3.8.18"
  }
 },
 "nbformat": 4,
 "nbformat_minor": 2
}
