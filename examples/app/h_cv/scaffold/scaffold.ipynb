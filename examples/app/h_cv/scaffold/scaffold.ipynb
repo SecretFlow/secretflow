{
    "cells": [
        {
            "cell_type": "code",
            "execution_count": 1,
            "id": "initial_id",
            "metadata": {
                "collapsed": true,
                "ExecuteTime": {
                    "end_time": "2024-01-18T03:48:38.720653100Z",
                    "start_time": "2024-01-18T03:48:38.651885300Z",
                },
            },
            "outputs": [],
            "source": ["%load_ext autoreload\n", "%autoreload 2"],
        },
        {
            "cell_type": "code",
            "execution_count": 2,
            "outputs": [
                {
                    "name": "stdout",
                    "output_type": "stream",
                    "text": ["The version of SecretFlow: 1.3.0.dev20231219\n"],
                },
                {
                    "name": "stderr",
                    "output_type": "stream",
                    "text": [
                        "2024-01-18 11:48:41,569\tINFO worker.py:1538 -- Started a local Ray instance.\n"
                    ],
                },
            ],
            "source": [
                "import secretflow as sf\n",
                "\n",
                "# Check the version of your SecretFlow\n",
                "print('The version of SecretFlow: {}'.format(sf.__version__))\n",
                "\n",
                "# In case you have a running secretflow runtime already.\n",
                "sf.shutdown()\n",
                "\n",
                "sf.init(['alice', 'bob', 'charlie'], address='local')\n",
                "alice, bob, charlie = sf.PYU('alice'), sf.PYU('bob'), sf.PYU('charlie')",
            ],
            "metadata": {
                "collapsed": false,
                "ExecuteTime": {
                    "end_time": "2024-01-18T03:48:41.722008600Z",
                    "start_time": "2024-01-18T03:48:38.695761400Z",
                },
            },
            "id": "a8d7112513230b37",
        },
        {
            "cell_type": "code",
            "execution_count": 3,
            "outputs": [
                {
                    "name": "stderr",
                    "output_type": "stream",
                    "text": [
                        "2024-01-18 11:48:42.374187: W tensorflow/compiler/xla/stream_executor/platform/default/dso_loader.cc:64] Could not load dynamic library 'libcudart.so.11.0'; dlerror: libcudart.so.11.0: cannot open shared object file: No such file or directory\n",
                        "2024-01-18 11:48:42.850080: W tensorflow/compiler/xla/stream_executor/platform/default/dso_loader.cc:64] Could not load dynamic library 'libnvinfer.so.7'; dlerror: libnvinfer.so.7: cannot open shared object file: No such file or directory\n",
                        "2024-01-18 11:48:42.850127: W tensorflow/compiler/xla/stream_executor/platform/default/dso_loader.cc:64] Could not load dynamic library 'libnvinfer_plugin.so.7'; dlerror: libnvinfer_plugin.so.7: cannot open shared object file: No such file or directory\n",
                        "2024-01-18 11:48:42.850133: W tensorflow/compiler/tf2tensorrt/utils/py_utils.cc:38] TF-TRT Warning: Cannot dlopen some TensorRT libraries. If you would like to use Nvidia GPU with TensorRT, please make sure the missing libraries mentioned above are installed properly.\n",
                    ],
                }
            ],
            "source": [
                "from secretflow.ml.nn.utils import BaseModule, TorchModel\n",
                "from secretflow.ml.nn.fl.utils import metric_wrapper, optim_wrapper\n",
                "from secretflow.ml.nn import FLModel\n",
                "from torchmetrics import Accuracy, Precision\n",
                "from secretflow.security.aggregation import SecureAggregator\n",
                "from torch import nn, optim",
            ],
            "metadata": {
                "collapsed": false,
                "ExecuteTime": {
                    "end_time": "2024-01-18T03:48:43.722556200Z",
                    "start_time": "2024-01-18T03:48:41.723008800Z",
                },
            },
            "id": "3648cba75ddcff80",
        },
        {
            "cell_type": "code",
            "execution_count": 4,
            "outputs": [],
            "source": [
                "class Model(BaseModule):\n",
                "    def __init__(self):\n",
                "        super(Model, self).__init__()\n",
                "        self.encoder = nn.Sequential(\n",
                "            nn.Flatten(1),\n",
                "            nn.Linear(784, 200),\n",
                "            nn.ReLU(),\n",
                "            nn.Linear(200, 200),\n",
                "            nn.ReLU()\n",
                "        )\n",
                "        self.head = nn.Linear(200, 10)\n",
                "    def forward(self, x):\n",
                "        x = self.encoder(x)\n",
                "        x = self.head(x)\n",
                "        return x",
            ],
            "metadata": {
                "collapsed": false,
                "ExecuteTime": {
                    "end_time": "2024-01-18T03:48:43.749636600Z",
                    "start_time": "2024-01-18T03:48:43.723556Z",
                },
            },
            "id": "42fc5961e4a71f8e",
        },
        {
            "cell_type": "code",
            "execution_count": 5,
            "outputs": [],
            "source": [
                "from typing import Dict, List, Tuple, Union\n",
                "import numpy as np\n",
                "\n",
                "from secretflow.data.ndarray import FedNdarray, PartitionWay\n",
                "from secretflow.device.device.pyu import PYU\n",
                "\n",
                "from torchvision.datasets import EMNIST\n",
                "from torchvision import transforms\n",
                "from torch.utils.data import DataLoader\n",
                "\n",
                "def load_emnist(\n",
                "        parts: Union[List[PYU], Dict[PYU, Union[float, Tuple]]],\n",
                "        batch_size: int = 1,\n",
                "        is_torch: bool = True,\n",
                "        num_classes_per_client=4,\n",
                ") -> Tuple[Tuple[FedNdarray, FedNdarray], Tuple[FedNdarray, FedNdarray]]:\n",
                '    """Load EMNIST dataset to federated ndarrays.\n',
                "\n",
                "    Args:\n",
                "        parts: the data partitions.\n",
                "        batch_size: Batch size for the DataLoader.\n",
                "        is_torch: optional, return torch tensors if True. Default to True.\n",
                "\n",
                "    Returns:\n",
                "        A tuple consists of two tuples, (x_train, y_train) and (x_test, y_test).\n",
                '    """\n',
                "    transform = transforms.Compose([\n",
                "        transforms.ToTensor(),\n",
                "        transforms.Normalize((0.5,), (0.5,))\n",
                "    ])\n",
                "\n",
                "    # 加载 EMNIST 训练集和测试集\n",
                "    trainset = EMNIST(root='./data', train=True, split='mnist', download=True, transform=transform)\n",
                "    testset = EMNIST(root='./data', train=False, split='mnist', download=True, transform=transform)\n",
                "    # EMNIST 数据集主要分为6类：By_Class, By_Merge, Balanced, Digits, Letters, MNIST，其中 MNIST 部分数据较少，共70000张10个子类数据\n",
                "    # 这里使用的是 EMNIST 数据集中的MNIST部分，原论文未对数据集细节进行描述，大概率是使用的整个EMNIST数据集，因此准确率会较低\n",
                "\n",
                "    # 使用 DataLoader 进行批处理\n",
                "    trainloader = DataLoader(trainset, batch_size=batch_size, shuffle=True)\n",
                "    testloader = DataLoader(testset, batch_size=batch_size, shuffle=False)\n",
                "\n",
                "    # 将 DataLoader 转换为 SecretFlow 可处理的格式\n",
                "    # 注意: 这里需要根据 SecretFlow 的要求进行适当的转换\n",
                "    train_data, train_labels = _convert_to_fedndarray(trainloader, parts, is_torch)\n",
                "    test_data, test_labels = _convert_to_fedndarray(testloader, parts, is_torch)\n",
                "\n",
                "    return ((train_data, train_labels), (test_data, test_labels))\n",
                "\n",
                "def _convert_to_fedndarray(dataloader, parts, is_torch):\n",
                "    data_list = []\n",
                "    label_list = []\n",
                "    for data, label in dataloader:\n",
                "        if is_torch:\n",
                "            data = data.numpy()\n",
                "            label = label.numpy()\n",
                "        data_list.append(data)\n",
                "        label_list.append(label)\n",
                "    data_list, label_list = np.concatenate(data_list), np.concatenate(label_list)\n",
                "    return create_emnist_ndarray(data_list, label_list, parts=parts, is_torch=is_torch)\n",
                "\n",
                "def create_emnist_ndarray(data, labels, parts, is_torch=False, num_classes_per_client=4):\n",
                '    assert len(data) == len(labels), "Data and labels must have the same length"\n',
                "    class_indices = {i: np.where(labels == i)[0] for i in range(10)}\n",
                "\n",
                "    # 分配给每个 PYU 的类别\n",
                "    pyu_classes = {}\n",
                "    total_samples = len(data)\n",
                "    for idx, pyu in enumerate(parts.keys()):\n",
                "        np.random.seed(idx)\n",
                "        pyu_classes[pyu] = np.random.choice(10, num_classes_per_client, replace=False)  # 随机选择 4 个类别\n",
                "\n",
                "    # 分配数据和标签给每个 PYU\n",
                "    pyu_data = {}\n",
                "    pyu_labels = {}\n",
                "    for pyu, proportion in parts.items():\n",
                "        pyu_sample_size = int(total_samples * proportion)  # 计算每个 PYU 的样本量\n",
                "        # 为每个 PYU 从选定的类别中采样数据\n",
                "        indices = np.concatenate(\n",
                "            [np.random.choice(class_indices[cls], size=pyu_sample_size // num_classes_per_client, replace=True) for cls\n",
                "             in pyu_classes[pyu]])\n",
                "        np.random.shuffle(indices)  # 打乱索引\n",
                "        pyu_data[pyu] = data[indices]\n",
                "        pyu_labels[pyu] = labels[indices]\n",
                "        print(len(pyu_data[pyu]), pyu_classes[pyu],pyu_labels[pyu][0])  # 打印每个PYU的数据量和随机类别\n",
                "\n",
                "    # 将数据和标签转换为 FedNdarray\n",
                "    data_fedndarray = FedNdarray(\n",
                "        partitions={\n",
                "            pyu: pyu(lambda arr: arr)(pyu_data[pyu]) for pyu in parts.keys()\n",
                "        },\n",
                "        partition_way=PartitionWay.HORIZONTAL,\n",
                "    )\n",
                "    labels_fedndarray = FedNdarray(\n",
                "        partitions={\n",
                "            pyu: pyu(lambda arr: arr)(pyu_labels[pyu]) for pyu in parts.keys()\n",
                "        },\n",
                "        partition_way=PartitionWay.HORIZONTAL,\n",
                "    )\n",
                "\n",
                "    return data_fedndarray, labels_fedndarray",
            ],
            "metadata": {
                "collapsed": false,
                "ExecuteTime": {
                    "end_time": "2024-01-18T03:48:43.782150600Z",
                    "start_time": "2024-01-18T03:48:43.756143100Z",
                },
            },
            "id": "567ca2eef485ecd4",
        },
        {
            "cell_type": "code",
            "execution_count": 6,
            "outputs": [
                {
                    "name": "stdout",
                    "output_type": "stream",
                    "text": [
                        "6000 [2 8 4 9] 8\n",
                        "6000 [2 9 6 4] 4\n",
                        "1000 [2 8 4 9] 4\n",
                        "1000 [2 9 6 4] 6\n",
                    ],
                }
            ],
            "source": [
                "(train_data, train_label), (test_data, test_label) = load_emnist(\n",
                "    parts={alice: 0.1, bob: 0.1},\n",
                "    is_torch=True,\n",
                "    num_classes_per_client = 4,\n",
                ")\n",
                "loss_fn = nn.CrossEntropyLoss\n",
                "optim_fn = optim_wrapper(optim.SGD, lr=0.01)\n",
                "model_def = TorchModel(\n",
                "    model_fn=Model,\n",
                "    loss_fn=loss_fn,\n",
                "    optim_fn=optim_fn,\n",
                "    metrics=[\n",
                "        metric_wrapper(Accuracy, task=\"multiclass\", num_classes=10, average='micro'),\n",
                "        metric_wrapper(Precision, task=\"multiclass\", num_classes=10, average='micro'),\n",
                "    ],\n",
                ")",
            ],
            "metadata": {
                "collapsed": false,
                "ExecuteTime": {
                    "end_time": "2024-01-18T03:48:55.768472200Z",
                    "start_time": "2024-01-18T03:48:43.783142400Z",
                },
            },
            "id": "f420ce80c650070e",
        },
        {
            "cell_type": "code",
            "execution_count": 7,
            "outputs": [
                {
                    "name": "stderr",
                    "output_type": "stream",
                    "text": [
                        "INFO:root:Create proxy actor <class 'secretflow.security.aggregation.secure_aggregator._Masker'> with party alice.\n",
                        "INFO:root:Create proxy actor <class 'secretflow.security.aggregation.secure_aggregator._Masker'> with party bob.\n",
                        "INFO:root:Create proxy actor <class 'secretflow.ml.nn.fl.backend.torch.strategy.scaffold.PYUScaffold'> with party alice.\n",
                        "INFO:root:Create proxy actor <class 'secretflow.ml.nn.fl.backend.torch.strategy.scaffold.PYUScaffold'> with party bob.\n",
                        "INFO:root:FL Train Params: {'x': FedNdarray(partitions={PYURuntime(alice): <secretflow.device.device.pyu.PYUObject object at 0x7fbb28ce5fa0>, PYURuntime(bob): <secretflow.device.device.pyu.PYUObject object at 0x7fbb28cc22e0>}, partition_way=<PartitionWay.HORIZONTAL: 'horizontal'>), 'y': FedNdarray(partitions={PYURuntime(alice): <secretflow.device.device.pyu.PYUObject object at 0x7fbf1e72af10>, PYURuntime(bob): <secretflow.device.device.pyu.PYUObject object at 0x7fbb28cc28b0>}, partition_way=<PartitionWay.HORIZONTAL: 'horizontal'>), 'batch_size': 128, 'batch_sampling_rate': None, 'epochs': 20, 'verbose': 1, 'callbacks': None, 'validation_data': (FedNdarray(partitions={PYURuntime(alice): <secretflow.device.device.pyu.PYUObject object at 0x7fbb28cc2850>, PYURuntime(bob): <secretflow.device.device.pyu.PYUObject object at 0x7fbb28cc2520>}, partition_way=<PartitionWay.HORIZONTAL: 'horizontal'>), FedNdarray(partitions={PYURuntime(alice): <secretflow.device.device.pyu.PYUObject object at 0x7fbb28cc25b0>, PYURuntime(bob): <secretflow.device.device.pyu.PYUObject object at 0x7fbb28cc2340>}, partition_way=<PartitionWay.HORIZONTAL: 'horizontal'>)), 'shuffle': False, 'class_weight': None, 'sample_weight': None, 'validation_freq': 1, 'aggregate_freq': 10, 'label_decoder': None, 'max_batch_size': 20000, 'prefetch_buffer_size': None, 'sampler_method': 'batch', 'random_seed': 20816, 'dp_spent_step_freq': None, 'audit_log_dir': None, 'dataset_builder': None, 'wait_steps': 100, 'self': <secretflow.ml.nn.fl.fl_model.FLModel object at 0x7fbb28ce5a30>}\n",
                        "\u001B[2m\u001B[36m(pid=30094)\u001B[0m 2024-01-18 11:48:58.299151: W tensorflow/compiler/xla/stream_executor/platform/default/dso_loader.cc:64] Could not load dynamic library 'libcudart.so.11.0'; dlerror: libcudart.so.11.0: cannot open shared object file: No such file or directory\n",
                        "\u001B[2m\u001B[36m(pid=30096)\u001B[0m 2024-01-18 11:48:58.377356: W tensorflow/compiler/xla/stream_executor/platform/default/dso_loader.cc:64] Could not load dynamic library 'libcudart.so.11.0'; dlerror: libcudart.so.11.0: cannot open shared object file: No such file or directory\n",
                        "\u001B[2m\u001B[36m(pid=30094)\u001B[0m 2024-01-18 11:48:58.750190: W tensorflow/compiler/xla/stream_executor/platform/default/dso_loader.cc:64] Could not load dynamic library 'libnvinfer.so.7'; dlerror: libnvinfer.so.7: cannot open shared object file: No such file or directory\n",
                        "\u001B[2m\u001B[36m(pid=30094)\u001B[0m 2024-01-18 11:48:58.750251: W tensorflow/compiler/xla/stream_executor/platform/default/dso_loader.cc:64] Could not load dynamic library 'libnvinfer_plugin.so.7'; dlerror: libnvinfer_plugin.so.7: cannot open shared object file: No such file or directory\n",
                        "\u001B[2m\u001B[36m(pid=30094)\u001B[0m 2024-01-18 11:48:58.750258: W tensorflow/compiler/tf2tensorrt/utils/py_utils.cc:38] TF-TRT Warning: Cannot dlopen some TensorRT libraries. If you would like to use Nvidia GPU with TensorRT, please make sure the missing libraries mentioned above are installed properly.\n",
                        "\u001B[2m\u001B[36m(pid=30096)\u001B[0m 2024-01-18 11:48:58.826820: W tensorflow/compiler/xla/stream_executor/platform/default/dso_loader.cc:64] Could not load dynamic library 'libnvinfer.so.7'; dlerror: libnvinfer.so.7: cannot open shared object file: No such file or directory\n",
                        "\u001B[2m\u001B[36m(pid=30096)\u001B[0m 2024-01-18 11:48:58.826878: W tensorflow/compiler/xla/stream_executor/platform/default/dso_loader.cc:64] Could not load dynamic library 'libnvinfer_plugin.so.7'; dlerror: libnvinfer_plugin.so.7: cannot open shared object file: No such file or directory\n",
                        "\u001B[2m\u001B[36m(pid=30096)\u001B[0m 2024-01-18 11:48:58.826885: W tensorflow/compiler/tf2tensorrt/utils/py_utils.cc:38] TF-TRT Warning: Cannot dlopen some TensorRT libraries. If you would like to use Nvidia GPU with TensorRT, please make sure the missing libraries mentioned above are installed properly.\n",
                        "Train Processing: :  21%|██▏       | 10/47 [00:00<00:00, 53.99it/s]",
                    ],
                },
                {"name": "stdout", "output_type": "stream", "text": ["Epoch 1/20\n"]},
                {
                    "name": "stderr",
                    "output_type": "stream",
                    "text": [
                        "Train Processing: :  64%|██████▍   | 30/47 [00:00<00:00, 87.19it/s]/home/cyf/anaconda3/envs/sf/lib/python3.8/site-packages/secretflow/ml/nn/metrics.py:59: UserWarning: Please pay attention to local metrics, global only do naive aggregation.\n",
                        "  warnings.warn(\n",
                        "2024-01-18 11:49:00.626664: W tensorflow/compiler/xla/stream_executor/platform/default/dso_loader.cc:64] Could not load dynamic library 'libcudart.so.11.0'; dlerror: libcudart.so.11.0: cannot open shared object file: No such file or directory\n",
                        "2024-01-18 11:49:00.626710: W tensorflow/compiler/xla/stream_executor/platform/default/dso_loader.cc:64] Could not load dynamic library 'libcublas.so.11'; dlerror: libcublas.so.11: cannot open shared object file: No such file or directory\n",
                        "2024-01-18 11:49:00.626742: W tensorflow/compiler/xla/stream_executor/platform/default/dso_loader.cc:64] Could not load dynamic library 'libcublasLt.so.11'; dlerror: libcublasLt.so.11: cannot open shared object file: No such file or directory\n",
                        "2024-01-18 11:49:00.626771: W tensorflow/compiler/xla/stream_executor/platform/default/dso_loader.cc:64] Could not load dynamic library 'libcufft.so.10'; dlerror: libcufft.so.10: cannot open shared object file: No such file or directory\n",
                        "2024-01-18 11:49:00.626801: W tensorflow/compiler/xla/stream_executor/platform/default/dso_loader.cc:64] Could not load dynamic library 'libcurand.so.10'; dlerror: libcurand.so.10: cannot open shared object file: No such file or directory\n",
                        "2024-01-18 11:49:00.626831: W tensorflow/compiler/xla/stream_executor/platform/default/dso_loader.cc:64] Could not load dynamic library 'libcusolver.so.11'; dlerror: libcusolver.so.11: cannot open shared object file: No such file or directory\n",
                        "2024-01-18 11:49:00.626860: W tensorflow/compiler/xla/stream_executor/platform/default/dso_loader.cc:64] Could not load dynamic library 'libcusparse.so.11'; dlerror: libcusparse.so.11: cannot open shared object file: No such file or directory\n",
                        "2024-01-18 11:49:00.626889: W tensorflow/compiler/xla/stream_executor/platform/default/dso_loader.cc:64] Could not load dynamic library 'libcudnn.so.8'; dlerror: libcudnn.so.8: cannot open shared object file: No such file or directory\n",
                        "2024-01-18 11:49:00.626897: W tensorflow/core/common_runtime/gpu/gpu_device.cc:1934] Cannot dlopen some GPU libraries. Please make sure the missing libraries mentioned above are installed properly if you would like to use GPU. Follow the guide at https://www.tensorflow.org/install/gpu for how to download and setup the required libraries for your platform.\n",
                        "Skipping registering GPU devices...\n",
                        "Train Processing: :  85%|████████▌ | 40/47 [00:00<00:00, 79.15it/s, {'multiclassaccuracy': 0.24875, 'multiclassprecision': 0.24875, 'val_multiclassaccuracy': 0.25, 'val_multiclassprecision': 0.25}]\n",
                        "Train Processing: :  21%|██▏       | 10/47 [00:00<00:00, 60.29it/s]",
                    ],
                },
                {
                    "name": "stdout",
                    "output_type": "stream",
                    "text": [
                        "Epoch 2/20\n",
                        "\u001B[2m\u001B[36m(PYUScaffold pid=30094)\u001B[0m {'train-loss': 1.7249133586883545, 'train_multiclassaccuracy': tensor(0.2482), 'train_multiclassprecision': tensor(0.2482), 'val_eval_multiclassaccuracy': tensor(0.2500), 'val_eval_multiclassprecision': tensor(0.2500)}\n",
                        "\u001B[2m\u001B[36m(PYUScaffold pid=30096)\u001B[0m {'train-loss': 1.6402376890182495, 'train_multiclassaccuracy': tensor(0.2493), 'train_multiclassprecision': tensor(0.2493), 'val_eval_multiclassaccuracy': tensor(0.2500), 'val_eval_multiclassprecision': tensor(0.2500)}\n",
                    ],
                },
                {
                    "name": "stderr",
                    "output_type": "stream",
                    "text": [
                        "Train Processing: :  85%|████████▌ | 40/47 [00:00<00:00, 83.94it/s, {'multiclassaccuracy': 0.45775, 'multiclassprecision': 0.45775, 'val_multiclassaccuracy': 0.5725, 'val_multiclassprecision': 0.5725}]\n",
                        "Train Processing: :  21%|██▏       | 10/47 [00:00<00:00, 59.11it/s]",
                    ],
                },
                {
                    "name": "stdout",
                    "output_type": "stream",
                    "text": [
                        "Epoch 3/20\n",
                        "\u001B[2m\u001B[36m(PYUScaffold pid=30094)\u001B[0m {'train-loss': 1.3624953031539917, 'train_multiclassaccuracy': tensor(0.4557), 'train_multiclassprecision': tensor(0.4557), 'val_eval_multiclassaccuracy': tensor(0.5600), 'val_eval_multiclassprecision': tensor(0.5600)}\n",
                        "\u001B[2m\u001B[36m(PYUScaffold pid=30096)\u001B[0m {'train-loss': 1.3149020671844482, 'train_multiclassaccuracy': tensor(0.4598), 'train_multiclassprecision': tensor(0.4598), 'val_eval_multiclassaccuracy': tensor(0.5850), 'val_eval_multiclassprecision': tensor(0.5850)}\n",
                    ],
                },
                {
                    "name": "stderr",
                    "output_type": "stream",
                    "text": [
                        "Train Processing: :  85%|████████▌ | 40/47 [00:00<00:00, 78.69it/s, {'multiclassaccuracy': 0.6799167, 'multiclassprecision': 0.6799167, 'val_multiclassaccuracy': 0.6675, 'val_multiclassprecision': 0.6675}]\n",
                        "Train Processing: :  21%|██▏       | 10/47 [00:00<00:00, 56.79it/s]",
                    ],
                },
                {
                    "name": "stdout",
                    "output_type": "stream",
                    "text": [
                        "Epoch 4/20\n",
                        "\u001B[2m\u001B[36m(PYUScaffold pid=30094)\u001B[0m {'train-loss': 1.1506720781326294, 'train_multiclassaccuracy': tensor(0.6628), 'train_multiclassprecision': tensor(0.6628), 'val_eval_multiclassaccuracy': tensor(0.6580), 'val_eval_multiclassprecision': tensor(0.6580)}\n",
                        "\u001B[2m\u001B[36m(PYUScaffold pid=30096)\u001B[0m {'train-loss': 1.0957437753677368, 'train_multiclassaccuracy': tensor(0.6970), 'train_multiclassprecision': tensor(0.6970), 'val_eval_multiclassaccuracy': tensor(0.6770), 'val_eval_multiclassprecision': tensor(0.6770)}\n",
                    ],
                },
                {
                    "name": "stderr",
                    "output_type": "stream",
                    "text": [
                        "Train Processing: :  85%|████████▌ | 40/47 [00:00<00:00, 76.77it/s, {'multiclassaccuracy': 0.763, 'multiclassprecision': 0.763, 'val_multiclassaccuracy': 0.6855, 'val_multiclassprecision': 0.6855}]\n",
                        "Train Processing: :  21%|██▏       | 10/47 [00:00<00:00, 59.76it/s]",
                    ],
                },
                {
                    "name": "stdout",
                    "output_type": "stream",
                    "text": [
                        "Epoch 5/20\n",
                        "\u001B[2m\u001B[36m(PYUScaffold pid=30094)\u001B[0m {'train-loss': 0.854627788066864, 'train_multiclassaccuracy': tensor(0.7408), 'train_multiclassprecision': tensor(0.7408), 'val_eval_multiclassaccuracy': tensor(0.6870), 'val_eval_multiclassprecision': tensor(0.6870)}\n",
                        "\u001B[2m\u001B[36m(PYUScaffold pid=30096)\u001B[0m {'train-loss': 0.8130455017089844, 'train_multiclassaccuracy': tensor(0.7852), 'train_multiclassprecision': tensor(0.7852), 'val_eval_multiclassaccuracy': tensor(0.6840), 'val_eval_multiclassprecision': tensor(0.6840)}\n",
                    ],
                },
                {
                    "name": "stderr",
                    "output_type": "stream",
                    "text": [
                        "Train Processing: :  85%|████████▌ | 40/47 [00:00<00:00, 72.40it/s, {'multiclassaccuracy': 0.8228333, 'multiclassprecision': 0.8228333, 'val_multiclassaccuracy': 0.69449997, 'val_multiclassprecision': 0.69449997}]\n"
                    ],
                },
                {
                    "name": "stdout",
                    "output_type": "stream",
                    "text": [
                        "\u001B[2m\u001B[36m(PYUScaffold pid=30094)\u001B[0m {'train-loss': 0.6084266901016235, 'train_multiclassaccuracy': tensor(0.8075), 'train_multiclassprecision': tensor(0.8075), 'val_eval_multiclassaccuracy': tensor(0.6970), 'val_eval_multiclassprecision': tensor(0.6970)}\n",
                        "\u001B[2m\u001B[36m(PYUScaffold pid=30096)\u001B[0m {'train-loss': 0.6104310154914856, 'train_multiclassaccuracy': tensor(0.8382), 'train_multiclassprecision': tensor(0.8382), 'val_eval_multiclassaccuracy': tensor(0.6920), 'val_eval_multiclassprecision': tensor(0.6920)}\n",
                    ],
                },
                {
                    "name": "stderr",
                    "output_type": "stream",
                    "text": [
                        "Train Processing: :  21%|██▏       | 10/47 [00:00<00:00, 56.85it/s]"
                    ],
                },
                {"name": "stdout", "output_type": "stream", "text": ["Epoch 6/20\n"]},
                {
                    "name": "stderr",
                    "output_type": "stream",
                    "text": [
                        "Train Processing: :  85%|████████▌ | 40/47 [00:00<00:00, 71.78it/s, {'multiclassaccuracy': 0.8668333, 'multiclassprecision': 0.8668333, 'val_multiclassaccuracy': 0.73300004, 'val_multiclassprecision': 0.73300004}]\n",
                        "Train Processing: :  21%|██▏       | 10/47 [00:00<00:00, 58.50it/s]",
                    ],
                },
                {
                    "name": "stdout",
                    "output_type": "stream",
                    "text": [
                        "Epoch 7/20\n",
                        "\u001B[2m\u001B[36m(PYUScaffold pid=30094)\u001B[0m {'train-loss': 0.4524422585964203, 'train_multiclassaccuracy': tensor(0.8540), 'train_multiclassprecision': tensor(0.8540), 'val_eval_multiclassaccuracy': tensor(0.7440), 'val_eval_multiclassprecision': tensor(0.7440)}\n",
                        "\u001B[2m\u001B[36m(PYUScaffold pid=30096)\u001B[0m {'train-loss': 0.4867902398109436, 'train_multiclassaccuracy': tensor(0.8797), 'train_multiclassprecision': tensor(0.8797), 'val_eval_multiclassaccuracy': tensor(0.7220), 'val_eval_multiclassprecision': tensor(0.7220)}\n",
                    ],
                },
                {
                    "name": "stderr",
                    "output_type": "stream",
                    "text": [
                        "Train Processing: :  85%|████████▌ | 40/47 [00:00<00:00, 69.12it/s, {'multiclassaccuracy': 0.89525, 'multiclassprecision': 0.89525, 'val_multiclassaccuracy': 0.806, 'val_multiclassprecision': 0.806}]\n"
                    ],
                },
                {
                    "name": "stdout",
                    "output_type": "stream",
                    "text": [
                        "\u001B[2m\u001B[36m(PYUScaffold pid=30094)\u001B[0m {'train-loss': 0.3572414517402649, 'train_multiclassaccuracy': tensor(0.8837), 'train_multiclassprecision': tensor(0.8837), 'val_eval_multiclassaccuracy': tensor(0.8080), 'val_eval_multiclassprecision': tensor(0.8080)}\n",
                        "\u001B[2m\u001B[36m(PYUScaffold pid=30096)\u001B[0m {'train-loss': 0.4073203504085541, 'train_multiclassaccuracy': tensor(0.9068), 'train_multiclassprecision': tensor(0.9068), 'val_eval_multiclassaccuracy': tensor(0.8040), 'val_eval_multiclassprecision': tensor(0.8040)}\n",
                    ],
                },
                {
                    "name": "stderr",
                    "output_type": "stream",
                    "text": [
                        "Train Processing: :  21%|██▏       | 10/47 [00:00<00:00, 59.47it/s]"
                    ],
                },
                {"name": "stdout", "output_type": "stream", "text": ["Epoch 8/20\n"]},
                {
                    "name": "stderr",
                    "output_type": "stream",
                    "text": [
                        "Train Processing: :  85%|████████▌ | 40/47 [00:00<00:00, 68.15it/s, {'multiclassaccuracy': 0.91225, 'multiclassprecision': 0.91225, 'val_multiclassaccuracy': 0.8545, 'val_multiclassprecision': 0.8545}]\n",
                        "Train Processing: :  21%|██▏       | 10/47 [00:00<00:00, 59.84it/s]",
                    ],
                },
                {
                    "name": "stdout",
                    "output_type": "stream",
                    "text": [
                        "Epoch 9/20\n",
                        "\u001B[2m\u001B[36m(PYUScaffold pid=30094)\u001B[0m {'train-loss': 0.296172559261322, 'train_multiclassaccuracy': tensor(0.8992), 'train_multiclassprecision': tensor(0.8992), 'val_eval_multiclassaccuracy': tensor(0.8410), 'val_eval_multiclassprecision': tensor(0.8410)}\n",
                        "\u001B[2m\u001B[36m(PYUScaffold pid=30096)\u001B[0m {'train-loss': 0.35247913002967834, 'train_multiclassaccuracy': tensor(0.9253), 'train_multiclassprecision': tensor(0.9253), 'val_eval_multiclassaccuracy': tensor(0.8680), 'val_eval_multiclassprecision': tensor(0.8680)}\n",
                    ],
                },
                {
                    "name": "stderr",
                    "output_type": "stream",
                    "text": [
                        "Train Processing: :  85%|████████▌ | 40/47 [00:00<00:00, 63.99it/s, {'multiclassaccuracy': 0.92408335, 'multiclassprecision': 0.92408335, 'val_multiclassaccuracy': 0.8715, 'val_multiclassprecision': 0.8715}]\n",
                        "Train Processing: :  21%|██▏       | 10/47 [00:00<00:00, 59.14it/s]",
                    ],
                },
                {
                    "name": "stdout",
                    "output_type": "stream",
                    "text": [
                        "Epoch 10/20\n",
                        "\u001B[2m\u001B[36m(PYUScaffold pid=30094)\u001B[0m {'train-loss': 0.2545665204524994, 'train_multiclassaccuracy': tensor(0.9117), 'train_multiclassprecision': tensor(0.9117), 'val_eval_multiclassaccuracy': tensor(0.8630), 'val_eval_multiclassprecision': tensor(0.8630)}\n",
                        "\u001B[2m\u001B[36m(PYUScaffold pid=30096)\u001B[0m {'train-loss': 0.3124471604824066, 'train_multiclassaccuracy': tensor(0.9365), 'train_multiclassprecision': tensor(0.9365), 'val_eval_multiclassaccuracy': tensor(0.8800), 'val_eval_multiclassprecision': tensor(0.8800)}\n",
                    ],
                },
                {
                    "name": "stderr",
                    "output_type": "stream",
                    "text": [
                        "Train Processing: :  85%|████████▌ | 40/47 [00:00<00:00, 62.02it/s, {'multiclassaccuracy': 0.92983335, 'multiclassprecision': 0.92983335, 'val_multiclassaccuracy': 0.8825, 'val_multiclassprecision': 0.8825}]\n"
                    ],
                },
                {
                    "name": "stdout",
                    "output_type": "stream",
                    "text": [
                        "\u001B[2m\u001B[36m(PYUScaffold pid=30094)\u001B[0m {'train-loss': 0.22498366236686707, 'train_multiclassaccuracy': tensor(0.9167), 'train_multiclassprecision': tensor(0.9167), 'val_eval_multiclassaccuracy': tensor(0.8810), 'val_eval_multiclassprecision': tensor(0.8810)}\n"
                    ],
                },
                {
                    "name": "stderr",
                    "output_type": "stream",
                    "text": [
                        "Train Processing: :  21%|██▏       | 10/47 [00:00<00:00, 56.05it/s]"
                    ],
                },
                {
                    "name": "stdout",
                    "output_type": "stream",
                    "text": [
                        "\u001B[2m\u001B[36m(PYUScaffold pid=30096)\u001B[0m {'train-loss': 0.28197842836380005, 'train_multiclassaccuracy': tensor(0.9430), 'train_multiclassprecision': tensor(0.9430), 'val_eval_multiclassaccuracy': tensor(0.8840), 'val_eval_multiclassprecision': tensor(0.8840)}\n",
                        "Epoch 11/20\n",
                    ],
                },
                {
                    "name": "stderr",
                    "output_type": "stream",
                    "text": [
                        "Train Processing: :  85%|████████▌ | 40/47 [00:00<00:00, 60.50it/s, {'multiclassaccuracy': 0.93333334, 'multiclassprecision': 0.93333334, 'val_multiclassaccuracy': 0.895, 'val_multiclassprecision': 0.895}]\n",
                        "Train Processing: :  21%|██▏       | 10/47 [00:00<00:00, 59.84it/s]",
                    ],
                },
                {
                    "name": "stdout",
                    "output_type": "stream",
                    "text": [
                        "Epoch 12/20\n",
                        "\u001B[2m\u001B[36m(PYUScaffold pid=30094)\u001B[0m {'train-loss': 0.2034093290567398, 'train_multiclassaccuracy': tensor(0.9215), 'train_multiclassprecision': tensor(0.9215), 'val_eval_multiclassaccuracy': tensor(0.8960), 'val_eval_multiclassprecision': tensor(0.8960)}\n",
                        "\u001B[2m\u001B[36m(PYUScaffold pid=30096)\u001B[0m {'train-loss': 0.25812867283821106, 'train_multiclassaccuracy': tensor(0.9452), 'train_multiclassprecision': tensor(0.9452), 'val_eval_multiclassaccuracy': tensor(0.8940), 'val_eval_multiclassprecision': tensor(0.8940)}\n",
                    ],
                },
                {
                    "name": "stderr",
                    "output_type": "stream",
                    "text": [
                        "Train Processing: :  85%|████████▌ | 40/47 [00:00<00:00, 57.91it/s, {'multiclassaccuracy': 0.93675, 'multiclassprecision': 0.93675, 'val_multiclassaccuracy': 0.9, 'val_multiclassprecision': 0.9}]\n",
                        "Train Processing: :  21%|██▏       | 10/47 [00:00<00:00, 59.95it/s]",
                    ],
                },
                {
                    "name": "stdout",
                    "output_type": "stream",
                    "text": [
                        "Epoch 13/20\n",
                        "\u001B[2m\u001B[36m(PYUScaffold pid=30094)\u001B[0m {'train-loss': 0.18732059001922607, 'train_multiclassaccuracy': tensor(0.9262), 'train_multiclassprecision': tensor(0.9262), 'val_eval_multiclassaccuracy': tensor(0.9000), 'val_eval_multiclassprecision': tensor(0.9000)}\n",
                        "\u001B[2m\u001B[36m(PYUScaffold pid=30096)\u001B[0m {'train-loss': 0.23892642557621002, 'train_multiclassaccuracy': tensor(0.9473), 'train_multiclassprecision': tensor(0.9473), 'val_eval_multiclassaccuracy': tensor(0.9000), 'val_eval_multiclassprecision': tensor(0.9000)}\n",
                    ],
                },
                {
                    "name": "stderr",
                    "output_type": "stream",
                    "text": [
                        "Train Processing: :  85%|████████▌ | 40/47 [00:00<00:00, 58.10it/s, {'multiclassaccuracy': 0.93875, 'multiclassprecision': 0.93875, 'val_multiclassaccuracy': 0.9055, 'val_multiclassprecision': 0.9055}]\n",
                        "Train Processing: :  21%|██▏       | 10/47 [00:00<00:00, 61.63it/s]",
                    ],
                },
                {
                    "name": "stdout",
                    "output_type": "stream",
                    "text": [
                        "Epoch 14/20\n",
                        "\u001B[2m\u001B[36m(PYUScaffold pid=30094)\u001B[0m {'train-loss': 0.17515316605567932, 'train_multiclassaccuracy': tensor(0.9298), 'train_multiclassprecision': tensor(0.9298), 'val_eval_multiclassaccuracy': tensor(0.9050), 'val_eval_multiclassprecision': tensor(0.9050)}\n",
                        "\u001B[2m\u001B[36m(PYUScaffold pid=30096)\u001B[0m {'train-loss': 0.22306624054908752, 'train_multiclassaccuracy': tensor(0.9477), 'train_multiclassprecision': tensor(0.9477), 'val_eval_multiclassaccuracy': tensor(0.9060), 'val_eval_multiclassprecision': tensor(0.9060)}\n",
                    ],
                },
                {
                    "name": "stderr",
                    "output_type": "stream",
                    "text": [
                        "Train Processing: :  85%|████████▌ | 40/47 [00:00<00:00, 57.54it/s, {'multiclassaccuracy': 0.9413333, 'multiclassprecision': 0.9413333, 'val_multiclassaccuracy': 0.913, 'val_multiclassprecision': 0.913}]\n",
                        "Train Processing: :  21%|██▏       | 10/47 [00:00<00:00, 57.44it/s]",
                    ],
                },
                {
                    "name": "stdout",
                    "output_type": "stream",
                    "text": [
                        "Epoch 15/20\n",
                        "\u001B[2m\u001B[36m(PYUScaffold pid=30094)\u001B[0m {'train-loss': 0.16577337682247162, 'train_multiclassaccuracy': tensor(0.9318), 'train_multiclassprecision': tensor(0.9318), 'val_eval_multiclassaccuracy': tensor(0.9120), 'val_eval_multiclassprecision': tensor(0.9120)}\n",
                        "\u001B[2m\u001B[36m(PYUScaffold pid=30096)\u001B[0m {'train-loss': 0.20981352031230927, 'train_multiclassaccuracy': tensor(0.9508), 'train_multiclassprecision': tensor(0.9508), 'val_eval_multiclassaccuracy': tensor(0.9140), 'val_eval_multiclassprecision': tensor(0.9140)}\n",
                    ],
                },
                {
                    "name": "stderr",
                    "output_type": "stream",
                    "text": [
                        "Train Processing: :  85%|████████▌ | 40/47 [00:00<00:00, 53.47it/s, {'multiclassaccuracy': 0.9430833, 'multiclassprecision': 0.9430833, 'val_multiclassaccuracy': 0.9165, 'val_multiclassprecision': 0.9165}]\n",
                        "Train Processing: :  21%|██▏       | 10/47 [00:00<00:00, 57.17it/s]",
                    ],
                },
                {
                    "name": "stdout",
                    "output_type": "stream",
                    "text": [
                        "Epoch 16/20\n",
                        "\u001B[2m\u001B[36m(PYUScaffold pid=30094)\u001B[0m {'train-loss': 0.1583787500858307, 'train_multiclassaccuracy': tensor(0.9343), 'train_multiclassprecision': tensor(0.9343), 'val_eval_multiclassaccuracy': tensor(0.9150), 'val_eval_multiclassprecision': tensor(0.9150)}\n",
                        "\u001B[2m\u001B[36m(PYUScaffold pid=30096)\u001B[0m {'train-loss': 0.19855092465877533, 'train_multiclassaccuracy': tensor(0.9518), 'train_multiclassprecision': tensor(0.9518), 'val_eval_multiclassaccuracy': tensor(0.9180), 'val_eval_multiclassprecision': tensor(0.9180)}\n",
                    ],
                },
                {
                    "name": "stderr",
                    "output_type": "stream",
                    "text": [
                        "Train Processing: :  85%|████████▌ | 40/47 [00:00<00:00, 51.49it/s, {'multiclassaccuracy': 0.94474995, 'multiclassprecision': 0.94474995, 'val_multiclassaccuracy': 0.9185, 'val_multiclassprecision': 0.9185}]\n",
                        "Train Processing: :  21%|██▏       | 10/47 [00:00<00:00, 59.76it/s]",
                    ],
                },
                {
                    "name": "stdout",
                    "output_type": "stream",
                    "text": [
                        "Epoch 17/20\n",
                        "\u001B[2m\u001B[36m(PYUScaffold pid=30094)\u001B[0m {'train-loss': 0.1524660885334015, 'train_multiclassaccuracy': tensor(0.9370), 'train_multiclassprecision': tensor(0.9370), 'val_eval_multiclassaccuracy': tensor(0.9170), 'val_eval_multiclassprecision': tensor(0.9170)}\n",
                        "\u001B[2m\u001B[36m(PYUScaffold pid=30096)\u001B[0m {'train-loss': 0.18872900307178497, 'train_multiclassaccuracy': tensor(0.9525), 'train_multiclassprecision': tensor(0.9525), 'val_eval_multiclassaccuracy': tensor(0.9200), 'val_eval_multiclassprecision': tensor(0.9200)}\n",
                    ],
                },
                {
                    "name": "stderr",
                    "output_type": "stream",
                    "text": [
                        "Train Processing: :  85%|████████▌ | 40/47 [00:00<00:00, 50.79it/s, {'multiclassaccuracy': 0.9463333, 'multiclassprecision': 0.9463333, 'val_multiclassaccuracy': 0.9215, 'val_multiclassprecision': 0.9215}]\n",
                        "Train Processing: :  21%|██▏       | 10/47 [00:00<00:00, 58.54it/s]",
                    ],
                },
                {
                    "name": "stdout",
                    "output_type": "stream",
                    "text": [
                        "Epoch 18/20\n",
                        "\u001B[2m\u001B[36m(PYUScaffold pid=30094)\u001B[0m {'train-loss': 0.1476334184408188, 'train_multiclassaccuracy': tensor(0.9385), 'train_multiclassprecision': tensor(0.9385), 'val_eval_multiclassaccuracy': tensor(0.9190), 'val_eval_multiclassprecision': tensor(0.9190)}\n",
                        "\u001B[2m\u001B[36m(PYUScaffold pid=30096)\u001B[0m {'train-loss': 0.18030299246311188, 'train_multiclassaccuracy': tensor(0.9542), 'train_multiclassprecision': tensor(0.9542), 'val_eval_multiclassaccuracy': tensor(0.9240), 'val_eval_multiclassprecision': tensor(0.9240)}\n",
                    ],
                },
                {
                    "name": "stderr",
                    "output_type": "stream",
                    "text": [
                        "Train Processing: :  85%|████████▌ | 40/47 [00:00<00:00, 49.47it/s, {'multiclassaccuracy': 0.94808334, 'multiclassprecision': 0.94808334, 'val_multiclassaccuracy': 0.923, 'val_multiclassprecision': 0.923}]\n",
                        "Train Processing: :  21%|██▏       | 10/47 [00:00<00:00, 59.39it/s]",
                    ],
                },
                {
                    "name": "stdout",
                    "output_type": "stream",
                    "text": [
                        "Epoch 19/20\n",
                        "\u001B[2m\u001B[36m(PYUScaffold pid=30094)\u001B[0m {'train-loss': 0.1435578614473343, 'train_multiclassaccuracy': tensor(0.9407), 'train_multiclassprecision': tensor(0.9407), 'val_eval_multiclassaccuracy': tensor(0.9210), 'val_eval_multiclassprecision': tensor(0.9210)}\n",
                        "\u001B[2m\u001B[36m(PYUScaffold pid=30096)\u001B[0m {'train-loss': 0.17298269271850586, 'train_multiclassaccuracy': tensor(0.9555), 'train_multiclassprecision': tensor(0.9555), 'val_eval_multiclassaccuracy': tensor(0.9250), 'val_eval_multiclassprecision': tensor(0.9250)}\n",
                    ],
                },
                {
                    "name": "stderr",
                    "output_type": "stream",
                    "text": [
                        "Train Processing: :  85%|████████▌ | 40/47 [00:00<00:00, 49.45it/s, {'multiclassaccuracy': 0.9493333, 'multiclassprecision': 0.9493333, 'val_multiclassaccuracy': 0.9245, 'val_multiclassprecision': 0.9245}]\n",
                        "Train Processing: :  21%|██▏       | 10/47 [00:00<00:00, 58.99it/s]",
                    ],
                },
                {
                    "name": "stdout",
                    "output_type": "stream",
                    "text": [
                        "Epoch 20/20\n",
                        "\u001B[2m\u001B[36m(PYUScaffold pid=30094)\u001B[0m {'train-loss': 0.14015726745128632, 'train_multiclassaccuracy': tensor(0.9417), 'train_multiclassprecision': tensor(0.9417), 'val_eval_multiclassaccuracy': tensor(0.9220), 'val_eval_multiclassprecision': tensor(0.9220)}\n",
                        "\u001B[2m\u001B[36m(PYUScaffold pid=30096)\u001B[0m {'train-loss': 0.16654327511787415, 'train_multiclassaccuracy': tensor(0.9570), 'train_multiclassprecision': tensor(0.9570), 'val_eval_multiclassaccuracy': tensor(0.9270), 'val_eval_multiclassprecision': tensor(0.9270)}\n",
                    ],
                },
                {
                    "name": "stderr",
                    "output_type": "stream",
                    "text": [
                        "Train Processing: :  85%|████████▌ | 40/47 [00:00<00:00, 47.32it/s, {'multiclassaccuracy': 0.95066667, 'multiclassprecision': 0.95066667, 'val_multiclassaccuracy': 0.9275, 'val_multiclassprecision': 0.9275}]\n"
                    ],
                },
            ],
            "source": [
                "device_list = [alice, bob]\n",
                "server = charlie\n",
                "aggregator = SecureAggregator(server, [alice, bob])\n",
                "\n",
                "fl_model = FLModel(\n",
                "    server=server,\n",
                "    device_list=device_list,\n",
                "    model=model_def,\n",
                "    aggregator=aggregator,\n",
                "    strategy='scaffold',  # fl strategy\n",
                "    backend=\"torch\",  # backend support ['tensorflow', 'torch']\n",
                ")\n",
                "history = fl_model.fit(\n",
                "    train_data,\n",
                "    train_label,\n",
                "    validation_data=(test_data, test_label),\n",
                "    epochs=20,\n",
                "    batch_size=128,\n",
                "    aggregate_freq=10,\n",
                ")",
            ],
            "metadata": {
                "collapsed": false,
                "ExecuteTime": {
                    "end_time": "2024-01-18T03:49:17.087800300Z",
                    "start_time": "2024-01-18T03:48:55.768472200Z",
                },
            },
            "id": "a0e4855e69068288",
        },
        {
            "cell_type": "code",
            "execution_count": 8,
            "outputs": [
                {
                    "name": "stdout",
                    "output_type": "stream",
                    "text": [
                        "\u001B[2m\u001B[36m(PYUScaffold pid=30094)\u001B[0m {'train-loss': 0.13718612492084503, 'train_multiclassaccuracy': tensor(0.9433), 'train_multiclassprecision': tensor(0.9433), 'val_eval_multiclassaccuracy': tensor(0.9250), 'val_eval_multiclassprecision': tensor(0.9250)}\n",
                        "\u001B[2m\u001B[36m(PYUScaffold pid=30096)\u001B[0m {'train-loss': 0.16077682375907898, 'train_multiclassaccuracy': tensor(0.9580), 'train_multiclassprecision': tensor(0.9580), 'val_eval_multiclassaccuracy': tensor(0.9300), 'val_eval_multiclassprecision': tensor(0.9300)}\n",
                        "{'alice_train-loss': [1.7249133586883545, 1.3624953031539917, 1.1506720781326294, 0.854627788066864, 0.6084266901016235, 0.4524422585964203, 0.3572414517402649, 0.296172559261322, 0.2545665204524994, 0.22498366236686707, 0.2034093290567398, 0.18732059001922607, 0.17515316605567932, 0.16577337682247162, 0.1583787500858307, 0.1524660885334015, 0.1476334184408188, 0.1435578614473343, 0.14015726745128632, 0.13718612492084503], 'alice_train_multiclassaccuracy': [tensor(0.2482), tensor(0.4557), tensor(0.6628), tensor(0.7408), tensor(0.8075), tensor(0.8540), tensor(0.8837), tensor(0.8992), tensor(0.9117), tensor(0.9167), tensor(0.9215), tensor(0.9262), tensor(0.9298), tensor(0.9318), tensor(0.9343), tensor(0.9370), tensor(0.9385), tensor(0.9407), tensor(0.9417), tensor(0.9433)], 'alice_train_multiclassprecision': [tensor(0.2482), tensor(0.4557), tensor(0.6628), tensor(0.7408), tensor(0.8075), tensor(0.8540), tensor(0.8837), tensor(0.8992), tensor(0.9117), tensor(0.9167), tensor(0.9215), tensor(0.9262), tensor(0.9298), tensor(0.9318), tensor(0.9343), tensor(0.9370), tensor(0.9385), tensor(0.9407), tensor(0.9417), tensor(0.9433)], 'alice_val_eval_multiclassaccuracy': [tensor(0.2500), tensor(0.5600), tensor(0.6580), tensor(0.6870), tensor(0.6970), tensor(0.7440), tensor(0.8080), tensor(0.8410), tensor(0.8630), tensor(0.8810), tensor(0.8960), tensor(0.9000), tensor(0.9050), tensor(0.9120), tensor(0.9150), tensor(0.9170), tensor(0.9190), tensor(0.9210), tensor(0.9220), tensor(0.9250)], 'alice_val_eval_multiclassprecision': [tensor(0.2500), tensor(0.5600), tensor(0.6580), tensor(0.6870), tensor(0.6970), tensor(0.7440), tensor(0.8080), tensor(0.8410), tensor(0.8630), tensor(0.8810), tensor(0.8960), tensor(0.9000), tensor(0.9050), tensor(0.9120), tensor(0.9150), tensor(0.9170), tensor(0.9190), tensor(0.9210), tensor(0.9220), tensor(0.9250)], 'bob_train-loss': [1.6402376890182495, 1.3149020671844482, 1.0957437753677368, 0.8130455017089844, 0.6104310154914856, 0.4867902398109436, 0.4073203504085541, 0.35247913002967834, 0.3124471604824066, 0.28197842836380005, 0.25812867283821106, 0.23892642557621002, 0.22306624054908752, 0.20981352031230927, 0.19855092465877533, 0.18872900307178497, 0.18030299246311188, 0.17298269271850586, 0.16654327511787415, 0.16077682375907898], 'bob_train_multiclassaccuracy': [tensor(0.2493), tensor(0.4598), tensor(0.6970), tensor(0.7852), tensor(0.8382), tensor(0.8797), tensor(0.9068), tensor(0.9253), tensor(0.9365), tensor(0.9430), tensor(0.9452), tensor(0.9473), tensor(0.9477), tensor(0.9508), tensor(0.9518), tensor(0.9525), tensor(0.9542), tensor(0.9555), tensor(0.9570), tensor(0.9580)], 'bob_train_multiclassprecision': [tensor(0.2493), tensor(0.4598), tensor(0.6970), tensor(0.7852), tensor(0.8382), tensor(0.8797), tensor(0.9068), tensor(0.9253), tensor(0.9365), tensor(0.9430), tensor(0.9452), tensor(0.9473), tensor(0.9477), tensor(0.9508), tensor(0.9518), tensor(0.9525), tensor(0.9542), tensor(0.9555), tensor(0.9570), tensor(0.9580)], 'bob_val_eval_multiclassaccuracy': [tensor(0.2500), tensor(0.5850), tensor(0.6770), tensor(0.6840), tensor(0.6920), tensor(0.7220), tensor(0.8040), tensor(0.8680), tensor(0.8800), tensor(0.8840), tensor(0.8940), tensor(0.9000), tensor(0.9060), tensor(0.9140), tensor(0.9180), tensor(0.9200), tensor(0.9240), tensor(0.9250), tensor(0.9270), tensor(0.9300)], 'bob_val_eval_multiclassprecision': [tensor(0.2500), tensor(0.5850), tensor(0.6770), tensor(0.6840), tensor(0.6920), tensor(0.7220), tensor(0.8040), tensor(0.8680), tensor(0.8800), tensor(0.8840), tensor(0.8940), tensor(0.9000), tensor(0.9060), tensor(0.9140), tensor(0.9180), tensor(0.9200), tensor(0.9240), tensor(0.9250), tensor(0.9270), tensor(0.9300)]}\n",
                    ],
                }
            ],
            "source": ["print(history['local_history'])"],
            "metadata": {
                "collapsed": false,
                "ExecuteTime": {
                    "end_time": "2024-01-18T03:49:17.132155100Z",
                    "start_time": "2024-01-18T03:49:17.086800500Z",
                },
            },
            "id": "95675bdf838fa4d9",
        },
        {
            "cell_type": "code",
            "execution_count": 9,
            "outputs": [
                {
                    "data": {
                        "text/plain": "<Figure size 640x480 with 1 Axes>",
                        "image/png": "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",
                    },
                    "metadata": {},
                    "output_type": "display_data",
                }
            ],
            "source": [
                "from matplotlib import pyplot as plt\n",
                "\n",
                "# Draw accuracy values for training & validation\n",
                "plt.plot(history['global_history']['multiclassaccuracy'])\n",
                "plt.plot(history['global_history']['val_multiclassaccuracy'])\n",
                "plt.plot(history['local_history']['alice_train_multiclassaccuracy'])\n",
                "plt.plot(history['local_history']['bob_train_multiclassaccuracy'])\n",
                "plt.plot(history['local_history']['alice_val_eval_multiclassaccuracy'])\n",
                "plt.plot(history['local_history']['bob_val_eval_multiclassaccuracy'])\n",
                "plt.title('FLModel accuracy in Scaffold')\n",
                "plt.ylabel('Accuracy')\n",
                "plt.xlabel('Epoch')\n",
                "plt.legend(['Train', 'Valid','alice_T','bob_T','alice_V','bob_V'], loc='upper left')\n",
                "plt.show()",
            ],
            "metadata": {
                "collapsed": false,
                "ExecuteTime": {
                    "end_time": "2024-01-18T03:49:17.476067500Z",
                    "start_time": "2024-01-18T03:49:17.134156100Z",
                },
            },
            "id": "6e4bab9db985e784",
        },
        {
            "cell_type": "code",
            "execution_count": 10,
            "outputs": [
                {
                    "name": "stderr",
                    "output_type": "stream",
                    "text": [
                        "INFO:root:Create proxy actor <class 'secretflow.ml.nn.fl.backend.torch.strategy.fed_avg_w.PYUFedAvgW'> with party alice.\n",
                        "INFO:root:Create proxy actor <class 'secretflow.ml.nn.fl.backend.torch.strategy.fed_avg_w.PYUFedAvgW'> with party bob.\n",
                        "INFO:root:FL Train Params: {'x': FedNdarray(partitions={PYURuntime(alice): <secretflow.device.device.pyu.PYUObject object at 0x7fbb28ce5fa0>, PYURuntime(bob): <secretflow.device.device.pyu.PYUObject object at 0x7fbb28cc22e0>}, partition_way=<PartitionWay.HORIZONTAL: 'horizontal'>), 'y': FedNdarray(partitions={PYURuntime(alice): <secretflow.device.device.pyu.PYUObject object at 0x7fbf1e72af10>, PYURuntime(bob): <secretflow.device.device.pyu.PYUObject object at 0x7fbb28cc28b0>}, partition_way=<PartitionWay.HORIZONTAL: 'horizontal'>), 'batch_size': 128, 'batch_sampling_rate': None, 'epochs': 20, 'verbose': 1, 'callbacks': None, 'validation_data': (FedNdarray(partitions={PYURuntime(alice): <secretflow.device.device.pyu.PYUObject object at 0x7fbb28cc2850>, PYURuntime(bob): <secretflow.device.device.pyu.PYUObject object at 0x7fbb28cc2520>}, partition_way=<PartitionWay.HORIZONTAL: 'horizontal'>), FedNdarray(partitions={PYURuntime(alice): <secretflow.device.device.pyu.PYUObject object at 0x7fbb28cc25b0>, PYURuntime(bob): <secretflow.device.device.pyu.PYUObject object at 0x7fbb28cc2340>}, partition_way=<PartitionWay.HORIZONTAL: 'horizontal'>)), 'shuffle': False, 'class_weight': None, 'sample_weight': None, 'validation_freq': 1, 'aggregate_freq': 10, 'label_decoder': None, 'max_batch_size': 20000, 'prefetch_buffer_size': None, 'sampler_method': 'batch', 'random_seed': 7699, 'dp_spent_step_freq': None, 'audit_log_dir': None, 'dataset_builder': None, 'wait_steps': 100, 'self': <secretflow.ml.nn.fl.fl_model.FLModel object at 0x7fbb28ce5a30>}\n",
                        "Train Processing: :   0%|          | 0/47 [00:00<?, ?it/s]",
                    ],
                },
                {"name": "stdout", "output_type": "stream", "text": ["Epoch 1/20\n"]},
                {
                    "name": "stderr",
                    "output_type": "stream",
                    "text": [
                        "Train Processing: :  64%|██████▍   | 30/47 [00:00<00:00, 77.38it/s]/home/cyf/anaconda3/envs/sf/lib/python3.8/site-packages/secretflow/ml/nn/metrics.py:59: UserWarning: Please pay attention to local metrics, global only do naive aggregation.\n",
                        "  warnings.warn(\n",
                        "Train Processing: :  85%|████████▌ | 40/47 [00:00<00:00, 42.27it/s, {'multiclassaccuracy': 0.95183337, 'multiclassprecision': 0.95183337, 'val_multiclassaccuracy': 0.9285, 'val_multiclassprecision': 0.9285}]\n",
                        "\u001B[2m\u001B[36m(pid=1680)\u001B[0m 2024-01-18 11:49:19.175078: W tensorflow/compiler/xla/stream_executor/platform/default/dso_loader.cc:64] Could not load dynamic library 'libcudart.so.11.0'; dlerror: libcudart.so.11.0: cannot open shared object file: No such file or directory\n",
                        "\u001B[2m\u001B[36m(pid=1682)\u001B[0m 2024-01-18 11:49:19.247836: W tensorflow/compiler/xla/stream_executor/platform/default/dso_loader.cc:64] Could not load dynamic library 'libcudart.so.11.0'; dlerror: libcudart.so.11.0: cannot open shared object file: No such file or directory\n",
                        "Train Processing: :   0%|          | 0/47 [00:00<?, ?it/s]\u001B[2m\u001B[36m(pid=1680)\u001B[0m 2024-01-18 11:49:19.677062: W tensorflow/compiler/xla/stream_executor/platform/default/dso_loader.cc:64] Could not load dynamic library 'libnvinfer.so.7'; dlerror: libnvinfer.so.7: cannot open shared object file: No such file or directory\n",
                        "\u001B[2m\u001B[36m(pid=1680)\u001B[0m 2024-01-18 11:49:19.677181: W tensorflow/compiler/xla/stream_executor/platform/default/dso_loader.cc:64] Could not load dynamic library 'libnvinfer_plugin.so.7'; dlerror: libnvinfer_plugin.so.7: cannot open shared object file: No such file or directory\n",
                        "\u001B[2m\u001B[36m(pid=1680)\u001B[0m 2024-01-18 11:49:19.677196: W tensorflow/compiler/tf2tensorrt/utils/py_utils.cc:38] TF-TRT Warning: Cannot dlopen some TensorRT libraries. If you would like to use Nvidia GPU with TensorRT, please make sure the missing libraries mentioned above are installed properly.\n",
                        "Train Processing: :  21%|██▏       | 10/47 [00:00<00:00, 51.62it/s]",
                    ],
                },
                {
                    "name": "stdout",
                    "output_type": "stream",
                    "text": [
                        "Epoch 2/20\n",
                        "\u001B[2m\u001B[36m(PYUScaffold pid=30094)\u001B[0m {'train-loss': 0.13459375500679016, 'train_multiclassaccuracy': tensor(0.9447), 'train_multiclassprecision': tensor(0.9447), 'val_eval_multiclassaccuracy': tensor(0.9270), 'val_eval_multiclassprecision': tensor(0.9270)}\n",
                        "\u001B[2m\u001B[36m(PYUScaffold pid=30096)\u001B[0m {'train-loss': 0.1555732637643814, 'train_multiclassaccuracy': tensor(0.9590), 'train_multiclassprecision': tensor(0.9590), 'val_eval_multiclassaccuracy': tensor(0.9300), 'val_eval_multiclassprecision': tensor(0.9300)}\n",
                    ],
                },
                {
                    "name": "stderr",
                    "output_type": "stream",
                    "text": [
                        "\u001B[2m\u001B[36m(pid=1682)\u001B[0m 2024-01-18 11:49:19.753818: W tensorflow/compiler/xla/stream_executor/platform/default/dso_loader.cc:64] Could not load dynamic library 'libnvinfer.so.7'; dlerror: libnvinfer.so.7: cannot open shared object file: No such file or directory\n",
                        "\u001B[2m\u001B[36m(pid=1682)\u001B[0m 2024-01-18 11:49:19.753895: W tensorflow/compiler/xla/stream_executor/platform/default/dso_loader.cc:64] Could not load dynamic library 'libnvinfer_plugin.so.7'; dlerror: libnvinfer_plugin.so.7: cannot open shared object file: No such file or directory\n",
                        "\u001B[2m\u001B[36m(pid=1682)\u001B[0m 2024-01-18 11:49:19.753904: W tensorflow/compiler/tf2tensorrt/utils/py_utils.cc:38] TF-TRT Warning: Cannot dlopen some TensorRT libraries. If you would like to use Nvidia GPU with TensorRT, please make sure the missing libraries mentioned above are installed properly.\n",
                        "Train Processing: :  85%|████████▌ | 40/47 [00:01<00:00, 36.74it/s, {'multiclassaccuracy': 0.95241666, 'multiclassprecision': 0.95241666, 'val_multiclassaccuracy': 0.929, 'val_multiclassprecision': 0.929}]\n",
                        "Train Processing: :  21%|██▏       | 10/47 [00:00<00:00, 54.65it/s]",
                    ],
                },
                {
                    "name": "stdout",
                    "output_type": "stream",
                    "text": [
                        "Epoch 3/20\n",
                        "\u001B[2m\u001B[36m(PYUScaffold pid=30094)\u001B[0m {'train-loss': 0.1322893649339676, 'train_multiclassaccuracy': tensor(0.9453), 'train_multiclassprecision': tensor(0.9453), 'val_eval_multiclassaccuracy': tensor(0.9270), 'val_eval_multiclassprecision': tensor(0.9270)}\n",
                        "\u001B[2m\u001B[36m(PYUScaffold pid=30096)\u001B[0m {'train-loss': 0.15068836510181427, 'train_multiclassaccuracy': tensor(0.9595), 'train_multiclassprecision': tensor(0.9595), 'val_eval_multiclassaccuracy': tensor(0.9310), 'val_eval_multiclassprecision': tensor(0.9310)}\n",
                    ],
                },
                {
                    "name": "stderr",
                    "output_type": "stream",
                    "text": [
                        "Train Processing: :  85%|████████▌ | 40/47 [00:00<00:00, 44.47it/s, {'multiclassaccuracy': 0.95275, 'multiclassprecision': 0.95275, 'val_multiclassaccuracy': 0.9295, 'val_multiclassprecision': 0.9295}]\n",
                        "Train Processing: :  21%|██▏       | 10/47 [00:00<00:00, 57.78it/s]",
                    ],
                },
                {
                    "name": "stdout",
                    "output_type": "stream",
                    "text": [
                        "Epoch 4/20\n",
                        "\u001B[2m\u001B[36m(PYUScaffold pid=30094)\u001B[0m {'train-loss': 0.1303166151046753, 'train_multiclassaccuracy': tensor(0.9462), 'train_multiclassprecision': tensor(0.9462), 'val_eval_multiclassaccuracy': tensor(0.9280), 'val_eval_multiclassprecision': tensor(0.9280)}\n",
                        "\u001B[2m\u001B[36m(PYUScaffold pid=30096)\u001B[0m {'train-loss': 0.14621300995349884, 'train_multiclassaccuracy': tensor(0.9593), 'train_multiclassprecision': tensor(0.9593), 'val_eval_multiclassaccuracy': tensor(0.9310), 'val_eval_multiclassprecision': tensor(0.9310)}\n",
                    ],
                },
                {
                    "name": "stderr",
                    "output_type": "stream",
                    "text": [
                        "Train Processing: :  85%|████████▌ | 40/47 [00:00<00:00, 43.73it/s, {'multiclassaccuracy': 0.95358336, 'multiclassprecision': 0.95358336, 'val_multiclassaccuracy': 0.931, 'val_multiclassprecision': 0.931}]\n",
                        "Train Processing: :  21%|██▏       | 10/47 [00:00<00:00, 59.10it/s]",
                    ],
                },
                {
                    "name": "stdout",
                    "output_type": "stream",
                    "text": [
                        "Epoch 5/20\n",
                        "\u001B[2m\u001B[36m(PYUScaffold pid=30094)\u001B[0m {'train-loss': 0.1284995824098587, 'train_multiclassaccuracy': tensor(0.9473), 'train_multiclassprecision': tensor(0.9473), 'val_eval_multiclassaccuracy': tensor(0.9290), 'val_eval_multiclassprecision': tensor(0.9290)}\n",
                        "\u001B[2m\u001B[36m(PYUScaffold pid=30096)\u001B[0m {'train-loss': 0.1420775055885315, 'train_multiclassaccuracy': tensor(0.9598), 'train_multiclassprecision': tensor(0.9598), 'val_eval_multiclassaccuracy': tensor(0.9330), 'val_eval_multiclassprecision': tensor(0.9330)}\n",
                    ],
                },
                {
                    "name": "stderr",
                    "output_type": "stream",
                    "text": [
                        "Train Processing: :  85%|████████▌ | 40/47 [00:00<00:00, 43.04it/s, {'multiclassaccuracy': 0.95416665, 'multiclassprecision': 0.95416665, 'val_multiclassaccuracy': 0.9325, 'val_multiclassprecision': 0.9325}]\n",
                        "Train Processing: :  21%|██▏       | 10/47 [00:00<00:00, 58.80it/s]",
                    ],
                },
                {
                    "name": "stdout",
                    "output_type": "stream",
                    "text": [
                        "Epoch 6/20\n",
                        "\u001B[2m\u001B[36m(PYUScaffold pid=30094)\u001B[0m {'train-loss': 0.12680132687091827, 'train_multiclassaccuracy': tensor(0.9472), 'train_multiclassprecision': tensor(0.9472), 'val_eval_multiclassaccuracy': tensor(0.9310), 'val_eval_multiclassprecision': tensor(0.9310)}\n",
                        "\u001B[2m\u001B[36m(PYUScaffold pid=30096)\u001B[0m {'train-loss': 0.13826808333396912, 'train_multiclassaccuracy': tensor(0.9612), 'train_multiclassprecision': tensor(0.9612), 'val_eval_multiclassaccuracy': tensor(0.9340), 'val_eval_multiclassprecision': tensor(0.9340)}\n",
                    ],
                },
                {
                    "name": "stderr",
                    "output_type": "stream",
                    "text": [
                        "Train Processing: :  85%|████████▌ | 40/47 [00:00<00:00, 41.96it/s, {'multiclassaccuracy': 0.9551667, 'multiclassprecision': 0.9551667, 'val_multiclassaccuracy': 0.93299997, 'val_multiclassprecision': 0.93299997}]\n",
                        "Train Processing: :  21%|██▏       | 10/47 [00:00<00:00, 58.87it/s]",
                    ],
                },
                {
                    "name": "stdout",
                    "output_type": "stream",
                    "text": [
                        "Epoch 7/20\n",
                        "\u001B[2m\u001B[36m(PYUScaffold pid=30094)\u001B[0m {'train-loss': 0.12527893483638763, 'train_multiclassaccuracy': tensor(0.9485), 'train_multiclassprecision': tensor(0.9485), 'val_eval_multiclassaccuracy': tensor(0.9320), 'val_eval_multiclassprecision': tensor(0.9320)}\n",
                        "\u001B[2m\u001B[36m(PYUScaffold pid=30096)\u001B[0m {'train-loss': 0.13472403585910797, 'train_multiclassaccuracy': tensor(0.9618), 'train_multiclassprecision': tensor(0.9618), 'val_eval_multiclassaccuracy': tensor(0.9340), 'val_eval_multiclassprecision': tensor(0.9340)}\n",
                    ],
                },
                {
                    "name": "stderr",
                    "output_type": "stream",
                    "text": [
                        "Train Processing: :  85%|████████▌ | 40/47 [00:00<00:00, 40.36it/s, {'multiclassaccuracy': 0.9558333, 'multiclassprecision': 0.9558333, 'val_multiclassaccuracy': 0.934, 'val_multiclassprecision': 0.934}]\n",
                        "Train Processing: :  21%|██▏       | 10/47 [00:00<00:00, 55.87it/s]",
                    ],
                },
                {
                    "name": "stdout",
                    "output_type": "stream",
                    "text": [
                        "Epoch 8/20\n",
                        "\u001B[2m\u001B[36m(PYUScaffold pid=30094)\u001B[0m {'train-loss': 0.12385417520999908, 'train_multiclassaccuracy': tensor(0.9492), 'train_multiclassprecision': tensor(0.9492), 'val_eval_multiclassaccuracy': tensor(0.9330), 'val_eval_multiclassprecision': tensor(0.9330)}\n",
                        "\u001B[2m\u001B[36m(PYUScaffold pid=30096)\u001B[0m {'train-loss': 0.13137111067771912, 'train_multiclassaccuracy': tensor(0.9625), 'train_multiclassprecision': tensor(0.9625), 'val_eval_multiclassaccuracy': tensor(0.9350), 'val_eval_multiclassprecision': tensor(0.9350)}\n",
                    ],
                },
                {
                    "name": "stderr",
                    "output_type": "stream",
                    "text": [
                        "Train Processing: :  85%|████████▌ | 40/47 [00:01<00:00, 38.90it/s, {'multiclassaccuracy': 0.95625, 'multiclassprecision': 0.95625, 'val_multiclassaccuracy': 0.9355, 'val_multiclassprecision': 0.9355}]\n",
                        "Train Processing: :  21%|██▏       | 10/47 [00:00<00:00, 56.36it/s]",
                    ],
                },
                {
                    "name": "stdout",
                    "output_type": "stream",
                    "text": [
                        "Epoch 9/20\n",
                        "\u001B[2m\u001B[36m(PYUScaffold pid=30094)\u001B[0m {'train-loss': 0.12250130623579025, 'train_multiclassaccuracy': tensor(0.9498), 'train_multiclassprecision': tensor(0.9498), 'val_eval_multiclassaccuracy': tensor(0.9340), 'val_eval_multiclassprecision': tensor(0.9340)}\n",
                        "\u001B[2m\u001B[36m(PYUScaffold pid=30096)\u001B[0m {'train-loss': 0.1282493770122528, 'train_multiclassaccuracy': tensor(0.9627), 'train_multiclassprecision': tensor(0.9627), 'val_eval_multiclassaccuracy': tensor(0.9370), 'val_eval_multiclassprecision': tensor(0.9370)}\n",
                    ],
                },
                {
                    "name": "stderr",
                    "output_type": "stream",
                    "text": [
                        "Train Processing: :  85%|████████▌ | 40/47 [00:01<00:00, 39.09it/s, {'multiclassaccuracy': 0.95708334, 'multiclassprecision': 0.95708334, 'val_multiclassaccuracy': 0.9355, 'val_multiclassprecision': 0.9355}]\n",
                        "Train Processing: :  21%|██▏       | 10/47 [00:00<00:00, 56.79it/s]",
                    ],
                },
                {
                    "name": "stdout",
                    "output_type": "stream",
                    "text": [
                        "Epoch 10/20\n",
                        "\u001B[2m\u001B[36m(PYUScaffold pid=30094)\u001B[0m {'train-loss': 0.12125091999769211, 'train_multiclassaccuracy': tensor(0.9503), 'train_multiclassprecision': tensor(0.9503), 'val_eval_multiclassaccuracy': tensor(0.9340), 'val_eval_multiclassprecision': tensor(0.9340)}\n",
                        "\u001B[2m\u001B[36m(PYUScaffold pid=30096)\u001B[0m {'train-loss': 0.12517525255680084, 'train_multiclassaccuracy': tensor(0.9638), 'train_multiclassprecision': tensor(0.9638), 'val_eval_multiclassaccuracy': tensor(0.9370), 'val_eval_multiclassprecision': tensor(0.9370)}\n",
                    ],
                },
                {
                    "name": "stderr",
                    "output_type": "stream",
                    "text": [
                        "Train Processing: :  85%|████████▌ | 40/47 [00:01<00:00, 38.56it/s, {'multiclassaccuracy': 0.9575833, 'multiclassprecision': 0.9575833, 'val_multiclassaccuracy': 0.936, 'val_multiclassprecision': 0.936}]\n",
                        "Train Processing: :  21%|██▏       | 10/47 [00:00<00:00, 58.73it/s]",
                    ],
                },
                {
                    "name": "stdout",
                    "output_type": "stream",
                    "text": [
                        "Epoch 11/20\n",
                        "\u001B[2m\u001B[36m(PYUScaffold pid=30094)\u001B[0m {'train-loss': 0.12007195502519608, 'train_multiclassaccuracy': tensor(0.9507), 'train_multiclassprecision': tensor(0.9507), 'val_eval_multiclassaccuracy': tensor(0.9340), 'val_eval_multiclassprecision': tensor(0.9340)}\n",
                        "\u001B[2m\u001B[36m(PYUScaffold pid=30096)\u001B[0m {'train-loss': 0.12227838486433029, 'train_multiclassaccuracy': tensor(0.9645), 'train_multiclassprecision': tensor(0.9645), 'val_eval_multiclassaccuracy': tensor(0.9380), 'val_eval_multiclassprecision': tensor(0.9380)}\n",
                    ],
                },
                {
                    "name": "stderr",
                    "output_type": "stream",
                    "text": [
                        "Train Processing: :  85%|████████▌ | 40/47 [00:01<00:00, 38.14it/s, {'multiclassaccuracy': 0.95808333, 'multiclassprecision': 0.95808333, 'val_multiclassaccuracy': 0.9365, 'val_multiclassprecision': 0.9365}]\n",
                        "Train Processing: :  21%|██▏       | 10/47 [00:00<00:00, 57.09it/s]",
                    ],
                },
                {
                    "name": "stdout",
                    "output_type": "stream",
                    "text": [
                        "Epoch 12/20\n",
                        "\u001B[2m\u001B[36m(PYUScaffold pid=30094)\u001B[0m {'train-loss': 0.118949294090271, 'train_multiclassaccuracy': tensor(0.9513), 'train_multiclassprecision': tensor(0.9513), 'val_eval_multiclassaccuracy': tensor(0.9350), 'val_eval_multiclassprecision': tensor(0.9350)}\n",
                        "\u001B[2m\u001B[36m(PYUScaffold pid=30096)\u001B[0m {'train-loss': 0.11940015852451324, 'train_multiclassaccuracy': tensor(0.9648), 'train_multiclassprecision': tensor(0.9648), 'val_eval_multiclassaccuracy': tensor(0.9380), 'val_eval_multiclassprecision': tensor(0.9380)}\n",
                    ],
                },
                {
                    "name": "stderr",
                    "output_type": "stream",
                    "text": [
                        "Train Processing: :  85%|████████▌ | 40/47 [00:01<00:00, 36.20it/s, {'multiclassaccuracy': 0.95841664, 'multiclassprecision': 0.95841664, 'val_multiclassaccuracy': 0.9385, 'val_multiclassprecision': 0.9385}]\n",
                        "Train Processing: :  21%|██▏       | 10/47 [00:00<00:00, 56.94it/s]",
                    ],
                },
                {
                    "name": "stdout",
                    "output_type": "stream",
                    "text": [
                        "Epoch 13/20\n",
                        "\u001B[2m\u001B[36m(PYUScaffold pid=30094)\u001B[0m {'train-loss': 0.1179082915186882, 'train_multiclassaccuracy': tensor(0.9518), 'train_multiclassprecision': tensor(0.9518), 'val_eval_multiclassaccuracy': tensor(0.9370), 'val_eval_multiclassprecision': tensor(0.9370)}\n",
                        "\u001B[2m\u001B[36m(PYUScaffold pid=30096)\u001B[0m {'train-loss': 0.11659087985754013, 'train_multiclassaccuracy': tensor(0.9650), 'train_multiclassprecision': tensor(0.9650), 'val_eval_multiclassaccuracy': tensor(0.9400), 'val_eval_multiclassprecision': tensor(0.9400)}\n",
                    ],
                },
                {
                    "name": "stderr",
                    "output_type": "stream",
                    "text": [
                        "Train Processing: :  85%|████████▌ | 40/47 [00:01<00:00, 36.25it/s, {'multiclassaccuracy': 0.959, 'multiclassprecision': 0.959, 'val_multiclassaccuracy': 0.9385, 'val_multiclassprecision': 0.9385}]\n",
                        "Train Processing: :  21%|██▏       | 10/47 [00:00<00:00, 57.72it/s]",
                    ],
                },
                {
                    "name": "stdout",
                    "output_type": "stream",
                    "text": [
                        "Epoch 14/20\n",
                        "\u001B[2m\u001B[36m(PYUScaffold pid=30094)\u001B[0m {'train-loss': 0.11691171675920486, 'train_multiclassaccuracy': tensor(0.9528), 'train_multiclassprecision': tensor(0.9528), 'val_eval_multiclassaccuracy': tensor(0.9370), 'val_eval_multiclassprecision': tensor(0.9370)}\n",
                        "\u001B[2m\u001B[36m(PYUScaffold pid=30096)\u001B[0m {'train-loss': 0.11391206085681915, 'train_multiclassaccuracy': tensor(0.9652), 'train_multiclassprecision': tensor(0.9652), 'val_eval_multiclassaccuracy': tensor(0.9400), 'val_eval_multiclassprecision': tensor(0.9400)}\n",
                    ],
                },
                {
                    "name": "stderr",
                    "output_type": "stream",
                    "text": [
                        "Train Processing: :  85%|████████▌ | 40/47 [00:01<00:00, 35.64it/s, {'multiclassaccuracy': 0.95916665, 'multiclassprecision': 0.95916665, 'val_multiclassaccuracy': 0.9395, 'val_multiclassprecision': 0.9395}]\n",
                        "Train Processing: :  21%|██▏       | 10/47 [00:00<00:00, 54.11it/s]",
                    ],
                },
                {
                    "name": "stdout",
                    "output_type": "stream",
                    "text": [
                        "Epoch 15/20\n",
                        "\u001B[2m\u001B[36m(PYUScaffold pid=30094)\u001B[0m {'train-loss': 0.11596597731113434, 'train_multiclassaccuracy': tensor(0.9530), 'train_multiclassprecision': tensor(0.9530), 'val_eval_multiclassaccuracy': tensor(0.9380), 'val_eval_multiclassprecision': tensor(0.9380)}\n",
                        "\u001B[2m\u001B[36m(PYUScaffold pid=30096)\u001B[0m {'train-loss': 0.11134128272533417, 'train_multiclassaccuracy': tensor(0.9653), 'train_multiclassprecision': tensor(0.9653), 'val_eval_multiclassaccuracy': tensor(0.9410), 'val_eval_multiclassprecision': tensor(0.9410)}\n",
                    ],
                },
                {
                    "name": "stderr",
                    "output_type": "stream",
                    "text": [
                        "Train Processing: :  85%|████████▌ | 40/47 [00:01<00:00, 34.72it/s, {'multiclassaccuracy': 0.95975, 'multiclassprecision': 0.95975, 'val_multiclassaccuracy': 0.9395, 'val_multiclassprecision': 0.9395}]\n",
                        "Train Processing: :  21%|██▏       | 10/47 [00:00<00:00, 57.57it/s]",
                    ],
                },
                {
                    "name": "stdout",
                    "output_type": "stream",
                    "text": [
                        "Epoch 16/20\n",
                        "\u001B[2m\u001B[36m(PYUScaffold pid=30094)\u001B[0m {'train-loss': 0.11510802805423737, 'train_multiclassaccuracy': tensor(0.9538), 'train_multiclassprecision': tensor(0.9538), 'val_eval_multiclassaccuracy': tensor(0.9370), 'val_eval_multiclassprecision': tensor(0.9370)}\n",
                        "\u001B[2m\u001B[36m(PYUScaffold pid=30096)\u001B[0m {'train-loss': 0.10886390507221222, 'train_multiclassaccuracy': tensor(0.9657), 'train_multiclassprecision': tensor(0.9657), 'val_eval_multiclassaccuracy': tensor(0.9420), 'val_eval_multiclassprecision': tensor(0.9420)}\n",
                    ],
                },
                {
                    "name": "stderr",
                    "output_type": "stream",
                    "text": [
                        "Train Processing: :  85%|████████▌ | 40/47 [00:01<00:00, 31.04it/s, {'multiclassaccuracy': 0.96033335, 'multiclassprecision': 0.96033335, 'val_multiclassaccuracy': 0.939, 'val_multiclassprecision': 0.939}]\n",
                        "Train Processing: :  21%|██▏       | 10/47 [00:00<00:00, 57.25it/s]",
                    ],
                },
                {
                    "name": "stdout",
                    "output_type": "stream",
                    "text": [
                        "Epoch 17/20\n",
                        "\u001B[2m\u001B[36m(PYUScaffold pid=30094)\u001B[0m {'train-loss': 0.11422350257635117, 'train_multiclassaccuracy': tensor(0.9545), 'train_multiclassprecision': tensor(0.9545), 'val_eval_multiclassaccuracy': tensor(0.9360), 'val_eval_multiclassprecision': tensor(0.9360)}\n",
                        "\u001B[2m\u001B[36m(PYUScaffold pid=30096)\u001B[0m {'train-loss': 0.1064906194806099, 'train_multiclassaccuracy': tensor(0.9662), 'train_multiclassprecision': tensor(0.9662), 'val_eval_multiclassaccuracy': tensor(0.9420), 'val_eval_multiclassprecision': tensor(0.9420)}\n",
                    ],
                },
                {
                    "name": "stderr",
                    "output_type": "stream",
                    "text": [
                        "Train Processing: :  85%|████████▌ | 40/47 [00:01<00:00, 33.94it/s, {'multiclassaccuracy': 0.96075, 'multiclassprecision': 0.96075, 'val_multiclassaccuracy': 0.9395, 'val_multiclassprecision': 0.9395}]\n",
                        "Train Processing: :  21%|██▏       | 10/47 [00:00<00:00, 57.71it/s]",
                    ],
                },
                {
                    "name": "stdout",
                    "output_type": "stream",
                    "text": [
                        "Epoch 18/20\n",
                        "\u001B[2m\u001B[36m(PYUScaffold pid=30094)\u001B[0m {'train-loss': 0.1133730337023735, 'train_multiclassaccuracy': tensor(0.9548), 'train_multiclassprecision': tensor(0.9548), 'val_eval_multiclassaccuracy': tensor(0.9360), 'val_eval_multiclassprecision': tensor(0.9360)}\n",
                        "\u001B[2m\u001B[36m(PYUScaffold pid=30096)\u001B[0m {'train-loss': 0.10420415550470352, 'train_multiclassaccuracy': tensor(0.9667), 'train_multiclassprecision': tensor(0.9667), 'val_eval_multiclassaccuracy': tensor(0.9430), 'val_eval_multiclassprecision': tensor(0.9430)}\n",
                    ],
                },
                {
                    "name": "stderr",
                    "output_type": "stream",
                    "text": [
                        "Train Processing: :  85%|████████▌ | 40/47 [00:01<00:00, 33.07it/s, {'multiclassaccuracy': 0.96141666, 'multiclassprecision': 0.96141666, 'val_multiclassaccuracy': 0.941, 'val_multiclassprecision': 0.941}]\n",
                        "Train Processing: :  21%|██▏       | 10/47 [00:00<00:00, 55.91it/s]",
                    ],
                },
                {
                    "name": "stdout",
                    "output_type": "stream",
                    "text": [
                        "Epoch 19/20\n",
                        "\u001B[2m\u001B[36m(PYUScaffold pid=30094)\u001B[0m {'train-loss': 0.1125573143362999, 'train_multiclassaccuracy': tensor(0.9557), 'train_multiclassprecision': tensor(0.9557), 'val_eval_multiclassaccuracy': tensor(0.9390), 'val_eval_multiclassprecision': tensor(0.9390)}\n",
                        "\u001B[2m\u001B[36m(PYUScaffold pid=30096)\u001B[0m {'train-loss': 0.1019931212067604, 'train_multiclassaccuracy': tensor(0.9672), 'train_multiclassprecision': tensor(0.9672), 'val_eval_multiclassaccuracy': tensor(0.9430), 'val_eval_multiclassprecision': tensor(0.9430)}\n",
                    ],
                },
                {
                    "name": "stderr",
                    "output_type": "stream",
                    "text": [
                        "Train Processing: :  85%|████████▌ | 40/47 [00:01<00:00, 32.33it/s, {'multiclassaccuracy': 0.96183336, 'multiclassprecision': 0.96183336, 'val_multiclassaccuracy': 0.9405, 'val_multiclassprecision': 0.9405}]\n",
                        "Train Processing: :  21%|██▏       | 10/47 [00:00<00:00, 57.80it/s]",
                    ],
                },
                {
                    "name": "stdout",
                    "output_type": "stream",
                    "text": [
                        "Epoch 20/20\n",
                        "\u001B[2m\u001B[36m(PYUScaffold pid=30094)\u001B[0m {'train-loss': 0.11179473251104355, 'train_multiclassaccuracy': tensor(0.9562), 'train_multiclassprecision': tensor(0.9562), 'val_eval_multiclassaccuracy': tensor(0.9380), 'val_eval_multiclassprecision': tensor(0.9380)}\n",
                        "\u001B[2m\u001B[36m(PYUScaffold pid=30096)\u001B[0m {'train-loss': 0.09986114501953125, 'train_multiclassaccuracy': tensor(0.9675), 'train_multiclassprecision': tensor(0.9675), 'val_eval_multiclassaccuracy': tensor(0.9430), 'val_eval_multiclassprecision': tensor(0.9430)}\n",
                    ],
                },
                {
                    "name": "stderr",
                    "output_type": "stream",
                    "text": [
                        "Train Processing: :  85%|████████▌ | 40/47 [00:01<00:00, 31.33it/s, {'multiclassaccuracy': 0.962, 'multiclassprecision': 0.962, 'val_multiclassaccuracy': 0.94200003, 'val_multiclassprecision': 0.94200003}]\n"
                    ],
                },
            ],
            "source": [
                "fl_model_2 = FLModel(\n",
                "    server=server,\n",
                "    device_list=device_list,\n",
                "    model=model_def,\n",
                "    aggregator=aggregator,\n",
                "    # strategy='fed_avg_w',  # fl strategy\n",
                "    strategy='fed_avg_w',  # fl strategy\n",
                "    backend=\"torch\",  # backend support ['tensorflow', 'torch']\n",
                ")\n",
                "history_2 = fl_model.fit(\n",
                "    train_data,\n",
                "    train_label,\n",
                "    validation_data=(test_data, test_label),\n",
                "    epochs=20,\n",
                "    batch_size=128,\n",
                "    aggregate_freq=10,\n",
                ")",
            ],
            "metadata": {
                "collapsed": false,
                "ExecuteTime": {
                    "end_time": "2024-01-18T03:49:51.627629200Z",
                    "start_time": "2024-01-18T03:49:17.476067500Z",
                },
            },
            "id": "6f351e3e0dc81875",
        },
        {
            "cell_type": "code",
            "execution_count": 11,
            "outputs": [
                {
                    "name": "stdout",
                    "output_type": "stream",
                    "text": [
                        "{'alice_train-loss': [0.13459375500679016, 0.1322893649339676, 0.1303166151046753, 0.1284995824098587, 0.12680132687091827, 0.12527893483638763, 0.12385417520999908, 0.12250130623579025, 0.12125091999769211, 0.12007195502519608, 0.118949294090271, 0.1179082915186882, 0.11691171675920486, 0.11596597731113434, 0.11510802805423737, 0.11422350257635117, 0.1133730337023735, 0.1125573143362999, 0.11179473251104355, 0.11106301844120026], 'alice_train_multiclassaccuracy': [tensor(0.9447), tensor(0.9453), tensor(0.9462), tensor(0.9473), tensor(0.9472), tensor(0.9485), tensor(0.9492), tensor(0.9498), tensor(0.9503), tensor(0.9507), tensor(0.9513), tensor(0.9518), tensor(0.9528), tensor(0.9530), tensor(0.9538), tensor(0.9545), tensor(0.9548), tensor(0.9557), tensor(0.9562), tensor(0.9565)], 'alice_train_multiclassprecision': [tensor(0.9447), tensor(0.9453), tensor(0.9462), tensor(0.9473), tensor(0.9472), tensor(0.9485), tensor(0.9492), tensor(0.9498), tensor(0.9503), tensor(0.9507), tensor(0.9513), tensor(0.9518), tensor(0.9528), tensor(0.9530), tensor(0.9538), tensor(0.9545), tensor(0.9548), tensor(0.9557), tensor(0.9562), tensor(0.9565)], 'alice_val_eval_multiclassaccuracy': [tensor(0.9270), tensor(0.9270), tensor(0.9280), tensor(0.9290), tensor(0.9310), tensor(0.9320), tensor(0.9330), tensor(0.9340), tensor(0.9340), tensor(0.9340), tensor(0.9350), tensor(0.9370), tensor(0.9370), tensor(0.9380), tensor(0.9370), tensor(0.9360), tensor(0.9360), tensor(0.9390), tensor(0.9380), tensor(0.9390)], 'alice_val_eval_multiclassprecision': [tensor(0.9270), tensor(0.9270), tensor(0.9280), tensor(0.9290), tensor(0.9310), tensor(0.9320), tensor(0.9330), tensor(0.9340), tensor(0.9340), tensor(0.9340), tensor(0.9350), tensor(0.9370), tensor(0.9370), tensor(0.9380), tensor(0.9370), tensor(0.9360), tensor(0.9360), tensor(0.9390), tensor(0.9380), tensor(0.9390)], 'bob_train-loss': [0.1555732637643814, 0.15068836510181427, 0.14621300995349884, 0.1420775055885315, 0.13826808333396912, 0.13472403585910797, 0.13137111067771912, 0.1282493770122528, 0.12517525255680084, 0.12227838486433029, 0.11940015852451324, 0.11659087985754013, 0.11391206085681915, 0.11134128272533417, 0.10886390507221222, 0.1064906194806099, 0.10420415550470352, 0.1019931212067604, 0.09986114501953125, 0.09782682359218597], 'bob_train_multiclassaccuracy': [tensor(0.9590), tensor(0.9595), tensor(0.9593), tensor(0.9598), tensor(0.9612), tensor(0.9618), tensor(0.9625), tensor(0.9627), tensor(0.9638), tensor(0.9645), tensor(0.9648), tensor(0.9650), tensor(0.9652), tensor(0.9653), tensor(0.9657), tensor(0.9662), tensor(0.9667), tensor(0.9672), tensor(0.9675), tensor(0.9675)], 'bob_train_multiclassprecision': [tensor(0.9590), tensor(0.9595), tensor(0.9593), tensor(0.9598), tensor(0.9612), tensor(0.9618), tensor(0.9625), tensor(0.9627), tensor(0.9638), tensor(0.9645), tensor(0.9648), tensor(0.9650), tensor(0.9652), tensor(0.9653), tensor(0.9657), tensor(0.9662), tensor(0.9667), tensor(0.9672), tensor(0.9675), tensor(0.9675)], 'bob_val_eval_multiclassaccuracy': [tensor(0.9300), tensor(0.9310), tensor(0.9310), tensor(0.9330), tensor(0.9340), tensor(0.9340), tensor(0.9350), tensor(0.9370), tensor(0.9370), tensor(0.9380), tensor(0.9380), tensor(0.9400), tensor(0.9400), tensor(0.9410), tensor(0.9420), tensor(0.9420), tensor(0.9430), tensor(0.9430), tensor(0.9430), tensor(0.9450)], 'bob_val_eval_multiclassprecision': [tensor(0.9300), tensor(0.9310), tensor(0.9310), tensor(0.9330), tensor(0.9340), tensor(0.9340), tensor(0.9350), tensor(0.9370), tensor(0.9370), tensor(0.9380), tensor(0.9380), tensor(0.9400), tensor(0.9400), tensor(0.9410), tensor(0.9420), tensor(0.9420), tensor(0.9430), tensor(0.9430), tensor(0.9430), tensor(0.9450)]}\n"
                    ],
                }
            ],
            "source": ["print(history_2['local_history'])"],
            "metadata": {
                "collapsed": false,
                "ExecuteTime": {
                    "end_time": "2024-01-18T03:49:51.671623300Z",
                    "start_time": "2024-01-18T03:49:51.628625100Z",
                },
            },
            "id": "9595c744fedfbee6",
        },
        {
            "cell_type": "code",
            "execution_count": 12,
            "outputs": [
                {
                    "name": "stdout",
                    "output_type": "stream",
                    "text": [
                        "\u001B[2m\u001B[36m(PYUScaffold pid=30094)\u001B[0m {'train-loss': 0.11106301844120026, 'train_multiclassaccuracy': tensor(0.9565), 'train_multiclassprecision': tensor(0.9565), 'val_eval_multiclassaccuracy': tensor(0.9390), 'val_eval_multiclassprecision': tensor(0.9390)}\n",
                        "\u001B[2m\u001B[36m(PYUScaffold pid=30096)\u001B[0m {'train-loss': 0.09782682359218597, 'train_multiclassaccuracy': tensor(0.9675), 'train_multiclassprecision': tensor(0.9675), 'val_eval_multiclassaccuracy': tensor(0.9450), 'val_eval_multiclassprecision': tensor(0.9450)}\n",
                    ],
                },
                {
                    "data": {
                        "text/plain": "<Figure size 640x480 with 1 Axes>",
                        "image/png": "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",
                    },
                    "metadata": {},
                    "output_type": "display_data",
                },
            ],
            "source": [
                "from matplotlib import pyplot as plt\n",
                "\n",
                "# Draw accuracy values for training & validation\n",
                "plt.plot(history_2['global_history']['multiclassaccuracy'])\n",
                "plt.plot(history_2['global_history']['val_multiclassaccuracy'])\n",
                "plt.plot(history_2['local_history']['alice_train_multiclassaccuracy'])\n",
                "plt.plot(history_2['local_history']['bob_train_multiclassaccuracy'])\n",
                "plt.plot(history_2['local_history']['alice_val_eval_multiclassaccuracy'])\n",
                "plt.plot(history_2['local_history']['bob_val_eval_multiclassaccuracy'])\n",
                "plt.title('FLModel accuracy in FedAvg')\n",
                "plt.ylabel('Accuracy')\n",
                "plt.xlabel('Epoch')\n",
                "plt.legend(['Train', 'Valid','alice_T','bob_T','alice_V','bob_V'], loc='upper left')\n",
                "plt.show()",
            ],
            "metadata": {
                "collapsed": false,
                "ExecuteTime": {
                    "end_time": "2024-01-18T03:49:51.848532600Z",
                    "start_time": "2024-01-18T03:49:51.672623600Z",
                },
            },
            "id": "52bb34aa9b54b501",
        },
    ],
    "metadata": {
        "kernelspec": {
            "display_name": "Python 3",
            "language": "python",
            "name": "python3",
        },
        "language_info": {
            "codemirror_mode": {"name": "ipython", "version": 2},
            "file_extension": ".py",
            "mimetype": "text/x-python",
            "name": "python",
            "nbconvert_exporter": "python",
            "pygments_lexer": "ipython2",
            "version": "2.7.6",
        },
    },
    "nbformat": 4,
    "nbformat_minor": 5,
}
