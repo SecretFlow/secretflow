{
 "cells": [
  {
   "cell_type": "code",
   "execution_count": 1,
   "id": "initial_id",
   "metadata": {
    "collapsed": true,
    "ExecuteTime": {
     "end_time": "2023-12-26T02:23:38.773730100Z",
     "start_time": "2023-12-26T02:23:38.754730200Z"
    }
   },
   "outputs": [],
   "source": [
    "%load_ext autoreload\n",
    "%autoreload 2"
   ]
  },
  {
   "cell_type": "code",
   "execution_count": 2,
   "outputs": [
    {
     "name": "stdout",
     "output_type": "stream",
     "text": [
      "The version of SecretFlow: 1.3.0.dev20231206\n"
     ]
    },
    {
     "name": "stderr",
     "output_type": "stream",
     "text": [
      "2023-12-26 02:23:48,180\tINFO worker.py:1538 -- Started a local Ray instance.\n"
     ]
    }
   ],
   "source": [
    "import secretflow as sf\n",
    "\n",
    "# Check the version of your SecretFlow\n",
    "print('The version of SecretFlow: {}'.format(sf.__version__))\n",
    "\n",
    "# In case you have a running secretflow runtime already.\n",
    "sf.shutdown()\n",
    "\n",
    "sf.init(['alice', 'bob', 'charlie'], address='local')\n",
    "alice, bob, charlie = sf.PYU('alice'), sf.PYU('bob'), sf.PYU('charlie')"
   ],
   "metadata": {
    "collapsed": false,
    "ExecuteTime": {
     "end_time": "2023-12-26T02:23:50.310714500Z",
     "start_time": "2023-12-26T02:23:38.755730Z"
    }
   },
   "id": "a8d7112513230b37"
  },
  {
   "cell_type": "code",
   "execution_count": 3,
   "outputs": [
    {
     "name": "stderr",
     "output_type": "stream",
     "text": [
      "2023-12-26 02:23:52.876185: W tensorflow/compiler/xla/stream_executor/platform/default/dso_loader.cc:64] Could not load dynamic library 'libcudart.so.11.0'; dlerror: libcudart.so.11.0: cannot open shared object file: No such file or directory\n",
      "2023-12-26 02:23:54.823806: W tensorflow/compiler/xla/stream_executor/platform/default/dso_loader.cc:64] Could not load dynamic library 'libnvinfer.so.7'; dlerror: libnvinfer.so.7: cannot open shared object file: No such file or directory\n",
      "2023-12-26 02:23:54.823933: W tensorflow/compiler/xla/stream_executor/platform/default/dso_loader.cc:64] Could not load dynamic library 'libnvinfer_plugin.so.7'; dlerror: libnvinfer_plugin.so.7: cannot open shared object file: No such file or directory\n",
      "2023-12-26 02:23:54.823944: W tensorflow/compiler/tf2tensorrt/utils/py_utils.cc:38] TF-TRT Warning: Cannot dlopen some TensorRT libraries. If you would like to use Nvidia GPU with TensorRT, please make sure the missing libraries mentioned above are installed properly.\n"
     ]
    }
   ],
   "source": [
    "from secretflow.ml.nn.utils import BaseModule, TorchModel\n",
    "from secretflow.ml.nn.fl.utils import metric_wrapper, optim_wrapper\n",
    "from secretflow.ml.nn import FLModel\n",
    "from torchmetrics import Accuracy, Precision\n",
    "from secretflow.security.aggregation import SecureAggregator\n",
    "from torch import nn, optim"
   ],
   "metadata": {
    "collapsed": false,
    "ExecuteTime": {
     "end_time": "2023-12-26T02:23:58.155629700Z",
     "start_time": "2023-12-26T02:23:50.315190200Z"
    }
   },
   "id": "3648cba75ddcff80"
  },
  {
   "cell_type": "markdown",
   "source": [
    "使用的数据集： MNIST, CIFAR-10, CIFAR-100, EMNIST子集： EMNIST-L\n",
    "使用的模型： 对 MNIST 和 EMNIST-L 使用具有 2 个隐藏层的全连接神经网络架构。 各层神经元数量分别为200和100；对于 CIFAR-10 和 CIFAR-100，我们使用 CNN 模型，由 2 个带有 64 个 5 × 5 滤波器的卷积层组成，后跟 2 个带有 394 和 192 个神经元的全连接层，以及一个 softmax 层。\n",
    "下面使用的模型与原文模型略有不同。"
   ],
   "metadata": {
    "collapsed": false
   },
   "id": "24dcff056a5011ed"
  },
  {
   "cell_type": "code",
   "execution_count": 4,
   "outputs": [],
   "source": [
    "class MNIST_Model(BaseModule):\n",
    "    def __init__(self):\n",
    "        super(MNIST_Model, self).__init__()\n",
    "        self.encoder = nn.Sequential(\n",
    "            nn.Flatten(1),\n",
    "            nn.Linear(784, 200),\n",
    "            nn.ReLU(),\n",
    "            nn.Linear(200, 100),\n",
    "            nn.ReLU()\n",
    "        )\n",
    "        self.head = nn.Linear(100, 10)\n",
    "\n",
    "    def forward(self, x):\n",
    "        x = self.encoder(x)\n",
    "        x = self.head(x)\n",
    "        return x\n",
    "    \n",
    "class EMNISTL_Model(BaseModule):\n",
    "    def __init__(self):\n",
    "        super(EMNISTL_Model, self).__init__()\n",
    "        self.encoder = nn.Sequential(\n",
    "            nn.Flatten(1),\n",
    "            nn.Linear(784, 200),\n",
    "            nn.ReLU(),\n",
    "            nn.Linear(200, 100),\n",
    "            nn.ReLU()\n",
    "        )\n",
    "        self.head = nn.Linear(100, 26)\n",
    "\n",
    "    def forward(self, x):\n",
    "        x = self.encoder(x)\n",
    "        x = self.head(x)\n",
    "        return x"
   ],
   "metadata": {
    "collapsed": false,
    "ExecuteTime": {
     "end_time": "2023-12-26T02:23:58.266828900Z",
     "start_time": "2023-12-26T02:23:58.155629700Z"
    }
   },
   "id": "42fc5961e4a71f8e"
  },
  {
   "cell_type": "code",
   "execution_count": 5,
   "outputs": [],
   "source": [
    "from typing import Dict, List, Tuple, Union\n",
    "import numpy as np\n",
    "\n",
    "from secretflow.data.ndarray import FedNdarray, PartitionWay\n",
    "from secretflow.device.device.pyu import PYU\n",
    "\n",
    "def _convert_to_fedndarray(dataloader, parts, is_torch, num_classes_per_client, class_num):\n",
    "    data_list = []\n",
    "    label_list = []\n",
    "    for data, label in dataloader:\n",
    "        if is_torch:\n",
    "            data = data.numpy()\n",
    "            label = label.numpy()\n",
    "        data_list.append(data)\n",
    "        label_list.append(label)\n",
    "    data_list, label_list = np.concatenate(data_list), np.concatenate(label_list)\n",
    "    return create_ndarray(data_list, label_list, parts=parts, is_torch=is_torch, \n",
    "                          num_classes_per_client=num_classes_per_client, class_num=class_num)\n",
    "\n",
    "def create_ndarray(data, labels, parts, is_torch=False, num_classes_per_client=4, class_num=10): # class_num 为数据集的分类类别数\n",
    "    assert len(data) == len(labels), \"Data and labels must have the same length\"\n",
    "    class_indices = {i: np.where(labels == i + min(labels))[0] for i in range(class_num)}\n",
    "    # 分配给每个 PYU 的类别\n",
    "    pyu_classes = {}\n",
    "    total_samples = len(data)\n",
    "    for idx, pyu in enumerate(parts.keys()):\n",
    "        np.random.seed(idx)\n",
    "        pyu_classes[pyu] = np.random.choice(class_num, num_classes_per_client, replace=False)\n",
    "\n",
    "    # 分配数据和标签给每个 PYU\n",
    "    pyu_data = {}\n",
    "    pyu_labels = {}\n",
    "    for pyu, proportion in parts.items():\n",
    "        pyu_sample_size = int(total_samples * proportion)  # 计算每个 PYU 的样本量\n",
    "        # 为每个 PYU 从选定的类别中采样数据\n",
    "        indices = np.concatenate(\n",
    "            [np.random.choice(class_indices[cls], size=pyu_sample_size // num_classes_per_client, replace=True) for cls\n",
    "             in pyu_classes[pyu]])\n",
    "        np.random.shuffle(indices)  # 打乱索引\n",
    "        pyu_data[pyu] = data[indices]\n",
    "        pyu_labels[pyu] = labels[indices]\n",
    "        print(len(pyu_data[pyu]), pyu_classes[pyu],pyu_labels[pyu][0])  # 打印每个PYU的数据量和随机类别\n",
    "\n",
    "    # 将数据和标签转换为 FedNdarray\n",
    "    data_fedndarray = FedNdarray(\n",
    "        partitions={\n",
    "            pyu: pyu(lambda arr: arr)(pyu_data[pyu]) for pyu in parts.keys()\n",
    "        },\n",
    "        partition_way=PartitionWay.HORIZONTAL,\n",
    "    )\n",
    "    labels_fedndarray = FedNdarray(\n",
    "        partitions={\n",
    "            pyu: pyu(lambda arr: arr)(pyu_labels[pyu]) for pyu in parts.keys()\n",
    "        },\n",
    "        partition_way=PartitionWay.HORIZONTAL,\n",
    "    )\n",
    "\n",
    "    return data_fedndarray, labels_fedndarray"
   ],
   "metadata": {
    "collapsed": false,
    "ExecuteTime": {
     "end_time": "2023-12-26T02:23:58.390198700Z",
     "start_time": "2023-12-26T02:23:58.267909600Z"
    }
   },
   "id": "567ca2eef485ecd4"
  },
  {
   "cell_type": "code",
   "execution_count": 6,
   "outputs": [],
   "source": [
    "from torchvision.datasets import MNIST, EMNIST, CIFAR10, CIFAR100\n",
    "from torchvision import transforms\n",
    "from torch.utils.data import DataLoader\n",
    "\n",
    "def load_mnist( # 共有 70000 张， 10 类，60000个训练样本和10000个测试样本\n",
    "        parts: Union[List[PYU], Dict[PYU, Union[float, Tuple]]],\n",
    "        batch_size: int = 1,\n",
    "        is_torch: bool = True,\n",
    "        num_classes_per_client=4,\n",
    "        class_num=10,\n",
    ") -> Tuple[Tuple[FedNdarray, FedNdarray], Tuple[FedNdarray, FedNdarray]]:\n",
    "    \"\"\"Load MNIST dataset to federated ndarrays.\n",
    "\n",
    "    Args:\n",
    "        parts: the data partitions.\n",
    "        batch_size: Batch size for the DataLoader.\n",
    "        is_torch: optional, return torch tensors if True. Default to True.\n",
    "        num_classes_per_client: the random classes number of per client.\n",
    "        class_num: the number of dataset categories\n",
    "        \n",
    "    Returns:\n",
    "        A tuple consists of two tuples, (x_train, y_train) and (x_test, y_test).\n",
    "    \"\"\"\n",
    "    transform = transforms.Compose([\n",
    "        transforms.ToTensor(),\n",
    "        transforms.Normalize((0.5,), (0.5,))\n",
    "    ])\n",
    "\n",
    "    # 加载 EMNIST 训练集和测试集\n",
    "    trainset = MNIST(root='./data', train=True, download=True, transform=transform)\n",
    "    testset = MNIST(root='./data', train=False, download=True, transform=transform)\n",
    "    # EMNIST 数据集主要分为6类：By_Class, By_Merge, Balanced, Digits, Letters, MNIST，其中 MNIST 部分数据较少，共70000张10个子类数据\n",
    "    # 这里使用的是 EMNIST 数据集中的MNIST部分，原论文未对数据集细节进行描述，大概率是使用的整个EMNIST数据集，因此准确率会较低\n",
    "\n",
    "    # 使用 DataLoader 进行批处理\n",
    "    trainloader = DataLoader(trainset, batch_size=batch_size, shuffle=True)\n",
    "    testloader = DataLoader(testset, batch_size=batch_size, shuffle=False)\n",
    "\n",
    "    # 将 DataLoader 转换为 SecretFlow 可处理的格式\n",
    "    # 注意: 这里需要根据 SecretFlow 的要求进行适当的转换\n",
    "    train_data, train_labels = _convert_to_fedndarray(trainloader, parts, is_torch, num_classes_per_client, class_num)\n",
    "    test_data, test_labels = _convert_to_fedndarray(testloader, parts, is_torch, num_classes_per_client, class_num)\n",
    "\n",
    "    return ((train_data, train_labels), (test_data, test_labels))\n",
    "\n",
    "def load_emnist_L( # 共 103600 张，37 类，每一类包含相同数据，每一类训练集 2400 张，测试集 400 张\n",
    "        parts: Union[List[PYU], Dict[PYU, Union[float, Tuple]]],\n",
    "        batch_size: int = 1,\n",
    "        is_torch: bool = True,\n",
    "        num_classes_per_client=4,\n",
    "        class_num=26,\n",
    ") -> Tuple[Tuple[FedNdarray, FedNdarray], Tuple[FedNdarray, FedNdarray]]:\n",
    "    \"\"\"Load EMNIST dataset to federated ndarrays.\n",
    "\n",
    "    Args:\n",
    "        parts: the data partitions.\n",
    "        batch_size: Batch size for the DataLoader.\n",
    "        is_torch: optional, return torch tensors if True. Default to True.\n",
    "        num_classes_per_client: the random classes number of per client.\n",
    "        class_num: the number of dataset categories\n",
    "\n",
    "    Returns:\n",
    "        A tuple consists of two tuples, (x_train, y_train) and (x_test, y_test).\n",
    "    \"\"\"\n",
    "    transform = transforms.Compose([\n",
    "        transforms.ToTensor(),\n",
    "        transforms.Normalize((0.5,), (0.5,))\n",
    "    ])\n",
    "\n",
    "    # 加载 EMNIST 训练集和测试集\n",
    "    trainset = EMNIST(root='./data', train=True, split='letters', download=True, transform=transform)\n",
    "    testset = EMNIST(root='./data', train=False, split='letters', download=True, transform=transform)\n",
    "    # EMNIST 数据集主要分为6类：By_Class, By_Merge, Balanced, Digits, Letters, MNIST\n",
    "\n",
    "    # 使用 DataLoader 进行批处理\n",
    "    trainloader = DataLoader(trainset, batch_size=batch_size, shuffle=True)\n",
    "    testloader = DataLoader(testset, batch_size=batch_size, shuffle=False)\n",
    "\n",
    "    # 将 DataLoader 转换为 SecretFlow 可处理的格式\n",
    "    # 注意: 这里需要根据 SecretFlow 的要求进行适当的转换\n",
    "    train_data, train_labels = _convert_to_fedndarray(trainloader, parts, is_torch, num_classes_per_client, class_num)\n",
    "    test_data, test_labels = _convert_to_fedndarray(testloader, parts, is_torch, num_classes_per_client, class_num)\n",
    "\n",
    "    return ((train_data, train_labels), (test_data, test_labels))"
   ],
   "metadata": {
    "collapsed": false,
    "ExecuteTime": {
     "end_time": "2023-12-26T02:23:58.510769200Z",
     "start_time": "2023-12-26T02:23:58.390198700Z"
    }
   },
   "id": "ba8836e026afa59f"
  },
  {
   "cell_type": "markdown",
   "source": [
    "## 在这里修改要使用的数据集"
   ],
   "metadata": {
    "collapsed": false
   },
   "id": "ee5597c525f42f64"
  },
  {
   "cell_type": "code",
   "execution_count": 7,
   "outputs": [
    {
     "name": "stdout",
     "output_type": "stream",
     "text": [
      "12480 [ 2 20 14 17] 18\n",
      "12480 [18 13 17  3] 4\n",
      "2080 [ 2 20 14 17] 21\n",
      "2080 [18 13 17  3] 18\n"
     ]
    }
   ],
   "source": [
    "load_data = {0:load_mnist, 1:load_emnist_L}\n",
    "model = {0:MNIST_Model, 1:EMNISTL_Model}\n",
    "num_classes = {0:10, 1:26}\n",
    "# i = 0 # 使用 MNIST\n",
    "i = 1 # 使用 EMNIST-L\n",
    "(train_data, train_label), (test_data, test_label) = load_data[i](\n",
    "    parts={alice: 0.1, bob: 0.1},\n",
    "    is_torch=True,\n",
    ")"
   ],
   "metadata": {
    "collapsed": false,
    "ExecuteTime": {
     "end_time": "2023-12-26T02:25:00.922803800Z",
     "start_time": "2023-12-26T02:23:58.510769200Z"
    }
   },
   "id": "c46f47fb8f4bec30"
  },
  {
   "cell_type": "code",
   "execution_count": 8,
   "outputs": [
    {
     "name": "stderr",
     "output_type": "stream",
     "text": [
      "INFO:root:Create proxy actor <class 'secretflow.security.aggregation.secure_aggregator._Masker'> with party alice.\n",
      "INFO:root:Create proxy actor <class 'secretflow.security.aggregation.secure_aggregator._Masker'> with party bob.\n"
     ]
    }
   ],
   "source": [
    "loss_fn = nn.CrossEntropyLoss\n",
    "optim_fn = optim_wrapper(optim.SGD, lr=0.01)\n",
    "model_def = TorchModel(\n",
    "    model_fn=model[i],\n",
    "    loss_fn=loss_fn,\n",
    "    optim_fn=optim_fn,\n",
    "    metrics=[\n",
    "        metric_wrapper(Accuracy, task=\"multiclass\", num_classes=num_classes[i], average='micro'),\n",
    "        metric_wrapper(Precision, task=\"multiclass\", num_classes=num_classes[i], average='micro'),\n",
    "    ],\n",
    ")\n",
    "device_list = [alice, bob]\n",
    "server = charlie\n",
    "aggregator = SecureAggregator(server, [alice, bob])"
   ],
   "metadata": {
    "collapsed": false,
    "ExecuteTime": {
     "end_time": "2023-12-26T02:25:41.734553700Z",
     "start_time": "2023-12-26T02:25:00.922803800Z"
    }
   },
   "id": "3822c10a43b49ea"
  },
  {
   "cell_type": "code",
   "execution_count": 9,
   "outputs": [
    {
     "name": "stderr",
     "output_type": "stream",
     "text": [
      "INFO:root:Create proxy actor <class 'secretflow.ml.nn.fl.backend.torch.strategy.fed_dyn.PYUFedDYN'> with party alice.\n",
      "INFO:root:Create proxy actor <class 'secretflow.ml.nn.fl.backend.torch.strategy.fed_dyn.PYUFedDYN'> with party bob.\n",
      "INFO:root:FL Train Params: {'x': FedNdarray(partitions={PYURuntime(alice): <secretflow.device.device.pyu.PYUObject object at 0x7f2f42f94580>, PYURuntime(bob): <secretflow.device.device.pyu.PYUObject object at 0x7f2f42fb0a90>}, partition_way=<PartitionWay.HORIZONTAL: 'horizontal'>), 'y': FedNdarray(partitions={PYURuntime(alice): <secretflow.device.device.pyu.PYUObject object at 0x7f2f42fb0ca0>, PYURuntime(bob): <secretflow.device.device.pyu.PYUObject object at 0x7f3031311eb0>}, partition_way=<PartitionWay.HORIZONTAL: 'horizontal'>), 'batch_size': 128, 'batch_sampling_rate': None, 'epochs': 20, 'verbose': 1, 'callbacks': None, 'validation_data': (FedNdarray(partitions={PYURuntime(alice): <secretflow.device.device.pyu.PYUObject object at 0x7f2f42fb0d60>, PYURuntime(bob): <secretflow.device.device.pyu.PYUObject object at 0x7f2f3bf460d0>}, partition_way=<PartitionWay.HORIZONTAL: 'horizontal'>), FedNdarray(partitions={PYURuntime(alice): <secretflow.device.device.pyu.PYUObject object at 0x7f2f3bf461f0>, PYURuntime(bob): <secretflow.device.device.pyu.PYUObject object at 0x7f2f3bf460a0>}, partition_way=<PartitionWay.HORIZONTAL: 'horizontal'>)), 'shuffle': False, 'class_weight': None, 'sample_weight': None, 'validation_freq': 1, 'aggregate_freq': 10, 'label_decoder': None, 'max_batch_size': 20000, 'prefetch_buffer_size': None, 'sampler_method': 'batch', 'random_seed': 75058, 'dp_spent_step_freq': None, 'audit_log_dir': None, 'dataset_builder': None, 'wait_steps': 100, 'self': <secretflow.ml.nn.fl.fl_model.FLModel object at 0x7f2f42fa2dc0>}\n",
      "\u001B[2m\u001B[36m(pid=2240451)\u001B[0m 2023-12-26 02:26:25.330013: W tensorflow/compiler/xla/stream_executor/platform/default/dso_loader.cc:64] Could not load dynamic library 'libcudart.so.11.0'; dlerror: libcudart.so.11.0: cannot open shared object file: No such file or directory\n",
      "\u001B[2m\u001B[36m(pid=2240451)\u001B[0m 2023-12-26 02:26:26.815203: W tensorflow/compiler/xla/stream_executor/platform/default/dso_loader.cc:64] Could not load dynamic library 'libnvinfer.so.7'; dlerror: libnvinfer.so.7: cannot open shared object file: No such file or directory\n",
      "\u001B[2m\u001B[36m(pid=2240451)\u001B[0m 2023-12-26 02:26:26.815288: W tensorflow/compiler/xla/stream_executor/platform/default/dso_loader.cc:64] Could not load dynamic library 'libnvinfer_plugin.so.7'; dlerror: libnvinfer_plugin.so.7: cannot open shared object file: No such file or directory\n",
      "\u001B[2m\u001B[36m(pid=2240451)\u001B[0m 2023-12-26 02:26:26.815296: W tensorflow/compiler/tf2tensorrt/utils/py_utils.cc:38] TF-TRT Warning: Cannot dlopen some TensorRT libraries. If you would like to use Nvidia GPU with TensorRT, please make sure the missing libraries mentioned above are installed properly.\n",
      "\u001B[2m\u001B[36m(pid=2240517)\u001B[0m 2023-12-26 02:26:42.317359: W tensorflow/compiler/xla/stream_executor/platform/default/dso_loader.cc:64] Could not load dynamic library 'libcudart.so.11.0'; dlerror: libcudart.so.11.0: cannot open shared object file: No such file or directory\n",
      "\u001B[2m\u001B[36m(pid=2240517)\u001B[0m 2023-12-26 02:27:15.225963: W tensorflow/compiler/xla/stream_executor/platform/default/dso_loader.cc:64] Could not load dynamic library 'libnvinfer.so.7'; dlerror: libnvinfer.so.7: cannot open shared object file: No such file or directory\n",
      "\u001B[2m\u001B[36m(pid=2240517)\u001B[0m 2023-12-26 02:27:15.226055: W tensorflow/compiler/xla/stream_executor/platform/default/dso_loader.cc:64] Could not load dynamic library 'libnvinfer_plugin.so.7'; dlerror: libnvinfer_plugin.so.7: cannot open shared object file: No such file or directory\n",
      "\u001B[2m\u001B[36m(pid=2240517)\u001B[0m 2023-12-26 02:27:15.226064: W tensorflow/compiler/tf2tensorrt/utils/py_utils.cc:38] TF-TRT Warning: Cannot dlopen some TensorRT libraries. If you would like to use Nvidia GPU with TensorRT, please make sure the missing libraries mentioned above are installed properly.\n",
      "Train Processing: :   0%|          | 0/98 [00:00<?, ?it/s]"
     ]
    },
    {
     "name": "stdout",
     "output_type": "stream",
     "text": [
      "Epoch 1/20\n"
     ]
    },
    {
     "name": "stderr",
     "output_type": "stream",
     "text": [
      "Train Processing: :  92%|█████████▏| 90/98 [00:36<00:02,  2.77it/s]/home/cyf/anaconda3/envs/secretflow/lib/python3.8/site-packages/secretflow/ml/nn/metrics.py:59: UserWarning: Please pay attention to local metrics, global only do naive aggregation.\n",
      "  warnings.warn(\n",
      "2023-12-26 02:29:03.409956: W tensorflow/compiler/xla/stream_executor/platform/default/dso_loader.cc:64] Could not load dynamic library 'libcusolver.so.11'; dlerror: libcusolver.so.11: cannot open shared object file: No such file or directory\n",
      "2023-12-26 02:29:03.410044: W tensorflow/core/common_runtime/gpu/gpu_device.cc:1934] Cannot dlopen some GPU libraries. Please make sure the missing libraries mentioned above are installed properly if you would like to use GPU. Follow the guide at https://www.tensorflow.org/install/gpu for how to download and setup the required libraries for your platform.\n",
      "Skipping registering GPU devices...\n",
      "Train Processing: :  92%|█████████▏| 90/98 [00:40<00:03,  2.22it/s, {'multiclassaccuracy': 0.26177883, 'multiclassprecision': 0.26177883, 'val_multiclassaccuracy': 0.25, 'val_multiclassprecision': 0.25}]\n"
     ]
    },
    {
     "name": "stdout",
     "output_type": "stream",
     "text": [
      "\u001B[2m\u001B[36m(PYUFedDYN pid=2240451)\u001B[0m {'train-loss': 3.794959545135498, 'train_multiclassaccuracy': tensor(0.2873), 'train_multiclassprecision': tensor(0.2873), 'val_eval_multiclassaccuracy': tensor(0.2500), 'val_eval_multiclassprecision': tensor(0.2500)}\n"
     ]
    },
    {
     "name": "stderr",
     "output_type": "stream",
     "text": [
      "Train Processing: :   0%|          | 0/98 [00:00<?, ?it/s]"
     ]
    },
    {
     "name": "stdout",
     "output_type": "stream",
     "text": [
      "Epoch 2/20\n",
      "\u001B[2m\u001B[36m(PYUFedDYN pid=2240517)\u001B[0m {'train-loss': 4.745523452758789, 'train_multiclassaccuracy': tensor(0.2362), 'train_multiclassprecision': tensor(0.2362), 'val_eval_multiclassaccuracy': tensor(0.2500), 'val_eval_multiclassprecision': tensor(0.2500)}\n"
     ]
    },
    {
     "name": "stderr",
     "output_type": "stream",
     "text": [
      "Train Processing: :  92%|█████████▏| 90/98 [00:37<00:03,  2.39it/s, {'multiclassaccuracy': 0.2914263, 'multiclassprecision': 0.2914263, 'val_multiclassaccuracy': 0.25, 'val_multiclassprecision': 0.25}]\n",
      "Train Processing: :   0%|          | 0/98 [00:00<?, ?it/s]"
     ]
    },
    {
     "name": "stdout",
     "output_type": "stream",
     "text": [
      "Epoch 3/20\n",
      "\u001B[2m\u001B[36m(PYUFedDYN pid=2240451)\u001B[0m {'train-loss': 2.512716054916382, 'train_multiclassaccuracy': tensor(0.2974), 'train_multiclassprecision': tensor(0.2974), 'val_eval_multiclassaccuracy': tensor(0.2500), 'val_eval_multiclassprecision': tensor(0.2500)}\n",
      "\u001B[2m\u001B[36m(PYUFedDYN pid=2240517)\u001B[0m {'train-loss': 2.5623252391815186, 'train_multiclassaccuracy': tensor(0.2855), 'train_multiclassprecision': tensor(0.2855), 'val_eval_multiclassaccuracy': tensor(0.2500), 'val_eval_multiclassprecision': tensor(0.2500)}\n"
     ]
    },
    {
     "name": "stderr",
     "output_type": "stream",
     "text": [
      "Train Processing: :  92%|█████████▏| 90/98 [00:39<00:03,  2.29it/s, {'multiclassaccuracy': 0.39635417, 'multiclassprecision': 0.39635417, 'val_multiclassaccuracy': 0.25048077, 'val_multiclassprecision': 0.25048077}]\n"
     ]
    },
    {
     "name": "stdout",
     "output_type": "stream",
     "text": [
      "\u001B[2m\u001B[36m(PYUFedDYN pid=2240451)\u001B[0m {'train-loss': 2.0767440795898438, 'train_multiclassaccuracy': tensor(0.4011), 'train_multiclassprecision': tensor(0.4011), 'val_eval_multiclassaccuracy': tensor(0.2510), 'val_eval_multiclassprecision': tensor(0.2510)}\n"
     ]
    },
    {
     "name": "stderr",
     "output_type": "stream",
     "text": [
      "Train Processing: :   0%|          | 0/98 [00:00<?, ?it/s]"
     ]
    },
    {
     "name": "stdout",
     "output_type": "stream",
     "text": [
      "Epoch 4/20\n",
      "\u001B[2m\u001B[36m(PYUFedDYN pid=2240517)\u001B[0m {'train-loss': 2.1670150756835938, 'train_multiclassaccuracy': tensor(0.3916), 'train_multiclassprecision': tensor(0.3916), 'val_eval_multiclassaccuracy': tensor(0.2500), 'val_eval_multiclassprecision': tensor(0.2500)}\n"
     ]
    },
    {
     "name": "stderr",
     "output_type": "stream",
     "text": [
      "Train Processing: :  92%|█████████▏| 90/98 [00:36<00:03,  2.50it/s, {'multiclassaccuracy': 0.50324523, 'multiclassprecision': 0.50324523, 'val_multiclassaccuracy': 0.4002404, 'val_multiclassprecision': 0.4002404}]\n",
      "Train Processing: :   0%|          | 0/98 [00:00<?, ?it/s]"
     ]
    },
    {
     "name": "stdout",
     "output_type": "stream",
     "text": [
      "Epoch 5/20\n",
      "\u001B[2m\u001B[36m(PYUFedDYN pid=2240451)\u001B[0m {'train-loss': 2.075655698776245, 'train_multiclassaccuracy': tensor(0.4946), 'train_multiclassprecision': tensor(0.4946), 'val_eval_multiclassaccuracy': tensor(0.3596), 'val_eval_multiclassprecision': tensor(0.3596)}\n",
      "\u001B[2m\u001B[36m(PYUFedDYN pid=2240517)\u001B[0m {'train-loss': 2.0732345581054688, 'train_multiclassaccuracy': tensor(0.5119), 'train_multiclassprecision': tensor(0.5119), 'val_eval_multiclassaccuracy': tensor(0.4409), 'val_eval_multiclassprecision': tensor(0.4409)}\n"
     ]
    },
    {
     "name": "stderr",
     "output_type": "stream",
     "text": [
      "Train Processing: :  92%|█████████▏| 90/98 [00:38<00:03,  2.33it/s, {'multiclassaccuracy': 0.5996394, 'multiclassprecision': 0.5996394, 'val_multiclassaccuracy': 0.6026442, 'val_multiclassprecision': 0.6026442}]\n",
      "Train Processing: :   0%|          | 0/98 [00:00<?, ?it/s]"
     ]
    },
    {
     "name": "stdout",
     "output_type": "stream",
     "text": [
      "Epoch 6/20\n",
      "\u001B[2m\u001B[36m(PYUFedDYN pid=2240451)\u001B[0m {'train-loss': 2.032959461212158, 'train_multiclassaccuracy': tensor(0.5863), 'train_multiclassprecision': tensor(0.5863), 'val_eval_multiclassaccuracy': tensor(0.5957), 'val_eval_multiclassprecision': tensor(0.5957)}\n",
      "\u001B[2m\u001B[36m(PYUFedDYN pid=2240517)\u001B[0m {'train-loss': 1.89757239818573, 'train_multiclassaccuracy': tensor(0.6130), 'train_multiclassprecision': tensor(0.6130), 'val_eval_multiclassaccuracy': tensor(0.6096), 'val_eval_multiclassprecision': tensor(0.6096)}\n"
     ]
    },
    {
     "name": "stderr",
     "output_type": "stream",
     "text": [
      "Train Processing: :  92%|█████████▏| 90/98 [00:35<00:03,  2.51it/s, {'multiclassaccuracy': 0.6877003, 'multiclassprecision': 0.6877003, 'val_multiclassaccuracy': 0.67836535, 'val_multiclassprecision': 0.67836535}]\n",
      "Train Processing: :   0%|          | 0/98 [00:00<?, ?it/s]"
     ]
    },
    {
     "name": "stdout",
     "output_type": "stream",
     "text": [
      "Epoch 7/20\n",
      "\u001B[2m\u001B[36m(PYUFedDYN pid=2240451)\u001B[0m {'train-loss': 1.9244282245635986, 'train_multiclassaccuracy': tensor(0.6942), 'train_multiclassprecision': tensor(0.6942), 'val_eval_multiclassaccuracy': tensor(0.7188), 'val_eval_multiclassprecision': tensor(0.7188)}\n",
      "\u001B[2m\u001B[36m(PYUFedDYN pid=2240517)\u001B[0m {'train-loss': 1.6751306056976318, 'train_multiclassaccuracy': tensor(0.6812), 'train_multiclassprecision': tensor(0.6812), 'val_eval_multiclassaccuracy': tensor(0.6380), 'val_eval_multiclassprecision': tensor(0.6380)}\n"
     ]
    },
    {
     "name": "stderr",
     "output_type": "stream",
     "text": [
      "Train Processing: :  92%|█████████▏| 90/98 [00:35<00:03,  2.53it/s, {'multiclassaccuracy': 0.75616986, 'multiclassprecision': 0.75616986, 'val_multiclassaccuracy': 0.7242788, 'val_multiclassprecision': 0.7242788}]\n",
      "Train Processing: :   0%|          | 0/98 [00:00<?, ?it/s]"
     ]
    },
    {
     "name": "stdout",
     "output_type": "stream",
     "text": [
      "Epoch 8/20\n",
      "\u001B[2m\u001B[36m(PYUFedDYN pid=2240451)\u001B[0m {'train-loss': 1.830076813697815, 'train_multiclassaccuracy': tensor(0.7706), 'train_multiclassprecision': tensor(0.7706), 'val_eval_multiclassaccuracy': tensor(0.7808), 'val_eval_multiclassprecision': tensor(0.7808)}\n",
      "\u001B[2m\u001B[36m(PYUFedDYN pid=2240517)\u001B[0m {'train-loss': 1.4427299499511719, 'train_multiclassaccuracy': tensor(0.7417), 'train_multiclassprecision': tensor(0.7417), 'val_eval_multiclassaccuracy': tensor(0.6678), 'val_eval_multiclassprecision': tensor(0.6678)}\n"
     ]
    },
    {
     "name": "stderr",
     "output_type": "stream",
     "text": [
      "Train Processing: :  92%|█████████▏| 90/98 [00:33<00:02,  2.70it/s, {'multiclassaccuracy': 0.80400646, 'multiclassprecision': 0.80400646, 'val_multiclassaccuracy': 0.7528846, 'val_multiclassprecision': 0.7528846}]\n",
      "Train Processing: :   0%|          | 0/98 [00:00<?, ?it/s]"
     ]
    },
    {
     "name": "stdout",
     "output_type": "stream",
     "text": [
      "Epoch 9/20\n",
      "\u001B[2m\u001B[36m(PYUFedDYN pid=2240451)\u001B[0m {'train-loss': 1.605041742324829, 'train_multiclassaccuracy': tensor(0.8229), 'train_multiclassprecision': tensor(0.8229), 'val_eval_multiclassaccuracy': tensor(0.8062), 'val_eval_multiclassprecision': tensor(0.8062)}\n",
      "\u001B[2m\u001B[36m(PYUFedDYN pid=2240517)\u001B[0m {'train-loss': 1.18393874168396, 'train_multiclassaccuracy': tensor(0.7851), 'train_multiclassprecision': tensor(0.7851), 'val_eval_multiclassaccuracy': tensor(0.6995), 'val_eval_multiclassprecision': tensor(0.6995)}\n"
     ]
    },
    {
     "name": "stderr",
     "output_type": "stream",
     "text": [
      "Train Processing: :  92%|█████████▏| 90/98 [00:42<00:03,  2.11it/s, {'multiclassaccuracy': 0.83633816, 'multiclassprecision': 0.83633816, 'val_multiclassaccuracy': 0.77572113, 'val_multiclassprecision': 0.77572113}]\n"
     ]
    },
    {
     "name": "stdout",
     "output_type": "stream",
     "text": [
      "\u001B[2m\u001B[36m(PYUFedDYN pid=2240451)\u001B[0m {'train-loss': 1.2386958599090576, 'train_multiclassaccuracy': tensor(0.8538), 'train_multiclassprecision': tensor(0.8538), 'val_eval_multiclassaccuracy': tensor(0.8236), 'val_eval_multiclassprecision': tensor(0.8236)}\n",
      "\u001B[2m\u001B[36m(PYUFedDYN pid=2240517)\u001B[0m {'train-loss': 0.939348042011261, 'train_multiclassaccuracy': tensor(0.8189), 'train_multiclassprecision': tensor(0.8189), 'val_eval_multiclassaccuracy': tensor(0.7279), 'val_eval_multiclassprecision': tensor(0.7279)}\n"
     ]
    },
    {
     "name": "stderr",
     "output_type": "stream",
     "text": [
      "Train Processing: :   0%|          | 0/98 [00:00<?, ?it/s]"
     ]
    },
    {
     "name": "stdout",
     "output_type": "stream",
     "text": [
      "Epoch 10/20\n"
     ]
    },
    {
     "name": "stderr",
     "output_type": "stream",
     "text": [
      "Train Processing: :  92%|█████████▏| 90/98 [00:39<00:03,  2.28it/s, {'multiclassaccuracy': 0.8534055, 'multiclassprecision': 0.8534055, 'val_multiclassaccuracy': 0.7920673, 'val_multiclassprecision': 0.7920673}]\n",
      "Train Processing: :   0%|          | 0/98 [00:00<?, ?it/s]"
     ]
    },
    {
     "name": "stdout",
     "output_type": "stream",
     "text": [
      "Epoch 11/20\n",
      "\u001B[2m\u001B[36m(PYUFedDYN pid=2240451)\u001B[0m {'train-loss': 0.8955532908439636, 'train_multiclassaccuracy': tensor(0.8700), 'train_multiclassprecision': tensor(0.8700), 'val_eval_multiclassaccuracy': tensor(0.8351), 'val_eval_multiclassprecision': tensor(0.8351)}\n",
      "\u001B[2m\u001B[36m(PYUFedDYN pid=2240517)\u001B[0m {'train-loss': 0.7381981611251831, 'train_multiclassaccuracy': tensor(0.8368), 'train_multiclassprecision': tensor(0.8368), 'val_eval_multiclassaccuracy': tensor(0.7490), 'val_eval_multiclassprecision': tensor(0.7490)}\n"
     ]
    },
    {
     "name": "stderr",
     "output_type": "stream",
     "text": [
      "Train Processing: :  92%|█████████▏| 90/98 [00:41<00:03,  2.17it/s, {'multiclassaccuracy': 0.86470354, 'multiclassprecision': 0.86470354, 'val_multiclassaccuracy': 0.7997596, 'val_multiclassprecision': 0.7997596}]\n"
     ]
    },
    {
     "name": "stdout",
     "output_type": "stream",
     "text": [
      "\u001B[2m\u001B[36m(PYUFedDYN pid=2240451)\u001B[0m {'train-loss': 0.6246516704559326, 'train_multiclassaccuracy': tensor(0.8812), 'train_multiclassprecision': tensor(0.8812), 'val_eval_multiclassaccuracy': tensor(0.8428), 'val_eval_multiclassprecision': tensor(0.8428)}\n"
     ]
    },
    {
     "name": "stderr",
     "output_type": "stream",
     "text": [
      "Train Processing: :   0%|          | 0/98 [00:00<?, ?it/s]"
     ]
    },
    {
     "name": "stdout",
     "output_type": "stream",
     "text": [
      "Epoch 12/20\n",
      "\u001B[2m\u001B[36m(PYUFedDYN pid=2240517)\u001B[0m {'train-loss': 0.5806959271430969, 'train_multiclassaccuracy': tensor(0.8482), 'train_multiclassprecision': tensor(0.8482), 'val_eval_multiclassaccuracy': tensor(0.7567), 'val_eval_multiclassprecision': tensor(0.7567)}\n"
     ]
    },
    {
     "name": "stderr",
     "output_type": "stream",
     "text": [
      "Train Processing: :  92%|█████████▏| 90/98 [00:41<00:03,  2.19it/s, {'multiclassaccuracy': 0.8725561, 'multiclassprecision': 0.8725561, 'val_multiclassaccuracy': 0.8084135, 'val_multiclassprecision': 0.8084135}]\n",
      "Train Processing: :   0%|          | 0/98 [00:00<?, ?it/s]"
     ]
    },
    {
     "name": "stdout",
     "output_type": "stream",
     "text": [
      "Epoch 13/20\n",
      "\u001B[2m\u001B[36m(PYUFedDYN pid=2240451)\u001B[0m {'train-loss': 0.41548609733581543, 'train_multiclassaccuracy': tensor(0.8877), 'train_multiclassprecision': tensor(0.8877), 'val_eval_multiclassaccuracy': tensor(0.8457), 'val_eval_multiclassprecision': tensor(0.8457)}\n",
      "\u001B[2m\u001B[36m(PYUFedDYN pid=2240517)\u001B[0m {'train-loss': 0.45794543623924255, 'train_multiclassaccuracy': tensor(0.8574), 'train_multiclassprecision': tensor(0.8574), 'val_eval_multiclassaccuracy': tensor(0.7712), 'val_eval_multiclassprecision': tensor(0.7712)}\n"
     ]
    },
    {
     "name": "stderr",
     "output_type": "stream",
     "text": [
      "Train Processing: :  92%|█████████▏| 90/98 [00:40<00:03,  2.22it/s, {'multiclassaccuracy': 0.87804484, 'multiclassprecision': 0.87804484, 'val_multiclassaccuracy': 0.8161058, 'val_multiclassprecision': 0.8161058}]\n",
      "Train Processing: :   0%|          | 0/98 [00:00<?, ?it/s]"
     ]
    },
    {
     "name": "stdout",
     "output_type": "stream",
     "text": [
      "Epoch 14/20\n",
      "\u001B[2m\u001B[36m(PYUFedDYN pid=2240451)\u001B[0m {'train-loss': 0.2454618662595749, 'train_multiclassaccuracy': tensor(0.8927), 'train_multiclassprecision': tensor(0.8927), 'val_eval_multiclassaccuracy': tensor(0.8500), 'val_eval_multiclassprecision': tensor(0.8500)}\n",
      "\u001B[2m\u001B[36m(PYUFedDYN pid=2240517)\u001B[0m {'train-loss': 0.3586876690387726, 'train_multiclassaccuracy': tensor(0.8634), 'train_multiclassprecision': tensor(0.8634), 'val_eval_multiclassaccuracy': tensor(0.7822), 'val_eval_multiclassprecision': tensor(0.7822)}\n"
     ]
    },
    {
     "name": "stderr",
     "output_type": "stream",
     "text": [
      "Train Processing: :  92%|█████████▏| 90/98 [00:42<00:03,  2.12it/s, {'multiclassaccuracy': 0.8830529, 'multiclassprecision': 0.8830529, 'val_multiclassaccuracy': 0.8213942, 'val_multiclassprecision': 0.8213942}]\n",
      "Train Processing: :   0%|          | 0/98 [00:00<?, ?it/s]"
     ]
    },
    {
     "name": "stdout",
     "output_type": "stream",
     "text": [
      "Epoch 15/20\n",
      "\u001B[2m\u001B[36m(PYUFedDYN pid=2240451)\u001B[0m {'train-loss': 0.10278697311878204, 'train_multiclassaccuracy': tensor(0.8970), 'train_multiclassprecision': tensor(0.8970), 'val_eval_multiclassaccuracy': tensor(0.8538), 'val_eval_multiclassprecision': tensor(0.8538)}\n",
      "\u001B[2m\u001B[36m(PYUFedDYN pid=2240517)\u001B[0m {'train-loss': 0.27769675850868225, 'train_multiclassaccuracy': tensor(0.8691), 'train_multiclassprecision': tensor(0.8691), 'val_eval_multiclassaccuracy': tensor(0.7889), 'val_eval_multiclassprecision': tensor(0.7889)}\n"
     ]
    },
    {
     "name": "stderr",
     "output_type": "stream",
     "text": [
      "Train Processing: :  92%|█████████▏| 90/98 [00:40<00:03,  2.20it/s, {'multiclassaccuracy': 0.88697916, 'multiclassprecision': 0.88697916, 'val_multiclassaccuracy': 0.821875, 'val_multiclassprecision': 0.821875}]\n",
      "Train Processing: :   0%|          | 0/98 [00:00<?, ?it/s]"
     ]
    },
    {
     "name": "stdout",
     "output_type": "stream",
     "text": [
      "\u001B[2m\u001B[36m(PYUFedDYN pid=2240451)\u001B[0m {'train-loss': -0.020406024530529976, 'train_multiclassaccuracy': tensor(0.9003), 'train_multiclassprecision': tensor(0.9003), 'val_eval_multiclassaccuracy': tensor(0.8558), 'val_eval_multiclassprecision': tensor(0.8558)}\n",
      "Epoch 16/20\n",
      "\u001B[2m\u001B[36m(PYUFedDYN pid=2240517)\u001B[0m {'train-loss': 0.20450250804424286, 'train_multiclassaccuracy': tensor(0.8736), 'train_multiclassprecision': tensor(0.8736), 'val_eval_multiclassaccuracy': tensor(0.7880), 'val_eval_multiclassprecision': tensor(0.7880)}\n"
     ]
    },
    {
     "name": "stderr",
     "output_type": "stream",
     "text": [
      "Train Processing: :  92%|█████████▏| 90/98 [00:31<00:02,  2.88it/s, {'multiclassaccuracy': 0.88958335, 'multiclassprecision': 0.88958335, 'val_multiclassaccuracy': 0.82572114, 'val_multiclassprecision': 0.82572114}]\n",
      "Train Processing: :   0%|          | 0/98 [00:00<?, ?it/s]"
     ]
    },
    {
     "name": "stdout",
     "output_type": "stream",
     "text": [
      "Epoch 17/20\n",
      "\u001B[2m\u001B[36m(PYUFedDYN pid=2240451)\u001B[0m {'train-loss': -0.13350263237953186, 'train_multiclassaccuracy': tensor(0.9021), 'train_multiclassprecision': tensor(0.9021), 'val_eval_multiclassaccuracy': tensor(0.8606), 'val_eval_multiclassprecision': tensor(0.8606)}\n",
      "\u001B[2m\u001B[36m(PYUFedDYN pid=2240517)\u001B[0m {'train-loss': 0.1362878531217575, 'train_multiclassaccuracy': tensor(0.8771), 'train_multiclassprecision': tensor(0.8771), 'val_eval_multiclassaccuracy': tensor(0.7909), 'val_eval_multiclassprecision': tensor(0.7909)}\n"
     ]
    },
    {
     "name": "stderr",
     "output_type": "stream",
     "text": [
      "Train Processing: :  92%|█████████▏| 90/98 [00:12<00:01,  7.41it/s, {'multiclassaccuracy': 0.8922676, 'multiclassprecision': 0.8922676, 'val_multiclassaccuracy': 0.82908654, 'val_multiclassprecision': 0.82908654}]\n",
      "Train Processing: :   0%|          | 0/98 [00:00<?, ?it/s]"
     ]
    },
    {
     "name": "stdout",
     "output_type": "stream",
     "text": [
      "Epoch 18/20\n",
      "\u001B[2m\u001B[36m(PYUFedDYN pid=2240451)\u001B[0m {'train-loss': -0.23322425782680511, 'train_multiclassaccuracy': tensor(0.9039), 'train_multiclassprecision': tensor(0.9039), 'val_eval_multiclassaccuracy': tensor(0.8620), 'val_eval_multiclassprecision': tensor(0.8620)}\n",
      "\u001B[2m\u001B[36m(PYUFedDYN pid=2240517)\u001B[0m {'train-loss': 0.06517574936151505, 'train_multiclassaccuracy': tensor(0.8806), 'train_multiclassprecision': tensor(0.8806), 'val_eval_multiclassaccuracy': tensor(0.7962), 'val_eval_multiclassprecision': tensor(0.7962)}\n"
     ]
    },
    {
     "name": "stderr",
     "output_type": "stream",
     "text": [
      "Train Processing: :  92%|█████████▏| 90/98 [00:26<00:02,  3.40it/s, {'multiclassaccuracy': 0.89427084, 'multiclassprecision': 0.89427084, 'val_multiclassaccuracy': 0.83197117, 'val_multiclassprecision': 0.83197117}]\n",
      "Train Processing: :   0%|          | 0/98 [00:00<?, ?it/s]"
     ]
    },
    {
     "name": "stdout",
     "output_type": "stream",
     "text": [
      "Epoch 19/20\n",
      "\u001B[2m\u001B[36m(PYUFedDYN pid=2240451)\u001B[0m {'train-loss': -0.32694005966186523, 'train_multiclassaccuracy': tensor(0.9062), 'train_multiclassprecision': tensor(0.9062), 'val_eval_multiclassaccuracy': tensor(0.8654), 'val_eval_multiclassprecision': tensor(0.8654)}\n",
      "\u001B[2m\u001B[36m(PYUFedDYN pid=2240517)\u001B[0m {'train-loss': -0.0060754683800041676, 'train_multiclassaccuracy': tensor(0.8824), 'train_multiclassprecision': tensor(0.8824), 'val_eval_multiclassaccuracy': tensor(0.7986), 'val_eval_multiclassprecision': tensor(0.7986)}\n"
     ]
    },
    {
     "name": "stderr",
     "output_type": "stream",
     "text": [
      "Train Processing: :  92%|█████████▏| 90/98 [00:22<00:01,  4.00it/s, {'multiclassaccuracy': 0.896234, 'multiclassprecision': 0.896234, 'val_multiclassaccuracy': 0.8350961, 'val_multiclassprecision': 0.8350961}]\n",
      "Train Processing: :   0%|          | 0/98 [00:00<?, ?it/s]"
     ]
    },
    {
     "name": "stdout",
     "output_type": "stream",
     "text": [
      "Epoch 20/20\n",
      "\u001B[2m\u001B[36m(PYUFedDYN pid=2240451)\u001B[0m {'train-loss': -0.41389429569244385, 'train_multiclassaccuracy': tensor(0.9079), 'train_multiclassprecision': tensor(0.9079), 'val_eval_multiclassaccuracy': tensor(0.8692), 'val_eval_multiclassprecision': tensor(0.8692)}\n",
      "\u001B[2m\u001B[36m(PYUFedDYN pid=2240517)\u001B[0m {'train-loss': -0.07672053575515747, 'train_multiclassaccuracy': tensor(0.8845), 'train_multiclassprecision': tensor(0.8845), 'val_eval_multiclassaccuracy': tensor(0.8010), 'val_eval_multiclassprecision': tensor(0.8010)}\n"
     ]
    },
    {
     "name": "stderr",
     "output_type": "stream",
     "text": [
      "Train Processing: :  92%|█████████▏| 90/98 [00:29<00:02,  3.02it/s, {'multiclassaccuracy': 0.8980769, 'multiclassprecision': 0.8980769, 'val_multiclassaccuracy': 0.8403846, 'val_multiclassprecision': 0.8403846}]\n"
     ]
    },
    {
     "name": "stdout",
     "output_type": "stream",
     "text": [
      "\u001B[2m\u001B[36m(PYUFedDYN pid=2240451)\u001B[0m {'train-loss': -0.4960310459136963, 'train_multiclassaccuracy': tensor(0.9099), 'train_multiclassprecision': tensor(0.9099), 'val_eval_multiclassaccuracy': tensor(0.8740), 'val_eval_multiclassprecision': tensor(0.8740)}\n",
      "\u001B[2m\u001B[36m(PYUFedDYN pid=2240517)\u001B[0m {'train-loss': -0.1542942374944687, 'train_multiclassaccuracy': tensor(0.8863), 'train_multiclassprecision': tensor(0.8863), 'val_eval_multiclassaccuracy': tensor(0.8067), 'val_eval_multiclassprecision': tensor(0.8067)}\n"
     ]
    }
   ],
   "source": [
    "# spcify params\n",
    "fl_model = FLModel(\n",
    "    server=server,\n",
    "    device_list=device_list,\n",
    "    model=model_def,\n",
    "    aggregator=aggregator,\n",
    "    strategy='fed_dyn',\n",
    "    backend=\"torch\",\n",
    ")\n",
    "history = fl_model.fit(\n",
    "    train_data,\n",
    "    train_label,\n",
    "    validation_data=(test_data, test_label),\n",
    "    epochs=20,\n",
    "    batch_size=128,\n",
    "    aggregate_freq=10,\n",
    ")"
   ],
   "metadata": {
    "collapsed": false,
    "ExecuteTime": {
     "end_time": "2023-12-26T02:40:43.352894300Z",
     "start_time": "2023-12-26T02:25:41.736565Z"
    }
   },
   "id": "f420ce80c650070e"
  },
  {
   "cell_type": "code",
   "execution_count": 10,
   "outputs": [
    {
     "name": "stdout",
     "output_type": "stream",
     "text": [
      "{'alice_train-loss': [3.794959545135498, 2.512716054916382, 2.0767440795898438, 2.075655698776245, 2.032959461212158, 1.9244282245635986, 1.830076813697815, 1.605041742324829, 1.2386958599090576, 0.8955532908439636, 0.6246516704559326, 0.41548609733581543, 0.2454618662595749, 0.10278697311878204, -0.020406024530529976, -0.13350263237953186, -0.23322425782680511, -0.32694005966186523, -0.41389429569244385, -0.4960310459136963], 'alice_train_multiclassaccuracy': [tensor(0.2873), tensor(0.2974), tensor(0.4011), tensor(0.4946), tensor(0.5863), tensor(0.6942), tensor(0.7706), tensor(0.8229), tensor(0.8538), tensor(0.8700), tensor(0.8812), tensor(0.8877), tensor(0.8927), tensor(0.8970), tensor(0.9003), tensor(0.9021), tensor(0.9039), tensor(0.9062), tensor(0.9079), tensor(0.9099)], 'alice_train_multiclassprecision': [tensor(0.2873), tensor(0.2974), tensor(0.4011), tensor(0.4946), tensor(0.5863), tensor(0.6942), tensor(0.7706), tensor(0.8229), tensor(0.8538), tensor(0.8700), tensor(0.8812), tensor(0.8877), tensor(0.8927), tensor(0.8970), tensor(0.9003), tensor(0.9021), tensor(0.9039), tensor(0.9062), tensor(0.9079), tensor(0.9099)], 'alice_val_eval_multiclassaccuracy': [tensor(0.2500), tensor(0.2500), tensor(0.2510), tensor(0.3596), tensor(0.5957), tensor(0.7188), tensor(0.7808), tensor(0.8062), tensor(0.8236), tensor(0.8351), tensor(0.8428), tensor(0.8457), tensor(0.8500), tensor(0.8538), tensor(0.8558), tensor(0.8606), tensor(0.8620), tensor(0.8654), tensor(0.8692), tensor(0.8740)], 'alice_val_eval_multiclassprecision': [tensor(0.2500), tensor(0.2500), tensor(0.2510), tensor(0.3596), tensor(0.5957), tensor(0.7188), tensor(0.7808), tensor(0.8062), tensor(0.8236), tensor(0.8351), tensor(0.8428), tensor(0.8457), tensor(0.8500), tensor(0.8538), tensor(0.8558), tensor(0.8606), tensor(0.8620), tensor(0.8654), tensor(0.8692), tensor(0.8740)], 'bob_train-loss': [4.745523452758789, 2.5623252391815186, 2.1670150756835938, 2.0732345581054688, 1.89757239818573, 1.6751306056976318, 1.4427299499511719, 1.18393874168396, 0.939348042011261, 0.7381981611251831, 0.5806959271430969, 0.45794543623924255, 0.3586876690387726, 0.27769675850868225, 0.20450250804424286, 0.1362878531217575, 0.06517574936151505, -0.0060754683800041676, -0.07672053575515747, -0.1542942374944687], 'bob_train_multiclassaccuracy': [tensor(0.2362), tensor(0.2855), tensor(0.3916), tensor(0.5119), tensor(0.6130), tensor(0.6812), tensor(0.7417), tensor(0.7851), tensor(0.8189), tensor(0.8368), tensor(0.8482), tensor(0.8574), tensor(0.8634), tensor(0.8691), tensor(0.8736), tensor(0.8771), tensor(0.8806), tensor(0.8824), tensor(0.8845), tensor(0.8863)], 'bob_train_multiclassprecision': [tensor(0.2362), tensor(0.2855), tensor(0.3916), tensor(0.5119), tensor(0.6130), tensor(0.6812), tensor(0.7417), tensor(0.7851), tensor(0.8189), tensor(0.8368), tensor(0.8482), tensor(0.8574), tensor(0.8634), tensor(0.8691), tensor(0.8736), tensor(0.8771), tensor(0.8806), tensor(0.8824), tensor(0.8845), tensor(0.8863)], 'bob_val_eval_multiclassaccuracy': [tensor(0.2500), tensor(0.2500), tensor(0.2500), tensor(0.4409), tensor(0.6096), tensor(0.6380), tensor(0.6678), tensor(0.6995), tensor(0.7279), tensor(0.7490), tensor(0.7567), tensor(0.7712), tensor(0.7822), tensor(0.7889), tensor(0.7880), tensor(0.7909), tensor(0.7962), tensor(0.7986), tensor(0.8010), tensor(0.8067)], 'bob_val_eval_multiclassprecision': [tensor(0.2500), tensor(0.2500), tensor(0.2500), tensor(0.4409), tensor(0.6096), tensor(0.6380), tensor(0.6678), tensor(0.6995), tensor(0.7279), tensor(0.7490), tensor(0.7567), tensor(0.7712), tensor(0.7822), tensor(0.7889), tensor(0.7880), tensor(0.7909), tensor(0.7962), tensor(0.7986), tensor(0.8010), tensor(0.8067)]}\n"
     ]
    }
   ],
   "source": [
    "print(history['local_history'])"
   ],
   "metadata": {
    "collapsed": false,
    "ExecuteTime": {
     "end_time": "2023-12-26T02:40:43.553617600Z",
     "start_time": "2023-12-26T02:40:43.358594600Z"
    }
   },
   "id": "9057b745bc588200"
  },
  {
   "cell_type": "code",
   "execution_count": 11,
   "outputs": [
    {
     "data": {
      "text/plain": "<Figure size 640x480 with 1 Axes>",
      "image/png": "[encoded data removed]"
     },
     "metadata": {},
     "output_type": "display_data"
    }
   ],
   "source": [
    "from matplotlib import pyplot as plt\n",
    "\n",
    "# Draw accuracy values for training & validation\n",
    "plt.plot(history['global_history']['multiclassaccuracy'])\n",
    "plt.plot(history['global_history']['val_multiclassaccuracy'])\n",
    "plt.plot(history['local_history']['alice_train_multiclassaccuracy'])\n",
    "plt.plot(history['local_history']['bob_train_multiclassaccuracy'])\n",
    "plt.plot(history['local_history']['alice_val_eval_multiclassaccuracy'])\n",
    "plt.plot(history['local_history']['bob_val_eval_multiclassaccuracy'])\n",
    "plt.title('FLModel accuracy in FedDYN')\n",
    "plt.ylabel('Accuracy')\n",
    "plt.xlabel('Epoch')\n",
    "plt.legend(['Train', 'Valid','alice_T','bob_T','alice_V','bob_V'], loc='upper left')\n",
    "plt.show()"
   ],
   "metadata": {
    "collapsed": false,
    "ExecuteTime": {
     "end_time": "2023-12-26T02:40:44.868868800Z",
     "start_time": "2023-12-26T02:40:43.566308100Z"
    }
   },
   "id": "95675bdf838fa4d9"
  },
  {
   "cell_type": "code",
   "execution_count": 12,
   "outputs": [
    {
     "name": "stderr",
     "output_type": "stream",
     "text": [
      "INFO:root:Create proxy actor <class 'secretflow.ml.nn.fl.backend.torch.strategy.fed_avg_w.PYUFedAvgW'> with party alice.\n",
      "INFO:root:Create proxy actor <class 'secretflow.ml.nn.fl.backend.torch.strategy.fed_avg_w.PYUFedAvgW'> with party bob.\n",
      "INFO:root:FL Train Params: {'x': FedNdarray(partitions={PYURuntime(alice): <secretflow.device.device.pyu.PYUObject object at 0x7f2f42f94580>, PYURuntime(bob): <secretflow.device.device.pyu.PYUObject object at 0x7f2f42fb0a90>}, partition_way=<PartitionWay.HORIZONTAL: 'horizontal'>), 'y': FedNdarray(partitions={PYURuntime(alice): <secretflow.device.device.pyu.PYUObject object at 0x7f2f42fb0ca0>, PYURuntime(bob): <secretflow.device.device.pyu.PYUObject object at 0x7f3031311eb0>}, partition_way=<PartitionWay.HORIZONTAL: 'horizontal'>), 'batch_size': 128, 'batch_sampling_rate': None, 'epochs': 20, 'verbose': 1, 'callbacks': None, 'validation_data': (FedNdarray(partitions={PYURuntime(alice): <secretflow.device.device.pyu.PYUObject object at 0x7f2f42fb0d60>, PYURuntime(bob): <secretflow.device.device.pyu.PYUObject object at 0x7f2f3bf460d0>}, partition_way=<PartitionWay.HORIZONTAL: 'horizontal'>), FedNdarray(partitions={PYURuntime(alice): <secretflow.device.device.pyu.PYUObject object at 0x7f2f3bf461f0>, PYURuntime(bob): <secretflow.device.device.pyu.PYUObject object at 0x7f2f3bf460a0>}, partition_way=<PartitionWay.HORIZONTAL: 'horizontal'>)), 'shuffle': False, 'class_weight': None, 'sample_weight': None, 'validation_freq': 1, 'aggregate_freq': 10, 'label_decoder': None, 'max_batch_size': 20000, 'prefetch_buffer_size': None, 'sampler_method': 'batch', 'random_seed': 91531, 'dp_spent_step_freq': None, 'audit_log_dir': None, 'dataset_builder': None, 'wait_steps': 100, 'self': <secretflow.ml.nn.fl.fl_model.FLModel object at 0x7f2f42fa2dc0>}\n",
      "Train Processing: :   0%|          | 0/98 [00:00<?, ?it/s]"
     ]
    },
    {
     "name": "stdout",
     "output_type": "stream",
     "text": [
      "Epoch 1/20\n"
     ]
    },
    {
     "name": "stderr",
     "output_type": "stream",
     "text": [
      "Train Processing: :  31%|███       | 30/98 [00:09<00:18,  3.71it/s]\u001B[2m\u001B[36m(pid=2249886)\u001B[0m 2023-12-26 02:40:58.756271: W tensorflow/compiler/xla/stream_executor/platform/default/dso_loader.cc:64] Could not load dynamic library 'libcudart.so.11.0'; dlerror: libcudart.so.11.0: cannot open shared object file: No such file or directory\n",
      "Train Processing: :  41%|████      | 40/98 [00:11<00:14,  3.90it/s]\u001B[2m\u001B[36m(pid=2249951)\u001B[0m 2023-12-26 02:40:59.958454: W tensorflow/compiler/xla/stream_executor/platform/default/dso_loader.cc:64] Could not load dynamic library 'libcudart.so.11.0'; dlerror: libcudart.so.11.0: cannot open shared object file: No such file or directory\n",
      "Train Processing: :  51%|█████     | 50/98 [00:14<00:12,  3.85it/s]\u001B[2m\u001B[36m(pid=2249886)\u001B[0m 2023-12-26 02:41:02.520471: W tensorflow/compiler/xla/stream_executor/platform/default/dso_loader.cc:64] Could not load dynamic library 'libnvinfer.so.7'; dlerror: libnvinfer.so.7: cannot open shared object file: No such file or directory\n",
      "\u001B[2m\u001B[36m(pid=2249886)\u001B[0m 2023-12-26 02:41:02.520564: W tensorflow/compiler/xla/stream_executor/platform/default/dso_loader.cc:64] Could not load dynamic library 'libnvinfer_plugin.so.7'; dlerror: libnvinfer_plugin.so.7: cannot open shared object file: No such file or directory\n",
      "\u001B[2m\u001B[36m(pid=2249886)\u001B[0m 2023-12-26 02:41:02.520573: W tensorflow/compiler/tf2tensorrt/utils/py_utils.cc:38] TF-TRT Warning: Cannot dlopen some TensorRT libraries. If you would like to use Nvidia GPU with TensorRT, please make sure the missing libraries mentioned above are installed properly.\n",
      "Train Processing: :  92%|█████████▏| 90/98 [00:20<00:01,  5.29it/s]/home/cyf/anaconda3/envs/secretflow/lib/python3.8/site-packages/secretflow/ml/nn/metrics.py:59: UserWarning: Please pay attention to local metrics, global only do naive aggregation.\n",
      "  warnings.warn(\n",
      "Train Processing: :  92%|█████████▏| 90/98 [00:26<00:02,  3.39it/s, {'multiclassaccuracy': 0.8998798, 'multiclassprecision': 0.8998798, 'val_multiclassaccuracy': 0.84375, 'val_multiclassprecision': 0.84375}]\n",
      "Train Processing: :   0%|          | 0/98 [00:00<?, ?it/s]"
     ]
    },
    {
     "name": "stdout",
     "output_type": "stream",
     "text": [
      "Epoch 2/20\n",
      "\u001B[2m\u001B[36m(PYUFedDYN pid=2240451)\u001B[0m {'train-loss': -0.5729689598083496, 'train_multiclassaccuracy': tensor(0.9107), 'train_multiclassprecision': tensor(0.9107), 'val_eval_multiclassaccuracy': tensor(0.8798), 'val_eval_multiclassprecision': tensor(0.8798)}\n",
      "\u001B[2m\u001B[36m(PYUFedDYN pid=2240517)\u001B[0m {'train-loss': -0.24142688512802124, 'train_multiclassaccuracy': tensor(0.8890), 'train_multiclassprecision': tensor(0.8890), 'val_eval_multiclassaccuracy': tensor(0.8077), 'val_eval_multiclassprecision': tensor(0.8077)}\n"
     ]
    },
    {
     "name": "stderr",
     "output_type": "stream",
     "text": [
      "\u001B[2m\u001B[36m(pid=2249951)\u001B[0m 2023-12-26 02:41:19.410783: W tensorflow/compiler/xla/stream_executor/platform/default/dso_loader.cc:64] Could not load dynamic library 'libnvinfer.so.7'; dlerror: libnvinfer.so.7: cannot open shared object file: No such file or directory\n",
      "\u001B[2m\u001B[36m(pid=2249951)\u001B[0m 2023-12-26 02:41:19.410872: W tensorflow/compiler/xla/stream_executor/platform/default/dso_loader.cc:64] Could not load dynamic library 'libnvinfer_plugin.so.7'; dlerror: libnvinfer_plugin.so.7: cannot open shared object file: No such file or directory\n",
      "\u001B[2m\u001B[36m(pid=2249951)\u001B[0m 2023-12-26 02:41:19.410881: W tensorflow/compiler/tf2tensorrt/utils/py_utils.cc:38] TF-TRT Warning: Cannot dlopen some TensorRT libraries. If you would like to use Nvidia GPU with TensorRT, please make sure the missing libraries mentioned above are installed properly.\n",
      "Train Processing: :  92%|█████████▏| 90/98 [00:31<00:02,  2.87it/s, {'multiclassaccuracy': 0.9016426, 'multiclassprecision': 0.9016426, 'val_multiclassaccuracy': 0.8439904, 'val_multiclassprecision': 0.8439904}]\n",
      "Train Processing: :   0%|          | 0/98 [00:00<?, ?it/s]"
     ]
    },
    {
     "name": "stdout",
     "output_type": "stream",
     "text": [
      "Epoch 3/20\n",
      "\u001B[2m\u001B[36m(PYUFedDYN pid=2240451)\u001B[0m {'train-loss': -0.6594232320785522, 'train_multiclassaccuracy': tensor(0.9119), 'train_multiclassprecision': tensor(0.9119), 'val_eval_multiclassaccuracy': tensor(0.8788), 'val_eval_multiclassprecision': tensor(0.8788)}\n",
      "\u001B[2m\u001B[36m(PYUFedDYN pid=2240517)\u001B[0m {'train-loss': -0.31832805275917053, 'train_multiclassaccuracy': tensor(0.8913), 'train_multiclassprecision': tensor(0.8913), 'val_eval_multiclassaccuracy': tensor(0.8091), 'val_eval_multiclassprecision': tensor(0.8091)}\n"
     ]
    },
    {
     "name": "stderr",
     "output_type": "stream",
     "text": [
      "Train Processing: :  92%|█████████▏| 90/98 [00:32<00:02,  2.78it/s, {'multiclassaccuracy': 0.9026442, 'multiclassprecision': 0.9026442, 'val_multiclassaccuracy': 0.8449519, 'val_multiclassprecision': 0.8449519}]\n",
      "Train Processing: :   0%|          | 0/98 [00:00<?, ?it/s]"
     ]
    },
    {
     "name": "stdout",
     "output_type": "stream",
     "text": [
      "Epoch 4/20\n",
      "\u001B[2m\u001B[36m(PYUFedDYN pid=2240451)\u001B[0m {'train-loss': -0.7391104102134705, 'train_multiclassaccuracy': tensor(0.9124), 'train_multiclassprecision': tensor(0.9124), 'val_eval_multiclassaccuracy': tensor(0.8784), 'val_eval_multiclassprecision': tensor(0.8784)}\n",
      "\u001B[2m\u001B[36m(PYUFedDYN pid=2240517)\u001B[0m {'train-loss': -0.40349987149238586, 'train_multiclassaccuracy': tensor(0.8929), 'train_multiclassprecision': tensor(0.8929), 'val_eval_multiclassaccuracy': tensor(0.8115), 'val_eval_multiclassprecision': tensor(0.8115)}\n"
     ]
    },
    {
     "name": "stderr",
     "output_type": "stream",
     "text": [
      "Train Processing: :  92%|█████████▏| 90/98 [00:31<00:02,  2.84it/s, {'multiclassaccuracy': 0.90436697, 'multiclassprecision': 0.90436697, 'val_multiclassaccuracy': 0.8473558, 'val_multiclassprecision': 0.8473558}]\n"
     ]
    },
    {
     "name": "stdout",
     "output_type": "stream",
     "text": [
      "\u001B[2m\u001B[36m(PYUFedDYN pid=2240451)\u001B[0m {'train-loss': -0.8208961486816406, 'train_multiclassaccuracy': tensor(0.9131), 'train_multiclassprecision': tensor(0.9131), 'val_eval_multiclassaccuracy': tensor(0.8813), 'val_eval_multiclassprecision': tensor(0.8813)}\n",
      "\u001B[2m\u001B[36m(PYUFedDYN pid=2240451)\u001B[0m \n",
      "\u001B[2m\u001B[36m(PYUFedDYN pid=2240517)\u001B[0m {'train-loss': -0.4857953190803528, 'train_multiclassaccuracy': tensor(0.8957), 'train_multiclassprecision': tensor(0.8957), 'val_eval_multiclassaccuracy': tensor(0.8135), 'val_eval_multiclassprecision': tensor(0.8135)}\n"
     ]
    },
    {
     "name": "stderr",
     "output_type": "stream",
     "text": [
      "Train Processing: :   0%|          | 0/98 [00:00<?, ?it/s]"
     ]
    },
    {
     "name": "stdout",
     "output_type": "stream",
     "text": [
      "Epoch 5/20\n",
      "\u001B[2m\u001B[36m(PYUFedDYN pid=2240517)\u001B[0m \n"
     ]
    },
    {
     "name": "stderr",
     "output_type": "stream",
     "text": [
      "Train Processing: :  92%|█████████▏| 90/98 [00:27<00:02,  3.29it/s, {'multiclassaccuracy': 0.9053285, 'multiclassprecision': 0.9053285, 'val_multiclassaccuracy': 0.84831727, 'val_multiclassprecision': 0.84831727}]\n",
      "Train Processing: :   0%|          | 0/98 [00:00<?, ?it/s]"
     ]
    },
    {
     "name": "stdout",
     "output_type": "stream",
     "text": [
      "Epoch 6/20\n",
      "\u001B[2m\u001B[36m(PYUFedDYN pid=2240451)\u001B[0m {'train-loss': -0.9049100875854492, 'train_multiclassaccuracy': tensor(0.9139), 'train_multiclassprecision': tensor(0.9139), 'val_eval_multiclassaccuracy': tensor(0.8837), 'val_eval_multiclassprecision': tensor(0.8837)}\n",
      "\u001B[2m\u001B[36m(PYUFedDYN pid=2240517)\u001B[0m {'train-loss': -0.5795552134513855, 'train_multiclassaccuracy': tensor(0.8967), 'train_multiclassprecision': tensor(0.8967), 'val_eval_multiclassaccuracy': tensor(0.8130), 'val_eval_multiclassprecision': tensor(0.8130)}\n"
     ]
    },
    {
     "name": "stderr",
     "output_type": "stream",
     "text": [
      "Train Processing: :  92%|█████████▏| 90/98 [00:31<00:02,  2.85it/s, {'multiclassaccuracy': 0.9060898, 'multiclassprecision': 0.9060898, 'val_multiclassaccuracy': 0.8492788, 'val_multiclassprecision': 0.8492788}]\n",
      "Train Processing: :   0%|          | 0/98 [00:00<?, ?it/s]"
     ]
    },
    {
     "name": "stdout",
     "output_type": "stream",
     "text": [
      "Epoch 7/20\n",
      "\u001B[2m\u001B[36m(PYUFedDYN pid=2240451)\u001B[0m {'train-loss': -0.9857649207115173, 'train_multiclassaccuracy': tensor(0.9139), 'train_multiclassprecision': tensor(0.9139), 'val_eval_multiclassaccuracy': tensor(0.8851), 'val_eval_multiclassprecision': tensor(0.8851)}\n",
      "\u001B[2m\u001B[36m(PYUFedDYN pid=2240517)\u001B[0m {'train-loss': -0.6570270657539368, 'train_multiclassaccuracy': tensor(0.8982), 'train_multiclassprecision': tensor(0.8982), 'val_eval_multiclassaccuracy': tensor(0.8135), 'val_eval_multiclassprecision': tensor(0.8135)}\n"
     ]
    },
    {
     "name": "stderr",
     "output_type": "stream",
     "text": [
      "Train Processing: :  92%|█████████▏| 90/98 [00:31<00:02,  2.89it/s, {'multiclassaccuracy': 0.9065705, 'multiclassprecision': 0.9065705, 'val_multiclassaccuracy': 0.8497596, 'val_multiclassprecision': 0.8497596}]\n",
      "Train Processing: :   0%|          | 0/98 [00:00<?, ?it/s]"
     ]
    },
    {
     "name": "stdout",
     "output_type": "stream",
     "text": [
      "Epoch 8/20\n",
      "\u001B[2m\u001B[36m(PYUFedDYN pid=2240451)\u001B[0m {'train-loss': -1.0810891389846802, 'train_multiclassaccuracy': tensor(0.9142), 'train_multiclassprecision': tensor(0.9142), 'val_eval_multiclassaccuracy': tensor(0.8865), 'val_eval_multiclassprecision': tensor(0.8865)}\n",
      "\u001B[2m\u001B[36m(PYUFedDYN pid=2240517)\u001B[0m {'train-loss': -0.7449828386306763, 'train_multiclassaccuracy': tensor(0.8990), 'train_multiclassprecision': tensor(0.8990), 'val_eval_multiclassaccuracy': tensor(0.8130), 'val_eval_multiclassprecision': tensor(0.8130)}\n"
     ]
    },
    {
     "name": "stderr",
     "output_type": "stream",
     "text": [
      "Train Processing: :  92%|█████████▏| 90/98 [00:31<00:02,  2.87it/s, {'multiclassaccuracy': 0.906891, 'multiclassprecision': 0.906891, 'val_multiclassaccuracy': 0.8492788, 'val_multiclassprecision': 0.8492788}]\n",
      "Train Processing: :   0%|          | 0/98 [00:00<?, ?it/s]"
     ]
    },
    {
     "name": "stdout",
     "output_type": "stream",
     "text": [
      "Epoch 9/20\n",
      "\u001B[2m\u001B[36m(PYUFedDYN pid=2240451)\u001B[0m {'train-loss': -1.1536775827407837, 'train_multiclassaccuracy': tensor(0.9143), 'train_multiclassprecision': tensor(0.9143), 'val_eval_multiclassaccuracy': tensor(0.8885), 'val_eval_multiclassprecision': tensor(0.8885)}\n",
      "\u001B[2m\u001B[36m(PYUFedDYN pid=2240517)\u001B[0m {'train-loss': -0.8344694972038269, 'train_multiclassaccuracy': tensor(0.8995), 'train_multiclassprecision': tensor(0.8995), 'val_eval_multiclassaccuracy': tensor(0.8101), 'val_eval_multiclassprecision': tensor(0.8101)}\n"
     ]
    },
    {
     "name": "stderr",
     "output_type": "stream",
     "text": [
      "Train Processing: :  92%|█████████▏| 90/98 [00:33<00:02,  2.69it/s, {'multiclassaccuracy': 0.9073317, 'multiclassprecision': 0.9073317, 'val_multiclassaccuracy': 0.8497596, 'val_multiclassprecision': 0.8497596}]\n",
      "Train Processing: :   0%|          | 0/98 [00:00<?, ?it/s]"
     ]
    },
    {
     "name": "stdout",
     "output_type": "stream",
     "text": [
      "Epoch 10/20\n",
      "\u001B[2m\u001B[36m(PYUFedDYN pid=2240451)\u001B[0m {'train-loss': -1.2498149871826172, 'train_multiclassaccuracy': tensor(0.9139), 'train_multiclassprecision': tensor(0.9139), 'val_eval_multiclassaccuracy': tensor(0.8875), 'val_eval_multiclassprecision': tensor(0.8875)}\n",
      "\u001B[2m\u001B[36m(PYUFedDYN pid=2240517)\u001B[0m {'train-loss': -0.9254679679870605, 'train_multiclassaccuracy': tensor(0.9008), 'train_multiclassprecision': tensor(0.9008), 'val_eval_multiclassaccuracy': tensor(0.8120), 'val_eval_multiclassprecision': tensor(0.8120)}\n"
     ]
    },
    {
     "name": "stderr",
     "output_type": "stream",
     "text": [
      "Train Processing: :  92%|█████████▏| 90/98 [00:29<00:02,  3.08it/s, {'multiclassaccuracy': 0.90757215, 'multiclassprecision': 0.90757215, 'val_multiclassaccuracy': 0.8504808, 'val_multiclassprecision': 0.8504808}]\n"
     ]
    },
    {
     "name": "stdout",
     "output_type": "stream",
     "text": [
      "\u001B[2m\u001B[36m(PYUFedDYN pid=2240451)\u001B[0m {'train-loss': -1.3439548015594482, 'train_multiclassaccuracy': tensor(0.9139), 'train_multiclassprecision': tensor(0.9139), 'val_eval_multiclassaccuracy': tensor(0.8880), 'val_eval_multiclassprecision': tensor(0.8880)}\n"
     ]
    },
    {
     "name": "stderr",
     "output_type": "stream",
     "text": [
      "Train Processing: :   0%|          | 0/98 [00:00<?, ?it/s]"
     ]
    },
    {
     "name": "stdout",
     "output_type": "stream",
     "text": [
      "Epoch 11/20\n",
      "\u001B[2m\u001B[36m(PYUFedDYN pid=2240517)\u001B[0m {'train-loss': -1.0157570838928223, 'train_multiclassaccuracy': tensor(0.9013), 'train_multiclassprecision': tensor(0.9013), 'val_eval_multiclassaccuracy': tensor(0.8130), 'val_eval_multiclassprecision': tensor(0.8130)}\n"
     ]
    },
    {
     "name": "stderr",
     "output_type": "stream",
     "text": [
      "Train Processing: :  92%|█████████▏| 90/98 [00:31<00:02,  2.81it/s, {'multiclassaccuracy': 0.9079327, 'multiclassprecision': 0.9079327, 'val_multiclassaccuracy': 0.8512019, 'val_multiclassprecision': 0.8512019}]\n",
      "Train Processing: :   0%|          | 0/98 [00:00<?, ?it/s]"
     ]
    },
    {
     "name": "stdout",
     "output_type": "stream",
     "text": [
      "Epoch 12/20\n",
      "\u001B[2m\u001B[36m(PYUFedDYN pid=2240451)\u001B[0m {'train-loss': -1.4356552362442017, 'train_multiclassaccuracy': tensor(0.9150), 'train_multiclassprecision': tensor(0.9150), 'val_eval_multiclassaccuracy': tensor(0.8889), 'val_eval_multiclassprecision': tensor(0.8889)}\n",
      "\u001B[2m\u001B[36m(PYUFedDYN pid=2240517)\u001B[0m {'train-loss': -1.1214447021484375, 'train_multiclassaccuracy': tensor(0.9009), 'train_multiclassprecision': tensor(0.9009), 'val_eval_multiclassaccuracy': tensor(0.8135), 'val_eval_multiclassprecision': tensor(0.8135)}\n"
     ]
    },
    {
     "name": "stderr",
     "output_type": "stream",
     "text": [
      "Train Processing: :  92%|█████████▏| 90/98 [00:35<00:03,  2.53it/s, {'multiclassaccuracy': 0.90785253, 'multiclassprecision': 0.90785253, 'val_multiclassaccuracy': 0.8524039, 'val_multiclassprecision': 0.8524039}]\n",
      "Train Processing: :   0%|          | 0/98 [00:00<?, ?it/s]"
     ]
    },
    {
     "name": "stdout",
     "output_type": "stream",
     "text": [
      "Epoch 13/20\n",
      "\u001B[2m\u001B[36m(PYUFedDYN pid=2240451)\u001B[0m {'train-loss': -1.536663293838501, 'train_multiclassaccuracy': tensor(0.9147), 'train_multiclassprecision': tensor(0.9147), 'val_eval_multiclassaccuracy': tensor(0.8899), 'val_eval_multiclassprecision': tensor(0.8899)}\n",
      "\u001B[2m\u001B[36m(PYUFedDYN pid=2240517)\u001B[0m {'train-loss': -1.215333104133606, 'train_multiclassaccuracy': tensor(0.9010), 'train_multiclassprecision': tensor(0.9010), 'val_eval_multiclassaccuracy': tensor(0.8149), 'val_eval_multiclassprecision': tensor(0.8149)}\n"
     ]
    },
    {
     "name": "stderr",
     "output_type": "stream",
     "text": [
      "Train Processing: :  92%|█████████▏| 90/98 [00:17<00:01,  5.12it/s, {'multiclassaccuracy': 0.9083333, 'multiclassprecision': 0.9083333, 'val_multiclassaccuracy': 0.8538462, 'val_multiclassprecision': 0.8538462}]\n",
      "Train Processing: :   0%|          | 0/98 [00:00<?, ?it/s]"
     ]
    },
    {
     "name": "stdout",
     "output_type": "stream",
     "text": [
      "Epoch 14/20\n",
      "\u001B[2m\u001B[36m(PYUFedDYN pid=2240451)\u001B[0m {'train-loss': -1.6438186168670654, 'train_multiclassaccuracy': tensor(0.9151), 'train_multiclassprecision': tensor(0.9151), 'val_eval_multiclassaccuracy': tensor(0.8904), 'val_eval_multiclassprecision': tensor(0.8904)}\n",
      "\u001B[2m\u001B[36m(PYUFedDYN pid=2240517)\u001B[0m {'train-loss': -1.3206884860992432, 'train_multiclassaccuracy': tensor(0.9016), 'train_multiclassprecision': tensor(0.9016), 'val_eval_multiclassaccuracy': tensor(0.8173), 'val_eval_multiclassprecision': tensor(0.8173)}\n"
     ]
    },
    {
     "name": "stderr",
     "output_type": "stream",
     "text": [
      "Train Processing: :  92%|█████████▏| 90/98 [00:31<00:02,  2.83it/s, {'multiclassaccuracy': 0.9091747, 'multiclassprecision': 0.9091747, 'val_multiclassaccuracy': 0.8545673, 'val_multiclassprecision': 0.8545673}]\n"
     ]
    },
    {
     "name": "stdout",
     "output_type": "stream",
     "text": [
      "\u001B[2m\u001B[36m(PYUFedDYN pid=2240451)\u001B[0m {'train-loss': -1.7403758764266968, 'train_multiclassaccuracy': tensor(0.9162), 'train_multiclassprecision': tensor(0.9162), 'val_eval_multiclassaccuracy': tensor(0.8928), 'val_eval_multiclassprecision': tensor(0.8928)}\n"
     ]
    },
    {
     "name": "stderr",
     "output_type": "stream",
     "text": [
      "Train Processing: :   0%|          | 0/98 [00:00<?, ?it/s]"
     ]
    },
    {
     "name": "stdout",
     "output_type": "stream",
     "text": [
      "\u001B[2m\u001B[36m(PYUFedDYN pid=2240517)\u001B[0m {'train-loss': -1.4218271970748901, 'train_multiclassaccuracy': tensor(0.9022), 'train_multiclassprecision': tensor(0.9022), 'val_eval_multiclassaccuracy': tensor(0.8163), 'val_eval_multiclassprecision': tensor(0.8163)}\n",
      "Epoch 15/20\n"
     ]
    },
    {
     "name": "stderr",
     "output_type": "stream",
     "text": [
      "Train Processing: :  92%|█████████▏| 90/98 [00:29<00:02,  3.05it/s, {'multiclassaccuracy': 0.9091346, 'multiclassprecision': 0.9091346, 'val_multiclassaccuracy': 0.8557693, 'val_multiclassprecision': 0.8557693}]\n",
      "Train Processing: :   0%|          | 0/98 [00:00<?, ?it/s]"
     ]
    },
    {
     "name": "stdout",
     "output_type": "stream",
     "text": [
      "Epoch 16/20\n",
      "\u001B[2m\u001B[36m(PYUFedDYN pid=2240451)\u001B[0m {'train-loss': -1.854453206062317, 'train_multiclassaccuracy': tensor(0.9161), 'train_multiclassprecision': tensor(0.9161), 'val_eval_multiclassaccuracy': tensor(0.8933), 'val_eval_multiclassprecision': tensor(0.8933)}\n",
      "\u001B[2m\u001B[36m(PYUFedDYN pid=2240517)\u001B[0m {'train-loss': -1.518033742904663, 'train_multiclassaccuracy': tensor(0.9022), 'train_multiclassprecision': tensor(0.9022), 'val_eval_multiclassaccuracy': tensor(0.8183), 'val_eval_multiclassprecision': tensor(0.8183)}\n"
     ]
    },
    {
     "name": "stderr",
     "output_type": "stream",
     "text": [
      "Train Processing: :  92%|█████████▏| 90/98 [00:33<00:02,  2.71it/s, {'multiclassaccuracy': 0.909375, 'multiclassprecision': 0.909375, 'val_multiclassaccuracy': 0.8557693, 'val_multiclassprecision': 0.8557693}]\n",
      "Train Processing: :   0%|          | 0/98 [00:00<?, ?it/s]"
     ]
    },
    {
     "name": "stdout",
     "output_type": "stream",
     "text": [
      "Epoch 17/20\n",
      "\u001B[2m\u001B[36m(PYUFedDYN pid=2240451)\u001B[0m {'train-loss': -1.9623757600784302, 'train_multiclassaccuracy': tensor(0.9163), 'train_multiclassprecision': tensor(0.9163), 'val_eval_multiclassaccuracy': tensor(0.8942), 'val_eval_multiclassprecision': tensor(0.8942)}\n",
      "\u001B[2m\u001B[36m(PYUFedDYN pid=2240517)\u001B[0m {'train-loss': -1.6337538957595825, 'train_multiclassaccuracy': tensor(0.9025), 'train_multiclassprecision': tensor(0.9025), 'val_eval_multiclassaccuracy': tensor(0.8173), 'val_eval_multiclassprecision': tensor(0.8173)}\n"
     ]
    },
    {
     "name": "stderr",
     "output_type": "stream",
     "text": [
      "Train Processing: :  92%|█████████▏| 90/98 [00:34<00:03,  2.60it/s, {'multiclassaccuracy': 0.909375, 'multiclassprecision': 0.909375, 'val_multiclassaccuracy': 0.85721153, 'val_multiclassprecision': 0.85721153}]\n",
      "Train Processing: :   0%|          | 0/98 [00:00<?, ?it/s]"
     ]
    },
    {
     "name": "stdout",
     "output_type": "stream",
     "text": [
      "Epoch 18/20\n",
      "\u001B[2m\u001B[36m(PYUFedDYN pid=2240451)\u001B[0m {'train-loss': -2.0633158683776855, 'train_multiclassaccuracy': tensor(0.9164), 'train_multiclassprecision': tensor(0.9164), 'val_eval_multiclassaccuracy': tensor(0.8933), 'val_eval_multiclassprecision': tensor(0.8933)}\n",
      "\u001B[2m\u001B[36m(PYUFedDYN pid=2240517)\u001B[0m {'train-loss': -1.7393596172332764, 'train_multiclassaccuracy': tensor(0.9023), 'train_multiclassprecision': tensor(0.9023), 'val_eval_multiclassaccuracy': tensor(0.8212), 'val_eval_multiclassprecision': tensor(0.8212)}\n"
     ]
    },
    {
     "name": "stderr",
     "output_type": "stream",
     "text": [
      "Train Processing: :  92%|█████████▏| 90/98 [00:29<00:02,  3.10it/s, {'multiclassaccuracy': 0.9094952, 'multiclassprecision': 0.9094952, 'val_multiclassaccuracy': 0.8581731, 'val_multiclassprecision': 0.8581731}]\n",
      "Train Processing: :   0%|          | 0/98 [00:00<?, ?it/s]"
     ]
    },
    {
     "name": "stdout",
     "output_type": "stream",
     "text": [
      "Epoch 19/20\n",
      "\u001B[2m\u001B[36m(PYUFedDYN pid=2240451)\u001B[0m {'train-loss': -2.1843044757843018, 'train_multiclassaccuracy': tensor(0.9163), 'train_multiclassprecision': tensor(0.9163), 'val_eval_multiclassaccuracy': tensor(0.8923), 'val_eval_multiclassprecision': tensor(0.8923)}\n",
      "\u001B[2m\u001B[36m(PYUFedDYN pid=2240517)\u001B[0m {'train-loss': -1.8467469215393066, 'train_multiclassaccuracy': tensor(0.9026), 'train_multiclassprecision': tensor(0.9026), 'val_eval_multiclassaccuracy': tensor(0.8240), 'val_eval_multiclassprecision': tensor(0.8240)}\n"
     ]
    },
    {
     "name": "stderr",
     "output_type": "stream",
     "text": [
      "Train Processing: :  92%|█████████▏| 90/98 [00:35<00:03,  2.50it/s, {'multiclassaccuracy': 0.90965545, 'multiclassprecision': 0.90965545, 'val_multiclassaccuracy': 0.8581731, 'val_multiclassprecision': 0.8581731}]\n",
      "Train Processing: :   0%|          | 0/98 [00:00<?, ?it/s]"
     ]
    },
    {
     "name": "stdout",
     "output_type": "stream",
     "text": [
      "Epoch 20/20\n",
      "\u001B[2m\u001B[36m(PYUFedDYN pid=2240451)\u001B[0m {'train-loss': -2.315540075302124, 'train_multiclassaccuracy': tensor(0.9161), 'train_multiclassprecision': tensor(0.9161), 'val_eval_multiclassaccuracy': tensor(0.8923), 'val_eval_multiclassprecision': tensor(0.8923)}\n",
      "\u001B[2m\u001B[36m(PYUFedDYN pid=2240517)\u001B[0m {'train-loss': -1.9503947496414185, 'train_multiclassaccuracy': tensor(0.9032), 'train_multiclassprecision': tensor(0.9032), 'val_eval_multiclassaccuracy': tensor(0.8240), 'val_eval_multiclassprecision': tensor(0.8240)}\n"
     ]
    },
    {
     "name": "stderr",
     "output_type": "stream",
     "text": [
      "Train Processing: :  92%|█████████▏| 90/98 [00:23<00:02,  3.87it/s, {'multiclassaccuracy': 0.9098558, 'multiclassprecision': 0.9098558, 'val_multiclassaccuracy': 0.8560096, 'val_multiclassprecision': 0.8560096}]\n"
     ]
    }
   ],
   "source": [
    "fl_model_2 = FLModel(\n",
    "    server=server,\n",
    "    device_list=device_list,\n",
    "    model=model_def,\n",
    "    aggregator=aggregator,\n",
    "    strategy='fed_avg_w',  # fl strategy\n",
    "    backend=\"torch\",  # backend support ['tensorflow', 'torch']\n",
    ")\n",
    "history_2 = fl_model.fit(\n",
    "    train_data,\n",
    "    train_label,\n",
    "    validation_data=(test_data, test_label),\n",
    "    epochs=20,\n",
    "    batch_size=128,\n",
    "    aggregate_freq=10,\n",
    ")"
   ],
   "metadata": {
    "collapsed": false,
    "ExecuteTime": {
     "end_time": "2023-12-26T02:52:11.197505300Z",
     "start_time": "2023-12-26T02:40:44.868868800Z"
    }
   },
   "id": "6f351e3e0dc81875"
  },
  {
   "cell_type": "code",
   "execution_count": 13,
   "outputs": [
    {
     "name": "stdout",
     "output_type": "stream",
     "text": [
      "\u001B[2m\u001B[36m(PYUFedDYN pid=2240451)\u001B[0m {'train-loss': -2.4477920532226562, 'train_multiclassaccuracy': tensor(0.9159), 'train_multiclassprecision': tensor(0.9159), 'val_eval_multiclassaccuracy': tensor(0.8918), 'val_eval_multiclassprecision': tensor(0.8918)}\n",
      "\u001B[2m\u001B[36m(PYUFedDYN pid=2240517)\u001B[0m {'train-loss': -2.059412717819214, 'train_multiclassaccuracy': tensor(0.9038), 'train_multiclassprecision': tensor(0.9038), 'val_eval_multiclassaccuracy': tensor(0.8202), 'val_eval_multiclassprecision': tensor(0.8202)}\n",
      "{'alice_train-loss': [-0.5729689598083496, -0.6594232320785522, -0.7391104102134705, -0.8208961486816406, -0.9049100875854492, -0.9857649207115173, -1.0810891389846802, -1.1536775827407837, -1.2498149871826172, -1.3439548015594482, -1.4356552362442017, -1.536663293838501, -1.6438186168670654, -1.7403758764266968, -1.854453206062317, -1.9623757600784302, -2.0633158683776855, -2.1843044757843018, -2.315540075302124, -2.4477920532226562], 'alice_train_multiclassaccuracy': [tensor(0.9107), tensor(0.9119), tensor(0.9124), tensor(0.9131), tensor(0.9139), tensor(0.9139), tensor(0.9142), tensor(0.9143), tensor(0.9139), tensor(0.9139), tensor(0.9150), tensor(0.9147), tensor(0.9151), tensor(0.9162), tensor(0.9161), tensor(0.9163), tensor(0.9164), tensor(0.9163), tensor(0.9161), tensor(0.9159)], 'alice_train_multiclassprecision': [tensor(0.9107), tensor(0.9119), tensor(0.9124), tensor(0.9131), tensor(0.9139), tensor(0.9139), tensor(0.9142), tensor(0.9143), tensor(0.9139), tensor(0.9139), tensor(0.9150), tensor(0.9147), tensor(0.9151), tensor(0.9162), tensor(0.9161), tensor(0.9163), tensor(0.9164), tensor(0.9163), tensor(0.9161), tensor(0.9159)], 'alice_val_eval_multiclassaccuracy': [tensor(0.8798), tensor(0.8788), tensor(0.8784), tensor(0.8813), tensor(0.8837), tensor(0.8851), tensor(0.8865), tensor(0.8885), tensor(0.8875), tensor(0.8880), tensor(0.8889), tensor(0.8899), tensor(0.8904), tensor(0.8928), tensor(0.8933), tensor(0.8942), tensor(0.8933), tensor(0.8923), tensor(0.8923), tensor(0.8918)], 'alice_val_eval_multiclassprecision': [tensor(0.8798), tensor(0.8788), tensor(0.8784), tensor(0.8813), tensor(0.8837), tensor(0.8851), tensor(0.8865), tensor(0.8885), tensor(0.8875), tensor(0.8880), tensor(0.8889), tensor(0.8899), tensor(0.8904), tensor(0.8928), tensor(0.8933), tensor(0.8942), tensor(0.8933), tensor(0.8923), tensor(0.8923), tensor(0.8918)], 'bob_train-loss': [-0.24142688512802124, -0.31832805275917053, -0.40349987149238586, -0.4857953190803528, -0.5795552134513855, -0.6570270657539368, -0.7449828386306763, -0.8344694972038269, -0.9254679679870605, -1.0157570838928223, -1.1214447021484375, -1.215333104133606, -1.3206884860992432, -1.4218271970748901, -1.518033742904663, -1.6337538957595825, -1.7393596172332764, -1.8467469215393066, -1.9503947496414185, -2.059412717819214], 'bob_train_multiclassaccuracy': [tensor(0.8890), tensor(0.8913), tensor(0.8929), tensor(0.8957), tensor(0.8967), tensor(0.8982), tensor(0.8990), tensor(0.8995), tensor(0.9008), tensor(0.9013), tensor(0.9009), tensor(0.9010), tensor(0.9016), tensor(0.9022), tensor(0.9022), tensor(0.9025), tensor(0.9023), tensor(0.9026), tensor(0.9032), tensor(0.9038)], 'bob_train_multiclassprecision': [tensor(0.8890), tensor(0.8913), tensor(0.8929), tensor(0.8957), tensor(0.8967), tensor(0.8982), tensor(0.8990), tensor(0.8995), tensor(0.9008), tensor(0.9013), tensor(0.9009), tensor(0.9010), tensor(0.9016), tensor(0.9022), tensor(0.9022), tensor(0.9025), tensor(0.9023), tensor(0.9026), tensor(0.9032), tensor(0.9038)], 'bob_val_eval_multiclassaccuracy': [tensor(0.8077), tensor(0.8091), tensor(0.8115), tensor(0.8135), tensor(0.8130), tensor(0.8135), tensor(0.8130), tensor(0.8101), tensor(0.8120), tensor(0.8130), tensor(0.8135), tensor(0.8149), tensor(0.8173), tensor(0.8163), tensor(0.8183), tensor(0.8173), tensor(0.8212), tensor(0.8240), tensor(0.8240), tensor(0.8202)], 'bob_val_eval_multiclassprecision': [tensor(0.8077), tensor(0.8091), tensor(0.8115), tensor(0.8135), tensor(0.8130), tensor(0.8135), tensor(0.8130), tensor(0.8101), tensor(0.8120), tensor(0.8130), tensor(0.8135), tensor(0.8149), tensor(0.8173), tensor(0.8163), tensor(0.8183), tensor(0.8173), tensor(0.8212), tensor(0.8240), tensor(0.8240), tensor(0.8202)]}\n"
     ]
    }
   ],
   "source": [
    "print(history_2['local_history'])"
   ],
   "metadata": {
    "collapsed": false,
    "ExecuteTime": {
     "end_time": "2023-12-26T02:52:11.323842100Z",
     "start_time": "2023-12-26T02:52:11.197505300Z"
    }
   },
   "id": "9595c744fedfbee6"
  },
  {
   "cell_type": "code",
   "execution_count": 14,
   "outputs": [
    {
     "data": {
      "text/plain": "<Figure size 640x480 with 1 Axes>",
      "image/png": "[encoded data removed]"
     },
     "metadata": {},
     "output_type": "display_data"
    }
   ],
   "source": [
    "from matplotlib import pyplot as plt\n",
    "\n",
    "# Draw accuracy values for training & validation\n",
    "plt.plot(history_2['global_history']['multiclassaccuracy'])\n",
    "plt.plot(history_2['global_history']['val_multiclassaccuracy'])\n",
    "plt.plot(history_2['local_history']['alice_train_multiclassaccuracy'])\n",
    "plt.plot(history_2['local_history']['bob_train_multiclassaccuracy'])\n",
    "plt.plot(history_2['local_history']['alice_val_eval_multiclassaccuracy'])\n",
    "plt.plot(history_2['local_history']['bob_val_eval_multiclassaccuracy'])\n",
    "plt.title('FLModel accuracy in FedAvg')\n",
    "plt.ylabel('Accuracy')\n",
    "plt.xlabel('Epoch')\n",
    "plt.legend(['Train', 'Valid','alice_T','bob_T','alice_V','bob_V'], loc='upper left')\n",
    "plt.show()"
   ],
   "metadata": {
    "collapsed": false,
    "ExecuteTime": {
     "end_time": "2023-12-26T02:52:11.667072200Z",
     "start_time": "2023-12-26T02:52:11.327073400Z"
    }
   },
   "id": "52bb34aa9b54b501"
  }
 ],
 "metadata": {
  "kernelspec": {
   "display_name": "Python 3",
   "language": "python",
   "name": "python3"
  },
  "language_info": {
   "codemirror_mode": {
    "name": "ipython",
    "version": 2
   },
   "file_extension": ".py",
   "mimetype": "text/x-python",
   "name": "python",
   "nbconvert_exporter": "python",
   "pygments_lexer": "ipython2",
   "version": "2.7.6"
  }
 },
 "nbformat": 4,
 "nbformat_minor": 5
}
