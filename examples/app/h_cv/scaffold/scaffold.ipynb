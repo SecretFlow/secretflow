{
 "cells": [
  {
   "cell_type": "code",
   "execution_count": 1,
   "id": "initial_id",
   "metadata": {
    "collapsed": true,
    "ExecuteTime": {
     "end_time": "2023-12-19T12:28:26.633928400Z",
     "start_time": "2023-12-19T12:28:26.633928400Z"
    }
   },
   "outputs": [],
   "source": [
    "%load_ext autoreload\n",
    "%autoreload 2"
   ]
  },
  {
   "cell_type": "code",
   "execution_count": 2,
   "outputs": [
    {
     "name": "stdout",
     "output_type": "stream",
     "text": [
      "The version of SecretFlow: 1.3.0.dev20231206\n"
     ]
    },
    {
     "name": "stderr",
     "output_type": "stream",
     "text": [
      "2023-12-19 12:28:30,249\tINFO worker.py:1538 -- Started a local Ray instance.\n"
     ]
    }
   ],
   "source": [
    "import secretflow as sf\n",
    "\n",
    "# Check the version of your SecretFlow\n",
    "print('The version of SecretFlow: {}'.format(sf.__version__))\n",
    "\n",
    "# In case you have a running secretflow runtime already.\n",
    "sf.shutdown()\n",
    "\n",
    "sf.init(['alice', 'bob', 'charlie'], address='local')\n",
    "alice, bob, charlie = sf.PYU('alice'), sf.PYU('bob'), sf.PYU('charlie')"
   ],
   "metadata": {
    "collapsed": false,
    "ExecuteTime": {
     "end_time": "2023-12-19T12:28:32.295125600Z",
     "start_time": "2023-12-19T12:28:26.633928400Z"
    }
   },
   "id": "a8d7112513230b37"
  },
  {
   "cell_type": "code",
   "execution_count": 3,
   "outputs": [
    {
     "name": "stderr",
     "output_type": "stream",
     "text": [
      "2023-12-19 12:28:32.836677: W tensorflow/compiler/xla/stream_executor/platform/default/dso_loader.cc:64] Could not load dynamic library 'libcudart.so.11.0'; dlerror: libcudart.so.11.0: cannot open shared object file: No such file or directory\n",
      "2023-12-19 12:28:33.679072: W tensorflow/compiler/xla/stream_executor/platform/default/dso_loader.cc:64] Could not load dynamic library 'libnvinfer.so.7'; dlerror: libnvinfer.so.7: cannot open shared object file: No such file or directory\n",
      "2023-12-19 12:28:33.679131: W tensorflow/compiler/xla/stream_executor/platform/default/dso_loader.cc:64] Could not load dynamic library 'libnvinfer_plugin.so.7'; dlerror: libnvinfer_plugin.so.7: cannot open shared object file: No such file or directory\n",
      "2023-12-19 12:28:33.679136: W tensorflow/compiler/tf2tensorrt/utils/py_utils.cc:38] TF-TRT Warning: Cannot dlopen some TensorRT libraries. If you would like to use Nvidia GPU with TensorRT, please make sure the missing libraries mentioned above are installed properly.\n"
     ]
    }
   ],
   "source": [
    "from secretflow.ml.nn.utils import BaseModule, TorchModel\n",
    "from secretflow.ml.nn.fl.utils import metric_wrapper, optim_wrapper\n",
    "from secretflow.ml.nn import FLModel\n",
    "from torchmetrics import Accuracy, Precision\n",
    "from secretflow.security.aggregation import SecureAggregator\n",
    "from torch import nn, optim"
   ],
   "metadata": {
    "collapsed": false,
    "ExecuteTime": {
     "end_time": "2023-12-19T12:28:35.341531500Z",
     "start_time": "2023-12-19T12:28:32.299126100Z"
    }
   },
   "id": "3648cba75ddcff80"
  },
  {
   "cell_type": "code",
   "execution_count": 4,
   "outputs": [],
   "source": [
    "class Model(BaseModule):\n",
    "    def __init__(self):\n",
    "        super(Model, self).__init__()\n",
    "        self.encoder = nn.Sequential(\n",
    "            nn.Flatten(1),\n",
    "            nn.Linear(784, 200),\n",
    "            nn.ReLU(),\n",
    "            nn.Linear(200, 200),\n",
    "            nn.ReLU()\n",
    "        )\n",
    "        self.head = nn.Linear(200, 10)\n",
    "        self.cg = []\n",
    "        self.c =[]\n",
    "        for param in self.parameters():\n",
    "            self.cg.append(torch.zeros_like(param))\n",
    "            self.c.append(torch.zeros_like(param))\n",
    "        self.eta_l = 0.01\n",
    "    def forward(self, x):\n",
    "        x = self.encoder(x)\n",
    "        x = self.head(x)\n",
    "        return x"
   ],
   "metadata": {
    "collapsed": false,
    "ExecuteTime": {
     "end_time": "2023-12-19T12:28:35.379408100Z",
     "start_time": "2023-12-19T12:28:35.342531700Z"
    }
   },
   "id": "42fc5961e4a71f8e"
  },
  {
   "cell_type": "code",
   "execution_count": 5,
   "outputs": [],
   "source": [
    "from typing import Dict, List, Tuple, Union\n",
    "import numpy as np\n",
    "\n",
    "from secretflow.data.ndarray import FedNdarray, PartitionWay\n",
    "from secretflow.device.device.pyu import PYU\n",
    "\n",
    "from torchvision.datasets import EMNIST\n",
    "from torchvision import transforms\n",
    "from torch.utils.data import DataLoader\n",
    "\n",
    "def load_emnist(\n",
    "        parts: Union[List[PYU], Dict[PYU, Union[float, Tuple]]],\n",
    "        batch_size: int = 1,\n",
    "        is_torch: bool = True,\n",
    "        num_classes_per_client=4,\n",
    ") -> Tuple[Tuple[FedNdarray, FedNdarray], Tuple[FedNdarray, FedNdarray]]:\n",
    "    \"\"\"Load EMNIST dataset to federated ndarrays.\n",
    "\n",
    "    Args:\n",
    "        parts: the data partitions.\n",
    "        batch_size: Batch size for the DataLoader.\n",
    "        is_torch: optional, return torch tensors if True. Default to True.\n",
    "\n",
    "    Returns:\n",
    "        A tuple consists of two tuples, (x_train, y_train) and (x_test, y_test).\n",
    "    \"\"\"\n",
    "    transform = transforms.Compose([\n",
    "        transforms.ToTensor(),\n",
    "        transforms.Normalize((0.5,), (0.5,))\n",
    "    ])\n",
    "\n",
    "    # 加载 EMNIST 训练集和测试集\n",
    "    trainset = EMNIST(root='./data', train=True, split='mnist', download=True, transform=transform)\n",
    "    testset = EMNIST(root='./data', train=False, split='mnist', download=True, transform=transform)\n",
    "    # EMNIST 数据集主要分为6类：By_Class, By_Merge, Balanced, Digits, Letters, MNIST，其中 MNIST 部分数据较少，共70000张10个子类数据\n",
    "    # 这里使用的是 EMNIST 数据集中的MNIST部分，原论文未对数据集细节进行描述，大概率是使用的整个EMNIST数据集，因此准确率会较低\n",
    "\n",
    "    # 使用 DataLoader 进行批处理\n",
    "    trainloader = DataLoader(trainset, batch_size=batch_size, shuffle=True)\n",
    "    testloader = DataLoader(testset, batch_size=batch_size, shuffle=False)\n",
    "\n",
    "    # 将 DataLoader 转换为 SecretFlow 可处理的格式\n",
    "    # 注意: 这里需要根据 SecretFlow 的要求进行适当的转换\n",
    "    train_data, train_labels = _convert_to_fedndarray(trainloader, parts, is_torch)\n",
    "    test_data, test_labels = _convert_to_fedndarray(testloader, parts, is_torch)\n",
    "\n",
    "    return ((train_data, train_labels), (test_data, test_labels))\n",
    "\n",
    "def _convert_to_fedndarray(dataloader, parts, is_torch):\n",
    "    data_list = []\n",
    "    label_list = []\n",
    "    for data, label in dataloader:\n",
    "        if is_torch:\n",
    "            data = data.numpy()\n",
    "            label = label.numpy()\n",
    "        data_list.append(data)\n",
    "        label_list.append(label)\n",
    "    data_list, label_list = np.concatenate(data_list), np.concatenate(label_list)\n",
    "    return create_emnist_ndarray(data_list, label_list, parts=parts, is_torch=is_torch)\n",
    "\n",
    "def create_emnist_ndarray(data, labels, parts, is_torch=False, num_classes_per_client=4):\n",
    "    assert len(data) == len(labels), \"Data and labels must have the same length\"\n",
    "    class_indices = {i: np.where(labels == i)[0] for i in range(10)}\n",
    "\n",
    "    # 分配给每个 PYU 的类别\n",
    "    pyu_classes = {}\n",
    "    total_samples = len(data)\n",
    "    for idx, pyu in enumerate(parts.keys()):\n",
    "        np.random.seed(idx)\n",
    "        pyu_classes[pyu] = np.random.choice(10, num_classes_per_client, replace=False)  # 随机选择 4 个类别\n",
    "\n",
    "    # 分配数据和标签给每个 PYU\n",
    "    pyu_data = {}\n",
    "    pyu_labels = {}\n",
    "    for pyu, proportion in parts.items():\n",
    "        pyu_sample_size = int(total_samples * proportion)  # 计算每个 PYU 的样本量\n",
    "        # 为每个 PYU 从选定的类别中采样数据\n",
    "        indices = np.concatenate(\n",
    "            [np.random.choice(class_indices[cls], size=pyu_sample_size // num_classes_per_client, replace=True) for cls\n",
    "             in pyu_classes[pyu]])\n",
    "        np.random.shuffle(indices)  # 打乱索引\n",
    "        pyu_data[pyu] = data[indices]\n",
    "        pyu_labels[pyu] = labels[indices]\n",
    "        print(len(pyu_data[pyu]), pyu_classes[pyu],pyu_labels[pyu][0])  # 打印每个PYU的数据量和随机类别\n",
    "\n",
    "    # 将数据和标签转换为 FedNdarray\n",
    "    data_fedndarray = FedNdarray(\n",
    "        partitions={\n",
    "            pyu: pyu(lambda arr: arr)(pyu_data[pyu]) for pyu in parts.keys()\n",
    "        },\n",
    "        partition_way=PartitionWay.HORIZONTAL,\n",
    "    )\n",
    "    labels_fedndarray = FedNdarray(\n",
    "        partitions={\n",
    "            pyu: pyu(lambda arr: arr)(pyu_labels[pyu]) for pyu in parts.keys()\n",
    "        },\n",
    "        partition_way=PartitionWay.HORIZONTAL,\n",
    "    )\n",
    "\n",
    "    return data_fedndarray, labels_fedndarray"
   ],
   "metadata": {
    "collapsed": false,
    "ExecuteTime": {
     "end_time": "2023-12-19T12:28:35.432832500Z",
     "start_time": "2023-12-19T12:28:35.391710Z"
    }
   },
   "id": "567ca2eef485ecd4"
  },
  {
   "cell_type": "code",
   "execution_count": 6,
   "outputs": [
    {
     "name": "stdout",
     "output_type": "stream",
     "text": [
      "6000 [2 8 4 9] 8\n",
      "6000 [2 9 6 4] 4\n",
      "1000 [2 8 4 9] 4\n",
      "1000 [2 9 6 4] 6\n"
     ]
    }
   ],
   "source": [
    "(train_data, train_label), (test_data, test_label) = load_emnist(\n",
    "    parts={alice: 0.1, bob: 0.1},\n",
    "    is_torch=True,\n",
    "    num_classes_per_client = 4,\n",
    ")\n",
    "loss_fn = nn.CrossEntropyLoss\n",
    "optim_fn = optim_wrapper(optim.SGD, lr=0.01)\n",
    "model_def = TorchModel(\n",
    "    model_fn=Model,\n",
    "    loss_fn=loss_fn,\n",
    "    optim_fn=optim_fn,\n",
    "    metrics=[\n",
    "        metric_wrapper(Accuracy, task=\"multiclass\", num_classes=10, average='micro'),\n",
    "        metric_wrapper(Precision, task=\"multiclass\", num_classes=10, average='micro'),\n",
    "    ],\n",
    ")"
   ],
   "metadata": {
    "collapsed": false,
    "ExecuteTime": {
     "end_time": "2023-12-19T12:28:51.152029400Z",
     "start_time": "2023-12-19T12:28:35.437833100Z"
    }
   },
   "id": "f420ce80c650070e"
  },
  {
   "cell_type": "code",
   "execution_count": 7,
   "outputs": [
    {
     "name": "stderr",
     "output_type": "stream",
     "text": [
      "INFO:root:Create proxy actor <class 'secretflow.security.aggregation.secure_aggregator._Masker'> with party alice.\n",
      "INFO:root:Create proxy actor <class 'secretflow.security.aggregation.secure_aggregator._Masker'> with party bob.\n",
      "INFO:root:Create proxy actor <class 'secretflow.ml.nn.fl.backend.torch.strategy.scaffold.PYUScaffold'> with party alice.\n",
      "INFO:root:Create proxy actor <class 'secretflow.ml.nn.fl.backend.torch.strategy.scaffold.PYUScaffold'> with party bob.\n",
      "INFO:root:FL Train Params: {'x': FedNdarray(partitions={PYURuntime(alice): <secretflow.device.device.pyu.PYUObject object at 0x7f57c9f61640>, PYURuntime(bob): <secretflow.device.device.pyu.PYUObject object at 0x7f5779951a90>}, partition_way=<PartitionWay.HORIZONTAL: 'horizontal'>), 'y': FedNdarray(partitions={PYURuntime(alice): <secretflow.device.device.pyu.PYUObject object at 0x7f587c334130>, PYURuntime(bob): <secretflow.device.device.pyu.PYUObject object at 0x7f5779951e50>}, partition_way=<PartitionWay.HORIZONTAL: 'horizontal'>), 'batch_size': 128, 'batch_sampling_rate': None, 'epochs': 20, 'verbose': 1, 'callbacks': None, 'validation_data': (FedNdarray(partitions={PYURuntime(alice): <secretflow.device.device.pyu.PYUObject object at 0x7f5779951ca0>, PYURuntime(bob): <secretflow.device.device.pyu.PYUObject object at 0x7f577995f0a0>}, partition_way=<PartitionWay.HORIZONTAL: 'horizontal'>), FedNdarray(partitions={PYURuntime(alice): <secretflow.device.device.pyu.PYUObject object at 0x7f577995f100>, PYURuntime(bob): <secretflow.device.device.pyu.PYUObject object at 0x7f577995f490>}, partition_way=<PartitionWay.HORIZONTAL: 'horizontal'>)), 'shuffle': False, 'class_weight': None, 'sample_weight': None, 'validation_freq': 1, 'aggregate_freq': 10, 'label_decoder': None, 'max_batch_size': 20000, 'prefetch_buffer_size': None, 'sampler_method': 'batch', 'random_seed': 87643, 'dp_spent_step_freq': None, 'audit_log_dir': None, 'dataset_builder': None, 'wait_steps': 100, 'self': <secretflow.ml.nn.fl.fl_model.FLModel object at 0x7f577999dfa0>}\n",
      "\u001B[2m\u001B[36m(pid=3446795)\u001B[0m 2023-12-19 12:28:54.540375: W tensorflow/compiler/xla/stream_executor/platform/default/dso_loader.cc:64] Could not load dynamic library 'libcudart.so.11.0'; dlerror: libcudart.so.11.0: cannot open shared object file: No such file or directory\n",
      "\u001B[2m\u001B[36m(pid=3446860)\u001B[0m 2023-12-19 12:28:54.691034: W tensorflow/compiler/xla/stream_executor/platform/default/dso_loader.cc:64] Could not load dynamic library 'libcudart.so.11.0'; dlerror: libcudart.so.11.0: cannot open shared object file: No such file or directory\n",
      "\u001B[2m\u001B[36m(pid=3446795)\u001B[0m 2023-12-19 12:28:55.340478: W tensorflow/compiler/xla/stream_executor/platform/default/dso_loader.cc:64] Could not load dynamic library 'libnvinfer.so.7'; dlerror: libnvinfer.so.7: cannot open shared object file: No such file or directory\n",
      "\u001B[2m\u001B[36m(pid=3446795)\u001B[0m 2023-12-19 12:28:55.340548: W tensorflow/compiler/xla/stream_executor/platform/default/dso_loader.cc:64] Could not load dynamic library 'libnvinfer_plugin.so.7'; dlerror: libnvinfer_plugin.so.7: cannot open shared object file: No such file or directory\n",
      "\u001B[2m\u001B[36m(pid=3446795)\u001B[0m 2023-12-19 12:28:55.340555: W tensorflow/compiler/tf2tensorrt/utils/py_utils.cc:38] TF-TRT Warning: Cannot dlopen some TensorRT libraries. If you would like to use Nvidia GPU with TensorRT, please make sure the missing libraries mentioned above are installed properly.\n",
      "\u001B[2m\u001B[36m(pid=3446860)\u001B[0m 2023-12-19 12:28:55.355882: W tensorflow/compiler/xla/stream_executor/platform/default/dso_loader.cc:64] Could not load dynamic library 'libnvinfer.so.7'; dlerror: libnvinfer.so.7: cannot open shared object file: No such file or directory\n",
      "\u001B[2m\u001B[36m(pid=3446860)\u001B[0m 2023-12-19 12:28:55.355950: W tensorflow/compiler/xla/stream_executor/platform/default/dso_loader.cc:64] Could not load dynamic library 'libnvinfer_plugin.so.7'; dlerror: libnvinfer_plugin.so.7: cannot open shared object file: No such file or directory\n",
      "\u001B[2m\u001B[36m(pid=3446860)\u001B[0m 2023-12-19 12:28:55.355958: W tensorflow/compiler/tf2tensorrt/utils/py_utils.cc:38] TF-TRT Warning: Cannot dlopen some TensorRT libraries. If you would like to use Nvidia GPU with TensorRT, please make sure the missing libraries mentioned above are installed properly.\n",
      "Train Processing: :   0%|          | 0/47 [00:00<?, ?it/s]"
     ]
    },
    {
     "name": "stdout",
     "output_type": "stream",
     "text": [
      "Epoch 1/20\n"
     ]
    },
    {
     "name": "stderr",
     "output_type": "stream",
     "text": [
      "Train Processing: :  64%|██████▍   | 30/47 [00:00<00:00, 72.56it/s]/home/cyf/anaconda3/envs/secretflow/lib/python3.8/site-packages/secretflow/ml/nn/metrics.py:59: UserWarning: Please pay attention to local metrics, global only do naive aggregation.\n",
      "  warnings.warn(\n",
      "2023-12-19 12:28:58.193962: W tensorflow/compiler/xla/stream_executor/platform/default/dso_loader.cc:64] Could not load dynamic library 'libcusolver.so.11'; dlerror: libcusolver.so.11: cannot open shared object file: No such file or directory\n",
      "2023-12-19 12:28:58.194035: W tensorflow/core/common_runtime/gpu/gpu_device.cc:1934] Cannot dlopen some GPU libraries. Please make sure the missing libraries mentioned above are installed properly if you would like to use GPU. Follow the guide at https://www.tensorflow.org/install/gpu for how to download and setup the required libraries for your platform.\n",
      "Skipping registering GPU devices...\n",
      "Train Processing: :  85%|████████▌ | 40/47 [00:00<00:00, 46.19it/s, {'multiclassaccuracy': 0.29008335, 'multiclassprecision': 0.29008335, 'val_multiclassaccuracy': 0.35, 'val_multiclassprecision': 0.35}]\n"
     ]
    },
    {
     "name": "stdout",
     "output_type": "stream",
     "text": [
      "\u001B[2m\u001B[36m(PYUScaffold pid=3446795)\u001B[0m {'train-loss': 1.7556504011154175, 'train_multiclassaccuracy': tensor(0.2997), 'train_multiclassprecision': tensor(0.2997), 'val_eval_multiclassaccuracy': tensor(0.3380), 'val_eval_multiclassprecision': tensor(0.3380)}\n",
      "\u001B[2m\u001B[36m(PYUScaffold pid=3446860)\u001B[0m {'train-loss': 1.6897801160812378, 'train_multiclassaccuracy': tensor(0.2805), 'train_multiclassprecision': tensor(0.2805), 'val_eval_multiclassaccuracy': tensor(0.3620), 'val_eval_multiclassprecision': tensor(0.3620)}\n"
     ]
    },
    {
     "name": "stderr",
     "output_type": "stream",
     "text": [
      "Train Processing: :   0%|          | 0/47 [00:00<?, ?it/s]"
     ]
    },
    {
     "name": "stdout",
     "output_type": "stream",
     "text": [
      "Epoch 2/20\n"
     ]
    },
    {
     "name": "stderr",
     "output_type": "stream",
     "text": [
      "Train Processing: :  85%|████████▌ | 40/47 [00:00<00:00, 58.13it/s, {'multiclassaccuracy': 0.47608334, 'multiclassprecision': 0.47608334, 'val_multiclassaccuracy': 0.6085, 'val_multiclassprecision': 0.6085}]\n",
      "Train Processing: :   0%|          | 0/47 [00:00<?, ?it/s]"
     ]
    },
    {
     "name": "stdout",
     "output_type": "stream",
     "text": [
      "Epoch 3/20\n",
      "\u001B[2m\u001B[36m(PYUScaffold pid=3446795)\u001B[0m {'train-loss': 1.378067970275879, 'train_multiclassaccuracy': tensor(0.4772), 'train_multiclassprecision': tensor(0.4772), 'val_eval_multiclassaccuracy': tensor(0.5890), 'val_eval_multiclassprecision': tensor(0.5890)}\n",
      "\u001B[2m\u001B[36m(PYUScaffold pid=3446860)\u001B[0m {'train-loss': 1.2985098361968994, 'train_multiclassaccuracy': tensor(0.4750), 'train_multiclassprecision': tensor(0.4750), 'val_eval_multiclassaccuracy': tensor(0.6280), 'val_eval_multiclassprecision': tensor(0.6280)}\n"
     ]
    },
    {
     "name": "stderr",
     "output_type": "stream",
     "text": [
      "Train Processing: :  85%|████████▌ | 40/47 [00:00<00:00, 53.56it/s, {'multiclassaccuracy': 0.67149997, 'multiclassprecision': 0.67149997, 'val_multiclassaccuracy': 0.684, 'val_multiclassprecision': 0.684}]\n",
      "Train Processing: :   0%|          | 0/47 [00:00<?, ?it/s]"
     ]
    },
    {
     "name": "stdout",
     "output_type": "stream",
     "text": [
      "Epoch 4/20\n",
      "\u001B[2m\u001B[36m(PYUScaffold pid=3446795)\u001B[0m {'train-loss': 1.169455885887146, 'train_multiclassaccuracy': tensor(0.6632), 'train_multiclassprecision': tensor(0.6632), 'val_eval_multiclassaccuracy': tensor(0.6790), 'val_eval_multiclassprecision': tensor(0.6790)}\n",
      "\u001B[2m\u001B[36m(PYUScaffold pid=3446860)\u001B[0m {'train-loss': 1.0448777675628662, 'train_multiclassaccuracy': tensor(0.6798), 'train_multiclassprecision': tensor(0.6798), 'val_eval_multiclassaccuracy': tensor(0.6890), 'val_eval_multiclassprecision': tensor(0.6890)}\n"
     ]
    },
    {
     "name": "stderr",
     "output_type": "stream",
     "text": [
      "Train Processing: :  85%|████████▌ | 40/47 [00:00<00:00, 54.78it/s, {'multiclassaccuracy': 0.74866664, 'multiclassprecision': 0.74866664, 'val_multiclassaccuracy': 0.6885, 'val_multiclassprecision': 0.6885}]\n",
      "Train Processing: :   0%|          | 0/47 [00:00<?, ?it/s]"
     ]
    },
    {
     "name": "stdout",
     "output_type": "stream",
     "text": [
      "Epoch 5/20\n",
      "\u001B[2m\u001B[36m(PYUScaffold pid=3446795)\u001B[0m {'train-loss': 0.9082416892051697, 'train_multiclassaccuracy': tensor(0.7243), 'train_multiclassprecision': tensor(0.7243), 'val_eval_multiclassaccuracy': tensor(0.6920), 'val_eval_multiclassprecision': tensor(0.6920)}\n",
      "\u001B[2m\u001B[36m(PYUScaffold pid=3446860)\u001B[0m {'train-loss': 0.7286636233329773, 'train_multiclassaccuracy': tensor(0.7730), 'train_multiclassprecision': tensor(0.7730), 'val_eval_multiclassaccuracy': tensor(0.6850), 'val_eval_multiclassprecision': tensor(0.6850)}\n"
     ]
    },
    {
     "name": "stderr",
     "output_type": "stream",
     "text": [
      "Train Processing: :  85%|████████▌ | 40/47 [00:00<00:00, 50.61it/s, {'multiclassaccuracy': 0.82416666, 'multiclassprecision': 0.82416666, 'val_multiclassaccuracy': 0.6965, 'val_multiclassprecision': 0.6965}]\n",
      "Train Processing: :   0%|          | 0/47 [00:00<?, ?it/s]"
     ]
    },
    {
     "name": "stdout",
     "output_type": "stream",
     "text": [
      "Epoch 6/20\n",
      "\u001B[2m\u001B[36m(PYUScaffold pid=3446795)\u001B[0m {'train-loss': 0.7089150547981262, 'train_multiclassaccuracy': tensor(0.8003), 'train_multiclassprecision': tensor(0.8003), 'val_eval_multiclassaccuracy': tensor(0.6970), 'val_eval_multiclassprecision': tensor(0.6970)}\n",
      "\u001B[2m\u001B[36m(PYUScaffold pid=3446860)\u001B[0m {'train-loss': 0.5091770887374878, 'train_multiclassaccuracy': tensor(0.8480), 'train_multiclassprecision': tensor(0.8480), 'val_eval_multiclassaccuracy': tensor(0.6960), 'val_eval_multiclassprecision': tensor(0.6960)}\n"
     ]
    },
    {
     "name": "stderr",
     "output_type": "stream",
     "text": [
      "Train Processing: :  85%|████████▌ | 40/47 [00:00<00:00, 47.18it/s, {'multiclassaccuracy': 0.87158334, 'multiclassprecision': 0.87158334, 'val_multiclassaccuracy': 0.744, 'val_multiclassprecision': 0.744}]\n",
      "Train Processing: :   0%|          | 0/47 [00:00<?, ?it/s]"
     ]
    },
    {
     "name": "stdout",
     "output_type": "stream",
     "text": [
      "Epoch 7/20\n",
      "\u001B[2m\u001B[36m(PYUScaffold pid=3446795)\u001B[0m {'train-loss': 0.583168625831604, 'train_multiclassaccuracy': tensor(0.8475), 'train_multiclassprecision': tensor(0.8475), 'val_eval_multiclassaccuracy': tensor(0.7310), 'val_eval_multiclassprecision': tensor(0.7310)}\n",
      "\u001B[2m\u001B[36m(PYUScaffold pid=3446860)\u001B[0m {'train-loss': 0.37946563959121704, 'train_multiclassaccuracy': tensor(0.8957), 'train_multiclassprecision': tensor(0.8957), 'val_eval_multiclassaccuracy': tensor(0.7570), 'val_eval_multiclassprecision': tensor(0.7570)}\n"
     ]
    },
    {
     "name": "stderr",
     "output_type": "stream",
     "text": [
      "Train Processing: :  85%|████████▌ | 40/47 [00:00<00:00, 48.49it/s, {'multiclassaccuracy': 0.8990834, 'multiclassprecision': 0.8990834, 'val_multiclassaccuracy': 0.81799996, 'val_multiclassprecision': 0.81799996}]\n",
      "Train Processing: :   0%|          | 0/47 [00:00<?, ?it/s]"
     ]
    },
    {
     "name": "stdout",
     "output_type": "stream",
     "text": [
      "Epoch 8/20\n",
      "\u001B[2m\u001B[36m(PYUScaffold pid=3446795)\u001B[0m {'train-loss': 0.5053237676620483, 'train_multiclassaccuracy': tensor(0.8773), 'train_multiclassprecision': tensor(0.8773), 'val_eval_multiclassaccuracy': tensor(0.7890), 'val_eval_multiclassprecision': tensor(0.7890)}\n",
      "\u001B[2m\u001B[36m(PYUScaffold pid=3446860)\u001B[0m {'train-loss': 0.30363163352012634, 'train_multiclassaccuracy': tensor(0.9208), 'train_multiclassprecision': tensor(0.9208), 'val_eval_multiclassaccuracy': tensor(0.8470), 'val_eval_multiclassprecision': tensor(0.8470)}\n"
     ]
    },
    {
     "name": "stderr",
     "output_type": "stream",
     "text": [
      "Train Processing: :  85%|████████▌ | 40/47 [00:00<00:00, 47.40it/s, {'multiclassaccuracy': 0.9144167, 'multiclassprecision': 0.9144167, 'val_multiclassaccuracy': 0.8575, 'val_multiclassprecision': 0.8575}]\n"
     ]
    },
    {
     "name": "stdout",
     "output_type": "stream",
     "text": [
      "\u001B[2m\u001B[36m(PYUScaffold pid=3446795)\u001B[0m {'train-loss': 0.45237523317337036, 'train_multiclassaccuracy': tensor(0.8965), 'train_multiclassprecision': tensor(0.8965), 'val_eval_multiclassaccuracy': tensor(0.8280), 'val_eval_multiclassprecision': tensor(0.8280)}\n"
     ]
    },
    {
     "name": "stderr",
     "output_type": "stream",
     "text": [
      "Train Processing: :   0%|          | 0/47 [00:00<?, ?it/s]"
     ]
    },
    {
     "name": "stdout",
     "output_type": "stream",
     "text": [
      "Epoch 9/20\n",
      "\u001B[2m\u001B[36m(PYUScaffold pid=3446860)\u001B[0m {'train-loss': 0.2568674683570862, 'train_multiclassaccuracy': tensor(0.9323), 'train_multiclassprecision': tensor(0.9323), 'val_eval_multiclassaccuracy': tensor(0.8870), 'val_eval_multiclassprecision': tensor(0.8870)}\n"
     ]
    },
    {
     "name": "stderr",
     "output_type": "stream",
     "text": [
      "Train Processing: :  85%|████████▌ | 40/47 [00:00<00:00, 43.84it/s, {'multiclassaccuracy': 0.9233333, 'multiclassprecision': 0.9233333, 'val_multiclassaccuracy': 0.8765, 'val_multiclassprecision': 0.8765}]\n",
      "Train Processing: :   0%|          | 0/47 [00:00<?, ?it/s]"
     ]
    },
    {
     "name": "stdout",
     "output_type": "stream",
     "text": [
      "Epoch 10/20\n",
      "\u001B[2m\u001B[36m(PYUScaffold pid=3446795)\u001B[0m {'train-loss': 0.4129149317741394, 'train_multiclassaccuracy': tensor(0.9055), 'train_multiclassprecision': tensor(0.9055), 'val_eval_multiclassaccuracy': tensor(0.8560), 'val_eval_multiclassprecision': tensor(0.8560)}\n",
      "\u001B[2m\u001B[36m(PYUScaffold pid=3446860)\u001B[0m {'train-loss': 0.2259465456008911, 'train_multiclassaccuracy': tensor(0.9412), 'train_multiclassprecision': tensor(0.9412), 'val_eval_multiclassaccuracy': tensor(0.8970), 'val_eval_multiclassprecision': tensor(0.8970)}\n"
     ]
    },
    {
     "name": "stderr",
     "output_type": "stream",
     "text": [
      "Train Processing: :  85%|████████▌ | 40/47 [00:00<00:00, 41.04it/s, {'multiclassaccuracy': 0.93016666, 'multiclassprecision': 0.93016666, 'val_multiclassaccuracy': 0.8885, 'val_multiclassprecision': 0.8885}]\n",
      "Train Processing: :   0%|          | 0/47 [00:00<?, ?it/s]"
     ]
    },
    {
     "name": "stdout",
     "output_type": "stream",
     "text": [
      "Epoch 11/20\n",
      "\u001B[2m\u001B[36m(PYUScaffold pid=3446795)\u001B[0m {'train-loss': 0.3820919394493103, 'train_multiclassaccuracy': tensor(0.9137), 'train_multiclassprecision': tensor(0.9137), 'val_eval_multiclassaccuracy': tensor(0.8710), 'val_eval_multiclassprecision': tensor(0.8710)}\n",
      "\u001B[2m\u001B[36m(PYUScaffold pid=3446860)\u001B[0m {'train-loss': 0.20446838438510895, 'train_multiclassaccuracy': tensor(0.9467), 'train_multiclassprecision': tensor(0.9467), 'val_eval_multiclassaccuracy': tensor(0.9060), 'val_eval_multiclassprecision': tensor(0.9060)}\n"
     ]
    },
    {
     "name": "stderr",
     "output_type": "stream",
     "text": [
      "Train Processing: :  85%|████████▌ | 40/47 [00:00<00:00, 42.04it/s, {'multiclassaccuracy': 0.935, 'multiclassprecision': 0.935, 'val_multiclassaccuracy': 0.8995, 'val_multiclassprecision': 0.8995}]\n",
      "Train Processing: :   0%|          | 0/47 [00:00<?, ?it/s]"
     ]
    },
    {
     "name": "stdout",
     "output_type": "stream",
     "text": [
      "Epoch 12/20\n",
      "\u001B[2m\u001B[36m(PYUScaffold pid=3446795)\u001B[0m {'train-loss': 0.35747188329696655, 'train_multiclassaccuracy': tensor(0.9197), 'train_multiclassprecision': tensor(0.9197), 'val_eval_multiclassaccuracy': tensor(0.8860), 'val_eval_multiclassprecision': tensor(0.8860)}\n",
      "\u001B[2m\u001B[36m(PYUScaffold pid=3446860)\u001B[0m {'train-loss': 0.18888907134532928, 'train_multiclassaccuracy': tensor(0.9503), 'train_multiclassprecision': tensor(0.9503), 'val_eval_multiclassaccuracy': tensor(0.9130), 'val_eval_multiclassprecision': tensor(0.9130)}\n"
     ]
    },
    {
     "name": "stderr",
     "output_type": "stream",
     "text": [
      "Train Processing: :  85%|████████▌ | 40/47 [00:01<00:00, 39.47it/s, {'multiclassaccuracy': 0.93916667, 'multiclassprecision': 0.93916667, 'val_multiclassaccuracy': 0.9065, 'val_multiclassprecision': 0.9065}]\n",
      "Train Processing: :   0%|          | 0/47 [00:00<?, ?it/s]"
     ]
    },
    {
     "name": "stdout",
     "output_type": "stream",
     "text": [
      "Epoch 13/20\n",
      "\u001B[2m\u001B[36m(PYUScaffold pid=3446795)\u001B[0m {'train-loss': 0.33743351697921753, 'train_multiclassaccuracy': tensor(0.9260), 'train_multiclassprecision': tensor(0.9260), 'val_eval_multiclassaccuracy': tensor(0.8920), 'val_eval_multiclassprecision': tensor(0.8920)}\n",
      "\u001B[2m\u001B[36m(PYUScaffold pid=3446860)\u001B[0m {'train-loss': 0.17734777927398682, 'train_multiclassaccuracy': tensor(0.9523), 'train_multiclassprecision': tensor(0.9523), 'val_eval_multiclassaccuracy': tensor(0.9210), 'val_eval_multiclassprecision': tensor(0.9210)}\n"
     ]
    },
    {
     "name": "stderr",
     "output_type": "stream",
     "text": [
      "Train Processing: :  85%|████████▌ | 40/47 [00:01<00:00, 38.91it/s, {'multiclassaccuracy': 0.94116664, 'multiclassprecision': 0.94116664, 'val_multiclassaccuracy': 0.9125, 'val_multiclassprecision': 0.9125}]\n",
      "Train Processing: :   0%|          | 0/47 [00:00<?, ?it/s]"
     ]
    },
    {
     "name": "stdout",
     "output_type": "stream",
     "text": [
      "Epoch 14/20\n",
      "\u001B[2m\u001B[36m(PYUScaffold pid=3446795)\u001B[0m {'train-loss': 0.321027010679245, 'train_multiclassaccuracy': tensor(0.9277), 'train_multiclassprecision': tensor(0.9277), 'val_eval_multiclassaccuracy': tensor(0.9030), 'val_eval_multiclassprecision': tensor(0.9030)}\n",
      "\u001B[2m\u001B[36m(PYUScaffold pid=3446860)\u001B[0m {'train-loss': 0.16863690316677094, 'train_multiclassaccuracy': tensor(0.9547), 'train_multiclassprecision': tensor(0.9547), 'val_eval_multiclassaccuracy': tensor(0.9220), 'val_eval_multiclassprecision': tensor(0.9220)}\n"
     ]
    },
    {
     "name": "stderr",
     "output_type": "stream",
     "text": [
      "Train Processing: :  85%|████████▌ | 40/47 [00:00<00:00, 40.33it/s, {'multiclassaccuracy': 0.9435833, 'multiclassprecision': 0.9435833, 'val_multiclassaccuracy': 0.9175, 'val_multiclassprecision': 0.9175}]\n",
      "Train Processing: :   0%|          | 0/47 [00:00<?, ?it/s]"
     ]
    },
    {
     "name": "stdout",
     "output_type": "stream",
     "text": [
      "Epoch 15/20\n",
      "\u001B[2m\u001B[36m(PYUScaffold pid=3446795)\u001B[0m {'train-loss': 0.30747127532958984, 'train_multiclassaccuracy': tensor(0.9312), 'train_multiclassprecision': tensor(0.9312), 'val_eval_multiclassaccuracy': tensor(0.9070), 'val_eval_multiclassprecision': tensor(0.9070)}\n",
      "\u001B[2m\u001B[36m(PYUScaffold pid=3446860)\u001B[0m {'train-loss': 0.16189317405223846, 'train_multiclassaccuracy': tensor(0.9560), 'train_multiclassprecision': tensor(0.9560), 'val_eval_multiclassaccuracy': tensor(0.9280), 'val_eval_multiclassprecision': tensor(0.9280)}\n"
     ]
    },
    {
     "name": "stderr",
     "output_type": "stream",
     "text": [
      "Train Processing: :  85%|████████▌ | 40/47 [00:01<00:00, 37.78it/s, {'multiclassaccuracy': 0.94525003, 'multiclassprecision': 0.94525003, 'val_multiclassaccuracy': 0.92149997, 'val_multiclassprecision': 0.92149997}]\n"
     ]
    },
    {
     "name": "stdout",
     "output_type": "stream",
     "text": [
      "\u001B[2m\u001B[36m(PYUScaffold pid=3446795)\u001B[0m {'train-loss': 0.2960232198238373, 'train_multiclassaccuracy': tensor(0.9342), 'train_multiclassprecision': tensor(0.9342), 'val_eval_multiclassaccuracy': tensor(0.9140), 'val_eval_multiclassprecision': tensor(0.9140)}\n"
     ]
    },
    {
     "name": "stderr",
     "output_type": "stream",
     "text": [
      "Train Processing: :   0%|          | 0/47 [00:00<?, ?it/s]"
     ]
    },
    {
     "name": "stdout",
     "output_type": "stream",
     "text": [
      "Epoch 16/20\n",
      "\u001B[2m\u001B[36m(PYUScaffold pid=3446860)\u001B[0m {'train-loss': 0.15660341084003448, 'train_multiclassaccuracy': tensor(0.9563), 'train_multiclassprecision': tensor(0.9563), 'val_eval_multiclassaccuracy': tensor(0.9290), 'val_eval_multiclassprecision': tensor(0.9290)}\n"
     ]
    },
    {
     "name": "stderr",
     "output_type": "stream",
     "text": [
      "Train Processing: :  85%|████████▌ | 40/47 [00:01<00:00, 36.49it/s, {'multiclassaccuracy': 0.9475, 'multiclassprecision': 0.9475, 'val_multiclassaccuracy': 0.9245, 'val_multiclassprecision': 0.9245}]\n",
      "Train Processing: :   0%|          | 0/47 [00:00<?, ?it/s]"
     ]
    },
    {
     "name": "stdout",
     "output_type": "stream",
     "text": [
      "Epoch 17/20\n",
      "\u001B[2m\u001B[36m(PYUScaffold pid=3446795)\u001B[0m {'train-loss': 0.28620773553848267, 'train_multiclassaccuracy': tensor(0.9372), 'train_multiclassprecision': tensor(0.9372), 'val_eval_multiclassaccuracy': tensor(0.9150), 'val_eval_multiclassprecision': tensor(0.9150)}\n",
      "\u001B[2m\u001B[36m(PYUScaffold pid=3446860)\u001B[0m {'train-loss': 0.1523933857679367, 'train_multiclassaccuracy': tensor(0.9578), 'train_multiclassprecision': tensor(0.9578), 'val_eval_multiclassaccuracy': tensor(0.9340), 'val_eval_multiclassprecision': tensor(0.9340)}\n"
     ]
    },
    {
     "name": "stderr",
     "output_type": "stream",
     "text": [
      "Train Processing: :  85%|████████▌ | 40/47 [00:01<00:00, 32.89it/s, {'multiclassaccuracy': 0.94825, 'multiclassprecision': 0.94825, 'val_multiclassaccuracy': 0.9275, 'val_multiclassprecision': 0.9275}]\n",
      "Train Processing: :   0%|          | 0/47 [00:00<?, ?it/s]"
     ]
    },
    {
     "name": "stdout",
     "output_type": "stream",
     "text": [
      "Epoch 18/20\n",
      "\u001B[2m\u001B[36m(PYUScaffold pid=3446795)\u001B[0m {'train-loss': 0.2776374816894531, 'train_multiclassaccuracy': tensor(0.9383), 'train_multiclassprecision': tensor(0.9383), 'val_eval_multiclassaccuracy': tensor(0.9190), 'val_eval_multiclassprecision': tensor(0.9190)}\n",
      "\u001B[2m\u001B[36m(PYUScaffold pid=3446860)\u001B[0m {'train-loss': 0.14900340139865875, 'train_multiclassaccuracy': tensor(0.9582), 'train_multiclassprecision': tensor(0.9582), 'val_eval_multiclassaccuracy': tensor(0.9360), 'val_eval_multiclassprecision': tensor(0.9360)}\n"
     ]
    },
    {
     "name": "stderr",
     "output_type": "stream",
     "text": [
      "Train Processing: :  85%|████████▌ | 40/47 [00:01<00:00, 36.68it/s, {'multiclassaccuracy': 0.9496666, 'multiclassprecision': 0.9496666, 'val_multiclassaccuracy': 0.9275, 'val_multiclassprecision': 0.9275}]\n",
      "Train Processing: :   0%|          | 0/47 [00:00<?, ?it/s]"
     ]
    },
    {
     "name": "stdout",
     "output_type": "stream",
     "text": [
      "Epoch 19/20\n",
      "\u001B[2m\u001B[36m(PYUScaffold pid=3446795)\u001B[0m {'train-loss': 0.2701055407524109, 'train_multiclassaccuracy': tensor(0.9410), 'train_multiclassprecision': tensor(0.9410), 'val_eval_multiclassaccuracy': tensor(0.9190), 'val_eval_multiclassprecision': tensor(0.9190)}\n",
      "\u001B[2m\u001B[36m(PYUScaffold pid=3446860)\u001B[0m {'train-loss': 0.14620542526245117, 'train_multiclassaccuracy': tensor(0.9583), 'train_multiclassprecision': tensor(0.9583), 'val_eval_multiclassaccuracy': tensor(0.9360), 'val_eval_multiclassprecision': tensor(0.9360)}\n"
     ]
    },
    {
     "name": "stderr",
     "output_type": "stream",
     "text": [
      "Train Processing: :  85%|████████▌ | 40/47 [00:01<00:00, 32.96it/s, {'multiclassaccuracy': 0.9504167, 'multiclassprecision': 0.9504167, 'val_multiclassaccuracy': 0.9285, 'val_multiclassprecision': 0.9285}]\n",
      "Train Processing: :   0%|          | 0/47 [00:00<?, ?it/s]"
     ]
    },
    {
     "name": "stdout",
     "output_type": "stream",
     "text": [
      "Epoch 20/20\n",
      "\u001B[2m\u001B[36m(PYUScaffold pid=3446795)\u001B[0m {'train-loss': 0.2633516490459442, 'train_multiclassaccuracy': tensor(0.9417), 'train_multiclassprecision': tensor(0.9417), 'val_eval_multiclassaccuracy': tensor(0.9200), 'val_eval_multiclassprecision': tensor(0.9200)}\n",
      "\u001B[2m\u001B[36m(PYUScaffold pid=3446860)\u001B[0m {'train-loss': 0.14382852613925934, 'train_multiclassaccuracy': tensor(0.9592), 'train_multiclassprecision': tensor(0.9592), 'val_eval_multiclassaccuracy': tensor(0.9370), 'val_eval_multiclassprecision': tensor(0.9370)}\n"
     ]
    },
    {
     "name": "stderr",
     "output_type": "stream",
     "text": [
      "Train Processing: :  85%|████████▌ | 40/47 [00:01<00:00, 34.09it/s, {'multiclassaccuracy': 0.95166665, 'multiclassprecision': 0.95166665, 'val_multiclassaccuracy': 0.93, 'val_multiclassprecision': 0.93}]\n"
     ]
    }
   ],
   "source": [
    "device_list = [alice, bob]\n",
    "server = charlie\n",
    "aggregator = SecureAggregator(server, [alice, bob])\n",
    "\n",
    "fl_model = FLModel(\n",
    "    server=server,\n",
    "    device_list=device_list,\n",
    "    model=model_def,\n",
    "    aggregator=aggregator,\n",
    "    strategy='scaffold',  # fl strategy\n",
    "    backend=\"torch\",  # backend support ['tensorflow', 'torch']\n",
    ")\n",
    "history = fl_model.fit(\n",
    "    train_data,\n",
    "    train_label,\n",
    "    validation_data=(test_data, test_label),\n",
    "    epochs=20,\n",
    "    batch_size=128,\n",
    "    aggregate_freq=10,\n",
    ")"
   ],
   "metadata": {
    "collapsed": false,
    "ExecuteTime": {
     "end_time": "2023-12-19T12:29:22.315381800Z",
     "start_time": "2023-12-19T12:28:51.153029800Z"
    }
   },
   "id": "a0e4855e69068288"
  },
  {
   "cell_type": "code",
   "execution_count": 8,
   "outputs": [
    {
     "name": "stdout",
     "output_type": "stream",
     "text": [
      "\u001B[2m\u001B[36m(PYUScaffold pid=3446795)\u001B[0m {'train-loss': 0.2571927011013031, 'train_multiclassaccuracy': tensor(0.9425), 'train_multiclassprecision': tensor(0.9425), 'val_eval_multiclassaccuracy': tensor(0.9220), 'val_eval_multiclassprecision': tensor(0.9220)}\n",
      "\u001B[2m\u001B[36m(PYUScaffold pid=3446860)\u001B[0m {'train-loss': 0.1417771726846695, 'train_multiclassaccuracy': tensor(0.9608), 'train_multiclassprecision': tensor(0.9608), 'val_eval_multiclassaccuracy': tensor(0.9380), 'val_eval_multiclassprecision': tensor(0.9380)}\n",
      "{'alice_train-loss': [1.7556504011154175, 1.378067970275879, 1.169455885887146, 0.9082416892051697, 0.7089150547981262, 0.583168625831604, 0.5053237676620483, 0.45237523317337036, 0.4129149317741394, 0.3820919394493103, 0.35747188329696655, 0.33743351697921753, 0.321027010679245, 0.30747127532958984, 0.2960232198238373, 0.28620773553848267, 0.2776374816894531, 0.2701055407524109, 0.2633516490459442, 0.2571927011013031], 'alice_train_multiclassaccuracy': [tensor(0.2997), tensor(0.4772), tensor(0.6632), tensor(0.7243), tensor(0.8003), tensor(0.8475), tensor(0.8773), tensor(0.8965), tensor(0.9055), tensor(0.9137), tensor(0.9197), tensor(0.9260), tensor(0.9277), tensor(0.9312), tensor(0.9342), tensor(0.9372), tensor(0.9383), tensor(0.9410), tensor(0.9417), tensor(0.9425)], 'alice_train_multiclassprecision': [tensor(0.2997), tensor(0.4772), tensor(0.6632), tensor(0.7243), tensor(0.8003), tensor(0.8475), tensor(0.8773), tensor(0.8965), tensor(0.9055), tensor(0.9137), tensor(0.9197), tensor(0.9260), tensor(0.9277), tensor(0.9312), tensor(0.9342), tensor(0.9372), tensor(0.9383), tensor(0.9410), tensor(0.9417), tensor(0.9425)], 'alice_val_eval_multiclassaccuracy': [tensor(0.3380), tensor(0.5890), tensor(0.6790), tensor(0.6920), tensor(0.6970), tensor(0.7310), tensor(0.7890), tensor(0.8280), tensor(0.8560), tensor(0.8710), tensor(0.8860), tensor(0.8920), tensor(0.9030), tensor(0.9070), tensor(0.9140), tensor(0.9150), tensor(0.9190), tensor(0.9190), tensor(0.9200), tensor(0.9220)], 'alice_val_eval_multiclassprecision': [tensor(0.3380), tensor(0.5890), tensor(0.6790), tensor(0.6920), tensor(0.6970), tensor(0.7310), tensor(0.7890), tensor(0.8280), tensor(0.8560), tensor(0.8710), tensor(0.8860), tensor(0.8920), tensor(0.9030), tensor(0.9070), tensor(0.9140), tensor(0.9150), tensor(0.9190), tensor(0.9190), tensor(0.9200), tensor(0.9220)], 'bob_train-loss': [1.6897801160812378, 1.2985098361968994, 1.0448777675628662, 0.7286636233329773, 0.5091770887374878, 0.37946563959121704, 0.30363163352012634, 0.2568674683570862, 0.2259465456008911, 0.20446838438510895, 0.18888907134532928, 0.17734777927398682, 0.16863690316677094, 0.16189317405223846, 0.15660341084003448, 0.1523933857679367, 0.14900340139865875, 0.14620542526245117, 0.14382852613925934, 0.1417771726846695], 'bob_train_multiclassaccuracy': [tensor(0.2805), tensor(0.4750), tensor(0.6798), tensor(0.7730), tensor(0.8480), tensor(0.8957), tensor(0.9208), tensor(0.9323), tensor(0.9412), tensor(0.9467), tensor(0.9503), tensor(0.9523), tensor(0.9547), tensor(0.9560), tensor(0.9563), tensor(0.9578), tensor(0.9582), tensor(0.9583), tensor(0.9592), tensor(0.9608)], 'bob_train_multiclassprecision': [tensor(0.2805), tensor(0.4750), tensor(0.6798), tensor(0.7730), tensor(0.8480), tensor(0.8957), tensor(0.9208), tensor(0.9323), tensor(0.9412), tensor(0.9467), tensor(0.9503), tensor(0.9523), tensor(0.9547), tensor(0.9560), tensor(0.9563), tensor(0.9578), tensor(0.9582), tensor(0.9583), tensor(0.9592), tensor(0.9608)], 'bob_val_eval_multiclassaccuracy': [tensor(0.3620), tensor(0.6280), tensor(0.6890), tensor(0.6850), tensor(0.6960), tensor(0.7570), tensor(0.8470), tensor(0.8870), tensor(0.8970), tensor(0.9060), tensor(0.9130), tensor(0.9210), tensor(0.9220), tensor(0.9280), tensor(0.9290), tensor(0.9340), tensor(0.9360), tensor(0.9360), tensor(0.9370), tensor(0.9380)], 'bob_val_eval_multiclassprecision': [tensor(0.3620), tensor(0.6280), tensor(0.6890), tensor(0.6850), tensor(0.6960), tensor(0.7570), tensor(0.8470), tensor(0.8870), tensor(0.8970), tensor(0.9060), tensor(0.9130), tensor(0.9210), tensor(0.9220), tensor(0.9280), tensor(0.9290), tensor(0.9340), tensor(0.9360), tensor(0.9360), tensor(0.9370), tensor(0.9380)]}\n"
     ]
    }
   ],
   "source": [
    "print(history['local_history'])"
   ],
   "metadata": {
    "collapsed": false,
    "ExecuteTime": {
     "end_time": "2023-12-19T12:29:22.393419800Z",
     "start_time": "2023-12-19T12:29:22.317385300Z"
    }
   },
   "id": "95675bdf838fa4d9"
  },
  {
   "cell_type": "code",
   "execution_count": 9,
   "outputs": [
    {
     "data": {
      "text/plain": "<Figure size 640x480 with 1 Axes>",
      "image/png": "[encoded data removed]"
     },
     "metadata": {},
     "output_type": "display_data"
    }
   ],
   "source": [
    "from matplotlib import pyplot as plt\n",
    "\n",
    "# Draw accuracy values for training & validation\n",
    "plt.plot(history['global_history']['multiclassaccuracy'])\n",
    "plt.plot(history['global_history']['val_multiclassaccuracy'])\n",
    "plt.plot(history['local_history']['alice_train_multiclassaccuracy'])\n",
    "plt.plot(history['local_history']['bob_train_multiclassaccuracy'])\n",
    "plt.plot(history['local_history']['alice_val_eval_multiclassaccuracy'])\n",
    "plt.plot(history['local_history']['bob_val_eval_multiclassaccuracy'])\n",
    "plt.title('FLModel accuracy in Scaffold')\n",
    "plt.ylabel('Accuracy')\n",
    "plt.xlabel('Epoch')\n",
    "plt.legend(['Train', 'Valid','alice_T','bob_T','alice_V','bob_V'], loc='upper left')\n",
    "plt.show()"
   ],
   "metadata": {
    "collapsed": false,
    "ExecuteTime": {
     "end_time": "2023-12-19T12:29:22.939515400Z",
     "start_time": "2023-12-19T12:29:22.396419700Z"
    }
   },
   "id": "6e4bab9db985e784"
  },
  {
   "cell_type": "code",
   "execution_count": 10,
   "outputs": [
    {
     "name": "stderr",
     "output_type": "stream",
     "text": [
      "INFO:root:Create proxy actor <class 'secretflow.ml.nn.fl.backend.torch.strategy.fed_avg_w.PYUFedAvgW'> with party alice.\n",
      "INFO:root:Create proxy actor <class 'secretflow.ml.nn.fl.backend.torch.strategy.fed_avg_w.PYUFedAvgW'> with party bob.\n",
      "INFO:root:FL Train Params: {'x': FedNdarray(partitions={PYURuntime(alice): <secretflow.device.device.pyu.PYUObject object at 0x7f57c9f61640>, PYURuntime(bob): <secretflow.device.device.pyu.PYUObject object at 0x7f5779951a90>}, partition_way=<PartitionWay.HORIZONTAL: 'horizontal'>), 'y': FedNdarray(partitions={PYURuntime(alice): <secretflow.device.device.pyu.PYUObject object at 0x7f587c334130>, PYURuntime(bob): <secretflow.device.device.pyu.PYUObject object at 0x7f5779951e50>}, partition_way=<PartitionWay.HORIZONTAL: 'horizontal'>), 'batch_size': 128, 'batch_sampling_rate': None, 'epochs': 20, 'verbose': 1, 'callbacks': None, 'validation_data': (FedNdarray(partitions={PYURuntime(alice): <secretflow.device.device.pyu.PYUObject object at 0x7f5779951ca0>, PYURuntime(bob): <secretflow.device.device.pyu.PYUObject object at 0x7f577995f0a0>}, partition_way=<PartitionWay.HORIZONTAL: 'horizontal'>), FedNdarray(partitions={PYURuntime(alice): <secretflow.device.device.pyu.PYUObject object at 0x7f577995f100>, PYURuntime(bob): <secretflow.device.device.pyu.PYUObject object at 0x7f577995f490>}, partition_way=<PartitionWay.HORIZONTAL: 'horizontal'>)), 'shuffle': False, 'class_weight': None, 'sample_weight': None, 'validation_freq': 1, 'aggregate_freq': 10, 'label_decoder': None, 'max_batch_size': 20000, 'prefetch_buffer_size': None, 'sampler_method': 'batch', 'random_seed': 21380, 'dp_spent_step_freq': None, 'audit_log_dir': None, 'dataset_builder': None, 'wait_steps': 100, 'self': <secretflow.ml.nn.fl.fl_model.FLModel object at 0x7f577999dfa0>}\n",
      "Train Processing: :   0%|          | 0/47 [00:00<?, ?it/s]"
     ]
    },
    {
     "name": "stdout",
     "output_type": "stream",
     "text": [
      "Epoch 1/20\n"
     ]
    },
    {
     "name": "stderr",
     "output_type": "stream",
     "text": [
      "Train Processing: :  64%|██████▍   | 30/47 [00:00<00:00, 84.70it/s]/home/cyf/anaconda3/envs/secretflow/lib/python3.8/site-packages/secretflow/ml/nn/metrics.py:59: UserWarning: Please pay attention to local metrics, global only do naive aggregation.\n",
      "  warnings.warn(\n",
      "Train Processing: :  85%|████████▌ | 40/47 [00:01<00:00, 32.51it/s, {'multiclassaccuracy': 0.952, 'multiclassprecision': 0.952, 'val_multiclassaccuracy': 0.93149996, 'val_multiclassprecision': 0.93149996}]\n",
      "\u001B[2m\u001B[36m(pid=3451741)\u001B[0m 2023-12-19 12:29:24.985350: W tensorflow/compiler/xla/stream_executor/platform/default/dso_loader.cc:64] Could not load dynamic library 'libcudart.so.11.0'; dlerror: libcudart.so.11.0: cannot open shared object file: No such file or directory\n",
      "\u001B[2m\u001B[36m(pid=3451808)\u001B[0m 2023-12-19 12:29:24.985352: W tensorflow/compiler/xla/stream_executor/platform/default/dso_loader.cc:64] Could not load dynamic library 'libcudart.so.11.0'; dlerror: libcudart.so.11.0: cannot open shared object file: No such file or directory\n",
      "Train Processing: :   0%|          | 0/47 [00:00<?, ?it/s]\u001B[2m\u001B[36m(pid=3451741)\u001B[0m 2023-12-19 12:29:25.643781: W tensorflow/compiler/xla/stream_executor/platform/default/dso_loader.cc:64] Could not load dynamic library 'libnvinfer.so.7'; dlerror: libnvinfer.so.7: cannot open shared object file: No such file or directory\n",
      "\u001B[2m\u001B[36m(pid=3451741)\u001B[0m 2023-12-19 12:29:25.643848: W tensorflow/compiler/xla/stream_executor/platform/default/dso_loader.cc:64] Could not load dynamic library 'libnvinfer_plugin.so.7'; dlerror: libnvinfer_plugin.so.7: cannot open shared object file: No such file or directory\n",
      "\u001B[2m\u001B[36m(pid=3451741)\u001B[0m 2023-12-19 12:29:25.643854: W tensorflow/compiler/tf2tensorrt/utils/py_utils.cc:38] TF-TRT Warning: Cannot dlopen some TensorRT libraries. If you would like to use Nvidia GPU with TensorRT, please make sure the missing libraries mentioned above are installed properly.\n",
      "\u001B[2m\u001B[36m(pid=3451808)\u001B[0m 2023-12-19 12:29:25.671910: W tensorflow/compiler/xla/stream_executor/platform/default/dso_loader.cc:64] Could not load dynamic library 'libnvinfer.so.7'; dlerror: libnvinfer.so.7: cannot open shared object file: No such file or directory\n",
      "\u001B[2m\u001B[36m(pid=3451808)\u001B[0m 2023-12-19 12:29:25.671984: W tensorflow/compiler/xla/stream_executor/platform/default/dso_loader.cc:64] Could not load dynamic library 'libnvinfer_plugin.so.7'; dlerror: libnvinfer_plugin.so.7: cannot open shared object file: No such file or directory\n",
      "\u001B[2m\u001B[36m(pid=3451808)\u001B[0m 2023-12-19 12:29:25.671990: W tensorflow/compiler/tf2tensorrt/utils/py_utils.cc:38] TF-TRT Warning: Cannot dlopen some TensorRT libraries. If you would like to use Nvidia GPU with TensorRT, please make sure the missing libraries mentioned above are installed properly.\n"
     ]
    },
    {
     "name": "stdout",
     "output_type": "stream",
     "text": [
      "Epoch 2/20\n",
      "\u001B[2m\u001B[36m(PYUScaffold pid=3446795)\u001B[0m {'train-loss': 0.25160035490989685, 'train_multiclassaccuracy': tensor(0.9435), 'train_multiclassprecision': tensor(0.9435), 'val_eval_multiclassaccuracy': tensor(0.9230), 'val_eval_multiclassprecision': tensor(0.9230)}\n",
      "\u001B[2m\u001B[36m(PYUScaffold pid=3446860)\u001B[0m {'train-loss': 0.14002498984336853, 'train_multiclassaccuracy': tensor(0.9605), 'train_multiclassprecision': tensor(0.9605), 'val_eval_multiclassaccuracy': tensor(0.9400), 'val_eval_multiclassprecision': tensor(0.9400)}\n"
     ]
    },
    {
     "name": "stderr",
     "output_type": "stream",
     "text": [
      "Train Processing: :  85%|████████▌ | 40/47 [00:01<00:00, 31.85it/s, {'multiclassaccuracy': 0.95325005, 'multiclassprecision': 0.95325005, 'val_multiclassaccuracy': 0.9325, 'val_multiclassprecision': 0.9325}]\n",
      "Train Processing: :   0%|          | 0/47 [00:00<?, ?it/s]"
     ]
    },
    {
     "name": "stdout",
     "output_type": "stream",
     "text": [
      "Epoch 3/20\n",
      "\u001B[2m\u001B[36m(PYUScaffold pid=3446795)\u001B[0m {'train-loss': 0.24648180603981018, 'train_multiclassaccuracy': tensor(0.9445), 'train_multiclassprecision': tensor(0.9445), 'val_eval_multiclassaccuracy': tensor(0.9240), 'val_eval_multiclassprecision': tensor(0.9240)}\n",
      "\u001B[2m\u001B[36m(PYUScaffold pid=3446860)\u001B[0m {'train-loss': 0.13839274644851685, 'train_multiclassaccuracy': tensor(0.9620), 'train_multiclassprecision': tensor(0.9620), 'val_eval_multiclassaccuracy': tensor(0.9410), 'val_eval_multiclassprecision': tensor(0.9410)}\n"
     ]
    },
    {
     "name": "stderr",
     "output_type": "stream",
     "text": [
      "Train Processing: :  85%|████████▌ | 40/47 [00:01<00:00, 29.96it/s, {'multiclassaccuracy': 0.95375, 'multiclassprecision': 0.95375, 'val_multiclassaccuracy': 0.9345, 'val_multiclassprecision': 0.9345}]\n",
      "Train Processing: :   0%|          | 0/47 [00:00<?, ?it/s]"
     ]
    },
    {
     "name": "stdout",
     "output_type": "stream",
     "text": [
      "Epoch 4/20\n",
      "\u001B[2m\u001B[36m(PYUScaffold pid=3446795)\u001B[0m {'train-loss': 0.2417016178369522, 'train_multiclassaccuracy': tensor(0.9453), 'train_multiclassprecision': tensor(0.9453), 'val_eval_multiclassaccuracy': tensor(0.9250), 'val_eval_multiclassprecision': tensor(0.9250)}\n",
      "\u001B[2m\u001B[36m(PYUScaffold pid=3446860)\u001B[0m {'train-loss': 0.13692334294319153, 'train_multiclassaccuracy': tensor(0.9622), 'train_multiclassprecision': tensor(0.9622), 'val_eval_multiclassaccuracy': tensor(0.9440), 'val_eval_multiclassprecision': tensor(0.9440)}\n"
     ]
    },
    {
     "name": "stderr",
     "output_type": "stream",
     "text": [
      "Train Processing: :  85%|████████▌ | 40/47 [00:01<00:00, 30.74it/s, {'multiclassaccuracy': 0.95441663, 'multiclassprecision': 0.95441663, 'val_multiclassaccuracy': 0.9355, 'val_multiclassprecision': 0.9355}]\n",
      "Train Processing: :   0%|          | 0/47 [00:00<?, ?it/s]"
     ]
    },
    {
     "name": "stdout",
     "output_type": "stream",
     "text": [
      "Epoch 5/20\n",
      "\u001B[2m\u001B[36m(PYUScaffold pid=3446795)\u001B[0m {'train-loss': 0.2372230589389801, 'train_multiclassaccuracy': tensor(0.9460), 'train_multiclassprecision': tensor(0.9460), 'val_eval_multiclassaccuracy': tensor(0.9270), 'val_eval_multiclassprecision': tensor(0.9270)}\n",
      "\u001B[2m\u001B[36m(PYUScaffold pid=3446860)\u001B[0m {'train-loss': 0.13558658957481384, 'train_multiclassaccuracy': tensor(0.9628), 'train_multiclassprecision': tensor(0.9628), 'val_eval_multiclassaccuracy': tensor(0.9440), 'val_eval_multiclassprecision': tensor(0.9440)}\n"
     ]
    },
    {
     "name": "stderr",
     "output_type": "stream",
     "text": [
      "Train Processing: :  85%|████████▌ | 40/47 [00:01<00:00, 30.64it/s, {'multiclassaccuracy': 0.9546667, 'multiclassprecision': 0.9546667, 'val_multiclassaccuracy': 0.93700004, 'val_multiclassprecision': 0.93700004}]\n",
      "Train Processing: :   0%|          | 0/47 [00:00<?, ?it/s]"
     ]
    },
    {
     "name": "stdout",
     "output_type": "stream",
     "text": [
      "Epoch 6/20\n",
      "\u001B[2m\u001B[36m(PYUScaffold pid=3446795)\u001B[0m {'train-loss': 0.2330627143383026, 'train_multiclassaccuracy': tensor(0.9462), 'train_multiclassprecision': tensor(0.9462), 'val_eval_multiclassaccuracy': tensor(0.9290), 'val_eval_multiclassprecision': tensor(0.9290)}\n",
      "\u001B[2m\u001B[36m(PYUScaffold pid=3446860)\u001B[0m {'train-loss': 0.13427934050559998, 'train_multiclassaccuracy': tensor(0.9632), 'train_multiclassprecision': tensor(0.9632), 'val_eval_multiclassaccuracy': tensor(0.9450), 'val_eval_multiclassprecision': tensor(0.9450)}\n"
     ]
    },
    {
     "name": "stderr",
     "output_type": "stream",
     "text": [
      "Train Processing: :  85%|████████▌ | 40/47 [00:01<00:00, 30.16it/s, {'multiclassaccuracy': 0.9550834, 'multiclassprecision': 0.9550834, 'val_multiclassaccuracy': 0.938, 'val_multiclassprecision': 0.938}]\n",
      "Train Processing: :   0%|          | 0/47 [00:00<?, ?it/s]"
     ]
    },
    {
     "name": "stdout",
     "output_type": "stream",
     "text": [
      "Epoch 7/20\n",
      "\u001B[2m\u001B[36m(PYUScaffold pid=3446795)\u001B[0m {'train-loss': 0.22906777262687683, 'train_multiclassaccuracy': tensor(0.9467), 'train_multiclassprecision': tensor(0.9467), 'val_eval_multiclassaccuracy': tensor(0.9290), 'val_eval_multiclassprecision': tensor(0.9290)}\n",
      "\u001B[2m\u001B[36m(PYUScaffold pid=3446860)\u001B[0m {'train-loss': 0.13307598233222961, 'train_multiclassaccuracy': tensor(0.9635), 'train_multiclassprecision': tensor(0.9635), 'val_eval_multiclassaccuracy': tensor(0.9470), 'val_eval_multiclassprecision': tensor(0.9470)}\n"
     ]
    },
    {
     "name": "stderr",
     "output_type": "stream",
     "text": [
      "Train Processing: :  85%|████████▌ | 40/47 [00:01<00:00, 25.80it/s, {'multiclassaccuracy': 0.95575, 'multiclassprecision': 0.95575, 'val_multiclassaccuracy': 0.9395, 'val_multiclassprecision': 0.9395}]\n",
      "Train Processing: :   0%|          | 0/47 [00:00<?, ?it/s]"
     ]
    },
    {
     "name": "stdout",
     "output_type": "stream",
     "text": [
      "Epoch 8/20\n",
      "\u001B[2m\u001B[36m(PYUScaffold pid=3446795)\u001B[0m {'train-loss': 0.2253204733133316, 'train_multiclassaccuracy': tensor(0.9473), 'train_multiclassprecision': tensor(0.9473), 'val_eval_multiclassaccuracy': tensor(0.9310), 'val_eval_multiclassprecision': tensor(0.9310)}\n",
      "\u001B[2m\u001B[36m(PYUScaffold pid=3446860)\u001B[0m {'train-loss': 0.13192376494407654, 'train_multiclassaccuracy': tensor(0.9642), 'train_multiclassprecision': tensor(0.9642), 'val_eval_multiclassaccuracy': tensor(0.9480), 'val_eval_multiclassprecision': tensor(0.9480)}\n"
     ]
    },
    {
     "name": "stderr",
     "output_type": "stream",
     "text": [
      "Train Processing: :  85%|████████▌ | 40/47 [00:01<00:00, 28.50it/s, {'multiclassaccuracy': 0.95666665, 'multiclassprecision': 0.95666665, 'val_multiclassaccuracy': 0.9395, 'val_multiclassprecision': 0.9395}]\n",
      "Train Processing: :   0%|          | 0/47 [00:00<?, ?it/s]"
     ]
    },
    {
     "name": "stdout",
     "output_type": "stream",
     "text": [
      "Epoch 9/20\n",
      "\u001B[2m\u001B[36m(PYUScaffold pid=3446795)\u001B[0m {'train-loss': 0.22177399694919586, 'train_multiclassaccuracy': tensor(0.9485), 'train_multiclassprecision': tensor(0.9485), 'val_eval_multiclassaccuracy': tensor(0.9310), 'val_eval_multiclassprecision': tensor(0.9310)}\n",
      "\u001B[2m\u001B[36m(PYUScaffold pid=3446860)\u001B[0m {'train-loss': 0.1308523267507553, 'train_multiclassaccuracy': tensor(0.9648), 'train_multiclassprecision': tensor(0.9648), 'val_eval_multiclassaccuracy': tensor(0.9480), 'val_eval_multiclassprecision': tensor(0.9480)}\n"
     ]
    },
    {
     "name": "stderr",
     "output_type": "stream",
     "text": [
      "Train Processing: :  85%|████████▌ | 40/47 [00:01<00:00, 26.95it/s, {'multiclassaccuracy': 0.95766664, 'multiclassprecision': 0.95766664, 'val_multiclassaccuracy': 0.9405, 'val_multiclassprecision': 0.9405}]\n",
      "Train Processing: :   0%|          | 0/47 [00:00<?, ?it/s]"
     ]
    },
    {
     "name": "stdout",
     "output_type": "stream",
     "text": [
      "Epoch 10/20\n",
      "\u001B[2m\u001B[36m(PYUScaffold pid=3446795)\u001B[0m {'train-loss': 0.21842269599437714, 'train_multiclassaccuracy': tensor(0.9498), 'train_multiclassprecision': tensor(0.9498), 'val_eval_multiclassaccuracy': tensor(0.9320), 'val_eval_multiclassprecision': tensor(0.9320)}\n",
      "\u001B[2m\u001B[36m(PYUScaffold pid=3446860)\u001B[0m {'train-loss': 0.1298312246799469, 'train_multiclassaccuracy': tensor(0.9655), 'train_multiclassprecision': tensor(0.9655), 'val_eval_multiclassaccuracy': tensor(0.9490), 'val_eval_multiclassprecision': tensor(0.9490)}\n"
     ]
    },
    {
     "name": "stderr",
     "output_type": "stream",
     "text": [
      "Train Processing: :  85%|████████▌ | 40/47 [00:01<00:00, 26.84it/s, {'multiclassaccuracy': 0.95825, 'multiclassprecision': 0.95825, 'val_multiclassaccuracy': 0.9425, 'val_multiclassprecision': 0.9425}]\n",
      "Train Processing: :   0%|          | 0/47 [00:00<?, ?it/s]"
     ]
    },
    {
     "name": "stdout",
     "output_type": "stream",
     "text": [
      "Epoch 11/20\n",
      "\u001B[2m\u001B[36m(PYUScaffold pid=3446795)\u001B[0m {'train-loss': 0.21516355872154236, 'train_multiclassaccuracy': tensor(0.9508), 'train_multiclassprecision': tensor(0.9508), 'val_eval_multiclassaccuracy': tensor(0.9340), 'val_eval_multiclassprecision': tensor(0.9340)}\n",
      "\u001B[2m\u001B[36m(PYUScaffold pid=3446860)\u001B[0m {'train-loss': 0.12885640561580658, 'train_multiclassaccuracy': tensor(0.9657), 'train_multiclassprecision': tensor(0.9657), 'val_eval_multiclassaccuracy': tensor(0.9510), 'val_eval_multiclassprecision': tensor(0.9510)}\n"
     ]
    },
    {
     "name": "stderr",
     "output_type": "stream",
     "text": [
      "Train Processing: :  85%|████████▌ | 40/47 [00:01<00:00, 25.67it/s, {'multiclassaccuracy': 0.95883334, 'multiclassprecision': 0.95883334, 'val_multiclassaccuracy': 0.9425, 'val_multiclassprecision': 0.9425}]\n",
      "Train Processing: :   0%|          | 0/47 [00:00<?, ?it/s]"
     ]
    },
    {
     "name": "stdout",
     "output_type": "stream",
     "text": [
      "Epoch 12/20\n",
      "\u001B[2m\u001B[36m(PYUScaffold pid=3446795)\u001B[0m {'train-loss': 0.21212415397167206, 'train_multiclassaccuracy': tensor(0.9517), 'train_multiclassprecision': tensor(0.9517), 'val_eval_multiclassaccuracy': tensor(0.9340), 'val_eval_multiclassprecision': tensor(0.9340)}\n",
      "\u001B[2m\u001B[36m(PYUScaffold pid=3446860)\u001B[0m {'train-loss': 0.12788568437099457, 'train_multiclassaccuracy': tensor(0.9660), 'train_multiclassprecision': tensor(0.9660), 'val_eval_multiclassaccuracy': tensor(0.9510), 'val_eval_multiclassprecision': tensor(0.9510)}\n"
     ]
    },
    {
     "name": "stderr",
     "output_type": "stream",
     "text": [
      "Train Processing: :  85%|████████▌ | 40/47 [00:01<00:00, 24.67it/s, {'multiclassaccuracy': 0.95916665, 'multiclassprecision': 0.95916665, 'val_multiclassaccuracy': 0.944, 'val_multiclassprecision': 0.944}]\n",
      "Train Processing: :   0%|          | 0/47 [00:00<?, ?it/s]"
     ]
    },
    {
     "name": "stdout",
     "output_type": "stream",
     "text": [
      "Epoch 13/20\n",
      "\u001B[2m\u001B[36m(PYUScaffold pid=3446795)\u001B[0m {'train-loss': 0.20920851826667786, 'train_multiclassaccuracy': tensor(0.9520), 'train_multiclassprecision': tensor(0.9520), 'val_eval_multiclassaccuracy': tensor(0.9360), 'val_eval_multiclassprecision': tensor(0.9360)}\n",
      "\u001B[2m\u001B[36m(PYUScaffold pid=3446860)\u001B[0m {'train-loss': 0.12698210775852203, 'train_multiclassaccuracy': tensor(0.9663), 'train_multiclassprecision': tensor(0.9663), 'val_eval_multiclassaccuracy': tensor(0.9520), 'val_eval_multiclassprecision': tensor(0.9520)}\n"
     ]
    },
    {
     "name": "stderr",
     "output_type": "stream",
     "text": [
      "Train Processing: :  85%|████████▌ | 40/47 [00:01<00:00, 25.69it/s, {'multiclassaccuracy': 0.9598333, 'multiclassprecision': 0.9598333, 'val_multiclassaccuracy': 0.944, 'val_multiclassprecision': 0.944}]\n",
      "Train Processing: :   0%|          | 0/47 [00:00<?, ?it/s]"
     ]
    },
    {
     "name": "stdout",
     "output_type": "stream",
     "text": [
      "Epoch 14/20\n",
      "\u001B[2m\u001B[36m(PYUScaffold pid=3446795)\u001B[0m {'train-loss': 0.20637790858745575, 'train_multiclassaccuracy': tensor(0.9533), 'train_multiclassprecision': tensor(0.9533), 'val_eval_multiclassaccuracy': tensor(0.9360), 'val_eval_multiclassprecision': tensor(0.9360)}\n",
      "\u001B[2m\u001B[36m(PYUScaffold pid=3446860)\u001B[0m {'train-loss': 0.126093327999115, 'train_multiclassaccuracy': tensor(0.9663), 'train_multiclassprecision': tensor(0.9663), 'val_eval_multiclassaccuracy': tensor(0.9520), 'val_eval_multiclassprecision': tensor(0.9520)}\n"
     ]
    },
    {
     "name": "stderr",
     "output_type": "stream",
     "text": [
      "Train Processing: :  85%|████████▌ | 40/47 [00:01<00:00, 22.87it/s, {'multiclassaccuracy': 0.96033335, 'multiclassprecision': 0.96033335, 'val_multiclassaccuracy': 0.944, 'val_multiclassprecision': 0.944}]\n",
      "Train Processing: :   0%|          | 0/47 [00:00<?, ?it/s]"
     ]
    },
    {
     "name": "stdout",
     "output_type": "stream",
     "text": [
      "Epoch 15/20\n",
      "\u001B[2m\u001B[36m(PYUScaffold pid=3446795)\u001B[0m {'train-loss': 0.20373155176639557, 'train_multiclassaccuracy': tensor(0.9538), 'train_multiclassprecision': tensor(0.9538), 'val_eval_multiclassaccuracy': tensor(0.9360), 'val_eval_multiclassprecision': tensor(0.9360)}\n",
      "\u001B[2m\u001B[36m(PYUScaffold pid=3446860)\u001B[0m {'train-loss': 0.12519249320030212, 'train_multiclassaccuracy': tensor(0.9668), 'train_multiclassprecision': tensor(0.9668), 'val_eval_multiclassaccuracy': tensor(0.9520), 'val_eval_multiclassprecision': tensor(0.9520)}\n"
     ]
    },
    {
     "name": "stderr",
     "output_type": "stream",
     "text": [
      "Train Processing: :  85%|████████▌ | 40/47 [00:01<00:00, 24.30it/s, {'multiclassaccuracy': 0.9611667, 'multiclassprecision': 0.9611667, 'val_multiclassaccuracy': 0.944, 'val_multiclassprecision': 0.944}]\n",
      "Train Processing: :   0%|          | 0/47 [00:00<?, ?it/s]"
     ]
    },
    {
     "name": "stdout",
     "output_type": "stream",
     "text": [
      "Epoch 16/20\n",
      "\u001B[2m\u001B[36m(PYUScaffold pid=3446795)\u001B[0m {'train-loss': 0.2011430561542511, 'train_multiclassaccuracy': tensor(0.9553), 'train_multiclassprecision': tensor(0.9553), 'val_eval_multiclassaccuracy': tensor(0.9350), 'val_eval_multiclassprecision': tensor(0.9350)}\n",
      "\u001B[2m\u001B[36m(PYUScaffold pid=3446860)\u001B[0m {'train-loss': 0.12434186041355133, 'train_multiclassaccuracy': tensor(0.9670), 'train_multiclassprecision': tensor(0.9670), 'val_eval_multiclassaccuracy': tensor(0.9530), 'val_eval_multiclassprecision': tensor(0.9530)}\n"
     ]
    },
    {
     "name": "stderr",
     "output_type": "stream",
     "text": [
      "Train Processing: :  85%|████████▌ | 40/47 [00:01<00:00, 23.00it/s, {'multiclassaccuracy': 0.9615, 'multiclassprecision': 0.9615, 'val_multiclassaccuracy': 0.944, 'val_multiclassprecision': 0.944}]\n"
     ]
    },
    {
     "name": "stdout",
     "output_type": "stream",
     "text": [
      "\u001B[2m\u001B[36m(PYUScaffold pid=3446795)\u001B[0m {'train-loss': 0.19867824018001556, 'train_multiclassaccuracy': tensor(0.9555), 'train_multiclassprecision': tensor(0.9555), 'val_eval_multiclassaccuracy': tensor(0.9360), 'val_eval_multiclassprecision': tensor(0.9360)}\n",
      "\u001B[2m\u001B[36m(PYUScaffold pid=3446860)\u001B[0m {'train-loss': 0.1234983280301094, 'train_multiclassaccuracy': tensor(0.9675), 'train_multiclassprecision': tensor(0.9675), 'val_eval_multiclassaccuracy': tensor(0.9520), 'val_eval_multiclassprecision': tensor(0.9520)}\n"
     ]
    },
    {
     "name": "stderr",
     "output_type": "stream",
     "text": [
      "Train Processing: :   0%|          | 0/47 [00:00<?, ?it/s]"
     ]
    },
    {
     "name": "stdout",
     "output_type": "stream",
     "text": [
      "Epoch 17/20\n"
     ]
    },
    {
     "name": "stderr",
     "output_type": "stream",
     "text": [
      "Train Processing: :  85%|████████▌ | 40/47 [00:01<00:00, 22.66it/s, {'multiclassaccuracy': 0.96175, 'multiclassprecision': 0.96175, 'val_multiclassaccuracy': 0.946, 'val_multiclassprecision': 0.946}]\n",
      "Train Processing: :   0%|          | 0/47 [00:00<?, ?it/s]"
     ]
    },
    {
     "name": "stdout",
     "output_type": "stream",
     "text": [
      "Epoch 18/20\n",
      "\u001B[2m\u001B[36m(PYUScaffold pid=3446795)\u001B[0m {'train-loss': 0.19622936844825745, 'train_multiclassaccuracy': tensor(0.9560), 'train_multiclassprecision': tensor(0.9560), 'val_eval_multiclassaccuracy': tensor(0.9400), 'val_eval_multiclassprecision': tensor(0.9400)}\n",
      "\u001B[2m\u001B[36m(PYUScaffold pid=3446860)\u001B[0m {'train-loss': 0.12266948074102402, 'train_multiclassaccuracy': tensor(0.9675), 'train_multiclassprecision': tensor(0.9675), 'val_eval_multiclassaccuracy': tensor(0.9520), 'val_eval_multiclassprecision': tensor(0.9520)}\n"
     ]
    },
    {
     "name": "stderr",
     "output_type": "stream",
     "text": [
      "Train Processing: :  85%|████████▌ | 40/47 [00:01<00:00, 23.81it/s, {'multiclassaccuracy': 0.962, 'multiclassprecision': 0.962, 'val_multiclassaccuracy': 0.9475, 'val_multiclassprecision': 0.9475}]\n",
      "Train Processing: :   0%|          | 0/47 [00:00<?, ?it/s]"
     ]
    },
    {
     "name": "stdout",
     "output_type": "stream",
     "text": [
      "Epoch 19/20\n",
      "\u001B[2m\u001B[36m(PYUScaffold pid=3446795)\u001B[0m {'train-loss': 0.193862184882164, 'train_multiclassaccuracy': tensor(0.9563), 'train_multiclassprecision': tensor(0.9563), 'val_eval_multiclassaccuracy': tensor(0.9400), 'val_eval_multiclassprecision': tensor(0.9400)}\n",
      "\u001B[2m\u001B[36m(PYUScaffold pid=3446860)\u001B[0m {'train-loss': 0.12182235717773438, 'train_multiclassaccuracy': tensor(0.9677), 'train_multiclassprecision': tensor(0.9677), 'val_eval_multiclassaccuracy': tensor(0.9550), 'val_eval_multiclassprecision': tensor(0.9550)}\n"
     ]
    },
    {
     "name": "stderr",
     "output_type": "stream",
     "text": [
      "Train Processing: :  85%|████████▌ | 40/47 [00:01<00:00, 23.74it/s, {'multiclassaccuracy': 0.96241665, 'multiclassprecision': 0.96241665, 'val_multiclassaccuracy': 0.947, 'val_multiclassprecision': 0.947}]\n",
      "Train Processing: :   0%|          | 0/47 [00:00<?, ?it/s]"
     ]
    },
    {
     "name": "stdout",
     "output_type": "stream",
     "text": [
      "Epoch 20/20\n",
      "\u001B[2m\u001B[36m(PYUScaffold pid=3446795)\u001B[0m {'train-loss': 0.19155724346637726, 'train_multiclassaccuracy': tensor(0.9570), 'train_multiclassprecision': tensor(0.9570), 'val_eval_multiclassaccuracy': tensor(0.9390), 'val_eval_multiclassprecision': tensor(0.9390)}\n",
      "\u001B[2m\u001B[36m(PYUScaffold pid=3446860)\u001B[0m {'train-loss': 0.12100622802972794, 'train_multiclassaccuracy': tensor(0.9678), 'train_multiclassprecision': tensor(0.9678), 'val_eval_multiclassaccuracy': tensor(0.9550), 'val_eval_multiclassprecision': tensor(0.9550)}\n"
     ]
    },
    {
     "name": "stderr",
     "output_type": "stream",
     "text": [
      "Train Processing: :  85%|████████▌ | 40/47 [00:01<00:00, 21.22it/s, {'multiclassaccuracy': 0.9634167, 'multiclassprecision': 0.9634167, 'val_multiclassaccuracy': 0.948, 'val_multiclassprecision': 0.948}]\n"
     ]
    }
   ],
   "source": [
    "fl_model_2 = FLModel(\n",
    "    server=server,\n",
    "    device_list=device_list,\n",
    "    model=model_def,\n",
    "    aggregator=aggregator,\n",
    "    # strategy='fed_avg_w',  # fl strategy\n",
    "    strategy='fed_avg_w',  # fl strategy\n",
    "    backend=\"torch\",  # backend support ['tensorflow', 'torch']\n",
    ")\n",
    "history_2 = fl_model.fit(\n",
    "    train_data,\n",
    "    train_label,\n",
    "    validation_data=(test_data, test_label),\n",
    "    epochs=20,\n",
    "    batch_size=128,\n",
    "    aggregate_freq=10,\n",
    ")"
   ],
   "metadata": {
    "collapsed": false,
    "ExecuteTime": {
     "end_time": "2023-12-19T12:30:11.201898600Z",
     "start_time": "2023-12-19T12:29:22.938518600Z"
    }
   },
   "id": "6f351e3e0dc81875"
  },
  {
   "cell_type": "code",
   "execution_count": 11,
   "outputs": [
    {
     "name": "stdout",
     "output_type": "stream",
     "text": [
      "\u001B[2m\u001B[36m(PYUScaffold pid=3446795)\u001B[0m {'train-loss': 0.18937771022319794, 'train_multiclassaccuracy': tensor(0.9583), 'train_multiclassprecision': tensor(0.9583), 'val_eval_multiclassaccuracy': tensor(0.9390), 'val_eval_multiclassprecision': tensor(0.9390)}\n",
      "\u001B[2m\u001B[36m(PYUScaffold pid=3446860)\u001B[0m {'train-loss': 0.12015939503908157, 'train_multiclassaccuracy': tensor(0.9685), 'train_multiclassprecision': tensor(0.9685), 'val_eval_multiclassaccuracy': tensor(0.9570), 'val_eval_multiclassprecision': tensor(0.9570)}\n",
      "{'alice_train-loss': [0.25160035490989685, 0.24648180603981018, 0.2417016178369522, 0.2372230589389801, 0.2330627143383026, 0.22906777262687683, 0.2253204733133316, 0.22177399694919586, 0.21842269599437714, 0.21516355872154236, 0.21212415397167206, 0.20920851826667786, 0.20637790858745575, 0.20373155176639557, 0.2011430561542511, 0.19867824018001556, 0.19622936844825745, 0.193862184882164, 0.19155724346637726, 0.18937771022319794], 'alice_train_multiclassaccuracy': [tensor(0.9435), tensor(0.9445), tensor(0.9453), tensor(0.9460), tensor(0.9462), tensor(0.9467), tensor(0.9473), tensor(0.9485), tensor(0.9498), tensor(0.9508), tensor(0.9517), tensor(0.9520), tensor(0.9533), tensor(0.9538), tensor(0.9553), tensor(0.9555), tensor(0.9560), tensor(0.9563), tensor(0.9570), tensor(0.9583)], 'alice_train_multiclassprecision': [tensor(0.9435), tensor(0.9445), tensor(0.9453), tensor(0.9460), tensor(0.9462), tensor(0.9467), tensor(0.9473), tensor(0.9485), tensor(0.9498), tensor(0.9508), tensor(0.9517), tensor(0.9520), tensor(0.9533), tensor(0.9538), tensor(0.9553), tensor(0.9555), tensor(0.9560), tensor(0.9563), tensor(0.9570), tensor(0.9583)], 'alice_val_eval_multiclassaccuracy': [tensor(0.9230), tensor(0.9240), tensor(0.9250), tensor(0.9270), tensor(0.9290), tensor(0.9290), tensor(0.9310), tensor(0.9310), tensor(0.9320), tensor(0.9340), tensor(0.9340), tensor(0.9360), tensor(0.9360), tensor(0.9360), tensor(0.9350), tensor(0.9360), tensor(0.9400), tensor(0.9400), tensor(0.9390), tensor(0.9390)], 'alice_val_eval_multiclassprecision': [tensor(0.9230), tensor(0.9240), tensor(0.9250), tensor(0.9270), tensor(0.9290), tensor(0.9290), tensor(0.9310), tensor(0.9310), tensor(0.9320), tensor(0.9340), tensor(0.9340), tensor(0.9360), tensor(0.9360), tensor(0.9360), tensor(0.9350), tensor(0.9360), tensor(0.9400), tensor(0.9400), tensor(0.9390), tensor(0.9390)], 'bob_train-loss': [0.14002498984336853, 0.13839274644851685, 0.13692334294319153, 0.13558658957481384, 0.13427934050559998, 0.13307598233222961, 0.13192376494407654, 0.1308523267507553, 0.1298312246799469, 0.12885640561580658, 0.12788568437099457, 0.12698210775852203, 0.126093327999115, 0.12519249320030212, 0.12434186041355133, 0.1234983280301094, 0.12266948074102402, 0.12182235717773438, 0.12100622802972794, 0.12015939503908157], 'bob_train_multiclassaccuracy': [tensor(0.9605), tensor(0.9620), tensor(0.9622), tensor(0.9628), tensor(0.9632), tensor(0.9635), tensor(0.9642), tensor(0.9648), tensor(0.9655), tensor(0.9657), tensor(0.9660), tensor(0.9663), tensor(0.9663), tensor(0.9668), tensor(0.9670), tensor(0.9675), tensor(0.9675), tensor(0.9677), tensor(0.9678), tensor(0.9685)], 'bob_train_multiclassprecision': [tensor(0.9605), tensor(0.9620), tensor(0.9622), tensor(0.9628), tensor(0.9632), tensor(0.9635), tensor(0.9642), tensor(0.9648), tensor(0.9655), tensor(0.9657), tensor(0.9660), tensor(0.9663), tensor(0.9663), tensor(0.9668), tensor(0.9670), tensor(0.9675), tensor(0.9675), tensor(0.9677), tensor(0.9678), tensor(0.9685)], 'bob_val_eval_multiclassaccuracy': [tensor(0.9400), tensor(0.9410), tensor(0.9440), tensor(0.9440), tensor(0.9450), tensor(0.9470), tensor(0.9480), tensor(0.9480), tensor(0.9490), tensor(0.9510), tensor(0.9510), tensor(0.9520), tensor(0.9520), tensor(0.9520), tensor(0.9530), tensor(0.9520), tensor(0.9520), tensor(0.9550), tensor(0.9550), tensor(0.9570)], 'bob_val_eval_multiclassprecision': [tensor(0.9400), tensor(0.9410), tensor(0.9440), tensor(0.9440), tensor(0.9450), tensor(0.9470), tensor(0.9480), tensor(0.9480), tensor(0.9490), tensor(0.9510), tensor(0.9510), tensor(0.9520), tensor(0.9520), tensor(0.9520), tensor(0.9530), tensor(0.9520), tensor(0.9520), tensor(0.9550), tensor(0.9550), tensor(0.9570)]}\n"
     ]
    }
   ],
   "source": [
    "print(history_2['local_history'])"
   ],
   "metadata": {
    "collapsed": false,
    "ExecuteTime": {
     "end_time": "2023-12-19T12:30:11.291002700Z",
     "start_time": "2023-12-19T12:30:11.202898800Z"
    }
   },
   "id": "9595c744fedfbee6"
  },
  {
   "cell_type": "code",
   "execution_count": 12,
   "outputs": [
    {
     "data": {
      "text/plain": "<Figure size 640x480 with 1 Axes>",
      "image/png": "[encoded data removed]"
     },
     "metadata": {},
     "output_type": "display_data"
    }
   ],
   "source": [
    "from matplotlib import pyplot as plt\n",
    "\n",
    "# Draw accuracy values for training & validation\n",
    "plt.plot(history_2['global_history']['multiclassaccuracy'])\n",
    "plt.plot(history_2['global_history']['val_multiclassaccuracy'])\n",
    "plt.plot(history_2['local_history']['alice_train_multiclassaccuracy'])\n",
    "plt.plot(history_2['local_history']['bob_train_multiclassaccuracy'])\n",
    "plt.plot(history_2['local_history']['alice_val_eval_multiclassaccuracy'])\n",
    "plt.plot(history_2['local_history']['bob_val_eval_multiclassaccuracy'])\n",
    "plt.title('FLModel accuracy in FedAvg')\n",
    "plt.ylabel('Accuracy')\n",
    "plt.xlabel('Epoch')\n",
    "plt.legend(['Train', 'Valid','alice_T','bob_T','alice_V','bob_V'], loc='upper left')\n",
    "plt.show()"
   ],
   "metadata": {
    "collapsed": false,
    "ExecuteTime": {
     "end_time": "2023-12-19T12:30:11.474687200Z",
     "start_time": "2023-12-19T12:30:11.283513400Z"
    }
   },
   "id": "52bb34aa9b54b501"
  }
 ],
 "metadata": {
  "kernelspec": {
   "display_name": "Python 3",
   "language": "python",
   "name": "python3"
  },
  "language_info": {
   "codemirror_mode": {
    "name": "ipython",
    "version": 2
   },
   "file_extension": ".py",
   "mimetype": "text/x-python",
   "name": "python",
   "nbconvert_exporter": "python",
   "pygments_lexer": "ipython2",
   "version": "2.7.6"
  }
 },
 "nbformat": 4,
 "nbformat_minor": 5
}
