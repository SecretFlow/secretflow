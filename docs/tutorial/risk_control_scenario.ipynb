{
 "cells": [
  {
   "cell_type": "markdown",
   "metadata": {},
   "source": [
    "# 金融风控全链路能力展示\n",
    "\n",
    "> This tutorial is only available in Chinese."
   ]
  },
  {
   "cell_type": "markdown",
   "metadata": {},
   "source": [
    "> Last updated: Nov 9, 2022\n",
    ">\n",
    "> 请使用v0.7.11或以上版本的隐语进行实验。\n",
    ">\n",
    "> 以下代码仅作为示例，请勿在生产环境直接使用。"
   ]
  },
  {
   "cell_type": "markdown",
   "metadata": {},
   "source": [
    "本次实验将会展示如何使用隐语进行在风控领域常用的Logistic Regeression模型和XGB模型的模型研发工作。\n",
    "\n",
    "隐语接下来将会开放模型部署和在线/离线模型预测功能，敬请期待。"
   ]
  },
  {
   "cell_type": "markdown",
   "metadata": {},
   "source": [
    "## 实验目标\n",
    "\n",
    "在本次实验中，我们将会利用一个开源数据集训练一个金融风控场景常用的线性回归和XGB模型。在此过程中将包含以下步骤：\n",
    "\n",
    "- 样本对齐\n",
    "- 特征预处理\n",
    "- 数据分析\n",
    "- 模型训练\n",
    "- 模型预测\n",
    "- 模型评估\n",
    "\n",
    "请依次执行所有步骤确保实验可以顺利完成。"
   ]
  },
  {
   "cell_type": "markdown",
   "metadata": {},
   "source": [
    "## 实验前置工作"
   ]
  },
  {
   "cell_type": "markdown",
   "metadata": {},
   "source": [
    "### 初始化隐语框架\n",
    "\n",
    "在本次实验中，我们将会包含两个节点：**alice** 和 **bob** . 在真实业务场景，他们将会代表两个不同实体，他们之间的原始数据不被允许直接相互传输，但是他们的原始数据将会被一起用以研发一个模型。\n",
    "\n",
    "在下面的代码中，我们建立了一个 **SecretFlow Cluster**, 基于 **alice** 和 **bob** 两个节点，我们还创建了三个device：\n",
    "\n",
    "- alice: PYU device, 负责在alice侧的本地计算，计算输入、计算过程和计算结果仅alice可见\n",
    "- bob: PYU device, 负责在bob侧的本地计算，计算输入、计算过程和计算结果仅bob可见\n",
    "- spu: SPU device, 负责alice和bob之间的密态计算，计算输入和计算结果为密态，由alice和bob各掌握一个分片，计算过程为MPC计算，由alice和bob各自的SPU Runtime一起执行。\n",
    "\n",
    ">  如果你尚未理解以上的一些概念，比如SPU设备，请参考这篇 [文档](../developer/design/architecture.md).\n"
   ]
  },
  {
   "cell_type": "code",
   "execution_count": 1,
   "metadata": {},
   "outputs": [
    {
     "name": "stderr",
     "output_type": "stream",
     "text": [
      "/home/fengjun.feng/miniconda3/envs/sf/lib/python3.8/site-packages/requests/__init__.py:102: RequestsDependencyWarning: urllib3 (1.26.9) or chardet (5.0.0)/charset_normalizer (2.0.12) doesn't match a supported version!\n",
      "  warnings.warn(\"urllib3 ({}) or chardet ({})/charset_normalizer ({}) doesn't match a supported \"\n"
     ]
    }
   ],
   "source": [
    "import secretflow as sf\n",
    "\n",
    "sf.shutdown()\n",
    "sf.init(['alice', 'bob'], num_cpus=8, log_to_driver=True)\n",
    "alice, bob = sf.PYU('alice'), sf.PYU('bob')\n",
    "spu = sf.SPU(sf.utils.testing.cluster_def(['alice', 'bob']))\n"
   ]
  },
  {
   "cell_type": "markdown",
   "metadata": {},
   "source": [
    "在上面的log中，你应该发现，在**spu**的创建过程中，alice和bob两边都各有一个 **SPURuntime** 被建立并互相创建连接。"
   ]
  },
  {
   "cell_type": "markdown",
   "metadata": {},
   "source": [
    "### 数据集\n",
    "\n",
    "本次实验我们采用的原始数据是来自UCI的[Bank Marketing Data Set](https://archive.ics.uci.edu/ml/datasets/bank+marketing). 这个数据集汇集了一家葡萄牙银行机构电话营销的结果。\n",
    "\n",
    "我们添加了**uid**这一列用于接下来隐私求交的实验。\n",
    "\n",
    "我们首先看一下数据集所包含的信息。\n"
   ]
  },
  {
   "cell_type": "code",
   "execution_count": 2,
   "metadata": {},
   "outputs": [
    {
     "data": {
      "text/plain": [
       "       age           job   marital  education default  balance housing loan  \\\n",
       "0       58    management   married   tertiary      no     2143     yes   no   \n",
       "1       44    technician    single  secondary      no       29     yes   no   \n",
       "2       33  entrepreneur   married  secondary      no        2     yes  yes   \n",
       "3       47   blue-collar   married    unknown      no     1506     yes   no   \n",
       "4       33       unknown    single    unknown      no        1      no   no   \n",
       "...    ...           ...       ...        ...     ...      ...     ...  ...   \n",
       "45206   51    technician   married   tertiary      no      825      no   no   \n",
       "45207   71       retired  divorced    primary      no     1729      no   no   \n",
       "45208   72       retired   married  secondary      no     5715      no   no   \n",
       "45209   57   blue-collar   married  secondary      no      668      no   no   \n",
       "45210   37  entrepreneur   married  secondary      no     2971      no   no   \n",
       "\n",
       "         contact  day month  duration  campaign  pdays  previous poutcome  \\\n",
       "0        unknown    5   may       261         1     -1         0  unknown   \n",
       "1        unknown    5   may       151         1     -1         0  unknown   \n",
       "2        unknown    5   may        76         1     -1         0  unknown   \n",
       "3        unknown    5   may        92         1     -1         0  unknown   \n",
       "4        unknown    5   may       198         1     -1         0  unknown   \n",
       "...          ...  ...   ...       ...       ...    ...       ...      ...   \n",
       "45206   cellular   17   nov       977         3     -1         0  unknown   \n",
       "45207   cellular   17   nov       456         2     -1         0  unknown   \n",
       "45208   cellular   17   nov      1127         5    184         3  success   \n",
       "45209  telephone   17   nov       508         4     -1         0  unknown   \n",
       "45210   cellular   17   nov       361         2    188        11    other   \n",
       "\n",
       "         y    uid  \n",
       "0       no      1  \n",
       "1       no      2  \n",
       "2       no      3  \n",
       "3       no      4  \n",
       "4       no      5  \n",
       "...    ...    ...  \n",
       "45206  yes  45207  \n",
       "45207  yes  45208  \n",
       "45208  yes  45209  \n",
       "45209   no  45210  \n",
       "45210   no  45211  \n",
       "\n",
       "[45211 rows x 18 columns]"
      ]
     },
     "execution_count": 2,
     "metadata": {},
     "output_type": "execute_result"
    }
   ],
   "source": [
    "import pandas as pd\n",
    "\n",
    "# 当pd.dataframe过宽时，Sphinx目前的主题无法正确显示html格式输出，\n",
    "# 如果自行运行notebook时可以忽略。\n",
    "pd.set_option('display.notebook_repr_htm', False)\n",
    "\n",
    "# secretflow.utils.simulation.datasets contains mirrors of some popular open dataset.\n",
    "from secretflow.utils.simulation.datasets import dataset\n",
    "\n",
    "df = pd.read_csv(dataset('bank_marketing_full'), sep=';')\n",
    "df['uid'] = df.index + 1\n",
    "\n",
    "df\n"
   ]
  },
  {
   "cell_type": "markdown",
   "metadata": {},
   "source": [
    "该数据集包含了45211个样本，每一个样本代表了一个目标客户。\n",
    "\n",
    "每个样本包含16个feature，我们这里简单描述一下这个数据集所有的feature。\n",
    "\n",
    "\n",
    "| feature | 描述 | 取值 |\n",
    "| :-----| :---- | :---- |\n",
    "| uid | 客户编码 | 数字 |\n",
    "| age | 年龄 | 数字 |\n",
    "| job | 工作类型 |  'admin.','blue-collar','entrepreneur','housemaid','management','retired','self-employed','services','student','technician','unemployed','unknown' |\n",
    "| marital | 婚姻状况 | 'divorced','married','single','unknown' |\n",
    "| education | 教育状况 | 'tertiary', 'secondary', 'unknown', 'primary' |\n",
    "| default | 是否有不良信用记录 | 'no','yes','unknown' |\n",
    "| housing | 是否有房贷 |  'no','yes','unknown' |\n",
    "| loan | 是否有个人贷款 | 'no','yes','unknown' |\n",
    "| contact | 联系方式 | 'cellular','telephone' |\n",
    "| month | 上次联系月份 | 'jan', 'feb', 'mar', ..., 'nov', 'dec' |\n",
    "| day | 上次联系月日 |数字|\n",
    "| duration | 上次沟通时间 | 数字 |\n",
    "| campaign | 本次活动已经沟通的次数 | 数字 |\n",
    "| pdays | 距离上次沟通经过的天数 | 数字 |\n",
    "| previous | 在本次活动之前已经沟通的次数 | 数字 |\n",
    "| poutcome | 之前活动的结果 | 'unknown', 'failure', 'other', 'success' | \n",
    "\n",
    "\n"
   ]
  },
  {
   "cell_type": "markdown",
   "metadata": {},
   "source": [
    "每个样本的label - y表示对于目标客户的营销结果（是否签订了定额存款合同），取值是'yes','no'。\n",
    "\n",
    "我们假定以上16个feature由两个机构分别掌握，具体如下。\n",
    "\n",
    "- alice: age, job, marital, education, default, balance, housing, loan\n",
    "- bob: contact, day, month, duration, campaign, pdays, previous, poutcome, y\n"
   ]
  },
  {
   "cell_type": "markdown",
   "metadata": {},
   "source": [
    "在真实业务场景中, alice和bob所掌握的数据可能是没有对齐的，为了模拟这种情况，我们将数据集shuffle之后，再随机各取90%来模拟这个状况。"
   ]
  },
  {
   "cell_type": "code",
   "execution_count": 3,
   "metadata": {},
   "outputs": [
    {
     "name": "stderr",
     "output_type": "stream",
     "text": [
      "\u001b[2m\u001b[33m(raylet)\u001b[0m /home/fengjun.feng/miniconda3/envs/sf/lib/python3.8/site-packages/requests/__init__.py:102: RequestsDependencyWarning: urllib3 (1.26.9) or chardet (5.0.0)/charset_normalizer (2.0.12) doesn't match a supported version!\n",
      "\u001b[2m\u001b[33m(raylet)\u001b[0m   warnings.warn(\"urllib3 ({}) or chardet ({})/charset_normalizer ({}) doesn't match a supported \"\n",
      "\u001b[2m\u001b[33m(raylet)\u001b[0m /home/fengjun.feng/miniconda3/envs/sf/lib/python3.8/site-packages/requests/__init__.py:102: RequestsDependencyWarning: urllib3 (1.26.9) or chardet (5.0.0)/charset_normalizer (2.0.12) doesn't match a supported version!\n",
      "\u001b[2m\u001b[33m(raylet)\u001b[0m   warnings.warn(\"urllib3 ({}) or chardet ({})/charset_normalizer ({}) doesn't match a supported \"\n"
     ]
    },
    {
     "data": {
      "text/plain": [
       "       age            job  marital  education default  balance housing loan  \\\n",
       "20060   48    blue-collar  married    primary      no      104      no   no   \n",
       "16092   34     management  married   tertiary      no     1790     yes   no   \n",
       "37583   35     technician  married   tertiary      no     -269     yes  yes   \n",
       "39123   26    blue-collar   single  secondary      no      154     yes   no   \n",
       "14785   51        retired  married    primary      no       34     yes   no   \n",
       "...    ...            ...      ...        ...     ...      ...     ...  ...   \n",
       "22513   35  self-employed  married  secondary      no     1256     yes   no   \n",
       "14623   42    blue-collar  married  secondary      no        1      no   no   \n",
       "14757   44         admin.  married  secondary      no      345     yes   no   \n",
       "8866    28    blue-collar   single  secondary      no     1232     yes   no   \n",
       "35507   31         admin.  married  secondary      no      799     yes   no   \n",
       "\n",
       "         uid  \n",
       "20060  20061  \n",
       "16092  16093  \n",
       "37583  37584  \n",
       "39123  39124  \n",
       "14785  14786  \n",
       "...      ...  \n",
       "22513  22514  \n",
       "14623  14624  \n",
       "14757  14758  \n",
       "8866    8867  \n",
       "35507  35508  \n",
       "\n",
       "[40690 rows x 9 columns]"
      ]
     },
     "execution_count": 3,
     "metadata": {},
     "output_type": "execute_result"
    }
   ],
   "source": [
    "import numpy as np\n",
    "\n",
    "df_alice = df.iloc[:, np.r_[0:8, -1]].sample(frac=0.9)\n",
    "\n",
    "df_alice\n"
   ]
  },
  {
   "cell_type": "code",
   "execution_count": 4,
   "metadata": {},
   "outputs": [
    {
     "data": {
      "text/plain": [
       "         contact  day month  duration  campaign  pdays  previous poutcome  \\\n",
       "18487   cellular   31   jul        88        21     -1         0  unknown   \n",
       "22171   cellular   21   aug       819        10     -1         0  unknown   \n",
       "40960   cellular   13   aug       200         1    127         1  failure   \n",
       "2884     unknown   14   may       339         1     -1         0  unknown   \n",
       "29601   cellular    3   feb        88         5    251         3  failure   \n",
       "...          ...  ...   ...       ...       ...    ...       ...      ...   \n",
       "28063  telephone   28   jan        54         3    160        13  failure   \n",
       "44531   cellular   12   aug       323         1    182         4  success   \n",
       "20122   cellular   11   aug       856         3     -1         0  unknown   \n",
       "34322   cellular    4   may       742         4     -1         0  unknown   \n",
       "23400   cellular   27   aug        53         4     -1         0  unknown   \n",
       "\n",
       "         y    uid  \n",
       "18487   no  18488  \n",
       "22171  yes  22172  \n",
       "40960   no  40961  \n",
       "2884    no   2885  \n",
       "29601   no  29602  \n",
       "...    ...    ...  \n",
       "28063   no  28064  \n",
       "44531  yes  44532  \n",
       "20122  yes  20123  \n",
       "34322  yes  34323  \n",
       "23400   no  23401  \n",
       "\n",
       "[40690 rows x 10 columns]"
      ]
     },
     "execution_count": 4,
     "metadata": {},
     "output_type": "execute_result"
    }
   ],
   "source": [
    "df_bob = df.iloc[:, 8:].sample(frac=0.9)\n",
    "\n",
    "df_bob\n"
   ]
  },
  {
   "cell_type": "markdown",
   "metadata": {},
   "source": [
    "我们这里将df_alice和df_bob保存为文件，作为alice和bob两方的原始输入。\n",
    "\n",
    "至此，我们完成了所有实验准备工作。"
   ]
  },
  {
   "cell_type": "code",
   "execution_count": 5,
   "metadata": {},
   "outputs": [],
   "source": [
    "import tempfile\n",
    "\n",
    "_, alice_path = tempfile.mkstemp()\n",
    "_, bob_path = tempfile.mkstemp()\n",
    "df_alice.reset_index(drop=True).to_csv(alice_path, index=False)\n",
    "df_bob.reset_index(drop=True).to_csv(bob_path, index=False)\n"
   ]
  },
  {
   "cell_type": "markdown",
   "metadata": {},
   "source": [
    "## 样本对齐（隐私求交）"
   ]
  },
  {
   "cell_type": "markdown",
   "metadata": {},
   "source": [
    "显然，第一步我们需要将两边的数据对齐。\n",
    "隐私求交（[Private Set Intersection](https://en.wikipedia.org/wiki/Private_set_intersection))是一种密码学方法，可以获取两个集合的交集，而不泄露任何其他信息。\n",
    "在隐语中，SPU设备支持三种隐私求交算法:\n",
    "\n",
    "- [ECDH](https://ieeexplore.ieee.org/document/6234849/)：半诚实模型, 基于公钥密码学，原本适用于小数据集，但是隐语优化后已经能支持10亿量级的数据。\n",
    "- [KKRT](https://eprint.iacr.org/2016/799.pdf)：半诚实模型, 基于布谷鸟哈希（Cuckoo Hashing）以及高效不经意传输扩展（OT Extension），适用于大数据集（比如千万数据集）。\n",
    "- [BC22PCG](https://eprint.iacr.org/2022/334)：半诚实模型, 基于随机相关函数生成器，适用于大数据集。\n",
    "\n",
    "由于我们这里的数据集较小，我们这里采用的是ECDH方法。\n"
   ]
  },
  {
   "cell_type": "markdown",
   "metadata": {},
   "source": [
    "### 方式一：将隐私求交结果保存至文件\n",
    "\n",
    "在一些应用场景场景中，alice和bob可能在隐私求交之后将结果直接保存至文件中，之后再进行后续操作。这个时候，请调用**psi_csv**接口。\n",
    "\n",
    "在以下代码中，我们分别制定了两边需要求交的key以及输入和输出路径。\n",
    "\n",
    "我们需要指定双方的输入文件和输出文件路径。对于ECDH来说，由于双方的地位是平等的，receiver并没有实际含义，你可以任意指定。我们需要设定正确的protocol。sort设为true之后，join的结果将会被排序。\n",
    "\n",
    "> 请阅读 psi_csv 的文档。"
   ]
  },
  {
   "cell_type": "code",
   "execution_count": 6,
   "metadata": {},
   "outputs": [
    {
     "name": "stderr",
     "output_type": "stream",
     "text": [
      "\u001b[2m\u001b[36m(SPURuntime pid=115338)\u001b[0m I1118 11:44:52.575792 115338 external/com_github_brpc_brpc/src/brpc/server.cpp:1070] Server[yasl::link::internal::ReceiverServiceImpl] is serving on port=48413.\n",
      "\u001b[2m\u001b[36m(SPURuntime pid=115338)\u001b[0m I1118 11:44:52.575893 115338 external/com_github_brpc_brpc/src/brpc/server.cpp:1073] Check out http://k69b13338.eu95sqa:48413 in web browser.\n",
      "\u001b[2m\u001b[36m(SPURuntime pid=115337)\u001b[0m I1118 11:44:52.573900 115337 external/com_github_brpc_brpc/src/brpc/server.cpp:1070] Server[yasl::link::internal::ReceiverServiceImpl] is serving on port=24103.\n",
      "\u001b[2m\u001b[36m(SPURuntime pid=115337)\u001b[0m I1118 11:44:52.573970 115337 external/com_github_brpc_brpc/src/brpc/server.cpp:1073] Check out http://k69b13338.eu95sqa:24103 in web browser.\n",
      "\u001b[2m\u001b[36m(SPURuntime pid=115337)\u001b[0m I1118 11:44:52.674812 115464 external/com_github_brpc_brpc/src/brpc/socket.cpp:2236] Checking Socket{id=0 addr=127.0.0.1:48413} (0x560058cdc4c0)\n",
      "\u001b[2m\u001b[36m(SPURuntime pid=115337)\u001b[0m I1118 11:44:52.675110 115462 external/com_github_brpc_brpc/src/brpc/socket.cpp:2296] Revived Socket{id=0 addr=127.0.0.1:48413} (0x560058cdc4c0) (Connectable)\n"
     ]
    },
    {
     "name": "stdout",
     "output_type": "stream",
     "text": [
      "\u001b[2m\u001b[36m(SPURuntime pid=115338)\u001b[0m [2022-11-18 11:44:53.599] [info] [bucket_psi.cc:169] bucket size set to 1048576\n",
      "\u001b[2m\u001b[36m(SPURuntime pid=115338)\u001b[0m [2022-11-18 11:44:53.599] [info] [bucket_psi.cc:77] Begin sanity check for input file: /tmp/tmp57guvocf, precheck_switch:true\n",
      "\u001b[2m\u001b[36m(SPURuntime pid=115338)\u001b[0m [2022-11-18 11:44:53.621] [info] [csv_checker.cc:125] Executing duplicated scripts: LC_ALL=C sort --buffer-size=1G --temporary-directory=/tmp --stable selected-keys.1668743093599496476 | LC_ALL=C uniq -d > duplicate-keys.1668743093599496476\n",
      "\u001b[2m\u001b[36m(SPURuntime pid=115338)\u001b[0m [2022-11-18 11:44:53.644] [info] [bucket_psi.cc:90] End sanity check for input file: /tmp/tmp57guvocf, size=40690\n",
      "\u001b[2m\u001b[36m(SPURuntime pid=115338)\u001b[0m [2022-11-18 11:44:53.644] [info] [bucket_psi.cc:190] Run psi protocol=1, self_items_count=40690\n",
      "\u001b[2m\u001b[36m(SPURuntime pid=115338)\u001b[0m [2022-11-18 11:44:53.644] [info] [cryptor_selector.cc:50] Using libSodium\n",
      "\u001b[2m\u001b[36m(SPURuntime pid=115338)\u001b[0m [2022-11-18 11:44:53.644] [info] [cipher_store.cc:25] Disk cache choose num_bins=64\n",
      "\u001b[2m\u001b[36m(SPURuntime pid=115337)\u001b[0m [2022-11-18 11:44:53.598] [info] [bucket_psi.cc:169] bucket size set to 1048576\n",
      "\u001b[2m\u001b[36m(SPURuntime pid=115337)\u001b[0m [2022-11-18 11:44:53.598] [info] [bucket_psi.cc:77] Begin sanity check for input file: /tmp/tmpxm68tb4l, precheck_switch:true\n",
      "\u001b[2m\u001b[36m(SPURuntime pid=115337)\u001b[0m [2022-11-18 11:44:53.620] [info] [csv_checker.cc:125] Executing duplicated scripts: LC_ALL=C sort --buffer-size=1G --temporary-directory=/tmp --stable selected-keys.1668743093598870577 | LC_ALL=C uniq -d > duplicate-keys.1668743093598870577\n",
      "\u001b[2m\u001b[36m(SPURuntime pid=115337)\u001b[0m [2022-11-18 11:44:53.644] [info] [bucket_psi.cc:90] End sanity check for input file: /tmp/tmpxm68tb4l, size=40690\n",
      "\u001b[2m\u001b[36m(SPURuntime pid=115337)\u001b[0m [2022-11-18 11:44:53.644] [info] [bucket_psi.cc:190] Run psi protocol=1, self_items_count=40690\n",
      "\u001b[2m\u001b[36m(SPURuntime pid=115337)\u001b[0m [2022-11-18 11:44:53.644] [info] [cryptor_selector.cc:50] Using libSodium\n",
      "\u001b[2m\u001b[36m(SPURuntime pid=115337)\u001b[0m [2022-11-18 11:44:53.644] [info] [cipher_store.cc:25] Disk cache choose num_bins=64\n",
      "\u001b[2m\u001b[36m(SPURuntime pid=115338)\u001b[0m [2022-11-18 11:44:53.669] [info] [thread_pool.cc:30] Create a fixed thread pool with size 63\n",
      "\u001b[2m\u001b[36m(SPURuntime pid=115337)\u001b[0m [2022-11-18 11:44:53.669] [info] [thread_pool.cc:30] Create a fixed thread pool with size 63\n",
      "\u001b[2m\u001b[36m(SPURuntime pid=115337)\u001b[0m [2022-11-18 11:44:54.451] [info] [ecdh_psi.cc:70] MaskSelf:root--finished, batch_count=10\n",
      "\u001b[2m\u001b[36m(SPURuntime pid=115338)\u001b[0m [2022-11-18 11:44:54.549] [info] [ecdh_psi.cc:109] MaskPeer:root--finished, batch_count=10\n",
      "\u001b[2m\u001b[36m(SPURuntime pid=115338)\u001b[0m [2022-11-18 11:44:54.554] [info] [ecdh_psi.cc:70] MaskSelf:root--finished, batch_count=10\n",
      "\u001b[2m\u001b[36m(SPURuntime pid=115337)\u001b[0m [2022-11-18 11:44:54.552] [info] [ecdh_psi.cc:134] root recv last batch finished, batch_count=10\n",
      "\u001b[2m\u001b[36m(SPURuntime pid=115338)\u001b[0m [2022-11-18 11:44:54.594] [info] [ecdh_psi.cc:134] root recv last batch finished, batch_count=10\n",
      "\u001b[2m\u001b[36m(SPURuntime pid=115338)\u001b[0m [2022-11-18 11:44:54.664] [info] [bucket_psi.cc:119] Begin post filtering, indices.size=36636, should_sort=true\n",
      "\u001b[2m\u001b[36m(SPURuntime pid=115338)\u001b[0m [2022-11-18 11:44:54.676] [info] [utils.cc:86] Executing sort scripts: tail -n +2 /tmp/tmp-sort-in-1668743094665280600 | LC_ALL=C sort --buffer-size=1G --temporary-directory=./ --stable --field-separator=, --key=10,10 >>/tmp/tmp-sort-out-1668743094665280600\n",
      "\u001b[2m\u001b[36m(SPURuntime pid=115337)\u001b[0m [2022-11-18 11:44:54.590] [info] [ecdh_psi.cc:109] MaskPeer:root--finished, batch_count=10\n",
      "\u001b[2m\u001b[36m(SPURuntime pid=115337)\u001b[0m [2022-11-18 11:44:54.639] [info] [bucket_psi.cc:119] Begin post filtering, indices.size=36636, should_sort=true\n",
      "\u001b[2m\u001b[36m(SPURuntime pid=115337)\u001b[0m [2022-11-18 11:44:54.648] [info] [utils.cc:86] Executing sort scripts: tail -n +2 /tmp/tmp-sort-in-1668743094639976954 | LC_ALL=C sort --buffer-size=1G --temporary-directory=./ --stable --field-separator=, --key=9,9 >>/tmp/tmp-sort-out-1668743094639976954\n",
      "\u001b[2m\u001b[36m(SPURuntime pid=115337)\u001b[0m [2022-11-18 11:44:54.678] [info] [utils.cc:88] Finished sort scripts: tail -n +2 /tmp/tmp-sort-in-1668743094639976954 | LC_ALL=C sort --buffer-size=1G --temporary-directory=./ --stable --field-separator=, --key=9,9 >>/tmp/tmp-sort-out-1668743094639976954, ret=0\n",
      "\u001b[2m\u001b[36m(SPURuntime pid=115337)\u001b[0m [2022-11-18 11:44:54.678] [info] [bucket_psi.cc:157] End post filtering, in=/tmp/tmpxm68tb4l, out=/tmp/tmp1ze2ryhj\n"
     ]
    },
    {
     "data": {
      "text/plain": [
       "[{'party': 'alice', 'original_count': 40690, 'intersection_count': 36636},\n",
       " {'party': 'bob', 'original_count': 40690, 'intersection_count': 36636}]"
      ]
     },
     "execution_count": 6,
     "metadata": {},
     "output_type": "execute_result"
    }
   ],
   "source": [
    "_, alice_psi_path = tempfile.mkstemp()\n",
    "_, bob_psi_path = tempfile.mkstemp()\n",
    "\n",
    "spu.psi_csv(\n",
    "    key=\"uid\",\n",
    "    input_path={alice: alice_path, bob: bob_path},\n",
    "    output_path={alice: alice_psi_path, bob: bob_psi_path},\n",
    "    receiver=\"alice\",\n",
    "    protocol=\"ECDH_PSI_2PC\",\n",
    "    sort=True,\n",
    ")\n"
   ]
  },
  {
   "cell_type": "markdown",
   "metadata": {},
   "source": [
    "### 方式二：将求交结果保存至VDataFrame\n",
    "\n",
    "VDataFrame是隐语中保存垂直切分数据的数据结构，在接下来的任务中，我们将会不断使用VDataFrame的数据结构。\n",
    "\n",
    "由于在本次实验中，经过隐私求交之后，我们还有后续操作，所以我们在这里使用 **data.vertical.read_csv** 来将原始数据隐私求交之后的结果直接转化为VDataFrame。\n",
    "\n",
    "> 请阅读data.vertical.read_csv的文档。很多参数和psi_csv是一致的，这里不再赘述。"
   ]
  },
  {
   "cell_type": "code",
   "execution_count": 7,
   "metadata": {},
   "outputs": [
    {
     "name": "stdout",
     "output_type": "stream",
     "text": [
      "\u001b[2m\u001b[36m(SPURuntime pid=115338)\u001b[0m [2022-11-18 11:44:54.932] [info] [utils.cc:88] Finished sort scripts: tail -n +2 /tmp/tmp-sort-in-1668743094665280600 | LC_ALL=C sort --buffer-size=1G --temporary-directory=./ --stable --field-separator=, --key=10,10 >>/tmp/tmp-sort-out-1668743094665280600, ret=0\n",
      "\u001b[2m\u001b[36m(SPURuntime pid=115338)\u001b[0m [2022-11-18 11:44:54.932] [info] [bucket_psi.cc:157] End post filtering, in=/tmp/tmp57guvocf, out=/tmp/tmpc80n6brd\n",
      "\u001b[2m\u001b[36m(SPURuntime pid=115338)\u001b[0m [2022-11-18 11:44:57.128] [info] [bucket_psi.cc:169] bucket size set to 1048576\n",
      "\u001b[2m\u001b[36m(SPURuntime pid=115338)\u001b[0m [2022-11-18 11:44:57.128] [info] [bucket_psi.cc:77] Begin sanity check for input file: .data/1-4718d013-04b9-458b-a486-88288038543e/psi-input.csv, precheck_switch:true\n",
      "\u001b[2m\u001b[36m(SPURuntime pid=115338)\u001b[0m [2022-11-18 11:44:57.151] [info] [csv_checker.cc:125] Executing duplicated scripts: LC_ALL=C sort --buffer-size=1G --temporary-directory=.data/1-4718d013-04b9-458b-a486-88288038543e --stable selected-keys.1668743097128509212 | LC_ALL=C uniq -d > duplicate-keys.1668743097128509212\n",
      "\u001b[2m\u001b[36m(SPURuntime pid=115338)\u001b[0m [2022-11-18 11:44:57.282] [info] [bucket_psi.cc:90] End sanity check for input file: .data/1-4718d013-04b9-458b-a486-88288038543e/psi-input.csv, size=40690\n",
      "\u001b[2m\u001b[36m(SPURuntime pid=115338)\u001b[0m [2022-11-18 11:44:57.282] [info] [bucket_psi.cc:190] Run psi protocol=1, self_items_count=40690\n",
      "\u001b[2m\u001b[36m(SPURuntime pid=115338)\u001b[0m [2022-11-18 11:44:57.282] [info] [cryptor_selector.cc:50] Using libSodium\n",
      "\u001b[2m\u001b[36m(SPURuntime pid=115338)\u001b[0m [2022-11-18 11:44:57.282] [info] [cipher_store.cc:25] Disk cache choose num_bins=64\n",
      "\u001b[2m\u001b[36m(SPURuntime pid=115337)\u001b[0m [2022-11-18 11:44:57.243] [info] [bucket_psi.cc:169] bucket size set to 1048576\n",
      "\u001b[2m\u001b[36m(SPURuntime pid=115337)\u001b[0m [2022-11-18 11:44:57.243] [info] [bucket_psi.cc:77] Begin sanity check for input file: .data/0-bc2988c9-d416-4dff-8c4e-0424d21e49e2/psi-input.csv, precheck_switch:true\n",
      "\u001b[2m\u001b[36m(SPURuntime pid=115337)\u001b[0m [2022-11-18 11:44:57.265] [info] [csv_checker.cc:125] Executing duplicated scripts: LC_ALL=C sort --buffer-size=1G --temporary-directory=.data/0-bc2988c9-d416-4dff-8c4e-0424d21e49e2 --stable selected-keys.1668743097243525816 | LC_ALL=C uniq -d > duplicate-keys.1668743097243525816\n",
      "\u001b[2m\u001b[36m(SPURuntime pid=115337)\u001b[0m [2022-11-18 11:44:57.282] [info] [bucket_psi.cc:90] End sanity check for input file: .data/0-bc2988c9-d416-4dff-8c4e-0424d21e49e2/psi-input.csv, size=40690\n",
      "\u001b[2m\u001b[36m(SPURuntime pid=115337)\u001b[0m [2022-11-18 11:44:57.282] [info] [bucket_psi.cc:190] Run psi protocol=1, self_items_count=40690\n",
      "\u001b[2m\u001b[36m(SPURuntime pid=115337)\u001b[0m [2022-11-18 11:44:57.282] [info] [cryptor_selector.cc:50] Using libSodium\n",
      "\u001b[2m\u001b[36m(SPURuntime pid=115337)\u001b[0m [2022-11-18 11:44:57.282] [info] [cipher_store.cc:25] Disk cache choose num_bins=64\n",
      "\u001b[2m\u001b[36m(SPURuntime pid=115337)\u001b[0m [2022-11-18 11:44:58.132] [info] [ecdh_psi.cc:70] MaskSelf:root--finished, batch_count=10\n",
      "\u001b[2m\u001b[36m(SPURuntime pid=115338)\u001b[0m [2022-11-18 11:44:58.240] [info] [ecdh_psi.cc:70] MaskSelf:root--finished, batch_count=10\n",
      "\u001b[2m\u001b[36m(SPURuntime pid=115338)\u001b[0m [2022-11-18 11:44:58.264] [info] [ecdh_psi.cc:109] MaskPeer:root--finished, batch_count=10\n",
      "\u001b[2m\u001b[36m(SPURuntime pid=115338)\u001b[0m [2022-11-18 11:44:58.299] [info] [ecdh_psi.cc:134] root recv last batch finished, batch_count=10\n",
      "\u001b[2m\u001b[36m(SPURuntime pid=115337)\u001b[0m [2022-11-18 11:44:58.267] [info] [ecdh_psi.cc:134] root recv last batch finished, batch_count=10\n",
      "\u001b[2m\u001b[36m(SPURuntime pid=115337)\u001b[0m [2022-11-18 11:44:58.296] [info] [ecdh_psi.cc:109] MaskPeer:root--finished, batch_count=10\n",
      "\u001b[2m\u001b[36m(SPURuntime pid=115338)\u001b[0m [2022-11-18 11:44:58.370] [info] [bucket_psi.cc:119] Begin post filtering, indices.size=36636, should_sort=true\n",
      "\u001b[2m\u001b[36m(SPURuntime pid=115338)\u001b[0m [2022-11-18 11:44:58.382] [info] [utils.cc:86] Executing sort scripts: tail -n +2 .data/1-4718d013-04b9-458b-a486-88288038543e/tmp-sort-in-1668743098371018488 | LC_ALL=C sort --buffer-size=1G --temporary-directory=./ --stable --field-separator=, --key=10,10 >>.data/1-4718d013-04b9-458b-a486-88288038543e/tmp-sort-out-1668743098371018488\n",
      "\u001b[2m\u001b[36m(SPURuntime pid=115338)\u001b[0m [2022-11-18 11:44:58.429] [info] [utils.cc:88] Finished sort scripts: tail -n +2 .data/1-4718d013-04b9-458b-a486-88288038543e/tmp-sort-in-1668743098371018488 | LC_ALL=C sort --buffer-size=1G --temporary-directory=./ --stable --field-separator=, --key=10,10 >>.data/1-4718d013-04b9-458b-a486-88288038543e/tmp-sort-out-1668743098371018488, ret=0\n",
      "\u001b[2m\u001b[36m(SPURuntime pid=115338)\u001b[0m [2022-11-18 11:44:58.429] [info] [bucket_psi.cc:157] End post filtering, in=.data/1-4718d013-04b9-458b-a486-88288038543e/psi-input.csv, out=.data/1-4718d013-04b9-458b-a486-88288038543e/psi-output.csv\n",
      "\u001b[2m\u001b[36m(SPURuntime pid=115337)\u001b[0m [2022-11-18 11:44:58.350] [info] [bucket_psi.cc:119] Begin post filtering, indices.size=36636, should_sort=true\n",
      "\u001b[2m\u001b[36m(SPURuntime pid=115337)\u001b[0m [2022-11-18 11:44:58.360] [info] [utils.cc:86] Executing sort scripts: tail -n +2 .data/0-bc2988c9-d416-4dff-8c4e-0424d21e49e2/tmp-sort-in-1668743098351228027 | LC_ALL=C sort --buffer-size=1G --temporary-directory=./ --stable --field-separator=, --key=9,9 >>.data/0-bc2988c9-d416-4dff-8c4e-0424d21e49e2/tmp-sort-out-1668743098351228027\n",
      "\u001b[2m\u001b[36m(SPURuntime pid=115337)\u001b[0m [2022-11-18 11:44:58.405] [info] [utils.cc:88] Finished sort scripts: tail -n +2 .data/0-bc2988c9-d416-4dff-8c4e-0424d21e49e2/tmp-sort-in-1668743098351228027 | LC_ALL=C sort --buffer-size=1G --temporary-directory=./ --stable --field-separator=, --key=9,9 >>.data/0-bc2988c9-d416-4dff-8c4e-0424d21e49e2/tmp-sort-out-1668743098351228027, ret=0\n",
      "\u001b[2m\u001b[36m(SPURuntime pid=115337)\u001b[0m [2022-11-18 11:44:58.405] [info] [bucket_psi.cc:157] End post filtering, in=.data/0-bc2988c9-d416-4dff-8c4e-0424d21e49e2/psi-input.csv, out=.data/0-bc2988c9-d416-4dff-8c4e-0424d21e49e2/psi-output.csv\n"
     ]
    },
    {
     "data": {
      "text/plain": [
       "Index(['age', 'job', 'marital', 'education', 'default', 'balance', 'housing',\n",
       "       'loan', 'contact', 'day', 'month', 'duration', 'campaign', 'pdays',\n",
       "       'previous', 'poutcome', 'y'],\n",
       "      dtype='object')"
      ]
     },
     "execution_count": 7,
     "metadata": {},
     "output_type": "execute_result"
    }
   ],
   "source": [
    "from secretflow.data.vertical import read_csv as v_read_csv\n",
    "\n",
    "vdf = v_read_csv(\n",
    "    {alice: alice_path, bob: bob_path},\n",
    "    spu=spu,\n",
    "    keys=\"uid\",\n",
    "    drop_keys=\"uid\",\n",
    "    psi_protocl=\"ECDH_PSI_2PC\",\n",
    ")\n",
    "vdf.columns\n"
   ]
  },
  {
   "cell_type": "markdown",
   "metadata": {},
   "source": [
    "### 更多\n",
    "\n",
    "我们在这里展示的是两方单键的隐私求交，隐语也支持三方和多键的隐私求交技术，想要了解更多信息，你可以：\n",
    "\n",
    "- 阅读这篇[文档](https://spu.readthedocs.io/en/beta/development/psi.html)了解隐语SPU的隐私求交能力。\n",
    "- 阅读该[教程](./PSI_On_SPU.ipynb)了解使用的例子。"
   ]
  },
  {
   "cell_type": "markdown",
   "metadata": {},
   "source": [
    "## 特征预处理\n",
    "\n",
    "一般情况下，我们都需要对用于建模的数据进行预处理，合理的预处理对模型训练效果非常关键。"
   ]
  },
  {
   "cell_type": "markdown",
   "metadata": {},
   "source": [
    "在开始特征预处理之前，我们先使用 **stats.table_statistics.table_statistics** 来查看一下特征总体情况，我们会在后面专门讨论全表统计模块。"
   ]
  },
  {
   "cell_type": "code",
   "execution_count": 8,
   "metadata": {},
   "outputs": [
    {
     "data": {
      "text/plain": [
       "          datatype  total_count  count  count_na     min       max  \\\n",
       "age          int64        36636  36636         0    18.0      95.0   \n",
       "job         object        36636  36636         0     NaN       NaN   \n",
       "marital     object        36636  36636         0     NaN       NaN   \n",
       "education   object        36636  36636         0     NaN       NaN   \n",
       "default     object        36636  36636         0     NaN       NaN   \n",
       "balance      int64        36636  36636         0 -8019.0  102127.0   \n",
       "housing     object        36636  36636         0     NaN       NaN   \n",
       "loan        object        36636  36636         0     NaN       NaN   \n",
       "contact     object        36636  36636         0     NaN       NaN   \n",
       "day          int64        36636  36636         0     1.0      31.0   \n",
       "month       object        36636  36636         0     NaN       NaN   \n",
       "duration     int64        36636  36636         0     0.0    4918.0   \n",
       "campaign     int64        36636  36636         0     1.0      63.0   \n",
       "pdays        int64        36636  36636         0    -1.0     854.0   \n",
       "previous     int64        36636  36636         0     0.0     275.0   \n",
       "poutcome    object        36636  36636         0     NaN       NaN   \n",
       "y           object        36636  36636         0     NaN       NaN   \n",
       "\n",
       "                  mean           var          std        sem  ...  \\\n",
       "age          40.932989  1.125232e+02    10.607697   0.055420  ...   \n",
       "job                NaN           NaN          NaN        NaN  ...   \n",
       "marital            NaN           NaN          NaN        NaN  ...   \n",
       "education          NaN           NaN          NaN        NaN  ...   \n",
       "default            NaN           NaN          NaN        NaN  ...   \n",
       "balance    1353.582596  8.612041e+06  2934.627916  15.332007  ...   \n",
       "housing            NaN           NaN          NaN        NaN  ...   \n",
       "loan               NaN           NaN          NaN        NaN  ...   \n",
       "contact            NaN           NaN          NaN        NaN  ...   \n",
       "day          15.803363  6.916734e+01     8.316690   0.043451  ...   \n",
       "month              NaN           NaN          NaN        NaN  ...   \n",
       "duration    257.366170  6.623426e+04   257.360178   1.344582  ...   \n",
       "campaign      2.763539  9.654389e+00     3.107151   0.016233  ...   \n",
       "pdays        40.312016  1.000788e+04   100.039408   0.522657  ...   \n",
       "previous      0.585572  5.699542e+00     2.387371   0.012473  ...   \n",
       "poutcome           NaN           NaN          NaN        NaN  ...   \n",
       "y                  NaN           NaN          NaN        NaN  ...   \n",
       "\n",
       "               moment_2      moment_3      moment_4  central_moment_2  \\\n",
       "age        1.788030e+03  8.321305e+04  4.113209e+06      1.125202e+02   \n",
       "job                 NaN           NaN           NaN               NaN   \n",
       "marital             NaN           NaN           NaN               NaN   \n",
       "education           NaN           NaN           NaN               NaN   \n",
       "default             NaN           NaN           NaN               NaN   \n",
       "balance    1.044399e+07  2.212976e+11  3.179236e+15      8.611806e+06   \n",
       "housing             NaN           NaN           NaN               NaN   \n",
       "loan                NaN           NaN           NaN               NaN   \n",
       "contact             NaN           NaN           NaN               NaN   \n",
       "day        3.189117e+02  7.280032e+03  1.787257e+05      6.916545e+01   \n",
       "month               NaN           NaN           NaN               NaN   \n",
       "duration   1.324698e+05  1.234697e+08  1.880404e+11      6.623245e+04   \n",
       "campaign   1.729127e+01  2.490947e+02  6.116547e+03      9.654125e+00   \n",
       "pdays      1.163267e+04  3.885642e+06  1.511266e+09      1.000761e+04   \n",
       "previous   6.042281e+00  6.271709e+02  1.576418e+05      5.699387e+00   \n",
       "poutcome            NaN           NaN           NaN               NaN   \n",
       "y                   NaN           NaN           NaN               NaN   \n",
       "\n",
       "           central_moment_3  central_moment_4         sum         sum_2  \\\n",
       "age            8.120739e+02      4.174215e+04   1499621.0  6.550626e+07   \n",
       "job                     NaN               NaN         NaN           NaN   \n",
       "marital                 NaN               NaN         NaN           NaN   \n",
       "education               NaN               NaN         NaN           NaN   \n",
       "default                 NaN               NaN         NaN           NaN   \n",
       "balance        1.838472e+11      8.127969e+15  49589852.0  3.826261e+11   \n",
       "housing                 NaN               NaN         NaN           NaN   \n",
       "loan                    NaN               NaN         NaN           NaN   \n",
       "contact                 NaN               NaN         NaN           NaN   \n",
       "day            5.406055e+01      9.292245e+03    578972.0  1.168365e+07   \n",
       "month                   NaN               NaN         NaN           NaN   \n",
       "duration       5.528449e+07      1.004173e+11   9428867.0  4.853164e+09   \n",
       "campaign       1.479505e+02      3.980374e+03    101245.0  6.334830e+05   \n",
       "pdays          2.609851e+06      9.902139e+08   1476871.0  4.261744e+08   \n",
       "previous       6.169579e+02      1.561848e+05     21453.0  2.213650e+05   \n",
       "poutcome                NaN               NaN         NaN           NaN   \n",
       "y                       NaN               NaN         NaN           NaN   \n",
       "\n",
       "                  sum_3         sum_4  \n",
       "age        3.048593e+09  1.506915e+11  \n",
       "job                 NaN           NaN  \n",
       "marital             NaN           NaN  \n",
       "education           NaN           NaN  \n",
       "default             NaN           NaN  \n",
       "balance    8.107459e+15  5.794024e+18  \n",
       "housing             NaN           NaN  \n",
       "loan                NaN           NaN  \n",
       "contact             NaN           NaN  \n",
       "day        2.667112e+08  6.547794e+09  \n",
       "month               NaN           NaN  \n",
       "duration   4.523437e+12  6.889050e+15  \n",
       "campaign   9.125833e+06  2.240858e+08  \n",
       "pdays      1.423544e+11  5.536674e+13  \n",
       "previous   2.297703e+07  5.775364e+09  \n",
       "poutcome            NaN           NaN  \n",
       "y                   NaN           NaN  \n",
       "\n",
       "[17 rows x 25 columns]"
      ]
     },
     "execution_count": 8,
     "metadata": {},
     "output_type": "execute_result"
    }
   ],
   "source": [
    "from secretflow.stats.table_statistics import table_statistics\n",
    "\n",
    "pd.set_option('display.max_rows', None)\n",
    "data_stats = table_statistics(vdf)\n",
    "data_stats"
   ]
  },
  {
   "cell_type": "code",
   "execution_count": 9,
   "metadata": {},
   "outputs": [],
   "source": [
    "pd.reset_option('display.max_rows')"
   ]
  },
  {
   "cell_type": "markdown",
   "metadata": {},
   "source": [
    "在接下来，我们将会展示隐语以下特征预处理能力：\n",
    "\n",
    "- 值替换\n",
    "- 缺失值填充\n",
    "- WOE分组/分箱转换\n",
    "- one-hot编码\n",
    "- 标准化"
   ]
  },
  {
   "cell_type": "markdown",
   "metadata": {},
   "source": [
    "### 值替换\n",
    "\n",
    "我们先对以下特征做值替换：\n",
    "\n",
    "| feature | 描述 | 取值和值替换规则 |\n",
    "| :-----| :---- | :---- |\n",
    "| education | 教育状况 | 'tertiary' -> 3, 'secondary' -> 2, 'unknown' -> 0, 'primary' -> 1 |\n",
    "| default | 是否有不良信用记录 | 'no' -> 0,'yes' -> 1,'unknown' -> NaN |\n",
    "| housing | 是否有房贷 |  'no' -> 0,'yes' -> 1,'unknown' -> NaN |\n",
    "| loan | 是否有个人贷款 | 'no' -> 0,'yes' -> 1,'unknown' -> NaN |\n",
    "| month | 上次联系月份 | 'jan' -> 1, 'feb' -> 2, 'mar' -> 3, ..., 'nov' -> 11, 'dec' ->12 |\n",
    "| y | label | 'yes' -> 1,'no' -> 0 |\n"
   ]
  },
  {
   "cell_type": "markdown",
   "metadata": {},
   "source": [
    "替换完之后，我们使用 **sf.reveal** 来查看效果，请注意在生产中，**sf.reveal** 将会直接泄露数据，需要严格限制和进行审计。\n",
    "\n",
    "> 在生产中，请严格限制**sf.reveal**的使用。"
   ]
  },
  {
   "cell_type": "code",
   "execution_count": 10,
   "metadata": {},
   "outputs": [
    {
     "name": "stdout",
     "output_type": "stream",
     "text": [
      "       age            job  marital  education  default  balance  housing  loan\n",
      "0       58     management  married        3.0        0     2143        1     0\n",
      "1       43     technician   single        2.0        0      593        1     0\n",
      "2       46     management  married        3.0        0      229        1     0\n",
      "3       33     technician   single        2.0        0       56        0     0\n",
      "4       42     technician  married        2.0        0     8036        0     0\n",
      "...    ...            ...      ...        ...      ...      ...      ...   ...\n",
      "36631   36  self-employed   single        3.0        0     4844        0     0\n",
      "36632   49     technician  married        2.0        0      378        0     0\n",
      "36633   49      housemaid  married        1.0        0     3376        0     0\n",
      "36634   40    blue-collar  married        1.0        0       48        0     0\n",
      "36635   46       services  married        3.0        0      474        0     0\n",
      "\n",
      "[36636 rows x 8 columns]\n",
      "       contact  day  month  duration  campaign  pdays  previous poutcome  y\n",
      "0      unknown    5      5       261         1     -1         0  unknown  0\n",
      "1      unknown    5      5        55         1     -1         0  unknown  0\n",
      "2      unknown    5      5       197         1     -1         0  unknown  0\n",
      "3      unknown    7      5       236         2     -1         0  unknown  0\n",
      "4      unknown    9      6       948         5     -1         0  unknown  0\n",
      "...        ...  ...    ...       ...       ...    ...       ...      ... ..\n",
      "36631  unknown    9      6      1137         3     -1         0  unknown  1\n",
      "36632  unknown    9      6       189         2     -1         0  unknown  0\n",
      "36633  unknown    9      6       119         3     -1         0  unknown  0\n",
      "36634  unknown    9      6       100         5     -1         0  unknown  0\n",
      "36635  unknown    9      6       445         2     -1         0  unknown  0\n",
      "\n",
      "[36636 rows x 9 columns]\n"
     ]
    }
   ],
   "source": [
    "vdf['education'] = vdf['education'].replace(\n",
    "    {'tertiary': 3, 'secondary': 2, 'primary': 1, 'unknown': np.NaN}\n",
    ")\n",
    "\n",
    "vdf['default'] = vdf['default'].replace({'no': 0, 'yes': 1, 'unknown': np.NaN})\n",
    "\n",
    "vdf['housing'] = vdf['housing'].replace({'no': 0, 'yes': 1, 'unknown': np.NaN})\n",
    "\n",
    "vdf['loan'] = vdf['loan'].replace({'no': 0, 'yes': 1, 'unknown': np.NaN})\n",
    "\n",
    "vdf['month'] = vdf['month'].replace(\n",
    "    {\n",
    "        'jan': 1,\n",
    "        'feb': 2,\n",
    "        'mar': 3,\n",
    "        'apr': 4,\n",
    "        'may': 5,\n",
    "        'jun': 6,\n",
    "        'jul': 7,\n",
    "        'aug': 8,\n",
    "        'sep': 9,\n",
    "        'oct': 10,\n",
    "        'nov': 11,\n",
    "        'dec': 12,\n",
    "    }\n",
    ")\n",
    "\n",
    "vdf['y'] = vdf['y'].replace(\n",
    "    {\n",
    "        'no': 0,\n",
    "        'yes': 1,\n",
    "    }\n",
    ")\n",
    "\n",
    "print(sf.reveal(vdf.partitions[alice].data))\n",
    "print(sf.reveal(vdf.partitions[bob].data))\n"
   ]
  },
  {
   "cell_type": "markdown",
   "metadata": {},
   "source": [
    "#### 安全性讨论\n",
    "\n",
    "值替换操作由数据所有者的PYU Device执行，不会泄露数据。"
   ]
  },
  {
   "cell_type": "markdown",
   "metadata": {},
   "source": [
    "### 缺失值填充\n",
    "\n",
    "接下来我们对缺失值进行填充。我们在这里均填充了众数，其他可选的策略还包括平均数、中位数等。\n",
    "\n",
    "其他可能的处理方法包括删除缺省的行, 或者可以使用数据完整的行作为训练集，以此来预测缺失值。\n",
    "\n",
    "替换完之后，我们使用 **sf.reveal** 来查看效果。"
   ]
  },
  {
   "cell_type": "code",
   "execution_count": 11,
   "metadata": {},
   "outputs": [
    {
     "name": "stdout",
     "output_type": "stream",
     "text": [
      "       age            job  marital  education  default  balance  housing  loan\n",
      "0       58     management  married        3.0        0     2143        1     0\n",
      "1       43     technician   single        2.0        0      593        1     0\n",
      "2       46     management  married        3.0        0      229        1     0\n",
      "3       33     technician   single        2.0        0       56        0     0\n",
      "4       42     technician  married        2.0        0     8036        0     0\n",
      "...    ...            ...      ...        ...      ...      ...      ...   ...\n",
      "36631   36  self-employed   single        3.0        0     4844        0     0\n",
      "36632   49     technician  married        2.0        0      378        0     0\n",
      "36633   49      housemaid  married        1.0        0     3376        0     0\n",
      "36634   40    blue-collar  married        1.0        0       48        0     0\n",
      "36635   46       services  married        3.0        0      474        0     0\n",
      "\n",
      "[36636 rows x 8 columns]\n",
      "       contact  day  month  duration  campaign  pdays  previous poutcome  y\n",
      "0      unknown    5      5       261         1     -1         0  unknown  0\n",
      "1      unknown    5      5        55         1     -1         0  unknown  0\n",
      "2      unknown    5      5       197         1     -1         0  unknown  0\n",
      "3      unknown    7      5       236         2     -1         0  unknown  0\n",
      "4      unknown    9      6       948         5     -1         0  unknown  0\n",
      "...        ...  ...    ...       ...       ...    ...       ...      ... ..\n",
      "36631  unknown    9      6      1137         3     -1         0  unknown  1\n",
      "36632  unknown    9      6       189         2     -1         0  unknown  0\n",
      "36633  unknown    9      6       119         3     -1         0  unknown  0\n",
      "36634  unknown    9      6       100         5     -1         0  unknown  0\n",
      "36635  unknown    9      6       445         2     -1         0  unknown  0\n",
      "\n",
      "[36636 rows x 9 columns]\n"
     ]
    }
   ],
   "source": [
    "vdf[\"education\"] = vdf[\"education\"].fillna(vdf[\"education\"].mode())\n",
    "vdf[\"default\"] = vdf[\"default\"].fillna(vdf[\"default\"].mode())\n",
    "vdf[\"housing\"] = vdf[\"housing\"].fillna(vdf[\"housing\"].mode())\n",
    "vdf[\"loan\"] = vdf[\"loan\"].fillna(vdf[\"loan\"].mode())\n",
    "\n",
    "print(sf.reveal(vdf.partitions[alice].data))\n",
    "print(sf.reveal(vdf.partitions[bob].data))\n"
   ]
  },
  {
   "cell_type": "markdown",
   "metadata": {},
   "source": [
    "#### 安全性讨论\n",
    "\n",
    "所填充的缺失值由属于数据所有者的PYU Device执行，并在接下来的缺失值操作中由数据所有者的PYU Device使用，不会泄露数据。"
   ]
  },
  {
   "cell_type": "markdown",
   "metadata": {},
   "source": [
    "### woe分箱\n",
    "\n",
    "woe分箱用于将连续值替换为离散值。\n",
    "\n",
    "将连续型特征离散化的一个好处是可以有效地克服数据中隐藏的缺陷： 使模型结果更加稳定。例如，数据中的极端值是影响模型效果的一个重要因素。极端值导致模型参数过高或过低，或导致模型被虚假现象\"迷惑\"，把原来不存在的关系作为重要模式来学习。而离散化可以有效地减弱极端值和异常值的影响。\n",
    "\n",
    "变量duration的75%分位数远小于最大值，而且该变量的标准差相对也比较大。因此需要对变量duration进行离散化。"
   ]
  },
  {
   "cell_type": "code",
   "execution_count": 12,
   "metadata": {},
   "outputs": [
    {
     "name": "stderr",
     "output_type": "stream",
     "text": [
      "\u001b[2m\u001b[33m(raylet)\u001b[0m /home/fengjun.feng/miniconda3/envs/sf/lib/python3.8/site-packages/requests/__init__.py:102: RequestsDependencyWarning: urllib3 (1.26.9) or chardet (5.0.0)/charset_normalizer (2.0.12) doesn't match a supported version!\n",
      "\u001b[2m\u001b[33m(raylet)\u001b[0m   warnings.warn(\"urllib3 ({}) or chardet ({})/charset_normalizer ({}) doesn't match a supported \"\n",
      "\u001b[2m\u001b[33m(raylet)\u001b[0m /home/fengjun.feng/miniconda3/envs/sf/lib/python3.8/site-packages/requests/__init__.py:102: RequestsDependencyWarning: urllib3 (1.26.9) or chardet (5.0.0)/charset_normalizer (2.0.12) doesn't match a supported version!\n",
      "\u001b[2m\u001b[33m(raylet)\u001b[0m   warnings.warn(\"urllib3 ({}) or chardet ({})/charset_normalizer ({}) doesn't match a supported \"\n",
      "\u001b[2m\u001b[33m(raylet)\u001b[0m /home/fengjun.feng/miniconda3/envs/sf/lib/python3.8/site-packages/requests/__init__.py:102: RequestsDependencyWarning: urllib3 (1.26.9) or chardet (5.0.0)/charset_normalizer (2.0.12) doesn't match a supported version!\n",
      "\u001b[2m\u001b[33m(raylet)\u001b[0m   warnings.warn(\"urllib3 ({}) or chardet ({})/charset_normalizer ({}) doesn't match a supported \"\n",
      "\u001b[2m\u001b[33m(raylet)\u001b[0m /home/fengjun.feng/miniconda3/envs/sf/lib/python3.8/site-packages/requests/__init__.py:102: RequestsDependencyWarning: urllib3 (1.26.9) or chardet (5.0.0)/charset_normalizer (2.0.12) doesn't match a supported version!\n",
      "\u001b[2m\u001b[33m(raylet)\u001b[0m   warnings.warn(\"urllib3 ({}) or chardet ({})/charset_normalizer ({}) doesn't match a supported \"\n",
      "\u001b[2m\u001b[36m(_run pid=115021)\u001b[0m WARNING:absl:No GPU/TPU found, falling back to CPU. (Set TF_CPP_MIN_LOG_LEVEL=0 and rerun for more info.)\n"
     ]
    },
    {
     "name": "stdout",
     "output_type": "stream",
     "text": [
      "       age            job  marital  education  default  balance  housing  loan\n",
      "0       58     management  married        3.0        0     2143        1     0\n",
      "1       43     technician   single        2.0        0      593        1     0\n",
      "2       46     management  married        3.0        0      229        1     0\n",
      "3       33     technician   single        2.0        0       56        0     0\n",
      "4       42     technician  married        2.0        0     8036        0     0\n",
      "...    ...            ...      ...        ...      ...      ...      ...   ...\n",
      "36631   36  self-employed   single        3.0        0     4844        0     0\n",
      "36632   49     technician  married        2.0        0      378        0     0\n",
      "36633   49      housemaid  married        1.0        0     3376        0     0\n",
      "36634   40    blue-collar  married        1.0        0       48        0     0\n",
      "36635   46       services  married        3.0        0      474        0     0\n",
      "\n",
      "[36636 rows x 8 columns]\n",
      "       contact  day  month  duration  campaign  pdays  previous poutcome  y\n",
      "0      unknown    5      5  0.349602         1     -1         0  unknown  0\n",
      "1      unknown    5      5 -6.188887         1     -1         0  unknown  0\n",
      "2      unknown    5      5 -0.648420         1     -1         0  unknown  0\n",
      "3      unknown    7      5 -0.050670         2     -1         0  unknown  0\n",
      "4      unknown    9      6  2.180421         5     -1         0  unknown  0\n",
      "...        ...  ...    ...       ...       ...    ...       ...      ... ..\n",
      "36631  unknown    9      6  2.392347         3     -1         0  unknown  1\n",
      "36632  unknown    9      6 -0.330090         2     -1         0  unknown  0\n",
      "36633  unknown    9      6 -1.204597         3     -1         0  unknown  0\n",
      "36634  unknown    9      6 -1.601471         5     -1         0  unknown  0\n",
      "36635  unknown    9      6  0.662020         2     -1         0  unknown  0\n",
      "\n",
      "[36636 rows x 9 columns]\n"
     ]
    }
   ],
   "source": [
    "from secretflow.preprocessing.binning.vert_woe_binning import VertWoeBinning\n",
    "from secretflow.preprocessing.binning.vert_woe_substitution import VertWOESubstitution\n",
    "\n",
    "binning = VertWoeBinning(spu)\n",
    "woe_rules = binning.binning(\n",
    "    vdf,\n",
    "    binning_method=\"chimerge\",\n",
    "    bin_num=4,\n",
    "    bin_names={alice: [], bob: [\"duration\"]},\n",
    "    label_name=\"y\",\n",
    ")\n",
    "\n",
    "woe_sub = VertWOESubstitution()\n",
    "vdf = woe_sub.substitution(vdf, woe_rules)\n",
    "\n",
    "print(sf.reveal(vdf.partitions[alice].data))\n",
    "print(sf.reveal(vdf.partitions[bob].data))\n"
   ]
  },
  {
   "cell_type": "markdown",
   "metadata": {},
   "source": [
    "#### 安全性讨论\n",
    "\n",
    "woe分桶需要利用alice和bob两边的数据，因此相关的计算需要使用**SPU device**确保原始数据不被泄露。"
   ]
  },
  {
   "cell_type": "markdown",
   "metadata": {},
   "source": [
    "### One Hot编码"
   ]
  },
  {
   "cell_type": "markdown",
   "metadata": {},
   "source": [
    "one-hot编码适用于将类型编码转化为数值编码。 对于job、marital等特征我们需要one-hot编码。"
   ]
  },
  {
   "cell_type": "code",
   "execution_count": 13,
   "metadata": {},
   "outputs": [
    {
     "name": "stderr",
     "output_type": "stream",
     "text": [
      "\u001b[2m\u001b[33m(raylet)\u001b[0m /home/fengjun.feng/miniconda3/envs/sf/lib/python3.8/site-packages/requests/__init__.py:102: RequestsDependencyWarning: urllib3 (1.26.9) or chardet (5.0.0)/charset_normalizer (2.0.12) doesn't match a supported version!\n",
      "\u001b[2m\u001b[33m(raylet)\u001b[0m   warnings.warn(\"urllib3 ({}) or chardet ({})/charset_normalizer ({}) doesn't match a supported \"\n",
      "\u001b[2m\u001b[33m(raylet)\u001b[0m /home/fengjun.feng/miniconda3/envs/sf/lib/python3.8/site-packages/requests/__init__.py:102: RequestsDependencyWarning: urllib3 (1.26.9) or chardet (5.0.0)/charset_normalizer (2.0.12) doesn't match a supported version!\n",
      "\u001b[2m\u001b[33m(raylet)\u001b[0m   warnings.warn(\"urllib3 ({}) or chardet ({})/charset_normalizer ({}) doesn't match a supported \"\n"
     ]
    },
    {
     "name": "stdout",
     "output_type": "stream",
     "text": [
      "       age  education  default  balance  housing  loan  job_admin.  \\\n",
      "0       58        3.0        0     2143        1     0         0.0   \n",
      "1       43        2.0        0      593        1     0         0.0   \n",
      "2       46        3.0        0      229        1     0         0.0   \n",
      "3       33        2.0        0       56        0     0         0.0   \n",
      "4       42        2.0        0     8036        0     0         0.0   \n",
      "...    ...        ...      ...      ...      ...   ...         ...   \n",
      "36631   36        3.0        0     4844        0     0         0.0   \n",
      "36632   49        2.0        0      378        0     0         0.0   \n",
      "36633   49        1.0        0     3376        0     0         0.0   \n",
      "36634   40        1.0        0       48        0     0         0.0   \n",
      "36635   46        3.0        0      474        0     0         0.0   \n",
      "\n",
      "       job_blue-collar  job_entrepreneur  job_housemaid  ...  job_retired  \\\n",
      "0                  0.0               0.0            0.0  ...          0.0   \n",
      "1                  0.0               0.0            0.0  ...          0.0   \n",
      "2                  0.0               0.0            0.0  ...          0.0   \n",
      "3                  0.0               0.0            0.0  ...          0.0   \n",
      "4                  0.0               0.0            0.0  ...          0.0   \n",
      "...                ...               ...            ...  ...          ...   \n",
      "36631              0.0               0.0            0.0  ...          0.0   \n",
      "36632              0.0               0.0            0.0  ...          0.0   \n",
      "36633              0.0               0.0            1.0  ...          0.0   \n",
      "36634              1.0               0.0            0.0  ...          0.0   \n",
      "36635              0.0               0.0            0.0  ...          0.0   \n",
      "\n",
      "       job_self-employed  job_services  job_student  job_technician  \\\n",
      "0                    0.0           0.0          0.0             0.0   \n",
      "1                    0.0           0.0          0.0             1.0   \n",
      "2                    0.0           0.0          0.0             0.0   \n",
      "3                    0.0           0.0          0.0             1.0   \n",
      "4                    0.0           0.0          0.0             1.0   \n",
      "...                  ...           ...          ...             ...   \n",
      "36631                1.0           0.0          0.0             0.0   \n",
      "36632                0.0           0.0          0.0             1.0   \n",
      "36633                0.0           0.0          0.0             0.0   \n",
      "36634                0.0           0.0          0.0             0.0   \n",
      "36635                0.0           1.0          0.0             0.0   \n",
      "\n",
      "       job_unemployed  job_unknown  marital_divorced  marital_married  \\\n",
      "0                 0.0          0.0               0.0              1.0   \n",
      "1                 0.0          0.0               0.0              0.0   \n",
      "2                 0.0          0.0               0.0              1.0   \n",
      "3                 0.0          0.0               0.0              0.0   \n",
      "4                 0.0          0.0               0.0              1.0   \n",
      "...               ...          ...               ...              ...   \n",
      "36631             0.0          0.0               0.0              0.0   \n",
      "36632             0.0          0.0               0.0              1.0   \n",
      "36633             0.0          0.0               0.0              1.0   \n",
      "36634             0.0          0.0               0.0              1.0   \n",
      "36635             0.0          0.0               0.0              1.0   \n",
      "\n",
      "       marital_single  \n",
      "0                 0.0  \n",
      "1                 1.0  \n",
      "2                 0.0  \n",
      "3                 1.0  \n",
      "4                 0.0  \n",
      "...               ...  \n",
      "36631             1.0  \n",
      "36632             0.0  \n",
      "36633             0.0  \n",
      "36634             0.0  \n",
      "36635             0.0  \n",
      "\n",
      "[36636 rows x 21 columns]\n",
      "       duration  campaign  pdays  previous  y  contact_cellular  \\\n",
      "0      0.349602         1     -1         0  0               0.0   \n",
      "1     -6.188887         1     -1         0  0               0.0   \n",
      "2     -0.648420         1     -1         0  0               0.0   \n",
      "3     -0.050670         2     -1         0  0               0.0   \n",
      "4      2.180421         5     -1         0  0               0.0   \n",
      "...         ...       ...    ...       ... ..               ...   \n",
      "36631  2.392347         3     -1         0  1               0.0   \n",
      "36632 -0.330090         2     -1         0  0               0.0   \n",
      "36633 -1.204597         3     -1         0  0               0.0   \n",
      "36634 -1.601471         5     -1         0  0               0.0   \n",
      "36635  0.662020         2     -1         0  0               0.0   \n",
      "\n",
      "       contact_telephone  contact_unknown  month_1.0  month_2.0  ...  \\\n",
      "0                    0.0              1.0        0.0        0.0  ...   \n",
      "1                    0.0              1.0        0.0        0.0  ...   \n",
      "2                    0.0              1.0        0.0        0.0  ...   \n",
      "3                    0.0              1.0        0.0        0.0  ...   \n",
      "4                    0.0              1.0        0.0        0.0  ...   \n",
      "...                  ...              ...        ...        ...  ...   \n",
      "36631                0.0              1.0        0.0        0.0  ...   \n",
      "36632                0.0              1.0        0.0        0.0  ...   \n",
      "36633                0.0              1.0        0.0        0.0  ...   \n",
      "36634                0.0              1.0        0.0        0.0  ...   \n",
      "36635                0.0              1.0        0.0        0.0  ...   \n",
      "\n",
      "       day_26.0  day_27.0  day_28.0  day_29.0  day_30.0  day_31.0  \\\n",
      "0           0.0       0.0       0.0       0.0       0.0       0.0   \n",
      "1           0.0       0.0       0.0       0.0       0.0       0.0   \n",
      "2           0.0       0.0       0.0       0.0       0.0       0.0   \n",
      "3           0.0       0.0       0.0       0.0       0.0       0.0   \n",
      "4           0.0       0.0       0.0       0.0       0.0       0.0   \n",
      "...         ...       ...       ...       ...       ...       ...   \n",
      "36631       0.0       0.0       0.0       0.0       0.0       0.0   \n",
      "36632       0.0       0.0       0.0       0.0       0.0       0.0   \n",
      "36633       0.0       0.0       0.0       0.0       0.0       0.0   \n",
      "36634       0.0       0.0       0.0       0.0       0.0       0.0   \n",
      "36635       0.0       0.0       0.0       0.0       0.0       0.0   \n",
      "\n",
      "       poutcome_failure  poutcome_other  poutcome_success  poutcome_unknown  \n",
      "0                   0.0             0.0               0.0               1.0  \n",
      "1                   0.0             0.0               0.0               1.0  \n",
      "2                   0.0             0.0               0.0               1.0  \n",
      "3                   0.0             0.0               0.0               1.0  \n",
      "4                   0.0             0.0               0.0               1.0  \n",
      "...                 ...             ...               ...               ...  \n",
      "36631               0.0             0.0               0.0               1.0  \n",
      "36632               0.0             0.0               0.0               1.0  \n",
      "36633               0.0             0.0               0.0               1.0  \n",
      "36634               0.0             0.0               0.0               1.0  \n",
      "36635               0.0             0.0               0.0               1.0  \n",
      "\n",
      "[36636 rows x 55 columns]\n"
     ]
    }
   ],
   "source": [
    "from secretflow.preprocessing.encoder import OneHotEncoder\n",
    "\n",
    "encoder = OneHotEncoder()\n",
    "# for vif and correlation only\n",
    "vdf_hat = vdf.drop(columns=[\"job\", \"marital\", \"contact\", \"month\", \"day\", \"poutcome\"])\n",
    "\n",
    "tranformed_df = encoder.fit_transform(vdf['job'])\n",
    "vdf[tranformed_df.dtypes.index] = tranformed_df\n",
    "\n",
    "tranformed_df = encoder.fit_transform(vdf['marital'])\n",
    "vdf[tranformed_df.dtypes.index] = tranformed_df\n",
    "\n",
    "tranformed_df = encoder.fit_transform(vdf['contact'])\n",
    "vdf[tranformed_df.dtypes.index] = tranformed_df\n",
    "\n",
    "tranformed_df = encoder.fit_transform(vdf['month'])\n",
    "vdf[tranformed_df.dtypes.index] = tranformed_df\n",
    "\n",
    "tranformed_df = encoder.fit_transform(vdf['day'])\n",
    "vdf[tranformed_df.dtypes.index] = tranformed_df\n",
    "\n",
    "tranformed_df = encoder.fit_transform(vdf['poutcome'])\n",
    "vdf[tranformed_df.dtypes.index] = tranformed_df\n",
    "\n",
    "vdf = vdf.drop(columns=[\"job\", \"marital\", \"contact\", \"month\", \"day\", \"poutcome\"])\n",
    "\n",
    "print(sf.reveal(vdf.partitions[alice].data))\n",
    "print(sf.reveal(vdf.partitions[bob].data))\n"
   ]
  },
  {
   "cell_type": "markdown",
   "metadata": {},
   "source": [
    "#### 安全性讨论\n",
    "\n",
    "one-hot编码操作由数据所有者的PYU Device执行，不会泄露数据。"
   ]
  },
  {
   "cell_type": "markdown",
   "metadata": {},
   "source": [
    "### 标准化 \n",
    "特征之间数值差距太大会使得模型收敛困难，我们一般先对数值进行标准化。"
   ]
  },
  {
   "cell_type": "code",
   "execution_count": 14,
   "metadata": {},
   "outputs": [
    {
     "name": "stderr",
     "output_type": "stream",
     "text": [
      "\u001b[2m\u001b[36m(_run pid=115021)\u001b[0m /home/fengjun.feng/miniconda3/envs/sf/lib/python3.8/site-packages/sklearn/base.py:443: UserWarning: X has feature names, but StandardScaler was fitted without feature names\n",
      "\u001b[2m\u001b[36m(_run pid=115021)\u001b[0m   warnings.warn(\n",
      "\u001b[2m\u001b[36m(_run pid=117122)\u001b[0m /home/fengjun.feng/miniconda3/envs/sf/lib/python3.8/site-packages/sklearn/base.py:443: UserWarning: X has feature names, but StandardScaler was fitted without feature names\n",
      "\u001b[2m\u001b[36m(_run pid=117122)\u001b[0m   warnings.warn(\n"
     ]
    },
    {
     "name": "stdout",
     "output_type": "stream",
     "text": [
      "            age  education   default   balance   housing      loan  \\\n",
      "0      1.608949   1.309163 -0.135655  0.269005  0.892221 -0.435471   \n",
      "1      0.194862  -0.223577 -0.135655 -0.259179  0.892221 -0.435471   \n",
      "2      0.477680   1.309163 -0.135655 -0.383217  0.892221 -0.435471   \n",
      "3     -0.747862  -0.223577 -0.135655 -0.442169 -1.120798 -0.435471   \n",
      "4      0.100590  -0.223577 -0.135655  2.277123 -1.120798 -0.435471   \n",
      "...         ...        ...       ...       ...       ...       ...   \n",
      "36631 -0.465045   1.309163 -0.135655  1.189406 -1.120798 -0.435471   \n",
      "36632  0.760497  -0.223577 -0.135655 -0.332443 -1.120798 -0.435471   \n",
      "36633  0.760497  -1.756317 -0.135655  0.689166 -1.120798 -0.435471   \n",
      "36634 -0.087955  -1.756317 -0.135655 -0.444895 -1.120798 -0.435471   \n",
      "36635  0.477680   1.309163 -0.135655 -0.299730 -1.120798 -0.435471   \n",
      "\n",
      "       job_admin.  job_blue-collar  job_entrepreneur  job_housemaid  ...  \\\n",
      "0        -0.35766        -0.524325         -0.183783      -0.166998  ...   \n",
      "1        -0.35766        -0.524325         -0.183783      -0.166998  ...   \n",
      "2        -0.35766        -0.524325         -0.183783      -0.166998  ...   \n",
      "3        -0.35766        -0.524325         -0.183783      -0.166998  ...   \n",
      "4        -0.35766        -0.524325         -0.183783      -0.166998  ...   \n",
      "...           ...              ...               ...            ...  ...   \n",
      "36631    -0.35766        -0.524325         -0.183783      -0.166998  ...   \n",
      "36632    -0.35766        -0.524325         -0.183783      -0.166998  ...   \n",
      "36633    -0.35766        -0.524325         -0.183783       5.988083  ...   \n",
      "36634    -0.35766         1.907215         -0.183783      -0.166998  ...   \n",
      "36635    -0.35766        -0.524325         -0.183783      -0.166998  ...   \n",
      "\n",
      "       job_retired  job_self-employed  job_services  job_student  \\\n",
      "0        -0.227644          -0.192798     -0.318024    -0.143481   \n",
      "1        -0.227644          -0.192798     -0.318024    -0.143481   \n",
      "2        -0.227644          -0.192798     -0.318024    -0.143481   \n",
      "3        -0.227644          -0.192798     -0.318024    -0.143481   \n",
      "4        -0.227644          -0.192798     -0.318024    -0.143481   \n",
      "...            ...                ...           ...          ...   \n",
      "36631    -0.227644           5.186763     -0.318024    -0.143481   \n",
      "36632    -0.227644          -0.192798     -0.318024    -0.143481   \n",
      "36633    -0.227644          -0.192798     -0.318024    -0.143481   \n",
      "36634    -0.227644          -0.192798     -0.318024    -0.143481   \n",
      "36635    -0.227644          -0.192798      3.144419    -0.143481   \n",
      "\n",
      "       job_technician  job_unemployed  job_unknown  marital_divorced  \\\n",
      "0           -0.449892       -0.170591     -0.07931         -0.362979   \n",
      "1            2.222758       -0.170591     -0.07931         -0.362979   \n",
      "2           -0.449892       -0.170591     -0.07931         -0.362979   \n",
      "3            2.222758       -0.170591     -0.07931         -0.362979   \n",
      "4            2.222758       -0.170591     -0.07931         -0.362979   \n",
      "...               ...             ...          ...               ...   \n",
      "36631       -0.449892       -0.170591     -0.07931         -0.362979   \n",
      "36632        2.222758       -0.170591     -0.07931         -0.362979   \n",
      "36633       -0.449892       -0.170591     -0.07931         -0.362979   \n",
      "36634       -0.449892       -0.170591     -0.07931         -0.362979   \n",
      "36635       -0.449892       -0.170591     -0.07931         -0.362979   \n",
      "\n",
      "       marital_married  marital_single  \n",
      "0             0.815271       -0.628041  \n",
      "1            -1.226585        1.592253  \n",
      "2             0.815271       -0.628041  \n",
      "3            -1.226585        1.592253  \n",
      "4             0.815271       -0.628041  \n",
      "...                ...             ...  \n",
      "36631        -1.226585        1.592253  \n",
      "36632         0.815271       -0.628041  \n",
      "36633         0.815271       -0.628041  \n",
      "36634         0.815271       -0.628041  \n",
      "36635         0.815271       -0.628041  \n",
      "\n",
      "[36636 rows x 21 columns]\n",
      "       duration  campaign     pdays  previous  y  contact_cellular  \\\n",
      "0      0.633433 -0.567582 -0.412963 -0.245282  0         -1.365194   \n",
      "1     -2.846642 -0.567582 -0.412963 -0.245282  0         -1.365194   \n",
      "2      0.102241 -0.567582 -0.412963 -0.245282  0         -1.365194   \n",
      "3      0.420391 -0.245739 -0.412963 -0.245282  0         -1.365194   \n",
      "4      1.607877  0.719789 -0.412963 -0.245282  0         -1.365194   \n",
      "...         ...       ...       ...       ... ..               ...   \n",
      "36631  1.720673  0.076103 -0.412963 -0.245282  1         -1.365194   \n",
      "36632  0.271671 -0.245739 -0.412963 -0.245282  0         -1.365194   \n",
      "36633 -0.193781  0.076103 -0.412963 -0.245282  0         -1.365194   \n",
      "36634 -0.405015  0.719789 -0.412963 -0.245282  0         -1.365194   \n",
      "36635  0.799716 -0.245739 -0.412963 -0.245282  0         -1.365194   \n",
      "\n",
      "       contact_telephone  contact_unknown  month_1.0  month_2.0  ...  \\\n",
      "0              -0.261625         1.583408  -0.179048  -0.250427  ...   \n",
      "1              -0.261625         1.583408  -0.179048  -0.250427  ...   \n",
      "2              -0.261625         1.583408  -0.179048  -0.250427  ...   \n",
      "3              -0.261625         1.583408  -0.179048  -0.250427  ...   \n",
      "4              -0.261625         1.583408  -0.179048  -0.250427  ...   \n",
      "...                  ...              ...        ...        ...  ...   \n",
      "36631          -0.261625         1.583408  -0.179048  -0.250427  ...   \n",
      "36632          -0.261625         1.583408  -0.179048  -0.250427  ...   \n",
      "36633          -0.261625         1.583408  -0.179048  -0.250427  ...   \n",
      "36634          -0.261625         1.583408  -0.179048  -0.250427  ...   \n",
      "36635          -0.261625         1.583408  -0.179048  -0.250427  ...   \n",
      "\n",
      "       day_26.0  day_27.0  day_28.0  day_29.0  day_30.0  day_31.0  \\\n",
      "0      -0.15328 -0.158425 -0.205034 -0.199255 -0.189345 -0.120692   \n",
      "1      -0.15328 -0.158425 -0.205034 -0.199255 -0.189345 -0.120692   \n",
      "2      -0.15328 -0.158425 -0.205034 -0.199255 -0.189345 -0.120692   \n",
      "3      -0.15328 -0.158425 -0.205034 -0.199255 -0.189345 -0.120692   \n",
      "4      -0.15328 -0.158425 -0.205034 -0.199255 -0.189345 -0.120692   \n",
      "...         ...       ...       ...       ...       ...       ...   \n",
      "36631  -0.15328 -0.158425 -0.205034 -0.199255 -0.189345 -0.120692   \n",
      "36632  -0.15328 -0.158425 -0.205034 -0.199255 -0.189345 -0.120692   \n",
      "36633  -0.15328 -0.158425 -0.205034 -0.199255 -0.189345 -0.120692   \n",
      "36634  -0.15328 -0.158425 -0.205034 -0.199255 -0.189345 -0.120692   \n",
      "36635  -0.15328 -0.158425 -0.205034 -0.199255 -0.189345 -0.120692   \n",
      "\n",
      "       poutcome_failure  poutcome_other  poutcome_success  poutcome_unknown  \n",
      "0             -0.349453       -0.207192         -0.186778          0.474382  \n",
      "1             -0.349453       -0.207192         -0.186778          0.474382  \n",
      "2             -0.349453       -0.207192         -0.186778          0.474382  \n",
      "3             -0.349453       -0.207192         -0.186778          0.474382  \n",
      "4             -0.349453       -0.207192         -0.186778          0.474382  \n",
      "...                 ...             ...               ...               ...  \n",
      "36631         -0.349453       -0.207192         -0.186778          0.474382  \n",
      "36632         -0.349453       -0.207192         -0.186778          0.474382  \n",
      "36633         -0.349453       -0.207192         -0.186778          0.474382  \n",
      "36634         -0.349453       -0.207192         -0.186778          0.474382  \n",
      "36635         -0.349453       -0.207192         -0.186778          0.474382  \n",
      "\n",
      "[36636 rows x 55 columns]\n"
     ]
    }
   ],
   "source": [
    "from secretflow.preprocessing import StandardScaler\n",
    "\n",
    "X = vdf.drop(columns=['y'])\n",
    "y = vdf['y']\n",
    "scaler = StandardScaler()\n",
    "X = scaler.fit_transform(X)\n",
    "vdf[X.columns] = X\n",
    "print(sf.reveal(vdf.partitions[alice].data))\n",
    "print(sf.reveal(vdf.partitions[bob].data))\n"
   ]
  },
  {
   "cell_type": "markdown",
   "metadata": {},
   "source": [
    "#### 安全性讨论\n",
    "\n",
    "标准化操作由数据所有者的PYU Device执行，不会泄露数据。"
   ]
  },
  {
   "cell_type": "markdown",
   "metadata": {},
   "source": [
    "### 更多\n",
    "\n",
    "隐语还支持其他更多的特征预处理能力，请参考这篇[文档](./data_preprocessing_with_data_frame.ipynb)."
   ]
  },
  {
   "cell_type": "markdown",
   "metadata": {},
   "source": [
    "至此，我们已经完成了所有特征预处理工作。\n",
    "\n",
    "> 本文主要目的是为了展示隐语的预处理能力，本文对于数据预处理方法的使用可能是有争议的，敬请谅解。"
   ]
  },
  {
   "cell_type": "markdown",
   "metadata": {},
   "source": [
    "## 数据分析"
   ]
  },
  {
   "cell_type": "markdown",
   "metadata": {},
   "source": [
    "在建模之前，我们有必要分析一下我们所使用的数据，以便确认是否需要重复特征预处理的过程。\n",
    "\n",
    "下面我们将会展示隐语以下数据分析能力:\n",
    "\n",
    "- 全表统计\n",
    "- 相关系数矩阵\n",
    "- VIF指标计算\n"
   ]
  },
  {
   "cell_type": "markdown",
   "metadata": {},
   "source": [
    "### 全表统计\n",
    "\n",
    "我们提供了类似于 **pd.DataFrame.describe** 来展示所有特征的基本统计信息。\n",
    "\n",
    "> 在特征预处理的过程中，你可以不断调用全表统计来关注预处理效果。"
   ]
  },
  {
   "cell_type": "code",
   "execution_count": 15,
   "metadata": {},
   "outputs": [
    {
     "data": {
      "text/plain": [
       "                  datatype  total_count  count  count_na       min  \\\n",
       "duration           float64        36636  36636         0 -2.846642   \n",
       "campaign           float64        36636  36636         0 -0.567582   \n",
       "pdays              float64        36636  36636         0 -0.412963   \n",
       "previous           float64        36636  36636         0 -0.245282   \n",
       "y                    int64        36636  36636         0  0.000000   \n",
       "contact_cellular   float64        36636  36636         0 -1.365194   \n",
       "contact_telephone  float64        36636  36636         0 -0.261625   \n",
       "contact_unknown    float64        36636  36636         0 -0.631549   \n",
       "month_1.0          float64        36636  36636         0 -0.179048   \n",
       "month_2.0          float64        36636  36636         0 -0.250427   \n",
       "month_3.0          float64        36636  36636         0 -0.103998   \n",
       "month_4.0          float64        36636  36636         0 -0.263703   \n",
       "month_5.0          float64        36636  36636         0 -0.661264   \n",
       "month_6.0          float64        36636  36636         0 -0.362642   \n",
       "month_7.0          float64        36636  36636         0 -0.424419   \n",
       "month_8.0          float64        36636  36636         0 -0.402419   \n",
       "month_9.0          float64        36636  36636         0 -0.111891   \n",
       "month_10.0         float64        36636  36636         0 -0.127827   \n",
       "month_11.0         float64        36636  36636         0 -0.311845   \n",
       "month_12.0         float64        36636  36636         0 -0.068479   \n",
       "day_1.0            float64        36636  36636         0 -0.084379   \n",
       "day_2.0            float64        36636  36636         0 -0.172362   \n",
       "day_3.0            float64        36636  36636         0 -0.156148   \n",
       "day_4.0            float64        36636  36636         0 -0.182030   \n",
       "day_5.0            float64        36636  36636         0 -0.208051   \n",
       "day_6.0            float64        36636  36636         0 -0.208764   \n",
       "day_7.0            float64        36636  36636         0 -0.206259   \n",
       "day_8.0            float64        36636  36636         0 -0.207765   \n",
       "day_9.0            float64        36636  36636         0 -0.190733   \n",
       "day_10.0           float64        36636  36636         0 -0.107170   \n",
       "day_11.0           float64        36636  36636         0 -0.181630   \n",
       "day_12.0           float64        36636  36636         0 -0.192341   \n",
       "day_13.0           float64        36636  36636         0 -0.191883   \n",
       "day_14.0           float64        36636  36636         0 -0.208977   \n",
       "day_15.0           float64        36636  36636         0 -0.197993   \n",
       "day_16.0           float64        36636  36636         0 -0.178397   \n",
       "day_17.0           float64        36636  36636         0 -0.213420   \n",
       "day_18.0           float64        36636  36636         0 -0.229429   \n",
       "day_19.0           float64        36636  36636         0 -0.200510   \n",
       "day_20.0           float64        36636  36636         0 -0.253308   \n",
       "day_21.0           float64        36636  36636         0 -0.218062   \n",
       "day_22.0           float64        36636  36636         0 -0.143876   \n",
       "day_23.0           float64        36636  36636         0 -0.145841   \n",
       "day_24.0           float64        36636  36636         0 -0.099479   \n",
       "day_25.0           float64        36636  36636         0 -0.139262   \n",
       "day_26.0           float64        36636  36636         0 -0.153280   \n",
       "day_27.0           float64        36636  36636         0 -0.158425   \n",
       "day_28.0           float64        36636  36636         0 -0.205034   \n",
       "day_29.0           float64        36636  36636         0 -0.199255   \n",
       "day_30.0           float64        36636  36636         0 -0.189345   \n",
       "day_31.0           float64        36636  36636         0 -0.120692   \n",
       "poutcome_failure   float64        36636  36636         0 -0.349453   \n",
       "poutcome_other     float64        36636  36636         0 -0.207192   \n",
       "poutcome_success   float64        36636  36636         0 -0.186778   \n",
       "poutcome_unknown   float64        36636  36636         0 -2.108005   \n",
       "age                float64        36636  36636         0 -2.161949   \n",
       "education          float64        36636  36636         0 -1.756317   \n",
       "default            float64        36636  36636         0 -0.135655   \n",
       "balance            float64        36636  36636         0 -3.193833   \n",
       "housing            float64        36636  36636         0 -1.120798   \n",
       "loan               float64        36636  36636         0 -0.435471   \n",
       "job_admin.         float64        36636  36636         0 -0.357660   \n",
       "job_blue-collar    float64        36636  36636         0 -0.524325   \n",
       "job_entrepreneur   float64        36636  36636         0 -0.183783   \n",
       "job_housemaid      float64        36636  36636         0 -0.166998   \n",
       "job_management     float64        36636  36636         0 -0.517380   \n",
       "job_retired        float64        36636  36636         0 -0.227644   \n",
       "job_self-employed  float64        36636  36636         0 -0.192798   \n",
       "job_services       float64        36636  36636         0 -0.318024   \n",
       "job_student        float64        36636  36636         0 -0.143481   \n",
       "job_technician     float64        36636  36636         0 -0.449892   \n",
       "job_unemployed     float64        36636  36636         0 -0.170591   \n",
       "job_unknown        float64        36636  36636         0 -0.079310   \n",
       "marital_divorced   float64        36636  36636         0 -0.362979   \n",
       "marital_married    float64        36636  36636         0 -1.226585   \n",
       "marital_single     float64        36636  36636         0 -0.628041   \n",
       "\n",
       "                          max          mean       var       std       sem  \\\n",
       "duration             1.720673 -1.667941e-17  1.000027  1.000014  0.005225   \n",
       "campaign            19.386660  5.818398e-17  1.000027  1.000014  0.005225   \n",
       "pdays                8.133786  1.489510e-16  1.000027  1.000014  0.005225   \n",
       "previous           114.945739  2.792831e-17  1.000027  1.000014  0.005225   \n",
       "y                    1.000000  1.169069e-01  0.103242  0.321314  0.001679   \n",
       "contact_cellular     0.732497 -7.447549e-17  1.000027  1.000014  0.005225   \n",
       "contact_telephone    3.822266 -4.965033e-17  1.000027  1.000014  0.005225   \n",
       "contact_unknown      1.583408  7.447549e-17  1.000027  1.000014  0.005225   \n",
       "month_1.0            5.585098  1.179195e-16  1.000027  1.000014  0.005225   \n",
       "month_2.0            3.993172  2.792831e-17  1.000027  1.000014  0.005225   \n",
       "month_3.0            9.615570 -2.947988e-17  1.000027  1.000014  0.005225   \n",
       "month_4.0            3.792144  9.930066e-17  1.000027  1.000014  0.005225   \n",
       "month_5.0            1.512256 -9.930066e-17  1.000027  1.000014  0.005225   \n",
       "month_6.0            2.757542 -2.482516e-17  1.000027  1.000014  0.005225   \n",
       "month_7.0            2.356163  1.179195e-16  1.000027  1.000014  0.005225   \n",
       "month_8.0            2.484972  4.965033e-17  1.000027  1.000014  0.005225   \n",
       "month_9.0            8.937235 -4.499561e-17  1.000027  1.000014  0.005225   \n",
       "month_10.0           7.823065 -7.757864e-17  1.000027  1.000014  0.005225   \n",
       "month_11.0           3.206716  0.000000e+00  1.000027  1.000014  0.005225   \n",
       "month_12.0          14.602932  9.309436e-18  1.000027  1.000014  0.005225   \n",
       "day_1.0             11.851234  9.309436e-18  1.000027  1.000014  0.005225   \n",
       "day_2.0              5.801755 -8.068178e-17  1.000027  1.000014  0.005225   \n",
       "day_3.0              6.404199  4.965033e-17  1.000027  1.000014  0.005225   \n",
       "day_4.0              5.493594  9.309436e-18  1.000027  1.000014  0.005225   \n",
       "day_5.0              4.806520  3.413460e-17  1.000027  1.000014  0.005225   \n",
       "day_6.0              4.790104 -6.826920e-17  1.000027  1.000014  0.005225   \n",
       "day_7.0              4.848266  4.965033e-17  1.000027  1.000014  0.005225   \n",
       "day_8.0              4.813131 -1.334353e-16  1.000027  1.000014  0.005225   \n",
       "day_9.0              5.242932 -2.482516e-17  1.000027  1.000014  0.005225   \n",
       "day_10.0             9.330986 -1.706730e-17  1.000027  1.000014  0.005225   \n",
       "day_11.0             5.505708 -9.309436e-17  1.000027  1.000014  0.005225   \n",
       "day_12.0             5.199097  3.413460e-17  1.000027  1.000014  0.005225   \n",
       "day_13.0             5.211514 -6.206291e-17  1.000027  1.000014  0.005225   \n",
       "day_14.0             4.785210  1.551573e-16  1.000027  1.000014  0.005225   \n",
       "day_15.0             5.050684 -9.309436e-17  1.000027  1.000014  0.005225   \n",
       "day_16.0             5.605465  0.000000e+00  1.000027  1.000014  0.005225   \n",
       "day_17.0             4.685604  1.241258e-17  1.000027  1.000014  0.005225   \n",
       "day_18.0             4.358648  3.103145e-18  1.000027  1.000014  0.005225   \n",
       "day_19.0             4.987272 -2.172202e-17  1.000027  1.000014  0.005225   \n",
       "day_20.0             3.947769  8.999122e-17  1.000027  1.000014  0.005225   \n",
       "day_21.0             4.585855  4.965033e-17  1.000027  1.000014  0.005225   \n",
       "day_22.0             6.950411  6.206291e-18  1.000027  1.000014  0.005225   \n",
       "day_23.0             6.856802  1.551573e-18  1.000027  1.000014  0.005225   \n",
       "day_24.0            10.052370 -2.172202e-17  1.000027  1.000014  0.005225   \n",
       "day_25.0             7.180697 -3.723775e-17  1.000027  1.000014  0.005225   \n",
       "day_26.0             6.523988 -6.826920e-17  1.000027  1.000014  0.005225   \n",
       "day_27.0             6.312116 -1.241258e-17  1.000027  1.000014  0.005225   \n",
       "day_28.0             4.877248  0.000000e+00  1.000027  1.000014  0.005225   \n",
       "day_29.0             5.018693  0.000000e+00  1.000027  1.000014  0.005225   \n",
       "day_30.0             5.281358 -6.206291e-17  1.000027  1.000014  0.005225   \n",
       "day_31.0             8.285541  0.000000e+00  1.000027  1.000014  0.005225   \n",
       "poutcome_failure     2.861619 -9.309436e-17  1.000027  1.000014  0.005225   \n",
       "poutcome_other       4.826430  1.241258e-17  1.000027  1.000014  0.005225   \n",
       "poutcome_success     5.353950 -1.861887e-17  1.000027  1.000014  0.005225   \n",
       "poutcome_unknown     0.474382 -1.613636e-16  1.000027  1.000014  0.005225   \n",
       "age                  5.097030 -2.963504e-16  1.000027  1.000014  0.005225   \n",
       "education            1.309163 -3.320366e-16  1.000027  1.000014  0.005225   \n",
       "default              7.371661 -5.275347e-17  1.000027  1.000014  0.005225   \n",
       "balance             34.339888  1.163680e-17  1.000027  1.000014  0.005225   \n",
       "housing              0.892221  2.482516e-17  1.000027  1.000014  0.005225   \n",
       "loan                 2.296364  2.288570e-17  1.000027  1.000014  0.005225   \n",
       "job_admin.           2.795949  9.115490e-18  1.000027  1.000014  0.005225   \n",
       "job_blue-collar      1.907215 -1.024038e-16  1.000027  1.000014  0.005225   \n",
       "job_entrepreneur     5.441187 -1.590362e-17  1.000027  1.000014  0.005225   \n",
       "job_housemaid        5.988083  7.757864e-18  1.000027  1.000014  0.005225   \n",
       "job_management       1.932817 -3.103145e-17  1.000027  1.000014  0.005225   \n",
       "job_retired          4.392830 -8.223336e-17  1.000027  1.000014  0.005225   \n",
       "job_self-employed    5.186763 -6.749341e-17  1.000027  1.000014  0.005225   \n",
       "job_services         3.144419 -2.637674e-17  1.000027  1.000014  0.005225   \n",
       "job_student          6.969584  1.241258e-17  1.000027  1.000014  0.005225   \n",
       "job_technician       2.222758 -3.258303e-17  1.000027  1.000014  0.005225   \n",
       "job_unemployed       5.861991  3.297092e-18  1.000027  1.000014  0.005225   \n",
       "job_unknown         12.608828  1.473994e-17  1.000027  1.000014  0.005225   \n",
       "marital_divorced     2.754981 -6.671763e-17  1.000027  1.000014  0.005225   \n",
       "marital_married      0.815271 -1.078343e-16  1.000027  1.000014  0.005225   \n",
       "marital_single       1.592253  2.560095e-17  1.000027  1.000014  0.005225   \n",
       "\n",
       "                   ...  moment_2   moment_3     moment_4  central_moment_2  \\\n",
       "duration           ...  1.000000  -1.123392     4.383492           1.00000   \n",
       "campaign           ...  1.000000   4.932272    42.706894           1.00000   \n",
       "pdays              ...  1.000000   2.606875     9.887085           1.00000   \n",
       "previous           ...  1.000000  45.343323  4808.201329           1.00000   \n",
       "y                  ...  0.116907   0.116907     0.116907           0.10324   \n",
       "contact_cellular   ...  1.000000  -0.632697     1.400305           1.00000   \n",
       "contact_telephone  ...  1.000000   3.560641    13.678162           1.00000   \n",
       "contact_unknown    ...  1.000000   0.951858     1.906034           1.00000   \n",
       "month_1.0          ...  1.000000   5.406050    30.225380           1.00000   \n",
       "month_2.0          ...  1.000000   3.742744    15.008135           1.00000   \n",
       "month_3.0          ...  1.000000   9.511572    91.469999           1.00000   \n",
       "month_4.0          ...  1.000000   3.528440    13.449892           1.00000   \n",
       "month_5.0          ...  1.000000   0.850993     1.724189           1.00000   \n",
       "month_6.0          ...  1.000000   2.394901     6.735549           1.00000   \n",
       "month_7.0          ...  1.000000   1.931744     4.731634           1.00000   \n",
       "month_8.0          ...  1.000000   2.082554     5.337029           1.00000   \n",
       "month_9.0          ...  1.000000   8.825344    78.886692           1.00000   \n",
       "month_10.0         ...  1.000000   7.695237    60.216679           1.00000   \n",
       "month_11.0         ...  1.000000   2.894871     9.380278           1.00000   \n",
       "month_12.0         ...  1.000000  14.534452   212.250303           1.00000   \n",
       "day_1.0            ...  1.000000  11.766854   139.458857           1.00000   \n",
       "day_2.0            ...  1.000000   5.629393    32.690068           1.00000   \n",
       "day_3.0            ...  1.000000   6.248051    40.038144           1.00000   \n",
       "day_4.0            ...  1.000000   5.311564    29.212709           1.00000   \n",
       "day_5.0            ...  1.000000   4.598469    22.145917           1.00000   \n",
       "day_6.0            ...  1.000000   4.581340    21.988680           1.00000   \n",
       "day_7.0            ...  1.000000   4.642007    22.548229           1.00000   \n",
       "day_8.0            ...  1.000000   4.605366    22.209393           1.00000   \n",
       "day_9.0            ...  1.000000   5.052199    26.524715           1.00000   \n",
       "day_10.0           ...  1.000000   9.223817    86.078793           1.00000   \n",
       "day_11.0           ...  1.000000   5.324078    29.345810           1.00000   \n",
       "day_12.0           ...  1.000000   5.006755    26.067600           1.00000   \n",
       "day_13.0           ...  1.000000   5.019631    26.196696           1.00000   \n",
       "day_14.0           ...  1.000000   4.576233    21.941910           1.00000   \n",
       "day_15.0           ...  1.000000   4.852691    24.548608           1.00000   \n",
       "day_16.0           ...  1.000000   5.427068    30.453065           1.00000   \n",
       "day_17.0           ...  1.000000   4.472185    21.000435           1.00000   \n",
       "day_18.0           ...  1.000000   4.129220    18.050454           1.00000   \n",
       "day_19.0           ...  1.000000   4.786762    23.913086           1.00000   \n",
       "day_20.0           ...  1.000000   3.694461    14.649045           1.00000   \n",
       "day_21.0           ...  1.000000   4.367793    20.077617           1.00000   \n",
       "day_22.0           ...  1.000000   6.806534    47.328910           1.00000   \n",
       "day_23.0           ...  1.000000   6.710961    46.036997           1.00000   \n",
       "day_24.0           ...  1.000000   9.952891   100.060035           1.00000   \n",
       "day_25.0           ...  1.000000   7.041435    50.581804           1.00000   \n",
       "day_26.0           ...  1.000000   6.370708    41.585921           1.00000   \n",
       "day_27.0           ...  1.000000   6.153691    38.867908           1.00000   \n",
       "day_28.0           ...  1.000000   4.672215    22.829590           1.00000   \n",
       "day_29.0           ...  1.000000   4.819438    24.226979           1.00000   \n",
       "day_30.0           ...  1.000000   5.092013    26.928596           1.00000   \n",
       "day_31.0           ...  1.000000   8.164849    67.664757           1.00000   \n",
       "poutcome_failure   ...  1.000000   2.512167     7.310981           1.00000   \n",
       "poutcome_other     ...  1.000000   4.619238    22.337358           1.00000   \n",
       "poutcome_success   ...  1.000000   5.167172    27.699663           1.00000   \n",
       "poutcome_unknown   ...  1.000000  -1.633623     3.668723           1.00000   \n",
       "age                ...  1.000000   0.680378     3.296964           1.00000   \n",
       "education          ...  1.000000  -0.156659     2.304408           1.00000   \n",
       "default            ...  1.000000   7.236007    53.359792           1.00000   \n",
       "balance            ...  1.000000   7.274710   109.595708           1.00000   \n",
       "housing            ...  1.000000  -0.228577     1.052248           1.00000   \n",
       "loan               ...  1.000000   1.860893     4.462923           1.00000   \n",
       "job_admin.         ...  1.000000   2.438288     6.945249           1.00000   \n",
       "job_blue-collar    ...  1.000000   1.382890     2.912385           1.00000   \n",
       "job_entrepreneur   ...  1.000000   5.257404    28.640293           1.00000   \n",
       "job_housemaid      ...  1.000000   5.821085    34.885031           1.00000   \n",
       "job_management     ...  1.000000   1.415437     3.003462           1.00000   \n",
       "job_retired        ...  1.000000   4.165186    18.348775           1.00000   \n",
       "job_self-employed  ...  1.000000   4.993965    25.939685           1.00000   \n",
       "job_services       ...  1.000000   2.826395     8.988509           1.00000   \n",
       "job_student        ...  1.000000   6.826103    47.595688           1.00000   \n",
       "job_technician     ...  1.000000   1.772866     4.143054           1.00000   \n",
       "job_unemployed     ...  1.000000   5.691400    33.392035           1.00000   \n",
       "job_unknown        ...  1.000000  12.529518   157.988823           1.00000   \n",
       "marital_divorced   ...  1.000000   2.392002     6.721672           1.00000   \n",
       "marital_married    ...  1.000000  -0.411314     1.169179           1.00000   \n",
       "marital_single     ...  1.000000   0.964212     1.929705           1.00000   \n",
       "\n",
       "                   central_moment_3  central_moment_4           sum    sum_2  \\\n",
       "duration                  -1.123392          4.383492 -6.110668e-13  36636.0   \n",
       "campaign                   4.932272         42.706894  2.131628e-12  36636.0   \n",
       "pdays                      2.606875          9.887085  5.456968e-12  36636.0   \n",
       "previous                  45.343323       4808.201329  1.023182e-12  36636.0   \n",
       "y                          0.079101          0.071264  4.283000e+03   4283.0   \n",
       "contact_cellular          -0.632697          1.400305 -2.728484e-12  36636.0   \n",
       "contact_telephone          3.560641         13.678162 -1.818989e-12  36636.0   \n",
       "contact_unknown            0.951858          1.906034  2.728484e-12  36636.0   \n",
       "month_1.0                  5.406050         30.225380  4.320100e-12  36636.0   \n",
       "month_2.0                  3.742744         15.008135  1.023182e-12  36636.0   \n",
       "month_3.0                  9.511572         91.469999 -1.080025e-12  36636.0   \n",
       "month_4.0                  3.528440         13.449892  3.637979e-12  36636.0   \n",
       "month_5.0                  0.850993          1.724189 -3.637979e-12  36636.0   \n",
       "month_6.0                  2.394901          6.735549 -9.094947e-13  36636.0   \n",
       "month_7.0                  1.931744          4.731634  4.320100e-12  36636.0   \n",
       "month_8.0                  2.082554          5.337029  1.818989e-12  36636.0   \n",
       "month_9.0                  8.825344         78.886692 -1.648459e-12  36636.0   \n",
       "month_10.0                 7.695237         60.216679 -2.842171e-12  36636.0   \n",
       "month_11.0                 2.894871          9.380278  0.000000e+00  36636.0   \n",
       "month_12.0                14.534452        212.250303  3.410605e-13  36636.0   \n",
       "day_1.0                   11.766854        139.458857  3.410605e-13  36636.0   \n",
       "day_2.0                    5.629393         32.690068 -2.955858e-12  36636.0   \n",
       "day_3.0                    6.248051         40.038144  1.818989e-12  36636.0   \n",
       "day_4.0                    5.311564         29.212709  3.410605e-13  36636.0   \n",
       "day_5.0                    4.598469         22.145917  1.250555e-12  36636.0   \n",
       "day_6.0                    4.581340         21.988680 -2.501110e-12  36636.0   \n",
       "day_7.0                    4.642007         22.548229  1.818989e-12  36636.0   \n",
       "day_8.0                    4.605366         22.209393 -4.888534e-12  36636.0   \n",
       "day_9.0                    5.052199         26.524715 -9.094947e-13  36636.0   \n",
       "day_10.0                   9.223817         86.078793 -6.252776e-13  36636.0   \n",
       "day_11.0                   5.324078         29.345810 -3.410605e-12  36636.0   \n",
       "day_12.0                   5.006755         26.067600  1.250555e-12  36636.0   \n",
       "day_13.0                   5.019631         26.196696 -2.273737e-12  36636.0   \n",
       "day_14.0                   4.576233         21.941910  5.684342e-12  36636.0   \n",
       "day_15.0                   4.852691         24.548608 -3.410605e-12  36636.0   \n",
       "day_16.0                   5.427068         30.453065  0.000000e+00  36636.0   \n",
       "day_17.0                   4.472185         21.000435  4.547474e-13  36636.0   \n",
       "day_18.0                   4.129220         18.050454  1.136868e-13  36636.0   \n",
       "day_19.0                   4.786762         23.913086 -7.958079e-13  36636.0   \n",
       "day_20.0                   3.694461         14.649045  3.296918e-12  36636.0   \n",
       "day_21.0                   4.367793         20.077617  1.818989e-12  36636.0   \n",
       "day_22.0                   6.806534         47.328910  2.273737e-13  36636.0   \n",
       "day_23.0                   6.710961         46.036997  5.684342e-14  36636.0   \n",
       "day_24.0                   9.952891        100.060035 -7.958079e-13  36636.0   \n",
       "day_25.0                   7.041435         50.581804 -1.364242e-12  36636.0   \n",
       "day_26.0                   6.370708         41.585921 -2.501110e-12  36636.0   \n",
       "day_27.0                   6.153691         38.867908 -4.547474e-13  36636.0   \n",
       "day_28.0                   4.672215         22.829590  0.000000e+00  36636.0   \n",
       "day_29.0                   4.819438         24.226979  0.000000e+00  36636.0   \n",
       "day_30.0                   5.092013         26.928596 -2.273737e-12  36636.0   \n",
       "day_31.0                   8.164849         67.664757  0.000000e+00  36636.0   \n",
       "poutcome_failure           2.512167          7.310981 -3.410605e-12  36636.0   \n",
       "poutcome_other             4.619238         22.337358  4.547474e-13  36636.0   \n",
       "poutcome_success           5.167172         27.699663 -6.821210e-13  36636.0   \n",
       "poutcome_unknown          -1.633623          3.668723 -5.911716e-12  36636.0   \n",
       "age                        0.680378          3.296964 -1.085709e-11  36636.0   \n",
       "education                 -0.156659          2.304408 -1.216449e-11  36636.0   \n",
       "default                    7.236007         53.359792 -1.932676e-12  36636.0   \n",
       "balance                    7.274710        109.595708  4.263256e-13  36636.0   \n",
       "housing                   -0.228577          1.052248  9.094947e-13  36636.0   \n",
       "loan                       1.860893          4.462923  8.384404e-13  36636.0   \n",
       "job_admin.                 2.438288          6.945249  3.339551e-13  36636.0   \n",
       "job_blue-collar            1.382890          2.912385 -3.751666e-12  36636.0   \n",
       "job_entrepreneur           5.257404         28.640293 -5.826450e-13  36636.0   \n",
       "job_housemaid              5.821085         34.885031  2.842171e-13  36636.0   \n",
       "job_management             1.415437          3.003462 -1.136868e-12  36636.0   \n",
       "job_retired                4.165186         18.348775 -3.012701e-12  36636.0   \n",
       "job_self-employed          4.993965         25.939685 -2.472689e-12  36636.0   \n",
       "job_services               2.826395          8.988509 -9.663381e-13  36636.0   \n",
       "job_student                6.826103         47.595688  4.547474e-13  36636.0   \n",
       "job_technician             1.772866          4.143054 -1.193712e-12  36636.0   \n",
       "job_unemployed             5.691400         33.392035  1.207923e-13  36636.0   \n",
       "job_unknown               12.529518        157.988823  5.400125e-13  36636.0   \n",
       "marital_divorced           2.392002          6.721672 -2.444267e-12  36636.0   \n",
       "marital_married           -0.411314          1.169179 -3.950618e-12  36636.0   \n",
       "marital_single             0.964212          1.929705  9.379164e-13  36636.0   \n",
       "\n",
       "                          sum_3         sum_4  \n",
       "duration          -4.115659e+04  1.605936e+05  \n",
       "campaign           1.806987e+05  1.564610e+06  \n",
       "pdays              9.550548e+04  3.622232e+05  \n",
       "previous           1.661198e+06  1.761533e+08  \n",
       "y                  4.283000e+03  4.283000e+03  \n",
       "contact_cellular  -2.317948e+04  5.130158e+04  \n",
       "contact_telephone  1.304476e+05  5.011131e+05  \n",
       "contact_unknown    3.487228e+04  6.982947e+04  \n",
       "month_1.0          1.980561e+05  1.107337e+06  \n",
       "month_2.0          1.371192e+05  5.498380e+05  \n",
       "month_3.0          3.484659e+05  3.351095e+06  \n",
       "month_4.0          1.292679e+05  4.927502e+05  \n",
       "month_5.0          3.117697e+04  6.316737e+04  \n",
       "month_6.0          8.773958e+04  2.467636e+05  \n",
       "month_7.0          7.077136e+04  1.733481e+05  \n",
       "month_8.0          7.629643e+04  1.955274e+05  \n",
       "month_9.0          3.233253e+05  2.890093e+06  \n",
       "month_10.0         2.819227e+05  2.206098e+06  \n",
       "month_11.0         1.060565e+05  3.436559e+05  \n",
       "month_12.0         5.324842e+05  7.776002e+06  \n",
       "day_1.0            4.310905e+05  5.109215e+06  \n",
       "day_2.0            2.062385e+05  1.197633e+06  \n",
       "day_3.0            2.289036e+05  1.466837e+06  \n",
       "day_4.0            1.945944e+05  1.070237e+06  \n",
       "day_5.0            1.684695e+05  8.113378e+05  \n",
       "day_6.0            1.678420e+05  8.055773e+05  \n",
       "day_7.0            1.700646e+05  8.260769e+05  \n",
       "day_8.0            1.687222e+05  8.136633e+05  \n",
       "day_9.0            1.850924e+05  9.717595e+05  \n",
       "day_10.0           3.379237e+05  3.153583e+06  \n",
       "day_11.0           1.950529e+05  1.075113e+06  \n",
       "day_12.0           1.834275e+05  9.550126e+05  \n",
       "day_13.0           1.838992e+05  9.597422e+05  \n",
       "day_14.0           1.676549e+05  8.038638e+05  \n",
       "day_15.0           1.777832e+05  8.993628e+05  \n",
       "day_16.0           1.988261e+05  1.115678e+06  \n",
       "day_17.0           1.638430e+05  7.693719e+05  \n",
       "day_18.0           1.512781e+05  6.612964e+05  \n",
       "day_19.0           1.753678e+05  8.760798e+05  \n",
       "day_20.0           1.353503e+05  5.366824e+05  \n",
       "day_21.0           1.600185e+05  7.355636e+05  \n",
       "day_22.0           2.493642e+05  1.733942e+06  \n",
       "day_23.0           2.458628e+05  1.686611e+06  \n",
       "day_24.0           3.646341e+05  3.665799e+06  \n",
       "day_25.0           2.579700e+05  1.853115e+06  \n",
       "day_26.0           2.333973e+05  1.523542e+06  \n",
       "day_27.0           2.254466e+05  1.423965e+06  \n",
       "day_28.0           1.711713e+05  8.363848e+05  \n",
       "day_29.0           1.765649e+05  8.875796e+05  \n",
       "day_30.0           1.865510e+05  9.865560e+05  \n",
       "day_31.0           2.991274e+05  2.478966e+06  \n",
       "poutcome_failure   9.203573e+04  2.678451e+05  \n",
       "poutcome_other     1.692304e+05  8.183515e+05  \n",
       "poutcome_success   1.893045e+05  1.014805e+06  \n",
       "poutcome_unknown  -5.984940e+04  1.344074e+05  \n",
       "age                2.492632e+04  1.207876e+05  \n",
       "education         -5.739362e+03  8.442430e+04  \n",
       "default            2.650983e+05  1.954889e+06  \n",
       "balance            2.665163e+05  4.015148e+06  \n",
       "housing           -8.374161e+03  3.855014e+04  \n",
       "loan               6.817568e+04  1.635036e+05  \n",
       "job_admin.         8.932913e+04  2.544462e+05  \n",
       "job_blue-collar    5.066356e+04  1.066981e+05  \n",
       "job_entrepreneur   1.926102e+05  1.049266e+06  \n",
       "job_housemaid      2.132613e+05  1.278048e+06  \n",
       "job_management     5.185596e+04  1.100348e+05  \n",
       "job_retired        1.525958e+05  6.722257e+05  \n",
       "job_self-employed  1.829589e+05  9.503263e+05  \n",
       "job_services       1.035478e+05  3.293030e+05  \n",
       "job_student        2.500811e+05  1.743716e+06  \n",
       "job_technician     6.495072e+04  1.517849e+05  \n",
       "job_unemployed     2.085101e+05  1.223351e+06  \n",
       "job_unknown        4.590314e+05  5.788079e+06  \n",
       "marital_divorced   8.763337e+04  2.462552e+05  \n",
       "marital_married   -1.506890e+04  4.283405e+04  \n",
       "marital_single     3.532488e+04  7.069667e+04  \n",
       "\n",
       "[76 rows x 25 columns]"
      ]
     },
     "execution_count": 15,
     "metadata": {},
     "output_type": "execute_result"
    }
   ],
   "source": [
    "from secretflow.stats.table_statistics import table_statistics\n",
    "\n",
    "pd.set_option('display.max_rows', None)\n",
    "data_stats = table_statistics(vdf)\n",
    "data_stats\n"
   ]
  },
  {
   "cell_type": "code",
   "execution_count": 16,
   "metadata": {},
   "outputs": [],
   "source": [
    "pd.reset_option('display.max_rows')\n"
   ]
  },
  {
   "cell_type": "markdown",
   "metadata": {},
   "source": [
    "#### 安全性讨论\n",
    "\n",
    "请注意，全表统计会暴露数据整体统计结果，其背后实际上蕴含了**sf.reveal**,请谨慎使用。"
   ]
  },
  {
   "cell_type": "markdown",
   "metadata": {},
   "source": [
    "### 相关系数矩阵\n",
    "\n",
    "我们接下来计算特征和特征之间，特征和标签之间的相关系数矩阵。\n",
    "\n",
    "> 计算相关系数矩阵时，one-hot编码各列无需参与计算。"
   ]
  },
  {
   "cell_type": "code",
   "execution_count": 17,
   "metadata": {},
   "outputs": [
    {
     "name": "stderr",
     "output_type": "stream",
     "text": [
      "\u001b[2m\u001b[36m(_run pid=117122)\u001b[0m /home/fengjun.feng/miniconda3/envs/sf/lib/python3.8/site-packages/sklearn/base.py:443: UserWarning: X has feature names, but StandardScaler was fitted without feature names\n",
      "\u001b[2m\u001b[36m(_run pid=117122)\u001b[0m   warnings.warn(\n",
      "\u001b[2m\u001b[36m(_run pid=117121)\u001b[0m /home/fengjun.feng/miniconda3/envs/sf/lib/python3.8/site-packages/sklearn/base.py:443: UserWarning: X has feature names, but StandardScaler was fitted without feature names\n",
      "\u001b[2m\u001b[36m(_run pid=117121)\u001b[0m   warnings.warn(\n"
     ]
    },
    {
     "name": "stdout",
     "output_type": "stream",
     "text": [
      "\u001b[2m\u001b[36m(_run pid=117122)\u001b[0m [2022-11-18 11:45:14.038] [info] [thread_pool.cc:30] Create a fixed thread pool with size 63\n",
      "\u001b[2m\u001b[36m(_run pid=117121)\u001b[0m [2022-11-18 11:45:14.185] [info] [thread_pool.cc:30] Create a fixed thread pool with size 63\n"
     ]
    },
    {
     "name": "stderr",
     "output_type": "stream",
     "text": [
      "\u001b[2m\u001b[36m(_run pid=117122)\u001b[0m WARNING:absl:No GPU/TPU found, falling back to CPU. (Set TF_CPP_MIN_LOG_LEVEL=0 and rerun for more info.)\n",
      "\u001b[2m\u001b[36m(_run pid=117121)\u001b[0m WARNING:absl:No GPU/TPU found, falling back to CPU. (Set TF_CPP_MIN_LOG_LEVEL=0 and rerun for more info.)\n",
      "\u001b[2m\u001b[36m(_spu_compile pid=115022)\u001b[0m WARNING:absl:No GPU/TPU found, falling back to CPU. (Set TF_CPP_MIN_LOG_LEVEL=0 and rerun for more info.)\n"
     ]
    },
    {
     "data": {
      "text/plain": [
       "array([[1.000, -0.179, 0.016, 0.009, 0.307, -0.010, -0.004, -0.007,\n",
       "        0.016, -0.004, -0.010],\n",
       "       [-0.179, 1.000, -0.088, -0.031, -0.072, 0.004, 0.004, 0.017,\n",
       "        -0.016, -0.024, 0.007],\n",
       "       [0.016, -0.088, 1.000, 0.440, 0.103, -0.021, 0.003, -0.028, 0.003,\n",
       "        0.124, -0.023],\n",
       "       [0.009, -0.031, 0.440, 1.000, 0.089, 0.004, 0.027, -0.016, 0.017,\n",
       "        0.036, -0.010],\n",
       "       [0.307, -0.072, 0.103, 0.089, 1.000, 0.024, 0.073, -0.026, 0.052,\n",
       "        -0.143, -0.071],\n",
       "       [-0.010, 0.004, -0.021, 0.004, 0.024, 1.000, -0.163, -0.015,\n",
       "        0.097, -0.183, -0.015],\n",
       "       [-0.004, 0.004, 0.003, 0.027, 0.073, -0.163, 1.000, -0.010, 0.068,\n",
       "        -0.073, -0.030],\n",
       "       [-0.007, 0.017, -0.028, -0.016, -0.026, -0.015, -0.010, 1.000,\n",
       "        -0.069, -0.009, 0.076],\n",
       "       [0.016, -0.016, 0.003, 0.017, 0.052, 0.097, 0.068, -0.069, 1.000,\n",
       "        -0.068, -0.085],\n",
       "       [-0.004, -0.024, 0.124, 0.036, -0.143, -0.183, -0.073, -0.009,\n",
       "        -0.068, 1.000, 0.040],\n",
       "       [-0.010, 0.007, -0.023, -0.010, -0.071, -0.015, -0.030, 0.076,\n",
       "        -0.085, 0.040, 1.000]], dtype=float32)"
      ]
     },
     "execution_count": 17,
     "metadata": {},
     "output_type": "execute_result"
    }
   ],
   "source": [
    "from secretflow.stats.ss_pearsonr_v import PearsonR\n",
    "\n",
    "pearson_r_calculator = PearsonR(spu)\n",
    "corr_matrix = pearson_r_calculator.pearsonr(vdf_hat)\n",
    "\n",
    "import numpy as np\n",
    "\n",
    "np.set_printoptions(formatter={'float': lambda x: \"{0:0.3f}\".format(x)})\n",
    "corr_matrix\n"
   ]
  },
  {
   "cell_type": "markdown",
   "metadata": {},
   "source": [
    "#### 安全性讨论\n",
    "\n",
    "相关系数矩阵的计算需要利用alice和bob两边的数据，因此相关的计算需要使用**SPU device**确保原始数据不被泄露。"
   ]
  },
  {
   "cell_type": "markdown",
   "metadata": {},
   "source": [
    "### VIF指标计算\n",
    "\n",
    "隐语还支持VIF的计算来进行多重共线性检验。\n",
    "\n",
    "> 计算VIF指标时，one-hot编码各列无需参与计算。"
   ]
  },
  {
   "cell_type": "code",
   "execution_count": 18,
   "metadata": {},
   "outputs": [
    {
     "name": "stdout",
     "output_type": "stream",
     "text": [
      "\u001b[2m\u001b[36m(_run pid=115022)\u001b[0m [2022-11-18 11:45:14.679] [info] [thread_pool.cc:30] Create a fixed thread pool with size 63\n"
     ]
    },
    {
     "name": "stderr",
     "output_type": "stream",
     "text": [
      "\u001b[2m\u001b[36m(_run pid=115022)\u001b[0m /home/fengjun.feng/miniconda3/envs/sf/lib/python3.8/site-packages/sklearn/base.py:443: UserWarning: X has feature names, but StandardScaler was fitted without feature names\n",
      "\u001b[2m\u001b[36m(_run pid=115022)\u001b[0m   warnings.warn(\n",
      "\u001b[2m\u001b[36m(_run pid=117121)\u001b[0m /home/fengjun.feng/miniconda3/envs/sf/lib/python3.8/site-packages/sklearn/base.py:443: UserWarning: X has feature names, but StandardScaler was fitted without feature names\n",
      "\u001b[2m\u001b[36m(_run pid=117121)\u001b[0m   warnings.warn(\n"
     ]
    },
    {
     "name": "stdout",
     "output_type": "stream",
     "text": [
      "Index(['duration', 'campaign', 'pdays', 'previous', 'y', 'age', 'education',\n",
      "       'default', 'balance', 'housing', 'loan'],\n",
      "      dtype='object')\n",
      "[1.139 1.042 1.277 1.244 1.160 1.080 1.051 1.010 1.031 1.091 1.018]\n"
     ]
    }
   ],
   "source": [
    "from secretflow.stats.ss_vif_v import VIF\n",
    "\n",
    "vif_calculator = VIF(spu)\n",
    "vif_results = vif_calculator.vif(vdf_hat)\n",
    "print(vdf_hat.columns)\n",
    "print(vif_results)\n"
   ]
  },
  {
   "cell_type": "markdown",
   "metadata": {},
   "source": [
    "#### 安全性讨论\n",
    "\n",
    "VIF指标的计算需要利用alice和bob两边的数据，因此相关的计算需要使用**SPU device**确保原始数据不被泄露。"
   ]
  },
  {
   "cell_type": "markdown",
   "metadata": {},
   "source": [
    "## 模型训练\n",
    "\n",
    "接下来，我们将会分别训练一个逻辑回归模型和一个XGB模型。\n"
   ]
  },
  {
   "cell_type": "markdown",
   "metadata": {},
   "source": [
    "### 随机分割\n",
    "\n",
    "在训练之前，我们需要将数据分割为训练集和验证集。\n",
    "\n",
    "其中train_x和train_y为训练集的特征和标签。test_x和test_y为训练集的特征和标签。\n"
   ]
  },
  {
   "cell_type": "code",
   "execution_count": 19,
   "metadata": {},
   "outputs": [],
   "source": [
    "from secretflow.data.split import train_test_split\n",
    "\n",
    "random_state = 1234\n",
    "\n",
    "train_vdf, test_vdf = train_test_split(vdf, train_size=0.8, random_state=random_state)\n",
    "\n",
    "train_x = train_vdf.drop(columns=['y'])\n",
    "train_y = train_vdf['y']\n",
    "\n",
    "test_x = test_vdf.drop(columns=['y'])\n",
    "test_y = test_vdf['y']\n"
   ]
  },
  {
   "cell_type": "markdown",
   "metadata": {},
   "source": [
    "#### 安全性讨论\n",
    "\n",
    "随机分割时，每一方会共享随机数种子，并由每一方数据的owner分别执行各自的数据分割并且确保最终分割结果仍然是对齐的。"
   ]
  },
  {
   "cell_type": "markdown",
   "metadata": {},
   "source": [
    "### PSI（人群稳定性分析）\n",
    "\n",
    "样本稳定指数是衡量样本变化所产生的偏移量的一种重要指标，通常用来衡量样本的稳定程度，比如样本在两个月份之间的变化是否稳定。通常变量的PSI值在0.1以下表示变化不太显著，在0.1到0.25之间表示有比较显著的变化，大于0.25表示变量变化比较剧烈，需要特殊关注。\n",
    "\n",
    "接下来以`balance`为例子，确认两次抽样的样本分布是否接近。\n",
    "\n",
    "> 根据业务需求，PSI分析也可以在数据分析或者特征预处理的时候进行。\n"
   ]
  },
  {
   "cell_type": "code",
   "execution_count": 20,
   "metadata": {},
   "outputs": [],
   "source": [
    "stats_df = table_statistics(train_x['balance'])"
   ]
  },
  {
   "cell_type": "code",
   "execution_count": 21,
   "metadata": {},
   "outputs": [],
   "source": [
    "min_val, max_val = stats_df['min'], stats_df['max']"
   ]
  },
  {
   "cell_type": "code",
   "execution_count": 22,
   "metadata": {},
   "outputs": [
    {
     "name": "stderr",
     "output_type": "stream",
     "text": [
      "WARNING:absl:No GPU/TPU found, falling back to CPU. (Set TF_CPP_MIN_LOG_LEVEL=0 and rerun for more info.)\n"
     ]
    },
    {
     "data": {
      "text/plain": [
       "DeviceArray(inf, dtype=float32)"
      ]
     },
     "execution_count": 22,
     "metadata": {},
     "output_type": "execute_result"
    }
   ],
   "source": [
    "from secretflow.stats import psi_eval\n",
    "from secretflow.stats.core.utils import equal_range\n",
    "import jax.numpy as jnp\n",
    "\n",
    "split_points = equal_range(jnp.array([min_val, max_val]), 3)\n",
    "balance_psi_score = psi_eval(train_x['balance'], test_x['balance'], split_points)\n",
    "\n",
    "sf.reveal(balance_psi_score)"
   ]
  },
  {
   "cell_type": "markdown",
   "metadata": {},
   "source": [
    "#### 安全性讨论\n",
    "\n",
    "PSI分析是一个单方运算，由数据owner的PYU Device执行计算。"
   ]
  },
  {
   "cell_type": "markdown",
   "metadata": {},
   "source": [
    "### 逻辑回归模型\n",
    "\n",
    "使用 **ml.linear.ss_sgd.SSRegression** 可以进行密态逻辑回归模型的训练。\n",
    "\n",
    "请参考相关的API文档。\n"
   ]
  },
  {
   "cell_type": "code",
   "execution_count": 23,
   "metadata": {},
   "outputs": [
    {
     "name": "stdout",
     "output_type": "stream",
     "text": [
      "\u001b[2m\u001b[36m(_run pid=115021)\u001b[0m [2022-11-18 11:45:17.898] [info] [thread_pool.cc:30] Create a fixed thread pool with size 63\n",
      "\u001b[2m\u001b[36m(_spu_compile pid=117121)\u001b[0m /* error: missing value */\n",
      "\u001b[2m\u001b[36m(_spu_compile pid=117121)\u001b[0m {}\n"
     ]
    },
    {
     "name": "stderr",
     "output_type": "stream",
     "text": [
      "\u001b[2m\u001b[33m(raylet)\u001b[0m /home/fengjun.feng/miniconda3/envs/sf/lib/python3.8/site-packages/requests/__init__.py:102: RequestsDependencyWarning: urllib3 (1.26.9) or chardet (5.0.0)/charset_normalizer (2.0.12) doesn't match a supported version!\n",
      "\u001b[2m\u001b[33m(raylet)\u001b[0m   warnings.warn(\"urllib3 ({}) or chardet ({})/charset_normalizer ({}) doesn't match a supported \"\n",
      "\u001b[2m\u001b[33m(raylet)\u001b[0m /home/fengjun.feng/miniconda3/envs/sf/lib/python3.8/site-packages/requests/__init__.py:102: RequestsDependencyWarning: urllib3 (1.26.9) or chardet (5.0.0)/charset_normalizer (2.0.12) doesn't match a supported version!\n",
      "\u001b[2m\u001b[33m(raylet)\u001b[0m   warnings.warn(\"urllib3 ({}) or chardet ({})/charset_normalizer ({}) doesn't match a supported \"\n",
      "\u001b[2m\u001b[36m(_run pid=119150)\u001b[0m WARNING:absl:No GPU/TPU found, falling back to CPU. (Set TF_CPP_MIN_LOG_LEVEL=0 and rerun for more info.)\n"
     ]
    }
   ],
   "source": [
    "from secretflow.ml.linear.ss_sgd import SSRegression\n",
    "\n",
    "lr_model = SSRegression(spu)\n",
    "lr_model.fit(\n",
    "    x=train_x,\n",
    "    y=train_y,\n",
    "    epochs=3,\n",
    "    learning_rate=0.1,\n",
    "    batch_size=1024,\n",
    "    sig_type='t1',\n",
    "    reg_type='logistic',\n",
    "    penalty='l2',\n",
    "    l2_norm=0.5,\n",
    ")\n"
   ]
  },
  {
   "cell_type": "markdown",
   "metadata": {},
   "source": [
    "你可能会对为何上面的语句很快就执行完毕感到困惑，原因是在隐语中，语句都是lazy evaluation的，在上面的例子中，直到lr_model被真正被使用的时候，**lr_model.fit**才会被执行。"
   ]
  },
  {
   "cell_type": "markdown",
   "metadata": {},
   "source": [
    "#### 安全性讨论\n",
    "\n",
    "SSRegression的训练基于SPU Device，双方的原始数据将会被保护。"
   ]
  },
  {
   "cell_type": "markdown",
   "metadata": {},
   "source": [
    "### XGBoost模型"
   ]
  },
  {
   "cell_type": "markdown",
   "metadata": {},
   "source": [
    "使用 **ml.boost.ss_xgb_v.Xgb** 可以进行密态XGBoost模型的训练。\n",
    "\n",
    "请参考相关的API文档。"
   ]
  },
  {
   "cell_type": "code",
   "execution_count": 24,
   "metadata": {},
   "outputs": [
    {
     "name": "stdout",
     "output_type": "stream",
     "text": [
      "\u001b[2m\u001b[36m(_spu_compile pid=119150)\u001b[0m /* error: missing value */\n",
      "\u001b[2m\u001b[36m(_spu_compile pid=119150)\u001b[0m {}\n"
     ]
    },
    {
     "name": "stderr",
     "output_type": "stream",
     "text": [
      "\u001b[2m\u001b[33m(raylet)\u001b[0m /home/fengjun.feng/miniconda3/envs/sf/lib/python3.8/site-packages/requests/__init__.py:102: RequestsDependencyWarning: urllib3 (1.26.9) or chardet (5.0.0)/charset_normalizer (2.0.12) doesn't match a supported version!\n",
      "\u001b[2m\u001b[33m(raylet)\u001b[0m   warnings.warn(\"urllib3 ({}) or chardet ({})/charset_normalizer ({}) doesn't match a supported \"\n",
      "\u001b[2m\u001b[36m(_run pid=119149)\u001b[0m WARNING:absl:No GPU/TPU found, falling back to CPU. (Set TF_CPP_MIN_LOG_LEVEL=0 and rerun for more info.)\n",
      "\u001b[2m\u001b[33m(raylet)\u001b[0m /home/fengjun.feng/miniconda3/envs/sf/lib/python3.8/site-packages/requests/__init__.py:102: RequestsDependencyWarning: urllib3 (1.26.9) or chardet (5.0.0)/charset_normalizer (2.0.12) doesn't match a supported version!\n",
      "\u001b[2m\u001b[33m(raylet)\u001b[0m   warnings.warn(\"urllib3 ({}) or chardet ({})/charset_normalizer ({}) doesn't match a supported \"\n"
     ]
    },
    {
     "name": "stdout",
     "output_type": "stream",
     "text": [
      "\u001b[2m\u001b[36m(_run pid=119150)\u001b[0m [2022-11-18 11:45:29.490] [info] [thread_pool.cc:30] Create a fixed thread pool with size 63\n",
      "\u001b[2m\u001b[36m(_spu_compile pid=119149)\u001b[0m /* error: missing value */\n",
      "\u001b[2m\u001b[36m(_spu_compile pid=119149)\u001b[0m {}:task_name:_run\n"
     ]
    },
    {
     "name": "stderr",
     "output_type": "stream",
     "text": [
      "\u001b[2m\u001b[33m(raylet)\u001b[0m /home/fengjun.feng/miniconda3/envs/sf/lib/python3.8/site-packages/requests/__init__.py:102: RequestsDependencyWarning: urllib3 (1.26.9) or chardet (5.0.0)/charset_normalizer (2.0.12) doesn't match a supported version!\n",
      "\u001b[2m\u001b[33m(raylet)\u001b[0m   warnings.warn(\"urllib3 ({}) or chardet ({})/charset_normalizer ({}) doesn't match a supported \"\n",
      "\u001b[2m\u001b[33m(raylet)\u001b[0m /home/fengjun.feng/miniconda3/envs/sf/lib/python3.8/site-packages/requests/__init__.py:102: RequestsDependencyWarning: urllib3 (1.26.9) or chardet (5.0.0)/charset_normalizer (2.0.12) doesn't match a supported version!\n",
      "\u001b[2m\u001b[33m(raylet)\u001b[0m   warnings.warn(\"urllib3 ({}) or chardet ({})/charset_normalizer ({}) doesn't match a supported \"\n",
      "\u001b[2m\u001b[33m(raylet)\u001b[0m /home/fengjun.feng/miniconda3/envs/sf/lib/python3.8/site-packages/requests/__init__.py:102: RequestsDependencyWarning: urllib3 (1.26.9) or chardet (5.0.0)/charset_normalizer (2.0.12) doesn't match a supported version!\n",
      "\u001b[2m\u001b[33m(raylet)\u001b[0m   warnings.warn(\"urllib3 ({}) or chardet ({})/charset_normalizer ({}) doesn't match a supported \"\n",
      "\u001b[2m\u001b[33m(raylet)\u001b[0m /home/fengjun.feng/miniconda3/envs/sf/lib/python3.8/site-packages/requests/__init__.py:102: RequestsDependencyWarning: urllib3 (1.26.9) or chardet (5.0.0)/charset_normalizer (2.0.12) doesn't match a supported version!\n",
      "\u001b[2m\u001b[33m(raylet)\u001b[0m   warnings.warn(\"urllib3 ({}) or chardet ({})/charset_normalizer ({}) doesn't match a supported \"\n",
      "\u001b[2m\u001b[33m(raylet)\u001b[0m /home/fengjun.feng/miniconda3/envs/sf/lib/python3.8/site-packages/requests/__init__.py:102: RequestsDependencyWarning: urllib3 (1.26.9) or chardet (5.0.0)/charset_normalizer (2.0.12) doesn't match a supported version!\n",
      "\u001b[2m\u001b[33m(raylet)\u001b[0m   warnings.warn(\"urllib3 ({}) or chardet ({})/charset_normalizer ({}) doesn't match a supported \"\n",
      "\u001b[2m\u001b[33m(raylet)\u001b[0m /home/fengjun.feng/miniconda3/envs/sf/lib/python3.8/site-packages/requests/__init__.py:102: RequestsDependencyWarning: urllib3 (1.26.9) or chardet (5.0.0)/charset_normalizer (2.0.12) doesn't match a supported version!\n",
      "\u001b[2m\u001b[33m(raylet)\u001b[0m   warnings.warn(\"urllib3 ({}) or chardet ({})/charset_normalizer ({}) doesn't match a supported \"\n",
      "\u001b[2m\u001b[33m(raylet)\u001b[0m /home/fengjun.feng/miniconda3/envs/sf/lib/python3.8/site-packages/requests/__init__.py:102: RequestsDependencyWarning: urllib3 (1.26.9) or chardet (5.0.0)/charset_normalizer (2.0.12) doesn't match a supported version!\n",
      "\u001b[2m\u001b[33m(raylet)\u001b[0m   warnings.warn(\"urllib3 ({}) or chardet ({})/charset_normalizer ({}) doesn't match a supported \"\n",
      "\u001b[2m\u001b[33m(raylet)\u001b[0m /home/fengjun.feng/miniconda3/envs/sf/lib/python3.8/site-packages/requests/__init__.py:102: RequestsDependencyWarning: urllib3 (1.26.9) or chardet (5.0.0)/charset_normalizer (2.0.12) doesn't match a supported version!\n",
      "\u001b[2m\u001b[33m(raylet)\u001b[0m   warnings.warn(\"urllib3 ({}) or chardet ({})/charset_normalizer ({}) doesn't match a supported \"\n",
      "\u001b[2m\u001b[36m(_spu_compile pid=122572)\u001b[0m WARNING:absl:No GPU/TPU found, falling back to CPU. (Set TF_CPP_MIN_LOG_LEVEL=0 and rerun for more info.)\n",
      "\u001b[2m\u001b[36m(_run pid=122370)\u001b[0m WARNING:absl:No GPU/TPU found, falling back to CPU. (Set TF_CPP_MIN_LOG_LEVEL=0 and rerun for more info.)\n",
      "\u001b[2m\u001b[36m(_run pid=122371)\u001b[0m WARNING:absl:No GPU/TPU found, falling back to CPU. (Set TF_CPP_MIN_LOG_LEVEL=0 and rerun for more info.)\n",
      "\u001b[2m\u001b[36m(_run pid=122372)\u001b[0m WARNING:absl:No GPU/TPU found, falling back to CPU. (Set TF_CPP_MIN_LOG_LEVEL=0 and rerun for more info.)\n",
      "\u001b[2m\u001b[36m(_run pid=122573)\u001b[0m WARNING:absl:No GPU/TPU found, falling back to CPU. (Set TF_CPP_MIN_LOG_LEVEL=0 and rerun for more info.)\n",
      "\u001b[2m\u001b[36m(_run pid=122373)\u001b[0m WARNING:absl:No GPU/TPU found, falling back to CPU. (Set TF_CPP_MIN_LOG_LEVEL=0 and rerun for more info.)\n",
      "\u001b[2m\u001b[36m(_run pid=122576)\u001b[0m WARNING:absl:No GPU/TPU found, falling back to CPU. (Set TF_CPP_MIN_LOG_LEVEL=0 and rerun for more info.)\n"
     ]
    },
    {
     "name": "stdout",
     "output_type": "stream",
     "text": [
      "\u001b[2m\u001b[36m(_run pid=122576)\u001b[0m [2022-11-18 11:46:17.095] [info] [thread_pool.cc:30] Create a fixed thread pool with size 63\n",
      "\u001b[2m\u001b[36m(_spu_compile pid=122573)\u001b[0m /* error: missing value */\n",
      "\u001b[2m\u001b[36m(_spu_compile pid=122573)\u001b[0m {}:task_name:_run\n"
     ]
    },
    {
     "name": "stderr",
     "output_type": "stream",
     "text": [
      "\u001b[2m\u001b[33m(raylet)\u001b[0m /home/fengjun.feng/miniconda3/envs/sf/lib/python3.8/site-packages/requests/__init__.py:102: RequestsDependencyWarning: urllib3 (1.26.9) or chardet (5.0.0)/charset_normalizer (2.0.12) doesn't match a supported version!\n",
      "\u001b[2m\u001b[33m(raylet)\u001b[0m   warnings.warn(\"urllib3 ({}) or chardet ({})/charset_normalizer ({}) doesn't match a supported \"\n",
      "\u001b[2m\u001b[33m(raylet)\u001b[0m /home/fengjun.feng/miniconda3/envs/sf/lib/python3.8/site-packages/requests/__init__.py:102: RequestsDependencyWarning: urllib3 (1.26.9) or chardet (5.0.0)/charset_normalizer (2.0.12) doesn't match a supported version!\n",
      "\u001b[2m\u001b[33m(raylet)\u001b[0m   warnings.warn(\"urllib3 ({}) or chardet ({})/charset_normalizer ({}) doesn't match a supported \"\n",
      "\u001b[2m\u001b[33m(raylet)\u001b[0m /home/fengjun.feng/miniconda3/envs/sf/lib/python3.8/site-packages/requests/__init__.py:102: RequestsDependencyWarning: urllib3 (1.26.9) or chardet (5.0.0)/charset_normalizer (2.0.12) doesn't match a supported version!\n",
      "\u001b[2m\u001b[33m(raylet)\u001b[0m   warnings.warn(\"urllib3 ({}) or chardet ({})/charset_normalizer ({}) doesn't match a supported \"\n",
      "\u001b[2m\u001b[33m(raylet)\u001b[0m /home/fengjun.feng/miniconda3/envs/sf/lib/python3.8/site-packages/requests/__init__.py:102: RequestsDependencyWarning: urllib3 (1.26.9) or chardet (5.0.0)/charset_normalizer (2.0.12) doesn't match a supported version!\n",
      "\u001b[2m\u001b[33m(raylet)\u001b[0m   warnings.warn(\"urllib3 ({}) or chardet ({})/charset_normalizer ({}) doesn't match a supported \"\n",
      "\u001b[2m\u001b[33m(raylet)\u001b[0m /home/fengjun.feng/miniconda3/envs/sf/lib/python3.8/site-packages/requests/__init__.py:102: RequestsDependencyWarning: urllib3 (1.26.9) or chardet (5.0.0)/charset_normalizer (2.0.12) doesn't match a supported version!\n",
      "\u001b[2m\u001b[33m(raylet)\u001b[0m   warnings.warn(\"urllib3 ({}) or chardet ({})/charset_normalizer ({}) doesn't match a supported \"\n",
      "\u001b[2m\u001b[33m(raylet)\u001b[0m /home/fengjun.feng/miniconda3/envs/sf/lib/python3.8/site-packages/requests/__init__.py:102: RequestsDependencyWarning: urllib3 (1.26.9) or chardet (5.0.0)/charset_normalizer (2.0.12) doesn't match a supported version!\n",
      "\u001b[2m\u001b[33m(raylet)\u001b[0m   warnings.warn(\"urllib3 ({}) or chardet ({})/charset_normalizer ({}) doesn't match a supported \"\n",
      "\u001b[2m\u001b[33m(raylet)\u001b[0m /home/fengjun.feng/miniconda3/envs/sf/lib/python3.8/site-packages/requests/__init__.py:102: RequestsDependencyWarning: urllib3 (1.26.9) or chardet (5.0.0)/charset_normalizer (2.0.12) doesn't match a supported version!\n",
      "\u001b[2m\u001b[33m(raylet)\u001b[0m   warnings.warn(\"urllib3 ({}) or chardet ({})/charset_normalizer ({}) doesn't match a supported \"\n",
      "\u001b[2m\u001b[33m(raylet)\u001b[0m /home/fengjun.feng/miniconda3/envs/sf/lib/python3.8/site-packages/requests/__init__.py:102: RequestsDependencyWarning: urllib3 (1.26.9) or chardet (5.0.0)/charset_normalizer (2.0.12) doesn't match a supported version!\n",
      "\u001b[2m\u001b[33m(raylet)\u001b[0m   warnings.warn(\"urllib3 ({}) or chardet ({})/charset_normalizer ({}) doesn't match a supported \"\n",
      "\u001b[2m\u001b[36m(_spu_compile pid=127950)\u001b[0m WARNING:absl:No GPU/TPU found, falling back to CPU. (Set TF_CPP_MIN_LOG_LEVEL=0 and rerun for more info.)\n",
      "\u001b[2m\u001b[36m(_run pid=127707)\u001b[0m WARNING:absl:No GPU/TPU found, falling back to CPU. (Set TF_CPP_MIN_LOG_LEVEL=0 and rerun for more info.)\n",
      "\u001b[2m\u001b[36m(_run pid=127705)\u001b[0m WARNING:absl:No GPU/TPU found, falling back to CPU. (Set TF_CPP_MIN_LOG_LEVEL=0 and rerun for more info.)\n",
      "\u001b[2m\u001b[36m(_run pid=127706)\u001b[0m WARNING:absl:No GPU/TPU found, falling back to CPU. (Set TF_CPP_MIN_LOG_LEVEL=0 and rerun for more info.)\n",
      "\u001b[2m\u001b[36m(_run pid=127954)\u001b[0m WARNING:absl:No GPU/TPU found, falling back to CPU. (Set TF_CPP_MIN_LOG_LEVEL=0 and rerun for more info.)\n",
      "\u001b[2m\u001b[36m(_run pid=127718)\u001b[0m WARNING:absl:No GPU/TPU found, falling back to CPU. (Set TF_CPP_MIN_LOG_LEVEL=0 and rerun for more info.)\n",
      "\u001b[2m\u001b[36m(_run pid=127951)\u001b[0m WARNING:absl:No GPU/TPU found, falling back to CPU. (Set TF_CPP_MIN_LOG_LEVEL=0 and rerun for more info.)\n"
     ]
    },
    {
     "name": "stdout",
     "output_type": "stream",
     "text": [
      "\u001b[2m\u001b[36m(_run pid=127951)\u001b[0m [2022-11-18 11:47:06.449] [info] [thread_pool.cc:30] Create a fixed thread pool with size 63\n",
      "\u001b[2m\u001b[36m(_spu_compile pid=127954)\u001b[0m /* error: missing value */\n",
      "\u001b[2m\u001b[36m(_spu_compile pid=127954)\u001b[0m {}:task_name:_run\n"
     ]
    },
    {
     "name": "stderr",
     "output_type": "stream",
     "text": [
      "\u001b[2m\u001b[33m(raylet)\u001b[0m /home/fengjun.feng/miniconda3/envs/sf/lib/python3.8/site-packages/requests/__init__.py:102: RequestsDependencyWarning: urllib3 (1.26.9) or chardet (5.0.0)/charset_normalizer (2.0.12) doesn't match a supported version!\n",
      "\u001b[2m\u001b[33m(raylet)\u001b[0m   warnings.warn(\"urllib3 ({}) or chardet ({})/charset_normalizer ({}) doesn't match a supported \"\n",
      "\u001b[2m\u001b[33m(raylet)\u001b[0m /home/fengjun.feng/miniconda3/envs/sf/lib/python3.8/site-packages/requests/__init__.py:102: RequestsDependencyWarning: urllib3 (1.26.9) or chardet (5.0.0)/charset_normalizer (2.0.12) doesn't match a supported version!\n",
      "\u001b[2m\u001b[33m(raylet)\u001b[0m   warnings.warn(\"urllib3 ({}) or chardet ({})/charset_normalizer ({}) doesn't match a supported \"\n",
      "\u001b[2m\u001b[33m(raylet)\u001b[0m /home/fengjun.feng/miniconda3/envs/sf/lib/python3.8/site-packages/requests/__init__.py:102: RequestsDependencyWarning: urllib3 (1.26.9) or chardet (5.0.0)/charset_normalizer (2.0.12) doesn't match a supported version!\n",
      "\u001b[2m\u001b[33m(raylet)\u001b[0m   warnings.warn(\"urllib3 ({}) or chardet ({})/charset_normalizer ({}) doesn't match a supported \"\n",
      "\u001b[2m\u001b[33m(raylet)\u001b[0m /home/fengjun.feng/miniconda3/envs/sf/lib/python3.8/site-packages/requests/__init__.py:102: RequestsDependencyWarning: urllib3 (1.26.9) or chardet (5.0.0)/charset_normalizer (2.0.12) doesn't match a supported version!\n",
      "\u001b[2m\u001b[33m(raylet)\u001b[0m   warnings.warn(\"urllib3 ({}) or chardet ({})/charset_normalizer ({}) doesn't match a supported \"\n",
      "\u001b[2m\u001b[33m(raylet)\u001b[0m /home/fengjun.feng/miniconda3/envs/sf/lib/python3.8/site-packages/requests/__init__.py:102: RequestsDependencyWarning: urllib3 (1.26.9) or chardet (5.0.0)/charset_normalizer (2.0.12) doesn't match a supported version!\n",
      "\u001b[2m\u001b[33m(raylet)\u001b[0m   warnings.warn(\"urllib3 ({}) or chardet ({})/charset_normalizer ({}) doesn't match a supported \"\n"
     ]
    },
    {
     "name": "stdout",
     "output_type": "stream",
     "text": [
      "\u001b[2m\u001b[1m\u001b[36m(scheduler +2m22s)\u001b[0m Tip: use `ray status` to view detailed cluster status. To disable these messages, set RAY_SCHEDULER_EVENTS=0.\n",
      "\u001b[2m\u001b[1m\u001b[33m(scheduler +2m22s)\u001b[0m Warning: The following resource request cannot be scheduled right now: {'bob': 1.0, 'CPU': 1.0}. This is likely due to all cluster resources being claimed by actors. Consider creating fewer actors or adding more nodes to this Ray cluster.\n",
      "\u001b[2m\u001b[1m\u001b[33m(scheduler +2m22s)\u001b[0m Warning: The following resource request cannot be scheduled right now: {'CPU': 1.0, 'alice': 1.0}. This is likely due to all cluster resources being claimed by actors. Consider creating fewer actors or adding more nodes to this Ray cluster.\n"
     ]
    },
    {
     "name": "stderr",
     "output_type": "stream",
     "text": [
      "\u001b[2m\u001b[33m(raylet)\u001b[0m /home/fengjun.feng/miniconda3/envs/sf/lib/python3.8/site-packages/requests/__init__.py:102: RequestsDependencyWarning: urllib3 (1.26.9) or chardet (5.0.0)/charset_normalizer (2.0.12) doesn't match a supported version!\n",
      "\u001b[2m\u001b[33m(raylet)\u001b[0m   warnings.warn(\"urllib3 ({}) or chardet ({})/charset_normalizer ({}) doesn't match a supported \"\n",
      "\u001b[2m\u001b[33m(raylet)\u001b[0m /home/fengjun.feng/miniconda3/envs/sf/lib/python3.8/site-packages/requests/__init__.py:102: RequestsDependencyWarning: urllib3 (1.26.9) or chardet (5.0.0)/charset_normalizer (2.0.12) doesn't match a supported version!\n",
      "\u001b[2m\u001b[33m(raylet)\u001b[0m   warnings.warn(\"urllib3 ({}) or chardet ({})/charset_normalizer ({}) doesn't match a supported \"\n",
      "\u001b[2m\u001b[33m(raylet)\u001b[0m /home/fengjun.feng/miniconda3/envs/sf/lib/python3.8/site-packages/requests/__init__.py:102: RequestsDependencyWarning: urllib3 (1.26.9) or chardet (5.0.0)/charset_normalizer (2.0.12) doesn't match a supported version!\n",
      "\u001b[2m\u001b[33m(raylet)\u001b[0m   warnings.warn(\"urllib3 ({}) or chardet ({})/charset_normalizer ({}) doesn't match a supported \"\n",
      "\u001b[2m\u001b[36m(_spu_compile pid=2682)\u001b[0m WARNING:absl:No GPU/TPU found, falling back to CPU. (Set TF_CPP_MIN_LOG_LEVEL=0 and rerun for more info.)\n",
      "\u001b[2m\u001b[36m(_run pid=2119)\u001b[0m WARNING:absl:No GPU/TPU found, falling back to CPU. (Set TF_CPP_MIN_LOG_LEVEL=0 and rerun for more info.)\n",
      "\u001b[2m\u001b[36m(_run pid=2121)\u001b[0m WARNING:absl:No GPU/TPU found, falling back to CPU. (Set TF_CPP_MIN_LOG_LEVEL=0 and rerun for more info.)\n",
      "\u001b[2m\u001b[36m(_run pid=2120)\u001b[0m WARNING:absl:No GPU/TPU found, falling back to CPU. (Set TF_CPP_MIN_LOG_LEVEL=0 and rerun for more info.)\n",
      "\u001b[2m\u001b[36m(_run pid=2775)\u001b[0m WARNING:absl:No GPU/TPU found, falling back to CPU. (Set TF_CPP_MIN_LOG_LEVEL=0 and rerun for more info.)\n",
      "\u001b[2m\u001b[36m(_run pid=2122)\u001b[0m WARNING:absl:No GPU/TPU found, falling back to CPU. (Set TF_CPP_MIN_LOG_LEVEL=0 and rerun for more info.)\n",
      "\u001b[2m\u001b[33m(raylet)\u001b[0m /home/fengjun.feng/miniconda3/envs/sf/lib/python3.8/site-packages/requests/__init__.py:102: RequestsDependencyWarning: urllib3 (1.26.9) or chardet (5.0.0)/charset_normalizer (2.0.12) doesn't match a supported version!\n",
      "\u001b[2m\u001b[33m(raylet)\u001b[0m   warnings.warn(\"urllib3 ({}) or chardet ({})/charset_normalizer ({}) doesn't match a supported \"\n",
      "\u001b[2m\u001b[33m(raylet)\u001b[0m /home/fengjun.feng/miniconda3/envs/sf/lib/python3.8/site-packages/requests/__init__.py:102: RequestsDependencyWarning: urllib3 (1.26.9) or chardet (5.0.0)/charset_normalizer (2.0.12) doesn't match a supported version!\n",
      "\u001b[2m\u001b[33m(raylet)\u001b[0m   warnings.warn(\"urllib3 ({}) or chardet ({})/charset_normalizer ({}) doesn't match a supported \"\n"
     ]
    }
   ],
   "source": [
    "from secretflow.ml.boost.ss_xgb_v import Xgb\n",
    "\n",
    "xgb = Xgb(spu)\n",
    "params = {\n",
    "    'num_boost_round': 3,\n",
    "    'max_depth': 5,\n",
    "    'sketch_eps': 0.25,\n",
    "    'objective': 'logistic',\n",
    "    'reg_lambda': 0.2,\n",
    "    'subsample': 1,\n",
    "    'colsample_bytree': 1,\n",
    "    'base_score': 0.5,\n",
    "}\n",
    "xgb_model = xgb.train(params=params, dtrain=train_x, label=train_y)\n"
   ]
  },
  {
   "cell_type": "markdown",
   "metadata": {},
   "source": [
    "Xgb.train将会直接执行，请耐心等待。"
   ]
  },
  {
   "cell_type": "markdown",
   "metadata": {},
   "source": [
    "#### 安全性讨论\n",
    "\n",
    "Xgb的训练基于SPU Device，双方的原始数据将会被保护。"
   ]
  },
  {
   "cell_type": "markdown",
   "metadata": {},
   "source": [
    "## 模型预测\n",
    "\n",
    "接下来，我们将会分别利用刚刚训练好的模型来预测测试集。"
   ]
  },
  {
   "cell_type": "markdown",
   "metadata": {},
   "source": [
    "### 逻辑回归模型\n",
    "\n",
    "由于在我们的场景下，数据集标签的持有者是bob，因此我们在这里将预测结果**reveal**给bob."
   ]
  },
  {
   "cell_type": "code",
   "execution_count": 25,
   "metadata": {},
   "outputs": [],
   "source": [
    "lr_y_hat = lr_model.predict(x=test_x, batch_size=1024, to_pyu=bob)"
   ]
  },
  {
   "cell_type": "markdown",
   "metadata": {},
   "source": [
    "#### 安全性讨论\n",
    "\n",
    "逻辑回归的预测基于SPU Device，双方的原始数据将会被保护。\n",
    "\n",
    "当设置**to_pyu**，预测结果将会被reveal给该方，否则将仍然保持秘密分享的状态。"
   ]
  },
  {
   "cell_type": "markdown",
   "metadata": {},
   "source": [
    "### XGBoost模型\n",
    "\n",
    "由于在我们的场景下，数据集标签的持有者是bob，因此我们在这里将预测结果**reveal**给bob."
   ]
  },
  {
   "cell_type": "code",
   "execution_count": 26,
   "metadata": {},
   "outputs": [
    {
     "name": "stderr",
     "output_type": "stream",
     "text": [
      "\u001b[2m\u001b[36m(_run pid=8610)\u001b[0m WARNING:absl:No GPU/TPU found, falling back to CPU. (Set TF_CPP_MIN_LOG_LEVEL=0 and rerun for more info.)\n",
      "\u001b[2m\u001b[36m(_run pid=8604)\u001b[0m WARNING:absl:No GPU/TPU found, falling back to CPU. (Set TF_CPP_MIN_LOG_LEVEL=0 and rerun for more info.)\n"
     ]
    },
    {
     "name": "stdout",
     "output_type": "stream",
     "text": [
      "\u001b[2m\u001b[36m(_run pid=8610)\u001b[0m [2022-11-18 11:47:57.073] [info] [thread_pool.cc:30] Create a fixed thread pool with size 63\n",
      "\u001b[2m\u001b[36m(_run pid=8604)\u001b[0m [2022-11-18 11:47:57.071] [info] [thread_pool.cc:30] Create a fixed thread pool with size 63\n"
     ]
    },
    {
     "name": "stderr",
     "output_type": "stream",
     "text": [
      "\u001b[2m\u001b[33m(raylet)\u001b[0m /home/fengjun.feng/miniconda3/envs/sf/lib/python3.8/site-packages/requests/__init__.py:102: RequestsDependencyWarning: urllib3 (1.26.9) or chardet (5.0.0)/charset_normalizer (2.0.12) doesn't match a supported version!\n",
      "\u001b[2m\u001b[33m(raylet)\u001b[0m   warnings.warn(\"urllib3 ({}) or chardet ({})/charset_normalizer ({}) doesn't match a supported \"\n",
      "\u001b[2m\u001b[33m(raylet)\u001b[0m /home/fengjun.feng/miniconda3/envs/sf/lib/python3.8/site-packages/requests/__init__.py:102: RequestsDependencyWarning: urllib3 (1.26.9) or chardet (5.0.0)/charset_normalizer (2.0.12) doesn't match a supported version!\n",
      "\u001b[2m\u001b[33m(raylet)\u001b[0m   warnings.warn(\"urllib3 ({}) or chardet ({})/charset_normalizer ({}) doesn't match a supported \"\n",
      "\u001b[2m\u001b[33m(raylet)\u001b[0m /home/fengjun.feng/miniconda3/envs/sf/lib/python3.8/site-packages/requests/__init__.py:102: RequestsDependencyWarning: urllib3 (1.26.9) or chardet (5.0.0)/charset_normalizer (2.0.12) doesn't match a supported version!\n",
      "\u001b[2m\u001b[33m(raylet)\u001b[0m   warnings.warn(\"urllib3 ({}) or chardet ({})/charset_normalizer ({}) doesn't match a supported \"\n",
      "\u001b[2m\u001b[36m(_run pid=9177)\u001b[0m WARNING:absl:No GPU/TPU found, falling back to CPU. (Set TF_CPP_MIN_LOG_LEVEL=0 and rerun for more info.)\n"
     ]
    },
    {
     "name": "stdout",
     "output_type": "stream",
     "text": [
      "\u001b[2m\u001b[36m(_run pid=9177)\u001b[0m [2022-11-18 11:47:59.395] [info] [thread_pool.cc:30] Create a fixed thread pool with size 63\n"
     ]
    }
   ],
   "source": [
    "xgb_y_hat = xgb_model.predict(dtrain=test_x, to_pyu=bob)\n"
   ]
  },
  {
   "cell_type": "markdown",
   "metadata": {},
   "source": [
    "#### 安全性讨论\n",
    "\n",
    "XGBoost模型的预测基于SPU Device，双方的原始数据将会被保护。\n",
    "\n",
    "当设置**to_pyu**，预测结果将会被reveal给该方，否则将仍然保持秘密分享的状态。"
   ]
  },
  {
   "cell_type": "markdown",
   "metadata": {},
   "source": [
    "## 模型评估\n",
    "\n",
    "接下来，我们将利用测试数据集对模型效果进行评估，包括：\n",
    "\n",
    "- 二分类评估\n",
    "- PVA\n",
    "- P-Value\n",
    "- 评分卡转换"
   ]
  },
  {
   "cell_type": "markdown",
   "metadata": {},
   "source": [
    "### 二分类评估\n",
    "\n",
    "隐语中对二分类的评估有集成的支持。\n",
    "\n",
    "`BiClassificationEval` 将计算 `AUC`, `KS`, `F1 Score`, `Lift`, `K-S`, `Gain`, `Precision`, `Recall` 等统计数值， 并提供（基于prediction score的）等频和等距分箱的统计报告和总报告。\n",
    "\n",
    "不同分桶中评估模型的预测的`threshold`不同。总报告中依赖`threshold`的统计取的是各个分桶的最佳值。\n",
    "\n",
    "详情可以参考API文档。"
   ]
  },
  {
   "cell_type": "code",
   "execution_count": 27,
   "metadata": {},
   "outputs": [],
   "source": [
    "from secretflow.stats.biclassification_eval import BiClassificationEval\n",
    "\n",
    "biclassification_evaluator = BiClassificationEval(\n",
    "    y_true=test_y, y_score=lr_y_hat, bucket_size=20\n",
    ")\n",
    "lr_report = sf.reveal(biclassification_evaluator.get_all_reports())\n"
   ]
  },
  {
   "cell_type": "code",
   "execution_count": 28,
   "metadata": {},
   "outputs": [
    {
     "name": "stdout",
     "output_type": "stream",
     "text": [
      "positive_samples: 802.0\n",
      "negative_samples: 6526.0\n",
      "total_samples: 7328.0\n",
      "auc: 0.8937802314758301\n",
      "ks: 0.6474749445915222\n",
      "f1_score: 0.5240405797958374\n"
     ]
    }
   ],
   "source": [
    "print(f'positive_samples: {lr_report.summary_report.positive_samples}')\n",
    "print(f'negative_samples: {lr_report.summary_report.negative_samples}')\n",
    "print(f'total_samples: {lr_report.summary_report.total_samples}')\n",
    "print(f'auc: {lr_report.summary_report.auc}')\n",
    "print(f'ks: {lr_report.summary_report.ks}')\n",
    "print(f'f1_score: {lr_report.summary_report.f1_score}')\n"
   ]
  },
  {
   "cell_type": "code",
   "execution_count": 29,
   "metadata": {},
   "outputs": [],
   "source": [
    "biclassification_evaluator = BiClassificationEval(\n",
    "    y_true=test_y, y_score=xgb_y_hat, bucket_size=20\n",
    ")\n",
    "xgb_report = sf.reveal(biclassification_evaluator.get_all_reports())\n"
   ]
  },
  {
   "cell_type": "code",
   "execution_count": 30,
   "metadata": {},
   "outputs": [
    {
     "name": "stdout",
     "output_type": "stream",
     "text": [
      "positive_samples: 802.0\n",
      "negative_samples: 6526.0\n",
      "total_samples: 7328.0\n",
      "auc: 0.8860154151916504\n",
      "ks: 0.6287506818771362\n",
      "f1_score: 0.5218542814254761\n"
     ]
    }
   ],
   "source": [
    "print(f'positive_samples: {xgb_report.summary_report.positive_samples}')\n",
    "print(f'negative_samples: {xgb_report.summary_report.negative_samples}')\n",
    "print(f'total_samples: {xgb_report.summary_report.total_samples}')\n",
    "print(f'auc: {xgb_report.summary_report.auc}')\n",
    "print(f'ks: {xgb_report.summary_report.ks}')\n",
    "print(f'f1_score: {xgb_report.summary_report.f1_score}')\n"
   ]
  },
  {
   "cell_type": "markdown",
   "metadata": {},
   "source": [
    "### PVA (预测和实际平均值比较)\n",
    "\n",
    "结果由`abs(mean(Acutal) - mean(Prediction))`计算获得, 值越小越好。"
   ]
  },
  {
   "cell_type": "code",
   "execution_count": 31,
   "metadata": {},
   "outputs": [
    {
     "data": {
      "text/plain": [
       "DeviceArray(0.058, dtype=float32)"
      ]
     },
     "execution_count": 31,
     "metadata": {},
     "output_type": "execute_result"
    }
   ],
   "source": [
    "from secretflow.stats import pva_eval\n",
    "\n",
    "lr_pva_score = pva_eval(test_y, lr_y_hat, 1)\n",
    "\n",
    "sf.reveal(lr_pva_score)\n"
   ]
  },
  {
   "cell_type": "code",
   "execution_count": 32,
   "metadata": {},
   "outputs": [
    {
     "data": {
      "text/plain": [
       "DeviceArray(0.076, dtype=float32)"
      ]
     },
     "execution_count": 32,
     "metadata": {},
     "output_type": "execute_result"
    }
   ],
   "source": [
    "xgb_pva_score = pva_eval(test_y, xgb_y_hat, 1)\n",
    "\n",
    "sf.reveal(xgb_pva_score)\n"
   ]
  },
  {
   "cell_type": "markdown",
   "metadata": {},
   "source": [
    "### P-Value\n",
    "双方可通过p-value的值来判断参数是否显著，即该自变量是否可以有效预测因变量的变异, 从而判定对应的解释变量是否应包括在模型中。\n"
   ]
  },
  {
   "cell_type": "code",
   "execution_count": 33,
   "metadata": {},
   "outputs": [
    {
     "name": "stderr",
     "output_type": "stream",
     "text": [
      "\u001b[2m\u001b[33m(raylet)\u001b[0m /home/fengjun.feng/miniconda3/envs/sf/lib/python3.8/site-packages/requests/__init__.py:102: RequestsDependencyWarning: urllib3 (1.26.9) or chardet (5.0.0)/charset_normalizer (2.0.12) doesn't match a supported version!\n",
      "\u001b[2m\u001b[33m(raylet)\u001b[0m   warnings.warn(\"urllib3 ({}) or chardet ({})/charset_normalizer ({}) doesn't match a supported \"\n",
      "\u001b[2m\u001b[33m(raylet)\u001b[0m /home/fengjun.feng/miniconda3/envs/sf/lib/python3.8/site-packages/requests/__init__.py:102: RequestsDependencyWarning: urllib3 (1.26.9) or chardet (5.0.0)/charset_normalizer (2.0.12) doesn't match a supported version!\n",
      "\u001b[2m\u001b[33m(raylet)\u001b[0m   warnings.warn(\"urllib3 ({}) or chardet ({})/charset_normalizer ({}) doesn't match a supported \"\n",
      "\u001b[2m\u001b[36m(_run pid=19761)\u001b[0m WARNING:absl:No GPU/TPU found, falling back to CPU. (Set TF_CPP_MIN_LOG_LEVEL=0 and rerun for more info.)\n",
      "\u001b[2m\u001b[36m(_run pid=19762)\u001b[0m WARNING:absl:No GPU/TPU found, falling back to CPU. (Set TF_CPP_MIN_LOG_LEVEL=0 and rerun for more info.)\n"
     ]
    },
    {
     "name": "stdout",
     "output_type": "stream",
     "text": [
      "\u001b[2m\u001b[36m(_run pid=19761)\u001b[0m [2022-11-18 11:49:22.943] [info] [thread_pool.cc:30] Create a fixed thread pool with size 63\n",
      "\u001b[2m\u001b[36m(_run pid=19762)\u001b[0m [2022-11-18 11:49:23.059] [info] [thread_pool.cc:30] Create a fixed thread pool with size 63\n"
     ]
    },
    {
     "data": {
      "text/plain": [
       "array([0.000, 0.604, 0.815, 0.753, 0.981, 0.985, 0.975, 0.956, 0.996,\n",
       "       0.754, 0.959, 0.985, 0.978, 0.972, 0.972, 0.837, 0.841, 0.983,\n",
       "       0.851, 0.973, 0.993, 0.984, 0.989, 0.988, 0.988, 0.967, 0.991,\n",
       "       0.995, 0.948, 0.989, 0.979, 0.974, 0.999, 0.979, 0.991, 0.966,\n",
       "       0.999, 0.969, 0.974, 0.996, 0.989, 0.970, 0.991, 0.973, 0.994,\n",
       "       0.966, 0.999, 0.980, 0.955, 0.992, 0.977, 0.990, 0.822, 0.978,\n",
       "       0.762, 0.361, 0.783, 0.489, 0.009, 0.114, 0.998, 0.987, 0.976,\n",
       "       0.988, 0.993, 0.968, 0.996, 0.994, 0.925, 0.996, 0.996, 0.999,\n",
       "       0.998, 0.990, 0.988, 0.000])"
      ]
     },
     "execution_count": 33,
     "metadata": {},
     "output_type": "execute_result"
    }
   ],
   "source": [
    "from secretflow.stats import SSPValue\n",
    "\n",
    "model = lr_model.save_model()\n",
    "sspv = SSPValue(spu)\n",
    "pvalues = sspv.pvalues(test_x, test_y, model)\n",
    "\n",
    "pvalues"
   ]
  },
  {
   "cell_type": "markdown",
   "metadata": {},
   "source": [
    "### 评分卡转换\n",
    "\n",
    "> 严格来说，评分卡转化是对预测结果的后续处理，并不属于模型评估。\n",
    "\n",
    "\n",
    "我们将 `y = 1` 的概率设为`p`， `odds = p / (1 - p)`, 评分卡设定的分值刻度可以通过将分值表示为比率对数的线性表达式来定义，即可表示为下式：\n",
    "\n",
    "`Score = A - B log(odds)`， A 和 B 是可以设定的常数。隐语中提供了评分卡转换功能，详情可以参考API文档。"
   ]
  },
  {
   "cell_type": "code",
   "execution_count": 34,
   "metadata": {},
   "outputs": [
    {
     "data": {
      "text/plain": [
       "array([[452.095],\n",
       "       [514.442],\n",
       "       [499.259],\n",
       "       ...,\n",
       "       [470.005],\n",
       "       [452.095],\n",
       "       [515.080]])"
      ]
     },
     "execution_count": 34,
     "metadata": {},
     "output_type": "execute_result"
    }
   ],
   "source": [
    "from secretflow.stats import BiClassificationEval, ScoreCard\n",
    "\n",
    "sc = ScoreCard(20, 600, 20)\n",
    "score = sc.transform(xgb_y_hat)\n",
    "\n",
    "sf.reveal(score.partitions[bob])\n"
   ]
  },
  {
   "cell_type": "markdown",
   "metadata": {},
   "source": [
    "### 安全性讨论\n",
    "\n",
    "以上所有模型评估的方法均为单方运算，由label拥有者的PYU Device进行运算。"
   ]
  },
  {
   "cell_type": "markdown",
   "metadata": {},
   "source": [
    "## 实验结束\n",
    "\n",
    "最后，我们需要清理临时文件，并关闭隐语cluster。"
   ]
  },
  {
   "cell_type": "code",
   "execution_count": 35,
   "metadata": {},
   "outputs": [],
   "source": [
    "import os\n",
    "\n",
    "try:\n",
    "    os.remove(alice_path)\n",
    "    os.remove(alice_psi_path)\n",
    "    os.remove(bob_path)\n",
    "    os.remove(bob_psi_path)\n",
    "except OSError:\n",
    "    pass\n",
    "\n",
    "sf.shutdown()"
   ]
  },
  {
   "cell_type": "markdown",
   "metadata": {},
   "source": [
    "恭喜！你已经完成了隐语金融风控全链路的全部实验内容。\n",
    "\n",
    "如果你对本实验有任何建议和问题，请在[Github Issues](https://github.com/secretflow/secretflow/issues)上联系我们。"
   ]
  }
 ],
 "metadata": {
  "kernelspec": {
   "display_name": "Python 3 (ipykernel)",
   "language": "python",
   "name": "python3"
  },
  "language_info": {
   "codemirror_mode": {
    "name": "ipython",
    "version": 3
   },
   "file_extension": ".py",
   "mimetype": "text/x-python",
   "name": "python",
   "nbconvert_exporter": "python",
   "pygments_lexer": "ipython3",
   "version": "3.8.13"
  },
  "vscode": {
   "interpreter": {
    "hash": "02db3bab010a384e41503da74327ad4dd04080832919be62bcff46931ddfd4bc"
   }
  }
 },
 "nbformat": 4,
 "nbformat_minor": 2
}
