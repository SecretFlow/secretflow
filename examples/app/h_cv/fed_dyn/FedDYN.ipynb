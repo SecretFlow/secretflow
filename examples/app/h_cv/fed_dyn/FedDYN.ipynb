{
 "cells": [
  {
   "cell_type": "code",
   "execution_count": 1,
   "id": "initial_id",
   "metadata": {
    "ExecuteTime": {
     "end_time": "2024-02-22T04:25:20.331773Z",
     "start_time": "2024-02-22T04:25:20.330773800Z"
    },
    "collapsed": true
   },
   "outputs": [],
   "source": [
    "%load_ext autoreload\n",
    "%autoreload 2"
   ]
  },
  {
   "cell_type": "code",
   "execution_count": 9,
   "id": "a8d7112513230b37",
   "metadata": {
    "ExecuteTime": {
     "end_time": "2024-01-18T03:17:41.993229800Z",
     "start_time": "2024-01-18T03:17:37.326101600Z"
    },
    "collapsed": false
   },
   "outputs": [
    {
     "name": "stdout",
     "output_type": "stream",
     "text": [
      "The version of SecretFlow: 1.3.0.dev20231219\n"
     ]
    },
    {
     "name": "stderr",
     "output_type": "stream",
     "text": [
      "2024-01-18 11:17:41,820\tINFO worker.py:1538 -- Started a local Ray instance.\n"
     ]
    }
   ],
   "source": [
    "import secretflow as sf\n",
    "\n",
    "# Check the version of your SecretFlow\n",
    "print(\"The version of SecretFlow: {}\".format(sf.__version__))\n",
    "\n",
    "# In case you have a running secretflow runtime already.\n",
    "sf.shutdown()\n",
    "\n",
    "sf.init([\"alice\", \"bob\", \"charlie\"], address=\"local\")\n",
    "alice, bob, charlie = sf.PYU(\"alice\"), sf.PYU(\"bob\"), sf.PYU(\"charlie\")"
   ]
  },
  {
   "cell_type": "code",
   "execution_count": 10,
   "id": "3648cba75ddcff80",
   "metadata": {
    "ExecuteTime": {
     "end_time": "2024-01-18T03:17:42.025530200Z",
     "start_time": "2024-01-18T03:17:41.994230300Z"
    },
    "collapsed": false
   },
   "outputs": [],
   "source": [
    "from secretflow.ml.nn.utils import BaseModule, TorchModel\n",
    "from secretflow.ml.nn.fl.utils import metric_wrapper, optim_wrapper\n",
    "from secretflow.ml.nn import FLModel\n",
    "from torchmetrics import Accuracy, Precision\n",
    "from secretflow.security.aggregation import SecureAggregator\n",
    "from torch import nn, optim"
   ]
  },
  {
   "cell_type": "markdown",
   "id": "24dcff056a5011ed",
   "metadata": {
    "collapsed": false
   },
   "source": [
    "使用的数据集： MNIST, CIFAR-10, CIFAR-100, EMNIST子集： EMNIST-L\n",
    "使用的模型： 对 MNIST 和 EMNIST-L 使用具有 2 个隐藏层的全连接神经网络架构。 各层神经元数量分别为200和100；MNIST和EMNIST-L模型的测试准确率分别达到98.4%和95.0%。对于 CIFAR-10 和 CIFAR-100，我们使用 CNN 模型，由 2 个带有 64 个 5 × 5 滤波器的卷积层组成，后跟 2 个带有 394 和 192 个神经元的全连接层，以及一个 softmax 层。该模型对CIFAR-10和CIFAR-100的测试精度分别为85.2%和55.3%。\n",
    "下面使用的模型与原文模型略有不同，结果也略有不同。"
   ]
  },
  {
   "cell_type": "code",
   "execution_count": 11,
   "id": "42fc5961e4a71f8e",
   "metadata": {
    "ExecuteTime": {
     "end_time": "2024-01-18T03:17:42.070902300Z",
     "start_time": "2024-01-18T03:17:42.028529900Z"
    },
    "collapsed": false
   },
   "outputs": [],
   "source": [
    "class MNIST_Model(BaseModule):\n",
    "    def __init__(self):\n",
    "        super(MNIST_Model, self).__init__()\n",
    "        self.encoder = nn.Sequential(\n",
    "            nn.Flatten(1),\n",
    "            nn.Linear(784, 200),\n",
    "            nn.ReLU(),\n",
    "            nn.Linear(200, 100),\n",
    "            nn.ReLU(),\n",
    "        )\n",
    "        self.head = nn.Linear(100, 10)\n",
    "\n",
    "    def forward(self, x):\n",
    "        x = self.encoder(x)\n",
    "        x = self.head(x)\n",
    "        return x\n",
    "\n",
    "\n",
    "class EMNISTL_Model(BaseModule):\n",
    "    def __init__(self):\n",
    "        super(EMNISTL_Model, self).__init__()\n",
    "        self.encoder = nn.Sequential(\n",
    "            nn.Flatten(1),\n",
    "            nn.Linear(784, 200),\n",
    "            nn.ReLU(),\n",
    "            nn.Linear(200, 100),\n",
    "            nn.ReLU(),\n",
    "        )\n",
    "        self.head = nn.Linear(100, 26)\n",
    "\n",
    "    def forward(self, x):\n",
    "        x = self.encoder(x)\n",
    "        x = self.head(x)\n",
    "        return x"
   ]
  },
  {
   "cell_type": "code",
   "execution_count": 12,
   "id": "567ca2eef485ecd4",
   "metadata": {
    "ExecuteTime": {
     "end_time": "2024-01-18T03:17:42.115173700Z",
     "start_time": "2024-01-18T03:17:42.070902300Z"
    },
    "collapsed": false
   },
   "outputs": [],
   "source": [
    "from typing import Dict, List, Tuple, Union\n",
    "import numpy as np\n",
    "\n",
    "from secretflow.data.ndarray import FedNdarray, PartitionWay\n",
    "from secretflow.device.device.pyu import PYU\n",
    "\n",
    "\n",
    "def _convert_to_fedndarray(\n",
    "    dataloader, parts, is_torch, num_classes_per_client, class_num\n",
    "):\n",
    "    data_list = []\n",
    "    label_list = []\n",
    "    for data, label in dataloader:\n",
    "        if is_torch:\n",
    "            data = data.numpy()\n",
    "            label = label.numpy()\n",
    "        data_list.append(data)\n",
    "        label_list.append(label)\n",
    "    data_list, label_list = np.concatenate(data_list), np.concatenate(label_list)\n",
    "    return create_ndarray(\n",
    "        data_list,\n",
    "        label_list,\n",
    "        parts=parts,\n",
    "        is_torch=is_torch,\n",
    "        num_classes_per_client=num_classes_per_client,\n",
    "        class_num=class_num,\n",
    "    )\n",
    "\n",
    "\n",
    "def create_ndarray(\n",
    "    data, labels, parts, is_torch=False, num_classes_per_client=4, class_num=10\n",
    "):  # class_num 为数据集的分类类别数\n",
    "    assert len(data) == len(labels), \"Data and labels must have the same length\"\n",
    "    class_indices = {\n",
    "        i: np.where(labels == i + min(labels))[0] for i in range(class_num)\n",
    "    }\n",
    "    # 分配给每个 PYU 的类别\n",
    "    pyu_classes = {}\n",
    "    total_samples = len(data)\n",
    "    for idx, pyu in enumerate(parts.keys()):\n",
    "        np.random.seed(idx)\n",
    "        pyu_classes[pyu] = np.random.choice(\n",
    "            class_num, num_classes_per_client, replace=False\n",
    "        )\n",
    "\n",
    "    # 分配数据和标签给每个 PYU\n",
    "    pyu_data = {}\n",
    "    pyu_labels = {}\n",
    "    for pyu, proportion in parts.items():\n",
    "        pyu_sample_size = int(total_samples * proportion)  # 计算每个 PYU 的样本量\n",
    "        # 为每个 PYU 从选定的类别中采样数据\n",
    "        indices = np.concatenate(\n",
    "            [\n",
    "                np.random.choice(\n",
    "                    class_indices[cls],\n",
    "                    size=pyu_sample_size // num_classes_per_client,\n",
    "                    replace=True,\n",
    "                )\n",
    "                for cls in pyu_classes[pyu]\n",
    "            ]\n",
    "        )\n",
    "        np.random.shuffle(indices)  # 打乱索引\n",
    "        pyu_data[pyu] = data[indices]\n",
    "        pyu_labels[pyu] = labels[indices]\n",
    "        print(\n",
    "            len(pyu_data[pyu]), pyu_classes[pyu], pyu_labels[pyu][0]\n",
    "        )  # 打印每个PYU的数据量和随机类别\n",
    "\n",
    "    # 将数据和标签转换为 FedNdarray\n",
    "    data_fedndarray = FedNdarray(\n",
    "        partitions={pyu: pyu(lambda arr: arr)(pyu_data[pyu]) for pyu in parts.keys()},\n",
    "        partition_way=PartitionWay.HORIZONTAL,\n",
    "    )\n",
    "    labels_fedndarray = FedNdarray(\n",
    "        partitions={pyu: pyu(lambda arr: arr)(pyu_labels[pyu]) for pyu in parts.keys()},\n",
    "        partition_way=PartitionWay.HORIZONTAL,\n",
    "    )\n",
    "\n",
    "    return data_fedndarray, labels_fedndarray"
   ]
  },
  {
   "cell_type": "code",
   "execution_count": 13,
   "id": "ba8836e026afa59f",
   "metadata": {
    "ExecuteTime": {
     "end_time": "2024-01-18T03:17:42.158197200Z",
     "start_time": "2024-01-18T03:17:42.115173700Z"
    },
    "collapsed": false
   },
   "outputs": [],
   "source": [
    "from torchvision.datasets import MNIST, EMNIST, CIFAR10, CIFAR100\n",
    "from torchvision import transforms\n",
    "from torch.utils.data import DataLoader\n",
    "\n",
    "\n",
    "def load_mnist(  # 共有 70000 张， 10 类，60000个训练样本和10000个测试样本\n",
    "    parts: Union[List[PYU], Dict[PYU, Union[float, Tuple]]],\n",
    "    batch_size: int = 1,\n",
    "    is_torch: bool = True,\n",
    "    num_classes_per_client=4,\n",
    "    class_num=10,\n",
    ") -> Tuple[Tuple[FedNdarray, FedNdarray], Tuple[FedNdarray, FedNdarray]]:\n",
    "    \"\"\"Load MNIST dataset to federated ndarrays.\n",
    "\n",
    "    Args:\n",
    "        parts: the data partitions.\n",
    "        batch_size: Batch size for the DataLoader.\n",
    "        is_torch: optional, return torch tensors if True. Default to True.\n",
    "        num_classes_per_client: the random classes number of per client.\n",
    "        class_num: the number of dataset categories\n",
    "\n",
    "    Returns:\n",
    "        A tuple consists of two tuples, (x_train, y_train) and (x_test, y_test).\n",
    "    \"\"\"\n",
    "    transform = transforms.Compose(\n",
    "        [transforms.ToTensor(), transforms.Normalize((0.5,), (0.5,))]\n",
    "    )\n",
    "\n",
    "    # 加载 EMNIST 训练集和测试集\n",
    "    trainset = MNIST(root=\"./data\", train=True, download=True, transform=transform)\n",
    "    testset = MNIST(root=\"./data\", train=False, download=True, transform=transform)\n",
    "    # EMNIST 数据集主要分为6类：By_Class, By_Merge, Balanced, Digits, Letters, MNIST，其中 MNIST 部分数据较少，共70000张10个子类数据\n",
    "    # 这里使用的是 EMNIST 数据集中的MNIST部分，原论文未对数据集细节进行描述，大概率是使用的整个EMNIST数据集，因此准确率会较低\n",
    "\n",
    "    # 使用 DataLoader 进行批处理\n",
    "    trainloader = DataLoader(trainset, batch_size=batch_size, shuffle=True)\n",
    "    testloader = DataLoader(testset, batch_size=batch_size, shuffle=False)\n",
    "\n",
    "    # 将 DataLoader 转换为 SecretFlow 可处理的格式\n",
    "    # 注意: 这里需要根据 SecretFlow 的要求进行适当的转换\n",
    "    train_data, train_labels = _convert_to_fedndarray(\n",
    "        trainloader, parts, is_torch, num_classes_per_client, class_num\n",
    "    )\n",
    "    test_data, test_labels = _convert_to_fedndarray(\n",
    "        testloader, parts, is_torch, num_classes_per_client, class_num\n",
    "    )\n",
    "\n",
    "    return ((train_data, train_labels), (test_data, test_labels))\n",
    "\n",
    "\n",
    "def load_emnist_L(  # 共 103600 张，37 类，每一类包含相同数据，每一类训练集 2400 张，测试集 400 张\n",
    "    parts: Union[List[PYU], Dict[PYU, Union[float, Tuple]]],\n",
    "    batch_size: int = 1,\n",
    "    is_torch: bool = True,\n",
    "    num_classes_per_client=4,\n",
    "    class_num=26,\n",
    ") -> Tuple[Tuple[FedNdarray, FedNdarray], Tuple[FedNdarray, FedNdarray]]:\n",
    "    \"\"\"Load EMNIST dataset to federated ndarrays.\n",
    "\n",
    "    Args:\n",
    "        parts: the data partitions.\n",
    "        batch_size: Batch size for the DataLoader.\n",
    "        is_torch: optional, return torch tensors if True. Default to True.\n",
    "        num_classes_per_client: the random classes number of per client.\n",
    "        class_num: the number of dataset categories\n",
    "\n",
    "    Returns:\n",
    "        A tuple consists of two tuples, (x_train, y_train) and (x_test, y_test).\n",
    "    \"\"\"\n",
    "    transform = transforms.Compose(\n",
    "        [transforms.ToTensor(), transforms.Normalize((0.5,), (0.5,))]\n",
    "    )\n",
    "\n",
    "    # 加载 EMNIST 训练集和测试集\n",
    "    trainset = EMNIST(\n",
    "        root=\"./data\", train=True, split=\"letters\", download=True, transform=transform\n",
    "    )\n",
    "    testset = EMNIST(\n",
    "        root=\"./data\", train=False, split=\"letters\", download=True, transform=transform\n",
    "    )\n",
    "    # EMNIST 数据集主要分为6类：By_Class, By_Merge, Balanced, Digits, Letters, MNIST\n",
    "\n",
    "    # 使用 DataLoader 进行批处理\n",
    "    trainloader = DataLoader(trainset, batch_size=batch_size, shuffle=True)\n",
    "    testloader = DataLoader(testset, batch_size=batch_size, shuffle=False)\n",
    "\n",
    "    # 将 DataLoader 转换为 SecretFlow 可处理的格式\n",
    "    # 注意: 这里需要根据 SecretFlow 的要求进行适当的转换\n",
    "    train_data, train_labels = _convert_to_fedndarray(\n",
    "        trainloader, parts, is_torch, num_classes_per_client, class_num\n",
    "    )\n",
    "    test_data, test_labels = _convert_to_fedndarray(\n",
    "        testloader, parts, is_torch, num_classes_per_client, class_num\n",
    "    )\n",
    "\n",
    "    return ((train_data, train_labels), (test_data, test_labels))"
   ]
  },
  {
   "cell_type": "markdown",
   "id": "ee5597c525f42f64",
   "metadata": {
    "collapsed": false
   },
   "source": [
    "## 在这里修改要使用的数据集"
   ]
  },
  {
   "cell_type": "code",
   "execution_count": 14,
   "id": "c46f47fb8f4bec30",
   "metadata": {
    "ExecuteTime": {
     "end_time": "2024-01-18T03:19:06.229815300Z",
     "start_time": "2024-01-18T03:17:42.158197200Z"
    },
    "collapsed": false
   },
   "outputs": [
    {
     "name": "stdout",
     "output_type": "stream",
     "text": [
      "Downloading https://www.itl.nist.gov/iaui/vip/cs_links/EMNIST/gzip.zip to ./data/EMNIST/raw/gzip.zip\n"
     ]
    },
    {
     "name": "stderr",
     "output_type": "stream",
     "text": [
      "100%|██████████| 561753746/561753746 [00:48<00:00, 11654922.20it/s]\n"
     ]
    },
    {
     "name": "stdout",
     "output_type": "stream",
     "text": [
      "Extracting ./data/EMNIST/raw/gzip.zip to ./data/EMNIST/raw\n",
      "12480 [ 2 20 14 17] 18\n",
      "12480 [18 13 17  3] 4\n",
      "2080 [ 2 20 14 17] 21\n",
      "2080 [18 13 17  3] 18\n"
     ]
    }
   ],
   "source": [
    "load_data = {0: load_mnist, 1: load_emnist_L}\n",
    "model = {0: MNIST_Model, 1: EMNISTL_Model}\n",
    "num_classes = {0: 10, 1: 26, 2: 10, 3: 100}\n",
    "# i = 0 # 使用 MNIST\n",
    "i = 1  # 使用 EMNIST-L\n",
    "(train_data, train_label), (test_data, test_label) = load_data[i](\n",
    "    parts={alice: 0.1, bob: 0.1},\n",
    "    is_torch=True,\n",
    ")"
   ]
  },
  {
   "cell_type": "code",
   "execution_count": 15,
   "id": "3822c10a43b49ea",
   "metadata": {
    "ExecuteTime": {
     "end_time": "2024-01-18T03:19:07.145403300Z",
     "start_time": "2024-01-18T03:19:06.229815300Z"
    },
    "collapsed": false
   },
   "outputs": [
    {
     "name": "stderr",
     "output_type": "stream",
     "text": [
      "INFO:root:Create proxy actor <class 'secretflow.security.aggregation.secure_aggregator._Masker'> with party alice.\n",
      "INFO:root:Create proxy actor <class 'secretflow.security.aggregation.secure_aggregator._Masker'> with party bob.\n"
     ]
    }
   ],
   "source": [
    "loss_fn = nn.CrossEntropyLoss\n",
    "optim_fn = optim_wrapper(optim.SGD, lr=0.01)\n",
    "model_def = TorchModel(\n",
    "    model_fn=model[i],\n",
    "    loss_fn=loss_fn,\n",
    "    optim_fn=optim_fn,\n",
    "    metrics=[\n",
    "        metric_wrapper(\n",
    "            Accuracy, task=\"multiclass\", num_classes=num_classes[i], average=\"micro\"\n",
    "        ),\n",
    "        metric_wrapper(\n",
    "            Precision, task=\"multiclass\", num_classes=num_classes[i], average=\"micro\"\n",
    "        ),\n",
    "    ],\n",
    ")\n",
    "device_list = [alice, bob]\n",
    "server = charlie\n",
    "aggregator = SecureAggregator(server, [alice, bob])"
   ]
  },
  {
   "cell_type": "code",
   "execution_count": 16,
   "id": "f420ce80c650070e",
   "metadata": {
    "ExecuteTime": {
     "end_time": "2024-01-18T03:19:36.531700300Z",
     "start_time": "2024-01-18T03:19:07.147733600Z"
    },
    "collapsed": false
   },
   "outputs": [
    {
     "name": "stderr",
     "output_type": "stream",
     "text": [
      "INFO:root:Create proxy actor <class 'secretflow.ml.nn.fl.backend.torch.strategy.fed_dyn.PYUFedDYN'> with party alice.\n",
      "INFO:root:Create proxy actor <class 'secretflow.ml.nn.fl.backend.torch.strategy.fed_dyn.PYUFedDYN'> with party bob.\n",
      "INFO:root:FL Train Params: {'x': FedNdarray(partitions={PYURuntime(alice): <secretflow.device.device.pyu.PYUObject object at 0x7f2654319580>, PYURuntime(bob): <secretflow.device.device.pyu.PYUObject object at 0x7f26542f1b80>}, partition_way=<PartitionWay.HORIZONTAL: 'horizontal'>), 'y': FedNdarray(partitions={PYURuntime(alice): <secretflow.device.device.pyu.PYUObject object at 0x7f26540cb940>, PYURuntime(bob): <secretflow.device.device.pyu.PYUObject object at 0x7f26542fcc70>}, partition_way=<PartitionWay.HORIZONTAL: 'horizontal'>), 'batch_size': 128, 'batch_sampling_rate': None, 'epochs': 20, 'verbose': 1, 'callbacks': None, 'validation_data': (FedNdarray(partitions={PYURuntime(alice): <secretflow.device.device.pyu.PYUObject object at 0x7f29d8402610>, PYURuntime(bob): <secretflow.device.device.pyu.PYUObject object at 0x7f26540cbb20>}, partition_way=<PartitionWay.HORIZONTAL: 'horizontal'>), FedNdarray(partitions={PYURuntime(alice): <secretflow.device.device.pyu.PYUObject object at 0x7f26540cbaf0>, PYURuntime(bob): <secretflow.device.device.pyu.PYUObject object at 0x7f26540cb370>}, partition_way=<PartitionWay.HORIZONTAL: 'horizontal'>)), 'shuffle': False, 'class_weight': None, 'sample_weight': None, 'validation_freq': 1, 'aggregate_freq': 10, 'label_decoder': None, 'max_batch_size': 20000, 'prefetch_buffer_size': None, 'sampler_method': 'batch', 'random_seed': 6217, 'dp_spent_step_freq': None, 'audit_log_dir': None, 'dataset_builder': None, 'wait_steps': 100, 'self': <secretflow.ml.nn.fl.fl_model.FLModel object at 0x7f265409c0a0>}\n",
      "\u001b[2m\u001b[36m(pid=26127)\u001b[0m 2024-01-18 11:19:08.734609: W tensorflow/compiler/xla/stream_executor/platform/default/dso_loader.cc:64] Could not load dynamic library 'libcudart.so.11.0'; dlerror: libcudart.so.11.0: cannot open shared object file: No such file or directory\n",
      "\u001b[2m\u001b[36m(pid=26129)\u001b[0m 2024-01-18 11:19:08.800407: W tensorflow/compiler/xla/stream_executor/platform/default/dso_loader.cc:64] Could not load dynamic library 'libcudart.so.11.0'; dlerror: libcudart.so.11.0: cannot open shared object file: No such file or directory\n",
      "\u001b[2m\u001b[36m(pid=26127)\u001b[0m 2024-01-18 11:19:09.182548: W tensorflow/compiler/xla/stream_executor/platform/default/dso_loader.cc:64] Could not load dynamic library 'libnvinfer.so.7'; dlerror: libnvinfer.so.7: cannot open shared object file: No such file or directory\n",
      "\u001b[2m\u001b[36m(pid=26127)\u001b[0m 2024-01-18 11:19:09.182601: W tensorflow/compiler/xla/stream_executor/platform/default/dso_loader.cc:64] Could not load dynamic library 'libnvinfer_plugin.so.7'; dlerror: libnvinfer_plugin.so.7: cannot open shared object file: No such file or directory\n",
      "\u001b[2m\u001b[36m(pid=26127)\u001b[0m 2024-01-18 11:19:09.182609: W tensorflow/compiler/tf2tensorrt/utils/py_utils.cc:38] TF-TRT Warning: Cannot dlopen some TensorRT libraries. If you would like to use Nvidia GPU with TensorRT, please make sure the missing libraries mentioned above are installed properly.\n",
      "\u001b[2m\u001b[36m(pid=26129)\u001b[0m 2024-01-18 11:19:09.255119: W tensorflow/compiler/xla/stream_executor/platform/default/dso_loader.cc:64] Could not load dynamic library 'libnvinfer.so.7'; dlerror: libnvinfer.so.7: cannot open shared object file: No such file or directory\n",
      "\u001b[2m\u001b[36m(pid=26129)\u001b[0m 2024-01-18 11:19:09.255182: W tensorflow/compiler/xla/stream_executor/platform/default/dso_loader.cc:64] Could not load dynamic library 'libnvinfer_plugin.so.7'; dlerror: libnvinfer_plugin.so.7: cannot open shared object file: No such file or directory\n",
      "\u001b[2m\u001b[36m(pid=26129)\u001b[0m 2024-01-18 11:19:09.255190: W tensorflow/compiler/tf2tensorrt/utils/py_utils.cc:38] TF-TRT Warning: Cannot dlopen some TensorRT libraries. If you would like to use Nvidia GPU with TensorRT, please make sure the missing libraries mentioned above are installed properly.\n",
      "Train Processing: :  10%|█         | 10/98 [00:00<00:00, 94.62it/s]"
     ]
    },
    {
     "name": "stdout",
     "output_type": "stream",
     "text": [
      "Epoch 1/20\n"
     ]
    },
    {
     "name": "stderr",
     "output_type": "stream",
     "text": [
      "Train Processing: :  92%|█████████▏| 90/98 [00:00<00:00, 192.35it/s]/home/cyf/anaconda3/envs/sf/lib/python3.8/site-packages/secretflow/ml/nn/metrics.py:59: UserWarning: Please pay attention to local metrics, global only do naive aggregation.\n",
      "  warnings.warn(\n",
      "2024-01-18 11:19:11.306214: W tensorflow/compiler/xla/stream_executor/platform/default/dso_loader.cc:64] Could not load dynamic library 'libcudart.so.11.0'; dlerror: libcudart.so.11.0: cannot open shared object file: No such file or directory\n",
      "2024-01-18 11:19:11.306279: W tensorflow/compiler/xla/stream_executor/platform/default/dso_loader.cc:64] Could not load dynamic library 'libcublas.so.11'; dlerror: libcublas.so.11: cannot open shared object file: No such file or directory\n",
      "2024-01-18 11:19:11.306321: W tensorflow/compiler/xla/stream_executor/platform/default/dso_loader.cc:64] Could not load dynamic library 'libcublasLt.so.11'; dlerror: libcublasLt.so.11: cannot open shared object file: No such file or directory\n",
      "2024-01-18 11:19:11.306360: W tensorflow/compiler/xla/stream_executor/platform/default/dso_loader.cc:64] Could not load dynamic library 'libcufft.so.10'; dlerror: libcufft.so.10: cannot open shared object file: No such file or directory\n",
      "2024-01-18 11:19:11.306397: W tensorflow/compiler/xla/stream_executor/platform/default/dso_loader.cc:64] Could not load dynamic library 'libcurand.so.10'; dlerror: libcurand.so.10: cannot open shared object file: No such file or directory\n",
      "2024-01-18 11:19:11.306434: W tensorflow/compiler/xla/stream_executor/platform/default/dso_loader.cc:64] Could not load dynamic library 'libcusolver.so.11'; dlerror: libcusolver.so.11: cannot open shared object file: No such file or directory\n",
      "2024-01-18 11:19:11.306473: W tensorflow/compiler/xla/stream_executor/platform/default/dso_loader.cc:64] Could not load dynamic library 'libcusparse.so.11'; dlerror: libcusparse.so.11: cannot open shared object file: No such file or directory\n",
      "2024-01-18 11:19:11.306508: W tensorflow/compiler/xla/stream_executor/platform/default/dso_loader.cc:64] Could not load dynamic library 'libcudnn.so.8'; dlerror: libcudnn.so.8: cannot open shared object file: No such file or directory\n",
      "2024-01-18 11:19:11.306516: W tensorflow/core/common_runtime/gpu/gpu_device.cc:1934] Cannot dlopen some GPU libraries. Please make sure the missing libraries mentioned above are installed properly if you would like to use GPU. Follow the guide at https://www.tensorflow.org/install/gpu for how to download and setup the required libraries for your platform.\n",
      "Skipping registering GPU devices...\n",
      "Train Processing: :  92%|█████████▏| 90/98 [00:00<00:00, 142.72it/s, {'multiclassaccuracy': 0.25953525, 'multiclassprecision': 0.25953525, 'val_multiclassaccuracy': 0.25, 'val_multiclassprecision': 0.25}]\n",
      "Train Processing: :  20%|██        | 20/98 [00:00<00:00, 153.21it/s]"
     ]
    },
    {
     "name": "stdout",
     "output_type": "stream",
     "text": [
      "Epoch 2/20\n",
      "\u001b[2m\u001b[36m(PYUFedDYN pid=26127)\u001b[0m {'train-loss': 4.188660144805908, 'train_multiclassaccuracy': tensor(0.2453), 'train_multiclassprecision': tensor(0.2453), 'val_eval_multiclassaccuracy': tensor(0.2500), 'val_eval_multiclassprecision': tensor(0.2500)}\n",
      "\u001b[2m\u001b[36m(PYUFedDYN pid=26129)\u001b[0m {'train-loss': 3.3802225589752197, 'train_multiclassaccuracy': tensor(0.2738), 'train_multiclassprecision': tensor(0.2738), 'val_eval_multiclassaccuracy': tensor(0.2500), 'val_eval_multiclassprecision': tensor(0.2500)}\n"
     ]
    },
    {
     "name": "stderr",
     "output_type": "stream",
     "text": [
      "Train Processing: :  92%|█████████▏| 90/98 [00:00<00:00, 152.37it/s, {'multiclassaccuracy': 0.2803686, 'multiclassprecision': 0.2803686, 'val_multiclassaccuracy': 0.25, 'val_multiclassprecision': 0.25}]\n",
      "Train Processing: :  10%|█         | 10/98 [00:00<00:01, 83.95it/s]"
     ]
    },
    {
     "name": "stdout",
     "output_type": "stream",
     "text": [
      "Epoch 3/20\n",
      "\u001b[2m\u001b[36m(PYUFedDYN pid=26127)\u001b[0m {'train-loss': 2.693168878555298, 'train_multiclassaccuracy': tensor(0.2668), 'train_multiclassprecision': tensor(0.2668), 'val_eval_multiclassaccuracy': tensor(0.2500), 'val_eval_multiclassprecision': tensor(0.2500)}\n",
      "\u001b[2m\u001b[36m(PYUFedDYN pid=26129)\u001b[0m {'train-loss': 3.0264475345611572, 'train_multiclassaccuracy': tensor(0.2939), 'train_multiclassprecision': tensor(0.2939), 'val_eval_multiclassaccuracy': tensor(0.2500), 'val_eval_multiclassprecision': tensor(0.2500)}\n"
     ]
    },
    {
     "name": "stderr",
     "output_type": "stream",
     "text": [
      "Train Processing: :  92%|█████████▏| 90/98 [00:00<00:00, 137.69it/s, {'multiclassaccuracy': 0.4221154, 'multiclassprecision': 0.4221154, 'val_multiclassaccuracy': 0.28004807, 'val_multiclassprecision': 0.28004807}]\n",
      "Train Processing: :  20%|██        | 20/98 [00:00<00:00, 133.64it/s]"
     ]
    },
    {
     "name": "stdout",
     "output_type": "stream",
     "text": [
      "Epoch 4/20\n",
      "\u001b[2m\u001b[36m(PYUFedDYN pid=26127)\u001b[0m {'train-loss': 1.97638738155365, 'train_multiclassaccuracy': tensor(0.4095), 'train_multiclassprecision': tensor(0.4095), 'val_eval_multiclassaccuracy': tensor(0.2510), 'val_eval_multiclassprecision': tensor(0.2510)}\n",
      "\u001b[2m\u001b[36m(PYUFedDYN pid=26129)\u001b[0m {'train-loss': 2.3286216259002686, 'train_multiclassaccuracy': tensor(0.4348), 'train_multiclassprecision': tensor(0.4348), 'val_eval_multiclassaccuracy': tensor(0.3091), 'val_eval_multiclassprecision': tensor(0.3091)}\n"
     ]
    },
    {
     "name": "stderr",
     "output_type": "stream",
     "text": [
      "Train Processing: :  92%|█████████▏| 90/98 [00:00<00:00, 131.53it/s, {'multiclassaccuracy': 0.53253204, 'multiclassprecision': 0.53253204, 'val_multiclassaccuracy': 0.45096153, 'val_multiclassprecision': 0.45096153}]\n",
      "Train Processing: :  20%|██        | 20/98 [00:00<00:00, 147.45it/s]"
     ]
    },
    {
     "name": "stdout",
     "output_type": "stream",
     "text": [
      "Epoch 5/20\n",
      "\u001b[2m\u001b[36m(PYUFedDYN pid=26127)\u001b[0m {'train-loss': 1.737599492073059, 'train_multiclassaccuracy': tensor(0.5082), 'train_multiclassprecision': tensor(0.5082), 'val_eval_multiclassaccuracy': tensor(0.3947), 'val_eval_multiclassprecision': tensor(0.3947)}\n",
      "\u001b[2m\u001b[36m(PYUFedDYN pid=26129)\u001b[0m {'train-loss': 2.1899924278259277, 'train_multiclassaccuracy': tensor(0.5569), 'train_multiclassprecision': tensor(0.5569), 'val_eval_multiclassaccuracy': tensor(0.5072), 'val_eval_multiclassprecision': tensor(0.5072)}\n"
     ]
    },
    {
     "name": "stderr",
     "output_type": "stream",
     "text": [
      "Train Processing: :  92%|█████████▏| 90/98 [00:00<00:00, 130.40it/s, {'multiclassaccuracy': 0.62660253, 'multiclassprecision': 0.62660253, 'val_multiclassaccuracy': 0.5653846, 'val_multiclassprecision': 0.5653846}]\n",
      "Train Processing: :  20%|██        | 20/98 [00:00<00:00, 152.39it/s]"
     ]
    },
    {
     "name": "stdout",
     "output_type": "stream",
     "text": [
      "Epoch 6/20\n",
      "\u001b[2m\u001b[36m(PYUFedDYN pid=26127)\u001b[0m {'train-loss': 1.602935791015625, 'train_multiclassaccuracy': tensor(0.5999), 'train_multiclassprecision': tensor(0.5999), 'val_eval_multiclassaccuracy': tensor(0.5500), 'val_eval_multiclassprecision': tensor(0.5500)}\n",
      "\u001b[2m\u001b[36m(PYUFedDYN pid=26129)\u001b[0m {'train-loss': 2.0463671684265137, 'train_multiclassaccuracy': tensor(0.6533), 'train_multiclassprecision': tensor(0.6533), 'val_eval_multiclassaccuracy': tensor(0.5808), 'val_eval_multiclassprecision': tensor(0.5808)}\n"
     ]
    },
    {
     "name": "stderr",
     "output_type": "stream",
     "text": [
      "Train Processing: :  92%|█████████▏| 90/98 [00:00<00:00, 123.09it/s, {'multiclassaccuracy': 0.70709133, 'multiclassprecision': 0.70709133, 'val_multiclassaccuracy': 0.64639425, 'val_multiclassprecision': 0.64639425}]\n",
      "Train Processing: :  20%|██        | 20/98 [00:00<00:00, 158.94it/s]"
     ]
    },
    {
     "name": "stdout",
     "output_type": "stream",
     "text": [
      "Epoch 7/20\n",
      "\u001b[2m\u001b[36m(PYUFedDYN pid=26127)\u001b[0m {'train-loss': 1.5582889318466187, 'train_multiclassaccuracy': tensor(0.6999), 'train_multiclassprecision': tensor(0.6999), 'val_eval_multiclassaccuracy': tensor(0.6365), 'val_eval_multiclassprecision': tensor(0.6365)}\n",
      "\u001b[2m\u001b[36m(PYUFedDYN pid=26129)\u001b[0m {'train-loss': 1.9253712892532349, 'train_multiclassaccuracy': tensor(0.7143), 'train_multiclassprecision': tensor(0.7143), 'val_eval_multiclassaccuracy': tensor(0.6562), 'val_eval_multiclassprecision': tensor(0.6562)}\n"
     ]
    },
    {
     "name": "stderr",
     "output_type": "stream",
     "text": [
      "Train Processing: :  92%|█████████▏| 90/98 [00:00<00:00, 115.63it/s, {'multiclassaccuracy': 0.76758814, 'multiclassprecision': 0.76758814, 'val_multiclassaccuracy': 0.7016827, 'val_multiclassprecision': 0.7016827}]\n",
      "Train Processing: :  20%|██        | 20/98 [00:00<00:00, 152.97it/s]"
     ]
    },
    {
     "name": "stdout",
     "output_type": "stream",
     "text": [
      "Epoch 8/20\n",
      "\u001b[2m\u001b[36m(PYUFedDYN pid=26127)\u001b[0m {'train-loss': 1.528643250465393, 'train_multiclassaccuracy': tensor(0.7719), 'train_multiclassprecision': tensor(0.7719), 'val_eval_multiclassaccuracy': tensor(0.6822), 'val_eval_multiclassprecision': tensor(0.6822)}\n",
      "\u001b[2m\u001b[36m(PYUFedDYN pid=26129)\u001b[0m {'train-loss': 1.8104336261749268, 'train_multiclassaccuracy': tensor(0.7633), 'train_multiclassprecision': tensor(0.7633), 'val_eval_multiclassaccuracy': tensor(0.7212), 'val_eval_multiclassprecision': tensor(0.7212)}\n"
     ]
    },
    {
     "name": "stderr",
     "output_type": "stream",
     "text": [
      "Train Processing: :  92%|█████████▏| 90/98 [00:00<00:00, 110.11it/s, {'multiclassaccuracy': 0.81037664, 'multiclassprecision': 0.81037664, 'val_multiclassaccuracy': 0.740625, 'val_multiclassprecision': 0.740625}]\n",
      "Train Processing: :  20%|██        | 20/98 [00:00<00:00, 155.90it/s]"
     ]
    },
    {
     "name": "stdout",
     "output_type": "stream",
     "text": [
      "Epoch 9/20\n",
      "\u001b[2m\u001b[36m(PYUFedDYN pid=26127)\u001b[0m {'train-loss': 1.35989511013031, 'train_multiclassaccuracy': tensor(0.8200), 'train_multiclassprecision': tensor(0.8200), 'val_eval_multiclassaccuracy': tensor(0.7192), 'val_eval_multiclassprecision': tensor(0.7192)}\n",
      "\u001b[2m\u001b[36m(PYUFedDYN pid=26129)\u001b[0m {'train-loss': 1.7463831901550293, 'train_multiclassaccuracy': tensor(0.8008), 'train_multiclassprecision': tensor(0.8008), 'val_eval_multiclassaccuracy': tensor(0.7620), 'val_eval_multiclassprecision': tensor(0.7620)}\n"
     ]
    },
    {
     "name": "stderr",
     "output_type": "stream",
     "text": [
      "Train Processing: :  92%|█████████▏| 90/98 [00:00<00:00, 107.23it/s, {'multiclassaccuracy': 0.83589745, 'multiclassprecision': 0.83589745, 'val_multiclassaccuracy': 0.76129806, 'val_multiclassprecision': 0.76129806}]\n",
      "Train Processing: :  20%|██        | 20/98 [00:00<00:00, 158.38it/s]"
     ]
    },
    {
     "name": "stdout",
     "output_type": "stream",
     "text": [
      "Epoch 10/20\n",
      "\u001b[2m\u001b[36m(PYUFedDYN pid=26127)\u001b[0m {'train-loss': 1.1803752183914185, 'train_multiclassaccuracy': tensor(0.8457), 'train_multiclassprecision': tensor(0.8457), 'val_eval_multiclassaccuracy': tensor(0.7418), 'val_eval_multiclassprecision': tensor(0.7418)}\n",
      "\u001b[2m\u001b[36m(PYUFedDYN pid=26129)\u001b[0m {'train-loss': 1.6760706901550293, 'train_multiclassaccuracy': tensor(0.8261), 'train_multiclassprecision': tensor(0.8261), 'val_eval_multiclassaccuracy': tensor(0.7808), 'val_eval_multiclassprecision': tensor(0.7808)}\n"
     ]
    },
    {
     "name": "stderr",
     "output_type": "stream",
     "text": [
      "Train Processing: :  92%|█████████▏| 90/98 [00:00<00:00, 105.16it/s, {'multiclassaccuracy': 0.85084134, 'multiclassprecision': 0.85084134, 'val_multiclassaccuracy': 0.7800481, 'val_multiclassprecision': 0.7800481}]\n",
      "Train Processing: :  20%|██        | 20/98 [00:00<00:00, 149.71it/s]"
     ]
    },
    {
     "name": "stdout",
     "output_type": "stream",
     "text": [
      "Epoch 11/20\n",
      "\u001b[2m\u001b[36m(PYUFedDYN pid=26127)\u001b[0m {'train-loss': 1.0429139137268066, 'train_multiclassaccuracy': tensor(0.8603), 'train_multiclassprecision': tensor(0.8603), 'val_eval_multiclassaccuracy': tensor(0.7596), 'val_eval_multiclassprecision': tensor(0.7596)}\n",
      "\u001b[2m\u001b[36m(PYUFedDYN pid=26129)\u001b[0m {'train-loss': 1.5609221458435059, 'train_multiclassaccuracy': tensor(0.8413), 'train_multiclassprecision': tensor(0.8413), 'val_eval_multiclassaccuracy': tensor(0.8005), 'val_eval_multiclassprecision': tensor(0.8005)}\n"
     ]
    },
    {
     "name": "stderr",
     "output_type": "stream",
     "text": [
      "Train Processing: :  92%|█████████▏| 90/98 [00:00<00:00, 99.16it/s, {'multiclassaccuracy': 0.8620593, 'multiclassprecision': 0.8620593, 'val_multiclassaccuracy': 0.7915865, 'val_multiclassprecision': 0.7915865}] \n",
      "Train Processing: :  20%|██        | 20/98 [00:00<00:00, 153.16it/s]"
     ]
    },
    {
     "name": "stdout",
     "output_type": "stream",
     "text": [
      "Epoch 12/20\n",
      "\u001b[2m\u001b[36m(PYUFedDYN pid=26127)\u001b[0m {'train-loss': 0.9109519124031067, 'train_multiclassaccuracy': tensor(0.8726), 'train_multiclassprecision': tensor(0.8726), 'val_eval_multiclassaccuracy': tensor(0.7726), 'val_eval_multiclassprecision': tensor(0.7726)}\n",
      "\u001b[2m\u001b[36m(PYUFedDYN pid=26129)\u001b[0m {'train-loss': 1.4293018579483032, 'train_multiclassaccuracy': tensor(0.8515), 'train_multiclassprecision': tensor(0.8515), 'val_eval_multiclassaccuracy': tensor(0.8106), 'val_eval_multiclassprecision': tensor(0.8106)}\n"
     ]
    },
    {
     "name": "stderr",
     "output_type": "stream",
     "text": [
      "Train Processing: :  92%|█████████▏| 90/98 [00:00<00:00, 95.80it/s, {'multiclassaccuracy': 0.8685497, 'multiclassprecision': 0.8685497, 'val_multiclassaccuracy': 0.8004808, 'val_multiclassprecision': 0.8004808}] \n",
      "Train Processing: :  20%|██        | 20/98 [00:00<00:00, 154.91it/s]"
     ]
    },
    {
     "name": "stdout",
     "output_type": "stream",
     "text": [
      "Epoch 13/20\n",
      "\u001b[2m\u001b[36m(PYUFedDYN pid=26127)\u001b[0m {'train-loss': 0.794434666633606, 'train_multiclassaccuracy': tensor(0.8778), 'train_multiclassprecision': tensor(0.8778), 'val_eval_multiclassaccuracy': tensor(0.7812), 'val_eval_multiclassprecision': tensor(0.7812)}\n",
      "\u001b[2m\u001b[36m(PYUFedDYN pid=26129)\u001b[0m {'train-loss': 1.3041919469833374, 'train_multiclassaccuracy': tensor(0.8593), 'train_multiclassprecision': tensor(0.8593), 'val_eval_multiclassaccuracy': tensor(0.8197), 'val_eval_multiclassprecision': tensor(0.8197)}\n"
     ]
    },
    {
     "name": "stderr",
     "output_type": "stream",
     "text": [
      "Train Processing: :  92%|█████████▏| 90/98 [00:00<00:00, 90.43it/s, {'multiclassaccuracy': 0.87495995, 'multiclassprecision': 0.87495995, 'val_multiclassaccuracy': 0.8055289, 'val_multiclassprecision': 0.8055289}] \n",
      "Train Processing: :  20%|██        | 20/98 [00:00<00:00, 156.04it/s]"
     ]
    },
    {
     "name": "stdout",
     "output_type": "stream",
     "text": [
      "Epoch 14/20\n",
      "\u001b[2m\u001b[36m(PYUFedDYN pid=26127)\u001b[0m {'train-loss': 0.6926169991493225, 'train_multiclassaccuracy': tensor(0.8838), 'train_multiclassprecision': tensor(0.8838), 'val_eval_multiclassaccuracy': tensor(0.7861), 'val_eval_multiclassprecision': tensor(0.7861)}\n",
      "\u001b[2m\u001b[36m(PYUFedDYN pid=26129)\u001b[0m {'train-loss': 1.1841453313827515, 'train_multiclassaccuracy': tensor(0.8661), 'train_multiclassprecision': tensor(0.8661), 'val_eval_multiclassaccuracy': tensor(0.8250), 'val_eval_multiclassprecision': tensor(0.8250)}\n"
     ]
    },
    {
     "name": "stderr",
     "output_type": "stream",
     "text": [
      "Train Processing: :  92%|█████████▏| 90/98 [00:01<00:00, 87.08it/s, {'multiclassaccuracy': 0.8801282, 'multiclassprecision': 0.8801282, 'val_multiclassaccuracy': 0.8120192, 'val_multiclassprecision': 0.8120192}] \n",
      "Train Processing: :  20%|██        | 20/98 [00:00<00:00, 154.61it/s]"
     ]
    },
    {
     "name": "stdout",
     "output_type": "stream",
     "text": [
      "Epoch 15/20\n",
      "\u001b[2m\u001b[36m(PYUFedDYN pid=26127)\u001b[0m {'train-loss': 0.5987633466720581, 'train_multiclassaccuracy': tensor(0.8878), 'train_multiclassprecision': tensor(0.8878), 'val_eval_multiclassaccuracy': tensor(0.7899), 'val_eval_multiclassprecision': tensor(0.7899)}\n",
      "\u001b[2m\u001b[36m(PYUFedDYN pid=26129)\u001b[0m {'train-loss': 1.0679750442504883, 'train_multiclassaccuracy': tensor(0.8724), 'train_multiclassprecision': tensor(0.8724), 'val_eval_multiclassaccuracy': tensor(0.8341), 'val_eval_multiclassprecision': tensor(0.8341)}\n"
     ]
    },
    {
     "name": "stderr",
     "output_type": "stream",
     "text": [
      "Train Processing: :  92%|█████████▏| 90/98 [00:01<00:00, 82.66it/s, {'multiclassaccuracy': 0.8854167, 'multiclassprecision': 0.8854167, 'val_multiclassaccuracy': 0.8194711, 'val_multiclassprecision': 0.8194711}] \n",
      "Train Processing: :  20%|██        | 20/98 [00:00<00:00, 153.02it/s]"
     ]
    },
    {
     "name": "stdout",
     "output_type": "stream",
     "text": [
      "Epoch 16/20\n",
      "\u001b[2m\u001b[36m(PYUFedDYN pid=26127)\u001b[0m {'train-loss': 0.509560227394104, 'train_multiclassaccuracy': tensor(0.8925), 'train_multiclassprecision': tensor(0.8925), 'val_eval_multiclassaccuracy': tensor(0.7971), 'val_eval_multiclassprecision': tensor(0.7971)}\n",
      "\u001b[2m\u001b[36m(PYUFedDYN pid=26129)\u001b[0m {'train-loss': 0.9591097831726074, 'train_multiclassaccuracy': tensor(0.8784), 'train_multiclassprecision': tensor(0.8784), 'val_eval_multiclassaccuracy': tensor(0.8418), 'val_eval_multiclassprecision': tensor(0.8418)}\n"
     ]
    },
    {
     "name": "stderr",
     "output_type": "stream",
     "text": [
      "Train Processing: :  92%|█████████▏| 90/98 [00:01<00:00, 82.54it/s, {'multiclassaccuracy': 0.88874197, 'multiclassprecision': 0.88874197, 'val_multiclassaccuracy': 0.82427883, 'val_multiclassprecision': 0.82427883}] \n",
      "Train Processing: :  20%|██        | 20/98 [00:00<00:00, 145.71it/s]"
     ]
    },
    {
     "name": "stdout",
     "output_type": "stream",
     "text": [
      "Epoch 17/20\n",
      "\u001b[2m\u001b[36m(PYUFedDYN pid=26127)\u001b[0m {'train-loss': 0.4320308268070221, 'train_multiclassaccuracy': tensor(0.8954), 'train_multiclassprecision': tensor(0.8954), 'val_eval_multiclassaccuracy': tensor(0.7995), 'val_eval_multiclassprecision': tensor(0.7995)}\n",
      "\u001b[2m\u001b[36m(PYUFedDYN pid=26129)\u001b[0m {'train-loss': 0.8596035242080688, 'train_multiclassaccuracy': tensor(0.8821), 'train_multiclassprecision': tensor(0.8821), 'val_eval_multiclassaccuracy': tensor(0.8490), 'val_eval_multiclassprecision': tensor(0.8490)}\n"
     ]
    },
    {
     "name": "stderr",
     "output_type": "stream",
     "text": [
      "Train Processing: :  92%|█████████▏| 90/98 [00:01<00:00, 78.61it/s, {'multiclassaccuracy': 0.89210737, 'multiclassprecision': 0.89210737, 'val_multiclassaccuracy': 0.8278846, 'val_multiclassprecision': 0.8278846}] \n"
     ]
    },
    {
     "name": "stdout",
     "output_type": "stream",
     "text": [
      "\u001b[2m\u001b[36m(PYUFedDYN pid=26127)\u001b[0m {'train-loss': 0.36131522059440613, 'train_multiclassaccuracy': tensor(0.8981), 'train_multiclassprecision': tensor(0.8981), 'val_eval_multiclassaccuracy': tensor(0.8038), 'val_eval_multiclassprecision': tensor(0.8038)}\n"
     ]
    },
    {
     "name": "stderr",
     "output_type": "stream",
     "text": [
      "Train Processing: :  20%|██        | 20/98 [00:00<00:00, 155.20it/s]"
     ]
    },
    {
     "name": "stdout",
     "output_type": "stream",
     "text": [
      "Epoch 18/20\n",
      "\u001b[2m\u001b[36m(PYUFedDYN pid=26129)\u001b[0m {'train-loss': 0.7573780417442322, 'train_multiclassaccuracy': tensor(0.8861), 'train_multiclassprecision': tensor(0.8861), 'val_eval_multiclassaccuracy': tensor(0.8519), 'val_eval_multiclassprecision': tensor(0.8519)}\n"
     ]
    },
    {
     "name": "stderr",
     "output_type": "stream",
     "text": [
      "Train Processing: :  92%|█████████▏| 90/98 [00:01<00:00, 75.46it/s, {'multiclassaccuracy': 0.89403045, 'multiclassprecision': 0.89403045, 'val_multiclassaccuracy': 0.8300481, 'val_multiclassprecision': 0.8300481}] \n",
      "Train Processing: :  20%|██        | 20/98 [00:00<00:00, 144.82it/s]"
     ]
    },
    {
     "name": "stdout",
     "output_type": "stream",
     "text": [
      "Epoch 19/20\n",
      "\u001b[2m\u001b[36m(PYUFedDYN pid=26127)\u001b[0m {'train-loss': 0.28467482328414917, 'train_multiclassaccuracy': tensor(0.8989), 'train_multiclassprecision': tensor(0.8989), 'val_eval_multiclassaccuracy': tensor(0.8058), 'val_eval_multiclassprecision': tensor(0.8058)}\n",
      "\u001b[2m\u001b[36m(PYUFedDYN pid=26129)\u001b[0m {'train-loss': 0.6594139337539673, 'train_multiclassaccuracy': tensor(0.8892), 'train_multiclassprecision': tensor(0.8892), 'val_eval_multiclassaccuracy': tensor(0.8543), 'val_eval_multiclassprecision': tensor(0.8543)}\n"
     ]
    },
    {
     "name": "stderr",
     "output_type": "stream",
     "text": [
      "Train Processing: :  92%|█████████▏| 90/98 [00:01<00:00, 75.08it/s, {'multiclassaccuracy': 0.89683497, 'multiclassprecision': 0.89683497, 'val_multiclassaccuracy': 0.8322115, 'val_multiclassprecision': 0.8322115}] \n",
      "Train Processing: :  20%|██        | 20/98 [00:00<00:00, 155.23it/s]"
     ]
    },
    {
     "name": "stdout",
     "output_type": "stream",
     "text": [
      "Epoch 20/20\n",
      "\u001b[2m\u001b[36m(PYUFedDYN pid=26127)\u001b[0m {'train-loss': 0.2140738070011139, 'train_multiclassaccuracy': tensor(0.9009), 'train_multiclassprecision': tensor(0.9009), 'val_eval_multiclassaccuracy': tensor(0.8067), 'val_eval_multiclassprecision': tensor(0.8067)}\n",
      "\u001b[2m\u001b[36m(PYUFedDYN pid=26129)\u001b[0m {'train-loss': 0.5597807168960571, 'train_multiclassaccuracy': tensor(0.8928), 'train_multiclassprecision': tensor(0.8928), 'val_eval_multiclassaccuracy': tensor(0.8577), 'val_eval_multiclassprecision': tensor(0.8577)}\n"
     ]
    },
    {
     "name": "stderr",
     "output_type": "stream",
     "text": [
      "Train Processing: :  92%|█████████▏| 90/98 [00:01<00:00, 64.83it/s, {'multiclassaccuracy': 0.8985977, 'multiclassprecision': 0.8985977, 'val_multiclassaccuracy': 0.8375, 'val_multiclassprecision': 0.8375}] \n"
     ]
    }
   ],
   "source": [
    "# spcify params\n",
    "fl_model = FLModel(\n",
    "    server=server,\n",
    "    device_list=device_list,\n",
    "    model=model_def,\n",
    "    aggregator=aggregator,\n",
    "    strategy=\"fed_dyn\",\n",
    "    backend=\"torch\",\n",
    ")\n",
    "history = fl_model.fit(\n",
    "    train_data,\n",
    "    train_label,\n",
    "    validation_data=(test_data, test_label),\n",
    "    epochs=20,\n",
    "    batch_size=128,\n",
    "    aggregate_freq=10,\n",
    ")"
   ]
  },
  {
   "cell_type": "code",
   "execution_count": 17,
   "id": "9057b745bc588200",
   "metadata": {
    "ExecuteTime": {
     "end_time": "2024-01-18T03:19:36.575467600Z",
     "start_time": "2024-01-18T03:19:36.532701Z"
    },
    "collapsed": false
   },
   "outputs": [
    {
     "name": "stdout",
     "output_type": "stream",
     "text": [
      "{'alice_train-loss': [4.188660144805908, 2.693168878555298, 1.97638738155365, 1.737599492073059, 1.602935791015625, 1.5582889318466187, 1.528643250465393, 1.35989511013031, 1.1803752183914185, 1.0429139137268066, 0.9109519124031067, 0.794434666633606, 0.6926169991493225, 0.5987633466720581, 0.509560227394104, 0.4320308268070221, 0.36131522059440613, 0.28467482328414917, 0.2140738070011139, 0.14483265578746796], 'alice_train_multiclassaccuracy': [tensor(0.2453), tensor(0.2668), tensor(0.4095), tensor(0.5082), tensor(0.5999), tensor(0.6999), tensor(0.7719), tensor(0.8200), tensor(0.8457), tensor(0.8603), tensor(0.8726), tensor(0.8778), tensor(0.8838), tensor(0.8878), tensor(0.8925), tensor(0.8954), tensor(0.8981), tensor(0.8989), tensor(0.9009), tensor(0.9019)], 'alice_train_multiclassprecision': [tensor(0.2453), tensor(0.2668), tensor(0.4095), tensor(0.5082), tensor(0.5999), tensor(0.6999), tensor(0.7719), tensor(0.8200), tensor(0.8457), tensor(0.8603), tensor(0.8726), tensor(0.8778), tensor(0.8838), tensor(0.8878), tensor(0.8925), tensor(0.8954), tensor(0.8981), tensor(0.8989), tensor(0.9009), tensor(0.9019)], 'alice_val_eval_multiclassaccuracy': [tensor(0.2500), tensor(0.2500), tensor(0.2510), tensor(0.3947), tensor(0.5500), tensor(0.6365), tensor(0.6822), tensor(0.7192), tensor(0.7418), tensor(0.7596), tensor(0.7726), tensor(0.7812), tensor(0.7861), tensor(0.7899), tensor(0.7971), tensor(0.7995), tensor(0.8038), tensor(0.8058), tensor(0.8067), tensor(0.8101)], 'alice_val_eval_multiclassprecision': [tensor(0.2500), tensor(0.2500), tensor(0.2510), tensor(0.3947), tensor(0.5500), tensor(0.6365), tensor(0.6822), tensor(0.7192), tensor(0.7418), tensor(0.7596), tensor(0.7726), tensor(0.7812), tensor(0.7861), tensor(0.7899), tensor(0.7971), tensor(0.7995), tensor(0.8038), tensor(0.8058), tensor(0.8067), tensor(0.8101)], 'bob_train-loss': [3.3802225589752197, 3.0264475345611572, 2.3286216259002686, 2.1899924278259277, 2.0463671684265137, 1.9253712892532349, 1.8104336261749268, 1.7463831901550293, 1.6760706901550293, 1.5609221458435059, 1.4293018579483032, 1.3041919469833374, 1.1841453313827515, 1.0679750442504883, 0.9591097831726074, 0.8596035242080688, 0.7573780417442322, 0.6594139337539673, 0.5597807168960571, 0.4651905596256256], 'bob_train_multiclassaccuracy': [tensor(0.2738), tensor(0.2939), tensor(0.4348), tensor(0.5569), tensor(0.6533), tensor(0.7143), tensor(0.7633), tensor(0.8008), tensor(0.8261), tensor(0.8413), tensor(0.8515), tensor(0.8593), tensor(0.8661), tensor(0.8724), tensor(0.8784), tensor(0.8821), tensor(0.8861), tensor(0.8892), tensor(0.8928), tensor(0.8953)], 'bob_train_multiclassprecision': [tensor(0.2738), tensor(0.2939), tensor(0.4348), tensor(0.5569), tensor(0.6533), tensor(0.7143), tensor(0.7633), tensor(0.8008), tensor(0.8261), tensor(0.8413), tensor(0.8515), tensor(0.8593), tensor(0.8661), tensor(0.8724), tensor(0.8784), tensor(0.8821), tensor(0.8861), tensor(0.8892), tensor(0.8928), tensor(0.8953)], 'bob_val_eval_multiclassaccuracy': [tensor(0.2500), tensor(0.2500), tensor(0.3091), tensor(0.5072), tensor(0.5808), tensor(0.6562), tensor(0.7212), tensor(0.7620), tensor(0.7808), tensor(0.8005), tensor(0.8106), tensor(0.8197), tensor(0.8250), tensor(0.8341), tensor(0.8418), tensor(0.8490), tensor(0.8519), tensor(0.8543), tensor(0.8577), tensor(0.8649)], 'bob_val_eval_multiclassprecision': [tensor(0.2500), tensor(0.2500), tensor(0.3091), tensor(0.5072), tensor(0.5808), tensor(0.6562), tensor(0.7212), tensor(0.7620), tensor(0.7808), tensor(0.8005), tensor(0.8106), tensor(0.8197), tensor(0.8250), tensor(0.8341), tensor(0.8418), tensor(0.8490), tensor(0.8519), tensor(0.8543), tensor(0.8577), tensor(0.8649)]}\n"
     ]
    }
   ],
   "source": [
    "print(history[\"local_history\"])"
   ]
  },
  {
   "cell_type": "code",
   "execution_count": 18,
   "id": "95675bdf838fa4d9",
   "metadata": {
    "ExecuteTime": {
     "end_time": "2024-01-18T03:19:36.957692700Z",
     "start_time": "2024-01-18T03:19:36.578470400Z"
    },
    "collapsed": false
   },
   "outputs": [
    {
     "name": "stdout",
     "output_type": "stream",
     "text": [
      "\u001b[2m\u001b[36m(PYUFedDYN pid=26127)\u001b[0m {'train-loss': 0.14483265578746796, 'train_multiclassaccuracy': tensor(0.9019), 'train_multiclassprecision': tensor(0.9019), 'val_eval_multiclassaccuracy': tensor(0.8101), 'val_eval_multiclassprecision': tensor(0.8101)}\n",
      "\u001b[2m\u001b[36m(PYUFedDYN pid=26129)\u001b[0m {'train-loss': 0.4651905596256256, 'train_multiclassaccuracy': tensor(0.8953), 'train_multiclassprecision': tensor(0.8953), 'val_eval_multiclassaccuracy': tensor(0.8649), 'val_eval_multiclassprecision': tensor(0.8649)}\n"
     ]
    },
    {
     "data": {
      "image/png": "[encoded data removed]",
      "text/plain": [
       "<Figure size 640x480 with 1 Axes>"
      ]
     },
     "metadata": {},
     "output_type": "display_data"
    }
   ],
   "source": [
    "from matplotlib import pyplot as plt\n",
    "\n",
    "# Draw accuracy values for training & validation\n",
    "plt.plot(history[\"global_history\"][\"multiclassaccuracy\"])\n",
    "plt.plot(history[\"global_history\"][\"val_multiclassaccuracy\"])\n",
    "plt.plot(history[\"local_history\"][\"alice_train_multiclassaccuracy\"])\n",
    "plt.plot(history[\"local_history\"][\"bob_train_multiclassaccuracy\"])\n",
    "plt.plot(history[\"local_history\"][\"alice_val_eval_multiclassaccuracy\"])\n",
    "plt.plot(history[\"local_history\"][\"bob_val_eval_multiclassaccuracy\"])\n",
    "plt.title(\"FLModel accuracy in FedDYN\")\n",
    "plt.ylabel(\"Accuracy\")\n",
    "plt.xlabel(\"Epoch\")\n",
    "plt.legend([\"Train\", \"Valid\", \"alice_T\", \"bob_T\", \"alice_V\", \"bob_V\"], loc=\"upper left\")\n",
    "plt.show()"
   ]
  },
  {
   "cell_type": "code",
   "execution_count": 19,
   "id": "6f351e3e0dc81875",
   "metadata": {
    "ExecuteTime": {
     "end_time": "2024-01-18T03:20:33.292848900Z",
     "start_time": "2024-01-18T03:19:36.957692700Z"
    },
    "collapsed": false
   },
   "outputs": [
    {
     "name": "stderr",
     "output_type": "stream",
     "text": [
      "INFO:root:Create proxy actor <class 'secretflow.ml.nn.fl.backend.torch.strategy.fed_avg_w.PYUFedAvgW'> with party alice.\n",
      "INFO:root:Create proxy actor <class 'secretflow.ml.nn.fl.backend.torch.strategy.fed_avg_w.PYUFedAvgW'> with party bob.\n",
      "INFO:root:FL Train Params: {'x': FedNdarray(partitions={PYURuntime(alice): <secretflow.device.device.pyu.PYUObject object at 0x7f2654319580>, PYURuntime(bob): <secretflow.device.device.pyu.PYUObject object at 0x7f26542f1b80>}, partition_way=<PartitionWay.HORIZONTAL: 'horizontal'>), 'y': FedNdarray(partitions={PYURuntime(alice): <secretflow.device.device.pyu.PYUObject object at 0x7f26540cb940>, PYURuntime(bob): <secretflow.device.device.pyu.PYUObject object at 0x7f26542fcc70>}, partition_way=<PartitionWay.HORIZONTAL: 'horizontal'>), 'batch_size': 128, 'batch_sampling_rate': None, 'epochs': 20, 'verbose': 1, 'callbacks': None, 'validation_data': (FedNdarray(partitions={PYURuntime(alice): <secretflow.device.device.pyu.PYUObject object at 0x7f29d8402610>, PYURuntime(bob): <secretflow.device.device.pyu.PYUObject object at 0x7f26540cbb20>}, partition_way=<PartitionWay.HORIZONTAL: 'horizontal'>), FedNdarray(partitions={PYURuntime(alice): <secretflow.device.device.pyu.PYUObject object at 0x7f26540cbaf0>, PYURuntime(bob): <secretflow.device.device.pyu.PYUObject object at 0x7f26540cb370>}, partition_way=<PartitionWay.HORIZONTAL: 'horizontal'>)), 'shuffle': False, 'class_weight': None, 'sample_weight': None, 'validation_freq': 1, 'aggregate_freq': 10, 'label_decoder': None, 'max_batch_size': 20000, 'prefetch_buffer_size': None, 'sampler_method': 'batch', 'random_seed': 88127, 'dp_spent_step_freq': None, 'audit_log_dir': None, 'dataset_builder': None, 'wait_steps': 100, 'self': <secretflow.ml.nn.fl.fl_model.FLModel object at 0x7f265409c0a0>}\n",
      "Train Processing: :  10%|█         | 10/98 [00:00<00:00, 97.69it/s]"
     ]
    },
    {
     "name": "stdout",
     "output_type": "stream",
     "text": [
      "Epoch 1/20\n"
     ]
    },
    {
     "name": "stderr",
     "output_type": "stream",
     "text": [
      "Train Processing: :  92%|█████████▏| 90/98 [00:00<00:00, 174.43it/s]/home/cyf/anaconda3/envs/sf/lib/python3.8/site-packages/secretflow/ml/nn/metrics.py:59: UserWarning: Please pay attention to local metrics, global only do naive aggregation.\n",
      "  warnings.warn(\n",
      "\u001b[2m\u001b[36m(pid=1109)\u001b[0m 2024-01-18 11:19:38.695813: W tensorflow/compiler/xla/stream_executor/platform/default/dso_loader.cc:64] Could not load dynamic library 'libcudart.so.11.0'; dlerror: libcudart.so.11.0: cannot open shared object file: No such file or directory\n",
      "\u001b[2m\u001b[36m(pid=1111)\u001b[0m 2024-01-18 11:19:38.722866: W tensorflow/compiler/xla/stream_executor/platform/default/dso_loader.cc:64] Could not load dynamic library 'libcudart.so.11.0'; dlerror: libcudart.so.11.0: cannot open shared object file: No such file or directory\n",
      "\u001b[2m\u001b[36m(pid=1109)\u001b[0m 2024-01-18 11:19:39.193383: W tensorflow/compiler/xla/stream_executor/platform/default/dso_loader.cc:64] Could not load dynamic library 'libnvinfer.so.7'; dlerror: libnvinfer.so.7: cannot open shared object file: No such file or directory\n",
      "\u001b[2m\u001b[36m(pid=1109)\u001b[0m 2024-01-18 11:19:39.193442: W tensorflow/compiler/xla/stream_executor/platform/default/dso_loader.cc:64] Could not load dynamic library 'libnvinfer_plugin.so.7'; dlerror: libnvinfer_plugin.so.7: cannot open shared object file: No such file or directory\n",
      "\u001b[2m\u001b[36m(pid=1109)\u001b[0m 2024-01-18 11:19:39.193450: W tensorflow/compiler/tf2tensorrt/utils/py_utils.cc:38] TF-TRT Warning: Cannot dlopen some TensorRT libraries. If you would like to use Nvidia GPU with TensorRT, please make sure the missing libraries mentioned above are installed properly.\n",
      "\u001b[2m\u001b[36m(pid=1111)\u001b[0m 2024-01-18 11:19:39.198816: W tensorflow/compiler/xla/stream_executor/platform/default/dso_loader.cc:64] Could not load dynamic library 'libnvinfer.so.7'; dlerror: libnvinfer.so.7: cannot open shared object file: No such file or directory\n",
      "\u001b[2m\u001b[36m(pid=1111)\u001b[0m 2024-01-18 11:19:39.198873: W tensorflow/compiler/xla/stream_executor/platform/default/dso_loader.cc:64] Could not load dynamic library 'libnvinfer_plugin.so.7'; dlerror: libnvinfer_plugin.so.7: cannot open shared object file: No such file or directory\n",
      "\u001b[2m\u001b[36m(pid=1111)\u001b[0m 2024-01-18 11:19:39.198880: W tensorflow/compiler/tf2tensorrt/utils/py_utils.cc:38] TF-TRT Warning: Cannot dlopen some TensorRT libraries. If you would like to use Nvidia GPU with TensorRT, please make sure the missing libraries mentioned above are installed properly.\n",
      "Train Processing: :  92%|█████████▏| 90/98 [00:01<00:00, 65.05it/s, {'multiclassaccuracy': 0.8998798, 'multiclassprecision': 0.8998798, 'val_multiclassaccuracy': 0.8401443, 'val_multiclassprecision': 0.8401443}] \n",
      "Train Processing: :  20%|██        | 20/98 [00:00<00:00, 133.21it/s]"
     ]
    },
    {
     "name": "stdout",
     "output_type": "stream",
     "text": [
      "Epoch 2/20\n",
      "\u001b[2m\u001b[36m(PYUFedDYN pid=26127)\u001b[0m {'train-loss': 0.08044049888849258, 'train_multiclassaccuracy': tensor(0.9034), 'train_multiclassprecision': tensor(0.9034), 'val_eval_multiclassaccuracy': tensor(0.8139), 'val_eval_multiclassprecision': tensor(0.8139)}\n",
      "\u001b[2m\u001b[36m(PYUFedDYN pid=26129)\u001b[0m {'train-loss': 0.3673584759235382, 'train_multiclassaccuracy': tensor(0.8964), 'train_multiclassprecision': tensor(0.8964), 'val_eval_multiclassaccuracy': tensor(0.8663), 'val_eval_multiclassprecision': tensor(0.8663)}\n"
     ]
    },
    {
     "name": "stderr",
     "output_type": "stream",
     "text": [
      "Train Processing: :  92%|█████████▏| 90/98 [00:01<00:00, 64.43it/s, {'multiclassaccuracy': 0.9011619, 'multiclassprecision': 0.9011619, 'val_multiclassaccuracy': 0.84134614, 'val_multiclassprecision': 0.84134614}] \n",
      "Train Processing: :  20%|██        | 20/98 [00:00<00:00, 150.88it/s]"
     ]
    },
    {
     "name": "stdout",
     "output_type": "stream",
     "text": [
      "Epoch 3/20\n",
      "\u001b[2m\u001b[36m(PYUFedDYN pid=26127)\u001b[0m {'train-loss': 0.014227005653083324, 'train_multiclassaccuracy': tensor(0.9042), 'train_multiclassprecision': tensor(0.9042), 'val_eval_multiclassaccuracy': tensor(0.8149), 'val_eval_multiclassprecision': tensor(0.8149)}\n",
      "\u001b[2m\u001b[36m(PYUFedDYN pid=26129)\u001b[0m {'train-loss': 0.2703603208065033, 'train_multiclassaccuracy': tensor(0.8981), 'train_multiclassprecision': tensor(0.8981), 'val_eval_multiclassaccuracy': tensor(0.8678), 'val_eval_multiclassprecision': tensor(0.8678)}\n"
     ]
    },
    {
     "name": "stderr",
     "output_type": "stream",
     "text": [
      "Train Processing: :  92%|█████████▏| 90/98 [00:01<00:00, 66.53it/s, {'multiclassaccuracy': 0.9027244, 'multiclassprecision': 0.9027244, 'val_multiclassaccuracy': 0.8432692, 'val_multiclassprecision': 0.8432692}] \n",
      "Train Processing: :  20%|██        | 20/98 [00:00<00:00, 150.97it/s]"
     ]
    },
    {
     "name": "stdout",
     "output_type": "stream",
     "text": [
      "Epoch 4/20\n",
      "\u001b[2m\u001b[36m(PYUFedDYN pid=26127)\u001b[0m {'train-loss': -0.05369977653026581, 'train_multiclassaccuracy': tensor(0.9051), 'train_multiclassprecision': tensor(0.9051), 'val_eval_multiclassaccuracy': tensor(0.8178), 'val_eval_multiclassprecision': tensor(0.8178)}\n",
      "\u001b[2m\u001b[36m(PYUFedDYN pid=26129)\u001b[0m {'train-loss': 0.17689387500286102, 'train_multiclassaccuracy': tensor(0.9003), 'train_multiclassprecision': tensor(0.9003), 'val_eval_multiclassaccuracy': tensor(0.8687), 'val_eval_multiclassprecision': tensor(0.8687)}\n"
     ]
    },
    {
     "name": "stderr",
     "output_type": "stream",
     "text": [
      "Train Processing: :  92%|█████████▏| 90/98 [00:01<00:00, 64.84it/s, {'multiclassaccuracy': 0.9033654, 'multiclassprecision': 0.9033654, 'val_multiclassaccuracy': 0.84687495, 'val_multiclassprecision': 0.84687495}] \n",
      "Train Processing: :  20%|██        | 20/98 [00:00<00:00, 131.71it/s]"
     ]
    },
    {
     "name": "stdout",
     "output_type": "stream",
     "text": [
      "Epoch 5/20\n",
      "\u001b[2m\u001b[36m(PYUFedDYN pid=26127)\u001b[0m {'train-loss': -0.1212657019495964, 'train_multiclassaccuracy': tensor(0.9053), 'train_multiclassprecision': tensor(0.9053), 'val_eval_multiclassaccuracy': tensor(0.8216), 'val_eval_multiclassprecision': tensor(0.8216)}\n",
      "\u001b[2m\u001b[36m(PYUFedDYN pid=26129)\u001b[0m {'train-loss': 0.07915104180574417, 'train_multiclassaccuracy': tensor(0.9014), 'train_multiclassprecision': tensor(0.9014), 'val_eval_multiclassaccuracy': tensor(0.8721), 'val_eval_multiclassprecision': tensor(0.8721)}\n"
     ]
    },
    {
     "name": "stderr",
     "output_type": "stream",
     "text": [
      "Train Processing: :  92%|█████████▏| 90/98 [00:01<00:00, 62.59it/s, {'multiclassaccuracy': 0.9034856, 'multiclassprecision': 0.9034856, 'val_multiclassaccuracy': 0.84759617, 'val_multiclassprecision': 0.84759617}] \n",
      "Train Processing: :  10%|█         | 10/98 [00:00<00:00, 98.45it/s]"
     ]
    },
    {
     "name": "stdout",
     "output_type": "stream",
     "text": [
      "Epoch 6/20\n",
      "\u001b[2m\u001b[36m(PYUFedDYN pid=26127)\u001b[0m {'train-loss': -0.18948303163051605, 'train_multiclassaccuracy': tensor(0.9045), 'train_multiclassprecision': tensor(0.9045), 'val_eval_multiclassaccuracy': tensor(0.8245), 'val_eval_multiclassprecision': tensor(0.8245)}\n",
      "\u001b[2m\u001b[36m(PYUFedDYN pid=26129)\u001b[0m {'train-loss': -0.015630895271897316, 'train_multiclassaccuracy': tensor(0.9025), 'train_multiclassprecision': tensor(0.9025), 'val_eval_multiclassaccuracy': tensor(0.8707), 'val_eval_multiclassprecision': tensor(0.8707)}\n"
     ]
    },
    {
     "name": "stderr",
     "output_type": "stream",
     "text": [
      "Train Processing: :  92%|█████████▏| 90/98 [00:01<00:00, 59.67it/s, {'multiclassaccuracy': 0.9035657, 'multiclassprecision': 0.9035657, 'val_multiclassaccuracy': 0.8485577, 'val_multiclassprecision': 0.8485577}] \n",
      "Train Processing: :  20%|██        | 20/98 [00:00<00:00, 149.32it/s]"
     ]
    },
    {
     "name": "stdout",
     "output_type": "stream",
     "text": [
      "Epoch 7/20\n",
      "\u001b[2m\u001b[36m(PYUFedDYN pid=26127)\u001b[0m {'train-loss': -0.2650998830795288, 'train_multiclassaccuracy': tensor(0.9043), 'train_multiclassprecision': tensor(0.9043), 'val_eval_multiclassaccuracy': tensor(0.8250), 'val_eval_multiclassprecision': tensor(0.8250)}\n",
      "\u001b[2m\u001b[36m(PYUFedDYN pid=26129)\u001b[0m {'train-loss': -0.10920149832963943, 'train_multiclassaccuracy': tensor(0.9028), 'train_multiclassprecision': tensor(0.9028), 'val_eval_multiclassaccuracy': tensor(0.8721), 'val_eval_multiclassprecision': tensor(0.8721)}\n"
     ]
    },
    {
     "name": "stderr",
     "output_type": "stream",
     "text": [
      "Train Processing: :  92%|█████████▏| 90/98 [00:01<00:00, 59.73it/s, {'multiclassaccuracy': 0.9036458, 'multiclassprecision': 0.9036458, 'val_multiclassaccuracy': 0.8512019, 'val_multiclassprecision': 0.8512019}] \n",
      "Train Processing: :  20%|██        | 20/98 [00:00<00:00, 153.56it/s]"
     ]
    },
    {
     "name": "stdout",
     "output_type": "stream",
     "text": [
      "Epoch 8/20\n",
      "\u001b[2m\u001b[36m(PYUFedDYN pid=26127)\u001b[0m {'train-loss': -0.33136722445487976, 'train_multiclassaccuracy': tensor(0.9037), 'train_multiclassprecision': tensor(0.9037), 'val_eval_multiclassaccuracy': tensor(0.8288), 'val_eval_multiclassprecision': tensor(0.8288)}\n",
      "\u001b[2m\u001b[36m(PYUFedDYN pid=26129)\u001b[0m {'train-loss': -0.20910151302814484, 'train_multiclassaccuracy': tensor(0.9036), 'train_multiclassprecision': tensor(0.9036), 'val_eval_multiclassaccuracy': tensor(0.8736), 'val_eval_multiclassprecision': tensor(0.8736)}\n"
     ]
    },
    {
     "name": "stderr",
     "output_type": "stream",
     "text": [
      "Train Processing: :  92%|█████████▏| 90/98 [00:01<00:00, 58.55it/s, {'multiclassaccuracy': 0.90400636, 'multiclassprecision': 0.90400636, 'val_multiclassaccuracy': 0.853125, 'val_multiclassprecision': 0.853125}] \n",
      "Train Processing: :  20%|██        | 20/98 [00:00<00:00, 155.74it/s]"
     ]
    },
    {
     "name": "stdout",
     "output_type": "stream",
     "text": [
      "Epoch 9/20\n",
      "\u001b[2m\u001b[36m(PYUFedDYN pid=26127)\u001b[0m {'train-loss': -0.40967634320259094, 'train_multiclassaccuracy': tensor(0.9037), 'train_multiclassprecision': tensor(0.9037), 'val_eval_multiclassaccuracy': tensor(0.8317), 'val_eval_multiclassprecision': tensor(0.8317)}\n",
      "\u001b[2m\u001b[36m(PYUFedDYN pid=26129)\u001b[0m {'train-loss': -0.3022306263446808, 'train_multiclassaccuracy': tensor(0.9043), 'train_multiclassprecision': tensor(0.9043), 'val_eval_multiclassaccuracy': tensor(0.8745), 'val_eval_multiclassprecision': tensor(0.8745)}\n"
     ]
    },
    {
     "name": "stderr",
     "output_type": "stream",
     "text": [
      "Train Processing: :  92%|█████████▏| 90/98 [00:01<00:00, 57.30it/s, {'multiclassaccuracy': 0.9040064, 'multiclassprecision': 0.9040064, 'val_multiclassaccuracy': 0.853125, 'val_multiclassprecision': 0.853125}] \n",
      "Train Processing: :  20%|██        | 20/98 [00:00<00:00, 148.31it/s]"
     ]
    },
    {
     "name": "stdout",
     "output_type": "stream",
     "text": [
      "Epoch 10/20\n",
      "\u001b[2m\u001b[36m(PYUFedDYN pid=26127)\u001b[0m {'train-loss': -0.48073142766952515, 'train_multiclassaccuracy': tensor(0.9040), 'train_multiclassprecision': tensor(0.9040), 'val_eval_multiclassaccuracy': tensor(0.8327), 'val_eval_multiclassprecision': tensor(0.8327)}\n",
      "\u001b[2m\u001b[36m(PYUFedDYN pid=26129)\u001b[0m {'train-loss': -0.4054984748363495, 'train_multiclassaccuracy': tensor(0.9040), 'train_multiclassprecision': tensor(0.9040), 'val_eval_multiclassaccuracy': tensor(0.8736), 'val_eval_multiclassprecision': tensor(0.8736)}\n"
     ]
    },
    {
     "name": "stderr",
     "output_type": "stream",
     "text": [
      "Train Processing: :  92%|█████████▏| 90/98 [00:01<00:00, 54.52it/s, {'multiclassaccuracy': 0.90436697, 'multiclassprecision': 0.90436697, 'val_multiclassaccuracy': 0.8540865, 'val_multiclassprecision': 0.8540865}] \n",
      "Train Processing: :  20%|██        | 20/98 [00:00<00:00, 151.39it/s]"
     ]
    },
    {
     "name": "stdout",
     "output_type": "stream",
     "text": [
      "Epoch 11/20\n",
      "\u001b[2m\u001b[36m(PYUFedDYN pid=26127)\u001b[0m {'train-loss': -0.5630325675010681, 'train_multiclassaccuracy': tensor(0.9046), 'train_multiclassprecision': tensor(0.9046), 'val_eval_multiclassaccuracy': tensor(0.8327), 'val_eval_multiclassprecision': tensor(0.8327)}\n",
      "\u001b[2m\u001b[36m(PYUFedDYN pid=26129)\u001b[0m {'train-loss': -0.5046301484107971, 'train_multiclassaccuracy': tensor(0.9042), 'train_multiclassprecision': tensor(0.9042), 'val_eval_multiclassaccuracy': tensor(0.8755), 'val_eval_multiclassprecision': tensor(0.8755)}\n"
     ]
    },
    {
     "name": "stderr",
     "output_type": "stream",
     "text": [
      "Train Processing: :  92%|█████████▏| 90/98 [00:01<00:00, 54.39it/s, {'multiclassaccuracy': 0.9045673, 'multiclassprecision': 0.9045673, 'val_multiclassaccuracy': 0.85504806, 'val_multiclassprecision': 0.85504806}] \n",
      "Train Processing: :  20%|██        | 20/98 [00:00<00:00, 128.21it/s]"
     ]
    },
    {
     "name": "stdout",
     "output_type": "stream",
     "text": [
      "Epoch 12/20\n",
      "\u001b[2m\u001b[36m(PYUFedDYN pid=26127)\u001b[0m {'train-loss': -0.637290894985199, 'train_multiclassaccuracy': tensor(0.9049), 'train_multiclassprecision': tensor(0.9049), 'val_eval_multiclassaccuracy': tensor(0.8341), 'val_eval_multiclassprecision': tensor(0.8341)}\n",
      "\u001b[2m\u001b[36m(PYUFedDYN pid=26129)\u001b[0m {'train-loss': -0.5980814099311829, 'train_multiclassaccuracy': tensor(0.9042), 'train_multiclassprecision': tensor(0.9042), 'val_eval_multiclassaccuracy': tensor(0.8760), 'val_eval_multiclassprecision': tensor(0.8760)}\n"
     ]
    },
    {
     "name": "stderr",
     "output_type": "stream",
     "text": [
      "Train Processing: :  92%|█████████▏| 90/98 [00:01<00:00, 48.63it/s, {'multiclassaccuracy': 0.90460736, 'multiclassprecision': 0.90460736, 'val_multiclassaccuracy': 0.85552883, 'val_multiclassprecision': 0.85552883}] \n",
      "Train Processing: :  20%|██        | 20/98 [00:00<00:00, 153.63it/s]"
     ]
    },
    {
     "name": "stdout",
     "output_type": "stream",
     "text": [
      "Epoch 13/20\n",
      "\u001b[2m\u001b[36m(PYUFedDYN pid=26127)\u001b[0m {'train-loss': -0.7204365730285645, 'train_multiclassaccuracy': tensor(0.9046), 'train_multiclassprecision': tensor(0.9046), 'val_eval_multiclassaccuracy': tensor(0.8351), 'val_eval_multiclassprecision': tensor(0.8351)}\n",
      "\u001b[2m\u001b[36m(PYUFedDYN pid=26129)\u001b[0m {'train-loss': -0.7020918726921082, 'train_multiclassaccuracy': tensor(0.9046), 'train_multiclassprecision': tensor(0.9046), 'val_eval_multiclassaccuracy': tensor(0.8760), 'val_eval_multiclassprecision': tensor(0.8760)}\n"
     ]
    },
    {
     "name": "stderr",
     "output_type": "stream",
     "text": [
      "Train Processing: :  92%|█████████▏| 90/98 [00:01<00:00, 51.92it/s, {'multiclassaccuracy': 0.90436697, 'multiclassprecision': 0.90436697, 'val_multiclassaccuracy': 0.85480773, 'val_multiclassprecision': 0.85480773}] \n",
      "Train Processing: :  20%|██        | 20/98 [00:00<00:00, 154.64it/s]"
     ]
    },
    {
     "name": "stdout",
     "output_type": "stream",
     "text": [
      "Epoch 14/20\n",
      "\u001b[2m\u001b[36m(PYUFedDYN pid=26127)\u001b[0m {'train-loss': -0.7988511323928833, 'train_multiclassaccuracy': tensor(0.9041), 'train_multiclassprecision': tensor(0.9041), 'val_eval_multiclassaccuracy': tensor(0.8337), 'val_eval_multiclassprecision': tensor(0.8337)}\n",
      "\u001b[2m\u001b[36m(PYUFedDYN pid=26129)\u001b[0m {'train-loss': -0.8005225658416748, 'train_multiclassaccuracy': tensor(0.9046), 'train_multiclassprecision': tensor(0.9046), 'val_eval_multiclassaccuracy': tensor(0.8760), 'val_eval_multiclassprecision': tensor(0.8760)}\n"
     ]
    },
    {
     "name": "stderr",
     "output_type": "stream",
     "text": [
      "Train Processing: :  92%|█████████▏| 90/98 [00:01<00:00, 51.33it/s, {'multiclassaccuracy': 0.90436697, 'multiclassprecision': 0.90436697, 'val_multiclassaccuracy': 0.8540865, 'val_multiclassprecision': 0.8540865}] \n",
      "Train Processing: :  20%|██        | 20/98 [00:00<00:00, 150.72it/s]"
     ]
    },
    {
     "name": "stdout",
     "output_type": "stream",
     "text": [
      "Epoch 15/20\n",
      "\u001b[2m\u001b[36m(PYUFedDYN pid=26127)\u001b[0m {'train-loss': -0.8980284929275513, 'train_multiclassaccuracy': tensor(0.9043), 'train_multiclassprecision': tensor(0.9043), 'val_eval_multiclassaccuracy': tensor(0.8327), 'val_eval_multiclassprecision': tensor(0.8327)}\n",
      "\u001b[2m\u001b[36m(PYUFedDYN pid=26129)\u001b[0m {'train-loss': -0.9081017374992371, 'train_multiclassaccuracy': tensor(0.9044), 'train_multiclassprecision': tensor(0.9044), 'val_eval_multiclassaccuracy': tensor(0.8755), 'val_eval_multiclassprecision': tensor(0.8755)}\n"
     ]
    },
    {
     "name": "stderr",
     "output_type": "stream",
     "text": [
      "Train Processing: :  92%|█████████▏| 90/98 [00:01<00:00, 50.44it/s, {'multiclassaccuracy': 0.9040465, 'multiclassprecision': 0.9040465, 'val_multiclassaccuracy': 0.85432696, 'val_multiclassprecision': 0.85432696}] \n",
      "Train Processing: :  20%|██        | 20/98 [00:00<00:00, 156.32it/s]"
     ]
    },
    {
     "name": "stdout",
     "output_type": "stream",
     "text": [
      "Epoch 16/20\n",
      "\u001b[2m\u001b[36m(PYUFedDYN pid=26127)\u001b[0m {'train-loss': -0.9956777691841125, 'train_multiclassaccuracy': tensor(0.9043), 'train_multiclassprecision': tensor(0.9043), 'val_eval_multiclassaccuracy': tensor(0.8337), 'val_eval_multiclassprecision': tensor(0.8337)}\n",
      "\u001b[2m\u001b[36m(PYUFedDYN pid=26129)\u001b[0m {'train-loss': -1.00986909866333, 'train_multiclassaccuracy': tensor(0.9038), 'train_multiclassprecision': tensor(0.9038), 'val_eval_multiclassaccuracy': tensor(0.8750), 'val_eval_multiclassprecision': tensor(0.8750)}\n"
     ]
    },
    {
     "name": "stderr",
     "output_type": "stream",
     "text": [
      "Train Processing: :  92%|█████████▏| 90/98 [00:01<00:00, 49.96it/s, {'multiclassaccuracy': 0.90376604, 'multiclassprecision': 0.90376604, 'val_multiclassaccuracy': 0.8538462, 'val_multiclassprecision': 0.8538462}] \n",
      "Train Processing: :  20%|██        | 20/98 [00:00<00:00, 147.24it/s]"
     ]
    },
    {
     "name": "stdout",
     "output_type": "stream",
     "text": [
      "Epoch 17/20\n",
      "\u001b[2m\u001b[36m(PYUFedDYN pid=26127)\u001b[0m {'train-loss': -1.0854036808013916, 'train_multiclassaccuracy': tensor(0.9041), 'train_multiclassprecision': tensor(0.9041), 'val_eval_multiclassaccuracy': tensor(0.8308), 'val_eval_multiclassprecision': tensor(0.8308)}\n",
      "\u001b[2m\u001b[36m(PYUFedDYN pid=26129)\u001b[0m {'train-loss': -1.1057486534118652, 'train_multiclassaccuracy': tensor(0.9034), 'train_multiclassprecision': tensor(0.9034), 'val_eval_multiclassaccuracy': tensor(0.8769), 'val_eval_multiclassprecision': tensor(0.8769)}\n"
     ]
    },
    {
     "name": "stderr",
     "output_type": "stream",
     "text": [
      "Train Processing: :  92%|█████████▏| 90/98 [00:01<00:00, 47.61it/s, {'multiclassaccuracy': 0.90420675, 'multiclassprecision': 0.90420675, 'val_multiclassaccuracy': 0.85168266, 'val_multiclassprecision': 0.85168266}] \n",
      "Train Processing: :  20%|██        | 20/98 [00:00<00:00, 157.70it/s]"
     ]
    },
    {
     "name": "stdout",
     "output_type": "stream",
     "text": [
      "Epoch 18/20\n",
      "\u001b[2m\u001b[36m(PYUFedDYN pid=26127)\u001b[0m {'train-loss': -1.1910898685455322, 'train_multiclassaccuracy': tensor(0.9043), 'train_multiclassprecision': tensor(0.9043), 'val_eval_multiclassaccuracy': tensor(0.8274), 'val_eval_multiclassprecision': tensor(0.8274)}\n",
      "\u001b[2m\u001b[36m(PYUFedDYN pid=26129)\u001b[0m {'train-loss': -1.2148244380950928, 'train_multiclassaccuracy': tensor(0.9041), 'train_multiclassprecision': tensor(0.9041), 'val_eval_multiclassaccuracy': tensor(0.8760), 'val_eval_multiclassprecision': tensor(0.8760)}\n"
     ]
    },
    {
     "name": "stderr",
     "output_type": "stream",
     "text": [
      "Train Processing: :  92%|█████████▏| 90/98 [00:01<00:00, 46.85it/s, {'multiclassaccuracy': 0.9042468, 'multiclassprecision': 0.9042468, 'val_multiclassaccuracy': 0.85168266, 'val_multiclassprecision': 0.85168266}] \n",
      "Train Processing: :  20%|██        | 20/98 [00:00<00:00, 151.03it/s]"
     ]
    },
    {
     "name": "stdout",
     "output_type": "stream",
     "text": [
      "Epoch 19/20\n",
      "\u001b[2m\u001b[36m(PYUFedDYN pid=26127)\u001b[0m {'train-loss': -1.2895804643630981, 'train_multiclassaccuracy': tensor(0.9043), 'train_multiclassprecision': tensor(0.9043), 'val_eval_multiclassaccuracy': tensor(0.8293), 'val_eval_multiclassprecision': tensor(0.8293)}\n",
      "\u001b[2m\u001b[36m(PYUFedDYN pid=26129)\u001b[0m {'train-loss': -1.332841157913208, 'train_multiclassaccuracy': tensor(0.9042), 'train_multiclassprecision': tensor(0.9042), 'val_eval_multiclassaccuracy': tensor(0.8740), 'val_eval_multiclassprecision': tensor(0.8740)}\n"
     ]
    },
    {
     "name": "stderr",
     "output_type": "stream",
     "text": [
      "Train Processing: :  92%|█████████▏| 90/98 [00:01<00:00, 46.07it/s, {'multiclassaccuracy': 0.90436697, 'multiclassprecision': 0.90436697, 'val_multiclassaccuracy': 0.8526442, 'val_multiclassprecision': 0.8526442}] \n",
      "Train Processing: :  20%|██        | 20/98 [00:00<00:00, 149.16it/s]"
     ]
    },
    {
     "name": "stdout",
     "output_type": "stream",
     "text": [
      "Epoch 20/20\n",
      "\u001b[2m\u001b[36m(PYUFedDYN pid=26127)\u001b[0m {'train-loss': -1.4142484664916992, 'train_multiclassaccuracy': tensor(0.9044), 'train_multiclassprecision': tensor(0.9044), 'val_eval_multiclassaccuracy': tensor(0.8284), 'val_eval_multiclassprecision': tensor(0.8284)}\n",
      "\u001b[2m\u001b[36m(PYUFedDYN pid=26129)\u001b[0m {'train-loss': -1.4295871257781982, 'train_multiclassaccuracy': tensor(0.9043), 'train_multiclassprecision': tensor(0.9043), 'val_eval_multiclassaccuracy': tensor(0.8769), 'val_eval_multiclassprecision': tensor(0.8769)}\n"
     ]
    },
    {
     "name": "stderr",
     "output_type": "stream",
     "text": [
      "Train Processing: :  92%|█████████▏| 90/98 [00:01<00:00, 45.09it/s, {'multiclassaccuracy': 0.9043269, 'multiclassprecision': 0.9043269, 'val_multiclassaccuracy': 0.85504806, 'val_multiclassprecision': 0.85504806}] \n"
     ]
    }
   ],
   "source": [
    "fl_model_2 = FLModel(\n",
    "    server=server,\n",
    "    device_list=device_list,\n",
    "    model=model_def,\n",
    "    aggregator=aggregator,\n",
    "    strategy=\"fed_avg_w\",  # fl strategy\n",
    "    backend=\"torch\",  # backend support ['tensorflow', 'torch']\n",
    ")\n",
    "history_2 = fl_model.fit(\n",
    "    train_data,\n",
    "    train_label,\n",
    "    validation_data=(test_data, test_label),\n",
    "    epochs=20,\n",
    "    batch_size=128,\n",
    "    aggregate_freq=10,\n",
    ")"
   ]
  },
  {
   "cell_type": "code",
   "execution_count": 20,
   "id": "9595c744fedfbee6",
   "metadata": {
    "ExecuteTime": {
     "end_time": "2024-01-18T03:20:33.340848300Z",
     "start_time": "2024-01-18T03:20:33.292848900Z"
    },
    "collapsed": false
   },
   "outputs": [
    {
     "name": "stdout",
     "output_type": "stream",
     "text": [
      "\u001b[2m\u001b[36m(PYUFedDYN pid=26127)\u001b[0m {'train-loss': -1.5059984922409058, 'train_multiclassaccuracy': tensor(0.9048), 'train_multiclassprecision': tensor(0.9048), 'val_eval_multiclassaccuracy': tensor(0.8313), 'val_eval_multiclassprecision': tensor(0.8313)}\n",
      "\u001b[2m\u001b[36m(PYUFedDYN pid=26129)\u001b[0m {'train-loss': -1.569032907485962, 'train_multiclassaccuracy': tensor(0.9038), 'train_multiclassprecision': tensor(0.9038), 'val_eval_multiclassaccuracy': tensor(0.8788), 'val_eval_multiclassprecision': tensor(0.8788)}\n",
      "{'alice_train-loss': [0.08044049888849258, 0.014227005653083324, -0.05369977653026581, -0.1212657019495964, -0.18948303163051605, -0.2650998830795288, -0.33136722445487976, -0.40967634320259094, -0.48073142766952515, -0.5630325675010681, -0.637290894985199, -0.7204365730285645, -0.7988511323928833, -0.8980284929275513, -0.9956777691841125, -1.0854036808013916, -1.1910898685455322, -1.2895804643630981, -1.4142484664916992, -1.5059984922409058], 'alice_train_multiclassaccuracy': [tensor(0.9034), tensor(0.9042), tensor(0.9051), tensor(0.9053), tensor(0.9045), tensor(0.9043), tensor(0.9037), tensor(0.9037), tensor(0.9040), tensor(0.9046), tensor(0.9049), tensor(0.9046), tensor(0.9041), tensor(0.9043), tensor(0.9043), tensor(0.9041), tensor(0.9043), tensor(0.9043), tensor(0.9044), tensor(0.9048)], 'alice_train_multiclassprecision': [tensor(0.9034), tensor(0.9042), tensor(0.9051), tensor(0.9053), tensor(0.9045), tensor(0.9043), tensor(0.9037), tensor(0.9037), tensor(0.9040), tensor(0.9046), tensor(0.9049), tensor(0.9046), tensor(0.9041), tensor(0.9043), tensor(0.9043), tensor(0.9041), tensor(0.9043), tensor(0.9043), tensor(0.9044), tensor(0.9048)], 'alice_val_eval_multiclassaccuracy': [tensor(0.8139), tensor(0.8149), tensor(0.8178), tensor(0.8216), tensor(0.8245), tensor(0.8250), tensor(0.8288), tensor(0.8317), tensor(0.8327), tensor(0.8327), tensor(0.8341), tensor(0.8351), tensor(0.8337), tensor(0.8327), tensor(0.8337), tensor(0.8308), tensor(0.8274), tensor(0.8293), tensor(0.8284), tensor(0.8313)], 'alice_val_eval_multiclassprecision': [tensor(0.8139), tensor(0.8149), tensor(0.8178), tensor(0.8216), tensor(0.8245), tensor(0.8250), tensor(0.8288), tensor(0.8317), tensor(0.8327), tensor(0.8327), tensor(0.8341), tensor(0.8351), tensor(0.8337), tensor(0.8327), tensor(0.8337), tensor(0.8308), tensor(0.8274), tensor(0.8293), tensor(0.8284), tensor(0.8313)], 'bob_train-loss': [0.3673584759235382, 0.2703603208065033, 0.17689387500286102, 0.07915104180574417, -0.015630895271897316, -0.10920149832963943, -0.20910151302814484, -0.3022306263446808, -0.4054984748363495, -0.5046301484107971, -0.5980814099311829, -0.7020918726921082, -0.8005225658416748, -0.9081017374992371, -1.00986909866333, -1.1057486534118652, -1.2148244380950928, -1.332841157913208, -1.4295871257781982, -1.569032907485962], 'bob_train_multiclassaccuracy': [tensor(0.8964), tensor(0.8981), tensor(0.9003), tensor(0.9014), tensor(0.9025), tensor(0.9028), tensor(0.9036), tensor(0.9043), tensor(0.9040), tensor(0.9042), tensor(0.9042), tensor(0.9046), tensor(0.9046), tensor(0.9044), tensor(0.9038), tensor(0.9034), tensor(0.9041), tensor(0.9042), tensor(0.9043), tensor(0.9038)], 'bob_train_multiclassprecision': [tensor(0.8964), tensor(0.8981), tensor(0.9003), tensor(0.9014), tensor(0.9025), tensor(0.9028), tensor(0.9036), tensor(0.9043), tensor(0.9040), tensor(0.9042), tensor(0.9042), tensor(0.9046), tensor(0.9046), tensor(0.9044), tensor(0.9038), tensor(0.9034), tensor(0.9041), tensor(0.9042), tensor(0.9043), tensor(0.9038)], 'bob_val_eval_multiclassaccuracy': [tensor(0.8663), tensor(0.8678), tensor(0.8687), tensor(0.8721), tensor(0.8707), tensor(0.8721), tensor(0.8736), tensor(0.8745), tensor(0.8736), tensor(0.8755), tensor(0.8760), tensor(0.8760), tensor(0.8760), tensor(0.8755), tensor(0.8750), tensor(0.8769), tensor(0.8760), tensor(0.8740), tensor(0.8769), tensor(0.8788)], 'bob_val_eval_multiclassprecision': [tensor(0.8663), tensor(0.8678), tensor(0.8687), tensor(0.8721), tensor(0.8707), tensor(0.8721), tensor(0.8736), tensor(0.8745), tensor(0.8736), tensor(0.8755), tensor(0.8760), tensor(0.8760), tensor(0.8760), tensor(0.8755), tensor(0.8750), tensor(0.8769), tensor(0.8760), tensor(0.8740), tensor(0.8769), tensor(0.8788)]}\n"
     ]
    }
   ],
   "source": [
    "print(history_2[\"local_history\"])"
   ]
  },
  {
   "cell_type": "code",
   "execution_count": 21,
   "id": "52bb34aa9b54b501",
   "metadata": {
    "ExecuteTime": {
     "end_time": "2024-01-18T03:20:33.499786500Z",
     "start_time": "2024-01-18T03:20:33.342847600Z"
    },
    "collapsed": false
   },
   "outputs": [
    {
     "data": {
      "image/png": "[encoded data removed]",
      "text/plain": [
       "<Figure size 640x480 with 1 Axes>"
      ]
     },
     "metadata": {},
     "output_type": "display_data"
    }
   ],
   "source": [
    "from matplotlib import pyplot as plt\n",
    "\n",
    "# Draw accuracy values for training & validation\n",
    "plt.plot(history_2[\"global_history\"][\"multiclassaccuracy\"])\n",
    "plt.plot(history_2[\"global_history\"][\"val_multiclassaccuracy\"])\n",
    "plt.plot(history_2[\"local_history\"][\"alice_train_multiclassaccuracy\"])\n",
    "plt.plot(history_2[\"local_history\"][\"bob_train_multiclassaccuracy\"])\n",
    "plt.plot(history_2[\"local_history\"][\"alice_val_eval_multiclassaccuracy\"])\n",
    "plt.plot(history_2[\"local_history\"][\"bob_val_eval_multiclassaccuracy\"])\n",
    "plt.title(\"FLModel accuracy in FedAvg\")\n",
    "plt.ylabel(\"Accuracy\")\n",
    "plt.xlabel(\"Epoch\")\n",
    "plt.legend([\"Train\", \"Valid\", \"alice_T\", \"bob_T\", \"alice_V\", \"bob_V\"], loc=\"upper left\")\n",
    "plt.show()"
   ]
  }
 ],
 "metadata": {
  "kernelspec": {
   "display_name": "Python 3",
   "language": "python",
   "name": "python3"
  },
  "language_info": {
   "codemirror_mode": {
    "name": "ipython",
    "version": 2
   },
   "file_extension": ".py",
   "mimetype": "text/x-python",
   "name": "python",
   "nbconvert_exporter": "python",
   "pygments_lexer": "ipython2",
   "version": "2.7.6"
  }
 },
 "nbformat": 4,
 "nbformat_minor": 5
}
