{
 "cells": [
  {
   "cell_type": "markdown",
   "metadata": {},
   "source": [
    "# Split Learning—Bank Marketing—Torch Backend"
   ]
  },
  {
   "cell_type": "markdown",
   "metadata": {},
   "source": [
    ">The following codes are demos only. It's **NOT for production** due to system security concerns, please **DO NOT** use it directly in production."
   ]
  },
  {
   "cell_type": "markdown",
   "metadata": {},
   "source": [
    "In this tutorial, we will use the bank's marketing model as an example to show how to accomplish split learning in vertical scenarios under the SecretFlow framework.\n",
    "SecretFlow provides a user-friendly Api that makes it easy to apply your Keras model or PyTorch model to split learning scenarios to complete joint modeling tasks for vertical scenarios.\n",
    "\n",
    "In this tutorial we will show you how to turn your existing 'Keras' model into a split learning model under Secretflow to complete federated multi-party modeling tasks."
   ]
  },
  {
   "cell_type": "markdown",
   "metadata": {},
   "source": [
    "## What is Split Learning？"
   ]
  },
  {
   "cell_type": "markdown",
   "metadata": {},
   "source": [
    "The core idea of split learning is to split the network structure. Each device (silo) retains only a part of the network structure, and the sub-network structure of all devices is combined together to form a complete network model. \n",
    "In the training process, different devices (silos) only perform forward or reverse calculation on the local network structure, and transfer the calculation results to the next device. Multiple devices complete the training through joint model until convergence.\n",
    "\n",
    " <img alt=\"split_learning_tutorial.png\" src=\"resources/split_learning_tutorial.png\" width=\"600\">  \n"
   ]
  },
  {
   "cell_type": "markdown",
   "metadata": {},
   "source": [
    "**Alice**：have *data\\_alice*，*model\\_base\\_alice*  \n",
    "**Bob**: have *data\\_bob*，*model\\_base\\_bob*，*model\\_fuse*  \n",
    "\n",
    "1. **Alice** uses its data to get *hidden0* through *model\\_base\\_Alice* and send it to Bob. \n",
    "2. **Bob** gets *hidden1* with its data through *model\\_base\\_bob*.\n",
    "3. *hidden\\_0* and *hidden\\_1* are input to the *AggLayer* for aggregation, and the aggregated *hidden\\_merge* is the output.\n",
    "4. **Bob** input *hidden\\_merge* to *model\\_fuse*, get the gradient with *label* and send it back.\n",
    "5. The gradient is split into two parts *g\\_0*, *g\\_1* through *AggLayer*, which are sent to **Alice** and **Bob** respectively.\n",
    "6. Then **Alice** and **Bob** update their local base net with *g\\_0* or *g\\_1*.\n"
   ]
  },
  {
   "cell_type": "markdown",
   "metadata": {},
   "source": [
    "## Task"
   ]
  },
  {
   "cell_type": "markdown",
   "metadata": {},
   "source": [
    "Marketing is the banking industry in the ever-changing market environment, to meet the needs of customers, to achieve business objectives of the overall operation and sales activities. In the current environment of big data, data analysis provides a more effective analysis means for the banking industry. Customer demand analysis, understanding of target market trends and more macro market strategies can provide the basis and direction.  \n",
    "  \n",
    "The data from [kaggle](https://www.kaggle.com/janiobachmann/bank-marketing-dataset) is a set of classic marketing data bank, is a Portuguese bank agency telephone direct marketing activities, The target variable is whether the customer subscribes to deposit product."
   ]
  },
  {
   "cell_type": "markdown",
   "metadata": {},
   "source": [
    "## Data\n",
    "\n",
    "1. The total sample size was 11162, including 8929 training set and 2233 test set.\n",
    "2. Feature dim is 16, target is binary classification.\n",
    "3. We have cut the data in advance. Alice holds the 4-dimensional basic attribute features, Bob holds the 12-dimensional bank transaction features, and only Alice holds the corresponding label."
   ]
  },
  {
   "cell_type": "markdown",
   "metadata": {},
   "source": [
    "Let's start by looking at what our bank's marketing data look like?  \n",
    "\n",
    "The original data is divided into Bank Alice and Bank Bob, which stores in Alice and Bob respectively. Here, CSV is the original data that has only been separated without pre-processing, we will use `secretflow preprocess` for FedData preprocess."
   ]
  },
  {
   "cell_type": "code",
   "execution_count": 462,
   "metadata": {},
   "outputs": [
    {
     "name": "stderr",
     "output_type": "stream",
     "text": [
      "2023-09-22 14:51:42,272\tINFO worker.py:1538 -- Started a local Ray instance.\n"
     ]
    }
   ],
   "source": [
    "%load_ext autoreload\n",
    "%autoreload 2\n",
    "\n",
    "import secretflow as sf\n",
    "import matplotlib.pyplot as plt\n",
    "sf.shutdown()\n",
    "\n",
    "sf.init(['alice', 'bob'], address='local',num_cpus=8)\n",
    "alice, bob = sf.PYU('alice'), sf.PYU('bob')"
   ]
  },
  {
   "cell_type": "markdown",
   "metadata": {},
   "source": [
    "### prepare data"
   ]
  },
  {
   "cell_type": "code",
   "execution_count": 463,
   "metadata": {},
   "outputs": [],
   "source": [
    "import pandas as pd\n",
    "from secretflow.utils.simulation.datasets import dataset\n",
    "import numpy as np\n",
    "df = pd.read_csv(dataset('bank_marketing'), sep=';')"
   ]
  },
  {
   "cell_type": "markdown",
   "metadata": {},
   "source": [
    "We assume that Alice is a new bank, and they only have the basic information of the user and purchased the label of financial products from other bank."
   ]
  },
  {
   "cell_type": "code",
   "execution_count": 464,
   "metadata": {},
   "outputs": [
    {
     "data": {
      "text/html": [
       "<div>\n",
       "<style scoped>\n",
       "    .dataframe tbody tr th:only-of-type {\n",
       "        vertical-align: middle;\n",
       "    }\n",
       "\n",
       "    .dataframe tbody tr th {\n",
       "        vertical-align: top;\n",
       "    }\n",
       "\n",
       "    .dataframe thead th {\n",
       "        text-align: right;\n",
       "    }\n",
       "</style>\n",
       "<table border=\"1\" class=\"dataframe\">\n",
       "  <thead>\n",
       "    <tr style=\"text-align: right;\">\n",
       "      <th></th>\n",
       "      <th>age</th>\n",
       "      <th>job</th>\n",
       "      <th>marital</th>\n",
       "      <th>education</th>\n",
       "      <th>y</th>\n",
       "    </tr>\n",
       "  </thead>\n",
       "  <tbody>\n",
       "    <tr>\n",
       "      <th>0</th>\n",
       "      <td>30</td>\n",
       "      <td>unemployed</td>\n",
       "      <td>married</td>\n",
       "      <td>primary</td>\n",
       "      <td>no</td>\n",
       "    </tr>\n",
       "    <tr>\n",
       "      <th>1</th>\n",
       "      <td>33</td>\n",
       "      <td>services</td>\n",
       "      <td>married</td>\n",
       "      <td>secondary</td>\n",
       "      <td>no</td>\n",
       "    </tr>\n",
       "    <tr>\n",
       "      <th>2</th>\n",
       "      <td>35</td>\n",
       "      <td>management</td>\n",
       "      <td>single</td>\n",
       "      <td>tertiary</td>\n",
       "      <td>no</td>\n",
       "    </tr>\n",
       "    <tr>\n",
       "      <th>3</th>\n",
       "      <td>30</td>\n",
       "      <td>management</td>\n",
       "      <td>married</td>\n",
       "      <td>tertiary</td>\n",
       "      <td>no</td>\n",
       "    </tr>\n",
       "    <tr>\n",
       "      <th>4</th>\n",
       "      <td>59</td>\n",
       "      <td>blue-collar</td>\n",
       "      <td>married</td>\n",
       "      <td>secondary</td>\n",
       "      <td>no</td>\n",
       "    </tr>\n",
       "    <tr>\n",
       "      <th>...</th>\n",
       "      <td>...</td>\n",
       "      <td>...</td>\n",
       "      <td>...</td>\n",
       "      <td>...</td>\n",
       "      <td>...</td>\n",
       "    </tr>\n",
       "    <tr>\n",
       "      <th>4516</th>\n",
       "      <td>33</td>\n",
       "      <td>services</td>\n",
       "      <td>married</td>\n",
       "      <td>secondary</td>\n",
       "      <td>no</td>\n",
       "    </tr>\n",
       "    <tr>\n",
       "      <th>4517</th>\n",
       "      <td>57</td>\n",
       "      <td>self-employed</td>\n",
       "      <td>married</td>\n",
       "      <td>tertiary</td>\n",
       "      <td>no</td>\n",
       "    </tr>\n",
       "    <tr>\n",
       "      <th>4518</th>\n",
       "      <td>57</td>\n",
       "      <td>technician</td>\n",
       "      <td>married</td>\n",
       "      <td>secondary</td>\n",
       "      <td>no</td>\n",
       "    </tr>\n",
       "    <tr>\n",
       "      <th>4519</th>\n",
       "      <td>28</td>\n",
       "      <td>blue-collar</td>\n",
       "      <td>married</td>\n",
       "      <td>secondary</td>\n",
       "      <td>no</td>\n",
       "    </tr>\n",
       "    <tr>\n",
       "      <th>4520</th>\n",
       "      <td>44</td>\n",
       "      <td>entrepreneur</td>\n",
       "      <td>single</td>\n",
       "      <td>tertiary</td>\n",
       "      <td>no</td>\n",
       "    </tr>\n",
       "  </tbody>\n",
       "</table>\n",
       "<p>4521 rows × 5 columns</p>\n",
       "</div>"
      ],
      "text/plain": [
       "      age            job  marital  education   y\n",
       "0      30     unemployed  married    primary  no\n",
       "1      33       services  married  secondary  no\n",
       "2      35     management   single   tertiary  no\n",
       "3      30     management  married   tertiary  no\n",
       "4      59    blue-collar  married  secondary  no\n",
       "...   ...            ...      ...        ...  ..\n",
       "4516   33       services  married  secondary  no\n",
       "4517   57  self-employed  married   tertiary  no\n",
       "4518   57     technician  married  secondary  no\n",
       "4519   28    blue-collar  married  secondary  no\n",
       "4520   44   entrepreneur   single   tertiary  no\n",
       "\n",
       "[4521 rows x 5 columns]"
      ]
     },
     "execution_count": 464,
     "metadata": {},
     "output_type": "execute_result"
    }
   ],
   "source": [
    "alice_data = df[[\"age\", \"job\", \"marital\", \"education\", \"y\"]]\n",
    "alice_data"
   ]
  },
  {
   "cell_type": "markdown",
   "metadata": {},
   "source": [
    "Bob is an old bank, they have the user's account balance, house, loan, and recent marketing feedback."
   ]
  },
  {
   "cell_type": "code",
   "execution_count": 465,
   "metadata": {},
   "outputs": [
    {
     "data": {
      "text/html": [
       "<div>\n",
       "<style scoped>\n",
       "    .dataframe tbody tr th:only-of-type {\n",
       "        vertical-align: middle;\n",
       "    }\n",
       "\n",
       "    .dataframe tbody tr th {\n",
       "        vertical-align: top;\n",
       "    }\n",
       "\n",
       "    .dataframe thead th {\n",
       "        text-align: right;\n",
       "    }\n",
       "</style>\n",
       "<table border=\"1\" class=\"dataframe\">\n",
       "  <thead>\n",
       "    <tr style=\"text-align: right;\">\n",
       "      <th></th>\n",
       "      <th>default</th>\n",
       "      <th>balance</th>\n",
       "      <th>housing</th>\n",
       "      <th>loan</th>\n",
       "      <th>contact</th>\n",
       "      <th>day</th>\n",
       "      <th>month</th>\n",
       "      <th>duration</th>\n",
       "      <th>campaign</th>\n",
       "      <th>pdays</th>\n",
       "      <th>previous</th>\n",
       "      <th>poutcome</th>\n",
       "    </tr>\n",
       "  </thead>\n",
       "  <tbody>\n",
       "    <tr>\n",
       "      <th>0</th>\n",
       "      <td>no</td>\n",
       "      <td>1787</td>\n",
       "      <td>no</td>\n",
       "      <td>no</td>\n",
       "      <td>cellular</td>\n",
       "      <td>19</td>\n",
       "      <td>oct</td>\n",
       "      <td>79</td>\n",
       "      <td>1</td>\n",
       "      <td>-1</td>\n",
       "      <td>0</td>\n",
       "      <td>unknown</td>\n",
       "    </tr>\n",
       "    <tr>\n",
       "      <th>1</th>\n",
       "      <td>no</td>\n",
       "      <td>4789</td>\n",
       "      <td>yes</td>\n",
       "      <td>yes</td>\n",
       "      <td>cellular</td>\n",
       "      <td>11</td>\n",
       "      <td>may</td>\n",
       "      <td>220</td>\n",
       "      <td>1</td>\n",
       "      <td>339</td>\n",
       "      <td>4</td>\n",
       "      <td>failure</td>\n",
       "    </tr>\n",
       "    <tr>\n",
       "      <th>2</th>\n",
       "      <td>no</td>\n",
       "      <td>1350</td>\n",
       "      <td>yes</td>\n",
       "      <td>no</td>\n",
       "      <td>cellular</td>\n",
       "      <td>16</td>\n",
       "      <td>apr</td>\n",
       "      <td>185</td>\n",
       "      <td>1</td>\n",
       "      <td>330</td>\n",
       "      <td>1</td>\n",
       "      <td>failure</td>\n",
       "    </tr>\n",
       "    <tr>\n",
       "      <th>3</th>\n",
       "      <td>no</td>\n",
       "      <td>1476</td>\n",
       "      <td>yes</td>\n",
       "      <td>yes</td>\n",
       "      <td>unknown</td>\n",
       "      <td>3</td>\n",
       "      <td>jun</td>\n",
       "      <td>199</td>\n",
       "      <td>4</td>\n",
       "      <td>-1</td>\n",
       "      <td>0</td>\n",
       "      <td>unknown</td>\n",
       "    </tr>\n",
       "    <tr>\n",
       "      <th>4</th>\n",
       "      <td>no</td>\n",
       "      <td>0</td>\n",
       "      <td>yes</td>\n",
       "      <td>no</td>\n",
       "      <td>unknown</td>\n",
       "      <td>5</td>\n",
       "      <td>may</td>\n",
       "      <td>226</td>\n",
       "      <td>1</td>\n",
       "      <td>-1</td>\n",
       "      <td>0</td>\n",
       "      <td>unknown</td>\n",
       "    </tr>\n",
       "    <tr>\n",
       "      <th>...</th>\n",
       "      <td>...</td>\n",
       "      <td>...</td>\n",
       "      <td>...</td>\n",
       "      <td>...</td>\n",
       "      <td>...</td>\n",
       "      <td>...</td>\n",
       "      <td>...</td>\n",
       "      <td>...</td>\n",
       "      <td>...</td>\n",
       "      <td>...</td>\n",
       "      <td>...</td>\n",
       "      <td>...</td>\n",
       "    </tr>\n",
       "    <tr>\n",
       "      <th>4516</th>\n",
       "      <td>no</td>\n",
       "      <td>-333</td>\n",
       "      <td>yes</td>\n",
       "      <td>no</td>\n",
       "      <td>cellular</td>\n",
       "      <td>30</td>\n",
       "      <td>jul</td>\n",
       "      <td>329</td>\n",
       "      <td>5</td>\n",
       "      <td>-1</td>\n",
       "      <td>0</td>\n",
       "      <td>unknown</td>\n",
       "    </tr>\n",
       "    <tr>\n",
       "      <th>4517</th>\n",
       "      <td>yes</td>\n",
       "      <td>-3313</td>\n",
       "      <td>yes</td>\n",
       "      <td>yes</td>\n",
       "      <td>unknown</td>\n",
       "      <td>9</td>\n",
       "      <td>may</td>\n",
       "      <td>153</td>\n",
       "      <td>1</td>\n",
       "      <td>-1</td>\n",
       "      <td>0</td>\n",
       "      <td>unknown</td>\n",
       "    </tr>\n",
       "    <tr>\n",
       "      <th>4518</th>\n",
       "      <td>no</td>\n",
       "      <td>295</td>\n",
       "      <td>no</td>\n",
       "      <td>no</td>\n",
       "      <td>cellular</td>\n",
       "      <td>19</td>\n",
       "      <td>aug</td>\n",
       "      <td>151</td>\n",
       "      <td>11</td>\n",
       "      <td>-1</td>\n",
       "      <td>0</td>\n",
       "      <td>unknown</td>\n",
       "    </tr>\n",
       "    <tr>\n",
       "      <th>4519</th>\n",
       "      <td>no</td>\n",
       "      <td>1137</td>\n",
       "      <td>no</td>\n",
       "      <td>no</td>\n",
       "      <td>cellular</td>\n",
       "      <td>6</td>\n",
       "      <td>feb</td>\n",
       "      <td>129</td>\n",
       "      <td>4</td>\n",
       "      <td>211</td>\n",
       "      <td>3</td>\n",
       "      <td>other</td>\n",
       "    </tr>\n",
       "    <tr>\n",
       "      <th>4520</th>\n",
       "      <td>no</td>\n",
       "      <td>1136</td>\n",
       "      <td>yes</td>\n",
       "      <td>yes</td>\n",
       "      <td>cellular</td>\n",
       "      <td>3</td>\n",
       "      <td>apr</td>\n",
       "      <td>345</td>\n",
       "      <td>2</td>\n",
       "      <td>249</td>\n",
       "      <td>7</td>\n",
       "      <td>other</td>\n",
       "    </tr>\n",
       "  </tbody>\n",
       "</table>\n",
       "<p>4521 rows × 12 columns</p>\n",
       "</div>"
      ],
      "text/plain": [
       "     default  balance housing loan   contact  day month  duration  campaign  \\\n",
       "0         no     1787      no   no  cellular   19   oct        79         1   \n",
       "1         no     4789     yes  yes  cellular   11   may       220         1   \n",
       "2         no     1350     yes   no  cellular   16   apr       185         1   \n",
       "3         no     1476     yes  yes   unknown    3   jun       199         4   \n",
       "4         no        0     yes   no   unknown    5   may       226         1   \n",
       "...      ...      ...     ...  ...       ...  ...   ...       ...       ...   \n",
       "4516      no     -333     yes   no  cellular   30   jul       329         5   \n",
       "4517     yes    -3313     yes  yes   unknown    9   may       153         1   \n",
       "4518      no      295      no   no  cellular   19   aug       151        11   \n",
       "4519      no     1137      no   no  cellular    6   feb       129         4   \n",
       "4520      no     1136     yes  yes  cellular    3   apr       345         2   \n",
       "\n",
       "      pdays  previous poutcome  \n",
       "0        -1         0  unknown  \n",
       "1       339         4  failure  \n",
       "2       330         1  failure  \n",
       "3        -1         0  unknown  \n",
       "4        -1         0  unknown  \n",
       "...     ...       ...      ...  \n",
       "4516     -1         0  unknown  \n",
       "4517     -1         0  unknown  \n",
       "4518     -1         0  unknown  \n",
       "4519    211         3    other  \n",
       "4520    249         7    other  \n",
       "\n",
       "[4521 rows x 12 columns]"
      ]
     },
     "execution_count": 465,
     "metadata": {},
     "output_type": "execute_result"
    }
   ],
   "source": [
    "bob_data = df[\n",
    "    [\n",
    "        \"default\",\n",
    "        \"balance\",\n",
    "        \"housing\",\n",
    "        \"loan\",\n",
    "        \"contact\",\n",
    "        \"day\",\n",
    "        \"month\",\n",
    "        \"duration\",\n",
    "        \"campaign\",\n",
    "        \"pdays\",\n",
    "        \"previous\",\n",
    "        \"poutcome\",\n",
    "    ]\n",
    "]\n",
    "bob_data"
   ]
  },
  {
   "cell_type": "markdown",
   "metadata": {},
   "source": [
    "## Create Secretflow Environment"
   ]
  },
  {
   "cell_type": "markdown",
   "metadata": {},
   "source": [
    "Create 2 entities in the Secretflow environment [Alice, Bob]  \n",
    "Where 'Alice' and 'Bob' are two `PYU`.  \n",
    "Once you've constructed the two objects, you can happily start Splitting Learning."
   ]
  },
  {
   "cell_type": "markdown",
   "metadata": {},
   "source": [
    "### Import Dependency"
   ]
  },
  {
   "cell_type": "code",
   "execution_count": 466,
   "metadata": {},
   "outputs": [],
   "source": [
    "from secretflow.data.split import train_test_split\n",
    "from secretflow.ml.nn import SLModel"
   ]
  },
  {
   "cell_type": "markdown",
   "metadata": {},
   "source": [
    "## Prepare Data"
   ]
  },
  {
   "cell_type": "markdown",
   "metadata": {},
   "source": [
    "**Build Federated Table**\n",
    "\n",
    "\n",
    "Federated table is a virtual concept that cross multiple parties, We define `VDataFrame` for vertical setting\n",
    ".  \n",
    "\n",
    "1. The data of all parties in a federated table is stored locally and is not allowed to go out of the domain.\n",
    "\n",
    "2. No one has access to data store except the party that owns the data.\n",
    "\n",
    "3. Any operation performed on the federated table is scheduled by the driver to each worker, and the execution instructions are delivered layer by layer until the Python runtime of the specific worker. The framework ensures that only the worker with `worker.device` equal to the `Object.device` can operate on the data.\n",
    "\n",
    "4. Federated tables are designed for managing and manipulating multi-party data from a central perspective.\n",
    "\n",
    "5. Interfaces to `Federated Tables` are aligned to `pandas.DataFrame` to reduce the cost of multi-party data operations.\n",
    "\n",
    "6. The SecretFlow framework provides Plain&Ciphertext hybrid programming capabilities. Vertical federated tables are built using `SPU`, and `MPC-PSI` is used to safely get intersection and align data from all parties.\n",
    "\n",
    "<img alt=\"vdataframe.png\" src=\"resources/vdataframe.png\" width=\"600\">  \n",
    "\n"
   ]
  },
  {
   "cell_type": "markdown",
   "metadata": {},
   "source": [
    "VDataFrame provides `read_csv` interface similar to pandas, the difference is that `secretflow.read_csv` receives a dictionary that defines the path of data for both parties. We can use `secretflow.vertical.read_csv` to build the `VDataFrame`.\n",
    "```\n",
    "read_csv(file_dict,delimiter,ppu,keys,drop_key)\n",
    "    filepath: Path of the participant file. The address can be a relative or absolute path to a local file\n",
    "    spu: SPU Device for PSI; If this parameter is not specified, data must be prealigned\n",
    "    keys: Key for intersection.\n",
    "```"
   ]
  },
  {
   "cell_type": "markdown",
   "metadata": {},
   "source": [
    "Create spu object"
   ]
  },
  {
   "cell_type": "code",
   "execution_count": 467,
   "metadata": {},
   "outputs": [],
   "source": [
    "spu = sf.SPU(sf.utils.testing.cluster_def(['alice', 'bob']))"
   ]
  },
  {
   "cell_type": "code",
   "execution_count": 468,
   "metadata": {},
   "outputs": [],
   "source": [
    "from secretflow.utils.simulation.datasets import load_bank_marketing\n",
    "\n",
    "# Alice has the first four features,\n",
    "# while bob has the left features\n",
    "data = load_bank_marketing(parts={alice: (0, 4), bob: (4, 16)}, axis=1)\n",
    "# Alice holds the label.\n",
    "label = load_bank_marketing(parts={alice: (16, 17)}, axis=1)"
   ]
  },
  {
   "cell_type": "markdown",
   "metadata": {},
   "source": [
    "`data` is a vertically federated table. It only has the `Schema` of all the data globally."
   ]
  },
  {
   "cell_type": "markdown",
   "metadata": {},
   "source": [
    "Let's examine the data management of `VDF` more closely.\n",
    "\n",
    "As shown in the example, the `age` field belongs to `Alice`, so the corresponding column can be obtained from `Alice`'s partition. However, if `Bob` tries to obtain the `age` field, a `KeyError` error will be reported.\n",
    "\n",
    "We have a concept called Partition, which is a defined data fragment. Each partition has its own device to which it belongs, and only the device to which it belongs can operate on its data."
   ]
  },
  {
   "cell_type": "code",
   "execution_count": 469,
   "metadata": {},
   "outputs": [
    {
     "data": {
      "text/plain": [
       "<secretflow.device.device.pyu.PYUObject at 0x7f6d6a7bda00>"
      ]
     },
     "execution_count": 469,
     "metadata": {},
     "output_type": "execute_result"
    }
   ],
   "source": [
    "data['age'].partitions[alice].data"
   ]
  },
  {
   "cell_type": "code",
   "execution_count": 470,
   "metadata": {},
   "outputs": [],
   "source": [
    "# You can uncomment this and you will get a KeyError.\n",
    "# data['age'].partitions[bob]"
   ]
  },
  {
   "cell_type": "markdown",
   "metadata": {},
   "source": [
    "Next, we perform data preprocessing on the `VDataFrame`.   \n",
    "We use LabelEncoder and MinMaxScaler as examples. These two preprocessing functions have corresponding concepts in SkLearn, and their usage methods are similar to those in **sklearn**."
   ]
  },
  {
   "cell_type": "code",
   "execution_count": 471,
   "metadata": {},
   "outputs": [],
   "source": [
    "from secretflow.preprocessing.scaler import MinMaxScaler\n",
    "from secretflow.preprocessing.encoder import LabelEncoder"
   ]
  },
  {
   "cell_type": "code",
   "execution_count": 472,
   "metadata": {},
   "outputs": [
    {
     "name": "stdout",
     "output_type": "stream",
     "text": [
      "\u001b[2m\u001b[36m(SPURuntime pid=25362)\u001b[0m 2023-09-22 14:51:45.109 [info] [default_brpc_retry_policy.cc:DoRetry:52] socket error, sleep=1000000us and retry\n"
     ]
    }
   ],
   "source": [
    "encoder = LabelEncoder()\n",
    "data['job'] = encoder.fit_transform(data['job'])\n",
    "data['marital'] = encoder.fit_transform(data['marital'])\n",
    "data['education'] = encoder.fit_transform(data['education'])\n",
    "data['default'] = encoder.fit_transform(data['default'])\n",
    "data['housing'] = encoder.fit_transform(data['housing'])\n",
    "data['loan'] = encoder.fit_transform(data['loan'])\n",
    "data['contact'] = encoder.fit_transform(data['contact'])\n",
    "data['poutcome'] = encoder.fit_transform(data['poutcome'])\n",
    "data['month'] = encoder.fit_transform(data['month'])\n",
    "label = encoder.fit_transform(label)"
   ]
  },
  {
   "cell_type": "code",
   "execution_count": 473,
   "metadata": {},
   "outputs": [
    {
     "name": "stdout",
     "output_type": "stream",
     "text": [
      "label= <class 'secretflow.data.vertical.dataframe.VDataFrame'>,\n",
      "data = <class 'secretflow.data.vertical.dataframe.VDataFrame'>\n"
     ]
    }
   ],
   "source": [
    "print(f\"label= {type(label)},\\ndata = {type(data)}\")"
   ]
  },
  {
   "cell_type": "markdown",
   "metadata": {},
   "source": [
    "Standardize data via MinMaxScaler"
   ]
  },
  {
   "cell_type": "code",
   "execution_count": 474,
   "metadata": {},
   "outputs": [
    {
     "name": "stdout",
     "output_type": "stream",
     "text": [
      "\u001b[2m\u001b[36m(SPURuntime pid=25362)\u001b[0m 2023-09-22 14:51:46.109 [info] [default_brpc_retry_policy.cc:LogHttpDetail:29] cntl ErrorCode '112', http status code '200', response header '', error msg '[E111]Fail to connect Socket{id=0 addr=127.0.0.1:43875} (0x0x359a400): Connection refused [R1][E112]Not connected to 127.0.0.1:43875 yet, server_id=0'\n",
      "\u001b[2m\u001b[36m(SPURuntime pid=25362)\u001b[0m 2023-09-22 14:51:46.109 [info] [default_brpc_retry_policy.cc:DoRetry:75] aggressive retry, sleep=1000000us and retry\n"
     ]
    }
   ],
   "source": [
    "scaler = MinMaxScaler()\n",
    "\n",
    "data = scaler.fit_transform(data)"
   ]
  },
  {
   "cell_type": "markdown",
   "metadata": {},
   "source": [
    "Next we divide the data set into train-set and test-set, and change the default dtype (float64) to float32 to be the same as model parameters."
   ]
  },
  {
   "cell_type": "code",
   "execution_count": 475,
   "metadata": {},
   "outputs": [
    {
     "name": "stderr",
     "output_type": "stream",
     "text": [
      "\u001b[2m\u001b[36m(_run pid=24406)\u001b[0m /home/zhd/anaconda3/envs/sf-new/lib/python3.8/site-packages/sklearn/base.py:443: UserWarning: X has feature names, but MinMaxScaler was fitted without feature names\n",
      "\u001b[2m\u001b[36m(_run pid=24406)\u001b[0m   warnings.warn(\n",
      "\u001b[2m\u001b[36m(_run pid=24406)\u001b[0m /home/zhd/anaconda3/envs/sf-new/lib/python3.8/site-packages/sklearn/base.py:443: UserWarning: X has feature names, but MinMaxScaler was fitted without feature names\n",
      "\u001b[2m\u001b[36m(_run pid=24406)\u001b[0m   warnings.warn(\n"
     ]
    }
   ],
   "source": [
    "from secretflow.data.split import train_test_split\n",
    "random_state = 1234\n",
    "train_data,test_data = train_test_split(data, train_size=0.8, random_state=random_state)\n",
    "train_label,test_label = train_test_split(label, train_size=0.8, random_state=random_state)\n",
    "train_data=train_data.astype('float32')\n",
    "test_data=test_data.astype('float32')\n",
    "train_label=train_label.astype('float32')\n",
    "test_label=test_label.astype('float32')"
   ]
  },
  {
   "cell_type": "markdown",
   "metadata": {},
   "source": [
    "**Summary:** At this stage, we have finished defining `federated tables`, performing `data preprocessing`, and partitioning the `training set` and `test set`.\n",
    "The secretFlow framework defines a set of operations to be built on the federated table (which is the logical counterpart of `pandas.DataFrame`). The secretflow framework defines a set of operations to be built on the federated table (its logical counterpart is `sklearn`) Refer to our documentation and API introduction to learn more about other features."
   ]
  },
  {
   "cell_type": "markdown",
   "metadata": {},
   "source": [
    "## Introduce Model"
   ]
  },
  {
   "cell_type": "markdown",
   "metadata": {},
   "source": [
    "**local version**: \n",
    "For this task, a simple DNN can be trained to take in 16-dimensional features, process them through a neural network, and output the probability of positive and negative samples.\n",
    "\n",
    "\n",
    "**Federate version**:  \n",
    "\n",
    "* Alice:  \n",
    "\n",
    "    - base_net: Input 4-dimensional feature and go through a DNN network to get hidden.  \n",
    "    \n",
    "    - fuse_net: Receive hidden features calculated by Alice and Bob, input them to fusenet for feature fusion, and complete the forward process and backward process.  \n",
    "    \n",
    "* Bob:  \n",
    "\n",
    "    - base_net: Input 12-dimensional features, get hidden through a DNN network, and then send hidden to Alice to complete the following operation.  \n"
   ]
  },
  {
   "cell_type": "markdown",
   "metadata": {},
   "source": [
    "### Define Model"
   ]
  },
  {
   "cell_type": "markdown",
   "metadata": {},
   "source": [
    "Next, we will start creating the Split model.  \n",
    "\n",
    "We have defined the SLTFModel and SLTorchModel, which are used to build split learning for vertically partitioned data. We have also created a simple and easy-to-use extensible interface, allowing you to easily transform your existing model into an SF-Model and perform vertically partitioned federated modeling."
   ]
  },
  {
   "cell_type": "markdown",
   "metadata": {},
   "source": [
    "Split learning is to break up a model so that one part is executed locally on the data and the other part is executed on the label side.\n",
    "First let's define the locally executed model -- base_model."
   ]
  },
  {
   "cell_type": "code",
   "execution_count": 476,
   "metadata": {},
   "outputs": [],
   "source": [
    "from secretflow.ml.nn.utils import BaseModule\n",
    "import torch\n",
    "from torch import nn, optim\n",
    "from torchmetrics import Accuracy, Precision, AUROC\n",
    "from torchmetrics.classification import BinaryAccuracy,BinaryPrecision,BinaryAUROC\n",
    "from secretflow.device import reveal\n",
    "from secretflow.ml.nn import SLModel\n",
    "from secretflow.ml.nn.fl.utils import metric_wrapper, optim_wrapper\n",
    "from secretflow.ml.nn.utils import TorchModel\n",
    "from secretflow.utils.compressor import TopkSparse\n",
    "\n",
    "loss_fn=nn.BCELoss\n",
    "optim_fn = optim_wrapper(optim.Adam, lr=1e-2)\n",
    "\n",
    "class Base_Model_A(BaseModule):\n",
    "    def __init__(self):\n",
    "        super(Base_Model_A,self).__init__()\n",
    "        self.layer1=nn.Linear(in_features=4,out_features=100)\n",
    "        self.layer2=nn.ReLU()\n",
    "        self.layer3=nn.Linear(100,64)\n",
    "        self.layer4=nn.ReLU()\n",
    "    def forward(self, x):\n",
    "        x=self.layer1(x)\n",
    "        x=self.layer2(x)\n",
    "        x=self.layer3(x)\n",
    "        out=self.layer4(x)\n",
    "        return out\n",
    "    def output_num(self):\n",
    "        return 1\n",
    "class Base_Model_B(BaseModule):\n",
    "    def __init__(self):\n",
    "        super(Base_Model_B,self).__init__()\n",
    "        self.layer1=nn.Linear(in_features=12,out_features=100)\n",
    "        self.layer2=nn.ReLU()\n",
    "        self.layer3=nn.Linear(100,64)\n",
    "        self.layer4=nn.ReLU()\n",
    "    def forward(self, x):\n",
    "        x=self.layer1(x)\n",
    "        x=self.layer2(x)\n",
    "        x=self.layer3(x)\n",
    "        out=self.layer4(x)\n",
    "        return out\n",
    "    def output_num(self):\n",
    "        return 1\n",
    "\n",
    "\n",
    "model_base_alice = TorchModel(\n",
    "    model_fn=Base_Model_A,\n",
    "    loss_fn=loss_fn,\n",
    "    optim_fn=optim_fn,\n",
    ")\n",
    "model_base_bob = TorchModel(\n",
    "    model_fn=Base_Model_B,\n",
    "    loss_fn=loss_fn,\n",
    "    optim_fn=optim_fn,\n",
    ")\n",
    "\n"
   ]
  },
  {
   "cell_type": "code",
   "execution_count": 477,
   "metadata": {},
   "outputs": [
    {
     "data": {
      "text/plain": [
       "Base_Model_B(\n",
       "  (layer1): Linear(in_features=12, out_features=100, bias=True)\n",
       "  (layer2): ReLU()\n",
       "  (layer3): Linear(in_features=100, out_features=64, bias=True)\n",
       "  (layer4): ReLU()\n",
       ")"
      ]
     },
     "execution_count": 477,
     "metadata": {},
     "output_type": "execute_result"
    }
   ],
   "source": [
    "model_base_alice.model_fn()\n",
    "model_base_bob.model_fn()"
   ]
  },
  {
   "cell_type": "markdown",
   "metadata": {},
   "source": [
    "Next we define the side with the label, or the server-side model -- fuse_model."
   ]
  },
  {
   "cell_type": "code",
   "execution_count": 478,
   "metadata": {},
   "outputs": [],
   "source": [
    "class FuseModel(BaseModule):\n",
    "    def __init__(self):\n",
    "        super(FuseModel,self).__init__()\n",
    "        self.layer1=nn.Linear(in_features=128,out_features=64)\n",
    "        self.layer2=nn.ReLU()\n",
    "        self.layer3=nn.Linear(64,1)\n",
    "        self.layer4=nn.Sigmoid()\n",
    "    def forward(self, x):\n",
    "        x=torch.cat(x,dim=1)\n",
    "        x = x.view(-1, 128)\n",
    "        x=self.layer1(x)\n",
    "        x=self.layer2(x)\n",
    "        x=self.layer3(x)\n",
    "        out=self.layer4(x)\n",
    "        return out\n",
    "model_fuse = TorchModel(\n",
    "    model_fn=FuseModel,\n",
    "    loss_fn=loss_fn,\n",
    "    optim_fn=optim_fn,\n",
    "    metrics=[\n",
    "        metric_wrapper(BinaryAccuracy),\n",
    "        metric_wrapper(BinaryPrecision),\n",
    "        metric_wrapper(BinaryAUROC),\n",
    "    ],\n",
    ")"
   ]
  },
  {
   "cell_type": "code",
   "execution_count": 479,
   "metadata": {},
   "outputs": [
    {
     "data": {
      "text/plain": [
       "FuseModel(\n",
       "  (layer1): Linear(in_features=128, out_features=64, bias=True)\n",
       "  (layer2): ReLU()\n",
       "  (layer3): Linear(in_features=64, out_features=1, bias=True)\n",
       "  (layer4): Sigmoid()\n",
       ")"
      ]
     },
     "execution_count": 479,
     "metadata": {},
     "output_type": "execute_result"
    }
   ],
   "source": [
    "model_fuse.model_fn()"
   ]
  },
  {
   "cell_type": "markdown",
   "metadata": {},
   "source": [
    "### Create Split Learning Model  \n",
    "Secretflow provides the split learning model `SLModel`.  \n",
    "To initial SLModel only need 3 parameters.  \n",
    "\n",
    "* base_model_dict: A dictionary needs to be passed in all clients participating in the training along with base_model mappings  \n",
    "* device_y: PYU, which device has label  \n",
    "* model_fuse: The fusion model  "
   ]
  },
  {
   "cell_type": "markdown",
   "metadata": {},
   "source": [
    "Define base_model_dict.  \n",
    "```python\n",
    "base_model_dict:Dict[PYU,model_fn]\n",
    "```"
   ]
  },
  {
   "cell_type": "code",
   "execution_count": 480,
   "metadata": {},
   "outputs": [],
   "source": [
    "base_model_dict = {\n",
    "    alice: model_base_alice,\n",
    "    bob:   model_base_bob\n",
    "}"
   ]
  },
  {
   "cell_type": "code",
   "execution_count": 481,
   "metadata": {},
   "outputs": [],
   "source": [
    "from secretflow.security.privacy.mechanism.torch import GaussianEmbeddingDP\n",
    "from secretflow.security.privacy.mechanism.label_dp import LabelDP\n",
    "from secretflow.security.privacy import DPStrategy\n",
    "# # Define DP operations\n",
    "train_batch_size = 128\n",
    "dp_spent_step_freq = 10\n",
    "gaussian_embedding_dp = GaussianEmbeddingDP(\n",
    "    noise_multiplier=0.5,\n",
    "    l2_norm_clip=1.0,\n",
    "    batch_size=train_batch_size,\n",
    "    num_samples=train_data.values.partition_shape()[alice][0],\n",
    "    is_secure_generator=False,\n",
    ")\n",
    "dp_strategy_alice = DPStrategy(embedding_dp=gaussian_embedding_dp)\n",
    "label_dp = LabelDP(eps=64.0)\n",
    "dp_strategy_bob = DPStrategy(label_dp=label_dp)\n",
    "dp_strategy_dict = {\n",
    "    alice: dp_strategy_alice,\n",
    "    bob: dp_strategy_bob,\n",
    "}"
   ]
  },
  {
   "cell_type": "code",
   "execution_count": 482,
   "metadata": {},
   "outputs": [
    {
     "name": "stderr",
     "output_type": "stream",
     "text": [
      "INFO:root:Create proxy actor <class 'secretflow.ml.nn.sl.backend.torch.strategy.split_nn.PYUSLTorchModel'> with party alice.\n",
      "INFO:root:Create proxy actor <class 'secretflow.ml.nn.sl.backend.torch.strategy.split_nn.PYUSLTorchModel'> with party bob.\n"
     ]
    }
   ],
   "source": [
    "sl_model = SLModel(\n",
    "    base_model_dict=base_model_dict,\n",
    "    device_y=alice,\n",
    "    model_fuse=model_fuse,\n",
    "    dp_strategy_dict=dp_strategy_dict,\n",
    "    random_seed=random_state,\n",
    "    backend='torch')"
   ]
  },
  {
   "cell_type": "code",
   "execution_count": 483,
   "metadata": {},
   "outputs": [
    {
     "data": {
      "text/plain": [
       "(           age       job  marital  education\n",
       " 1426  0.279412  0.181818      0.5   0.333333\n",
       " 416   0.176471  0.636364      1.0   0.333333\n",
       " 3977  0.264706  0.000000      0.5   0.666667\n",
       " 2291  0.338235  0.000000      0.5   0.333333\n",
       " 257   0.132353  0.909091      1.0   0.333333\n",
       " ...        ...       ...      ...        ...\n",
       " 1508  0.264706  0.818182      1.0   0.333333\n",
       " 979   0.544118  0.090909      0.0   0.000000\n",
       " 3494  0.455882  0.090909      0.5   0.000000\n",
       " 42    0.485294  0.090909      0.5   0.333333\n",
       " 1386  0.455882  0.636364      0.5   0.333333\n",
       " \n",
       " [905 rows x 4 columns],\n",
       "         y\n",
       " 1426  0.0\n",
       " 416   0.0\n",
       " 3977  0.0\n",
       " 2291  0.0\n",
       " 257   0.0\n",
       " ...   ...\n",
       " 1508  0.0\n",
       " 979   0.0\n",
       " 3494  0.0\n",
       " 42    0.0\n",
       " 1386  0.0\n",
       " \n",
       " [905 rows x 1 columns])"
      ]
     },
     "execution_count": 483,
     "metadata": {},
     "output_type": "execute_result"
    }
   ],
   "source": [
    "sf.reveal(test_data.partitions[alice].data), sf.reveal(test_label.partitions[alice].data)"
   ]
  },
  {
   "cell_type": "code",
   "execution_count": 484,
   "metadata": {},
   "outputs": [
    {
     "data": {
      "text/plain": [
       "(           age       job  marital  education\n",
       " 1106  0.235294  0.090909      0.5   0.333333\n",
       " 1309  0.176471  0.363636      0.5   0.333333\n",
       " 2140  0.411765  0.272727      1.0   0.666667\n",
       " 2134  0.573529  0.454545      0.5   0.333333\n",
       " 960   0.485294  0.818182      0.5   0.333333\n",
       " ...        ...       ...      ...        ...\n",
       " 664   0.397059  0.090909      1.0   0.333333\n",
       " 3276  0.235294  0.181818      0.5   0.666667\n",
       " 1318  0.220588  0.818182      0.5   0.333333\n",
       " 723   0.220588  0.636364      0.5   0.333333\n",
       " 2863  0.176471  0.363636      1.0   0.666667\n",
       " \n",
       " [3616 rows x 4 columns],\n",
       "         y\n",
       " 1106  0.0\n",
       " 1309  0.0\n",
       " 2140  1.0\n",
       " 2134  0.0\n",
       " 960   0.0\n",
       " ...   ...\n",
       " 664   0.0\n",
       " 3276  0.0\n",
       " 1318  0.0\n",
       " 723   0.0\n",
       " 2863  0.0\n",
       " \n",
       " [3616 rows x 1 columns])"
      ]
     },
     "execution_count": 484,
     "metadata": {},
     "output_type": "execute_result"
    }
   ],
   "source": [
    "sf.reveal(train_data.partitions[alice].data), sf.reveal(\n",
    "    train_label.partitions[alice].data\n",
    ")"
   ]
  },
  {
   "cell_type": "code",
   "execution_count": 485,
   "metadata": {},
   "outputs": [
    {
     "name": "stderr",
     "output_type": "stream",
     "text": [
      "INFO:root:SL Train Params: {'x': VDataFrame(partitions={PYURuntime(alice): <secretflow.data.partition.pandas.partition.PdPartition object at 0x7f742aaf36a0>, PYURuntime(bob): <secretflow.data.partition.pandas.partition.PdPartition object at 0x7f742aaf37c0>}, aligned=True), 'y': VDataFrame(partitions={PYURuntime(alice): <secretflow.data.partition.pandas.partition.PdPartition object at 0x7f743ceeb730>}, aligned=True), 'batch_size': 128, 'epochs': 10, 'verbose': 1, 'callbacks': None, 'validation_data': (VDataFrame(partitions={PYURuntime(alice): <secretflow.data.partition.pandas.partition.PdPartition object at 0x7f737c25ad30>, PYURuntime(bob): <secretflow.data.partition.pandas.partition.PdPartition object at 0x7f742aaf3280>}, aligned=True), VDataFrame(partitions={PYURuntime(alice): <secretflow.data.partition.pandas.partition.PdPartition object at 0x7f737c1d99a0>}, aligned=True)), 'shuffle': True, 'sample_weight': None, 'validation_freq': 1, 'dp_spent_step_freq': 10, 'dataset_builder': None, 'audit_log_params': {}, 'random_seed': 22615, 'audit_log_dir': None, 'self': <secretflow.ml.nn.sl.sl_model.SLModel object at 0x7f6d12c7d730>}\n"
     ]
    },
    {
     "name": "stdout",
     "output_type": "stream",
     "text": [
      "\u001b[2m\u001b[36m(SPURuntime pid=25362)\u001b[0m 2023-09-22 14:51:47.109 [info] [default_brpc_retry_policy.cc:LogHttpDetail:29] cntl ErrorCode '112', http status code '200', response header '', error msg '[E111]Fail to connect Socket{id=0 addr=127.0.0.1:43875} (0x0x359a400): Connection refused [R1][E112]Not connected to 127.0.0.1:43875 yet, server_id=0 [R2][E112]Not connected to 127.0.0.1:43875 yet, server_id=0'\n",
      "\u001b[2m\u001b[36m(SPURuntime pid=25362)\u001b[0m 2023-09-22 14:51:47.109 [info] [default_brpc_retry_policy.cc:DoRetry:75] aggressive retry, sleep=1000000us and retry\n",
      "\u001b[2m\u001b[36m(SPURuntime pid=25361)\u001b[0m 2023-09-22 14:51:47.257 [info] [default_brpc_retry_policy.cc:DoRetry:69] not retry for reached rcp timeout, ErrorCode '1008', error msg '[E1008]Reached timeout=2000ms @127.0.0.1:41645'\n"
     ]
    },
    {
     "name": "stderr",
     "output_type": "stream",
     "text": [
      "\u001b[2m\u001b[36m(pid=25760)\u001b[0m 2023-09-22 14:51:49.494711: W tensorflow/compiler/xla/stream_executor/platform/default/dso_loader.cc:64] Could not load dynamic library 'libnvinfer.so.7'; dlerror: libnvinfer.so.7: cannot open shared object file: No such file or directory\n",
      "\u001b[2m\u001b[36m(pid=25760)\u001b[0m 2023-09-22 14:51:49.494840: W tensorflow/compiler/xla/stream_executor/platform/default/dso_loader.cc:64] Could not load dynamic library 'libnvinfer_plugin.so.7'; dlerror: libnvinfer_plugin.so.7: cannot open shared object file: No such file or directory\n",
      "\u001b[2m\u001b[36m(pid=25760)\u001b[0m 2023-09-22 14:51:49.494871: W tensorflow/compiler/tf2tensorrt/utils/py_utils.cc:38] TF-TRT Warning: Cannot dlopen some TensorRT libraries. If you would like to use Nvidia GPU with TensorRT, please make sure the missing libraries mentioned above are installed properly.\n",
      "\u001b[2m\u001b[36m(pid=25826)\u001b[0m 2023-09-22 14:51:49.809097: W tensorflow/compiler/xla/stream_executor/platform/default/dso_loader.cc:64] Could not load dynamic library 'libnvinfer.so.7'; dlerror: libnvinfer.so.7: cannot open shared object file: No such file or directory\n",
      "\u001b[2m\u001b[36m(pid=25826)\u001b[0m 2023-09-22 14:51:49.809218: W tensorflow/compiler/xla/stream_executor/platform/default/dso_loader.cc:64] Could not load dynamic library 'libnvinfer_plugin.so.7'; dlerror: libnvinfer_plugin.so.7: cannot open shared object file: No such file or directory\n",
      "\u001b[2m\u001b[36m(pid=25826)\u001b[0m 2023-09-22 14:51:49.809233: W tensorflow/compiler/tf2tensorrt/utils/py_utils.cc:38] TF-TRT Warning: Cannot dlopen some TensorRT libraries. If you would like to use Nvidia GPU with TensorRT, please make sure the missing libraries mentioned above are installed properly.\n",
      "  7%|▋         | 2/29 [00:00<00:03,  7.52it/s]\u001b[2m\u001b[36m(_run pid=24410)\u001b[0m 2023-09-22 14:51:53.278136: W tensorflow/compiler/xla/stream_executor/platform/default/dso_loader.cc:64] Could not load dynamic library 'libnvinfer.so.7'; dlerror: libnvinfer.so.7: cannot open shared object file: No such file or directory\n",
      "\u001b[2m\u001b[36m(_run pid=24410)\u001b[0m 2023-09-22 14:51:53.278241: W tensorflow/compiler/xla/stream_executor/platform/default/dso_loader.cc:64] Could not load dynamic library 'libnvinfer_plugin.so.7'; dlerror: libnvinfer_plugin.so.7: cannot open shared object file: No such file or directory\n",
      "\u001b[2m\u001b[36m(_run pid=24410)\u001b[0m 2023-09-22 14:51:53.278254: W tensorflow/compiler/tf2tensorrt/utils/py_utils.cc:38] TF-TRT Warning: Cannot dlopen some TensorRT libraries. If you would like to use Nvidia GPU with TensorRT, please make sure the missing libraries mentioned above are installed properly.\n",
      "100%|██████████| 29/29 [00:04<00:00, 15.01it/s]\u001b[2m\u001b[36m(PYUSLTorchModel pid=25760)\u001b[0m /home/zhd/anaconda3/envs/sf-new/lib/python3.8/site-packages/secretflow/ml/nn/sl/backend/torch/sl_base.py:631: UserWarning: The given NumPy array is not writable, and PyTorch does not support non-writable tensors. This means writing to this tensor will result in undefined behavior. You may want to copy the array to protect its data or make it writable before converting it to a tensor. This type of warning will be suppressed for the rest of this program. (Triggered internally at ../torch/csrc/utils/tensor_numpy.cpp:206.)\n",
      "\u001b[2m\u001b[36m(PYUSLTorchModel pid=25760)\u001b[0m   torch.as_tensor(e)\n",
      "100%|██████████| 29/29 [00:04<00:00,  6.76it/s, epoch: 1/10 -  train_loss:0.2193693369626999  train_BinaryAccuracy:0.86393803358078  train_BinaryPrecision:0.12931033968925476  train_BinaryAUROC:0.5634754300117493  val_val_loss:0.10952966660261154  val_BinaryAccuracy:0.8729282021522522  val_BinaryPrecision:0.0  val_BinaryAUROC:0.6685194969177246 ]\n",
      "100%|██████████| 29/29 [00:01<00:00, 20.16it/s, epoch: 2/10 -  train_loss:0.16102692484855652  train_BinaryAccuracy:0.8877212405204773  train_BinaryPrecision:0.0  train_BinaryAUROC:0.7879279255867004  val_val_loss:0.11199777573347092  val_BinaryAccuracy:0.8729282021522522  val_BinaryPrecision:0.0  val_BinaryAUROC:0.8015300035476685 ]\n",
      "100%|██████████| 29/29 [00:01<00:00, 19.19it/s, epoch: 3/10 -  train_loss:0.13319455087184906  train_BinaryAccuracy:0.8888274431228638  train_BinaryPrecision:1.0  train_BinaryAUROC:0.8632544875144958  val_val_loss:0.156966432929039  val_BinaryAccuracy:0.8751381039619446  val_BinaryPrecision:0.75  val_BinaryAUROC:0.8346945643424988 ]\n",
      "100%|██████████| 29/29 [00:01<00:00, 18.76it/s, epoch: 4/10 -  train_loss:0.11390005797147751  train_BinaryAccuracy:0.8962942361831665  train_BinaryPrecision:0.8780487775802612  train_BinaryAUROC:0.8759801983833313  val_val_loss:0.1649874448776245  val_BinaryAccuracy:0.8784530162811279  val_BinaryPrecision:0.6470588445663452  val_BinaryAUROC:0.833032488822937 ]\n",
      "100%|██████████| 29/29 [00:01<00:00, 17.89it/s, epoch: 5/10 -  train_loss:0.09847848117351532  train_BinaryAccuracy:0.90625  train_BinaryPrecision:0.7637795209884644  train_BinaryAUROC:0.8857940435409546  val_val_loss:0.1407732218503952  val_BinaryAccuracy:0.8806629776954651  val_BinaryPrecision:0.5945945978164673  val_BinaryAUROC:0.8345514535903931 ]\n",
      "100%|██████████| 29/29 [00:01<00:00, 23.32it/s, epoch: 6/10 -  train_loss:0.09079670161008835  train_BinaryAccuracy:0.9170354008674622  train_BinaryPrecision:0.7676767706871033  train_BinaryAUROC:0.9002448320388794  val_val_loss:0.144883930683136  val_BinaryAccuracy:0.8784530162811279  val_BinaryPrecision:0.5609756112098694  val_BinaryAUROC:0.8351678252220154 ]\n",
      "100%|██████████| 29/29 [00:01<00:00, 22.01it/s, epoch: 7/10 -  train_loss:0.06927887350320816  train_BinaryAccuracy:0.9278208017349243  train_BinaryPrecision:0.8310502171516418  train_BinaryAUROC:0.9177808165550232  val_val_loss:0.14574337005615234  val_BinaryAccuracy:0.8839778900146484  val_BinaryPrecision:0.6190476417541504  val_BinaryAUROC:0.8289487957954407 ]\n",
      "100%|██████████| 29/29 [00:01<00:00, 25.67it/s, epoch: 8/10 -  train_loss:0.05875682458281517  train_BinaryAccuracy:0.9419247508049011  train_BinaryPrecision:0.9188033938407898  train_BinaryAUROC:0.9356167912483215  val_val_loss:0.1299397349357605  val_BinaryAccuracy:0.8839778900146484  val_BinaryPrecision:0.625  val_BinaryAUROC:0.826912522315979 ]\n",
      "100%|██████████| 29/29 [00:01<00:00, 26.10it/s, epoch: 9/10 -  train_loss:0.04141267016530037  train_BinaryAccuracy:0.9535398483276367  train_BinaryPrecision:0.9576923251152039  train_BinaryAUROC:0.9533968567848206  val_val_loss:0.19097259640693665  val_BinaryAccuracy:0.8828729391098022  val_BinaryPrecision:0.5957446694374084  val_BinaryAUROC:0.8163895606994629 ]\n",
      "100%|██████████| 29/29 [00:01<00:00, 27.62it/s, epoch: 10/10 -  train_loss:0.04093027487397194  train_BinaryAccuracy:0.9640486836433411  train_BinaryPrecision:0.9758620858192444  train_BinaryAUROC:0.9654273986816406  val_val_loss:0.09414755553007126  val_BinaryAccuracy:0.8773480653762817  val_BinaryPrecision:0.550000011920929  val_BinaryAUROC:0.7899174094200134 ]\n"
     ]
    }
   ],
   "source": [
    "history = sl_model.fit(\n",
    "    train_data,\n",
    "    train_label,\n",
    "    validation_data=(test_data,test_label),\n",
    "    epochs=10,\n",
    "    batch_size=train_batch_size,\n",
    "    shuffle=True,\n",
    "    verbose=1,\n",
    "    validation_freq=1,\n",
    "    dp_spent_step_freq=dp_spent_step_freq,\n",
    ")"
   ]
  },
  {
   "cell_type": "markdown",
   "metadata": {},
   "source": [
    "Let's visualize the training process"
   ]
  },
  {
   "cell_type": "code",
   "execution_count": 486,
   "metadata": {},
   "outputs": [
    {
     "data": {
      "image/png": "[encoded data removed]",
      "text/plain": [
       "<Figure size 640x480 with 1 Axes>"
      ]
     },
     "metadata": {},
     "output_type": "display_data"
    }
   ],
   "source": [
    "# Plot the change of loss during training\n",
    "plt.plot(history['train_loss'])\n",
    "plt.plot(history['val_val_loss'])\n",
    "plt.title('Model loss')\n",
    "plt.ylabel('Loss')\n",
    "plt.xlabel('Epoch')\n",
    "plt.legend(['Train','Val'], loc='upper right')\n",
    "plt.show()"
   ]
  },
  {
   "cell_type": "code",
   "execution_count": 487,
   "metadata": {},
   "outputs": [
    {
     "data": {
      "image/png": "[encoded data removed]",
      "text/plain": [
       "<Figure size 640x480 with 1 Axes>"
      ]
     },
     "metadata": {},
     "output_type": "display_data"
    }
   ],
   "source": [
    "# Plot the change of accuracy during training\n",
    "plt.plot(history['train_BinaryAccuracy'])\n",
    "plt.plot(history['val_BinaryAccuracy'])\n",
    "plt.title('Model accuracy')\n",
    "plt.ylabel('Accuracy')\n",
    "plt.xlabel('Epoch')\n",
    "plt.legend(['Train', 'Val'], loc='upper left')\n",
    "plt.show()"
   ]
  },
  {
   "cell_type": "code",
   "execution_count": 488,
   "metadata": {},
   "outputs": [
    {
     "data": {
      "image/png": "[encoded data removed]",
      "text/plain": [
       "<Figure size 640x480 with 1 Axes>"
      ]
     },
     "metadata": {},
     "output_type": "display_data"
    }
   ],
   "source": [
    "# Plot the change of precision during training\n",
    "plt.plot(history['train_BinaryPrecision'])\n",
    "plt.plot(history['val_BinaryPrecision'])\n",
    "plt.title('Model precision')\n",
    "plt.ylabel('Precision')\n",
    "plt.xlabel('Epoch')\n",
    "plt.legend(['Train', 'Val'], loc='upper left')\n",
    "plt.show()"
   ]
  },
  {
   "cell_type": "code",
   "execution_count": 489,
   "metadata": {},
   "outputs": [
    {
     "data": {
      "image/png": "[encoded data removed]",
      "text/plain": [
       "<Figure size 640x480 with 1 Axes>"
      ]
     },
     "metadata": {},
     "output_type": "display_data"
    }
   ],
   "source": [
    "# Plot the Area Under Curve(AUC) of loss during training\n",
    "plt.plot(history['train_BinaryAUROC'])\n",
    "plt.plot(history['val_BinaryAUROC'])\n",
    "plt.title('Model Area Under Curve')\n",
    "plt.ylabel('Area Under Curve')\n",
    "plt.xlabel('Epoch')\n",
    "plt.legend(['Train', 'Val'], loc='upper left')\n",
    "plt.show()"
   ]
  },
  {
   "cell_type": "code",
   "execution_count": 490,
   "metadata": {},
   "outputs": [
    {
     "name": "stderr",
     "output_type": "stream",
     "text": [
      "Evaluate Processing:: 100%|██████████| 8/8 [00:00<00:00, 110.04it/s, val_loss:0.18039482831954956 BinaryAccuracy:0.8662983179092407 BinaryPrecision:0.43478259444236755 BinaryAUROC:0.7920967936515808]\n"
     ]
    }
   ],
   "source": [
    "global_metric = sl_model.evaluate(test_data, test_label, batch_size=128)"
   ]
  },
  {
   "cell_type": "markdown",
   "metadata": {},
   "source": [
    "## Compare to local model"
   ]
  },
  {
   "cell_type": "markdown",
   "metadata": {},
   "source": [
    "#### Model  \n",
    "Here, we use the same model structure as the one used in the split learning example, but only the model structure for Alice is used in this case. The code for defining the model is shown below.  \n",
    "#### Data  \n",
    "The data also use kaggle's anti-fraud data. Here, we just use Alice's data of the new bank.  \n",
    "1. The total sample size was 11162, including 8929 training set and 2233 test set.  \n",
    "2. The feature dimension is 4.  "
   ]
  },
  {
   "cell_type": "code",
   "execution_count": 491,
   "metadata": {},
   "outputs": [],
   "source": [
    "class Single_Model(BaseModule):\n",
    "    def __init__(self):\n",
    "        super(Single_Model,self).__init__()\n",
    "        self.layer1=nn.Linear(4,100)\n",
    "        self.layer2=nn.ReLU()\n",
    "        self.layer3=nn.Linear(100,64)\n",
    "        self.layer4=nn.ReLU()\n",
    "        self.layer5=nn.Linear(64,64)\n",
    "        self.layer6=nn.ReLU()\n",
    "        self.layer7=nn.Linear(64,1)\n",
    "        self.layer8=nn.Sigmoid()\n",
    "        \n",
    "        \n",
    "    def forward(self, x):\n",
    "        x=self.layer1(x)\n",
    "        x=self.layer2(x)\n",
    "        x=self.layer3(x)\n",
    "        x=self.layer4(x)\n",
    "        x=self.layer5(x)\n",
    "        x=self.layer6(x)\n",
    "        x=self.layer7(x)\n",
    "        out=self.layer8(x)\n",
    "        return out\n",
    "\n",
    "single_model=Single_Model()"
   ]
  },
  {
   "cell_type": "markdown",
   "metadata": {},
   "source": [
    "Data process"
   ]
  },
  {
   "cell_type": "code",
   "execution_count": 492,
   "metadata": {},
   "outputs": [],
   "source": [
    "import pandas as pd\n",
    "from sklearn.model_selection import train_test_split\n",
    "from sklearn.preprocessing import MinMaxScaler\n",
    "from sklearn.preprocessing import LabelEncoder\n",
    "\n",
    "encoder = LabelEncoder()\n",
    "single_part_data = alice_data.copy()\n",
    "\n",
    "single_part_data['job'] = encoder.fit_transform(alice_data['job'])\n",
    "single_part_data['marital'] = encoder.fit_transform(alice_data['marital'])\n",
    "single_part_data['education'] = encoder.fit_transform(alice_data['education'])\n",
    "single_part_data['y'] = encoder.fit_transform(alice_data['y'])"
   ]
  },
  {
   "cell_type": "code",
   "execution_count": 493,
   "metadata": {},
   "outputs": [],
   "source": [
    "y = single_part_data['y']\n",
    "alice_data = single_part_data.drop(columns=['y'], inplace=False)"
   ]
  },
  {
   "cell_type": "code",
   "execution_count": 494,
   "metadata": {},
   "outputs": [],
   "source": [
    "scaler = MinMaxScaler()\n",
    "alice_data = scaler.fit_transform(alice_data)"
   ]
  },
  {
   "cell_type": "code",
   "execution_count": 495,
   "metadata": {},
   "outputs": [],
   "source": [
    "train_data, test_data = train_test_split(\n",
    "    alice_data, train_size=0.8, random_state=random_state\n",
    ")\n",
    "train_label, test_label = train_test_split(y, train_size=0.8, random_state=random_state)\n",
    "train_data=train_data.astype('float32')\n",
    "test_data=test_data.astype('float32')\n",
    "train_label=train_label.astype('float32')\n",
    "test_label=test_label.astype('float32')"
   ]
  },
  {
   "cell_type": "code",
   "execution_count": 496,
   "metadata": {},
   "outputs": [],
   "source": [
    "from torch.utils.data import Dataset,DataLoader\n",
    "\n",
    "class Bank_Dataset(Dataset):\n",
    "    def __init__(self,data,label):\n",
    "        self.data=data\n",
    "        self.label=label\n",
    "    def __len__(self):\n",
    "        return len(self.label)\n",
    "    def __getitem__(self,index):\n",
    "        return self.data[index],self.label.iloc[index]\n",
    "\n",
    "\n",
    "train_dataset=Bank_Dataset(train_data,train_label)\n",
    "test_dataset=Bank_Dataset(test_data,test_label)\n",
    "train_dataloader=DataLoader(train_dataset,batch_size=128)\n",
    "test_dataloader=DataLoader(test_dataset,batch_size=128)\n"
   ]
  },
  {
   "cell_type": "code",
   "execution_count": 497,
   "metadata": {},
   "outputs": [],
   "source": [
    "optimizer=torch.optim.Adam(single_model.parameters(),lr=1e-2)\n",
    "loss_fn=nn.BCELoss()\n",
    "train_losses=[]\n",
    "train_accs=[]\n",
    "val_losses=[]\n",
    "val_accs=[]\n",
    "for epoch in range(10):\n",
    "    single_model.train()\n",
    "    train_loss=[]\n",
    "    train_acc=[]\n",
    "    for batch in train_dataloader:\n",
    "        data,label=batch\n",
    "        pred=single_model(data)\n",
    "        pred=pred.squeeze()\n",
    "        # print(pred.shape)\n",
    "        \n",
    "        loss=loss_fn(pred,label)\n",
    "        optimizer.zero_grad()\n",
    "        loss.backward()\n",
    "        optimizer.step()\n",
    "        predict = torch.where(pred>0.5,torch.ones_like(pred),torch.zeros_like(pred))\n",
    "        acc=(predict==label).float().mean()\n",
    "        train_loss.append(loss.item())\n",
    "        train_acc.append(acc)\n",
    "    train_loss=sum(train_loss)/len(train_loss)\n",
    "    train_acc=sum(train_acc)/len(train_acc)\n",
    "    train_losses.append(train_loss)\n",
    "    train_accs.append(train_acc)\n",
    "    single_model.eval()\n",
    "    val_loss=[]\n",
    "    val_acc=[]\n",
    "    for batch in test_dataloader:\n",
    "        data,label=batch\n",
    "        pred=single_model(data)\n",
    "        pred=pred.squeeze()\n",
    "        loss=loss_fn(pred,label)\n",
    "        predict = torch.where(pred>0.5,torch.ones_like(pred),torch.zeros_like(pred))\n",
    "        acc=(predict==label).float().mean()\n",
    "        val_loss.append(loss.item())\n",
    "        val_acc.append(acc)\n",
    "    val_loss=sum(val_loss)/len(val_loss)\n",
    "    val_acc=sum(val_acc)/len(val_acc)\n",
    "    val_losses.append(val_loss)\n",
    "    val_accs.append(val_acc)\n",
    "\n",
    "        "
   ]
  },
  {
   "cell_type": "code",
   "execution_count": 498,
   "metadata": {},
   "outputs": [
    {
     "data": {
      "image/png": "[encoded data removed]",
      "text/plain": [
       "<Figure size 640x480 with 1 Axes>"
      ]
     },
     "metadata": {},
     "output_type": "display_data"
    }
   ],
   "source": [
    "# single_model.evaluate(test_data, test_label, batch_size=128)\n",
    "plt.plot(train_losses)\n",
    "plt.plot(val_losses)\n",
    "plt.title('Model precision')\n",
    "plt.ylabel('Precision')\n",
    "plt.xlabel('Epoch')\n",
    "plt.legend(['Train', 'Val'], loc='upper left')\n",
    "plt.show()"
   ]
  },
  {
   "cell_type": "code",
   "execution_count": 499,
   "metadata": {},
   "outputs": [
    {
     "data": {
      "image/png": "[encoded data removed]",
      "text/plain": [
       "<Figure size 640x480 with 1 Axes>"
      ]
     },
     "metadata": {},
     "output_type": "display_data"
    }
   ],
   "source": [
    "# single_model.evaluate(test_data, test_label, batch_size=128)\n",
    "plt.plot(train_accs)\n",
    "plt.plot(val_accs)\n",
    "plt.title('Model precision')\n",
    "plt.ylabel('Precision')\n",
    "plt.xlabel('Epoch')\n",
    "plt.legend(['Train', 'Val'], loc='upper left')\n",
    "plt.show()"
   ]
  },
  {
   "cell_type": "markdown",
   "metadata": {},
   "source": [
    "## Conclusion"
   ]
  },
  {
   "cell_type": "markdown",
   "metadata": {},
   "source": [
    "* This tutorial introduces what is split learning and how to do it in secretFlow.  \n",
    "* It can be seen from the experimental data that split learning has significant advantages in expanding sample dimension and improving model effect through joint multi-party training.\n",
    "* This tutorial uses plaintext aggregation to demonstrate, without considering the leakage problem of hidden layer. Secretflow provides AggLayer to avoid the leakage problem of hidden layer plaintext transmission through MPC,TEE,HE, and DP. If you are interested, please refer to relevant documents.\n",
    "* Next, you may want to try different data sets, you need to vertically shard the data first and then follow the flow of this tutorial.\n"
   ]
  },
  {
   "cell_type": "markdown",
   "metadata": {},
   "source": [
    "## Acknowledgement\n",
    "This work is finished by @dongdongzhaoUP with the help of @zhangxingmeng ."
   ]
  }
 ],
 "metadata": {
  "kernelspec": {
   "display_name": "sfmod",
   "language": "python",
   "name": "python3"
  },
  "language_info": {
   "codemirror_mode": {
    "name": "ipython",
    "version": 3
   },
   "file_extension": ".py",
   "mimetype": "text/x-python",
   "name": "python",
   "nbconvert_exporter": "python",
   "pygments_lexer": "ipython3",
   "version": "3.8.18"
  },
  "orig_nbformat": 4
 },
 "nbformat": 4,
 "nbformat_minor": 2
}
